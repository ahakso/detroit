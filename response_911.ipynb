{
 "cells": [
  {
   "cell_type": "markdown",
   "id": "e9c1a564",
   "metadata": {},
   "source": [
    "# Overview\n",
    "Tons of datasets by block through the census [here](https://data.census.gov/cedsci/table?q=United%20States&g=0500000US26163%241000000)\n",
    "\n",
    "For the population used here, search DECENNIALSF12010.P10\n",
    "\n",
    "# Status \n",
    "Some anomalies. 1/3 of blocks have 0 population. 2/3 of block ids with calls are null when joining on block_id between 911 calls and population data. previous work in [census_blocks](./census_blocks.ipynb) has shown call block ids to be good, so must be something funky with the census one. There are tons of other census data sets though, this is just the first I grabbed\n",
    "\n",
    "Also, using floats instead of pd.Int64Dtype for block ids because pandas coerces it to something else when you group on it if it's pd.Int64Dtype()"
   ]
  },
  {
   "cell_type": "code",
   "execution_count": 2,
   "id": "e24e72de",
   "metadata": {
    "ExecuteTime": {
     "end_time": "2022-02-10T22:21:58.879648Z",
     "start_time": "2022-02-10T22:21:58.500439Z"
    }
   },
   "outputs": [],
   "source": [
    "import geopandas as gpd\n",
    "from util_detroit import kml_to_gpd, csv_with_x_y_to_gpd\n",
    "import re\n",
    "import time\n",
    "\n",
    "pd.options.display.max_rows = 300\n",
    "\n",
    "# Only read in the columns we want\n",
    "COLS_911 = [\n",
    "    \"calldescription\",\n",
    "    \"call_timestamp\", \n",
    "    \"block_id\",\n",
    "    \"category\",\n",
    "    \"officerinitiated\",\n",
    "    \"priority\",\n",
    "    \"oid\",\n",
    "    \"longitude\",\n",
    "    \"latitude\",\n",
    "]\n",
    "TYPES_911 = [str, str, float, str, str, str, int, float, float]"
   ]
  },
  {
   "cell_type": "code",
   "execution_count": 3,
   "id": "8005c1a6",
   "metadata": {
    "ExecuteTime": {
     "end_time": "2022-02-10T22:22:04.865305Z",
     "start_time": "2022-02-10T22:22:04.842596Z"
    }
   },
   "outputs": [],
   "source": [
    "# violent\n",
    "close_proxy = ['ASSAULT','SHOTS','SHOOTING','CUTTING','HOLD UP','WEAP','ROBBERY ARMED','VIOLENT - ARMED','RAPE','STABBED','SHOT']\n",
    "near_proxy = ['WITH WEAPON','DV','ABUSE','BREAKING AND ENTERING','BREAKING & ENTERING']\n",
    "expr = re.compile('|'.join(close_proxy))"
   ]
  },
  {
   "cell_type": "code",
   "execution_count": 4,
   "id": "faf21e9a",
   "metadata": {
    "ExecuteTime": {
     "end_time": "2022-02-10T22:22:06.876519Z",
     "start_time": "2022-02-10T22:22:05.363463Z"
    }
   },
   "outputs": [],
   "source": [
    "# use a generator function to select rows we want in chunks rather than loading everything into memory at once\n",
    "generator = pd.read_csv(\n",
    "    \"calls_for_service_from_jimmy.csv\",\n",
    "    nrows=100000,\n",
    "    usecols=COLS_911,\n",
    "    parse_dates=[\"call_timestamp\"],\n",
    "    chunksize=1e4,\n",
    "    dtype=dict(zip(COLS_911, TYPES_911)),\n",
    ")\n",
    "\n",
    "call = (\n",
    "    pd.concat(\n",
    "        [x.loc[lambda x: x.calldescription.str.contains(expr)] for x in generator],\n",
    "        ignore_index=True,\n",
    "    )\n",
    ")\n",
    "\n",
    "call = gpd.GeoDataFrame(call,geometry=gpd.points_from_xy(call.longitude,call.latitude),crs='epsg:4327')\n",
    "# Remove some stray data points that are very far away in the same location\n",
    "call = call.loc[call.longitude > -83.4]"
   ]
  },
  {
   "cell_type": "code",
   "execution_count": 6,
   "id": "2115baca",
   "metadata": {
    "ExecuteTime": {
     "end_time": "2022-02-10T22:23:08.757232Z",
     "start_time": "2022-02-10T22:23:08.048411Z"
    }
   },
   "outputs": [],
   "source": [
    "from detroit_geos import get_detroit_census_blocks\n",
    "blocks = get_detroit_census_blocks(2020)"
   ]
  },
  {
   "cell_type": "code",
   "execution_count": 10,
   "id": "01a06a02",
   "metadata": {
    "ExecuteTime": {
     "end_time": "2022-02-10T22:25:42.072850Z",
     "start_time": "2022-02-10T22:25:42.018206Z"
    }
   },
   "outputs": [
    {
     "data": {
      "text/html": [
       "<div>\n",
       "<style scoped>\n",
       "    .dataframe tbody tr th:only-of-type {\n",
       "        vertical-align: middle;\n",
       "    }\n",
       "\n",
       "    .dataframe tbody tr th {\n",
       "        vertical-align: top;\n",
       "    }\n",
       "\n",
       "    .dataframe thead th {\n",
       "        text-align: right;\n",
       "    }\n",
       "</style>\n",
       "<table border=\"1\" class=\"dataframe\">\n",
       "  <thead>\n",
       "    <tr style=\"text-align: right;\">\n",
       "      <th></th>\n",
       "      <th>block_id</th>\n",
       "      <th>geometry</th>\n",
       "    </tr>\n",
       "  </thead>\n",
       "  <tbody>\n",
       "    <tr>\n",
       "      <th>0</th>\n",
       "      <td>261635402003021</td>\n",
       "      <td>POLYGON ((-83.20635 42.43212, -83.20532 42.432...</td>\n",
       "    </tr>\n",
       "    <tr>\n",
       "      <th>1</th>\n",
       "      <td>261635265002009</td>\n",
       "      <td>POLYGON ((-83.13988 42.35045, -83.13828 42.350...</td>\n",
       "    </tr>\n",
       "    <tr>\n",
       "      <th>2</th>\n",
       "      <td>261635043002003</td>\n",
       "      <td>POLYGON ((-82.98475 42.41028, -82.98204 42.411...</td>\n",
       "    </tr>\n",
       "    <tr>\n",
       "      <th>3</th>\n",
       "      <td>261635175002005</td>\n",
       "      <td>POLYGON ((-83.06146 42.35271, -83.05955 42.353...</td>\n",
       "    </tr>\n",
       "    <tr>\n",
       "      <th>4</th>\n",
       "      <td>261635180002028</td>\n",
       "      <td>POLYGON ((-83.06367 42.35998, -83.06137 42.360...</td>\n",
       "    </tr>\n",
       "  </tbody>\n",
       "</table>\n",
       "</div>"
      ],
      "text/plain": [
       "          block_id                                           geometry\n",
       "0  261635402003021  POLYGON ((-83.20635 42.43212, -83.20532 42.432...\n",
       "1  261635265002009  POLYGON ((-83.13988 42.35045, -83.13828 42.350...\n",
       "2  261635043002003  POLYGON ((-82.98475 42.41028, -82.98204 42.411...\n",
       "3  261635175002005  POLYGON ((-83.06146 42.35271, -83.05955 42.353...\n",
       "4  261635180002028  POLYGON ((-83.06367 42.35998, -83.06137 42.360..."
      ]
     },
     "execution_count": 10,
     "metadata": {},
     "output_type": "execute_result"
    }
   ],
   "source": [
    "blocks.head()"
   ]
  },
  {
   "cell_type": "code",
   "execution_count": 17,
   "id": "2518be9e",
   "metadata": {
    "ExecuteTime": {
     "end_time": "2022-02-10T22:27:05.245569Z",
     "start_time": "2022-02-10T22:27:05.220318Z"
    }
   },
   "outputs": [
    {
     "data": {
      "text/plain": [
       "(7612, 10)"
      ]
     },
     "execution_count": 17,
     "metadata": {},
     "output_type": "execute_result"
    }
   ],
   "source": [
    "call.shape"
   ]
  },
  {
   "cell_type": "code",
   "execution_count": 18,
   "id": "097e6531",
   "metadata": {
    "ExecuteTime": {
     "end_time": "2022-02-10T22:35:59.003057Z",
     "start_time": "2022-02-10T22:35:58.858107Z"
    }
   },
   "outputs": [
    {
     "data": {
      "text/html": [
       "<div>\n",
       "<style scoped>\n",
       "    .dataframe tbody tr th:only-of-type {\n",
       "        vertical-align: middle;\n",
       "    }\n",
       "\n",
       "    .dataframe tbody tr th {\n",
       "        vertical-align: top;\n",
       "    }\n",
       "\n",
       "    .dataframe thead th {\n",
       "        text-align: right;\n",
       "    }\n",
       "</style>\n",
       "<table border=\"1\" class=\"dataframe\">\n",
       "  <thead>\n",
       "    <tr style=\"text-align: right;\">\n",
       "      <th></th>\n",
       "      <th>priority</th>\n",
       "      <th>calldescription</th>\n",
       "      <th>category</th>\n",
       "      <th>call_timestamp</th>\n",
       "      <th>officerinitiated</th>\n",
       "      <th>block_id</th>\n",
       "      <th>longitude</th>\n",
       "      <th>latitude</th>\n",
       "      <th>oid</th>\n",
       "      <th>geometry</th>\n",
       "    </tr>\n",
       "  </thead>\n",
       "  <tbody>\n",
       "    <tr>\n",
       "      <th>0</th>\n",
       "      <td>1</td>\n",
       "      <td>FELONIOUS ASSAULT IP</td>\n",
       "      <td>FA IP</td>\n",
       "      <td>2020-06-25 10:53:47-04:04</td>\n",
       "      <td>No</td>\n",
       "      <td>2.616355e+14</td>\n",
       "      <td>-83.219314</td>\n",
       "      <td>42.336093</td>\n",
       "      <td>3079341</td>\n",
       "      <td>POINT (-83.21931 42.33609)</td>\n",
       "    </tr>\n",
       "    <tr>\n",
       "      <th>1</th>\n",
       "      <td>2</td>\n",
       "      <td>ASSAULT AND BATTERY IP-JH</td>\n",
       "      <td>AB IP/JH</td>\n",
       "      <td>2020-06-25 10:56:22-04:04</td>\n",
       "      <td>No</td>\n",
       "      <td>2.616354e+14</td>\n",
       "      <td>-83.142711</td>\n",
       "      <td>42.409890</td>\n",
       "      <td>3079346</td>\n",
       "      <td>POINT (-83.14271 42.40989)</td>\n",
       "    </tr>\n",
       "    <tr>\n",
       "      <th>3</th>\n",
       "      <td>1</td>\n",
       "      <td>FELONIOUS ASSAULT IP</td>\n",
       "      <td>FA IP</td>\n",
       "      <td>2020-06-25 11:10:09-04:04</td>\n",
       "      <td>No</td>\n",
       "      <td>2.616351e+14</td>\n",
       "      <td>-82.956673</td>\n",
       "      <td>42.392132</td>\n",
       "      <td>3079387</td>\n",
       "      <td>POINT (-82.95667 42.39213)</td>\n",
       "    </tr>\n",
       "    <tr>\n",
       "      <th>4</th>\n",
       "      <td>1</td>\n",
       "      <td>SHOOTING/CUTTING/PENT WOUND</td>\n",
       "      <td>GSWCUT</td>\n",
       "      <td>2020-06-25 11:12:11-04:04</td>\n",
       "      <td>No</td>\n",
       "      <td>2.616354e+14</td>\n",
       "      <td>-83.133122</td>\n",
       "      <td>42.422717</td>\n",
       "      <td>3079399</td>\n",
       "      <td>POINT (-83.13312 42.42272)</td>\n",
       "    </tr>\n",
       "    <tr>\n",
       "      <th>5</th>\n",
       "      <td>2</td>\n",
       "      <td>ASSAULT AND BATTERY IP-JH</td>\n",
       "      <td>AB IP/JH</td>\n",
       "      <td>2020-06-25 11:26:21-04:04</td>\n",
       "      <td>No</td>\n",
       "      <td>2.616353e+14</td>\n",
       "      <td>-83.081742</td>\n",
       "      <td>42.382823</td>\n",
       "      <td>3079453</td>\n",
       "      <td>POINT (-83.08174 42.38282)</td>\n",
       "    </tr>\n",
       "    <tr>\n",
       "      <th>...</th>\n",
       "      <td>...</td>\n",
       "      <td>...</td>\n",
       "      <td>...</td>\n",
       "      <td>...</td>\n",
       "      <td>...</td>\n",
       "      <td>...</td>\n",
       "      <td>...</td>\n",
       "      <td>...</td>\n",
       "      <td>...</td>\n",
       "      <td>...</td>\n",
       "    </tr>\n",
       "    <tr>\n",
       "      <th>7649</th>\n",
       "      <td>2</td>\n",
       "      <td>ASSAULT AND BATTERY IP-JH</td>\n",
       "      <td>AB IP/JH</td>\n",
       "      <td>2020-08-02 13:53:51-04:04</td>\n",
       "      <td>No</td>\n",
       "      <td>2.616353e+14</td>\n",
       "      <td>-83.133705</td>\n",
       "      <td>42.333490</td>\n",
       "      <td>3179312</td>\n",
       "      <td>POINT (-83.13371 42.33349)</td>\n",
       "    </tr>\n",
       "    <tr>\n",
       "      <th>7650</th>\n",
       "      <td>4</td>\n",
       "      <td>ASSAULT AND BATTERY REPORT</td>\n",
       "      <td>ABRPT</td>\n",
       "      <td>2020-08-02 13:59:47-04:04</td>\n",
       "      <td>No</td>\n",
       "      <td>2.616354e+14</td>\n",
       "      <td>-83.264705</td>\n",
       "      <td>42.412847</td>\n",
       "      <td>3179318</td>\n",
       "      <td>POINT (-83.26470 42.41285)</td>\n",
       "    </tr>\n",
       "    <tr>\n",
       "      <th>7651</th>\n",
       "      <td>1</td>\n",
       "      <td>HOLD UP ALARM AND MOW</td>\n",
       "      <td>HOLDUP</td>\n",
       "      <td>2020-08-02 14:09:21-04:04</td>\n",
       "      <td>No</td>\n",
       "      <td>2.616351e+14</td>\n",
       "      <td>-83.076906</td>\n",
       "      <td>42.425739</td>\n",
       "      <td>3179329</td>\n",
       "      <td>POINT (-83.07691 42.42574)</td>\n",
       "    </tr>\n",
       "    <tr>\n",
       "      <th>7652</th>\n",
       "      <td>1</td>\n",
       "      <td>FELONIOUS ASSAULT IP</td>\n",
       "      <td>FA IP</td>\n",
       "      <td>2020-08-02 14:22:14-04:04</td>\n",
       "      <td>No</td>\n",
       "      <td>2.616354e+14</td>\n",
       "      <td>-83.161531</td>\n",
       "      <td>42.388446</td>\n",
       "      <td>3179350</td>\n",
       "      <td>POINT (-83.16153 42.38845)</td>\n",
       "    </tr>\n",
       "    <tr>\n",
       "      <th>7653</th>\n",
       "      <td>2</td>\n",
       "      <td>ASSAULT AND BATTERY IP-JH</td>\n",
       "      <td>AB IP/JH</td>\n",
       "      <td>2020-08-02 14:29:17-04:04</td>\n",
       "      <td>No</td>\n",
       "      <td>2.616350e+14</td>\n",
       "      <td>-83.002654</td>\n",
       "      <td>42.445361</td>\n",
       "      <td>3179359</td>\n",
       "      <td>POINT (-83.00265 42.44536)</td>\n",
       "    </tr>\n",
       "  </tbody>\n",
       "</table>\n",
       "<p>7612 rows × 10 columns</p>\n",
       "</div>"
      ],
      "text/plain": [
       "     priority              calldescription  category  \\\n",
       "0           1         FELONIOUS ASSAULT IP  FA IP      \n",
       "1           2    ASSAULT AND BATTERY IP-JH  AB IP/JH   \n",
       "3           1         FELONIOUS ASSAULT IP  FA IP      \n",
       "4           1  SHOOTING/CUTTING/PENT WOUND  GSWCUT     \n",
       "5           2    ASSAULT AND BATTERY IP-JH  AB IP/JH   \n",
       "...       ...                          ...       ...   \n",
       "7649        2    ASSAULT AND BATTERY IP-JH  AB IP/JH   \n",
       "7650        4   ASSAULT AND BATTERY REPORT  ABRPT      \n",
       "7651        1        HOLD UP ALARM AND MOW  HOLDUP     \n",
       "7652        1         FELONIOUS ASSAULT IP  FA IP      \n",
       "7653        2    ASSAULT AND BATTERY IP-JH  AB IP/JH   \n",
       "\n",
       "                call_timestamp officerinitiated      block_id  longitude  \\\n",
       "0    2020-06-25 10:53:47-04:04               No  2.616355e+14 -83.219314   \n",
       "1    2020-06-25 10:56:22-04:04               No  2.616354e+14 -83.142711   \n",
       "3    2020-06-25 11:10:09-04:04               No  2.616351e+14 -82.956673   \n",
       "4    2020-06-25 11:12:11-04:04               No  2.616354e+14 -83.133122   \n",
       "5    2020-06-25 11:26:21-04:04               No  2.616353e+14 -83.081742   \n",
       "...                        ...              ...           ...        ...   \n",
       "7649 2020-08-02 13:53:51-04:04               No  2.616353e+14 -83.133705   \n",
       "7650 2020-08-02 13:59:47-04:04               No  2.616354e+14 -83.264705   \n",
       "7651 2020-08-02 14:09:21-04:04               No  2.616351e+14 -83.076906   \n",
       "7652 2020-08-02 14:22:14-04:04               No  2.616354e+14 -83.161531   \n",
       "7653 2020-08-02 14:29:17-04:04               No  2.616350e+14 -83.002654   \n",
       "\n",
       "       latitude      oid                    geometry  \n",
       "0     42.336093  3079341  POINT (-83.21931 42.33609)  \n",
       "1     42.409890  3079346  POINT (-83.14271 42.40989)  \n",
       "3     42.392132  3079387  POINT (-82.95667 42.39213)  \n",
       "4     42.422717  3079399  POINT (-83.13312 42.42272)  \n",
       "5     42.382823  3079453  POINT (-83.08174 42.38282)  \n",
       "...         ...      ...                         ...  \n",
       "7649  42.333490  3179312  POINT (-83.13371 42.33349)  \n",
       "7650  42.412847  3179318  POINT (-83.26470 42.41285)  \n",
       "7651  42.425739  3179329  POINT (-83.07691 42.42574)  \n",
       "7652  42.388446  3179350  POINT (-83.16153 42.38845)  \n",
       "7653  42.445361  3179359  POINT (-83.00265 42.44536)  \n",
       "\n",
       "[7612 rows x 10 columns]"
      ]
     },
     "execution_count": 18,
     "metadata": {},
     "output_type": "execute_result"
    }
   ],
   "source": [
    "call"
   ]
  },
  {
   "cell_type": "code",
   "execution_count": null,
   "id": "e16e023e",
   "metadata": {},
   "outputs": [],
   "source": []
  },
  {
   "cell_type": "code",
   "execution_count": 19,
   "id": "6a1c7310",
   "metadata": {
    "ExecuteTime": {
     "end_time": "2022-02-10T22:36:09.478901Z",
     "start_time": "2022-02-10T22:36:08.961878Z"
    }
   },
   "outputs": [
    {
     "data": {
      "text/plain": [
       "0       261635458001013\n",
       "1       261635361003011\n",
       "3       261635027001007\n",
       "4       261635384002002\n",
       "5       261635114002031\n",
       "             ...       \n",
       "7649    261635258001000\n",
       "7650    261635442001002\n",
       "7651    261635071001021\n",
       "7652    261635366001019\n",
       "7653    261635032002022\n",
       "Name: block_id, Length: 7612, dtype: object"
      ]
     },
     "execution_count": 19,
     "metadata": {},
     "output_type": "execute_result"
    }
   ],
   "source": [
    "gpd.sjoin(call.loc[:,['geometry']].to_crs('epsg:4327'),blocks.to_crs('epsg:4327'),how='left',predicate='within').block_id"
   ]
  },
  {
   "cell_type": "code",
   "execution_count": 7,
   "id": "9b0bf8c3",
   "metadata": {
    "ExecuteTime": {
     "end_time": "2022-02-10T22:23:20.767706Z",
     "start_time": "2022-02-10T22:23:20.713679Z"
    }
   },
   "outputs": [
    {
     "data": {
      "text/html": [
       "<div>\n",
       "<style scoped>\n",
       "    .dataframe tbody tr th:only-of-type {\n",
       "        vertical-align: middle;\n",
       "    }\n",
       "\n",
       "    .dataframe tbody tr th {\n",
       "        vertical-align: top;\n",
       "    }\n",
       "\n",
       "    .dataframe thead th {\n",
       "        text-align: right;\n",
       "    }\n",
       "</style>\n",
       "<table border=\"1\" class=\"dataframe\">\n",
       "  <thead>\n",
       "    <tr style=\"text-align: right;\">\n",
       "      <th></th>\n",
       "      <th>priority</th>\n",
       "      <th>calldescription</th>\n",
       "      <th>category</th>\n",
       "      <th>call_timestamp</th>\n",
       "      <th>officerinitiated</th>\n",
       "      <th>block_id</th>\n",
       "      <th>longitude</th>\n",
       "      <th>latitude</th>\n",
       "      <th>oid</th>\n",
       "      <th>geometry</th>\n",
       "    </tr>\n",
       "  </thead>\n",
       "  <tbody>\n",
       "    <tr>\n",
       "      <th>0</th>\n",
       "      <td>1</td>\n",
       "      <td>FELONIOUS ASSAULT IP</td>\n",
       "      <td>FA IP</td>\n",
       "      <td>2020-06-25 10:53:47-04:04</td>\n",
       "      <td>No</td>\n",
       "      <td>2.616355e+14</td>\n",
       "      <td>-83.219314</td>\n",
       "      <td>42.336093</td>\n",
       "      <td>3079341</td>\n",
       "      <td>POINT (-83.21931 42.33609)</td>\n",
       "    </tr>\n",
       "    <tr>\n",
       "      <th>1</th>\n",
       "      <td>2</td>\n",
       "      <td>ASSAULT AND BATTERY IP-JH</td>\n",
       "      <td>AB IP/JH</td>\n",
       "      <td>2020-06-25 10:56:22-04:04</td>\n",
       "      <td>No</td>\n",
       "      <td>2.616354e+14</td>\n",
       "      <td>-83.142711</td>\n",
       "      <td>42.409890</td>\n",
       "      <td>3079346</td>\n",
       "      <td>POINT (-83.14271 42.40989)</td>\n",
       "    </tr>\n",
       "    <tr>\n",
       "      <th>3</th>\n",
       "      <td>1</td>\n",
       "      <td>FELONIOUS ASSAULT IP</td>\n",
       "      <td>FA IP</td>\n",
       "      <td>2020-06-25 11:10:09-04:04</td>\n",
       "      <td>No</td>\n",
       "      <td>2.616351e+14</td>\n",
       "      <td>-82.956673</td>\n",
       "      <td>42.392132</td>\n",
       "      <td>3079387</td>\n",
       "      <td>POINT (-82.95667 42.39213)</td>\n",
       "    </tr>\n",
       "    <tr>\n",
       "      <th>4</th>\n",
       "      <td>1</td>\n",
       "      <td>SHOOTING/CUTTING/PENT WOUND</td>\n",
       "      <td>GSWCUT</td>\n",
       "      <td>2020-06-25 11:12:11-04:04</td>\n",
       "      <td>No</td>\n",
       "      <td>2.616354e+14</td>\n",
       "      <td>-83.133122</td>\n",
       "      <td>42.422717</td>\n",
       "      <td>3079399</td>\n",
       "      <td>POINT (-83.13312 42.42272)</td>\n",
       "    </tr>\n",
       "    <tr>\n",
       "      <th>5</th>\n",
       "      <td>2</td>\n",
       "      <td>ASSAULT AND BATTERY IP-JH</td>\n",
       "      <td>AB IP/JH</td>\n",
       "      <td>2020-06-25 11:26:21-04:04</td>\n",
       "      <td>No</td>\n",
       "      <td>2.616353e+14</td>\n",
       "      <td>-83.081742</td>\n",
       "      <td>42.382823</td>\n",
       "      <td>3079453</td>\n",
       "      <td>POINT (-83.08174 42.38282)</td>\n",
       "    </tr>\n",
       "  </tbody>\n",
       "</table>\n",
       "</div>"
      ],
      "text/plain": [
       "  priority              calldescription  category            call_timestamp  \\\n",
       "0        1         FELONIOUS ASSAULT IP  FA IP    2020-06-25 10:53:47-04:04   \n",
       "1        2    ASSAULT AND BATTERY IP-JH  AB IP/JH 2020-06-25 10:56:22-04:04   \n",
       "3        1         FELONIOUS ASSAULT IP  FA IP    2020-06-25 11:10:09-04:04   \n",
       "4        1  SHOOTING/CUTTING/PENT WOUND  GSWCUT   2020-06-25 11:12:11-04:04   \n",
       "5        2    ASSAULT AND BATTERY IP-JH  AB IP/JH 2020-06-25 11:26:21-04:04   \n",
       "\n",
       "  officerinitiated      block_id  longitude   latitude      oid  \\\n",
       "0               No  2.616355e+14 -83.219314  42.336093  3079341   \n",
       "1               No  2.616354e+14 -83.142711  42.409890  3079346   \n",
       "3               No  2.616351e+14 -82.956673  42.392132  3079387   \n",
       "4               No  2.616354e+14 -83.133122  42.422717  3079399   \n",
       "5               No  2.616353e+14 -83.081742  42.382823  3079453   \n",
       "\n",
       "                     geometry  \n",
       "0  POINT (-83.21931 42.33609)  \n",
       "1  POINT (-83.14271 42.40989)  \n",
       "3  POINT (-82.95667 42.39213)  \n",
       "4  POINT (-83.13312 42.42272)  \n",
       "5  POINT (-83.08174 42.38282)  "
      ]
     },
     "execution_count": 7,
     "metadata": {},
     "output_type": "execute_result"
    }
   ],
   "source": [
    "call."
   ]
  },
  {
   "cell_type": "code",
   "execution_count": 132,
   "id": "7ab70b7c",
   "metadata": {
    "ExecuteTime": {
     "end_time": "2022-02-05T23:39:17.038633Z",
     "start_time": "2022-02-05T23:39:17.002324Z"
    }
   },
   "outputs": [
    {
     "data": {
      "text/plain": [
       "block_id\n",
       "2.616354e+14    53\n",
       "2.616353e+14    50\n",
       "2.616350e+14    50\n",
       "2.616355e+14    22\n",
       "2.616354e+14    22\n",
       "Name: call_count, dtype: int64"
      ]
     },
     "execution_count": 132,
     "metadata": {},
     "output_type": "execute_result"
    }
   ],
   "source": [
    "block_count = (\n",
    "    call.groupby(\"block_id\")\n",
    "    .oid.count()\n",
    "    .rename(\"call_count\")\n",
    "    .sort_values(ascending=False)\n",
    ")\n",
    "block_count.head()\n",
    "# representation_ratio = block_count/block_count.mean()"
   ]
  },
  {
   "cell_type": "code",
   "execution_count": 133,
   "id": "487c8b35",
   "metadata": {
    "ExecuteTime": {
     "end_time": "2022-02-05T23:39:18.506765Z",
     "start_time": "2022-02-05T23:39:18.030257Z"
    }
   },
   "outputs": [
    {
     "data": {
      "image/png": "[encoded data removed]",
      "text/plain": [
       "<Figure size 432x288 with 1 Axes>"
      ]
     },
     "metadata": {
      "image/png": {
       "height": 288,
       "width": 395
      },
      "needs_background": "light"
     },
     "output_type": "display_data"
    }
   ],
   "source": [
    "plt.plot(range(1000),block_count.head(1000))\n",
    "_ = plt.gca().set(yscale='log',title='crime is concentrated',ylabel='call count',xlabel='call rank')"
   ]
  },
  {
   "cell_type": "code",
   "execution_count": 192,
   "id": "2148123f",
   "metadata": {
    "ExecuteTime": {
     "end_time": "2022-02-06T14:27:08.276627Z",
     "start_time": "2022-02-06T14:27:08.161881Z"
    }
   },
   "outputs": [],
   "source": [
    "pop = pd.read_csv(\n",
    "    \"/Users/ahakso/Downloads/productDownload_2022-01-28T162855/DECENNIALSF12010.P10_data_with_overlays_2022-01-28T162836.csv\",\n",
    "    usecols=[\"GEO_ID\", \"P010001\"],\n",
    "    skiprows=[1],\n",
    ").rename(columns={\"GEO_ID\": \"block_id\", \"P010001\": \"population\"})\n",
    "pop = pop.assign(\n",
    "    block_id=lambda x: x.block_id.str.split(\"US\").apply(lambda s: s[1])\n",
    ").astype({\"block_id\": float})"
   ]
  },
  {
   "cell_type": "code",
   "execution_count": 186,
   "id": "9302b1ab",
   "metadata": {
    "ExecuteTime": {
     "end_time": "2022-02-06T14:24:31.436340Z",
     "start_time": "2022-02-06T14:24:31.165214Z"
    }
   },
   "outputs": [
    {
     "name": "stderr",
     "output_type": "stream",
     "text": [
      "/Users/ahakso/.virtualenvs/detroit/lib/python3.8/site-packages/IPython/core/interactiveshell.py:3441: DtypeWarning: Columns (2,3,4,5,6,7,8,9,10,11,12,13,14,15,16,17,18,19,20,21,22,23,24,25,26,27,28,29,30,31,32,33,34,35,36,37,38,39,40,41,42,43,44,45,46,47,48,49,50,51,52,53,54,55,56,57,58,59,60,61,62,63,64,65,66,67,68,69,70,71,72) have mixed types.Specify dtype option on import or set low_memory=False.\n",
      "  exec(code_obj, self.user_global_ns, self.user_ns)\n"
     ]
    }
   ],
   "source": [
    "pop_dec = pd.read_csv(\n",
    "    \"/Users/ahakso/Downloads/productDownload_2022-02-06T092039/DECENNIALPL2020.P1_data_with_overlays_2022-02-06T092022.csv\",\n",
    "#     usecols=[\"GEO_ID\", \"P010001\"],\n",
    "#     skiprows=[1],\n",
    ")"
   ]
  },
  {
   "cell_type": "code",
   "execution_count": 189,
   "id": "16c818c0",
   "metadata": {
    "ExecuteTime": {
     "end_time": "2022-02-06T14:25:11.797730Z",
     "start_time": "2022-02-06T14:25:11.641334Z"
    }
   },
   "outputs": [
    {
     "name": "stderr",
     "output_type": "stream",
     "text": [
      "/Users/ahakso/.virtualenvs/detroit/lib/python3.8/site-packages/IPython/core/interactiveshell.py:3441: DtypeWarning: Columns (2,3,4,5,6,7,8,9,10,11,12,13,14,15,16,17,18,19,20,21,22,23,24,25,26,27,28,29,30,31,32,33,34,35,36,37,38,39,40,41,42,43,44,45,46,47,48,49,50,51,52,53,54,55,56,57,58,59,60,61,62,63,64,65,66,67,68,69,70,71) have mixed types.Specify dtype option on import or set low_memory=False.\n",
      "  exec(code_obj, self.user_global_ns, self.user_ns)\n"
     ]
    }
   ],
   "source": [
    "pop_dec2010 = pd.read_csv(\n",
    "    \"/Users/ahakso/Downloads/productDownload_2022-02-06T092039/DECENNIALPL2010.P1_data_with_overlays_2022-02-06T092022.csv\",\n",
    "#     usecols=[\"GEO_ID\", \"P010001\"],\n",
    "#     skiprows=[1],\n",
    ")"
   ]
  },
  {
   "cell_type": "code",
   "execution_count": 263,
   "id": "54902dac",
   "metadata": {
    "ExecuteTime": {
     "end_time": "2022-02-08T18:24:02.193025Z",
     "start_time": "2022-02-08T18:24:02.114788Z"
    }
   },
   "outputs": [
    {
     "data": {
      "text/plain": [
       "(5557, 145)"
      ]
     },
     "execution_count": 263,
     "metadata": {},
     "output_type": "execute_result"
    }
   ],
   "source": []
  },
  {
   "cell_type": "code",
   "execution_count": 135,
   "id": "52e37d75",
   "metadata": {
    "ExecuteTime": {
     "end_time": "2022-02-05T23:39:20.568301Z",
     "start_time": "2022-02-05T23:39:20.539049Z"
    }
   },
   "outputs": [
    {
     "data": {
      "text/plain": [
       "(4363,)"
      ]
     },
     "execution_count": 135,
     "metadata": {},
     "output_type": "execute_result"
    }
   ],
   "source": [
    "block_count.shape"
   ]
  },
  {
   "cell_type": "code",
   "execution_count": 136,
   "id": "82d37833",
   "metadata": {
    "ExecuteTime": {
     "end_time": "2022-02-05T23:39:22.009179Z",
     "start_time": "2022-02-05T23:39:21.538129Z"
    }
   },
   "outputs": [
    {
     "data": {
      "image/png": "[encoded data removed]",
      "text/plain": [
       "<Figure size 432x288 with 1 Axes>"
      ]
     },
     "metadata": {
      "image/png": {
       "height": 288,
       "width": 402
      },
      "needs_background": "light"
     },
     "output_type": "display_data"
    }
   ],
   "source": [
    "# losing 2/3 of call rows in this join for some reason\n",
    "df = (\n",
    "    pd.merge(block_count, pop, left_index=True, right_on=\"block_id\")\n",
    "#     addition is hack to dilute the impact of zero population zones\n",
    "    .assign(calls_per_capita=lambda x: x.call_count / (x.population + 10))\n",
    "    .sort_values(\"calls_per_capita\", ascending=False)\n",
    ")\n",
    "plt.plot(range(1000), df.head(1000).calls_per_capita)\n",
    "_ = plt.gca().set(\n",
    "    yscale=\"log\",\n",
    "    title=\"crime is heavily concentrated\",\n",
    "    ylabel=\"calls per capita\",\n",
    "    xlabel=\"block call frequency rank\",\n",
    ")"
   ]
  },
  {
   "cell_type": "code",
   "execution_count": 171,
   "id": "143a270b",
   "metadata": {
    "ExecuteTime": {
     "end_time": "2022-02-06T13:48:47.831381Z",
     "start_time": "2022-02-06T13:48:47.761309Z"
    }
   },
   "outputs": [
    {
     "data": {
      "text/html": [
       "<div>\n",
       "<style scoped>\n",
       "    .dataframe tbody tr th:only-of-type {\n",
       "        vertical-align: middle;\n",
       "    }\n",
       "\n",
       "    .dataframe tbody tr th {\n",
       "        vertical-align: top;\n",
       "    }\n",
       "\n",
       "    .dataframe thead th {\n",
       "        text-align: right;\n",
       "    }\n",
       "</style>\n",
       "<table border=\"1\" class=\"dataframe\">\n",
       "  <thead>\n",
       "    <tr style=\"text-align: right;\">\n",
       "      <th></th>\n",
       "      <th>priority</th>\n",
       "      <th>calldescription</th>\n",
       "      <th>category</th>\n",
       "      <th>call_timestamp</th>\n",
       "      <th>officerinitiated</th>\n",
       "      <th>block_id</th>\n",
       "      <th>longitude</th>\n",
       "      <th>latitude</th>\n",
       "      <th>oid</th>\n",
       "      <th>geometry</th>\n",
       "    </tr>\n",
       "  </thead>\n",
       "  <tbody>\n",
       "    <tr>\n",
       "      <th>0</th>\n",
       "      <td>1</td>\n",
       "      <td>FELONIOUS ASSAULT IP</td>\n",
       "      <td>FA IP</td>\n",
       "      <td>2020-06-25 10:53:47-04:04</td>\n",
       "      <td>No</td>\n",
       "      <td>2.616355e+14</td>\n",
       "      <td>-83.219314</td>\n",
       "      <td>42.336093</td>\n",
       "      <td>3079341</td>\n",
       "      <td>POINT (-83.21931 42.33609)</td>\n",
       "    </tr>\n",
       "    <tr>\n",
       "      <th>1</th>\n",
       "      <td>2</td>\n",
       "      <td>ASSAULT AND BATTERY IP-JH</td>\n",
       "      <td>AB IP/JH</td>\n",
       "      <td>2020-06-25 10:56:22-04:04</td>\n",
       "      <td>No</td>\n",
       "      <td>2.616354e+14</td>\n",
       "      <td>-83.142711</td>\n",
       "      <td>42.409890</td>\n",
       "      <td>3079346</td>\n",
       "      <td>POINT (-83.14271 42.40989)</td>\n",
       "    </tr>\n",
       "    <tr>\n",
       "      <th>2</th>\n",
       "      <td>4</td>\n",
       "      <td>FELONIOUS ASSAULT REPORT</td>\n",
       "      <td>FA RPT</td>\n",
       "      <td>2020-06-25 10:56:58-04:04</td>\n",
       "      <td>Yes</td>\n",
       "      <td>NaN</td>\n",
       "      <td>-84.132207</td>\n",
       "      <td>42.082976</td>\n",
       "      <td>3079351</td>\n",
       "      <td>POINT (-84.13221 42.08298)</td>\n",
       "    </tr>\n",
       "    <tr>\n",
       "      <th>3</th>\n",
       "      <td>1</td>\n",
       "      <td>FELONIOUS ASSAULT IP</td>\n",
       "      <td>FA IP</td>\n",
       "      <td>2020-06-25 11:10:09-04:04</td>\n",
       "      <td>No</td>\n",
       "      <td>2.616351e+14</td>\n",
       "      <td>-82.956673</td>\n",
       "      <td>42.392132</td>\n",
       "      <td>3079387</td>\n",
       "      <td>POINT (-82.95667 42.39213)</td>\n",
       "    </tr>\n",
       "    <tr>\n",
       "      <th>4</th>\n",
       "      <td>1</td>\n",
       "      <td>SHOOTING/CUTTING/PENT WOUND</td>\n",
       "      <td>GSWCUT</td>\n",
       "      <td>2020-06-25 11:12:11-04:04</td>\n",
       "      <td>No</td>\n",
       "      <td>2.616354e+14</td>\n",
       "      <td>-83.133122</td>\n",
       "      <td>42.422717</td>\n",
       "      <td>3079399</td>\n",
       "      <td>POINT (-83.13312 42.42272)</td>\n",
       "    </tr>\n",
       "  </tbody>\n",
       "</table>\n",
       "</div>"
      ],
      "text/plain": [
       "  priority              calldescription  category            call_timestamp  \\\n",
       "0        1         FELONIOUS ASSAULT IP  FA IP    2020-06-25 10:53:47-04:04   \n",
       "1        2    ASSAULT AND BATTERY IP-JH  AB IP/JH 2020-06-25 10:56:22-04:04   \n",
       "2        4     FELONIOUS ASSAULT REPORT  FA RPT   2020-06-25 10:56:58-04:04   \n",
       "3        1         FELONIOUS ASSAULT IP  FA IP    2020-06-25 11:10:09-04:04   \n",
       "4        1  SHOOTING/CUTTING/PENT WOUND  GSWCUT   2020-06-25 11:12:11-04:04   \n",
       "\n",
       "  officerinitiated      block_id  longitude   latitude      oid  \\\n",
       "0               No  2.616355e+14 -83.219314  42.336093  3079341   \n",
       "1               No  2.616354e+14 -83.142711  42.409890  3079346   \n",
       "2              Yes           NaN -84.132207  42.082976  3079351   \n",
       "3               No  2.616351e+14 -82.956673  42.392132  3079387   \n",
       "4               No  2.616354e+14 -83.133122  42.422717  3079399   \n",
       "\n",
       "                     geometry  \n",
       "0  POINT (-83.21931 42.33609)  \n",
       "1  POINT (-83.14271 42.40989)  \n",
       "2  POINT (-84.13221 42.08298)  \n",
       "3  POINT (-82.95667 42.39213)  \n",
       "4  POINT (-83.13312 42.42272)  "
      ]
     },
     "execution_count": 171,
     "metadata": {},
     "output_type": "execute_result"
    }
   ],
   "source": [
    "call.head()"
   ]
  },
  {
   "cell_type": "code",
   "execution_count": 175,
   "id": "319a9cc8",
   "metadata": {
    "ExecuteTime": {
     "end_time": "2022-02-06T13:50:09.265212Z",
     "start_time": "2022-02-06T13:50:08.066653Z"
    }
   },
   "outputs": [],
   "source": [
    "import seaborn as sns"
   ]
  },
  {
   "cell_type": "code",
   "execution_count": 182,
   "id": "1f7b7cb0",
   "metadata": {
    "ExecuteTime": {
     "end_time": "2022-02-06T13:54:40.182055Z",
     "start_time": "2022-02-06T13:54:40.147714Z"
    }
   },
   "outputs": [
    {
     "data": {
      "text/plain": [
       "Index(['block_id', 'population'], dtype='object')"
      ]
     },
     "execution_count": 182,
     "metadata": {},
     "output_type": "execute_result"
    }
   ],
   "source": [
    "pop.columns"
   ]
  },
  {
   "cell_type": "code",
   "execution_count": 181,
   "id": "1b318552",
   "metadata": {
    "ExecuteTime": {
     "end_time": "2022-02-06T13:53:47.686087Z",
     "start_time": "2022-02-06T13:53:43.846017Z"
    }
   },
   "outputs": [
    {
     "data": {
      "text/plain": [
       "<AxesSubplot:xlabel='longitude', ylabel='latitude'>"
      ]
     },
     "execution_count": 181,
     "metadata": {},
     "output_type": "execute_result"
    },
    {
     "data": {
      "image/png": "[encoded data removed]",
      "text/plain": [
       "<Figure size 432x288 with 2 Axes>"
      ]
     },
     "metadata": {
      "image/png": {
       "height": 273,
       "width": 410
      },
      "needs_background": "light"
     },
     "output_type": "display_data"
    }
   ],
   "source": [
    "sns.kdeplot(call.longitude, y=call.latitude,shade=True,cbar=True)"
   ]
  },
  {
   "cell_type": "code",
   "execution_count": 10,
   "id": "40f6acb1",
   "metadata": {
    "ExecuteTime": {
     "end_time": "2022-02-10T22:12:48.801257Z",
     "start_time": "2022-02-10T22:12:48.770495Z"
    }
   },
   "outputs": [],
   "source": [
    "call = call.loc[call.longitude > -83.4]\n",
    "call.plot()"
   ]
  },
  {
   "cell_type": "code",
   "execution_count": 1,
   "id": "cb212134",
   "metadata": {
    "ExecuteTime": {
     "end_time": "2022-02-10T22:04:46.731377Z",
     "start_time": "2022-02-10T22:04:46.468276Z"
    }
   },
   "outputs": [],
   "source": [
    "import geopandas as gpd\n"
   ]
  },
  {
   "cell_type": "code",
   "execution_count": 16,
   "id": "803e1e9c",
   "metadata": {
    "ExecuteTime": {
     "end_time": "2022-02-10T22:17:54.209263Z",
     "start_time": "2022-02-10T22:17:54.133824Z"
    }
   },
   "outputs": [
    {
     "data": {
      "text/html": [
       "<div>\n",
       "<style scoped>\n",
       "    .dataframe tbody tr th:only-of-type {\n",
       "        vertical-align: middle;\n",
       "    }\n",
       "\n",
       "    .dataframe tbody tr th {\n",
       "        vertical-align: top;\n",
       "    }\n",
       "\n",
       "    .dataframe thead th {\n",
       "        text-align: right;\n",
       "    }\n",
       "</style>\n",
       "<table border=\"1\" class=\"dataframe\">\n",
       "  <thead>\n",
       "    <tr style=\"text-align: right;\">\n",
       "      <th></th>\n",
       "      <th>priority</th>\n",
       "      <th>calldescription</th>\n",
       "      <th>category</th>\n",
       "      <th>call_timestamp</th>\n",
       "      <th>officerinitiated</th>\n",
       "      <th>block_id</th>\n",
       "      <th>longitude</th>\n",
       "      <th>latitude</th>\n",
       "      <th>oid</th>\n",
       "      <th>geometry</th>\n",
       "    </tr>\n",
       "  </thead>\n",
       "  <tbody>\n",
       "    <tr>\n",
       "      <th>0</th>\n",
       "      <td>2</td>\n",
       "      <td>TRAFFIC STOP</td>\n",
       "      <td>TRF STOP</td>\n",
       "      <td>2020-06-25 10:36:55-04:04</td>\n",
       "      <td>Yes</td>\n",
       "      <td>2.616353e+14</td>\n",
       "      <td>-83.113801</td>\n",
       "      <td>42.387110</td>\n",
       "      <td>3079296</td>\n",
       "      <td>POINT (-83.11380 42.38711)</td>\n",
       "    </tr>\n",
       "    <tr>\n",
       "      <th>1</th>\n",
       "      <td>3</td>\n",
       "      <td>START OF SHIFT INFORMATION</td>\n",
       "      <td>STRTSHFT</td>\n",
       "      <td>2020-06-25 10:37:21-04:04</td>\n",
       "      <td>Yes</td>\n",
       "      <td>2.616353e+14</td>\n",
       "      <td>-83.081518</td>\n",
       "      <td>42.367313</td>\n",
       "      <td>3079297</td>\n",
       "      <td>POINT (-83.08152 42.36731)</td>\n",
       "    </tr>\n",
       "  </tbody>\n",
       "</table>\n",
       "</div>"
      ],
      "text/plain": [
       "  priority             calldescription  category            call_timestamp  \\\n",
       "0        2                TRAFFIC STOP  TRF STOP 2020-06-25 10:36:55-04:04   \n",
       "1        3  START OF SHIFT INFORMATION  STRTSHFT 2020-06-25 10:37:21-04:04   \n",
       "\n",
       "  officerinitiated      block_id  longitude   latitude      oid  \\\n",
       "0              Yes  2.616353e+14 -83.113801  42.387110  3079296   \n",
       "1              Yes  2.616353e+14 -83.081518  42.367313  3079297   \n",
       "\n",
       "                     geometry  \n",
       "0  POINT (-83.11380 42.38711)  \n",
       "1  POINT (-83.08152 42.36731)  "
      ]
     },
     "execution_count": 16,
     "metadata": {},
     "output_type": "execute_result"
    }
   ],
   "source": [
    "gpd.GeoDataFrame(csv.head(2),geometry=gpd.points_from_xy(csv.head(2).longitude,csv.head(2).latitude),crs='epsg:4326')"
   ]
  },
  {
   "cell_type": "code",
   "execution_count": null,
   "id": "9a17cb82",
   "metadata": {},
   "outputs": [],
   "source": [
    "csv"
   ]
  },
  {
   "cell_type": "code",
   "execution_count": 1,
   "id": "007ef6d7",
   "metadata": {
    "ExecuteTime": {
     "end_time": "2022-02-10T22:21:52.884595Z",
     "start_time": "2022-02-10T22:21:52.715577Z"
    }
   },
   "outputs": [
    {
     "ename": "NameError",
     "evalue": "name 'COLS_911' is not defined",
     "output_type": "error",
     "traceback": [
      "\u001b[0;31m---------------------------------------------------------------------------\u001b[0m",
      "\u001b[0;31mNameError\u001b[0m                                 Traceback (most recent call last)",
      "\u001b[0;32m/var/folders/28/p0bhwx8s3cj150l_wknp1wd80000gp/T/ipykernel_31562/205488822.py\u001b[0m in \u001b[0;36m<module>\u001b[0;34m\u001b[0m\n\u001b[1;32m      2\u001b[0m     \u001b[0;34m\"calls_for_service_from_jimmy.csv\"\u001b[0m\u001b[0;34m,\u001b[0m\u001b[0;34m\u001b[0m\u001b[0;34m\u001b[0m\u001b[0m\n\u001b[1;32m      3\u001b[0m     \u001b[0mnrows\u001b[0m\u001b[0;34m=\u001b[0m\u001b[0;36m1000\u001b[0m\u001b[0;34m,\u001b[0m\u001b[0;34m\u001b[0m\u001b[0;34m\u001b[0m\u001b[0m\n\u001b[0;32m----> 4\u001b[0;31m     \u001b[0musecols\u001b[0m\u001b[0;34m=\u001b[0m\u001b[0mCOLS_911\u001b[0m\u001b[0;34m,\u001b[0m\u001b[0;34m\u001b[0m\u001b[0;34m\u001b[0m\u001b[0m\n\u001b[0m\u001b[1;32m      5\u001b[0m     \u001b[0mparse_dates\u001b[0m\u001b[0;34m=\u001b[0m\u001b[0;34m[\u001b[0m\u001b[0;34m\"call_timestamp\"\u001b[0m\u001b[0;34m]\u001b[0m\u001b[0;34m,\u001b[0m\u001b[0;34m\u001b[0m\u001b[0;34m\u001b[0m\u001b[0m\n\u001b[1;32m      6\u001b[0m \u001b[0;31m#     chunksize=1e4,\u001b[0m\u001b[0;34m\u001b[0m\u001b[0;34m\u001b[0m\u001b[0;34m\u001b[0m\u001b[0m\n",
      "\u001b[0;31mNameError\u001b[0m: name 'COLS_911' is not defined"
     ]
    }
   ],
   "source": [
    "csv = pd.read_csv(\n",
    "    \"calls_for_service_from_jimmy.csv\",\n",
    "    nrows=1000,\n",
    "    usecols=COLS_911,\n",
    "    parse_dates=[\"call_timestamp\"],\n",
    "#     chunksize=1e4,\n",
    "    dtype=dict(zip(COLS_911, TYPES_911)),\n",
    ")"
   ]
  },
  {
   "cell_type": "code",
   "execution_count": 12,
   "id": "644ca355",
   "metadata": {
    "ExecuteTime": {
     "end_time": "2022-02-10T22:15:04.957423Z",
     "start_time": "2022-02-10T22:15:04.929054Z"
    }
   },
   "outputs": [
    {
     "data": {
      "text/plain": [
       "3079296"
      ]
     },
     "execution_count": 12,
     "metadata": {},
     "output_type": "execute_result"
    }
   ],
   "source": [
    "csv.oid.min()"
   ]
  }
 ],
 "metadata": {
  "kernelspec": {
   "display_name": "detroit",
   "language": "python",
   "name": "detroit"
  },
  "language_info": {
   "codemirror_mode": {
    "name": "ipython",
    "version": 3
   },
   "file_extension": ".py",
   "mimetype": "text/x-python",
   "name": "python",
   "nbconvert_exporter": "python",
   "pygments_lexer": "ipython3",
   "version": "3.8.2"
  },
  "toc": {
   "base_numbering": 1,
   "nav_menu": {},
   "number_sections": true,
   "sideBar": true,
   "skip_h1_title": false,
   "title_cell": "Table of Contents",
   "title_sidebar": "Contents",
   "toc_cell": false,
   "toc_position": {},
   "toc_section_display": true,
   "toc_window_display": false
  },
  "varInspector": {
   "cols": {
    "lenName": 16,
    "lenType": 16,
    "lenVar": 40
   },
   "kernels_config": {
    "python": {
     "delete_cmd_postfix": "",
     "delete_cmd_prefix": "del ",
     "library": "var_list.py",
     "varRefreshCmd": "print(var_dic_list())"
    },
    "r": {
     "delete_cmd_postfix": ") ",
     "delete_cmd_prefix": "rm(",
     "library": "var_list.r",
     "varRefreshCmd": "cat(var_dic_list()) "
    }
   },
   "types_to_exclude": [
    "module",
    "function",
    "builtin_function_or_method",
    "instance",
    "_Feature"
   ],
   "window_display": false
  }
 },
 "nbformat": 4,
 "nbformat_minor": 5
}
