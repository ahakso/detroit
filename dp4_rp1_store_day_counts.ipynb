{
 "cells": [
  {
   "cell_type": "code",
   "execution_count": 4,
   "id": "6e1a5c0b",
   "metadata": {
    "ExecuteTime": {
     "end_time": "2021-09-09T18:12:42.937791Z",
     "start_time": "2021-09-09T18:12:42.918335Z"
    }
   },
   "outputs": [],
   "source": [
    "import os\n",
    "import sys\n",
    "sys.path.append('/Users/ahakso/secondmeasure/consumer-enrichment/')"
   ]
  },
  {
   "cell_type": "code",
   "execution_count": 5,
   "id": "45415fd4",
   "metadata": {
    "ExecuteTime": {
     "end_time": "2021-09-09T18:12:56.654948Z",
     "start_time": "2021-09-09T18:12:55.734858Z"
    }
   },
   "outputs": [],
   "source": [
    "from consumer_enrichment.util.notebook import run_query\n",
    "pd.options.display.max_rows = 1000"
   ]
  },
  {
   "cell_type": "code",
   "execution_count": 8,
   "id": "81566fdf",
   "metadata": {
    "ExecuteTime": {
     "end_time": "2021-09-09T18:14:59.125798Z",
     "start_time": "2021-09-09T18:14:59.100335Z"
    }
   },
   "outputs": [],
   "source": [
    "locations_table = \"production.rp1.locations_jun_2020\"\n",
    "descriptors_table = 'production.rp1.descriptors_jun_2020'\n",
    "dp1_transactions_table = \"production.dp1_4m_v61_daily.transactions_latest\"\n"
   ]
  },
  {
   "cell_type": "markdown",
   "id": "1b08f1b1",
   "metadata": {},
   "source": [
    "# Approach\n",
    "Start with dominos\n",
    "\n",
    "The 2020Q3 filings says thaty have 6239 US stores\n",
    "\n",
    "### RP1\n",
    "group by city, state and merchant id, then count distinct merchant id\n",
    "\n",
    "### DP4\n",
    "group by city, state and hashed address, then count distinct address\n",
    "\n",
    "\n",
    "later, group by city, state and hashed address, then get first and last seen date for that merchant_xid"
   ]
  },
  {
   "cell_type": "markdown",
   "id": "3f57575b",
   "metadata": {},
   "source": [
    "# RP1"
   ]
  },
  {
   "cell_type": "code",
   "execution_count": 12,
   "id": "d35cf1ca",
   "metadata": {
    "ExecuteTime": {
     "end_time": "2021-09-09T18:22:13.593407Z",
     "start_time": "2021-09-09T18:21:36.968192Z"
    }
   },
   "outputs": [
    {
     "data": {
      "text/html": [
       "<div>\n",
       "<style scoped>\n",
       "    .dataframe tbody tr th:only-of-type {\n",
       "        vertical-align: middle;\n",
       "    }\n",
       "\n",
       "    .dataframe tbody tr th {\n",
       "        vertical-align: top;\n",
       "    }\n",
       "\n",
       "    .dataframe thead th {\n",
       "        text-align: right;\n",
       "    }\n",
       "</style>\n",
       "<table border=\"1\" class=\"dataframe\">\n",
       "  <thead>\n",
       "    <tr style=\"text-align: right;\">\n",
       "      <th></th>\n",
       "      <th>merchant_market_hierarchy_id</th>\n",
       "      <th>merchant_name</th>\n",
       "      <th>merchant_name_cleansed</th>\n",
       "      <th>address</th>\n",
       "      <th>address_cleansed</th>\n",
       "      <th>city_name</th>\n",
       "      <th>city_name_cleansed</th>\n",
       "      <th>state_province_code</th>\n",
       "      <th>state_province_code_cleansed</th>\n",
       "      <th>postal_code</th>\n",
       "      <th>postal_code_cleansed</th>\n",
       "      <th>country_code</th>\n",
       "      <th>country_code_cleansed</th>\n",
       "      <th>latitude</th>\n",
       "      <th>longitude</th>\n",
       "      <th>...</th>\n",
       "      <th>phone_number_cleansed</th>\n",
       "      <th>merchant_category_code</th>\n",
       "      <th>legal_corporate_name</th>\n",
       "      <th>legal_corporate_name_cleansed</th>\n",
       "      <th>aggregate_merchant_id</th>\n",
       "      <th>aggregate_merchant_name</th>\n",
       "      <th>key_aggregate_merchant_id</th>\n",
       "      <th>parent_aggregate_merchant_id</th>\n",
       "      <th>parent_aggregate_merchant_name</th>\n",
       "      <th>msa_code</th>\n",
       "      <th>naics_code</th>\n",
       "      <th>dma_code</th>\n",
       "      <th>industry</th>\n",
       "      <th>super_industry</th>\n",
       "      <th>dun_bradstreet_number</th>\n",
       "    </tr>\n",
       "  </thead>\n",
       "  <tbody>\n",
       "    <tr>\n",
       "      <th>0</th>\n",
       "      <td>324756296</td>\n",
       "      <td>8421 DOMINOS PIZZA</td>\n",
       "      <td>DOMINO'S PIZZA</td>\n",
       "      <td>5200 GEARY BLVD</td>\n",
       "      <td>5200 GEARY BLVD  STE D</td>\n",
       "      <td>SAN FRANCISCO</td>\n",
       "      <td>SAN FRANCISCO</td>\n",
       "      <td>CA</td>\n",
       "      <td>CA</td>\n",
       "      <td>94118</td>\n",
       "      <td>94118-2818</td>\n",
       "      <td>USA</td>\n",
       "      <td>USA</td>\n",
       "      <td>37.780818</td>\n",
       "      <td>-122.475882</td>\n",
       "      <td>...</td>\n",
       "      <td>(415) 387-3030</td>\n",
       "      <td>5814</td>\n",
       "      <td>TEAM SAN FRANCISCO PIZZA  LLC</td>\n",
       "      <td>TEAM SAN FRANCISCO PIZZA  LLC</td>\n",
       "      <td>18932</td>\n",
       "      <td>DOMINO'S PIZZA (NSR)</td>\n",
       "      <td>10360</td>\n",
       "      <td>10360</td>\n",
       "      <td>DOMINO'S PIZZA</td>\n",
       "      <td>None</td>\n",
       "      <td>722211</td>\n",
       "      <td>807</td>\n",
       "      <td>EAP</td>\n",
       "      <td>ACF</td>\n",
       "      <td>NaN</td>\n",
       "    </tr>\n",
       "    <tr>\n",
       "      <th>1</th>\n",
       "      <td>324756298</td>\n",
       "      <td>8134 DOMINOS PIZZA</td>\n",
       "      <td>DOMINO'S</td>\n",
       "      <td>320 BAY SHORE BLVD</td>\n",
       "      <td>320 BAY SHORE BLVD</td>\n",
       "      <td>SAN FRANCISCO</td>\n",
       "      <td>SAN FRANCISCO</td>\n",
       "      <td>CA</td>\n",
       "      <td>CA</td>\n",
       "      <td>94124</td>\n",
       "      <td>94124-1507</td>\n",
       "      <td>USA</td>\n",
       "      <td>USA</td>\n",
       "      <td>37.742760</td>\n",
       "      <td>-122.405790</td>\n",
       "      <td>...</td>\n",
       "      <td>4156478400</td>\n",
       "      <td>5814</td>\n",
       "      <td>TEAM GOLDEN GATE</td>\n",
       "      <td>TEAM GOLDEN GATE</td>\n",
       "      <td>18932</td>\n",
       "      <td>DOMINO'S PIZZA (NSR)</td>\n",
       "      <td>10360</td>\n",
       "      <td>10360</td>\n",
       "      <td>DOMINO'S PIZZA</td>\n",
       "      <td>None</td>\n",
       "      <td>722211</td>\n",
       "      <td>807</td>\n",
       "      <td>EAP</td>\n",
       "      <td>ACF</td>\n",
       "      <td>NaN</td>\n",
       "    </tr>\n",
       "    <tr>\n",
       "      <th>2</th>\n",
       "      <td>324788960</td>\n",
       "      <td>DOMINO'S 7764</td>\n",
       "      <td>DOMINO'S PIZZA</td>\n",
       "      <td>876 GEARY ST</td>\n",
       "      <td>876 GEARY ST</td>\n",
       "      <td>SAN FRANCISCO</td>\n",
       "      <td>SAN FRANCISCO</td>\n",
       "      <td>CA</td>\n",
       "      <td>CA</td>\n",
       "      <td>94109</td>\n",
       "      <td>94109-7228</td>\n",
       "      <td>USA</td>\n",
       "      <td>USA</td>\n",
       "      <td>37.786313</td>\n",
       "      <td>-122.417625</td>\n",
       "      <td>...</td>\n",
       "      <td>(415) 776-0400</td>\n",
       "      <td>5814</td>\n",
       "      <td>TEAM SAN FRANCISCO PIZZA  LLC</td>\n",
       "      <td>TEAM SAN FRANCISCO PIZZA  LLC</td>\n",
       "      <td>18932</td>\n",
       "      <td>DOMINO'S PIZZA (NSR)</td>\n",
       "      <td>10360</td>\n",
       "      <td>10360</td>\n",
       "      <td>DOMINO'S PIZZA</td>\n",
       "      <td>None</td>\n",
       "      <td>722211</td>\n",
       "      <td>807</td>\n",
       "      <td>EAP</td>\n",
       "      <td>ACF</td>\n",
       "      <td>NaN</td>\n",
       "    </tr>\n",
       "    <tr>\n",
       "      <th>3</th>\n",
       "      <td>459690142</td>\n",
       "      <td>8418 DOMINOS PIZZA</td>\n",
       "      <td>DOMINO'S PIZZA</td>\n",
       "      <td>3116 NORIEGA ST</td>\n",
       "      <td>3116 NORIEGA ST</td>\n",
       "      <td>SAN FRANCISCO</td>\n",
       "      <td>SAN FRANCISCO</td>\n",
       "      <td>CA</td>\n",
       "      <td>CA</td>\n",
       "      <td>94122</td>\n",
       "      <td>94122-4046</td>\n",
       "      <td>USA</td>\n",
       "      <td>USA</td>\n",
       "      <td>37.753455</td>\n",
       "      <td>-122.497135</td>\n",
       "      <td>...</td>\n",
       "      <td>4156818100</td>\n",
       "      <td>5814</td>\n",
       "      <td>NFG SAN FRANCISCO LLC</td>\n",
       "      <td>TEAM GOLDEN GATE</td>\n",
       "      <td>10360</td>\n",
       "      <td>DOMINO'S PIZZA</td>\n",
       "      <td>10360</td>\n",
       "      <td>10360</td>\n",
       "      <td>DOMINO'S PIZZA</td>\n",
       "      <td>None</td>\n",
       "      <td>722211</td>\n",
       "      <td>807</td>\n",
       "      <td>EAP</td>\n",
       "      <td>ACF</td>\n",
       "      <td>556971476.0</td>\n",
       "    </tr>\n",
       "  </tbody>\n",
       "</table>\n",
       "<p>4 rows × 32 columns</p>\n",
       "</div>"
      ],
      "text/plain": [
       "   merchant_market_hierarchy_id       merchant_name merchant_name_cleansed  \\\n",
       "0                     324756296  8421 DOMINOS PIZZA         DOMINO'S PIZZA   \n",
       "1                     324756298  8134 DOMINOS PIZZA               DOMINO'S   \n",
       "2                     324788960       DOMINO'S 7764         DOMINO'S PIZZA   \n",
       "3                     459690142  8418 DOMINOS PIZZA         DOMINO'S PIZZA   \n",
       "\n",
       "              address        address_cleansed      city_name  \\\n",
       "0     5200 GEARY BLVD  5200 GEARY BLVD  STE D  SAN FRANCISCO   \n",
       "1  320 BAY SHORE BLVD      320 BAY SHORE BLVD  SAN FRANCISCO   \n",
       "2        876 GEARY ST            876 GEARY ST  SAN FRANCISCO   \n",
       "3     3116 NORIEGA ST         3116 NORIEGA ST  SAN FRANCISCO   \n",
       "\n",
       "  city_name_cleansed state_province_code state_province_code_cleansed  \\\n",
       "0      SAN FRANCISCO                  CA                           CA   \n",
       "1      SAN FRANCISCO                  CA                           CA   \n",
       "2      SAN FRANCISCO                  CA                           CA   \n",
       "3      SAN FRANCISCO                  CA                           CA   \n",
       "\n",
       "  postal_code postal_code_cleansed country_code country_code_cleansed  \\\n",
       "0       94118           94118-2818          USA                   USA   \n",
       "1       94124           94124-1507          USA                   USA   \n",
       "2       94109           94109-7228          USA                   USA   \n",
       "3       94122           94122-4046          USA                   USA   \n",
       "\n",
       "    latitude   longitude  ... phone_number_cleansed merchant_category_code  \\\n",
       "0  37.780818 -122.475882  ...        (415) 387-3030                   5814   \n",
       "1  37.742760 -122.405790  ...            4156478400                   5814   \n",
       "2  37.786313 -122.417625  ...        (415) 776-0400                   5814   \n",
       "3  37.753455 -122.497135  ...            4156818100                   5814   \n",
       "\n",
       "            legal_corporate_name  legal_corporate_name_cleansed  \\\n",
       "0  TEAM SAN FRANCISCO PIZZA  LLC  TEAM SAN FRANCISCO PIZZA  LLC   \n",
       "1               TEAM GOLDEN GATE               TEAM GOLDEN GATE   \n",
       "2  TEAM SAN FRANCISCO PIZZA  LLC  TEAM SAN FRANCISCO PIZZA  LLC   \n",
       "3          NFG SAN FRANCISCO LLC               TEAM GOLDEN GATE   \n",
       "\n",
       "  aggregate_merchant_id aggregate_merchant_name key_aggregate_merchant_id  \\\n",
       "0                 18932    DOMINO'S PIZZA (NSR)                     10360   \n",
       "1                 18932    DOMINO'S PIZZA (NSR)                     10360   \n",
       "2                 18932    DOMINO'S PIZZA (NSR)                     10360   \n",
       "3                 10360          DOMINO'S PIZZA                     10360   \n",
       "\n",
       "  parent_aggregate_merchant_id  parent_aggregate_merchant_name msa_code  \\\n",
       "0                        10360                  DOMINO'S PIZZA     None   \n",
       "1                        10360                  DOMINO'S PIZZA     None   \n",
       "2                        10360                  DOMINO'S PIZZA     None   \n",
       "3                        10360                  DOMINO'S PIZZA     None   \n",
       "\n",
       "  naics_code dma_code  industry super_industry dun_bradstreet_number  \n",
       "0     722211      807       EAP            ACF                   NaN  \n",
       "1     722211      807       EAP            ACF                   NaN  \n",
       "2     722211      807       EAP            ACF                   NaN  \n",
       "3     722211      807       EAP            ACF           556971476.0  \n",
       "\n",
       "[4 rows x 32 columns]"
      ]
     },
     "execution_count": 12,
     "metadata": {},
     "output_type": "execute_result"
    }
   ],
   "source": [
    "# correctly selects 4 dominos in SF\n",
    "run_query(f'''\n",
    "select *\n",
    "from {locations_table}\n",
    "where state_province_code = 'CA'\n",
    "and regexp_like(city_name,'^SAN FR?ANCISCO')\n",
    "and regexp_like(merchant_name,'DOMINO.?S')\n",
    "limit 100\n",
    "''')"
   ]
  },
  {
   "cell_type": "code",
   "execution_count": 39,
   "id": "3a9a43d8",
   "metadata": {
    "ExecuteTime": {
     "end_time": "2021-09-09T18:40:33.941188Z",
     "start_time": "2021-09-09T18:40:26.598937Z"
    },
    "collapsed": true
   },
   "outputs": [],
   "source": [
    "# city/state dominos counts\n",
    "rp1_dominos_counts = run_query(f'''\n",
    "select\n",
    "city_name_cleansed || ', ' || state_province_code_cleansed location\n",
    ", count(*) as n_dominos\n",
    "from {locations_table}\n",
    "where regexp_like(merchant_name_cleansed,'DOMINO''?S ?(PIZZA|\\d{3}|$)')\n",
    "group by 1\n",
    "''')"
   ]
  },
  {
   "cell_type": "code",
   "execution_count": 38,
   "id": "7cada294",
   "metadata": {
    "ExecuteTime": {
     "end_time": "2021-09-09T18:40:20.111239Z",
     "start_time": "2021-09-09T18:40:15.262176Z"
    }
   },
   "outputs": [],
   "source": [
    "# confirm descriptions looks okay\n",
    "regex_matches = run_query(f'''\n",
    "select merchant_name_cleansed, count(*) as description_counts\n",
    "from {locations_table}\n",
    "where regexp_like(merchant_name_cleansed,'DOMINO''?S ?(PIZZA|\\d{3}|$)')\n",
    "group by merchant_name_cleansed\n",
    "limit 10000\n",
    "''')"
   ]
  },
  {
   "cell_type": "code",
   "execution_count": 43,
   "id": "af12edbd",
   "metadata": {
    "ExecuteTime": {
     "end_time": "2021-09-09T18:46:07.208915Z",
     "start_time": "2021-09-09T18:46:07.178541Z"
    }
   },
   "outputs": [
    {
     "name": "stdout",
     "output_type": "stream",
     "text": [
      "6722\n"
     ]
    },
    {
     "data": {
      "text/plain": [
       "0.07741625260458407"
      ]
     },
     "execution_count": 43,
     "metadata": {},
     "output_type": "execute_result"
    }
   ],
   "source": [
    "# seeing ~an 8% overshoot in merchant counts compared to ground truth\n",
    "print(rp1_dominos_counts.n_dominos.sum())\n",
    "rp1_dominos_counts.n_dominos.sum()/6239-1"
   ]
  },
  {
   "cell_type": "code",
   "execution_count": 44,
   "id": "e0a2f204",
   "metadata": {
    "ExecuteTime": {
     "end_time": "2021-09-09T18:47:01.100269Z",
     "start_time": "2021-09-09T18:46:54.315126Z"
    }
   },
   "outputs": [],
   "source": [
    "rp1_state_location_counts = run_query(f'''\n",
    "select\n",
    "state_province_code_cleansed location\n",
    ", count(*) as n_dominos\n",
    "from {locations_table}\n",
    "where regexp_like(merchant_name_cleansed,'DOMINO''?S ?(PIZZA|\\d{3}|$)')\n",
    "group by 1\n",
    "''')\n",
    "\n",
    "rp1_state_location_counts.sort_values('location')"
   ]
  },
  {
   "cell_type": "markdown",
   "id": "d65c0db3",
   "metadata": {},
   "source": [
    "# DP4"
   ]
  },
  {
   "cell_type": "markdown",
   "id": "f6831563",
   "metadata": {
    "ExecuteTime": {
     "end_time": "2021-09-10T19:22:02.750083Z",
     "start_time": "2021-09-10T19:22:02.730640Z"
    }
   },
   "source": [
    "## Get Dominos counts under various conditions\n",
    "tl;dr is that we still overshoot, a bit more with dp4 than rp1"
   ]
  },
  {
   "cell_type": "code",
   "execution_count": 70,
   "id": "eb181aa3",
   "metadata": {
    "ExecuteTime": {
     "end_time": "2021-09-09T19:06:13.672005Z",
     "start_time": "2021-09-09T19:06:13.646536Z"
    }
   },
   "outputs": [],
   "source": [
    "# dp4_transactions_table = \"scratch.dp4_anon.windcharger_20210604_10k\"\n",
    "dp4_transactions_table = \"scratch.dp4_anon.windcharger_20210604\"\n",
    "dates = ['2020-06-01','2020-09-30']\n",
    "dp4_filters = '''dp4_transaction_type_cd in (\n",
    "    'B',   -- merchandise with cashback\n",
    "    'M',   -- merchandise\n",
    "    'N',   -- bill payment (non-recurring)\n",
    "    'Q',   -- quasi-cash, includes coinbase, online gambling etc\n",
    "    'U',   -- recurring charge/fee (investigate further)\n",
    "    'Z'    -- completion of pre-auth (P)\n",
    "    )\n",
    "and dp4_transaction_iso_currency_xcd = '840'  -- require USD\n",
    "and (dp4_merchant_country_xcd = '840'  -- require US based merchants\n",
    "    or dp4_merchant_country_xcd is null\n",
    "    or dp4_merchant_country_xcd = 'nan'\n",
    "    or dp4_merchant_country_xcd = '000'\n",
    "    )\n",
    "and (dp4_country_xcd = '840'     -- require US based consumers\n",
    "    or dp4_country_xcd is null\n",
    "    or dp4_country_xcd = 'nan'\n",
    "    or dp4_country_xcd = '000'\n",
    "    )\n",
    "and dp4_transaction_amt > 0  \n",
    "'''"
   ]
  },
  {
   "cell_type": "code",
   "execution_count": 72,
   "id": "6c9c6413",
   "metadata": {
    "ExecuteTime": {
     "end_time": "2021-09-09T19:06:41.601501Z",
     "start_time": "2021-09-09T19:06:27.708319Z"
    }
   },
   "outputs": [],
   "source": [
    "dp4_dominos_counts = run_query(f'''\n",
    "select \n",
    "geo_city || ', ' || geo_state as location\n",
    ", count(distinct dp4_merchant_xid) as n_dominos\n",
    "from {dp4_transactions_table}\n",
    "where regexp_like(vendor_matched_vendors,'^DPZ:')\n",
    "and raw_file_date between '{dates[0]}' and '{dates[1]}'\n",
    "and {dp4_filters}\n",
    "group by 1\n",
    "order by 2\n",
    "''')"
   ]
  },
  {
   "cell_type": "code",
   "execution_count": 73,
   "id": "9eb08c28",
   "metadata": {
    "ExecuteTime": {
     "end_time": "2021-09-09T19:06:41.629699Z",
     "start_time": "2021-09-09T19:06:41.604062Z"
    }
   },
   "outputs": [
    {
     "data": {
      "text/plain": [
       "12319"
      ]
     },
     "execution_count": 73,
     "metadata": {},
     "output_type": "execute_result"
    }
   ],
   "source": [
    "dp4_dominos_counts.n_dominos.sum()"
   ]
  },
  {
   "cell_type": "code",
   "execution_count": 75,
   "id": "010d6429",
   "metadata": {
    "ExecuteTime": {
     "end_time": "2021-09-09T19:07:15.603010Z",
     "start_time": "2021-09-09T19:07:09.114454Z"
    },
    "collapsed": true
   },
   "outputs": [
    {
     "data": {
      "text/html": [
       "<div>\n",
       "<style scoped>\n",
       "    .dataframe tbody tr th:only-of-type {\n",
       "        vertical-align: middle;\n",
       "    }\n",
       "\n",
       "    .dataframe tbody tr th {\n",
       "        vertical-align: top;\n",
       "    }\n",
       "\n",
       "    .dataframe thead th {\n",
       "        text-align: right;\n",
       "    }\n",
       "</style>\n",
       "<table border=\"1\" class=\"dataframe\">\n",
       "  <thead>\n",
       "    <tr style=\"text-align: right;\">\n",
       "      <th></th>\n",
       "      <th>n_dominos</th>\n",
       "    </tr>\n",
       "  </thead>\n",
       "  <tbody>\n",
       "    <tr>\n",
       "      <th>0</th>\n",
       "      <td>42da515a36c463b4ed86a6d46749a41f</td>\n",
       "    </tr>\n",
       "    <tr>\n",
       "      <th>1</th>\n",
       "      <td>f0db0634a04ca32858cb5e2fd4bab249</td>\n",
       "    </tr>\n",
       "    <tr>\n",
       "      <th>2</th>\n",
       "      <td>b117cd77726bbd20cc6e86d786f8b86e</td>\n",
       "    </tr>\n",
       "    <tr>\n",
       "      <th>3</th>\n",
       "      <td>454885cbca886c011a8e38c6a746c059</td>\n",
       "    </tr>\n",
       "    <tr>\n",
       "      <th>4</th>\n",
       "      <td>debf178f1ff821ca86b116d0f631041e</td>\n",
       "    </tr>\n",
       "    <tr>\n",
       "      <th>...</th>\n",
       "      <td>...</td>\n",
       "    </tr>\n",
       "    <tr>\n",
       "      <th>7852</th>\n",
       "      <td>fd698ad2dc23cdf9b73231d8d2ffb862</td>\n",
       "    </tr>\n",
       "    <tr>\n",
       "      <th>7853</th>\n",
       "      <td>b2adddb88beaee1d0eb4298854aa12af</td>\n",
       "    </tr>\n",
       "    <tr>\n",
       "      <th>7854</th>\n",
       "      <td>9b87cea45ded2d175454a0643ec1dba2</td>\n",
       "    </tr>\n",
       "    <tr>\n",
       "      <th>7855</th>\n",
       "      <td>c96eb83cbe6ce5f90f9518f10ed82ac5</td>\n",
       "    </tr>\n",
       "    <tr>\n",
       "      <th>7856</th>\n",
       "      <td>b77fa31aca679a1b3b2cfe45f44e0cae</td>\n",
       "    </tr>\n",
       "  </tbody>\n",
       "</table>\n",
       "<p>7857 rows × 1 columns</p>\n",
       "</div>"
      ],
      "text/plain": [
       "                             n_dominos\n",
       "0     42da515a36c463b4ed86a6d46749a41f\n",
       "1     f0db0634a04ca32858cb5e2fd4bab249\n",
       "2     b117cd77726bbd20cc6e86d786f8b86e\n",
       "3     454885cbca886c011a8e38c6a746c059\n",
       "4     debf178f1ff821ca86b116d0f631041e\n",
       "...                                ...\n",
       "7852  fd698ad2dc23cdf9b73231d8d2ffb862\n",
       "7853  b2adddb88beaee1d0eb4298854aa12af\n",
       "7854  9b87cea45ded2d175454a0643ec1dba2\n",
       "7855  c96eb83cbe6ce5f90f9518f10ed82ac5\n",
       "7856  b77fa31aca679a1b3b2cfe45f44e0cae\n",
       "\n",
       "[7857 rows x 1 columns]"
      ]
     },
     "execution_count": 75,
     "metadata": {},
     "output_type": "execute_result"
    }
   ],
   "source": [
    "run_query(f'''\n",
    "select \n",
    "distinct dp4_merchant_xid as n_dominos\n",
    "from {dp4_transactions_table}\n",
    "where regexp_like(vendor_matched_vendors,'^DPZ:')\n",
    "and raw_file_date between '{dates[0]}' and '{dates[1]}'\n",
    "''')"
   ]
  },
  {
   "cell_type": "code",
   "execution_count": 74,
   "id": "a1dd27aa",
   "metadata": {
    "ExecuteTime": {
     "end_time": "2021-09-09T19:06:56.621401Z",
     "start_time": "2021-09-09T19:06:44.269335Z"
    }
   },
   "outputs": [
    {
     "data": {
      "text/html": [
       "<div>\n",
       "<style scoped>\n",
       "    .dataframe tbody tr th:only-of-type {\n",
       "        vertical-align: middle;\n",
       "    }\n",
       "\n",
       "    .dataframe tbody tr th {\n",
       "        vertical-align: top;\n",
       "    }\n",
       "\n",
       "    .dataframe thead th {\n",
       "        text-align: right;\n",
       "    }\n",
       "</style>\n",
       "<table border=\"1\" class=\"dataframe\">\n",
       "  <thead>\n",
       "    <tr style=\"text-align: right;\">\n",
       "      <th></th>\n",
       "      <th>n_dominos</th>\n",
       "    </tr>\n",
       "  </thead>\n",
       "  <tbody>\n",
       "    <tr>\n",
       "      <th>0</th>\n",
       "      <td>61beafb8a1c428ea0525e298f30eda48</td>\n",
       "    </tr>\n",
       "    <tr>\n",
       "      <th>1</th>\n",
       "      <td>b3d7c265c6ea751832c814c2991fba17</td>\n",
       "    </tr>\n",
       "    <tr>\n",
       "      <th>2</th>\n",
       "      <td>a6817b39912471d5bce01fb049cdcfb7</td>\n",
       "    </tr>\n",
       "    <tr>\n",
       "      <th>3</th>\n",
       "      <td>eccde96f578a4de644f499a65e9fbd33</td>\n",
       "    </tr>\n",
       "    <tr>\n",
       "      <th>4</th>\n",
       "      <td>4d5f35d61700aee75c0507792cc7241e</td>\n",
       "    </tr>\n",
       "    <tr>\n",
       "      <th>...</th>\n",
       "      <td>...</td>\n",
       "    </tr>\n",
       "    <tr>\n",
       "      <th>7216</th>\n",
       "      <td>f662a776ee7787e8a3dfdc9df2f33c3a</td>\n",
       "    </tr>\n",
       "    <tr>\n",
       "      <th>7217</th>\n",
       "      <td>ba51d7e56d18142145aa072395b25b10</td>\n",
       "    </tr>\n",
       "    <tr>\n",
       "      <th>7218</th>\n",
       "      <td>ba26f365ab112ed7591e76fde68238fa</td>\n",
       "    </tr>\n",
       "    <tr>\n",
       "      <th>7219</th>\n",
       "      <td>7fd89d7f524e43e7d8f46162f149f862</td>\n",
       "    </tr>\n",
       "    <tr>\n",
       "      <th>7220</th>\n",
       "      <td>84fa7c46c29e1f1751b40660b05c644e</td>\n",
       "    </tr>\n",
       "  </tbody>\n",
       "</table>\n",
       "<p>7221 rows × 1 columns</p>\n",
       "</div>"
      ],
      "text/plain": [
       "                             n_dominos\n",
       "0     61beafb8a1c428ea0525e298f30eda48\n",
       "1     b3d7c265c6ea751832c814c2991fba17\n",
       "2     a6817b39912471d5bce01fb049cdcfb7\n",
       "3     eccde96f578a4de644f499a65e9fbd33\n",
       "4     4d5f35d61700aee75c0507792cc7241e\n",
       "...                                ...\n",
       "7216  f662a776ee7787e8a3dfdc9df2f33c3a\n",
       "7217  ba51d7e56d18142145aa072395b25b10\n",
       "7218  ba26f365ab112ed7591e76fde68238fa\n",
       "7219  7fd89d7f524e43e7d8f46162f149f862\n",
       "7220  84fa7c46c29e1f1751b40660b05c644e\n",
       "\n",
       "[7221 rows x 1 columns]"
      ]
     },
     "execution_count": 74,
     "metadata": {},
     "output_type": "execute_result"
    }
   ],
   "source": [
    "run_query(f'''\n",
    "select \n",
    "distinct dp4_merchant_xid as n_dominos\n",
    "from {dp4_transactions_table}\n",
    "where regexp_like(vendor_matched_vendors,'^DPZ:')\n",
    "and raw_file_date between '{dates[0]}' and '{dates[1]}'\n",
    "and {dp4_filters}\n",
    "''')"
   ]
  },
  {
   "cell_type": "code",
   "execution_count": 80,
   "id": "7f59fc2e",
   "metadata": {
    "ExecuteTime": {
     "end_time": "2021-09-09T19:14:56.168477Z",
     "start_time": "2021-09-09T19:10:56.471218Z"
    },
    "collapsed": true
   },
   "outputs": [
    {
     "data": {
      "text/html": [
       "<div>\n",
       "<style scoped>\n",
       "    .dataframe tbody tr th:only-of-type {\n",
       "        vertical-align: middle;\n",
       "    }\n",
       "\n",
       "    .dataframe tbody tr th {\n",
       "        vertical-align: top;\n",
       "    }\n",
       "\n",
       "    .dataframe thead th {\n",
       "        text-align: right;\n",
       "    }\n",
       "</style>\n",
       "<table border=\"1\" class=\"dataframe\">\n",
       "  <thead>\n",
       "    <tr style=\"text-align: right;\">\n",
       "      <th></th>\n",
       "      <th>month</th>\n",
       "      <th>n</th>\n",
       "    </tr>\n",
       "  </thead>\n",
       "  <tbody>\n",
       "    <tr>\n",
       "      <th>0</th>\n",
       "      <td>2017-01-01</td>\n",
       "      <td>5674</td>\n",
       "    </tr>\n",
       "    <tr>\n",
       "      <th>1</th>\n",
       "      <td>2017-02-01</td>\n",
       "      <td>5644</td>\n",
       "    </tr>\n",
       "    <tr>\n",
       "      <th>2</th>\n",
       "      <td>2017-03-01</td>\n",
       "      <td>5727</td>\n",
       "    </tr>\n",
       "    <tr>\n",
       "      <th>3</th>\n",
       "      <td>2017-04-01</td>\n",
       "      <td>5702</td>\n",
       "    </tr>\n",
       "    <tr>\n",
       "      <th>4</th>\n",
       "      <td>2017-05-01</td>\n",
       "      <td>5746</td>\n",
       "    </tr>\n",
       "    <tr>\n",
       "      <th>5</th>\n",
       "      <td>2017-06-01</td>\n",
       "      <td>5756</td>\n",
       "    </tr>\n",
       "    <tr>\n",
       "      <th>6</th>\n",
       "      <td>2017-07-01</td>\n",
       "      <td>5813</td>\n",
       "    </tr>\n",
       "    <tr>\n",
       "      <th>7</th>\n",
       "      <td>2017-08-01</td>\n",
       "      <td>5788</td>\n",
       "    </tr>\n",
       "    <tr>\n",
       "      <th>8</th>\n",
       "      <td>2017-09-01</td>\n",
       "      <td>5810</td>\n",
       "    </tr>\n",
       "    <tr>\n",
       "      <th>9</th>\n",
       "      <td>2017-10-01</td>\n",
       "      <td>5859</td>\n",
       "    </tr>\n",
       "    <tr>\n",
       "      <th>10</th>\n",
       "      <td>2017-11-01</td>\n",
       "      <td>5870</td>\n",
       "    </tr>\n",
       "    <tr>\n",
       "      <th>11</th>\n",
       "      <td>2017-12-01</td>\n",
       "      <td>5930</td>\n",
       "    </tr>\n",
       "    <tr>\n",
       "      <th>12</th>\n",
       "      <td>2018-01-01</td>\n",
       "      <td>5971</td>\n",
       "    </tr>\n",
       "    <tr>\n",
       "      <th>13</th>\n",
       "      <td>2018-02-01</td>\n",
       "      <td>5912</td>\n",
       "    </tr>\n",
       "    <tr>\n",
       "      <th>14</th>\n",
       "      <td>2018-03-01</td>\n",
       "      <td>5969</td>\n",
       "    </tr>\n",
       "    <tr>\n",
       "      <th>15</th>\n",
       "      <td>2018-04-01</td>\n",
       "      <td>5972</td>\n",
       "    </tr>\n",
       "    <tr>\n",
       "      <th>16</th>\n",
       "      <td>2018-05-01</td>\n",
       "      <td>6004</td>\n",
       "    </tr>\n",
       "    <tr>\n",
       "      <th>17</th>\n",
       "      <td>2018-06-01</td>\n",
       "      <td>6037</td>\n",
       "    </tr>\n",
       "    <tr>\n",
       "      <th>18</th>\n",
       "      <td>2018-07-01</td>\n",
       "      <td>6084</td>\n",
       "    </tr>\n",
       "    <tr>\n",
       "      <th>19</th>\n",
       "      <td>2018-08-01</td>\n",
       "      <td>6107</td>\n",
       "    </tr>\n",
       "    <tr>\n",
       "      <th>20</th>\n",
       "      <td>2018-09-01</td>\n",
       "      <td>6113</td>\n",
       "    </tr>\n",
       "    <tr>\n",
       "      <th>21</th>\n",
       "      <td>2018-10-01</td>\n",
       "      <td>6152</td>\n",
       "    </tr>\n",
       "    <tr>\n",
       "      <th>22</th>\n",
       "      <td>2018-11-01</td>\n",
       "      <td>6138</td>\n",
       "    </tr>\n",
       "    <tr>\n",
       "      <th>23</th>\n",
       "      <td>2018-12-01</td>\n",
       "      <td>6198</td>\n",
       "    </tr>\n",
       "    <tr>\n",
       "      <th>24</th>\n",
       "      <td>2019-01-01</td>\n",
       "      <td>6238</td>\n",
       "    </tr>\n",
       "    <tr>\n",
       "      <th>25</th>\n",
       "      <td>2019-02-01</td>\n",
       "      <td>6207</td>\n",
       "    </tr>\n",
       "    <tr>\n",
       "      <th>26</th>\n",
       "      <td>2019-03-01</td>\n",
       "      <td>6313</td>\n",
       "    </tr>\n",
       "    <tr>\n",
       "      <th>27</th>\n",
       "      <td>2019-04-01</td>\n",
       "      <td>6297</td>\n",
       "    </tr>\n",
       "    <tr>\n",
       "      <th>28</th>\n",
       "      <td>2019-05-01</td>\n",
       "      <td>6326</td>\n",
       "    </tr>\n",
       "    <tr>\n",
       "      <th>29</th>\n",
       "      <td>2019-06-01</td>\n",
       "      <td>6297</td>\n",
       "    </tr>\n",
       "    <tr>\n",
       "      <th>30</th>\n",
       "      <td>2019-07-01</td>\n",
       "      <td>6374</td>\n",
       "    </tr>\n",
       "    <tr>\n",
       "      <th>31</th>\n",
       "      <td>2019-08-01</td>\n",
       "      <td>6358</td>\n",
       "    </tr>\n",
       "    <tr>\n",
       "      <th>32</th>\n",
       "      <td>2019-09-01</td>\n",
       "      <td>6377</td>\n",
       "    </tr>\n",
       "    <tr>\n",
       "      <th>33</th>\n",
       "      <td>2019-10-01</td>\n",
       "      <td>6426</td>\n",
       "    </tr>\n",
       "    <tr>\n",
       "      <th>34</th>\n",
       "      <td>2019-11-01</td>\n",
       "      <td>6457</td>\n",
       "    </tr>\n",
       "    <tr>\n",
       "      <th>35</th>\n",
       "      <td>2019-12-01</td>\n",
       "      <td>6630</td>\n",
       "    </tr>\n",
       "    <tr>\n",
       "      <th>36</th>\n",
       "      <td>2020-01-01</td>\n",
       "      <td>6521</td>\n",
       "    </tr>\n",
       "    <tr>\n",
       "      <th>37</th>\n",
       "      <td>2020-02-01</td>\n",
       "      <td>6509</td>\n",
       "    </tr>\n",
       "    <tr>\n",
       "      <th>38</th>\n",
       "      <td>2020-03-01</td>\n",
       "      <td>6555</td>\n",
       "    </tr>\n",
       "    <tr>\n",
       "      <th>39</th>\n",
       "      <td>2020-04-01</td>\n",
       "      <td>6559</td>\n",
       "    </tr>\n",
       "    <tr>\n",
       "      <th>40</th>\n",
       "      <td>2020-05-01</td>\n",
       "      <td>6564</td>\n",
       "    </tr>\n",
       "    <tr>\n",
       "      <th>41</th>\n",
       "      <td>2020-06-01</td>\n",
       "      <td>6594</td>\n",
       "    </tr>\n",
       "    <tr>\n",
       "      <th>42</th>\n",
       "      <td>2020-07-01</td>\n",
       "      <td>6681</td>\n",
       "    </tr>\n",
       "    <tr>\n",
       "      <th>43</th>\n",
       "      <td>2020-08-01</td>\n",
       "      <td>6672</td>\n",
       "    </tr>\n",
       "    <tr>\n",
       "      <th>44</th>\n",
       "      <td>2020-09-01</td>\n",
       "      <td>6704</td>\n",
       "    </tr>\n",
       "    <tr>\n",
       "      <th>45</th>\n",
       "      <td>2020-10-01</td>\n",
       "      <td>6682</td>\n",
       "    </tr>\n",
       "    <tr>\n",
       "      <th>46</th>\n",
       "      <td>2020-11-01</td>\n",
       "      <td>6705</td>\n",
       "    </tr>\n",
       "    <tr>\n",
       "      <th>47</th>\n",
       "      <td>2020-12-01</td>\n",
       "      <td>6741</td>\n",
       "    </tr>\n",
       "  </tbody>\n",
       "</table>\n",
       "</div>"
      ],
      "text/plain": [
       "        month     n\n",
       "0  2017-01-01  5674\n",
       "1  2017-02-01  5644\n",
       "2  2017-03-01  5727\n",
       "3  2017-04-01  5702\n",
       "4  2017-05-01  5746\n",
       "5  2017-06-01  5756\n",
       "6  2017-07-01  5813\n",
       "7  2017-08-01  5788\n",
       "8  2017-09-01  5810\n",
       "9  2017-10-01  5859\n",
       "10 2017-11-01  5870\n",
       "11 2017-12-01  5930\n",
       "12 2018-01-01  5971\n",
       "13 2018-02-01  5912\n",
       "14 2018-03-01  5969\n",
       "15 2018-04-01  5972\n",
       "16 2018-05-01  6004\n",
       "17 2018-06-01  6037\n",
       "18 2018-07-01  6084\n",
       "19 2018-08-01  6107\n",
       "20 2018-09-01  6113\n",
       "21 2018-10-01  6152\n",
       "22 2018-11-01  6138\n",
       "23 2018-12-01  6198\n",
       "24 2019-01-01  6238\n",
       "25 2019-02-01  6207\n",
       "26 2019-03-01  6313\n",
       "27 2019-04-01  6297\n",
       "28 2019-05-01  6326\n",
       "29 2019-06-01  6297\n",
       "30 2019-07-01  6374\n",
       "31 2019-08-01  6358\n",
       "32 2019-09-01  6377\n",
       "33 2019-10-01  6426\n",
       "34 2019-11-01  6457\n",
       "35 2019-12-01  6630\n",
       "36 2020-01-01  6521\n",
       "37 2020-02-01  6509\n",
       "38 2020-03-01  6555\n",
       "39 2020-04-01  6559\n",
       "40 2020-05-01  6564\n",
       "41 2020-06-01  6594\n",
       "42 2020-07-01  6681\n",
       "43 2020-08-01  6672\n",
       "44 2020-09-01  6704\n",
       "45 2020-10-01  6682\n",
       "46 2020-11-01  6705\n",
       "47 2020-12-01  6741"
      ]
     },
     "execution_count": 80,
     "metadata": {},
     "output_type": "execute_result"
    }
   ],
   "source": [
    "n_by_month = run_query(f'''\n",
    "select \n",
    "date_trunc('month', date(raw_file_date)) as month\n",
    ", count(distinct dp4_merchant_xid) as n\n",
    "from {dp4_transactions_table}\n",
    "where regexp_like(vendor_matched_vendors,'^DPZ:')\n",
    "--and raw_file_date between '{dates[0]}' and '{dates[1]}'\n",
    "and {dp4_filters}\n",
    "group by 1\n",
    "order by 1\n",
    "''',date_cols=['month'])"
   ]
  },
  {
   "cell_type": "code",
   "execution_count": 81,
   "id": "b486c234",
   "metadata": {
    "ExecuteTime": {
     "end_time": "2021-09-09T19:15:27.675901Z",
     "start_time": "2021-09-09T19:15:27.190808Z"
    }
   },
   "outputs": [
    {
     "data": {
      "text/plain": [
       "<AxesSubplot:xlabel='month'>"
      ]
     },
     "execution_count": 81,
     "metadata": {},
     "output_type": "execute_result"
    },
    {
     "data": {
      "image/png": "[encoded data removed]",
      "text/plain": [
       "<Figure size 432x288 with 1 Axes>"
      ]
     },
     "metadata": {
      "needs_background": "light"
     },
     "output_type": "display_data"
    }
   ],
   "source": [
    "n_by_month.plot(x='month',y='n')"
   ]
  },
  {
   "cell_type": "code",
   "execution_count": 82,
   "id": "fa883a94",
   "metadata": {
    "ExecuteTime": {
     "end_time": "2021-09-09T19:15:41.466034Z",
     "start_time": "2021-09-09T19:15:41.431830Z"
    }
   },
   "outputs": [
    {
     "data": {
      "text/plain": [
       "month    2020-12-01 00:00:00\n",
       "n                       6741\n",
       "dtype: object"
      ]
     },
     "execution_count": 82,
     "metadata": {},
     "output_type": "execute_result"
    }
   ],
   "source": [
    "n_by_month.max()"
   ]
  },
  {
   "cell_type": "markdown",
   "id": "58d3c25a",
   "metadata": {},
   "source": [
    "# Calculate fraction of active sales days in a given city that are active. (sql + python)\n",
    "\n",
    "Just realizing - could do this based on sales instead of days. Indicator variable for whether or not a store is active, then sum sales. "
   ]
  },
  {
   "cell_type": "code",
   "execution_count": 335,
   "id": "640d42df",
   "metadata": {
    "ExecuteTime": {
     "end_time": "2021-09-10T18:09:54.301053Z",
     "start_time": "2021-09-10T18:09:54.274667Z"
    }
   },
   "outputs": [],
   "source": [
    "dp4_transactions_table = \"scratch.dp4_anon.windcharger_20210604\"\n",
    "cte = {}\n",
    "cte['merchant_first_last'] = f\"\"\"merchant_first_last as\n",
    "    (select dp4_merchant_xid\n",
    "    , min(raw_transaction_date) as first_seen\n",
    "    , max(raw_transaction_date) as last_seen\n",
    "    from {dp4_transactions_table}\n",
    "    where regexp_like(vendor_matched_vendors,'^DPZ:')\n",
    "    --and raw_file_date between '{dates[0]}' and '{dates[1]}'\n",
    "    and {dp4_filters}\n",
    "    group by 1\n",
    "    )\"\"\"\n",
    "\n",
    "cte[\"mode_city\"] = f\"\"\" mode_city as (\n",
    "    select dp4_merchant_xid, location \n",
    "    from (\n",
    "        select \n",
    "        dp4_merchant_xid\n",
    "        , geo_city || ', ' || geo_state as location\n",
    "        , ROW_NUMBER() OVER (PARTITION BY dp4_merchant_xid ORDER BY COUNT(*) DESC) as seq\n",
    "        from {dp4_transactions_table} t\n",
    "        where geo_city is not null\n",
    "        and geo_state is not null\n",
    "        group by 1, 2\n",
    "    )\n",
    "    where seq = 1\n",
    "    )\"\"\"\n",
    "\n",
    "cte[\"city_merchant_first_last\"] = f\"\"\" city_merchant_first_last as (\n",
    "    select \n",
    "    dp4_merchant_xid\n",
    "    , first_seen\n",
    "    , last_seen\n",
    "    , location \n",
    "    from merchant_first_last\n",
    "    join mode_city using(dp4_merchant_xid)\n",
    "    )\n",
    "    \"\"\"\n",
    "\n",
    "\n",
    "cte[\"fiscal_quarters\"] = f''' fiscal_quarters as (\n",
    "    select\n",
    "    company\n",
    "    , quarter_start_date\n",
    "    , quarter_end_date\n",
    "    from bloomberg_revenue_and_estimates.v1_0_data\n",
    "    where company = 'DPZ'\n",
    "    and version = (select max(version) from bloomberg_revenue_and_estimates.v1_0_data)\n",
    "    and quarter_start_date >= date('2017-01-01')\n",
    "    order by company, quarter_start_date\n",
    "    )\n",
    "    '''\n",
    "\n",
    "cte['merchant_location_fq'] = f'''merchant_location_fq as (\n",
    "    select \n",
    "    location \n",
    "    , dp4_merchant_xid\n",
    "    , first_seen\n",
    "    , last_seen\n",
    "    , quarter_start_date\n",
    "    , quarter_end_date\n",
    "    from merchant_first_last d\n",
    "    join mode_city m using(dp4_merchant_xid)\n",
    "    join fiscal_quarters q\n",
    "    on first_seen <= quarter_end_date\n",
    "      and last_seen >= quarter_start_date\n",
    "      order by location, quarter_start_date)\n",
    "      '''"
   ]
  },
  {
   "cell_type": "code",
   "execution_count": 352,
   "id": "4a46bd50",
   "metadata": {
    "ExecuteTime": {
     "end_time": "2021-09-10T19:27:14.027387Z",
     "start_time": "2021-09-10T19:22:03.081212Z"
    }
   },
   "outputs": [],
   "source": [
    "cmd = f\"\"\"\n",
    "with {cte['merchant_first_last']}\n",
    ", {cte['mode_city']}\n",
    ", {cte['city_merchant_first_last']}\n",
    "select * from city_merchant_first_last\n",
    "limit 10\n",
    "\"\"\"\n",
    "first_seen_last_seen = run_query(\n",
    "    cmd, date_cols=[\"first_seen\", \"last_seen\"]\n",
    ")"
   ]
  },
  {
   "cell_type": "code",
   "execution_count": 353,
   "id": "bd80b254",
   "metadata": {
    "ExecuteTime": {
     "end_time": "2021-09-10T19:27:14.414288Z",
     "start_time": "2021-09-10T19:27:14.387328Z"
    }
   },
   "outputs": [
    {
     "data": {
      "text/html": [
       "<div>\n",
       "<style scoped>\n",
       "    .dataframe tbody tr th:only-of-type {\n",
       "        vertical-align: middle;\n",
       "    }\n",
       "\n",
       "    .dataframe tbody tr th {\n",
       "        vertical-align: top;\n",
       "    }\n",
       "\n",
       "    .dataframe thead th {\n",
       "        text-align: right;\n",
       "    }\n",
       "</style>\n",
       "<table border=\"1\" class=\"dataframe\">\n",
       "  <thead>\n",
       "    <tr style=\"text-align: right;\">\n",
       "      <th></th>\n",
       "      <th>dp4_merchant_xid</th>\n",
       "      <th>first_seen</th>\n",
       "      <th>last_seen</th>\n",
       "      <th>location</th>\n",
       "    </tr>\n",
       "  </thead>\n",
       "  <tbody>\n",
       "    <tr>\n",
       "      <th>0</th>\n",
       "      <td>b6889c01a913ca34f03bdca792a0a630</td>\n",
       "      <td>2017-01-02</td>\n",
       "      <td>2020-12-31</td>\n",
       "      <td>Park Ridge, IL</td>\n",
       "    </tr>\n",
       "    <tr>\n",
       "      <th>1</th>\n",
       "      <td>cd1004b0ad68adf61f8fa44b300b344c</td>\n",
       "      <td>2017-01-03</td>\n",
       "      <td>2020-12-30</td>\n",
       "      <td>Columbia, SC</td>\n",
       "    </tr>\n",
       "    <tr>\n",
       "      <th>2</th>\n",
       "      <td>a8607661b035b1b23e9450292e7c4484</td>\n",
       "      <td>2019-11-07</td>\n",
       "      <td>2020-12-30</td>\n",
       "      <td>Linden, NJ</td>\n",
       "    </tr>\n",
       "    <tr>\n",
       "      <th>3</th>\n",
       "      <td>7c543a419c239f94e4ec55f33cccc9b2</td>\n",
       "      <td>2019-03-07</td>\n",
       "      <td>2020-12-31</td>\n",
       "      <td>Zephyrhills, FL</td>\n",
       "    </tr>\n",
       "    <tr>\n",
       "      <th>4</th>\n",
       "      <td>dbd99c7146533db03701204919d6872b</td>\n",
       "      <td>2017-01-13</td>\n",
       "      <td>2020-12-31</td>\n",
       "      <td>Kingwood, TX</td>\n",
       "    </tr>\n",
       "    <tr>\n",
       "      <th>5</th>\n",
       "      <td>c1fc9766217f034134e229dcadcf9663</td>\n",
       "      <td>2017-04-05</td>\n",
       "      <td>2020-12-24</td>\n",
       "      <td>New City, NY</td>\n",
       "    </tr>\n",
       "    <tr>\n",
       "      <th>6</th>\n",
       "      <td>80c7c1512d730d48b0c275424bdad178</td>\n",
       "      <td>2017-01-01</td>\n",
       "      <td>2020-12-31</td>\n",
       "      <td>Maysville, KY</td>\n",
       "    </tr>\n",
       "    <tr>\n",
       "      <th>7</th>\n",
       "      <td>e91d19e55cc55e200b63ac8b9e714e35</td>\n",
       "      <td>2017-03-02</td>\n",
       "      <td>2020-12-30</td>\n",
       "      <td>Gainesville, GA</td>\n",
       "    </tr>\n",
       "    <tr>\n",
       "      <th>8</th>\n",
       "      <td>3d55445638743b809331948bbd185fb3</td>\n",
       "      <td>2017-01-03</td>\n",
       "      <td>2020-12-31</td>\n",
       "      <td>Grand Terrace, CA</td>\n",
       "    </tr>\n",
       "    <tr>\n",
       "      <th>9</th>\n",
       "      <td>c726e8be2d4311d1adb25c99e5a0144b</td>\n",
       "      <td>2019-02-22</td>\n",
       "      <td>2020-12-25</td>\n",
       "      <td>Las Cruces, NM</td>\n",
       "    </tr>\n",
       "  </tbody>\n",
       "</table>\n",
       "</div>"
      ],
      "text/plain": [
       "                   dp4_merchant_xid first_seen  last_seen           location\n",
       "0  b6889c01a913ca34f03bdca792a0a630 2017-01-02 2020-12-31     Park Ridge, IL\n",
       "1  cd1004b0ad68adf61f8fa44b300b344c 2017-01-03 2020-12-30       Columbia, SC\n",
       "2  a8607661b035b1b23e9450292e7c4484 2019-11-07 2020-12-30         Linden, NJ\n",
       "3  7c543a419c239f94e4ec55f33cccc9b2 2019-03-07 2020-12-31    Zephyrhills, FL\n",
       "4  dbd99c7146533db03701204919d6872b 2017-01-13 2020-12-31       Kingwood, TX\n",
       "5  c1fc9766217f034134e229dcadcf9663 2017-04-05 2020-12-24       New City, NY\n",
       "6  80c7c1512d730d48b0c275424bdad178 2017-01-01 2020-12-31      Maysville, KY\n",
       "7  e91d19e55cc55e200b63ac8b9e714e35 2017-03-02 2020-12-30    Gainesville, GA\n",
       "8  3d55445638743b809331948bbd185fb3 2017-01-03 2020-12-31  Grand Terrace, CA\n",
       "9  c726e8be2d4311d1adb25c99e5a0144b 2019-02-22 2020-12-25     Las Cruces, NM"
      ]
     },
     "execution_count": 353,
     "metadata": {},
     "output_type": "execute_result"
    }
   ],
   "source": [
    "first_seen_last_seen"
   ]
  },
  {
   "cell_type": "code",
   "execution_count": 170,
   "id": "d48dab50",
   "metadata": {
    "ExecuteTime": {
     "end_time": "2021-09-10T15:50:08.547263Z",
     "start_time": "2021-09-10T15:50:08.367358Z"
    }
   },
   "outputs": [
    {
     "data": {
      "text/plain": [
       "[Text(0.5, 0, 'years open'),\n",
       " Text(0, 0.5, 'n stores'),\n",
       " Text(0.5, 1.0, 'history')]"
      ]
     },
     "execution_count": 170,
     "metadata": {},
     "output_type": "execute_result"
    },
    {
     "data": {
      "image/png": "[encoded data removed]",
      "text/plain": [
       "<Figure size 432x288 with 1 Axes>"
      ]
     },
     "metadata": {
      "needs_background": "light"
     },
     "output_type": "display_data"
    }
   ],
   "source": [
    "first_seen_last_seen = first_seen_last_seen.assign(years_seen=lambda x: (x.last_seen-x.first_seen).dt.days/365)\n",
    "first_seen_last_seen.years_seen.hist()\n",
    "plt.gca().set(xlabel='years open',ylabel='n stores',title='history')"
   ]
  },
  {
   "cell_type": "code",
   "execution_count": 168,
   "id": "00bd5b71",
   "metadata": {
    "ExecuteTime": {
     "end_time": "2021-09-10T15:49:46.616463Z",
     "start_time": "2021-09-10T15:49:46.588049Z"
    }
   },
   "outputs": [
    {
     "data": {
      "text/plain": [
       "dp4_merchant_xid     e94ea2dca900a13adef6c745bfe4d216\n",
       "first_seen                        2017-01-05 00:00:00\n",
       "first_established                 2018-01-05 00:00:00\n",
       "last_seen                         2020-12-05 00:00:00\n",
       "location                              Crown Point, IN\n",
       "days_seen                                    3.917808\n",
       "Name: 1093, dtype: object"
      ]
     },
     "execution_count": 168,
     "metadata": {},
     "output_type": "execute_result"
    }
   ],
   "source": [
    "first_seen_last_seen.loc[first_seen_last_seen.days_seen.idxmax(),:]"
   ]
  },
  {
   "cell_type": "code",
   "execution_count": 258,
   "id": "7b1582f4",
   "metadata": {
    "ExecuteTime": {
     "end_time": "2021-09-10T16:47:51.751174Z",
     "start_time": "2021-09-10T16:47:51.494715Z"
    },
    "collapsed": true
   },
   "outputs": [
    {
     "data": {
      "text/plain": [
       "location         quarter_start_date\n",
       "Albuquerque, NM  2017-01-02            0.000000\n",
       "                 2017-03-27            0.000000\n",
       "                 2017-06-19            0.000000\n",
       "                 2017-09-11            0.000000\n",
       "                 2018-01-01            0.933333\n",
       "                 2018-03-26            0.933333\n",
       "                 2018-06-18            0.933333\n",
       "                 2018-09-10            0.933333\n",
       "                 2018-12-31            1.000000\n",
       "                 2019-03-25            1.000000\n",
       "                 2019-06-17            0.998415\n",
       "                 2019-09-09            0.949153\n",
       "                 2019-12-30            0.000000\n",
       "                 2020-03-23            0.000000\n",
       "                 2020-06-15            0.000000\n",
       "                 2020-09-07            0.000000\n",
       "dtype: float64"
      ]
     },
     "execution_count": 258,
     "metadata": {},
     "output_type": "execute_result"
    }
   ],
   "source": [
    "def calc_days_active(row: pd.Series):\n",
    "    start_date = row.loc[[\"first_seen\", \"quarter_start_date\"]].max()\n",
    "    end_date = row.loc[[\"last_seen\", \"quarter_end_date\"]].min()\n",
    "    return (end_date - start_date).days + 1\n",
    "\n",
    "\n",
    "def calc_days_established(row, months_to_establish=12):\n",
    "    if (\n",
    "        row.quarter_start_date\n",
    "        >= row.first_seen + pd.offsets.DateOffset(months=12)\n",
    "    ) and (\n",
    "        row.last_seen\n",
    "        >= row.quarter_end_date + pd.offsets.DateOffset(months=months_to_establish)\n",
    "    ):\n",
    "        return (row.quarter_end_date - row.quarter_start_date).days + 1\n",
    "    else:\n",
    "        return 0\n",
    "\n",
    "def get_one_locations_quarterly_fraction(sub_df):\n",
    "    return sub_df.assign(\n",
    "        days_active=lambda x: x.apply(calc_days_active, axis=1),\n",
    "        days_established_yoy=lambda x: x.apply(calc_days_established, axis=1),\n",
    "    ).groupby([\"location\", \"quarter_start_date\"]).apply(\n",
    "        lambda x: x.days_established_yoy.sum() / x.days_active.sum()\n",
    "    )\n",
    "\n"
   ]
  },
  {
   "cell_type": "code",
   "execution_count": 254,
   "id": "1ee5d685",
   "metadata": {
    "ExecuteTime": {
     "end_time": "2021-09-10T16:47:50.414509Z",
     "start_time": "2021-09-10T16:42:24.170433Z"
    }
   },
   "outputs": [],
   "source": [
    "dp4_transactions_table = \"scratch.dp4_anon.windcharger_20210604\"\n",
    "cmd = f'''\n",
    "\n",
    "with {cte['first_last']}\n",
    "\n",
    ", {cte['mode_city']}\n",
    "    \n",
    ", {cte['fiscal_quarters']}\n",
    "    \n",
    ", {cte['merchant_location_fq']}\n",
    "select * from merchant_location_fq\n",
    "\n",
    "'''\n",
    "all_fq = run_query(cmd,date_cols=['first_seen','last_seen','quarter_start_date','quarter_end_date'])"
   ]
  },
  {
   "cell_type": "code",
   "execution_count": null,
   "id": "7a627e0f",
   "metadata": {},
   "outputs": [],
   "source": [
    "sub_df = all_fq.query(\"location == 'Albuquerque, NM'\").sort_values(['dp4_merchant_xid','quarter_start_date'])\n",
    "get_one_locations_quarterly_fraction(sub_df)"
   ]
  },
  {
   "cell_type": "code",
   "execution_count": 259,
   "id": "669cd19b",
   "metadata": {
    "ExecuteTime": {
     "end_time": "2021-09-10T16:49:39.880653Z",
     "start_time": "2021-09-10T16:47:51.993755Z"
    }
   },
   "outputs": [],
   "source": [
    "final_series = all_fq.groupby('location',group_keys=False).apply(get_one_locations_quarterly_fraction)\n",
    "final_series.replace({0.0:np.nan}).dropna()"
   ]
  },
  {
   "cell_type": "markdown",
   "id": "dbae0881",
   "metadata": {},
   "source": [
    "# use sql only"
   ]
  },
  {
   "cell_type": "code",
   "execution_count": 336,
   "id": "f757d94b",
   "metadata": {
    "ExecuteTime": {
     "end_time": "2021-09-10T18:10:00.488036Z",
     "start_time": "2021-09-10T18:10:00.461714Z"
    }
   },
   "outputs": [],
   "source": [
    "months_to_establish = 12\n",
    "cmd = f'''\n",
    "\n",
    "with {cte['merchant_first_last']}\n",
    "\n",
    ", {cte['mode_city']}\n",
    "    \n",
    ", {cte['fiscal_quarters']}\n",
    "    \n",
    ", {cte['merchant_location_fq']}\n",
    "\n",
    ", active_days as (\n",
    "    select *\n",
    "    , day(least(last_seen,quarter_end_date) - greatest(first_seen, quarter_start_date) + interval '1' day) as days_active\n",
    "    , case when \n",
    "        (quarter_start_date >= date(first_seen) + interval '12' month)\n",
    "          and \n",
    "        (last_seen >= (quarter_end_date + interval '{months_to_establish}' month))\n",
    "        then day(quarter_end_date - quarter_start_date + interval '1' day)\n",
    "        else\n",
    "        0\n",
    "        end as days_established\n",
    "    from merchant_location_fq\n",
    ")\n",
    "\n",
    "select *\n",
    "from active_days\n",
    "'''\n",
    "\n",
    "# print(cmd)\n",
    "active_established = run_query(cmd)"
   ]
  },
  {
   "cell_type": "code",
   "execution_count": 345,
   "id": "277d5a18",
   "metadata": {
    "ExecuteTime": {
     "end_time": "2021-09-10T18:46:16.776643Z",
     "start_time": "2021-09-10T18:46:16.731515Z"
    }
   },
   "outputs": [
    {
     "data": {
      "text/plain": [
       "quarter_start_date\n",
       "2017-01-02    0.000000\n",
       "2017-03-27    0.000000\n",
       "2017-06-19    0.000000\n",
       "2017-09-11    0.000000\n",
       "2018-01-01    0.933333\n",
       "2018-03-26    0.933333\n",
       "2018-06-18    0.933333\n",
       "2018-09-10    0.933333\n",
       "2018-12-31    1.000000\n",
       "2019-03-25    1.000000\n",
       "2019-06-17    0.998415\n",
       "2019-09-09    0.949153\n",
       "2019-12-30    0.000000\n",
       "2020-03-23    0.000000\n",
       "2020-06-15    0.000000\n",
       "2020-09-07    0.000000\n",
       "dtype: float64"
      ]
     },
     "execution_count": 345,
     "metadata": {},
     "output_type": "execute_result"
    }
   ],
   "source": [
    "(\n",
    "    active_established.loc[active_established.location == \"Albuquerque, NM\", :]\n",
    "    .groupby(\"quarter_start_date\")\n",
    "    .apply(lambda x: x.days_established.sum()/x.days_active.sum())\n",
    ")"
   ]
  },
  {
   "cell_type": "code",
   "execution_count": null,
   "id": "ad1c9dcb",
   "metadata": {
    "ExecuteTime": {
     "start_time": "2021-09-13T21:20:10.800Z"
    }
   },
   "outputs": [],
   "source": [
    "months_to_establish = 12\n",
    "cmd = f'''\n",
    "\n",
    "with {cte['merchant_first_last']}\n",
    "\n",
    ", {cte['mode_city']}\n",
    "    \n",
    ", {cte['fiscal_quarters']}\n",
    "    \n",
    ", {cte['merchant_location_fq']}\n",
    "\n",
    ", arbitrary_open_if_date as (select max(raw_transaction_date) - interval '14' day as last_date from {dp4_transactions_table})\n",
    "\n",
    ", active_days as (\n",
    "    select *\n",
    "    , day(least(last_seen,quarter_end_date) - greatest(first_seen, quarter_start_date) + interval '1' day) as days_active\n",
    "    , case when \n",
    "        (quarter_start_date >= date(first_seen) + interval '12' month)\n",
    "          and \n",
    "        (last_seen >= LEAST((quarter_end_date + interval '{months_to_establish}' month),(select last_date from arbitrary_open_if_date)))\n",
    "        then day(quarter_end_date - quarter_start_date + interval '1' day)\n",
    "        else\n",
    "        0\n",
    "        end as days_established\n",
    "    , case when \n",
    "        (quarter_start_date >= date(first_seen) + interval '24' month)\n",
    "          and \n",
    "        (last_seen >= LEAST((quarter_end_date + interval '{months_to_establish}' month),(select last_date from arbitrary_open_if_date)))\n",
    "        then day(quarter_end_date - quarter_start_date + interval '1' day)\n",
    "        else\n",
    "        0\n",
    "        end as days_established_for_yoy\n",
    "    from merchant_location_fq\n",
    ")\n",
    "\n",
    "select *\n",
    "--quarter_start_date\n",
    "--, location\n",
    "--, (1e0*sum(days_established))/(1e0*sum(days_active)) as proportion_active\n",
    "--, (1e0*sum(days_established_for_yoy))/(1e0*sum(days_active)) as proportion_active_for_yoy\n",
    "from active_days\n",
    "--group by quarter_start_date, location\n",
    "'''\n",
    "scalars = run_query(cmd,date_cols=['first_seen','last_seen','quarter_start_date','quarter_end_date'])"
   ]
  },
  {
   "cell_type": "code",
   "execution_count": 361,
   "id": "3e14dc1b",
   "metadata": {
    "ExecuteTime": {
     "end_time": "2021-09-10T19:42:36.160799Z",
     "start_time": "2021-09-10T19:42:36.135063Z"
    }
   },
   "outputs": [
    {
     "name": "stdout",
     "output_type": "stream",
     "text": [
      "\n",
      "\n",
      "with merchant_first_last as\n",
      "    (select dp4_merchant_xid\n",
      "    , min(raw_transaction_date) as first_seen\n",
      "    , max(raw_transaction_date) as last_seen\n",
      "    from scratch.dp4_anon.windcharger_20210604\n",
      "    where regexp_like(vendor_matched_vendors,'^DPZ:')\n",
      "    --and raw_file_date between '2020-06-01' and '2020-09-30'\n",
      "    and dp4_transaction_type_cd in (\n",
      "    'B',   -- merchandise with cashback\n",
      "    'M',   -- merchandise\n",
      "    'N',   -- bill payment (non-recurring)\n",
      "    'Q',   -- quasi-cash, includes coinbase, online gambling etc\n",
      "    'U',   -- recurring charge/fee (investigate further)\n",
      "    'Z'    -- completion of pre-auth (P)\n",
      "    )\n",
      "and dp4_transaction_iso_currency_xcd = '840'  -- require USD\n",
      "and (dp4_merchant_country_xcd = '840'  -- require US based merchants\n",
      "    or dp4_merchant_country_xcd is null\n",
      "    or dp4_merchant_country_xcd = 'nan'\n",
      "    or dp4_merchant_country_xcd = '000'\n",
      "    )\n",
      "and (dp4_country_xcd = '840'     -- require US based consumers\n",
      "    or dp4_country_xcd is null\n",
      "    or dp4_country_xcd = 'nan'\n",
      "    or dp4_country_xcd = '000'\n",
      "    )\n",
      "and dp4_transaction_amt > 0  \n",
      "\n",
      "    group by 1\n",
      "    )\n",
      "\n",
      ",  mode_city as (\n",
      "    select dp4_merchant_xid, location \n",
      "    from (\n",
      "        select \n",
      "        dp4_merchant_xid\n",
      "        , geo_city || ', ' || geo_state as location\n",
      "        , ROW_NUMBER() OVER (PARTITION BY dp4_merchant_xid ORDER BY COUNT(*) DESC) as seq\n",
      "        from scratch.dp4_anon.windcharger_20210604 t\n",
      "        where geo_city is not null\n",
      "        and geo_state is not null\n",
      "        group by 1, 2\n",
      "    )\n",
      "    where seq = 1\n",
      "    )\n",
      "    \n",
      ",  fiscal_quarters as (\n",
      "    select\n",
      "    company\n",
      "    , quarter_start_date\n",
      "    , quarter_end_date\n",
      "    from bloomberg_revenue_and_estimates.v1_0_data\n",
      "    where company = 'DPZ'\n",
      "    and version = (select max(version) from bloomberg_revenue_and_estimates.v1_0_data)\n",
      "    and quarter_start_date >= date('2017-01-01')\n",
      "    order by company, quarter_start_date\n",
      "    )\n",
      "    \n",
      "    \n",
      ", merchant_location_fq as (\n",
      "    select \n",
      "    location \n",
      "    , dp4_merchant_xid\n",
      "    , first_seen\n",
      "    , last_seen\n",
      "    , quarter_start_date\n",
      "    , quarter_end_date\n",
      "    from merchant_first_last d\n",
      "    join mode_city m using(dp4_merchant_xid)\n",
      "    join fiscal_quarters q\n",
      "    on first_seen <= quarter_end_date\n",
      "      and last_seen >= quarter_start_date\n",
      "      order by location, quarter_start_date)\n",
      "      \n",
      "\n",
      ", arbitrary_open_if_date as (select max(raw_transaction_date) - interval '14' day as last_date from scratch.dp4_anon.windcharger_20210604)\n",
      "\n",
      ", active_days as (\n",
      "    select *\n",
      "    , day(least(last_seen,quarter_end_date) - greatest(first_seen, quarter_start_date) + interval '1' day) as days_active\n",
      "    , case when \n",
      "        (quarter_start_date >= date(first_seen) + interval '12' month)\n",
      "          and \n",
      "        (last_seen >= LEAST((quarter_end_date + interval '12' month),(select last_date from arbitrary_open_if_date)))\n",
      "        then day(quarter_end_date - quarter_start_date + interval '1' day)\n",
      "        else\n",
      "        0\n",
      "        end as days_established\n",
      "    , case when \n",
      "        (quarter_start_date >= date(first_seen) + interval '24' month)\n",
      "          and \n",
      "        (last_seen >= LEAST((quarter_end_date + interval '12' month),(select last_date from arbitrary_open_if_date)))\n",
      "        then day(quarter_end_date - quarter_start_date + interval '1' day)\n",
      "        else\n",
      "        0\n",
      "        end as days_established_for_yoy\n",
      "    from merchant_location_fq\n",
      ")\n",
      "\n",
      "select\n",
      "quarter_start_date\n",
      ", location\n",
      ", (1e0*sum(days_established))/(1e0*sum(days_active)) as proportion_active\n",
      ", (1e0*sum(days_established_for_yoy))/(1e0*sum(days_active)) as proportion_active_for_yoy\n",
      "from active_days\n",
      "group by quarter_start_date, location\n",
      "\n"
     ]
    }
   ],
   "source": [
    "print(cmd)"
   ]
  }
 ],
 "metadata": {
  "kernelspec": {
   "display_name": "Python 3 (ipykernel)",
   "language": "python",
   "name": "python3"
  },
  "language_info": {
   "codemirror_mode": {
    "name": "ipython",
    "version": 3
   },
   "file_extension": ".py",
   "mimetype": "text/x-python",
   "name": "python",
   "nbconvert_exporter": "python",
   "pygments_lexer": "ipython3",
   "version": "3.8.2"
  },
  "toc": {
   "base_numbering": 1,
   "nav_menu": {},
   "number_sections": true,
   "sideBar": true,
   "skip_h1_title": false,
   "title_cell": "Table of Contents",
   "title_sidebar": "Contents",
   "toc_cell": false,
   "toc_position": {
    "height": "calc(100% - 180px)",
    "left": "10px",
    "top": "150px",
    "width": "344px"
   },
   "toc_section_display": true,
   "toc_window_display": false
  },
  "varInspector": {
   "cols": {
    "lenName": 16,
    "lenType": 16,
    "lenVar": 40
   },
   "kernels_config": {
    "python": {
     "delete_cmd_postfix": "",
     "delete_cmd_prefix": "del ",
     "library": "var_list.py",
     "varRefreshCmd": "print(var_dic_list())"
    },
    "r": {
     "delete_cmd_postfix": ") ",
     "delete_cmd_prefix": "rm(",
     "library": "var_list.r",
     "varRefreshCmd": "cat(var_dic_list()) "
    }
   },
   "types_to_exclude": [
    "module",
    "function",
    "builtin_function_or_method",
    "instance",
    "_Feature"
   ],
   "window_display": false
  }
 },
 "nbformat": 4,
 "nbformat_minor": 5
}
