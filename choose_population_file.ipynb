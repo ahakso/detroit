{
 "cells": [
  {
   "cell_type": "markdown",
   "id": "e68b3791",
   "metadata": {},
   "source": [
    "We want block ids\n",
    "\n",
    "We want to use the census for its hierarchical nature, and pairing with the detroit data set\n",
    "\n",
    "Detroit uses 2010 and 2020 versions of census blocks\n",
    "\n",
    "options [here](https://data.census.gov/cedsci/table?q=Population%20Total&t=Counts,%20Estimates,%20and%20Projections&g=0500000US26163%241000000)\n",
    "\n",
    "\n",
    "* P1 from the decennial census breaks down by race (obviously get totals from there)\n",
    "* P2 is just hispanic/latino or not\n",
    "* H10 gives us population data by housing, with subsets thereof giving more slices\n",
    "* P12 sex and age"
   ]
  },
  {
   "cell_type": "markdown",
   "id": "3377fa13",
   "metadata": {},
   "source": [
    "# Read in several sources, check counts and consistency"
   ]
  },
  {
   "cell_type": "code",
   "execution_count": 67,
   "id": "6abc03e4",
   "metadata": {
    "ExecuteTime": {
     "end_time": "2022-02-08T18:50:01.051643Z",
     "start_time": "2022-02-08T18:50:00.943272Z"
    }
   },
   "outputs": [
    {
     "name": "stdout",
     "output_type": "stream",
     "text": [
      "(13913, 3)\n"
     ]
    },
    {
     "data": {
      "text/html": [
       "<div>\n",
       "<style scoped>\n",
       "    .dataframe tbody tr th:only-of-type {\n",
       "        vertical-align: middle;\n",
       "    }\n",
       "\n",
       "    .dataframe tbody tr th {\n",
       "        vertical-align: top;\n",
       "    }\n",
       "\n",
       "    .dataframe thead th {\n",
       "        text-align: right;\n",
       "    }\n",
       "</style>\n",
       "<table border=\"1\" class=\"dataframe\">\n",
       "  <thead>\n",
       "    <tr style=\"text-align: right;\">\n",
       "      <th></th>\n",
       "      <th>block_id</th>\n",
       "      <th>population</th>\n",
       "      <th>NAME</th>\n",
       "    </tr>\n",
       "  </thead>\n",
       "  <tbody>\n",
       "    <tr>\n",
       "      <th>0</th>\n",
       "      <td>2.616350e+14</td>\n",
       "      <td>44</td>\n",
       "      <td>Block 1012, Block Group 1, Census Tract 5001, ...</td>\n",
       "    </tr>\n",
       "    <tr>\n",
       "      <th>1</th>\n",
       "      <td>2.616350e+14</td>\n",
       "      <td>57</td>\n",
       "      <td>Block 1013, Block Group 1, Census Tract 5001, ...</td>\n",
       "    </tr>\n",
       "  </tbody>\n",
       "</table>\n",
       "</div>"
      ],
      "text/plain": [
       "       block_id  population                                               NAME\n",
       "0  2.616350e+14          44  Block 1012, Block Group 1, Census Tract 5001, ...\n",
       "1  2.616350e+14          57  Block 1013, Block Group 1, Census Tract 5001, ..."
      ]
     },
     "execution_count": 67,
     "metadata": {},
     "output_type": "execute_result"
    }
   ],
   "source": [
    "decennial_p10 = (\n",
    "    pd.read_csv(\n",
    "        \"/Users/ahakso/Downloads/productDownload_2022-01-28T162855/DECENNIALSF12010.P10_data_with_overlays_2022-01-28T162836.csv\",\n",
    "        usecols=[\"GEO_ID\", \"P010001\", \"NAME\"],\n",
    "        skiprows=[1],\n",
    "    )\n",
    "    .rename(columns={\"GEO_ID\": \"block_id\", \"P010001\": \"population\"})\n",
    "    .assign(block_id=lambda x: x.block_id.str.split(\"US\").apply(lambda s: s[1]))\n",
    "    .astype({\"block_id\": float})\n",
    ")\n",
    "# pop = pop\n",
    "print(decennial_p10.shape)\n",
    "(decennial_p10.head(2))"
   ]
  },
  {
   "cell_type": "code",
   "execution_count": 8,
   "id": "6865f1c0",
   "metadata": {
    "ExecuteTime": {
     "end_time": "2022-02-10T04:16:58.121118Z",
     "start_time": "2022-02-10T04:16:57.982197Z"
    }
   },
   "outputs": [
    {
     "name": "stdout",
     "output_type": "stream",
     "text": [
      "(32022, 2)\n"
     ]
    },
    {
     "data": {
      "text/html": [
       "<div>\n",
       "<style scoped>\n",
       "    .dataframe tbody tr th:only-of-type {\n",
       "        vertical-align: middle;\n",
       "    }\n",
       "\n",
       "    .dataframe tbody tr th {\n",
       "        vertical-align: top;\n",
       "    }\n",
       "\n",
       "    .dataframe thead th {\n",
       "        text-align: right;\n",
       "    }\n",
       "</style>\n",
       "<table border=\"1\" class=\"dataframe\">\n",
       "  <thead>\n",
       "    <tr style=\"text-align: right;\">\n",
       "      <th></th>\n",
       "      <th>block_id</th>\n",
       "      <th>population</th>\n",
       "    </tr>\n",
       "  </thead>\n",
       "  <tbody>\n",
       "    <tr>\n",
       "      <th>0</th>\n",
       "      <td>261635001001000</td>\n",
       "      <td>14</td>\n",
       "    </tr>\n",
       "    <tr>\n",
       "      <th>1</th>\n",
       "      <td>261635001001001</td>\n",
       "      <td>100</td>\n",
       "    </tr>\n",
       "  </tbody>\n",
       "</table>\n",
       "</div>"
      ],
      "text/plain": [
       "          block_id  population\n",
       "0  261635001001000          14\n",
       "1  261635001001001         100"
      ]
     },
     "execution_count": 8,
     "metadata": {},
     "output_type": "execute_result"
    }
   ],
   "source": [
    "cols = {\"GEO_ID\": \"block_id\", \"P1_001N\": \"population\"}\n",
    "decennial_p1_2020 = (\n",
    "    pd.read_csv(\n",
    "        \"population/DECENNIALPL2020.P1_data_with_overlays_2022-02-06T092022.csv\",\n",
    "        usecols=cols.keys(),\n",
    "        skiprows=[1],\n",
    "    )\n",
    "    .rename(columns=cols)\n",
    "    .assign(block_id=lambda x: x.block_id.str.split(\"US\").apply(lambda s: s[1]))\n",
    ")\n",
    "print(decennial_p1_2020.shape)\n",
    "(decennial_p1_2020.head(2))"
   ]
  },
  {
   "cell_type": "code",
   "execution_count": 68,
   "id": "6b4de999",
   "metadata": {
    "ExecuteTime": {
     "end_time": "2022-02-08T18:50:45.500279Z",
     "start_time": "2022-02-08T18:50:45.381206Z"
    }
   },
   "outputs": [
    {
     "name": "stdout",
     "output_type": "stream",
     "text": [
      "(13913, 3)\n"
     ]
    },
    {
     "data": {
      "text/html": [
       "<div>\n",
       "<style scoped>\n",
       "    .dataframe tbody tr th:only-of-type {\n",
       "        vertical-align: middle;\n",
       "    }\n",
       "\n",
       "    .dataframe tbody tr th {\n",
       "        vertical-align: top;\n",
       "    }\n",
       "\n",
       "    .dataframe thead th {\n",
       "        text-align: right;\n",
       "    }\n",
       "</style>\n",
       "<table border=\"1\" class=\"dataframe\">\n",
       "  <thead>\n",
       "    <tr style=\"text-align: right;\">\n",
       "      <th></th>\n",
       "      <th>block_id</th>\n",
       "      <th>population</th>\n",
       "      <th>NAME</th>\n",
       "    </tr>\n",
       "  </thead>\n",
       "  <tbody>\n",
       "    <tr>\n",
       "      <th>0</th>\n",
       "      <td>2.616350e+14</td>\n",
       "      <td>68</td>\n",
       "      <td>Block 1012, Block Group 1, Census Tract 5001, ...</td>\n",
       "    </tr>\n",
       "    <tr>\n",
       "      <th>1</th>\n",
       "      <td>2.616350e+14</td>\n",
       "      <td>98</td>\n",
       "      <td>Block 1013, Block Group 1, Census Tract 5001, ...</td>\n",
       "    </tr>\n",
       "  </tbody>\n",
       "</table>\n",
       "</div>"
      ],
      "text/plain": [
       "       block_id population                                               NAME\n",
       "0  2.616350e+14         68  Block 1012, Block Group 1, Census Tract 5001, ...\n",
       "1  2.616350e+14         98  Block 1013, Block Group 1, Census Tract 5001, ..."
      ]
     },
     "execution_count": 68,
     "metadata": {},
     "output_type": "execute_result"
    }
   ],
   "source": [
    "decennial_p1_2010 = (\n",
    "    pd.read_csv(\n",
    "        \"/Users/ahakso/Downloads/productDownload_2022-02-06T092039/DECENNIALPL2010.P1_data_with_overlays_2022-02-06T092022.csv\",\n",
    "        usecols=[\"GEO_ID\", \"P001001\", \"NAME\"],\n",
    "        skiprows=[1],\n",
    "    )\n",
    "    .rename(columns={\"GEO_ID\": \"block_id\", \"P001001\": \"population\"})\n",
    "    .assign(block_id=lambda x: x.block_id.str.split(\"US\").apply(lambda s: s[1]))\n",
    "    .astype({\"block_id\": float})\n",
    ")\n",
    "print(decennial_p1_2010.shape)\n",
    "(decennial_p1_2010.head(2))"
   ]
  },
  {
   "cell_type": "code",
   "execution_count": 71,
   "id": "bb90399f",
   "metadata": {
    "ExecuteTime": {
     "end_time": "2022-02-08T18:51:03.499406Z",
     "start_time": "2022-02-08T18:51:03.430344Z"
    }
   },
   "outputs": [
    {
     "data": {
      "text/plain": [
       "left_only     26466\n",
       "right_only     8357\n",
       "both           5556\n",
       "Name: _merge, dtype: int64"
      ]
     },
     "execution_count": 71,
     "metadata": {},
     "output_type": "execute_result"
    }
   ],
   "source": [
    "t = pd.merge(decennial_p1_2020,decennial_p1_2010,on='block_id',how='outer',indicator=True)\n",
    "t._merge.value_counts()"
   ]
  },
  {
   "cell_type": "code",
   "execution_count": 74,
   "id": "bf327ad7",
   "metadata": {
    "ExecuteTime": {
     "end_time": "2022-02-08T18:51:10.518327Z",
     "start_time": "2022-02-08T18:51:10.491388Z"
    }
   },
   "outputs": [
    {
     "name": "stdout",
     "output_type": "stream",
     "text": [
      "Block 1012, Block Group 1, Census Tract 5001, Wayne County, Michigan\n",
      "Block 1012, Block Group 1, Census Tract 5001, Wayne County, Michigan\n"
     ]
    }
   ],
   "source": [
    "tt = t.query(\"_merge == 'both' \")\n",
    "print(tt.NAME_x.iloc[0])\n",
    "print(tt.NAME_y.iloc[0])"
   ]
  },
  {
   "cell_type": "markdown",
   "id": "c4ab4a89",
   "metadata": {},
   "source": [
    "# Look at grain impact on zeros"
   ]
  },
  {
   "cell_type": "code",
   "execution_count": 200,
   "id": "9454ba5c",
   "metadata": {
    "ExecuteTime": {
     "end_time": "2022-02-08T21:23:00.872761Z",
     "start_time": "2022-02-08T21:23:00.617118Z"
    }
   },
   "outputs": [
    {
     "name": "stdout",
     "output_type": "stream",
     "text": [
      "Proportion 0 population: 0.1869\n"
     ]
    },
    {
     "data": {
      "image/png": "[encoded data removed]",
      "text/plain": [
       "<Figure size 432x288 with 1 Axes>"
      ]
     },
     "metadata": {
      "image/png": {
       "height": 288,
       "width": 401
      },
      "needs_background": "light"
     },
     "output_type": "display_data"
    }
   ],
   "source": [
    "# by block\n",
    "decennial_p1_2020.population.hist(bins=np.arange(0,1000,20))\n",
    "print(f\"Proportion 0 population: {(decennial_p1_2020.population==0).sum()/decennial_p1_2020.shape[0]:.4f}\")\n",
    "_ = plt.gca().set(title='block',xlabel='population')"
   ]
  },
  {
   "cell_type": "code",
   "execution_count": 201,
   "id": "f72eed61",
   "metadata": {
    "ExecuteTime": {
     "end_time": "2022-02-08T21:23:01.854129Z",
     "start_time": "2022-02-08T21:23:01.633018Z"
    }
   },
   "outputs": [
    {
     "name": "stdout",
     "output_type": "stream",
     "text": [
      "Proportion 0 population: 0.0312\n"
     ]
    },
    {
     "data": {
      "image/png": "[encoded data removed]",
      "text/plain": [
       "<Figure size 432x288 with 1 Axes>"
      ]
     },
     "metadata": {
      "image/png": {
       "height": 288,
       "width": 379
      },
      "needs_background": "light"
     },
     "output_type": "display_data"
    }
   ],
   "source": [
    "tmp = decennial_p1_2020.assign(block_group = lambda x: x.block_id.astype(int).astype(str).str[:-3]).groupby('block_group').population.sum()\n",
    "print(f\"Proportion 0 population: {(tmp==0).sum()/len(tmp):.4f}\")\n",
    "tmp.hist()\n",
    "_ = plt.gca().set(title='block group',xlabel='population')"
   ]
  },
  {
   "cell_type": "code",
   "execution_count": 202,
   "id": "7330e582",
   "metadata": {
    "ExecuteTime": {
     "end_time": "2022-02-08T21:23:02.758201Z",
     "start_time": "2022-02-08T21:23:02.559070Z"
    }
   },
   "outputs": [
    {
     "name": "stdout",
     "output_type": "stream",
     "text": [
      "Proportion 0 population: 0.0431\n"
     ]
    },
    {
     "data": {
      "image/png": "[encoded data removed]",
      "text/plain": [
       "<Figure size 432x288 with 1 Axes>"
      ]
     },
     "metadata": {
      "image/png": {
       "height": 288,
       "width": 379
      },
      "needs_background": "light"
     },
     "output_type": "display_data"
    }
   ],
   "source": [
    "tmp = decennial_p1_2020.assign(tract = lambda x: x.block_id.astype(int).astype(str).str[:-4]).groupby('tract').population.sum()\n",
    "print(f\"Proportion 0 population: {(tmp==0).sum()/len(tmp):.4f}\")\n",
    "tmp.hist()\n",
    "_ = plt.gca().set(title='tract',xlabel='population')"
   ]
  },
  {
   "cell_type": "markdown",
   "id": "5bfa38c0",
   "metadata": {},
   "source": [
    "# Check correspondence with 911 calls data"
   ]
  },
  {
   "cell_type": "code",
   "execution_count": 61,
   "id": "facd8936",
   "metadata": {
    "ExecuteTime": {
     "end_time": "2022-02-08T18:47:48.012095Z",
     "start_time": "2022-02-08T18:47:47.984956Z"
    }
   },
   "outputs": [],
   "source": [
    "import geopandas as gpd\n",
    "from util_detroit import kml_to_gpd, csv_with_x_y_to_gpd\n",
    "import re\n",
    "import time\n",
    "\n",
    "pd.options.display.max_rows = 300\n",
    "\n",
    "# Only read in the columns we want\n",
    "COLS_911 = [\n",
    "    \"calldescription\",\n",
    "    \"call_timestamp\", \n",
    "    \"block_id\",\n",
    "    \"category\",\n",
    "    \"officerinitiated\",\n",
    "    \"priority\",\n",
    "    \"oid\",\n",
    "    \"longitude\",\n",
    "    \"latitude\",\n",
    "]\n",
    "TYPES_911 = [str, str, float, str, str, str, int, float, float]\n",
    "# violent\n",
    "close_proxy = ['ASSAULT','SHOTS','SHOOTING','CUTTING','HOLD UP','WEAP','ROBBERY ARMED','VIOLENT - ARMED','RAPE','STABBED','SHOT']\n",
    "near_proxy = ['WITH WEAPON','DV','ABUSE','BREAKING AND ENTERING','BREAKING & ENTERING']\n",
    "expr = re.compile('|'.join(close_proxy))"
   ]
  },
  {
   "cell_type": "code",
   "execution_count": 63,
   "id": "ae14a383",
   "metadata": {
    "ExecuteTime": {
     "end_time": "2022-02-08T18:48:16.236124Z",
     "start_time": "2022-02-08T18:48:03.894992Z"
    }
   },
   "outputs": [],
   "source": [
    "# use a generator function to select rows we want in chunks rather than loading everything into memory at once\n",
    "generator = pd.read_csv(\n",
    "    \"calls_for_service_from_jimmy.csv\",\n",
    "    nrows=500000,\n",
    "    usecols=COLS_911,\n",
    "    parse_dates=[\"call_timestamp\"],\n",
    "    chunksize=1e4,\n",
    "    dtype=dict(zip(COLS_911, TYPES_911)),\n",
    ")\n",
    "\n",
    "call = (\n",
    "    pd.concat(\n",
    "        [x.loc[lambda x: x.calldescription.str.contains(expr)] for x in generator],\n",
    "        ignore_index=True,\n",
    "    )\n",
    ")\n",
    "\n",
    "call = gpd.GeoDataFrame(call,geometry=gpd.points_from_xy(call.longitude,call.latitude),crs='epsg:4327')\n",
    "# Remove some stray data points that are very far away in the same location\n",
    "call = call.loc[call.longitude > -83.4]"
   ]
  },
  {
   "cell_type": "code",
   "execution_count": 80,
   "id": "19a5e4f7",
   "metadata": {
    "ExecuteTime": {
     "end_time": "2022-02-08T18:52:45.647020Z",
     "start_time": "2022-02-08T18:52:45.579383Z"
    }
   },
   "outputs": [
    {
     "data": {
      "text/plain": [
       "right_only    27213\n",
       "both          17645\n",
       "left_only     14962\n",
       "Name: _merge, dtype: int64"
      ]
     },
     "execution_count": 80,
     "metadata": {},
     "output_type": "execute_result"
    }
   ],
   "source": [
    "t20 = pd.merge(call.loc[:,['block_id']],decennial_p1_2020,on='block_id',how='outer',indicator=True)\n",
    "\n",
    "t20._merge.value_counts()"
   ]
  },
  {
   "cell_type": "code",
   "execution_count": 79,
   "id": "6dd1a130",
   "metadata": {
    "ExecuteTime": {
     "end_time": "2022-02-08T18:52:41.490395Z",
     "start_time": "2022-02-08T18:52:41.418731Z"
    }
   },
   "outputs": [
    {
     "data": {
      "text/plain": [
       "left_only     22344\n",
       "right_only    10755\n",
       "both          10263\n",
       "Name: _merge, dtype: int64"
      ]
     },
     "execution_count": 79,
     "metadata": {},
     "output_type": "execute_result"
    }
   ],
   "source": [
    "t10 = pd.merge(call.loc[:,['block_id']],decennial_p1_2010,on='block_id',how='outer',indicator=True)\n",
    "\n",
    "t10._merge.value_counts()"
   ]
  },
  {
   "cell_type": "markdown",
   "id": "13f5df8d",
   "metadata": {},
   "source": [
    "# Relationship files\n",
    "\n",
    "From the census between 2010 and 2020\n",
    "\n",
    "Documentation [here](https://www.census.gov/programs-surveys/geography/technical-documentation/records-layout/2020-census-block-record-layout.html)"
   ]
  },
  {
   "cell_type": "code",
   "execution_count": 122,
   "id": "d25d8693",
   "metadata": {
    "ExecuteTime": {
     "end_time": "2022-02-08T19:19:01.240014Z",
     "start_time": "2022-02-08T19:19:00.662093Z"
    }
   },
   "outputs": [
    {
     "data": {
      "text/html": [
       "<div>\n",
       "<style scoped>\n",
       "    .dataframe tbody tr th:only-of-type {\n",
       "        vertical-align: middle;\n",
       "    }\n",
       "\n",
       "    .dataframe tbody tr th {\n",
       "        vertical-align: top;\n",
       "    }\n",
       "\n",
       "    .dataframe thead th {\n",
       "        text-align: right;\n",
       "    }\n",
       "</style>\n",
       "<table border=\"1\" class=\"dataframe\">\n",
       "  <thead>\n",
       "    <tr style=\"text-align: right;\">\n",
       "      <th></th>\n",
       "      <th>block10</th>\n",
       "      <th>block20</th>\n",
       "    </tr>\n",
       "  </thead>\n",
       "  <tbody>\n",
       "    <tr>\n",
       "      <th>316670</th>\n",
       "      <td>5001001000</td>\n",
       "      <td>5001002000</td>\n",
       "    </tr>\n",
       "    <tr>\n",
       "      <th>316671</th>\n",
       "      <td>5001001001</td>\n",
       "      <td>5001002001</td>\n",
       "    </tr>\n",
       "    <tr>\n",
       "      <th>316672</th>\n",
       "      <td>5001001002</td>\n",
       "      <td>5001002002</td>\n",
       "    </tr>\n",
       "    <tr>\n",
       "      <th>316673</th>\n",
       "      <td>5001001003</td>\n",
       "      <td>5001002003</td>\n",
       "    </tr>\n",
       "    <tr>\n",
       "      <th>316674</th>\n",
       "      <td>5001001004</td>\n",
       "      <td>5001002004</td>\n",
       "    </tr>\n",
       "    <tr>\n",
       "      <th>...</th>\n",
       "      <td>...</td>\n",
       "      <td>...</td>\n",
       "    </tr>\n",
       "    <tr>\n",
       "      <th>354583</th>\n",
       "      <td>9902002</td>\n",
       "      <td>9902001</td>\n",
       "    </tr>\n",
       "    <tr>\n",
       "      <th>354584</th>\n",
       "      <td>9902002</td>\n",
       "      <td>9902002</td>\n",
       "    </tr>\n",
       "    <tr>\n",
       "      <th>354585</th>\n",
       "      <td>9902003</td>\n",
       "      <td>9902003</td>\n",
       "    </tr>\n",
       "    <tr>\n",
       "      <th>354586</th>\n",
       "      <td>9902003</td>\n",
       "      <td>9902004</td>\n",
       "    </tr>\n",
       "    <tr>\n",
       "      <th>354587</th>\n",
       "      <td>9902004</td>\n",
       "      <td>9902004</td>\n",
       "    </tr>\n",
       "  </tbody>\n",
       "</table>\n",
       "<p>37918 rows × 2 columns</p>\n",
       "</div>"
      ],
      "text/plain": [
       "           block10     block20\n",
       "316670  5001001000  5001002000\n",
       "316671  5001001001  5001002001\n",
       "316672  5001001002  5001002002\n",
       "316673  5001001003  5001002003\n",
       "316674  5001001004  5001002004\n",
       "...            ...         ...\n",
       "354583     9902002     9902001\n",
       "354584     9902002     9902002\n",
       "354585     9902003     9902003\n",
       "354586     9902003     9902004\n",
       "354587     9902004     9902004\n",
       "\n",
       "[37918 rows x 2 columns]"
      ]
     },
     "execution_count": 122,
     "metadata": {},
     "output_type": "execute_result"
    }
   ],
   "source": [
    "# filter to wayne county only\n",
    "rel = (\n",
    "    pd.read_csv(\"/Users/ahakso/Downloads/tab2010_tab2020_st26_mi 2.txt\", delimiter=\"|\")\n",
    "    .loc[lambda x: x.COUNTY_2010 == 163]\n",
    "    .assign(\n",
    "        block10=lambda x: x.TRACT_2010.astype(str) + x.BLK_2010.astype(str),\n",
    "        block20=lambda x: x.TRACT_2020.astype(str) + x.BLK_2020.astype(str),\n",
    "    )\n",
    ")\n",
    "\n",
    "rel.loc[:,['block10','block20']]"
   ]
  },
  {
   "cell_type": "code",
   "execution_count": 129,
   "id": "8bd41dc3",
   "metadata": {
    "ExecuteTime": {
     "end_time": "2022-02-08T19:21:12.757718Z",
     "start_time": "2022-02-08T19:21:12.718370Z"
    }
   },
   "outputs": [
    {
     "name": "stdout",
     "output_type": "stream",
     "text": [
      "35943\n",
      "32031\n"
     ]
    }
   ],
   "source": [
    "print(rel.block10.nunique())\n",
    "print(rel.block20.nunique())"
   ]
  },
  {
   "cell_type": "code",
   "execution_count": 140,
   "id": "b4891848",
   "metadata": {
    "ExecuteTime": {
     "end_time": "2022-02-08T20:07:40.493144Z",
     "start_time": "2022-02-08T20:07:40.188574Z"
    }
   },
   "outputs": [
    {
     "data": {
      "text/plain": [
       "[Text(0.5, 0, 'Blocks per tract in 2010'),\n",
       " Text(0, 0.5, 'Tracts in wayne county')]"
      ]
     },
     "execution_count": 140,
     "metadata": {},
     "output_type": "execute_result"
    },
    {
     "data": {
      "image/png": "[encoded data removed]",
      "text/plain": [
       "<Figure size 432x288 with 1 Axes>"
      ]
     },
     "metadata": {
      "image/png": {
       "height": 268,
       "width": 397
      },
      "needs_background": "light"
     },
     "output_type": "display_data"
    }
   ],
   "source": [
    "rel.groupby('TRACT_2010').apply(lambda x: x.BLK_2010.nunique()).hist()\n",
    "plt.gca().set(xlabel='Blocks per tract in 2010',ylabel='Tracts in wayne county')"
   ]
  },
  {
   "cell_type": "code",
   "execution_count": 135,
   "id": "1a1a350a",
   "metadata": {
    "ExecuteTime": {
     "end_time": "2022-02-08T20:05:43.197093Z",
     "start_time": "2022-02-08T20:05:43.145331Z"
    }
   },
   "outputs": [
    {
     "data": {
      "text/plain": [
       "5454001004    20\n",
       "5645041015    16\n",
       "5645011015    15\n",
       "5646003007    10\n",
       "5225001006     9\n",
       "              ..\n",
       "5390001006     1\n",
       "5390001005     1\n",
       "5390001004     1\n",
       "5390001003     1\n",
       "9902004        1\n",
       "Name: block10, Length: 35943, dtype: int64"
      ]
     },
     "execution_count": 135,
     "metadata": {},
     "output_type": "execute_result"
    }
   ],
   "source": [
    "rel.block10.value_counts()"
   ]
  },
  {
   "cell_type": "code",
   "execution_count": 126,
   "id": "a948365a",
   "metadata": {
    "ExecuteTime": {
     "end_time": "2022-02-08T19:20:43.616266Z",
     "start_time": "2022-02-08T19:20:43.584219Z"
    }
   },
   "outputs": [
    {
     "data": {
      "text/plain": [
       "(3031, 20)"
      ]
     },
     "execution_count": 126,
     "metadata": {},
     "output_type": "execute_result"
    }
   ],
   "source": [
    "rel.loc[rel.block10 == rel.block20].shape"
   ]
  },
  {
   "cell_type": "code",
   "execution_count": 123,
   "id": "81b7840a",
   "metadata": {
    "ExecuteTime": {
     "end_time": "2022-02-08T19:19:47.152727Z",
     "start_time": "2022-02-08T19:19:47.101475Z"
    }
   },
   "outputs": [
    {
     "name": "stdout",
     "output_type": "stream",
     "text": [
      "29361\n",
      "32837\n"
     ]
    }
   ],
   "source": [
    "print(rel.loc[rel.block10 != rel.block20].block20.nunique())\n",
    "print(rel.loc[rel.BLK_2010 != rel.BLK_2020].block10.nunique())"
   ]
  },
  {
   "cell_type": "code",
   "execution_count": 110,
   "id": "2b756d35",
   "metadata": {
    "ExecuteTime": {
     "end_time": "2022-02-08T19:06:37.009490Z",
     "start_time": "2022-02-08T19:06:36.973961Z"
    }
   },
   "outputs": [
    {
     "data": {
      "text/html": [
       "<div>\n",
       "<style scoped>\n",
       "    .dataframe tbody tr th:only-of-type {\n",
       "        vertical-align: middle;\n",
       "    }\n",
       "\n",
       "    .dataframe tbody tr th {\n",
       "        vertical-align: top;\n",
       "    }\n",
       "\n",
       "    .dataframe thead th {\n",
       "        text-align: right;\n",
       "    }\n",
       "</style>\n",
       "<table border=\"1\" class=\"dataframe\">\n",
       "  <thead>\n",
       "    <tr style=\"text-align: right;\">\n",
       "      <th></th>\n",
       "      <th>TRACT_2010</th>\n",
       "      <th>TRACT_2020</th>\n",
       "      <th>BLK_2010</th>\n",
       "      <th>BLK_2020</th>\n",
       "      <th>AREALAND_2010</th>\n",
       "      <th>AREALAND_2020</th>\n",
       "      <th>AREALAND_INT</th>\n",
       "    </tr>\n",
       "  </thead>\n",
       "  <tbody>\n",
       "    <tr>\n",
       "      <th>316670</th>\n",
       "      <td>500100</td>\n",
       "      <td>500100</td>\n",
       "      <td>1000</td>\n",
       "      <td>2000</td>\n",
       "      <td>35936</td>\n",
       "      <td>35936</td>\n",
       "      <td>35936</td>\n",
       "    </tr>\n",
       "    <tr>\n",
       "      <th>316671</th>\n",
       "      <td>500100</td>\n",
       "      <td>500100</td>\n",
       "      <td>1001</td>\n",
       "      <td>2001</td>\n",
       "      <td>19718</td>\n",
       "      <td>19718</td>\n",
       "      <td>19718</td>\n",
       "    </tr>\n",
       "    <tr>\n",
       "      <th>316672</th>\n",
       "      <td>500100</td>\n",
       "      <td>500100</td>\n",
       "      <td>1002</td>\n",
       "      <td>2002</td>\n",
       "      <td>19969</td>\n",
       "      <td>19969</td>\n",
       "      <td>19969</td>\n",
       "    </tr>\n",
       "    <tr>\n",
       "      <th>316673</th>\n",
       "      <td>500100</td>\n",
       "      <td>500100</td>\n",
       "      <td>1003</td>\n",
       "      <td>2003</td>\n",
       "      <td>19672</td>\n",
       "      <td>19672</td>\n",
       "      <td>19672</td>\n",
       "    </tr>\n",
       "    <tr>\n",
       "      <th>316674</th>\n",
       "      <td>500100</td>\n",
       "      <td>500100</td>\n",
       "      <td>1004</td>\n",
       "      <td>2004</td>\n",
       "      <td>19777</td>\n",
       "      <td>19777</td>\n",
       "      <td>19777</td>\n",
       "    </tr>\n",
       "    <tr>\n",
       "      <th>...</th>\n",
       "      <td>...</td>\n",
       "      <td>...</td>\n",
       "      <td>...</td>\n",
       "      <td>...</td>\n",
       "      <td>...</td>\n",
       "      <td>...</td>\n",
       "      <td>...</td>\n",
       "    </tr>\n",
       "    <tr>\n",
       "      <th>354579</th>\n",
       "      <td>990100</td>\n",
       "      <td>990100</td>\n",
       "      <td>4</td>\n",
       "      <td>3</td>\n",
       "      <td>0</td>\n",
       "      <td>0</td>\n",
       "      <td>0</td>\n",
       "    </tr>\n",
       "    <tr>\n",
       "      <th>354580</th>\n",
       "      <td>990100</td>\n",
       "      <td>990100</td>\n",
       "      <td>5</td>\n",
       "      <td>4</td>\n",
       "      <td>0</td>\n",
       "      <td>0</td>\n",
       "      <td>0</td>\n",
       "    </tr>\n",
       "    <tr>\n",
       "      <th>354581</th>\n",
       "      <td>990100</td>\n",
       "      <td>990100</td>\n",
       "      <td>6</td>\n",
       "      <td>5</td>\n",
       "      <td>0</td>\n",
       "      <td>0</td>\n",
       "      <td>0</td>\n",
       "    </tr>\n",
       "    <tr>\n",
       "      <th>354583</th>\n",
       "      <td>990200</td>\n",
       "      <td>990200</td>\n",
       "      <td>2</td>\n",
       "      <td>1</td>\n",
       "      <td>0</td>\n",
       "      <td>0</td>\n",
       "      <td>0</td>\n",
       "    </tr>\n",
       "    <tr>\n",
       "      <th>354586</th>\n",
       "      <td>990200</td>\n",
       "      <td>990200</td>\n",
       "      <td>3</td>\n",
       "      <td>4</td>\n",
       "      <td>0</td>\n",
       "      <td>0</td>\n",
       "      <td>0</td>\n",
       "    </tr>\n",
       "  </tbody>\n",
       "</table>\n",
       "<p>34659 rows × 7 columns</p>\n",
       "</div>"
      ],
      "text/plain": [
       "        TRACT_2010  TRACT_2020  BLK_2010  BLK_2020  AREALAND_2010  \\\n",
       "316670      500100      500100      1000      2000          35936   \n",
       "316671      500100      500100      1001      2001          19718   \n",
       "316672      500100      500100      1002      2002          19969   \n",
       "316673      500100      500100      1003      2003          19672   \n",
       "316674      500100      500100      1004      2004          19777   \n",
       "...            ...         ...       ...       ...            ...   \n",
       "354579      990100      990100         4         3              0   \n",
       "354580      990100      990100         5         4              0   \n",
       "354581      990100      990100         6         5              0   \n",
       "354583      990200      990200         2         1              0   \n",
       "354586      990200      990200         3         4              0   \n",
       "\n",
       "        AREALAND_2020  AREALAND_INT  \n",
       "316670          35936         35936  \n",
       "316671          19718         19718  \n",
       "316672          19969         19969  \n",
       "316673          19672         19672  \n",
       "316674          19777         19777  \n",
       "...               ...           ...  \n",
       "354579              0             0  \n",
       "354580              0             0  \n",
       "354581              0             0  \n",
       "354583              0             0  \n",
       "354586              0             0  \n",
       "\n",
       "[34659 rows x 7 columns]"
      ]
     },
     "execution_count": 110,
     "metadata": {},
     "output_type": "execute_result"
    }
   ],
   "source": [
    "rel.loc[\n",
    "    rel.BLK_2010 != rel.BLK_2020,\n",
    "    [\n",
    "        \"TRACT_2010\",\n",
    "        \"TRACT_2020\",\n",
    "        \"BLK_2010\",\n",
    "        \"BLK_2020\",\n",
    "        \"AREALAND_2010\",\n",
    "        \"AREALAND_2020\",\n",
    "        \"AREALAND_INT\",\n",
    "    ],\n",
    "]"
   ]
  },
  {
   "cell_type": "code",
   "execution_count": 113,
   "id": "2fca88af",
   "metadata": {
    "ExecuteTime": {
     "end_time": "2022-02-08T19:14:57.589929Z",
     "start_time": "2022-02-08T19:14:57.544836Z"
    }
   },
   "outputs": [
    {
     "data": {
      "text/html": [
       "<div>\n",
       "<style scoped>\n",
       "    .dataframe tbody tr th:only-of-type {\n",
       "        vertical-align: middle;\n",
       "    }\n",
       "\n",
       "    .dataframe tbody tr th {\n",
       "        vertical-align: top;\n",
       "    }\n",
       "\n",
       "    .dataframe thead th {\n",
       "        text-align: right;\n",
       "    }\n",
       "</style>\n",
       "<table border=\"1\" class=\"dataframe\">\n",
       "  <thead>\n",
       "    <tr style=\"text-align: right;\">\n",
       "      <th></th>\n",
       "      <th>STATE_2010</th>\n",
       "      <th>COUNTY_2010</th>\n",
       "      <th>TRACT_2010</th>\n",
       "      <th>BLK_2010</th>\n",
       "      <th>BLKSF_2010</th>\n",
       "      <th>AREALAND_2010</th>\n",
       "      <th>AREAWATER_2010</th>\n",
       "      <th>BLOCK_PART_FLAG_O</th>\n",
       "      <th>STATE_2020</th>\n",
       "      <th>COUNTY_2020</th>\n",
       "      <th>TRACT_2020</th>\n",
       "      <th>BLK_2020</th>\n",
       "      <th>BLKSF_2020</th>\n",
       "      <th>AREALAND_2020</th>\n",
       "      <th>AREAWATER_2020</th>\n",
       "      <th>BLOCK_PART_FLAG_R</th>\n",
       "      <th>AREALAND_INT</th>\n",
       "      <th>AREAWATER_INT</th>\n",
       "    </tr>\n",
       "  </thead>\n",
       "  <tbody>\n",
       "    <tr>\n",
       "      <th>316670</th>\n",
       "      <td>26</td>\n",
       "      <td>163</td>\n",
       "      <td>500100</td>\n",
       "      <td>1000</td>\n",
       "      <td>NaN</td>\n",
       "      <td>35936</td>\n",
       "      <td>0</td>\n",
       "      <td>NaN</td>\n",
       "      <td>26</td>\n",
       "      <td>163</td>\n",
       "      <td>500100</td>\n",
       "      <td>2000</td>\n",
       "      <td>NaN</td>\n",
       "      <td>35936</td>\n",
       "      <td>0</td>\n",
       "      <td>NaN</td>\n",
       "      <td>35936</td>\n",
       "      <td>0</td>\n",
       "    </tr>\n",
       "    <tr>\n",
       "      <th>316741</th>\n",
       "      <td>26</td>\n",
       "      <td>163</td>\n",
       "      <td>500200</td>\n",
       "      <td>1000</td>\n",
       "      <td>NaN</td>\n",
       "      <td>19661</td>\n",
       "      <td>0</td>\n",
       "      <td>NaN</td>\n",
       "      <td>26</td>\n",
       "      <td>163</td>\n",
       "      <td>500200</td>\n",
       "      <td>2000</td>\n",
       "      <td>NaN</td>\n",
       "      <td>19661</td>\n",
       "      <td>0</td>\n",
       "      <td>NaN</td>\n",
       "      <td>19661</td>\n",
       "      <td>0</td>\n",
       "    </tr>\n",
       "    <tr>\n",
       "      <th>316785</th>\n",
       "      <td>26</td>\n",
       "      <td>163</td>\n",
       "      <td>500300</td>\n",
       "      <td>1000</td>\n",
       "      <td>NaN</td>\n",
       "      <td>21083</td>\n",
       "      <td>0</td>\n",
       "      <td>NaN</td>\n",
       "      <td>26</td>\n",
       "      <td>163</td>\n",
       "      <td>500300</td>\n",
       "      <td>2000</td>\n",
       "      <td>NaN</td>\n",
       "      <td>21083</td>\n",
       "      <td>0</td>\n",
       "      <td>NaN</td>\n",
       "      <td>21083</td>\n",
       "      <td>0</td>\n",
       "    </tr>\n",
       "    <tr>\n",
       "      <th>316835</th>\n",
       "      <td>26</td>\n",
       "      <td>163</td>\n",
       "      <td>500400</td>\n",
       "      <td>1000</td>\n",
       "      <td>NaN</td>\n",
       "      <td>19423</td>\n",
       "      <td>0</td>\n",
       "      <td>NaN</td>\n",
       "      <td>26</td>\n",
       "      <td>163</td>\n",
       "      <td>500400</td>\n",
       "      <td>2000</td>\n",
       "      <td>NaN</td>\n",
       "      <td>19423</td>\n",
       "      <td>0</td>\n",
       "      <td>NaN</td>\n",
       "      <td>19423</td>\n",
       "      <td>0</td>\n",
       "    </tr>\n",
       "    <tr>\n",
       "      <th>316884</th>\n",
       "      <td>26</td>\n",
       "      <td>163</td>\n",
       "      <td>500500</td>\n",
       "      <td>1000</td>\n",
       "      <td>NaN</td>\n",
       "      <td>10077</td>\n",
       "      <td>0</td>\n",
       "      <td>p</td>\n",
       "      <td>26</td>\n",
       "      <td>163</td>\n",
       "      <td>500500</td>\n",
       "      <td>1000</td>\n",
       "      <td>NaN</td>\n",
       "      <td>5001</td>\n",
       "      <td>0</td>\n",
       "      <td>NaN</td>\n",
       "      <td>5001</td>\n",
       "      <td>0</td>\n",
       "    </tr>\n",
       "    <tr>\n",
       "      <th>...</th>\n",
       "      <td>...</td>\n",
       "      <td>...</td>\n",
       "      <td>...</td>\n",
       "      <td>...</td>\n",
       "      <td>...</td>\n",
       "      <td>...</td>\n",
       "      <td>...</td>\n",
       "      <td>...</td>\n",
       "      <td>...</td>\n",
       "      <td>...</td>\n",
       "      <td>...</td>\n",
       "      <td>...</td>\n",
       "      <td>...</td>\n",
       "      <td>...</td>\n",
       "      <td>...</td>\n",
       "      <td>...</td>\n",
       "      <td>...</td>\n",
       "      <td>...</td>\n",
       "    </tr>\n",
       "    <tr>\n",
       "      <th>354321</th>\n",
       "      <td>26</td>\n",
       "      <td>163</td>\n",
       "      <td>985400</td>\n",
       "      <td>1000</td>\n",
       "      <td>NaN</td>\n",
       "      <td>29317</td>\n",
       "      <td>0</td>\n",
       "      <td>p</td>\n",
       "      <td>26</td>\n",
       "      <td>163</td>\n",
       "      <td>985400</td>\n",
       "      <td>1001</td>\n",
       "      <td>NaN</td>\n",
       "      <td>216292</td>\n",
       "      <td>0</td>\n",
       "      <td>p</td>\n",
       "      <td>213</td>\n",
       "      <td>0</td>\n",
       "    </tr>\n",
       "    <tr>\n",
       "      <th>354402</th>\n",
       "      <td>26</td>\n",
       "      <td>163</td>\n",
       "      <td>985500</td>\n",
       "      <td>1000</td>\n",
       "      <td>NaN</td>\n",
       "      <td>0</td>\n",
       "      <td>713356</td>\n",
       "      <td>NaN</td>\n",
       "      <td>26</td>\n",
       "      <td>163</td>\n",
       "      <td>985500</td>\n",
       "      <td>1000</td>\n",
       "      <td>NaN</td>\n",
       "      <td>0</td>\n",
       "      <td>2560276</td>\n",
       "      <td>p</td>\n",
       "      <td>0</td>\n",
       "      <td>713356</td>\n",
       "    </tr>\n",
       "    <tr>\n",
       "      <th>354492</th>\n",
       "      <td>26</td>\n",
       "      <td>163</td>\n",
       "      <td>985600</td>\n",
       "      <td>1000</td>\n",
       "      <td>NaN</td>\n",
       "      <td>0</td>\n",
       "      <td>542089</td>\n",
       "      <td>NaN</td>\n",
       "      <td>26</td>\n",
       "      <td>163</td>\n",
       "      <td>985600</td>\n",
       "      <td>1000</td>\n",
       "      <td>NaN</td>\n",
       "      <td>0</td>\n",
       "      <td>1258894</td>\n",
       "      <td>p</td>\n",
       "      <td>0</td>\n",
       "      <td>542089</td>\n",
       "    </tr>\n",
       "    <tr>\n",
       "      <th>354513</th>\n",
       "      <td>26</td>\n",
       "      <td>163</td>\n",
       "      <td>985700</td>\n",
       "      <td>1000</td>\n",
       "      <td>NaN</td>\n",
       "      <td>5306</td>\n",
       "      <td>0</td>\n",
       "      <td>NaN</td>\n",
       "      <td>26</td>\n",
       "      <td>163</td>\n",
       "      <td>985700</td>\n",
       "      <td>1000</td>\n",
       "      <td>NaN</td>\n",
       "      <td>65119</td>\n",
       "      <td>0</td>\n",
       "      <td>p</td>\n",
       "      <td>5306</td>\n",
       "      <td>0</td>\n",
       "    </tr>\n",
       "    <tr>\n",
       "      <th>354555</th>\n",
       "      <td>26</td>\n",
       "      <td>163</td>\n",
       "      <td>985900</td>\n",
       "      <td>1000</td>\n",
       "      <td>NaN</td>\n",
       "      <td>44931</td>\n",
       "      <td>0</td>\n",
       "      <td>NaN</td>\n",
       "      <td>26</td>\n",
       "      <td>163</td>\n",
       "      <td>985900</td>\n",
       "      <td>1000</td>\n",
       "      <td>NaN</td>\n",
       "      <td>194303</td>\n",
       "      <td>0</td>\n",
       "      <td>p</td>\n",
       "      <td>44931</td>\n",
       "      <td>0</td>\n",
       "    </tr>\n",
       "  </tbody>\n",
       "</table>\n",
       "<p>680 rows × 18 columns</p>\n",
       "</div>"
      ],
      "text/plain": [
       "        STATE_2010  COUNTY_2010  TRACT_2010  BLK_2010  BLKSF_2010  \\\n",
       "316670          26          163      500100      1000         NaN   \n",
       "316741          26          163      500200      1000         NaN   \n",
       "316785          26          163      500300      1000         NaN   \n",
       "316835          26          163      500400      1000         NaN   \n",
       "316884          26          163      500500      1000         NaN   \n",
       "...            ...          ...         ...       ...         ...   \n",
       "354321          26          163      985400      1000         NaN   \n",
       "354402          26          163      985500      1000         NaN   \n",
       "354492          26          163      985600      1000         NaN   \n",
       "354513          26          163      985700      1000         NaN   \n",
       "354555          26          163      985900      1000         NaN   \n",
       "\n",
       "        AREALAND_2010  AREAWATER_2010 BLOCK_PART_FLAG_O  STATE_2020  \\\n",
       "316670          35936               0               NaN          26   \n",
       "316741          19661               0               NaN          26   \n",
       "316785          21083               0               NaN          26   \n",
       "316835          19423               0               NaN          26   \n",
       "316884          10077               0                 p          26   \n",
       "...               ...             ...               ...         ...   \n",
       "354321          29317               0                 p          26   \n",
       "354402              0          713356               NaN          26   \n",
       "354492              0          542089               NaN          26   \n",
       "354513           5306               0               NaN          26   \n",
       "354555          44931               0               NaN          26   \n",
       "\n",
       "        COUNTY_2020  TRACT_2020  BLK_2020  BLKSF_2020  AREALAND_2020  \\\n",
       "316670          163      500100      2000         NaN          35936   \n",
       "316741          163      500200      2000         NaN          19661   \n",
       "316785          163      500300      2000         NaN          21083   \n",
       "316835          163      500400      2000         NaN          19423   \n",
       "316884          163      500500      1000         NaN           5001   \n",
       "...             ...         ...       ...         ...            ...   \n",
       "354321          163      985400      1001         NaN         216292   \n",
       "354402          163      985500      1000         NaN              0   \n",
       "354492          163      985600      1000         NaN              0   \n",
       "354513          163      985700      1000         NaN          65119   \n",
       "354555          163      985900      1000         NaN         194303   \n",
       "\n",
       "        AREAWATER_2020 BLOCK_PART_FLAG_R  AREALAND_INT  AREAWATER_INT  \n",
       "316670               0               NaN         35936              0  \n",
       "316741               0               NaN         19661              0  \n",
       "316785               0               NaN         21083              0  \n",
       "316835               0               NaN         19423              0  \n",
       "316884               0               NaN          5001              0  \n",
       "...                ...               ...           ...            ...  \n",
       "354321               0                 p           213              0  \n",
       "354402         2560276                 p             0         713356  \n",
       "354492         1258894                 p             0         542089  \n",
       "354513               0                 p          5306              0  \n",
       "354555               0                 p         44931              0  \n",
       "\n",
       "[680 rows x 18 columns]"
      ]
     },
     "execution_count": 113,
     "metadata": {},
     "output_type": "execute_result"
    }
   ],
   "source": [
    "rel.loc[lambda x: x.BLK_2010==1000]"
   ]
  },
  {
   "cell_type": "code",
   "execution_count": 112,
   "id": "0fc56369",
   "metadata": {
    "ExecuteTime": {
     "end_time": "2022-02-08T19:14:35.141472Z",
     "start_time": "2022-02-08T19:14:35.112894Z"
    }
   },
   "outputs": [
    {
     "data": {
      "text/plain": [
       "1000    680\n",
       "1004    660\n",
       "1002    651\n",
       "1003    645\n",
       "1006    640\n",
       "       ... \n",
       "2076      1\n",
       "2077      1\n",
       "2078      1\n",
       "2079      1\n",
       "6         1\n",
       "Name: BLK_2010, Length: 458, dtype: int64"
      ]
     },
     "execution_count": 112,
     "metadata": {},
     "output_type": "execute_result"
    }
   ],
   "source": [
    "rel.BLK_2010.value_counts()"
   ]
  },
  {
   "cell_type": "code",
   "execution_count": 103,
   "id": "b6ed52aa",
   "metadata": {
    "ExecuteTime": {
     "end_time": "2022-02-08T19:04:57.631863Z",
     "start_time": "2022-02-08T19:04:57.232963Z"
    }
   },
   "outputs": [
    {
     "data": {
      "text/plain": [
       "[Text(0.5, 0, 'meters on a side'), Text(0, 0.5, 'n blocks in michigan')]"
      ]
     },
     "execution_count": 103,
     "metadata": {},
     "output_type": "execute_result"
    },
    {
     "data": {
      "image/png": "[encoded data removed]",
      "text/plain": [
       "<Figure size 432x288 with 1 Axes>"
      ]
     },
     "metadata": {
      "image/png": {
       "height": 270,
       "width": 415
      },
      "needs_background": "light"
     },
     "output_type": "display_data"
    }
   ],
   "source": [
    "(rel.AREALAND_2010.loc[lambda x: x != 0]**.5).hist(bins=np.arange(0,1000,10))\n",
    "plt.gca().set(xlabel='meters on a side',ylabel='n blocks in michigan')"
   ]
  }
 ],
 "metadata": {
  "kernelspec": {
   "display_name": "detroit",
   "language": "python",
   "name": "detroit"
  },
  "language_info": {
   "codemirror_mode": {
    "name": "ipython",
    "version": 3
   },
   "file_extension": ".py",
   "mimetype": "text/x-python",
   "name": "python",
   "nbconvert_exporter": "python",
   "pygments_lexer": "ipython3",
   "version": "3.8.2"
  },
  "toc": {
   "base_numbering": 1,
   "nav_menu": {},
   "number_sections": true,
   "sideBar": true,
   "skip_h1_title": false,
   "title_cell": "Table of Contents",
   "title_sidebar": "Contents",
   "toc_cell": false,
   "toc_position": {},
   "toc_section_display": true,
   "toc_window_display": true
  },
  "varInspector": {
   "cols": {
    "lenName": 16,
    "lenType": 16,
    "lenVar": 40
   },
   "kernels_config": {
    "python": {
     "delete_cmd_postfix": "",
     "delete_cmd_prefix": "del ",
     "library": "var_list.py",
     "varRefreshCmd": "print(var_dic_list())"
    },
    "r": {
     "delete_cmd_postfix": ") ",
     "delete_cmd_prefix": "rm(",
     "library": "var_list.r",
     "varRefreshCmd": "cat(var_dic_list()) "
    }
   },
   "types_to_exclude": [
    "module",
    "function",
    "builtin_function_or_method",
    "instance",
    "_Feature"
   ],
   "window_display": false
  }
 },
 "nbformat": 4,
 "nbformat_minor": 5
}
