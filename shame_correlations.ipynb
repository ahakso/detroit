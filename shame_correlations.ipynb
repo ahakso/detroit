{
 "cells": [
  {
   "cell_type": "markdown",
   "id": "51f2ce90",
   "metadata": {},
   "source": [
    "# Neighborhoods question\n",
    "Q (from a meeting agenda Bloomberg_ Gun Violence Dashboard_ Meeting 2 Agenda.docx): \n",
    "```\n",
    "Final Neighborhood Questions:\n",
    "1. Not duplicating MSU Project Green Light (PGL) study, what new can we learn from PGL data that give insight to where interventions should be targeted?\n",
    "2. Are there specific locations/ property types that become magnets for gun violence incidents?\n",
    "3. What can we find unique to areas/ blocks where we see highest event rates (presence of empty lots, convenience stores, gas stations, bus stops, schools, etc)?\n",
    "```\n",
    "\n",
    "If we're looking to identify where interventions should be targeted... Detroit has the gun violence rates, so the clearly correct thing to do is target interventions where gun violence rates are high.\n",
    "\n",
    "Another way of viewing this question is to inform policy choices (change characteristics based on correlations and hope it's causal). This would require _way_ more work than we have time for"
   ]
  },
  {
   "cell_type": "code",
   "execution_count": 257,
   "id": "786acb7e",
   "metadata": {
    "ExecuteTime": {
     "end_time": "2022-03-02T21:52:18.562445Z",
     "start_time": "2022-03-02T21:52:18.511387Z"
    }
   },
   "outputs": [],
   "source": [
    "import geopandas as gpd\n",
    "\n",
    "from features.income import Income\n",
    "from features.violence_calls import ViolenceCalls\n",
    "from features.households import Households\n",
    "from features.population import Population\n",
    "from features.population_density import PopulationDensity\n",
    "from features.feature_constructor import Feature\n",
    "from features.out_of_state_rental_ownership import OutOfStateRentalOwnership\n",
    "from features.ddot_bus_stops import DDotBusStops\n",
    "from features.smart_bus_stops import SmartBusStops\n",
    "from features.rental_statuses import RentalStatuses\n",
    "from features.project_green_light_locations import ProjectGreenlightLocations\n",
    "from util_detroit import concatenate_features\n",
    "\n",
    "from detroit_geos import get_detroit_census_geos, get_detroit_boundaries\n",
    "\n",
    "import patsy\n",
    "from patsy import dmatrices, dmatrix\n",
    "import statsmodels.api as sm\n",
    "import statsmodels.formula.api as smf\n",
    "import seaborn as sns\n",
    "from sklearn.impute import SimpleImputer"
   ]
  },
  {
   "cell_type": "code",
   "execution_count": 2,
   "id": "70f01fcd",
   "metadata": {
    "ExecuteTime": {
     "end_time": "2022-03-02T19:50:21.645237Z",
     "start_time": "2022-03-02T19:50:13.191858Z"
    }
   },
   "outputs": [],
   "source": [
    "# Fetch geometries for visualization\n",
    "\n",
    "tracts = get_detroit_census_geos(decennial_census_year=2010,target_geo_grain='tract',).set_index('geo_id')\n",
    "detroit = get_detroit_boundaries()\n",
    "block = get_detroit_census_geos(decennial_census_year=2010,target_geo_grain='block').set_index('geo_id')"
   ]
  },
  {
   "cell_type": "markdown",
   "id": "1f907059",
   "metadata": {
    "ExecuteTime": {
     "end_time": "2022-03-02T20:05:34.311221Z",
     "start_time": "2022-03-02T20:05:34.276420Z"
    }
   },
   "source": [
    "# Build Features"
   ]
  },
  {
   "cell_type": "code",
   "execution_count": 258,
   "id": "98531d0e",
   "metadata": {
    "ExecuteTime": {
     "end_time": "2022-03-02T21:52:35.699969Z",
     "start_time": "2022-03-02T21:52:35.601011Z"
    }
   },
   "outputs": [],
   "source": [
    "target_geo_grain = \"tract\"\n",
    "feature_objects = [\n",
    "    Population(\n",
    "        decennial_census_year=2010, population_data_path=\"population\", verbose=False\n",
    "    ),\n",
    "    PopulationDensity(\n",
    "        decennial_census_year=2010,\n",
    "        population_data_path=\"population\",\n",
    "    ),\n",
    "    ViolenceCalls(decennial_census_year=2010, verbose=False),\n",
    "    Income(verbose=False),\n",
    "    Households(),\n",
    "    OutOfStateRentalOwnership(2010),\n",
    "    DDotBusStops(decennial_census_year=2010),\n",
    "    SmartBusStops(decennial_census_year=2010),\n",
    "    RentalStatuses(decennial_census_year=2010),\n",
    "    ProjectGreenlightLocations(decennial_census_year=2010),\n",
    "]\n",
    "feat_df = concatenate_features(feature_objects,'tract')"
   ]
  },
  {
   "cell_type": "markdown",
   "id": "5ee25f92",
   "metadata": {},
   "source": [
    "# Transform"
   ]
  },
  {
   "cell_type": "code",
   "execution_count": 286,
   "id": "893ce1be",
   "metadata": {
    "ExecuteTime": {
     "end_time": "2022-03-03T20:40:39.282981Z",
     "start_time": "2022-03-03T20:40:39.196835Z"
    }
   },
   "outputs": [],
   "source": [
    "from munge_features import transform_1\n",
    "df = transform_1(feat_df)"
   ]
  },
  {
   "cell_type": "code",
   "execution_count": 260,
   "id": "7afbdc86",
   "metadata": {
    "ExecuteTime": {
     "end_time": "2022-03-02T21:52:41.927153Z",
     "start_time": "2022-03-02T21:52:41.865163Z"
    }
   },
   "outputs": [],
   "source": [
    "formula_bones = \"call_rate ~ \" + '\\n+ '.join([x for x in df.columns if ('call_rate' not in x)])\n",
    "formula = formula_bones.replace('per_household_income','np.log(per_household_income)')\n",
    "y, X = dmatrices(\n",
    "    formula_like=formula,\n",
    "    data=df,\n",
    "    return_type=\"dataframe\",\n",
    ")\n",
    "D = dmatrix(\n",
    "    formula_like=formula.replace('~','+'),\n",
    "    data=df,\n",
    "    return_type=\"dataframe\",\n",
    ")"
   ]
  },
  {
   "cell_type": "code",
   "execution_count": 283,
   "id": "53013110",
   "metadata": {
    "ExecuteTime": {
     "end_time": "2022-03-03T20:39:53.927506Z",
     "start_time": "2022-03-03T20:39:53.893330Z"
    }
   },
   "outputs": [],
   "source": [
    "colname_map = dict(\n",
    "    zip(\n",
    "        r2.index,\n",
    "        [\n",
    "            \"People per household\",\n",
    "            \"proportion of rental units owned out of state\",\n",
    "            \"rental units per sq km\",\n",
    "            \"gleenlight locations/km^2\",\n",
    "            \"bus stops /km^2\",\n",
    "            \"population density\",\n",
    "            \"log income\",\n",
    "            \"proportion of households married\",\n",
    "        ],\n",
    "    )\n",
    ")"
   ]
  },
  {
   "cell_type": "code",
   "execution_count": 285,
   "id": "a48635d2",
   "metadata": {
    "ExecuteTime": {
     "end_time": "2022-03-03T20:40:11.454169Z",
     "start_time": "2022-03-03T20:40:11.361489Z"
    }
   },
   "outputs": [],
   "source": [
    "r2.to_clipboard()"
   ]
  },
  {
   "cell_type": "code",
   "execution_count": 274,
   "id": "dc8c4958",
   "metadata": {
    "ExecuteTime": {
     "end_time": "2022-03-03T04:46:13.895128Z",
     "start_time": "2022-03-03T04:46:13.855519Z"
    }
   },
   "outputs": [],
   "source": [
    "r2 = (D.corr()**2).call_rate.sort_values()\n"
   ]
  },
  {
   "cell_type": "markdown",
   "id": "a2b736e5",
   "metadata": {},
   "source": [
    "# Run regressions"
   ]
  },
  {
   "cell_type": "code",
   "execution_count": 277,
   "id": "82aba45d",
   "metadata": {
    "ExecuteTime": {
     "end_time": "2022-03-03T04:50:33.304900Z",
     "start_time": "2022-03-03T04:50:33.210645Z"
    }
   },
   "outputs": [
    {
     "data": {
      "text/html": [
       "<table class=\"simpletable\">\n",
       "<caption>OLS Regression Results</caption>\n",
       "<tr>\n",
       "  <th>Dep. Variable:</th>        <td>call_rate</td>    <th>  R-squared:         </th> <td>   0.265</td>\n",
       "</tr>\n",
       "<tr>\n",
       "  <th>Model:</th>                   <td>OLS</td>       <th>  Adj. R-squared:    </th> <td>   0.247</td>\n",
       "</tr>\n",
       "<tr>\n",
       "  <th>Method:</th>             <td>Least Squares</td>  <th>  F-statistic:       </th> <td>   14.96</td>\n",
       "</tr>\n",
       "<tr>\n",
       "  <th>Date:</th>             <td>Wed, 02 Mar 2022</td> <th>  Prob (F-statistic):</th> <td>9.87e-19</td>\n",
       "</tr>\n",
       "<tr>\n",
       "  <th>Time:</th>                 <td>20:50:33</td>     <th>  Log-Likelihood:    </th> <td> -89.441</td>\n",
       "</tr>\n",
       "<tr>\n",
       "  <th>No. Observations:</th>      <td>   341</td>      <th>  AIC:               </th> <td>   196.9</td>\n",
       "</tr>\n",
       "<tr>\n",
       "  <th>Df Residuals:</th>          <td>   332</td>      <th>  BIC:               </th> <td>   231.4</td>\n",
       "</tr>\n",
       "<tr>\n",
       "  <th>Df Model:</th>              <td>     8</td>      <th>                     </th>     <td> </td>   \n",
       "</tr>\n",
       "<tr>\n",
       "  <th>Covariance Type:</th>      <td>nonrobust</td>    <th>                     </th>     <td> </td>   \n",
       "</tr>\n",
       "</table>\n",
       "<table class=\"simpletable\">\n",
       "<tr>\n",
       "                <td></td>                   <th>coef</th>     <th>std err</th>      <th>t</th>      <th>P>|t|</th>  <th>[0.025</th>    <th>0.975]</th>  \n",
       "</tr>\n",
       "<tr>\n",
       "  <th>Intercept</th>                     <td>    1.3880</td> <td>    0.690</td> <td>    2.011</td> <td> 0.045</td> <td>    0.030</td> <td>    2.746</td>\n",
       "</tr>\n",
       "<tr>\n",
       "  <th>population_density</th>            <td>   -0.0001</td> <td> 3.61e-05</td> <td>   -3.575</td> <td> 0.000</td> <td>   -0.000</td> <td> -5.8e-05</td>\n",
       "</tr>\n",
       "<tr>\n",
       "  <th>np.log(per_household_income)</th>  <td>   -0.0723</td> <td>    0.063</td> <td>   -1.146</td> <td> 0.253</td> <td>   -0.196</td> <td>    0.052</td>\n",
       "</tr>\n",
       "<tr>\n",
       "  <th>out_of_state_rental_ownership</th> <td>    0.2905</td> <td>    0.144</td> <td>    2.013</td> <td> 0.045</td> <td>    0.007</td> <td>    0.574</td>\n",
       "</tr>\n",
       "<tr>\n",
       "  <th>married_household_prop</th>        <td>   -0.8014</td> <td>    0.161</td> <td>   -4.985</td> <td> 0.000</td> <td>   -1.118</td> <td>   -0.485</td>\n",
       "</tr>\n",
       "<tr>\n",
       "  <th>rental_density</th>                <td>    0.0003</td> <td>    0.000</td> <td>    1.860</td> <td> 0.064</td> <td>-1.99e-05</td> <td>    0.001</td>\n",
       "</tr>\n",
       "<tr>\n",
       "  <th>bus_density</th>                   <td>    0.0002</td> <td>    0.000</td> <td>    0.472</td> <td> 0.637</td> <td>   -0.001</td> <td>    0.001</td>\n",
       "</tr>\n",
       "<tr>\n",
       "  <th>greenlight_density</th>            <td>    0.0041</td> <td>    0.001</td> <td>    2.850</td> <td> 0.005</td> <td>    0.001</td> <td>    0.007</td>\n",
       "</tr>\n",
       "<tr>\n",
       "  <th>people_per_household</th>          <td>    0.0193</td> <td>    0.025</td> <td>    0.781</td> <td> 0.435</td> <td>   -0.029</td> <td>    0.068</td>\n",
       "</tr>\n",
       "</table>\n",
       "<table class=\"simpletable\">\n",
       "<tr>\n",
       "  <th>Omnibus:</th>       <td>470.877</td> <th>  Durbin-Watson:     </th> <td>   1.579</td> \n",
       "</tr>\n",
       "<tr>\n",
       "  <th>Prob(Omnibus):</th> <td> 0.000</td>  <th>  Jarque-Bera (JB):  </th> <td>85666.123</td>\n",
       "</tr>\n",
       "<tr>\n",
       "  <th>Skew:</th>          <td> 6.530</td>  <th>  Prob(JB):          </th> <td>    0.00</td> \n",
       "</tr>\n",
       "<tr>\n",
       "  <th>Kurtosis:</th>      <td>79.542</td>  <th>  Cond. No.          </th> <td>5.42e+04</td> \n",
       "</tr>\n",
       "</table><br/><br/>Notes:<br/>[1] Standard Errors assume that the covariance matrix of the errors is correctly specified.<br/>[2] The condition number is large, 5.42e+04. This might indicate that there are<br/>strong multicollinearity or other numerical problems."
      ],
      "text/plain": [
       "<class 'statsmodels.iolib.summary.Summary'>\n",
       "\"\"\"\n",
       "                            OLS Regression Results                            \n",
       "==============================================================================\n",
       "Dep. Variable:              call_rate   R-squared:                       0.265\n",
       "Model:                            OLS   Adj. R-squared:                  0.247\n",
       "Method:                 Least Squares   F-statistic:                     14.96\n",
       "Date:                Wed, 02 Mar 2022   Prob (F-statistic):           9.87e-19\n",
       "Time:                        20:50:33   Log-Likelihood:                -89.441\n",
       "No. Observations:                 341   AIC:                             196.9\n",
       "Df Residuals:                     332   BIC:                             231.4\n",
       "Df Model:                           8                                         \n",
       "Covariance Type:            nonrobust                                         \n",
       "=================================================================================================\n",
       "                                    coef    std err          t      P>|t|      [0.025      0.975]\n",
       "-------------------------------------------------------------------------------------------------\n",
       "Intercept                         1.3880      0.690      2.011      0.045       0.030       2.746\n",
       "population_density               -0.0001   3.61e-05     -3.575      0.000      -0.000    -5.8e-05\n",
       "np.log(per_household_income)     -0.0723      0.063     -1.146      0.253      -0.196       0.052\n",
       "out_of_state_rental_ownership     0.2905      0.144      2.013      0.045       0.007       0.574\n",
       "married_household_prop           -0.8014      0.161     -4.985      0.000      -1.118      -0.485\n",
       "rental_density                    0.0003      0.000      1.860      0.064   -1.99e-05       0.001\n",
       "bus_density                       0.0002      0.000      0.472      0.637      -0.001       0.001\n",
       "greenlight_density                0.0041      0.001      2.850      0.005       0.001       0.007\n",
       "people_per_household              0.0193      0.025      0.781      0.435      -0.029       0.068\n",
       "==============================================================================\n",
       "Omnibus:                      470.877   Durbin-Watson:                   1.579\n",
       "Prob(Omnibus):                  0.000   Jarque-Bera (JB):            85666.123\n",
       "Skew:                           6.530   Prob(JB):                         0.00\n",
       "Kurtosis:                      79.542   Cond. No.                     5.42e+04\n",
       "==============================================================================\n",
       "\n",
       "Notes:\n",
       "[1] Standard Errors assume that the covariance matrix of the errors is correctly specified.\n",
       "[2] The condition number is large, 5.42e+04. This might indicate that there are\n",
       "strong multicollinearity or other numerical problems.\n",
       "\"\"\""
      ]
     },
     "execution_count": 277,
     "metadata": {},
     "output_type": "execute_result"
    }
   ],
   "source": [
    "y, X = dmatrices(\n",
    "    formula_like=formula,\n",
    "    data=df,\n",
    "    return_type=\"dataframe\",\n",
    ")\n",
    "mdl = sm.OLS(endog=y,exog=X)\n",
    "res = mdl.fit()\n",
    "res.summary()"
   ]
  },
  {
   "cell_type": "code",
   "execution_count": 252,
   "id": "1b7298ab",
   "metadata": {
    "ExecuteTime": {
     "end_time": "2022-03-02T21:38:14.132900Z",
     "start_time": "2022-03-02T21:38:14.053461Z"
    },
    "collapsed": true
   },
   "outputs": [
    {
     "data": {
      "text/html": [
       "<table class=\"simpletable\">\n",
       "<caption>Generalized Linear Model Regression Results</caption>\n",
       "<tr>\n",
       "  <th>Dep. Variable:</th>       <td>call_rate</td>    <th>  No. Observations:  </th>  <td>   341</td> \n",
       "</tr>\n",
       "<tr>\n",
       "  <th>Model:</th>                  <td>GLM</td>       <th>  Df Residuals:      </th>  <td>   332</td> \n",
       "</tr>\n",
       "<tr>\n",
       "  <th>Model Family:</th>         <td>Poisson</td>     <th>  Df Model:          </th>  <td>     8</td> \n",
       "</tr>\n",
       "<tr>\n",
       "  <th>Link Function:</th>          <td>Log</td>       <th>  Scale:             </th> <td>  1.0000</td>\n",
       "</tr>\n",
       "<tr>\n",
       "  <th>Method:</th>                <td>IRLS</td>       <th>  Log-Likelihood:    </th> <td> -242.69</td>\n",
       "</tr>\n",
       "<tr>\n",
       "  <th>Date:</th>            <td>Wed, 02 Mar 2022</td> <th>  Deviance:          </th> <td>  52.806</td>\n",
       "</tr>\n",
       "<tr>\n",
       "  <th>Time:</th>                <td>13:38:14</td>     <th>  Pearson chi2:      </th>  <td>  60.9</td> \n",
       "</tr>\n",
       "<tr>\n",
       "  <th>No. Iterations:</th>          <td>5</td>        <th>  Pseudo R-squ. (CS):</th>  <td>0.08364</td>\n",
       "</tr>\n",
       "<tr>\n",
       "  <th>Covariance Type:</th>     <td>nonrobust</td>    <th>                     </th>     <td> </td>   \n",
       "</tr>\n",
       "</table>\n",
       "<table class=\"simpletable\">\n",
       "<tr>\n",
       "                <td></td>                   <th>coef</th>     <th>std err</th>      <th>z</th>      <th>P>|z|</th>  <th>[0.025</th>    <th>0.975]</th>  \n",
       "</tr>\n",
       "<tr>\n",
       "  <th>Intercept</th>                     <td>    0.4649</td> <td>    3.308</td> <td>    0.141</td> <td> 0.888</td> <td>   -6.018</td> <td>    6.948</td>\n",
       "</tr>\n",
       "<tr>\n",
       "  <th>population_density</th>            <td>   -0.0003</td> <td>    0.000</td> <td>   -1.761</td> <td> 0.078</td> <td>   -0.001</td> <td> 3.59e-05</td>\n",
       "</tr>\n",
       "<tr>\n",
       "  <th>np.log(per_household_income)</th>  <td>   -0.0715</td> <td>    0.311</td> <td>   -0.230</td> <td> 0.818</td> <td>   -0.682</td> <td>    0.539</td>\n",
       "</tr>\n",
       "<tr>\n",
       "  <th>out_of_state_rental_ownership</th> <td>    0.7246</td> <td>    0.596</td> <td>    1.216</td> <td> 0.224</td> <td>   -0.444</td> <td>    1.893</td>\n",
       "</tr>\n",
       "<tr>\n",
       "  <th>married_household_prop</th>        <td>   -2.8160</td> <td>    0.945</td> <td>   -2.981</td> <td> 0.003</td> <td>   -4.667</td> <td>   -0.965</td>\n",
       "</tr>\n",
       "<tr>\n",
       "  <th>rental_density</th>                <td>    0.0010</td> <td>    0.001</td> <td>    1.292</td> <td> 0.196</td> <td>   -0.001</td> <td>    0.002</td>\n",
       "</tr>\n",
       "<tr>\n",
       "  <th>bus_density</th>                   <td>   -0.0002</td> <td>    0.002</td> <td>   -0.116</td> <td> 0.907</td> <td>   -0.003</td> <td>    0.003</td>\n",
       "</tr>\n",
       "<tr>\n",
       "  <th>greenlight_density</th>            <td>    0.0053</td> <td>    0.005</td> <td>    1.153</td> <td> 0.249</td> <td>   -0.004</td> <td>    0.014</td>\n",
       "</tr>\n",
       "<tr>\n",
       "  <th>people_per_household</th>          <td>    0.0515</td> <td>    0.106</td> <td>    0.488</td> <td> 0.626</td> <td>   -0.155</td> <td>    0.258</td>\n",
       "</tr>\n",
       "</table>"
      ],
      "text/plain": [
       "<class 'statsmodels.iolib.summary.Summary'>\n",
       "\"\"\"\n",
       "                 Generalized Linear Model Regression Results                  \n",
       "==============================================================================\n",
       "Dep. Variable:              call_rate   No. Observations:                  341\n",
       "Model:                            GLM   Df Residuals:                      332\n",
       "Model Family:                 Poisson   Df Model:                            8\n",
       "Link Function:                    Log   Scale:                          1.0000\n",
       "Method:                          IRLS   Log-Likelihood:                -242.69\n",
       "Date:                Wed, 02 Mar 2022   Deviance:                       52.806\n",
       "Time:                        13:38:14   Pearson chi2:                     60.9\n",
       "No. Iterations:                     5   Pseudo R-squ. (CS):            0.08364\n",
       "Covariance Type:            nonrobust                                         \n",
       "=================================================================================================\n",
       "                                    coef    std err          z      P>|z|      [0.025      0.975]\n",
       "-------------------------------------------------------------------------------------------------\n",
       "Intercept                         0.4649      3.308      0.141      0.888      -6.018       6.948\n",
       "population_density               -0.0003      0.000     -1.761      0.078      -0.001    3.59e-05\n",
       "np.log(per_household_income)     -0.0715      0.311     -0.230      0.818      -0.682       0.539\n",
       "out_of_state_rental_ownership     0.7246      0.596      1.216      0.224      -0.444       1.893\n",
       "married_household_prop           -2.8160      0.945     -2.981      0.003      -4.667      -0.965\n",
       "rental_density                    0.0010      0.001      1.292      0.196      -0.001       0.002\n",
       "bus_density                      -0.0002      0.002     -0.116      0.907      -0.003       0.003\n",
       "greenlight_density                0.0053      0.005      1.153      0.249      -0.004       0.014\n",
       "people_per_household              0.0515      0.106      0.488      0.626      -0.155       0.258\n",
       "=================================================================================================\n",
       "\"\"\""
      ]
     },
     "execution_count": 252,
     "metadata": {},
     "output_type": "execute_result"
    }
   ],
   "source": [
    "y, X = dmatrices(\n",
    "    formula_like=formula,\n",
    "    data=df,\n",
    "    return_type=\"dataframe\",\n",
    ")\n",
    "# exposure = X.pop('population')\n",
    "mdl = sm.GLM(endog=y,exog=X,family=sm.families.Poisson())\n",
    "res = mdl.fit()\n",
    "\n",
    "res.summary()\n",
    "res = mdl.fit()\n",
    "res.summary()"
   ]
  },
  {
   "cell_type": "markdown",
   "id": "57a295e4",
   "metadata": {},
   "source": [
    "# Compare impact of granularity"
   ]
  },
  {
   "cell_type": "code",
   "execution_count": 289,
   "id": "d9fc117e",
   "metadata": {
    "ExecuteTime": {
     "end_time": "2022-03-03T20:43:51.552774Z",
     "start_time": "2022-03-03T20:43:51.283654Z"
    }
   },
   "outputs": [],
   "source": [
    "mdl = {}\n",
    "res = {}\n",
    "for target_geo_grain in (\"block\",\"block group\",\"tract\"):\n",
    "    feat_df = concatenate_features(feature_objects,target_geo_grain)\n",
    "    df = transform_1(feat_df)\n",
    "    y, X = dmatrices(\n",
    "        formula_like=formula,\n",
    "        data=df,\n",
    "        return_type=\"dataframe\",\n",
    "    )\n",
    "    mdl[target_geo_grain] = sm.OLS(endog=y,exog=X)\n",
    "    res[target_geo_grain] = mdl[target_geo_grain].fit()\n",
    "    res[target_geo_grain].summary()"
   ]
  },
  {
   "cell_type": "code",
   "execution_count": 299,
   "id": "f482c45c",
   "metadata": {
    "ExecuteTime": {
     "end_time": "2022-03-03T20:44:46.618735Z",
     "start_time": "2022-03-03T20:44:46.580304Z"
    },
    "collapsed": true
   },
   "outputs": [
    {
     "data": {
      "text/plain": [
       "['HC0_se',\n",
       " 'HC1_se',\n",
       " 'HC2_se',\n",
       " 'HC3_se',\n",
       " '_HCCM',\n",
       " '__class__',\n",
       " '__delattr__',\n",
       " '__dict__',\n",
       " '__dir__',\n",
       " '__doc__',\n",
       " '__eq__',\n",
       " '__format__',\n",
       " '__ge__',\n",
       " '__getattribute__',\n",
       " '__gt__',\n",
       " '__hash__',\n",
       " '__init__',\n",
       " '__init_subclass__',\n",
       " '__le__',\n",
       " '__lt__',\n",
       " '__module__',\n",
       " '__ne__',\n",
       " '__new__',\n",
       " '__reduce__',\n",
       " '__reduce_ex__',\n",
       " '__repr__',\n",
       " '__setattr__',\n",
       " '__sizeof__',\n",
       " '__str__',\n",
       " '__subclasshook__',\n",
       " '__weakref__',\n",
       " '_abat_diagonal',\n",
       " '_cache',\n",
       " '_data_attr',\n",
       " '_data_in_cache',\n",
       " '_get_robustcov_results',\n",
       " '_is_nested',\n",
       " '_use_t',\n",
       " '_wexog_singular_values',\n",
       " 'aic',\n",
       " 'bic',\n",
       " 'bse',\n",
       " 'centered_tss',\n",
       " 'compare_f_test',\n",
       " 'compare_lm_test',\n",
       " 'compare_lr_test',\n",
       " 'condition_number',\n",
       " 'conf_int',\n",
       " 'conf_int_el',\n",
       " 'cov_HC0',\n",
       " 'cov_HC1',\n",
       " 'cov_HC2',\n",
       " 'cov_HC3',\n",
       " 'cov_kwds',\n",
       " 'cov_params',\n",
       " 'cov_type',\n",
       " 'df_model',\n",
       " 'df_resid',\n",
       " 'diagn',\n",
       " 'eigenvals',\n",
       " 'el_test',\n",
       " 'ess',\n",
       " 'f_pvalue',\n",
       " 'f_test',\n",
       " 'fittedvalues',\n",
       " 'fvalue',\n",
       " 'get_influence',\n",
       " 'get_prediction',\n",
       " 'get_robustcov_results',\n",
       " 'info_criteria',\n",
       " 'initialize',\n",
       " 'k_constant',\n",
       " 'llf',\n",
       " 'load',\n",
       " 'model',\n",
       " 'mse_model',\n",
       " 'mse_resid',\n",
       " 'mse_total',\n",
       " 'nobs',\n",
       " 'normalized_cov_params',\n",
       " 'outlier_test',\n",
       " 'params',\n",
       " 'predict',\n",
       " 'pvalues',\n",
       " 'remove_data',\n",
       " 'resid',\n",
       " 'resid_pearson',\n",
       " 'rsquared',\n",
       " 'rsquared_adj',\n",
       " 'save',\n",
       " 'scale',\n",
       " 'ssr',\n",
       " 'summary',\n",
       " 'summary2',\n",
       " 't_test',\n",
       " 't_test_pairwise',\n",
       " 'tvalues',\n",
       " 'uncentered_tss',\n",
       " 'use_t',\n",
       " 'wald_test',\n",
       " 'wald_test_terms',\n",
       " 'wresid']"
      ]
     },
     "execution_count": 299,
     "metadata": {},
     "output_type": "execute_result"
    }
   ],
   "source": [
    "dir(res[target_geo_grain])#.params"
   ]
  },
  {
   "cell_type": "code",
   "execution_count": 320,
   "id": "b5615220",
   "metadata": {
    "ExecuteTime": {
     "end_time": "2022-03-03T20:50:43.100775Z",
     "start_time": "2022-03-03T20:50:43.055864Z"
    }
   },
   "outputs": [
    {
     "data": {
      "text/html": [
       "<div>\n",
       "<style scoped>\n",
       "    .dataframe tbody tr th:only-of-type {\n",
       "        vertical-align: middle;\n",
       "    }\n",
       "\n",
       "    .dataframe tbody tr th {\n",
       "        vertical-align: top;\n",
       "    }\n",
       "\n",
       "    .dataframe thead th {\n",
       "        text-align: right;\n",
       "    }\n",
       "</style>\n",
       "<table border=\"1\" class=\"dataframe\">\n",
       "  <thead>\n",
       "    <tr style=\"text-align: right;\">\n",
       "      <th></th>\n",
       "      <th>0</th>\n",
       "      <th>1</th>\n",
       "    </tr>\n",
       "  </thead>\n",
       "  <tbody>\n",
       "    <tr>\n",
       "      <th>Intercept</th>\n",
       "      <td>0.967753</td>\n",
       "      <td>2.730049</td>\n",
       "    </tr>\n",
       "    <tr>\n",
       "      <th>population_density</th>\n",
       "      <td>-0.000125</td>\n",
       "      <td>-0.000046</td>\n",
       "    </tr>\n",
       "    <tr>\n",
       "      <th>np.log(per_household_income)</th>\n",
       "      <td>-0.196128</td>\n",
       "      <td>-0.028101</td>\n",
       "    </tr>\n",
       "    <tr>\n",
       "      <th>out_of_state_rental_ownership</th>\n",
       "      <td>0.097762</td>\n",
       "      <td>0.352427</td>\n",
       "    </tr>\n",
       "    <tr>\n",
       "      <th>married_household_prop</th>\n",
       "      <td>-0.838216</td>\n",
       "      <td>-0.411278</td>\n",
       "    </tr>\n",
       "    <tr>\n",
       "      <th>rental_density</th>\n",
       "      <td>-0.000583</td>\n",
       "      <td>0.001865</td>\n",
       "    </tr>\n",
       "    <tr>\n",
       "      <th>bus_density</th>\n",
       "      <td>0.000696</td>\n",
       "      <td>0.004982</td>\n",
       "    </tr>\n",
       "    <tr>\n",
       "      <th>greenlight_density</th>\n",
       "      <td>0.018573</td>\n",
       "      <td>0.034731</td>\n",
       "    </tr>\n",
       "    <tr>\n",
       "      <th>people_per_household</th>\n",
       "      <td>-0.074605</td>\n",
       "      <td>0.004508</td>\n",
       "    </tr>\n",
       "  </tbody>\n",
       "</table>\n",
       "</div>"
      ],
      "text/plain": [
       "                                      0         1\n",
       "Intercept                      0.967753  2.730049\n",
       "population_density            -0.000125 -0.000046\n",
       "np.log(per_household_income)  -0.196128 -0.028101\n",
       "out_of_state_rental_ownership  0.097762  0.352427\n",
       "married_household_prop        -0.838216 -0.411278\n",
       "rental_density                -0.000583  0.001865\n",
       "bus_density                    0.000696  0.004982\n",
       "greenlight_density             0.018573  0.034731\n",
       "people_per_household          -0.074605  0.004508"
      ]
     },
     "execution_count": 320,
     "metadata": {},
     "output_type": "execute_result"
    }
   ],
   "source": [
    "res['block group'].conf_int()"
   ]
  },
  {
   "cell_type": "code",
   "execution_count": 330,
   "id": "57d45e5f",
   "metadata": {
    "ExecuteTime": {
     "end_time": "2022-03-03T20:52:15.351177Z",
     "start_time": "2022-03-03T20:52:15.310647Z"
    }
   },
   "outputs": [
    {
     "name": "stdout",
     "output_type": "stream",
     "text": [
      "                                      0         1\n",
      "Intercept                      0.967753  2.730049\n",
      "population_density            -0.000125 -0.000046\n",
      "np.log(per_household_income)  -0.196128 -0.028101\n",
      "out_of_state_rental_ownership  0.097762  0.352427\n",
      "married_household_prop        -0.838216 -0.411278\n",
      "rental_density                -0.000583  0.001865\n",
      "bus_density                    0.000696  0.004982\n",
      "greenlight_density             0.018573  0.034731\n",
      "people_per_household          -0.074605  0.004508\n"
     ]
    }
   ],
   "source": [
    "print(res['block group'].conf_int())"
   ]
  },
  {
   "cell_type": "code",
   "execution_count": 332,
   "id": "f345a753",
   "metadata": {
    "ExecuteTime": {
     "end_time": "2022-03-03T20:52:33.396057Z",
     "start_time": "2022-03-03T20:52:33.336427Z"
    }
   },
   "outputs": [],
   "source": [
    "g = 'block group'"
   ]
  },
  {
   "cell_type": "code",
   "execution_count": 337,
   "id": "2e69e2db",
   "metadata": {
    "ExecuteTime": {
     "end_time": "2022-03-03T20:54:08.520361Z",
     "start_time": "2022-03-03T20:54:08.483026Z"
    }
   },
   "outputs": [],
   "source": [
    "t = res[g]\n",
    "t.conf_int()"
   ]
  },
  {
   "cell_type": "code",
   "execution_count": 338,
   "id": "235aa023",
   "metadata": {
    "ExecuteTime": {
     "end_time": "2022-03-03T20:54:59.091116Z",
     "start_time": "2022-03-03T20:54:59.052105Z"
    }
   },
   "outputs": [
    {
     "data": {
      "text/plain": [
       "Intercept                        1.848901\n",
       "population_density              -0.000086\n",
       "np.log(per_household_income)    -0.112115\n",
       "out_of_state_rental_ownership    0.225095\n",
       "married_household_prop          -0.624747\n",
       "rental_density                   0.000641\n",
       "bus_density                      0.002839\n",
       "greenlight_density               0.026652\n",
       "people_per_household            -0.035048\n",
       "dtype: float64"
      ]
     },
     "execution_count": 338,
     "metadata": {},
     "output_type": "execute_result"
    }
   ],
   "source": [
    "res[g].params"
   ]
  },
  {
   "cell_type": "code",
   "execution_count": 353,
   "id": "4f0dc6a3",
   "metadata": {
    "ExecuteTime": {
     "end_time": "2022-03-03T20:59:37.533734Z",
     "start_time": "2022-03-03T20:59:37.482876Z"
    }
   },
   "outputs": [
    {
     "data": {
      "text/plain": [
       "array([-0.12171075, -0.097297  , -0.04411435, ...,  0.18832944,\n",
       "        0.2312145 ,  1.0901371 ])"
      ]
     },
     "execution_count": 353,
     "metadata": {},
     "output_type": "execute_result"
    }
   ],
   "source": [
    "np.sort(res[g].get_influence().influence)"
   ]
  },
  {
   "cell_type": "code",
   "execution_count": 358,
   "id": "518778fa",
   "metadata": {
    "ExecuteTime": {
     "end_time": "2022-03-03T21:01:19.316275Z",
     "start_time": "2022-03-03T21:01:18.629351Z"
    }
   },
   "outputs": [
    {
     "data": {
      "image/png": "[encoded data removed]",
      "text/plain": [
       "<Figure size 1440x720 with 1 Axes>"
      ]
     },
     "metadata": {
      "image/png": {
       "height": 707,
       "width": 1423
      },
      "needs_background": "light"
     },
     "output_type": "display_data"
    }
   ],
   "source": [
    "fig, ax = plt.subplots(1,1,figsize=(20,10))\n",
    "pd.concat((res[g].conf_int().rename(columns={0:.025,1:.975}),res[g].params.rename(0.5)),axis=1).T.boxplot(ax=ax)\n",
    "plt.tight_layout()"
   ]
  },
  {
   "cell_type": "code",
   "execution_count": 365,
   "id": "0ecb736d",
   "metadata": {
    "ExecuteTime": {
     "end_time": "2022-03-03T22:36:38.819230Z",
     "start_time": "2022-03-03T22:36:38.587275Z"
    }
   },
   "outputs": [
    {
     "data": {
      "text/plain": [
       "[<matplotlib.lines.Line2D at 0x13fffa8b0>]"
      ]
     },
     "execution_count": 365,
     "metadata": {},
     "output_type": "execute_result"
    },
    {
     "data": {
      "image/png": "[encoded data removed]",
      "text/plain": [
       "<Figure size 432x288 with 1 Axes>"
      ]
     },
     "metadata": {
      "image/png": {
       "height": 250,
       "width": 393
      },
      "needs_background": "light"
     },
     "output_type": "display_data"
    }
   ],
   "source": [
    "x = np.arange(1000,50e3,1e3)\n",
    "plt.plot(x,np.log(x))"
   ]
  },
  {
   "cell_type": "code",
   "execution_count": 371,
   "id": "27879283",
   "metadata": {
    "ExecuteTime": {
     "end_time": "2022-03-03T22:42:00.580392Z",
     "start_time": "2022-03-03T22:42:00.540683Z"
    }
   },
   "outputs": [
    {
     "data": {
      "text/plain": [
       "2.718281828459045"
      ]
     },
     "execution_count": 371,
     "metadata": {},
     "output_type": "execute_result"
    }
   ],
   "source": [
    "np.exp(1)"
   ]
  },
  {
   "cell_type": "code",
   "execution_count": 363,
   "id": "8b574eb3",
   "metadata": {
    "ExecuteTime": {
     "end_time": "2022-03-03T22:35:17.846872Z",
     "start_time": "2022-03-03T22:35:17.809551Z"
    }
   },
   "outputs": [
    {
     "data": {
      "text/plain": [
       "2.302585092994046"
      ]
     },
     "execution_count": 363,
     "metadata": {},
     "output_type": "execute_result"
    }
   ],
   "source": [
    "np.log(10)"
   ]
  },
  {
   "cell_type": "code",
   "execution_count": 334,
   "id": "8aaf06e8",
   "metadata": {
    "ExecuteTime": {
     "end_time": "2022-03-03T20:53:50.567088Z",
     "start_time": "2022-03-03T20:53:50.520505Z"
    }
   },
   "outputs": [
    {
     "name": "stdout",
     "output_type": "stream",
     "text": [
      "block\n",
      "Intercept                        0.842983\n",
      "population_density              -0.000040\n",
      "np.log(per_household_income)    -0.027029\n",
      "out_of_state_rental_ownership    0.178770\n",
      "married_household_prop          -0.393034\n",
      "rental_density                  -0.009773\n",
      "bus_density                      0.380811\n",
      "greenlight_density               0.948863\n",
      "people_per_household            -0.180870\n",
      "dtype: float64                                      0         1\n",
      "Intercept                      0.149852  1.536114\n",
      "population_density            -0.000051 -0.000029\n",
      "np.log(per_household_income)  -0.093851  0.039794\n",
      "out_of_state_rental_ownership  0.118698  0.238842\n",
      "married_household_prop        -0.568139 -0.217930\n",
      "rental_density                -0.024843  0.005297\n",
      "bus_density                    0.267167  0.494455\n",
      "greenlight_density             0.612051  1.285674\n",
      "people_per_household          -0.329245 -0.032494\n",
      "\n",
      "\n",
      "block group\n",
      "Intercept                        1.848901\n",
      "population_density              -0.000086\n",
      "np.log(per_household_income)    -0.112115\n",
      "out_of_state_rental_ownership    0.225095\n",
      "married_household_prop          -0.624747\n",
      "rental_density                   0.000641\n",
      "bus_density                      0.002839\n",
      "greenlight_density               0.026652\n",
      "people_per_household            -0.035048\n",
      "dtype: float64                                      0         1\n",
      "Intercept                      0.967753  2.730049\n",
      "population_density            -0.000125 -0.000046\n",
      "np.log(per_household_income)  -0.196128 -0.028101\n",
      "out_of_state_rental_ownership  0.097762  0.352427\n",
      "married_household_prop        -0.838216 -0.411278\n",
      "rental_density                -0.000583  0.001865\n",
      "bus_density                    0.000696  0.004982\n",
      "greenlight_density             0.018573  0.034731\n",
      "people_per_household          -0.074605  0.004508\n",
      "\n",
      "\n",
      "tract\n",
      "Intercept                        1.388029\n",
      "population_density              -0.000129\n",
      "np.log(per_household_income)    -0.072283\n",
      "out_of_state_rental_ownership    0.290482\n",
      "married_household_prop          -0.801387\n",
      "rental_density                   0.000347\n",
      "bus_density                      0.000199\n",
      "greenlight_density               0.004087\n",
      "people_per_household             0.019325\n",
      "dtype: float64                                      0         1\n",
      "Intercept                      0.029968  2.746089\n",
      "population_density            -0.000200 -0.000058\n",
      "np.log(per_household_income)  -0.196378  0.051811\n",
      "out_of_state_rental_ownership  0.006586  0.574378\n",
      "married_household_prop        -1.117603 -0.485170\n",
      "rental_density                -0.000020  0.000714\n",
      "bus_density                   -0.000631  0.001029\n",
      "greenlight_density             0.001266  0.006907\n",
      "people_per_household          -0.029354  0.068004\n",
      "\n",
      "\n"
     ]
    }
   ],
   "source": [
    "_ = [print(g + '\\n'+str(res[g].params) + str(res[g].conf_int()) + '\\n\\n') for g in res.keys()]\n",
    "#       + res[g].conf_int()"
   ]
  }
 ],
 "metadata": {
  "kernelspec": {
   "display_name": "Python 3 (ipykernel)",
   "language": "python",
   "name": "python3"
  },
  "language_info": {
   "codemirror_mode": {
    "name": "ipython",
    "version": 3
   },
   "file_extension": ".py",
   "mimetype": "text/x-python",
   "name": "python",
   "nbconvert_exporter": "python",
   "pygments_lexer": "ipython3",
   "version": "3.8.2"
  },
  "toc": {
   "base_numbering": 1,
   "nav_menu": {},
   "number_sections": true,
   "sideBar": true,
   "skip_h1_title": false,
   "title_cell": "Table of Contents",
   "title_sidebar": "Contents",
   "toc_cell": false,
   "toc_position": {},
   "toc_section_display": true,
   "toc_window_display": false
  },
  "varInspector": {
   "cols": {
    "lenName": 16,
    "lenType": 16,
    "lenVar": 40
   },
   "kernels_config": {
    "python": {
     "delete_cmd_postfix": "",
     "delete_cmd_prefix": "del ",
     "library": "var_list.py",
     "varRefreshCmd": "print(var_dic_list())"
    },
    "r": {
     "delete_cmd_postfix": ") ",
     "delete_cmd_prefix": "rm(",
     "library": "var_list.r",
     "varRefreshCmd": "cat(var_dic_list()) "
    }
   },
   "types_to_exclude": [
    "module",
    "function",
    "builtin_function_or_method",
    "instance",
    "_Feature"
   ],
   "window_display": false
  }
 },
 "nbformat": 4,
 "nbformat_minor": 5
}
