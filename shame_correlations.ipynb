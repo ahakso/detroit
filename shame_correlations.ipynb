{
 "cells": [
  {
   "cell_type": "markdown",
   "id": "51f2ce90",
   "metadata": {},
   "source": [
    "# Neighborhoods question\n",
    "Q (from a meeting agenda Bloomberg_ Gun Violence Dashboard_ Meeting 2 Agenda.docx): \n",
    "```\n",
    "Final Neighborhood Questions:\n",
    "1. Not duplicating MSU Project Green Light (PGL) study, what new can we learn from PGL data that give insight to where interventions should be targeted?\n",
    "2. Are there specific locations/ property types that become magnets for gun violence incidents?\n",
    "3. What can we find unique to areas/ blocks where we see highest event rates (presence of empty lots, convenience stores, gas stations, bus stops, schools, etc)?\n",
    "```\n",
    "\n",
    "If we're looking to identify where interventions should be targeted... Detroit has the gun violence rates, so the clearly correct thing to do is target interventions where gun violence rates are high.\n",
    "\n",
    "Another way of viewing this question is to inform policy choices (change characteristics based on correlations and hope it's causal). This would require _way_ more work than we have time for"
   ]
  },
  {
   "cell_type": "code",
   "execution_count": 1,
   "id": "786acb7e",
   "metadata": {
    "ExecuteTime": {
     "end_time": "2022-03-15T20:12:40.710526Z",
     "start_time": "2022-03-15T20:12:39.311645Z"
    }
   },
   "outputs": [],
   "source": [
    "import geopandas as gpd\n",
    "\n",
    "from features.income import Income\n",
    "from features.violence_calls import ViolenceCalls\n",
    "from features.households import Households\n",
    "from features.household_types_ages import HouseholdTypesAges\n",
    "from features.household_types import HouseholdTypes\n",
    "from features.population import Population\n",
    "from features.population_density import PopulationDensity\n",
    "from features.feature_constructor import Feature\n",
    "from features.out_of_state_rental_ownership import OutOfStateRentalOwnership\n",
    "from features.ddot_bus_stops import DDotBusStops\n",
    "from features.smart_bus_stops import SmartBusStops\n",
    "from features.rental_statuses import RentalStatuses\n",
    "from features.project_green_light_locations import ProjectGreenlightLocations\n",
    "from util_detroit import concatenate_features\n",
    "\n",
    "from detroit_geos import get_detroit_census_geos, get_detroit_boundaries\n",
    "\n",
    "import patsy\n",
    "from patsy import dmatrices, dmatrix\n",
    "import statsmodels.api as sm\n",
    "import statsmodels.formula.api as smf\n",
    "import seaborn as sns\n",
    "from sklearn.impute import SimpleImputer\n",
    "import matplotlib as mpl"
   ]
  },
  {
   "cell_type": "code",
   "execution_count": 2,
   "id": "70f01fcd",
   "metadata": {
    "ExecuteTime": {
     "end_time": "2022-03-14T22:44:00.530292Z",
     "start_time": "2022-03-14T22:43:53.288352Z"
    }
   },
   "outputs": [],
   "source": [
    "# Fetch geometries for visualization\n",
    "\n",
    "tracts = get_detroit_census_geos(decennial_census_year=2010,target_geo_grain='tract',).set_index('geo_id')\n",
    "detroit = get_detroit_boundaries()\n",
    "block = get_detroit_census_geos(decennial_census_year=2010,target_geo_grain='block').set_index('geo_id')"
   ]
  },
  {
   "cell_type": "markdown",
   "id": "1f907059",
   "metadata": {
    "ExecuteTime": {
     "end_time": "2022-03-02T20:05:34.311221Z",
     "start_time": "2022-03-02T20:05:34.276420Z"
    }
   },
   "source": [
    "# Build Features"
   ]
  },
  {
   "cell_type": "code",
   "execution_count": 17,
   "id": "98531d0e",
   "metadata": {
    "ExecuteTime": {
     "end_time": "2022-03-15T21:29:23.602076Z",
     "start_time": "2022-03-15T21:29:23.542723Z"
    }
   },
   "outputs": [],
   "source": [
    "target_geo_grain = \"tract\"\n",
    "feature_objects = [\n",
    "    Population(\n",
    "        decennial_census_year=2010, population_data_path=\"population\", verbose=False\n",
    "    ),\n",
    "    PopulationDensity(\n",
    "        decennial_census_year=2010,\n",
    "        population_data_path=\"population\",\n",
    "    ),\n",
    "    ViolenceCalls(decennial_census_year=2010, verbose=False),\n",
    "    Income(verbose=False),\n",
    "    Households(),\n",
    "    OutOfStateRentalOwnership(2010),\n",
    "    DDotBusStops(decennial_census_year=2010),\n",
    "    SmartBusStops(decennial_census_year=2010),\n",
    "    RentalStatuses(decennial_census_year=2010),\n",
    "    ProjectGreenlightLocations(decennial_census_year=2010),\n",
    "]\n",
    "feat_df = concatenate_features(feature_objects,'tract')"
   ]
  },
  {
   "cell_type": "markdown",
   "id": "5ee25f92",
   "metadata": {},
   "source": [
    "# Transform"
   ]
  },
  {
   "cell_type": "code",
   "execution_count": 256,
   "id": "893ce1be",
   "metadata": {
    "ExecuteTime": {
     "end_time": "2022-03-15T23:16:59.312654Z",
     "start_time": "2022-03-15T23:16:59.243272Z"
    }
   },
   "outputs": [],
   "source": [
    "from munge_features import transform_1\n",
    "from constants import COLNAME_MAP\n",
    "from sklearn.preprocessing import StandardScaler\n",
    "df, df0 = transform_1(feat_df)\n",
    "\n",
    "# df = pd.DataFrame(StandardScaler().fit_transform(df),index=df.index,columns=df.columns)\n",
    "\n",
    "# fig, ax = plt.subplots(1,1,figsize=(20,20))\n",
    "# df.hist(ax=ax,bins=20)"
   ]
  },
  {
   "cell_type": "code",
   "execution_count": 87,
   "id": "7afbdc86",
   "metadata": {
    "ExecuteTime": {
     "end_time": "2022-03-15T21:53:10.827343Z",
     "start_time": "2022-03-15T21:53:10.777545Z"
    }
   },
   "outputs": [],
   "source": [
    "formula_bones = \"call_rate ~ \" + '\\n+ '.join([x for x in df.columns if ('call_rate' not in x)])\n",
    "formula = formula_bones#.replace('per_household_income','np.log(per_household_income)')\n",
    "y, X = dmatrices(\n",
    "    formula_like=formula,\n",
    "    data=df,\n",
    "    return_type=\"dataframe\",\n",
    ")\n",
    "# convert to events per 1000 people per year\n",
    "y = y/4.5*1000\n",
    "# D = dmatrix(\n",
    "#     formula_like=formula.replace('~','+'),\n",
    "#     data=df,\n",
    "#     return_type=\"dataframe\",\n",
    "# )\n",
    "\n",
    "# r2 = (D.corr()**2).call_rate.sort_values()"
   ]
  },
  {
   "cell_type": "markdown",
   "id": "a2b736e5",
   "metadata": {},
   "source": [
    "# Run regressions"
   ]
  },
  {
   "cell_type": "code",
   "execution_count": 125,
   "id": "82aba45d",
   "metadata": {
    "ExecuteTime": {
     "end_time": "2022-03-15T22:12:29.052447Z",
     "start_time": "2022-03-15T22:12:28.988475Z"
    },
    "collapsed": true
   },
   "outputs": [
    {
     "data": {
      "text/html": [
       "<table class=\"simpletable\">\n",
       "<caption>OLS Regression Results</caption>\n",
       "<tr>\n",
       "  <th>Dep. Variable:</th>        <td>call_rate</td>    <th>  R-squared:         </th> <td>   0.300</td>\n",
       "</tr>\n",
       "<tr>\n",
       "  <th>Model:</th>                   <td>OLS</td>       <th>  Adj. R-squared:    </th> <td>   0.283</td>\n",
       "</tr>\n",
       "<tr>\n",
       "  <th>Method:</th>             <td>Least Squares</td>  <th>  F-statistic:       </th> <td>   17.76</td>\n",
       "</tr>\n",
       "<tr>\n",
       "  <th>Date:</th>             <td>Tue, 15 Mar 2022</td> <th>  Prob (F-statistic):</th> <td>4.60e-22</td>\n",
       "</tr>\n",
       "<tr>\n",
       "  <th>Time:</th>                 <td>15:12:29</td>     <th>  Log-Likelihood:    </th> <td> -1923.8</td>\n",
       "</tr>\n",
       "<tr>\n",
       "  <th>No. Observations:</th>      <td>   341</td>      <th>  AIC:               </th> <td>   3866.</td>\n",
       "</tr>\n",
       "<tr>\n",
       "  <th>Df Residuals:</th>          <td>   332</td>      <th>  BIC:               </th> <td>   3900.</td>\n",
       "</tr>\n",
       "<tr>\n",
       "  <th>Df Model:</th>              <td>     8</td>      <th>                     </th>     <td> </td>   \n",
       "</tr>\n",
       "<tr>\n",
       "  <th>Covariance Type:</th>      <td>nonrobust</td>    <th>                     </th>     <td> </td>   \n",
       "</tr>\n",
       "</table>\n",
       "<table class=\"simpletable\">\n",
       "<tr>\n",
       "                <td></td>                   <th>coef</th>     <th>std err</th>      <th>t</th>      <th>P>|t|</th>  <th>[0.025</th>    <th>0.975]</th>  \n",
       "</tr>\n",
       "<tr>\n",
       "  <th>Intercept</th>                     <td>  104.7378</td> <td>    3.744</td> <td>   27.972</td> <td> 0.000</td> <td>   97.372</td> <td>  112.104</td>\n",
       "</tr>\n",
       "<tr>\n",
       "  <th>population_density</th>            <td>  -16.5394</td> <td>    4.415</td> <td>   -3.746</td> <td> 0.000</td> <td>  -25.224</td> <td>   -7.854</td>\n",
       "</tr>\n",
       "<tr>\n",
       "  <th>per_household_income</th>          <td>   -4.1255</td> <td>    5.166</td> <td>   -0.799</td> <td> 0.425</td> <td>  -14.287</td> <td>    6.036</td>\n",
       "</tr>\n",
       "<tr>\n",
       "  <th>out_of_state_rental_ownership</th> <td>    7.1537</td> <td>    3.921</td> <td>    1.824</td> <td> 0.069</td> <td>   -0.560</td> <td>   14.867</td>\n",
       "</tr>\n",
       "<tr>\n",
       "  <th>married_household_prop</th>        <td>  -19.4659</td> <td>    5.366</td> <td>   -3.628</td> <td> 0.000</td> <td>  -30.021</td> <td>   -8.910</td>\n",
       "</tr>\n",
       "<tr>\n",
       "  <th>greenlight_density</th>            <td>    8.0632</td> <td>    4.763</td> <td>    1.693</td> <td> 0.091</td> <td>   -1.306</td> <td>   17.432</td>\n",
       "</tr>\n",
       "<tr>\n",
       "  <th>people_per_household</th>          <td>    2.2612</td> <td>    4.238</td> <td>    0.533</td> <td> 0.594</td> <td>   -6.076</td> <td>   10.599</td>\n",
       "</tr>\n",
       "<tr>\n",
       "  <th>rental_density</th>                <td>    9.8055</td> <td>    6.070</td> <td>    1.615</td> <td> 0.107</td> <td>   -2.135</td> <td>   21.746</td>\n",
       "</tr>\n",
       "<tr>\n",
       "  <th>bus_density</th>                   <td>   11.4327</td> <td>    5.739</td> <td>    1.992</td> <td> 0.047</td> <td>    0.144</td> <td>   22.722</td>\n",
       "</tr>\n",
       "</table>\n",
       "<table class=\"simpletable\">\n",
       "<tr>\n",
       "  <th>Omnibus:</th>       <td>517.946</td> <th>  Durbin-Watson:     </th>  <td>   1.666</td> \n",
       "</tr>\n",
       "<tr>\n",
       "  <th>Prob(Omnibus):</th> <td> 0.000</td>  <th>  Jarque-Bera (JB):  </th> <td>127236.242</td>\n",
       "</tr>\n",
       "<tr>\n",
       "  <th>Skew:</th>          <td> 7.738</td>  <th>  Prob(JB):          </th>  <td>    0.00</td> \n",
       "</tr>\n",
       "<tr>\n",
       "  <th>Kurtosis:</th>      <td>96.357</td>  <th>  Cond. No.          </th>  <td>    3.46</td> \n",
       "</tr>\n",
       "</table><br/><br/>Notes:<br/>[1] Standard Errors assume that the covariance matrix of the errors is correctly specified."
      ],
      "text/plain": [
       "<class 'statsmodels.iolib.summary.Summary'>\n",
       "\"\"\"\n",
       "                            OLS Regression Results                            \n",
       "==============================================================================\n",
       "Dep. Variable:              call_rate   R-squared:                       0.300\n",
       "Model:                            OLS   Adj. R-squared:                  0.283\n",
       "Method:                 Least Squares   F-statistic:                     17.76\n",
       "Date:                Tue, 15 Mar 2022   Prob (F-statistic):           4.60e-22\n",
       "Time:                        15:12:29   Log-Likelihood:                -1923.8\n",
       "No. Observations:                 341   AIC:                             3866.\n",
       "Df Residuals:                     332   BIC:                             3900.\n",
       "Df Model:                           8                                         \n",
       "Covariance Type:            nonrobust                                         \n",
       "=================================================================================================\n",
       "                                    coef    std err          t      P>|t|      [0.025      0.975]\n",
       "-------------------------------------------------------------------------------------------------\n",
       "Intercept                       104.7378      3.744     27.972      0.000      97.372     112.104\n",
       "population_density              -16.5394      4.415     -3.746      0.000     -25.224      -7.854\n",
       "per_household_income             -4.1255      5.166     -0.799      0.425     -14.287       6.036\n",
       "out_of_state_rental_ownership     7.1537      3.921      1.824      0.069      -0.560      14.867\n",
       "married_household_prop          -19.4659      5.366     -3.628      0.000     -30.021      -8.910\n",
       "greenlight_density                8.0632      4.763      1.693      0.091      -1.306      17.432\n",
       "people_per_household              2.2612      4.238      0.533      0.594      -6.076      10.599\n",
       "rental_density                    9.8055      6.070      1.615      0.107      -2.135      21.746\n",
       "bus_density                      11.4327      5.739      1.992      0.047       0.144      22.722\n",
       "==============================================================================\n",
       "Omnibus:                      517.946   Durbin-Watson:                   1.666\n",
       "Prob(Omnibus):                  0.000   Jarque-Bera (JB):           127236.242\n",
       "Skew:                           7.738   Prob(JB):                         0.00\n",
       "Kurtosis:                      96.357   Cond. No.                         3.46\n",
       "==============================================================================\n",
       "\n",
       "Notes:\n",
       "[1] Standard Errors assume that the covariance matrix of the errors is correctly specified.\n",
       "\"\"\""
      ]
     },
     "execution_count": 125,
     "metadata": {},
     "output_type": "execute_result"
    }
   ],
   "source": [
    "XX = patsy.standardize(X).assign(Intercept=1).astype(float)\n",
    "mdl = sm.OLS(endog=y,exog=XX)\n",
    "res = mdl.fit()\n",
    "res.summary()\n",
    "\n",
    "# res.params"
   ]
  },
  {
   "cell_type": "code",
   "execution_count": 155,
   "id": "fbbfc648",
   "metadata": {
    "ExecuteTime": {
     "end_time": "2022-03-15T22:18:37.009035Z",
     "start_time": "2022-03-15T22:18:36.907540Z"
    }
   },
   "outputs": [
    {
     "data": {
      "text/html": [
       "<table class=\"simpletable\">\n",
       "<caption>OLS Regression Results</caption>\n",
       "<tr>\n",
       "  <th>Dep. Variable:</th>        <td>call_rate</td>    <th>  R-squared:         </th> <td>   0.287</td>\n",
       "</tr>\n",
       "<tr>\n",
       "  <th>Model:</th>                   <td>OLS</td>       <th>  Adj. R-squared:    </th> <td>   0.278</td>\n",
       "</tr>\n",
       "<tr>\n",
       "  <th>Method:</th>             <td>Least Squares</td>  <th>  F-statistic:       </th> <td>   33.75</td>\n",
       "</tr>\n",
       "<tr>\n",
       "  <th>Date:</th>             <td>Tue, 15 Mar 2022</td> <th>  Prob (F-statistic):</th> <td>1.12e-23</td>\n",
       "</tr>\n",
       "<tr>\n",
       "  <th>Time:</th>                 <td>15:18:36</td>     <th>  Log-Likelihood:    </th> <td> -1927.0</td>\n",
       "</tr>\n",
       "<tr>\n",
       "  <th>No. Observations:</th>      <td>   341</td>      <th>  AIC:               </th> <td>   3864.</td>\n",
       "</tr>\n",
       "<tr>\n",
       "  <th>Df Residuals:</th>          <td>   336</td>      <th>  BIC:               </th> <td>   3883.</td>\n",
       "</tr>\n",
       "<tr>\n",
       "  <th>Df Model:</th>              <td>     4</td>      <th>                     </th>     <td> </td>   \n",
       "</tr>\n",
       "<tr>\n",
       "  <th>Covariance Type:</th>      <td>nonrobust</td>    <th>                     </th>     <td> </td>   \n",
       "</tr>\n",
       "</table>\n",
       "<table class=\"simpletable\">\n",
       "<tr>\n",
       "             <td></td>               <th>coef</th>     <th>std err</th>      <th>t</th>      <th>P>|t|</th>  <th>[0.025</th>    <th>0.975]</th>  \n",
       "</tr>\n",
       "<tr>\n",
       "  <th>Intercept</th>              <td>  104.7378</td> <td>    3.757</td> <td>   27.880</td> <td> 0.000</td> <td>   97.348</td> <td>  112.127</td>\n",
       "</tr>\n",
       "<tr>\n",
       "  <th>population_density</th>     <td>  -14.4355</td> <td>    4.301</td> <td>   -3.356</td> <td> 0.001</td> <td>  -22.896</td> <td>   -5.975</td>\n",
       "</tr>\n",
       "<tr>\n",
       "  <th>married_household_prop</th> <td>  -21.6365</td> <td>    4.305</td> <td>   -5.026</td> <td> 0.000</td> <td>  -30.104</td> <td>  -13.169</td>\n",
       "</tr>\n",
       "<tr>\n",
       "  <th>rental_density</th>         <td>   12.9060</td> <td>    5.687</td> <td>    2.270</td> <td> 0.024</td> <td>    1.720</td> <td>   24.092</td>\n",
       "</tr>\n",
       "<tr>\n",
       "  <th>bus_density</th>            <td>   14.5333</td> <td>    5.437</td> <td>    2.673</td> <td> 0.008</td> <td>    3.838</td> <td>   25.228</td>\n",
       "</tr>\n",
       "</table>\n",
       "<table class=\"simpletable\">\n",
       "<tr>\n",
       "  <th>Omnibus:</th>       <td>516.865</td> <th>  Durbin-Watson:     </th>  <td>   1.628</td> \n",
       "</tr>\n",
       "<tr>\n",
       "  <th>Prob(Omnibus):</th> <td> 0.000</td>  <th>  Jarque-Bera (JB):  </th> <td>126621.696</td>\n",
       "</tr>\n",
       "<tr>\n",
       "  <th>Skew:</th>          <td> 7.707</td>  <th>  Prob(JB):          </th>  <td>    0.00</td> \n",
       "</tr>\n",
       "<tr>\n",
       "  <th>Kurtosis:</th>      <td>96.135</td>  <th>  Cond. No.          </th>  <td>    2.86</td> \n",
       "</tr>\n",
       "</table><br/><br/>Notes:<br/>[1] Standard Errors assume that the covariance matrix of the errors is correctly specified."
      ],
      "text/plain": [
       "<class 'statsmodels.iolib.summary.Summary'>\n",
       "\"\"\"\n",
       "                            OLS Regression Results                            \n",
       "==============================================================================\n",
       "Dep. Variable:              call_rate   R-squared:                       0.287\n",
       "Model:                            OLS   Adj. R-squared:                  0.278\n",
       "Method:                 Least Squares   F-statistic:                     33.75\n",
       "Date:                Tue, 15 Mar 2022   Prob (F-statistic):           1.12e-23\n",
       "Time:                        15:18:36   Log-Likelihood:                -1927.0\n",
       "No. Observations:                 341   AIC:                             3864.\n",
       "Df Residuals:                     336   BIC:                             3883.\n",
       "Df Model:                           4                                         \n",
       "Covariance Type:            nonrobust                                         \n",
       "==========================================================================================\n",
       "                             coef    std err          t      P>|t|      [0.025      0.975]\n",
       "------------------------------------------------------------------------------------------\n",
       "Intercept                104.7378      3.757     27.880      0.000      97.348     112.127\n",
       "population_density       -14.4355      4.301     -3.356      0.001     -22.896      -5.975\n",
       "married_household_prop   -21.6365      4.305     -5.026      0.000     -30.104     -13.169\n",
       "rental_density            12.9060      5.687      2.270      0.024       1.720      24.092\n",
       "bus_density               14.5333      5.437      2.673      0.008       3.838      25.228\n",
       "==============================================================================\n",
       "Omnibus:                      516.865   Durbin-Watson:                   1.628\n",
       "Prob(Omnibus):                  0.000   Jarque-Bera (JB):           126621.696\n",
       "Skew:                           7.707   Prob(JB):                         0.00\n",
       "Kurtosis:                      96.135   Cond. No.                         2.86\n",
       "==============================================================================\n",
       "\n",
       "Notes:\n",
       "[1] Standard Errors assume that the covariance matrix of the errors is correctly specified.\n",
       "\"\"\""
      ]
     },
     "execution_count": 155,
     "metadata": {},
     "output_type": "execute_result"
    }
   ],
   "source": [
    "XX = patsy.standardize(X).assign(Intercept=1).astype(float)\n",
    "mdl = sm.OLS(endog=y,exog=XX)\n",
    "res = mdl.fit_regularized(method='elastic_net',L1_wt = 1,alpha=10,refit=False,zero_tol=.0001)\n",
    "XXX = XX.drop(columns=res.params[res.params==0].index)\n",
    "mdl = sm.OLS(endog=y,exog=XXX)\n",
    "\n",
    "res = mdl.fit()\n",
    "res.summary()"
   ]
  },
  {
   "cell_type": "code",
   "execution_count": 217,
   "id": "518357cb",
   "metadata": {
    "ExecuteTime": {
     "end_time": "2022-03-15T22:46:32.210113Z",
     "start_time": "2022-03-15T22:46:31.907591Z"
    }
   },
   "outputs": [
    {
     "data": {
      "text/plain": [
       "<matplotlib.legend.Legend at 0x140653b80>"
      ]
     },
     "execution_count": 217,
     "metadata": {},
     "output_type": "execute_result"
    },
    {
     "data": {
      "image/png": "[encoded data removed]",
      "text/plain": [
       "<Figure size 720x360 with 1 Axes>"
      ]
     },
     "metadata": {
      "image/png": {
       "height": 358,
       "width": 779
      },
      "needs_background": "light"
     },
     "output_type": "display_data"
    }
   ],
   "source": [
    "fig, ax = plt.subplots(1,1,figsize=(10,5))\n",
    "sorted_abs_params = res.params.drop('Intercept').abs().sort_values(ascending=False)\n",
    "\n",
    "tt = sorted_abs_params.rename(COLNAME_MAP).plot(kind='barh',ax=ax,color=['r' if x else 'g' for x in (res.params.loc[sorted_abs_params.index]>0)])\n",
    "ax.grid(True, axis='y')\n",
    "_ = ax.set(xlabel='Impact of typical distance from average\\non annual calls / 1000 residents',title='Most impactful characteristics')\n",
    "ax.legend([x for x in tt.get_children() if isinstance(x,mpl.patches.Rectangle)],['Negatively correlated','Positively correlated'])"
   ]
  },
  {
   "cell_type": "code",
   "execution_count": 218,
   "id": "cf509b4b",
   "metadata": {
    "ExecuteTime": {
     "end_time": "2022-03-15T22:47:27.459652Z",
     "start_time": "2022-03-15T22:47:27.416779Z"
    }
   },
   "outputs": [
    {
     "data": {
      "text/html": [
       "<div>\n",
       "<style scoped>\n",
       "    .dataframe tbody tr th:only-of-type {\n",
       "        vertical-align: middle;\n",
       "    }\n",
       "\n",
       "    .dataframe tbody tr th {\n",
       "        vertical-align: top;\n",
       "    }\n",
       "\n",
       "    .dataframe thead th {\n",
       "        text-align: right;\n",
       "    }\n",
       "</style>\n",
       "<table border=\"1\" class=\"dataframe\">\n",
       "  <thead>\n",
       "    <tr style=\"text-align: right;\">\n",
       "      <th></th>\n",
       "      <th>Intercept</th>\n",
       "      <th>population_density</th>\n",
       "      <th>married_household_prop</th>\n",
       "      <th>rental_density</th>\n",
       "      <th>bus_density</th>\n",
       "    </tr>\n",
       "    <tr>\n",
       "      <th>tract</th>\n",
       "      <th></th>\n",
       "      <th></th>\n",
       "      <th></th>\n",
       "      <th></th>\n",
       "      <th></th>\n",
       "    </tr>\n",
       "  </thead>\n",
       "  <tbody>\n",
       "    <tr>\n",
       "      <th>2.616355e+10</th>\n",
       "      <td>1.0</td>\n",
       "      <td>-1.635811</td>\n",
       "      <td>-0.660678</td>\n",
       "      <td>1.183757</td>\n",
       "      <td>0.608088</td>\n",
       "    </tr>\n",
       "    <tr>\n",
       "      <th>2.616350e+10</th>\n",
       "      <td>1.0</td>\n",
       "      <td>-0.578244</td>\n",
       "      <td>0.194290</td>\n",
       "      <td>0.733278</td>\n",
       "      <td>0.344475</td>\n",
       "    </tr>\n",
       "    <tr>\n",
       "      <th>2.616399e+10</th>\n",
       "      <td>1.0</td>\n",
       "      <td>-2.171613</td>\n",
       "      <td>-0.450019</td>\n",
       "      <td>-0.629715</td>\n",
       "      <td>1.931999</td>\n",
       "    </tr>\n",
       "    <tr>\n",
       "      <th>2.616352e+10</th>\n",
       "      <td>1.0</td>\n",
       "      <td>-1.524940</td>\n",
       "      <td>-0.791056</td>\n",
       "      <td>-0.598063</td>\n",
       "      <td>1.487856</td>\n",
       "    </tr>\n",
       "    <tr>\n",
       "      <th>2.616398e+10</th>\n",
       "      <td>1.0</td>\n",
       "      <td>-2.151180</td>\n",
       "      <td>-0.290532</td>\n",
       "      <td>-1.977952</td>\n",
       "      <td>-0.174244</td>\n",
       "    </tr>\n",
       "  </tbody>\n",
       "</table>\n",
       "</div>"
      ],
      "text/plain": [
       "              Intercept  population_density  married_household_prop  \\\n",
       "tract                                                                 \n",
       "2.616355e+10        1.0           -1.635811               -0.660678   \n",
       "2.616350e+10        1.0           -0.578244                0.194290   \n",
       "2.616399e+10        1.0           -2.171613               -0.450019   \n",
       "2.616352e+10        1.0           -1.524940               -0.791056   \n",
       "2.616398e+10        1.0           -2.151180               -0.290532   \n",
       "\n",
       "              rental_density  bus_density  \n",
       "tract                                      \n",
       "2.616355e+10        1.183757     0.608088  \n",
       "2.616350e+10        0.733278     0.344475  \n",
       "2.616399e+10       -0.629715     1.931999  \n",
       "2.616352e+10       -0.598063     1.487856  \n",
       "2.616398e+10       -1.977952    -0.174244  "
      ]
     },
     "execution_count": 218,
     "metadata": {},
     "output_type": "execute_result"
    }
   ],
   "source": [
    "most_calls = y.sort_values('call_rate').index[-5:]\n",
    "XXX.loc[most_calls]"
   ]
  },
  {
   "cell_type": "code",
   "execution_count": 259,
   "id": "b92e67af",
   "metadata": {
    "ExecuteTime": {
     "end_time": "2022-03-15T23:17:27.420356Z",
     "start_time": "2022-03-15T23:17:27.371183Z"
    }
   },
   "outputs": [
    {
     "data": {
      "text/html": [
       "<div>\n",
       "<style scoped>\n",
       "    .dataframe tbody tr th:only-of-type {\n",
       "        vertical-align: middle;\n",
       "    }\n",
       "\n",
       "    .dataframe tbody tr th {\n",
       "        vertical-align: top;\n",
       "    }\n",
       "\n",
       "    .dataframe thead th {\n",
       "        text-align: right;\n",
       "    }\n",
       "</style>\n",
       "<table border=\"1\" class=\"dataframe\">\n",
       "  <thead>\n",
       "    <tr style=\"text-align: right;\">\n",
       "      <th></th>\n",
       "      <th>population_density</th>\n",
       "      <th>per_household_income</th>\n",
       "      <th>out_of_state_rental_ownership</th>\n",
       "      <th>call_rate</th>\n",
       "      <th>married_household_prop</th>\n",
       "      <th>people_per_household</th>\n",
       "      <th>greenlight_density</th>\n",
       "      <th>rental_density</th>\n",
       "      <th>bus_density</th>\n",
       "    </tr>\n",
       "    <tr>\n",
       "      <th>tract</th>\n",
       "      <th></th>\n",
       "      <th></th>\n",
       "      <th></th>\n",
       "      <th></th>\n",
       "      <th></th>\n",
       "      <th></th>\n",
       "      <th></th>\n",
       "      <th></th>\n",
       "      <th></th>\n",
       "    </tr>\n",
       "  </thead>\n",
       "  <tbody>\n",
       "    <tr>\n",
       "      <th>2.616355e+10</th>\n",
       "      <td>316.771881</td>\n",
       "      <td>26130.0</td>\n",
       "      <td>0.007463</td>\n",
       "      <td>326.590443</td>\n",
       "      <td>0.119840</td>\n",
       "      <td>1.009321</td>\n",
       "      <td>2.392889</td>\n",
       "      <td>320.647147</td>\n",
       "      <td>45.464894</td>\n",
       "    </tr>\n",
       "    <tr>\n",
       "      <th>2.616350e+10</th>\n",
       "      <td>896.754399</td>\n",
       "      <td>41312.0</td>\n",
       "      <td>0.269841</td>\n",
       "      <td>380.682134</td>\n",
       "      <td>0.245025</td>\n",
       "      <td>2.483831</td>\n",
       "      <td>0.000000</td>\n",
       "      <td>140.295938</td>\n",
       "      <td>33.403795</td>\n",
       "    </tr>\n",
       "    <tr>\n",
       "      <th>2.616399e+10</th>\n",
       "      <td>22.931242</td>\n",
       "      <td>45320.0</td>\n",
       "      <td>1.000000</td>\n",
       "      <td>383.017164</td>\n",
       "      <td>0.150685</td>\n",
       "      <td>0.842466</td>\n",
       "      <td>5.363861</td>\n",
       "      <td>10.727722</td>\n",
       "      <td>209.190587</td>\n",
       "    </tr>\n",
       "    <tr>\n",
       "      <th>2.616352e+10</th>\n",
       "      <td>377.574986</td>\n",
       "      <td>81669.0</td>\n",
       "      <td>0.000000</td>\n",
       "      <td>541.956421</td>\n",
       "      <td>0.100750</td>\n",
       "      <td>1.541265</td>\n",
       "      <td>102.829905</td>\n",
       "      <td>11.425545</td>\n",
       "      <td>125.680995</td>\n",
       "    </tr>\n",
       "    <tr>\n",
       "      <th>2.616398e+10</th>\n",
       "      <td>34.136901</td>\n",
       "      <td>40003.0</td>\n",
       "      <td>0.222222</td>\n",
       "      <td>1030.303030</td>\n",
       "      <td>NaN</td>\n",
       "      <td>5.000000</td>\n",
       "      <td>0.000000</td>\n",
       "      <td>0.000000</td>\n",
       "      <td>18.044989</td>\n",
       "    </tr>\n",
       "  </tbody>\n",
       "</table>\n",
       "</div>"
      ],
      "text/plain": [
       "              population_density  per_household_income  \\\n",
       "tract                                                    \n",
       "2.616355e+10          316.771881               26130.0   \n",
       "2.616350e+10          896.754399               41312.0   \n",
       "2.616399e+10           22.931242               45320.0   \n",
       "2.616352e+10          377.574986               81669.0   \n",
       "2.616398e+10           34.136901               40003.0   \n",
       "\n",
       "              out_of_state_rental_ownership    call_rate  \\\n",
       "tract                                                      \n",
       "2.616355e+10                       0.007463   326.590443   \n",
       "2.616350e+10                       0.269841   380.682134   \n",
       "2.616399e+10                       1.000000   383.017164   \n",
       "2.616352e+10                       0.000000   541.956421   \n",
       "2.616398e+10                       0.222222  1030.303030   \n",
       "\n",
       "              married_household_prop  people_per_household  \\\n",
       "tract                                                        \n",
       "2.616355e+10                0.119840              1.009321   \n",
       "2.616350e+10                0.245025              2.483831   \n",
       "2.616399e+10                0.150685              0.842466   \n",
       "2.616352e+10                0.100750              1.541265   \n",
       "2.616398e+10                     NaN              5.000000   \n",
       "\n",
       "              greenlight_density  rental_density  bus_density  \n",
       "tract                                                          \n",
       "2.616355e+10            2.392889      320.647147    45.464894  \n",
       "2.616350e+10            0.000000      140.295938    33.403795  \n",
       "2.616399e+10            5.363861       10.727722   209.190587  \n",
       "2.616352e+10          102.829905       11.425545   125.680995  \n",
       "2.616398e+10            0.000000        0.000000    18.044989  "
      ]
     },
     "execution_count": 259,
     "metadata": {},
     "output_type": "execute_result"
    }
   ],
   "source": [
    "df0.loc[most_calls]"
   ]
  },
  {
   "cell_type": "code",
   "execution_count": 225,
   "id": "7531cc0a",
   "metadata": {
    "ExecuteTime": {
     "end_time": "2022-03-15T22:50:09.719055Z",
     "start_time": "2022-03-15T22:50:09.668577Z"
    }
   },
   "outputs": [
    {
     "data": {
      "text/html": [
       "<div>\n",
       "<style scoped>\n",
       "    .dataframe tbody tr th:only-of-type {\n",
       "        vertical-align: middle;\n",
       "    }\n",
       "\n",
       "    .dataframe tbody tr th {\n",
       "        vertical-align: top;\n",
       "    }\n",
       "\n",
       "    .dataframe thead th {\n",
       "        text-align: right;\n",
       "    }\n",
       "</style>\n",
       "<table border=\"1\" class=\"dataframe\">\n",
       "  <thead>\n",
       "    <tr style=\"text-align: right;\">\n",
       "      <th></th>\n",
       "      <th>population_density</th>\n",
       "      <th>married_household_prop</th>\n",
       "      <th>rental_density</th>\n",
       "      <th>bus_density</th>\n",
       "    </tr>\n",
       "    <tr>\n",
       "      <th>tract</th>\n",
       "      <th></th>\n",
       "      <th></th>\n",
       "      <th></th>\n",
       "      <th></th>\n",
       "    </tr>\n",
       "  </thead>\n",
       "  <tbody>\n",
       "    <tr>\n",
       "      <th>2.616355e+10</th>\n",
       "      <td>23.613727</td>\n",
       "      <td>14.294789</td>\n",
       "      <td>15.277554</td>\n",
       "      <td>8.837505</td>\n",
       "    </tr>\n",
       "    <tr>\n",
       "      <th>2.616350e+10</th>\n",
       "      <td>8.347240</td>\n",
       "      <td>-4.203776</td>\n",
       "      <td>9.463683</td>\n",
       "      <td>5.006352</td>\n",
       "    </tr>\n",
       "    <tr>\n",
       "      <th>2.616399e+10</th>\n",
       "      <td>31.348296</td>\n",
       "      <td>9.736859</td>\n",
       "      <td>-8.127098</td>\n",
       "      <td>28.078261</td>\n",
       "    </tr>\n",
       "    <tr>\n",
       "      <th>2.616352e+10</th>\n",
       "      <td>22.013248</td>\n",
       "      <td>17.115715</td>\n",
       "      <td>-7.718593</td>\n",
       "      <td>21.623414</td>\n",
       "    </tr>\n",
       "    <tr>\n",
       "      <th>2.616398e+10</th>\n",
       "      <td>31.053337</td>\n",
       "      <td>6.286105</td>\n",
       "      <td>-25.527435</td>\n",
       "      <td>-2.532332</td>\n",
       "    </tr>\n",
       "  </tbody>\n",
       "</table>\n",
       "</div>"
      ],
      "text/plain": [
       "              population_density  married_household_prop  rental_density  \\\n",
       "tract                                                                      \n",
       "2.616355e+10           23.613727               14.294789       15.277554   \n",
       "2.616350e+10            8.347240               -4.203776        9.463683   \n",
       "2.616399e+10           31.348296                9.736859       -8.127098   \n",
       "2.616352e+10           22.013248               17.115715       -7.718593   \n",
       "2.616398e+10           31.053337                6.286105      -25.527435   \n",
       "\n",
       "              bus_density  \n",
       "tract                      \n",
       "2.616355e+10     8.837505  \n",
       "2.616350e+10     5.006352  \n",
       "2.616399e+10    28.078261  \n",
       "2.616352e+10    21.623414  \n",
       "2.616398e+10    -2.532332  "
      ]
     },
     "execution_count": 225,
     "metadata": {},
     "output_type": "execute_result"
    }
   ],
   "source": [
    "contributions = (XXX.loc[most_calls]*res.params).drop(columns=['Intercept'])\n",
    "contributions"
   ]
  },
  {
   "cell_type": "code",
   "execution_count": 255,
   "id": "74102524",
   "metadata": {
    "ExecuteTime": {
     "end_time": "2022-03-15T23:10:31.311325Z",
     "start_time": "2022-03-15T23:10:31.264133Z"
    }
   },
   "outputs": [
    {
     "data": {
      "text/html": [
       "<div>\n",
       "<style scoped>\n",
       "    .dataframe tbody tr th:only-of-type {\n",
       "        vertical-align: middle;\n",
       "    }\n",
       "\n",
       "    .dataframe tbody tr th {\n",
       "        vertical-align: top;\n",
       "    }\n",
       "\n",
       "    .dataframe thead th {\n",
       "        text-align: right;\n",
       "    }\n",
       "</style>\n",
       "<table border=\"1\" class=\"dataframe\">\n",
       "  <thead>\n",
       "    <tr style=\"text-align: right;\">\n",
       "      <th></th>\n",
       "      <th>population_density</th>\n",
       "      <th>per_household_income</th>\n",
       "      <th>out_of_state_rental_ownership</th>\n",
       "      <th>call_rate</th>\n",
       "      <th>married_household_prop</th>\n",
       "      <th>greenlight_density</th>\n",
       "      <th>people_per_household</th>\n",
       "      <th>rental_density</th>\n",
       "      <th>bus_density</th>\n",
       "    </tr>\n",
       "    <tr>\n",
       "      <th>tract</th>\n",
       "      <th></th>\n",
       "      <th></th>\n",
       "      <th></th>\n",
       "      <th></th>\n",
       "      <th></th>\n",
       "      <th></th>\n",
       "      <th></th>\n",
       "      <th></th>\n",
       "      <th></th>\n",
       "    </tr>\n",
       "  </thead>\n",
       "  <tbody>\n",
       "    <tr>\n",
       "      <th>2.616355e+10</th>\n",
       "      <td>316.771881</td>\n",
       "      <td>10.170839</td>\n",
       "      <td>0.007463</td>\n",
       "      <td>326.590443</td>\n",
       "      <td>0.119840</td>\n",
       "      <td>1.221682</td>\n",
       "      <td>1.009321</td>\n",
       "      <td>5.773455</td>\n",
       "      <td>3.838697</td>\n",
       "    </tr>\n",
       "    <tr>\n",
       "      <th>2.616350e+10</th>\n",
       "      <td>896.754399</td>\n",
       "      <td>10.628908</td>\n",
       "      <td>0.269841</td>\n",
       "      <td>380.682134</td>\n",
       "      <td>0.245025</td>\n",
       "      <td>0.000000</td>\n",
       "      <td>2.483831</td>\n",
       "      <td>4.950857</td>\n",
       "      <td>3.538167</td>\n",
       "    </tr>\n",
       "    <tr>\n",
       "      <th>2.616399e+10</th>\n",
       "      <td>22.931242</td>\n",
       "      <td>10.721504</td>\n",
       "      <td>1.000000</td>\n",
       "      <td>383.017164</td>\n",
       "      <td>0.150685</td>\n",
       "      <td>1.850635</td>\n",
       "      <td>0.842466</td>\n",
       "      <td>2.461955</td>\n",
       "      <td>5.348015</td>\n",
       "    </tr>\n",
       "    <tr>\n",
       "      <th>2.616352e+10</th>\n",
       "      <td>377.574986</td>\n",
       "      <td>11.310430</td>\n",
       "      <td>0.000000</td>\n",
       "      <td>541.956421</td>\n",
       "      <td>0.100750</td>\n",
       "      <td>4.642754</td>\n",
       "      <td>1.541265</td>\n",
       "      <td>2.519754</td>\n",
       "      <td>4.841672</td>\n",
       "    </tr>\n",
       "    <tr>\n",
       "      <th>2.616398e+10</th>\n",
       "      <td>34.136901</td>\n",
       "      <td>10.596710</td>\n",
       "      <td>0.222222</td>\n",
       "      <td>1030.303030</td>\n",
       "      <td>0.174037</td>\n",
       "      <td>0.000000</td>\n",
       "      <td>5.000000</td>\n",
       "      <td>0.000000</td>\n",
       "      <td>2.946804</td>\n",
       "    </tr>\n",
       "  </tbody>\n",
       "</table>\n",
       "</div>"
      ],
      "text/plain": [
       "              population_density  per_household_income  \\\n",
       "tract                                                    \n",
       "2.616355e+10          316.771881             10.170839   \n",
       "2.616350e+10          896.754399             10.628908   \n",
       "2.616399e+10           22.931242             10.721504   \n",
       "2.616352e+10          377.574986             11.310430   \n",
       "2.616398e+10           34.136901             10.596710   \n",
       "\n",
       "              out_of_state_rental_ownership    call_rate  \\\n",
       "tract                                                      \n",
       "2.616355e+10                       0.007463   326.590443   \n",
       "2.616350e+10                       0.269841   380.682134   \n",
       "2.616399e+10                       1.000000   383.017164   \n",
       "2.616352e+10                       0.000000   541.956421   \n",
       "2.616398e+10                       0.222222  1030.303030   \n",
       "\n",
       "              married_household_prop  greenlight_density  \\\n",
       "tract                                                      \n",
       "2.616355e+10                0.119840            1.221682   \n",
       "2.616350e+10                0.245025            0.000000   \n",
       "2.616399e+10                0.150685            1.850635   \n",
       "2.616352e+10                0.100750            4.642754   \n",
       "2.616398e+10                0.174037            0.000000   \n",
       "\n",
       "              people_per_household  rental_density  bus_density  \n",
       "tract                                                            \n",
       "2.616355e+10              1.009321        5.773455     3.838697  \n",
       "2.616350e+10              2.483831        4.950857     3.538167  \n",
       "2.616399e+10              0.842466        2.461955     5.348015  \n",
       "2.616352e+10              1.541265        2.519754     4.841672  \n",
       "2.616398e+10              5.000000        0.000000     2.946804  "
      ]
     },
     "execution_count": 255,
     "metadata": {},
     "output_type": "execute_result"
    }
   ],
   "source": [
    "df.loc[most_calls]"
   ]
  },
  {
   "cell_type": "code",
   "execution_count": 264,
   "id": "c6595db7",
   "metadata": {
    "ExecuteTime": {
     "end_time": "2022-03-15T23:18:29.604098Z",
     "start_time": "2022-03-15T23:18:29.564557Z"
    }
   },
   "outputs": [
    {
     "data": {
      "text/plain": [
       "26163545400.0"
      ]
     },
     "execution_count": 264,
     "metadata": {},
     "output_type": "execute_result"
    }
   ],
   "source": [
    "most_calls[0]"
   ]
  },
  {
   "cell_type": "code",
   "execution_count": 284,
   "id": "4ba075e4",
   "metadata": {
    "ExecuteTime": {
     "end_time": "2022-03-15T23:24:34.201734Z",
     "start_time": "2022-03-15T23:24:34.163369Z"
    }
   },
   "outputs": [
    {
     "data": {
      "text/plain": [
       "Intercept                 104.737806\n",
       "population_density        -14.435487\n",
       "married_household_prop    -21.636549\n",
       "rental_density             12.905992\n",
       "bus_density                14.533272\n",
       "dtype: float64"
      ]
     },
     "execution_count": 284,
     "metadata": {},
     "output_type": "execute_result"
    }
   ],
   "source": [
    "res.params"
   ]
  },
  {
   "cell_type": "code",
   "execution_count": 287,
   "id": "282673f7",
   "metadata": {
    "ExecuteTime": {
     "end_time": "2022-03-15T23:24:49.888645Z",
     "start_time": "2022-03-15T23:24:49.847598Z"
    }
   },
   "outputs": [
    {
     "data": {
      "text/plain": [
       "population_density                 316.771881\n",
       "per_household_income             26130.000000\n",
       "out_of_state_rental_ownership        0.007463\n",
       "call_rate                          326.590443\n",
       "married_household_prop               0.119840\n",
       "people_per_household                 1.009321\n",
       "greenlight_density                   2.392889\n",
       "rental_density                     320.647147\n",
       "bus_density                         45.464894\n",
       "Name: 26163545400.0, dtype: float64"
      ]
     },
     "execution_count": 287,
     "metadata": {},
     "output_type": "execute_result"
    }
   ],
   "source": [
    "df0.loc[most_calls[0]]"
   ]
  },
  {
   "cell_type": "code",
   "execution_count": 285,
   "id": "86056312",
   "metadata": {
    "ExecuteTime": {
     "end_time": "2022-03-15T23:24:38.519525Z",
     "start_time": "2022-03-15T23:24:38.481505Z"
    }
   },
   "outputs": [
    {
     "data": {
      "text/plain": [
       "166.76138259879588"
      ]
     },
     "execution_count": 285,
     "metadata": {},
     "output_type": "execute_result"
    }
   ],
   "source": [
    "s.sum()+res.params.Intercept"
   ]
  },
  {
   "cell_type": "code",
   "execution_count": 299,
   "id": "2776a3d0",
   "metadata": {
    "ExecuteTime": {
     "end_time": "2022-03-15T23:29:10.122459Z",
     "start_time": "2022-03-15T23:29:10.070089Z"
    }
   },
   "outputs": [
    {
     "data": {
      "application/vnd.plotly.v1+json": {
       "config": {
        "plotlyServerURL": "https://plot.ly"
       },
       "data": [
        {
         "connector": {
          "line": {
           "color": "rgb(63, 63, 63)"
          }
         },
         "name": "Annual calls per 1k residents",
         "orientation": "v",
         "textposition": "outside",
         "type": "waterfall",
         "x": [
          "Population density",
          "Proportion of households married",
          "Rental units per sq km",
          "bus stops /km^2"
         ],
         "y": [
          23.61372742502472,
          14.294789376710206,
          15.27755412629743,
          8.837505369564207
         ]
        }
       ],
       "layout": {
        "font": {
         "size": 20
        },
        "showlegend": false,
        "template": {
         "data": {
          "bar": [
           {
            "error_x": {
             "color": "#2a3f5f"
            },
            "error_y": {
             "color": "#2a3f5f"
            },
            "marker": {
             "line": {
              "color": "#E5ECF6",
              "width": 0.5
             },
             "pattern": {
              "fillmode": "overlay",
              "size": 10,
              "solidity": 0.2
             }
            },
            "type": "bar"
           }
          ],
          "barpolar": [
           {
            "marker": {
             "line": {
              "color": "#E5ECF6",
              "width": 0.5
             },
             "pattern": {
              "fillmode": "overlay",
              "size": 10,
              "solidity": 0.2
             }
            },
            "type": "barpolar"
           }
          ],
          "carpet": [
           {
            "aaxis": {
             "endlinecolor": "#2a3f5f",
             "gridcolor": "white",
             "linecolor": "white",
             "minorgridcolor": "white",
             "startlinecolor": "#2a3f5f"
            },
            "baxis": {
             "endlinecolor": "#2a3f5f",
             "gridcolor": "white",
             "linecolor": "white",
             "minorgridcolor": "white",
             "startlinecolor": "#2a3f5f"
            },
            "type": "carpet"
           }
          ],
          "choropleth": [
           {
            "colorbar": {
             "outlinewidth": 0,
             "ticks": ""
            },
            "type": "choropleth"
           }
          ],
          "contour": [
           {
            "colorbar": {
             "outlinewidth": 0,
             "ticks": ""
            },
            "colorscale": [
             [
              0,
              "#0d0887"
             ],
             [
              0.1111111111111111,
              "#46039f"
             ],
             [
              0.2222222222222222,
              "#7201a8"
             ],
             [
              0.3333333333333333,
              "#9c179e"
             ],
             [
              0.4444444444444444,
              "#bd3786"
             ],
             [
              0.5555555555555556,
              "#d8576b"
             ],
             [
              0.6666666666666666,
              "#ed7953"
             ],
             [
              0.7777777777777778,
              "#fb9f3a"
             ],
             [
              0.8888888888888888,
              "#fdca26"
             ],
             [
              1,
              "#f0f921"
             ]
            ],
            "type": "contour"
           }
          ],
          "contourcarpet": [
           {
            "colorbar": {
             "outlinewidth": 0,
             "ticks": ""
            },
            "type": "contourcarpet"
           }
          ],
          "heatmap": [
           {
            "colorbar": {
             "outlinewidth": 0,
             "ticks": ""
            },
            "colorscale": [
             [
              0,
              "#0d0887"
             ],
             [
              0.1111111111111111,
              "#46039f"
             ],
             [
              0.2222222222222222,
              "#7201a8"
             ],
             [
              0.3333333333333333,
              "#9c179e"
             ],
             [
              0.4444444444444444,
              "#bd3786"
             ],
             [
              0.5555555555555556,
              "#d8576b"
             ],
             [
              0.6666666666666666,
              "#ed7953"
             ],
             [
              0.7777777777777778,
              "#fb9f3a"
             ],
             [
              0.8888888888888888,
              "#fdca26"
             ],
             [
              1,
              "#f0f921"
             ]
            ],
            "type": "heatmap"
           }
          ],
          "heatmapgl": [
           {
            "colorbar": {
             "outlinewidth": 0,
             "ticks": ""
            },
            "colorscale": [
             [
              0,
              "#0d0887"
             ],
             [
              0.1111111111111111,
              "#46039f"
             ],
             [
              0.2222222222222222,
              "#7201a8"
             ],
             [
              0.3333333333333333,
              "#9c179e"
             ],
             [
              0.4444444444444444,
              "#bd3786"
             ],
             [
              0.5555555555555556,
              "#d8576b"
             ],
             [
              0.6666666666666666,
              "#ed7953"
             ],
             [
              0.7777777777777778,
              "#fb9f3a"
             ],
             [
              0.8888888888888888,
              "#fdca26"
             ],
             [
              1,
              "#f0f921"
             ]
            ],
            "type": "heatmapgl"
           }
          ],
          "histogram": [
           {
            "marker": {
             "pattern": {
              "fillmode": "overlay",
              "size": 10,
              "solidity": 0.2
             }
            },
            "type": "histogram"
           }
          ],
          "histogram2d": [
           {
            "colorbar": {
             "outlinewidth": 0,
             "ticks": ""
            },
            "colorscale": [
             [
              0,
              "#0d0887"
             ],
             [
              0.1111111111111111,
              "#46039f"
             ],
             [
              0.2222222222222222,
              "#7201a8"
             ],
             [
              0.3333333333333333,
              "#9c179e"
             ],
             [
              0.4444444444444444,
              "#bd3786"
             ],
             [
              0.5555555555555556,
              "#d8576b"
             ],
             [
              0.6666666666666666,
              "#ed7953"
             ],
             [
              0.7777777777777778,
              "#fb9f3a"
             ],
             [
              0.8888888888888888,
              "#fdca26"
             ],
             [
              1,
              "#f0f921"
             ]
            ],
            "type": "histogram2d"
           }
          ],
          "histogram2dcontour": [
           {
            "colorbar": {
             "outlinewidth": 0,
             "ticks": ""
            },
            "colorscale": [
             [
              0,
              "#0d0887"
             ],
             [
              0.1111111111111111,
              "#46039f"
             ],
             [
              0.2222222222222222,
              "#7201a8"
             ],
             [
              0.3333333333333333,
              "#9c179e"
             ],
             [
              0.4444444444444444,
              "#bd3786"
             ],
             [
              0.5555555555555556,
              "#d8576b"
             ],
             [
              0.6666666666666666,
              "#ed7953"
             ],
             [
              0.7777777777777778,
              "#fb9f3a"
             ],
             [
              0.8888888888888888,
              "#fdca26"
             ],
             [
              1,
              "#f0f921"
             ]
            ],
            "type": "histogram2dcontour"
           }
          ],
          "mesh3d": [
           {
            "colorbar": {
             "outlinewidth": 0,
             "ticks": ""
            },
            "type": "mesh3d"
           }
          ],
          "parcoords": [
           {
            "line": {
             "colorbar": {
              "outlinewidth": 0,
              "ticks": ""
             }
            },
            "type": "parcoords"
           }
          ],
          "pie": [
           {
            "automargin": true,
            "type": "pie"
           }
          ],
          "scatter": [
           {
            "marker": {
             "colorbar": {
              "outlinewidth": 0,
              "ticks": ""
             }
            },
            "type": "scatter"
           }
          ],
          "scatter3d": [
           {
            "line": {
             "colorbar": {
              "outlinewidth": 0,
              "ticks": ""
             }
            },
            "marker": {
             "colorbar": {
              "outlinewidth": 0,
              "ticks": ""
             }
            },
            "type": "scatter3d"
           }
          ],
          "scattercarpet": [
           {
            "marker": {
             "colorbar": {
              "outlinewidth": 0,
              "ticks": ""
             }
            },
            "type": "scattercarpet"
           }
          ],
          "scattergeo": [
           {
            "marker": {
             "colorbar": {
              "outlinewidth": 0,
              "ticks": ""
             }
            },
            "type": "scattergeo"
           }
          ],
          "scattergl": [
           {
            "marker": {
             "colorbar": {
              "outlinewidth": 0,
              "ticks": ""
             }
            },
            "type": "scattergl"
           }
          ],
          "scattermapbox": [
           {
            "marker": {
             "colorbar": {
              "outlinewidth": 0,
              "ticks": ""
             }
            },
            "type": "scattermapbox"
           }
          ],
          "scatterpolar": [
           {
            "marker": {
             "colorbar": {
              "outlinewidth": 0,
              "ticks": ""
             }
            },
            "type": "scatterpolar"
           }
          ],
          "scatterpolargl": [
           {
            "marker": {
             "colorbar": {
              "outlinewidth": 0,
              "ticks": ""
             }
            },
            "type": "scatterpolargl"
           }
          ],
          "scatterternary": [
           {
            "marker": {
             "colorbar": {
              "outlinewidth": 0,
              "ticks": ""
             }
            },
            "type": "scatterternary"
           }
          ],
          "surface": [
           {
            "colorbar": {
             "outlinewidth": 0,
             "ticks": ""
            },
            "colorscale": [
             [
              0,
              "#0d0887"
             ],
             [
              0.1111111111111111,
              "#46039f"
             ],
             [
              0.2222222222222222,
              "#7201a8"
             ],
             [
              0.3333333333333333,
              "#9c179e"
             ],
             [
              0.4444444444444444,
              "#bd3786"
             ],
             [
              0.5555555555555556,
              "#d8576b"
             ],
             [
              0.6666666666666666,
              "#ed7953"
             ],
             [
              0.7777777777777778,
              "#fb9f3a"
             ],
             [
              0.8888888888888888,
              "#fdca26"
             ],
             [
              1,
              "#f0f921"
             ]
            ],
            "type": "surface"
           }
          ],
          "table": [
           {
            "cells": {
             "fill": {
              "color": "#EBF0F8"
             },
             "line": {
              "color": "white"
             }
            },
            "header": {
             "fill": {
              "color": "#C8D4E3"
             },
             "line": {
              "color": "white"
             }
            },
            "type": "table"
           }
          ]
         },
         "layout": {
          "annotationdefaults": {
           "arrowcolor": "#2a3f5f",
           "arrowhead": 0,
           "arrowwidth": 1
          },
          "autotypenumbers": "strict",
          "coloraxis": {
           "colorbar": {
            "outlinewidth": 0,
            "ticks": ""
           }
          },
          "colorscale": {
           "diverging": [
            [
             0,
             "#8e0152"
            ],
            [
             0.1,
             "#c51b7d"
            ],
            [
             0.2,
             "#de77ae"
            ],
            [
             0.3,
             "#f1b6da"
            ],
            [
             0.4,
             "#fde0ef"
            ],
            [
             0.5,
             "#f7f7f7"
            ],
            [
             0.6,
             "#e6f5d0"
            ],
            [
             0.7,
             "#b8e186"
            ],
            [
             0.8,
             "#7fbc41"
            ],
            [
             0.9,
             "#4d9221"
            ],
            [
             1,
             "#276419"
            ]
           ],
           "sequential": [
            [
             0,
             "#0d0887"
            ],
            [
             0.1111111111111111,
             "#46039f"
            ],
            [
             0.2222222222222222,
             "#7201a8"
            ],
            [
             0.3333333333333333,
             "#9c179e"
            ],
            [
             0.4444444444444444,
             "#bd3786"
            ],
            [
             0.5555555555555556,
             "#d8576b"
            ],
            [
             0.6666666666666666,
             "#ed7953"
            ],
            [
             0.7777777777777778,
             "#fb9f3a"
            ],
            [
             0.8888888888888888,
             "#fdca26"
            ],
            [
             1,
             "#f0f921"
            ]
           ],
           "sequentialminus": [
            [
             0,
             "#0d0887"
            ],
            [
             0.1111111111111111,
             "#46039f"
            ],
            [
             0.2222222222222222,
             "#7201a8"
            ],
            [
             0.3333333333333333,
             "#9c179e"
            ],
            [
             0.4444444444444444,
             "#bd3786"
            ],
            [
             0.5555555555555556,
             "#d8576b"
            ],
            [
             0.6666666666666666,
             "#ed7953"
            ],
            [
             0.7777777777777778,
             "#fb9f3a"
            ],
            [
             0.8888888888888888,
             "#fdca26"
            ],
            [
             1,
             "#f0f921"
            ]
           ]
          },
          "colorway": [
           "#636efa",
           "#EF553B",
           "#00cc96",
           "#ab63fa",
           "#FFA15A",
           "#19d3f3",
           "#FF6692",
           "#B6E880",
           "#FF97FF",
           "#FECB52"
          ],
          "font": {
           "color": "#2a3f5f"
          },
          "geo": {
           "bgcolor": "white",
           "lakecolor": "white",
           "landcolor": "#E5ECF6",
           "showlakes": true,
           "showland": true,
           "subunitcolor": "white"
          },
          "hoverlabel": {
           "align": "left"
          },
          "hovermode": "closest",
          "mapbox": {
           "style": "light"
          },
          "paper_bgcolor": "white",
          "plot_bgcolor": "#E5ECF6",
          "polar": {
           "angularaxis": {
            "gridcolor": "white",
            "linecolor": "white",
            "ticks": ""
           },
           "bgcolor": "#E5ECF6",
           "radialaxis": {
            "gridcolor": "white",
            "linecolor": "white",
            "ticks": ""
           }
          },
          "scene": {
           "xaxis": {
            "backgroundcolor": "#E5ECF6",
            "gridcolor": "white",
            "gridwidth": 2,
            "linecolor": "white",
            "showbackground": true,
            "ticks": "",
            "zerolinecolor": "white"
           },
           "yaxis": {
            "backgroundcolor": "#E5ECF6",
            "gridcolor": "white",
            "gridwidth": 2,
            "linecolor": "white",
            "showbackground": true,
            "ticks": "",
            "zerolinecolor": "white"
           },
           "zaxis": {
            "backgroundcolor": "#E5ECF6",
            "gridcolor": "white",
            "gridwidth": 2,
            "linecolor": "white",
            "showbackground": true,
            "ticks": "",
            "zerolinecolor": "white"
           }
          },
          "shapedefaults": {
           "line": {
            "color": "#2a3f5f"
           }
          },
          "ternary": {
           "aaxis": {
            "gridcolor": "white",
            "linecolor": "white",
            "ticks": ""
           },
           "baxis": {
            "gridcolor": "white",
            "linecolor": "white",
            "ticks": ""
           },
           "bgcolor": "#E5ECF6",
           "caxis": {
            "gridcolor": "white",
            "linecolor": "white",
            "ticks": ""
           }
          },
          "title": {
           "x": 0.05
          },
          "xaxis": {
           "automargin": true,
           "gridcolor": "white",
           "linecolor": "white",
           "ticks": "",
           "title": {
            "standoff": 15
           },
           "zerolinecolor": "white",
           "zerolinewidth": 2
          },
          "yaxis": {
           "automargin": true,
           "gridcolor": "white",
           "linecolor": "white",
           "ticks": "",
           "title": {
            "standoff": 15
           },
           "zerolinecolor": "white",
           "zerolinewidth": 2
          }
         }
        },
        "title": {
         "text": "Contributors for tract 26163545400"
        },
        "yaxis": {
         "title": {
          "text": "Impact on annual calls per capita"
         }
        }
       }
      },
      "text/html": [
       "<div>                            <div id=\"7169ee5e-80cc-481e-8d6c-003608ec0f6e\" class=\"plotly-graph-div\" style=\"height:525px; width:100%;\"></div>            <script type=\"text/javascript\">                require([\"plotly\"], function(Plotly) {                    window.PLOTLYENV=window.PLOTLYENV || {};                                    if (document.getElementById(\"7169ee5e-80cc-481e-8d6c-003608ec0f6e\")) {                    Plotly.newPlot(                        \"7169ee5e-80cc-481e-8d6c-003608ec0f6e\",                        [{\"connector\":{\"line\":{\"color\":\"rgb(63, 63, 63)\"}},\"name\":\"Annual calls per 1k residents\",\"orientation\":\"v\",\"textposition\":\"outside\",\"x\":[\"Population density\",\"Proportion of households married\",\"Rental units per sq km\",\"bus stops /km^2\"],\"y\":[23.61372742502472,14.294789376710206,15.27755412629743,8.837505369564207],\"type\":\"waterfall\"}],                        {\"template\":{\"data\":{\"bar\":[{\"error_x\":{\"color\":\"#2a3f5f\"},\"error_y\":{\"color\":\"#2a3f5f\"},\"marker\":{\"line\":{\"color\":\"#E5ECF6\",\"width\":0.5},\"pattern\":{\"fillmode\":\"overlay\",\"size\":10,\"solidity\":0.2}},\"type\":\"bar\"}],\"barpolar\":[{\"marker\":{\"line\":{\"color\":\"#E5ECF6\",\"width\":0.5},\"pattern\":{\"fillmode\":\"overlay\",\"size\":10,\"solidity\":0.2}},\"type\":\"barpolar\"}],\"carpet\":[{\"aaxis\":{\"endlinecolor\":\"#2a3f5f\",\"gridcolor\":\"white\",\"linecolor\":\"white\",\"minorgridcolor\":\"white\",\"startlinecolor\":\"#2a3f5f\"},\"baxis\":{\"endlinecolor\":\"#2a3f5f\",\"gridcolor\":\"white\",\"linecolor\":\"white\",\"minorgridcolor\":\"white\",\"startlinecolor\":\"#2a3f5f\"},\"type\":\"carpet\"}],\"choropleth\":[{\"colorbar\":{\"outlinewidth\":0,\"ticks\":\"\"},\"type\":\"choropleth\"}],\"contour\":[{\"colorbar\":{\"outlinewidth\":0,\"ticks\":\"\"},\"colorscale\":[[0.0,\"#0d0887\"],[0.1111111111111111,\"#46039f\"],[0.2222222222222222,\"#7201a8\"],[0.3333333333333333,\"#9c179e\"],[0.4444444444444444,\"#bd3786\"],[0.5555555555555556,\"#d8576b\"],[0.6666666666666666,\"#ed7953\"],[0.7777777777777778,\"#fb9f3a\"],[0.8888888888888888,\"#fdca26\"],[1.0,\"#f0f921\"]],\"type\":\"contour\"}],\"contourcarpet\":[{\"colorbar\":{\"outlinewidth\":0,\"ticks\":\"\"},\"type\":\"contourcarpet\"}],\"heatmap\":[{\"colorbar\":{\"outlinewidth\":0,\"ticks\":\"\"},\"colorscale\":[[0.0,\"#0d0887\"],[0.1111111111111111,\"#46039f\"],[0.2222222222222222,\"#7201a8\"],[0.3333333333333333,\"#9c179e\"],[0.4444444444444444,\"#bd3786\"],[0.5555555555555556,\"#d8576b\"],[0.6666666666666666,\"#ed7953\"],[0.7777777777777778,\"#fb9f3a\"],[0.8888888888888888,\"#fdca26\"],[1.0,\"#f0f921\"]],\"type\":\"heatmap\"}],\"heatmapgl\":[{\"colorbar\":{\"outlinewidth\":0,\"ticks\":\"\"},\"colorscale\":[[0.0,\"#0d0887\"],[0.1111111111111111,\"#46039f\"],[0.2222222222222222,\"#7201a8\"],[0.3333333333333333,\"#9c179e\"],[0.4444444444444444,\"#bd3786\"],[0.5555555555555556,\"#d8576b\"],[0.6666666666666666,\"#ed7953\"],[0.7777777777777778,\"#fb9f3a\"],[0.8888888888888888,\"#fdca26\"],[1.0,\"#f0f921\"]],\"type\":\"heatmapgl\"}],\"histogram\":[{\"marker\":{\"pattern\":{\"fillmode\":\"overlay\",\"size\":10,\"solidity\":0.2}},\"type\":\"histogram\"}],\"histogram2d\":[{\"colorbar\":{\"outlinewidth\":0,\"ticks\":\"\"},\"colorscale\":[[0.0,\"#0d0887\"],[0.1111111111111111,\"#46039f\"],[0.2222222222222222,\"#7201a8\"],[0.3333333333333333,\"#9c179e\"],[0.4444444444444444,\"#bd3786\"],[0.5555555555555556,\"#d8576b\"],[0.6666666666666666,\"#ed7953\"],[0.7777777777777778,\"#fb9f3a\"],[0.8888888888888888,\"#fdca26\"],[1.0,\"#f0f921\"]],\"type\":\"histogram2d\"}],\"histogram2dcontour\":[{\"colorbar\":{\"outlinewidth\":0,\"ticks\":\"\"},\"colorscale\":[[0.0,\"#0d0887\"],[0.1111111111111111,\"#46039f\"],[0.2222222222222222,\"#7201a8\"],[0.3333333333333333,\"#9c179e\"],[0.4444444444444444,\"#bd3786\"],[0.5555555555555556,\"#d8576b\"],[0.6666666666666666,\"#ed7953\"],[0.7777777777777778,\"#fb9f3a\"],[0.8888888888888888,\"#fdca26\"],[1.0,\"#f0f921\"]],\"type\":\"histogram2dcontour\"}],\"mesh3d\":[{\"colorbar\":{\"outlinewidth\":0,\"ticks\":\"\"},\"type\":\"mesh3d\"}],\"parcoords\":[{\"line\":{\"colorbar\":{\"outlinewidth\":0,\"ticks\":\"\"}},\"type\":\"parcoords\"}],\"pie\":[{\"automargin\":true,\"type\":\"pie\"}],\"scatter\":[{\"marker\":{\"colorbar\":{\"outlinewidth\":0,\"ticks\":\"\"}},\"type\":\"scatter\"}],\"scatter3d\":[{\"line\":{\"colorbar\":{\"outlinewidth\":0,\"ticks\":\"\"}},\"marker\":{\"colorbar\":{\"outlinewidth\":0,\"ticks\":\"\"}},\"type\":\"scatter3d\"}],\"scattercarpet\":[{\"marker\":{\"colorbar\":{\"outlinewidth\":0,\"ticks\":\"\"}},\"type\":\"scattercarpet\"}],\"scattergeo\":[{\"marker\":{\"colorbar\":{\"outlinewidth\":0,\"ticks\":\"\"}},\"type\":\"scattergeo\"}],\"scattergl\":[{\"marker\":{\"colorbar\":{\"outlinewidth\":0,\"ticks\":\"\"}},\"type\":\"scattergl\"}],\"scattermapbox\":[{\"marker\":{\"colorbar\":{\"outlinewidth\":0,\"ticks\":\"\"}},\"type\":\"scattermapbox\"}],\"scatterpolar\":[{\"marker\":{\"colorbar\":{\"outlinewidth\":0,\"ticks\":\"\"}},\"type\":\"scatterpolar\"}],\"scatterpolargl\":[{\"marker\":{\"colorbar\":{\"outlinewidth\":0,\"ticks\":\"\"}},\"type\":\"scatterpolargl\"}],\"scatterternary\":[{\"marker\":{\"colorbar\":{\"outlinewidth\":0,\"ticks\":\"\"}},\"type\":\"scatterternary\"}],\"surface\":[{\"colorbar\":{\"outlinewidth\":0,\"ticks\":\"\"},\"colorscale\":[[0.0,\"#0d0887\"],[0.1111111111111111,\"#46039f\"],[0.2222222222222222,\"#7201a8\"],[0.3333333333333333,\"#9c179e\"],[0.4444444444444444,\"#bd3786\"],[0.5555555555555556,\"#d8576b\"],[0.6666666666666666,\"#ed7953\"],[0.7777777777777778,\"#fb9f3a\"],[0.8888888888888888,\"#fdca26\"],[1.0,\"#f0f921\"]],\"type\":\"surface\"}],\"table\":[{\"cells\":{\"fill\":{\"color\":\"#EBF0F8\"},\"line\":{\"color\":\"white\"}},\"header\":{\"fill\":{\"color\":\"#C8D4E3\"},\"line\":{\"color\":\"white\"}},\"type\":\"table\"}]},\"layout\":{\"annotationdefaults\":{\"arrowcolor\":\"#2a3f5f\",\"arrowhead\":0,\"arrowwidth\":1},\"autotypenumbers\":\"strict\",\"coloraxis\":{\"colorbar\":{\"outlinewidth\":0,\"ticks\":\"\"}},\"colorscale\":{\"diverging\":[[0,\"#8e0152\"],[0.1,\"#c51b7d\"],[0.2,\"#de77ae\"],[0.3,\"#f1b6da\"],[0.4,\"#fde0ef\"],[0.5,\"#f7f7f7\"],[0.6,\"#e6f5d0\"],[0.7,\"#b8e186\"],[0.8,\"#7fbc41\"],[0.9,\"#4d9221\"],[1,\"#276419\"]],\"sequential\":[[0.0,\"#0d0887\"],[0.1111111111111111,\"#46039f\"],[0.2222222222222222,\"#7201a8\"],[0.3333333333333333,\"#9c179e\"],[0.4444444444444444,\"#bd3786\"],[0.5555555555555556,\"#d8576b\"],[0.6666666666666666,\"#ed7953\"],[0.7777777777777778,\"#fb9f3a\"],[0.8888888888888888,\"#fdca26\"],[1.0,\"#f0f921\"]],\"sequentialminus\":[[0.0,\"#0d0887\"],[0.1111111111111111,\"#46039f\"],[0.2222222222222222,\"#7201a8\"],[0.3333333333333333,\"#9c179e\"],[0.4444444444444444,\"#bd3786\"],[0.5555555555555556,\"#d8576b\"],[0.6666666666666666,\"#ed7953\"],[0.7777777777777778,\"#fb9f3a\"],[0.8888888888888888,\"#fdca26\"],[1.0,\"#f0f921\"]]},\"colorway\":[\"#636efa\",\"#EF553B\",\"#00cc96\",\"#ab63fa\",\"#FFA15A\",\"#19d3f3\",\"#FF6692\",\"#B6E880\",\"#FF97FF\",\"#FECB52\"],\"font\":{\"color\":\"#2a3f5f\"},\"geo\":{\"bgcolor\":\"white\",\"lakecolor\":\"white\",\"landcolor\":\"#E5ECF6\",\"showlakes\":true,\"showland\":true,\"subunitcolor\":\"white\"},\"hoverlabel\":{\"align\":\"left\"},\"hovermode\":\"closest\",\"mapbox\":{\"style\":\"light\"},\"paper_bgcolor\":\"white\",\"plot_bgcolor\":\"#E5ECF6\",\"polar\":{\"angularaxis\":{\"gridcolor\":\"white\",\"linecolor\":\"white\",\"ticks\":\"\"},\"bgcolor\":\"#E5ECF6\",\"radialaxis\":{\"gridcolor\":\"white\",\"linecolor\":\"white\",\"ticks\":\"\"}},\"scene\":{\"xaxis\":{\"backgroundcolor\":\"#E5ECF6\",\"gridcolor\":\"white\",\"gridwidth\":2,\"linecolor\":\"white\",\"showbackground\":true,\"ticks\":\"\",\"zerolinecolor\":\"white\"},\"yaxis\":{\"backgroundcolor\":\"#E5ECF6\",\"gridcolor\":\"white\",\"gridwidth\":2,\"linecolor\":\"white\",\"showbackground\":true,\"ticks\":\"\",\"zerolinecolor\":\"white\"},\"zaxis\":{\"backgroundcolor\":\"#E5ECF6\",\"gridcolor\":\"white\",\"gridwidth\":2,\"linecolor\":\"white\",\"showbackground\":true,\"ticks\":\"\",\"zerolinecolor\":\"white\"}},\"shapedefaults\":{\"line\":{\"color\":\"#2a3f5f\"}},\"ternary\":{\"aaxis\":{\"gridcolor\":\"white\",\"linecolor\":\"white\",\"ticks\":\"\"},\"baxis\":{\"gridcolor\":\"white\",\"linecolor\":\"white\",\"ticks\":\"\"},\"bgcolor\":\"#E5ECF6\",\"caxis\":{\"gridcolor\":\"white\",\"linecolor\":\"white\",\"ticks\":\"\"}},\"title\":{\"x\":0.05},\"xaxis\":{\"automargin\":true,\"gridcolor\":\"white\",\"linecolor\":\"white\",\"ticks\":\"\",\"title\":{\"standoff\":15},\"zerolinecolor\":\"white\",\"zerolinewidth\":2},\"yaxis\":{\"automargin\":true,\"gridcolor\":\"white\",\"linecolor\":\"white\",\"ticks\":\"\",\"title\":{\"standoff\":15},\"zerolinecolor\":\"white\",\"zerolinewidth\":2}}},\"font\":{\"size\":20},\"yaxis\":{\"title\":{\"text\":\"Impact on annual calls per capita\"}},\"title\":{\"text\":\"Contributors for tract 26163545400\"},\"showlegend\":false},                        {\"responsive\": true}                    ).then(function(){\n",
       "                            \n",
       "var gd = document.getElementById('7169ee5e-80cc-481e-8d6c-003608ec0f6e');\n",
       "var x = new MutationObserver(function (mutations, observer) {{\n",
       "        var display = window.getComputedStyle(gd).display;\n",
       "        if (!display || display === 'none') {{\n",
       "            console.log([gd, 'removed!']);\n",
       "            Plotly.purge(gd);\n",
       "            observer.disconnect();\n",
       "        }}\n",
       "}});\n",
       "\n",
       "// Listen for the removal of the full notebook cells\n",
       "var notebookContainer = gd.closest('#notebook-container');\n",
       "if (notebookContainer) {{\n",
       "    x.observe(notebookContainer, {childList: true});\n",
       "}}\n",
       "\n",
       "// Listen for the clearing of the current output cell\n",
       "var outputEl = gd.closest('.output');\n",
       "if (outputEl) {{\n",
       "    x.observe(outputEl, {childList: true});\n",
       "}}\n",
       "\n",
       "                        })                };                });            </script>        </div>"
      ]
     },
     "metadata": {},
     "output_type": "display_data"
    }
   ],
   "source": [
    "import plotly.graph_objects as go\n",
    "# fig, ax = plt.subplots(1,1,figsize=(6,4))\n",
    "s = contributions.iloc[0, :]\n",
    "fig = go.Figure(\n",
    "    go.Waterfall(\n",
    "        name=\"Annual calls per 1k residents\",\n",
    "        orientation=\"v\",\n",
    "        #     measure = ['total'] + (XXX.shape[1]-1)*['relative'],\n",
    "        x=contributions.rename(columns=COLNAME_MAP).columns,\n",
    "        textposition=\"outside\",\n",
    "        #     text = [\"+60\", \"+80\", \"\", \"-40\", \"-20\", \"Total\"],\n",
    "        y=s.values,\n",
    "        connector={\"line\": {\"color\": \"rgb(63, 63, 63)\"}},\n",
    "#         ax=ax\n",
    "    )\n",
    ")\n",
    "\n",
    "fig.update_layout(font=dict(size=20),yaxis_title='Impact on annual calls per capita',title=f\"Contributors for tract {int(most_calls[0])}\", showlegend=False)\n",
    "        \n",
    "# plt.gca().set(ylabel='Associated Impact on annual violent events per capita')"
   ]
  },
  {
   "cell_type": "code",
   "execution_count": 301,
   "id": "c96257d5",
   "metadata": {
    "ExecuteTime": {
     "end_time": "2022-03-15T23:29:39.761902Z",
     "start_time": "2022-03-15T23:29:39.721722Z"
    }
   },
   "outputs": [
    {
     "data": {
      "text/plain": [
       "Intercept                 104.737806\n",
       "population_density        -14.435487\n",
       "married_household_prop    -21.636549\n",
       "rental_density             12.905992\n",
       "bus_density                14.533272\n",
       "dtype: float64"
      ]
     },
     "execution_count": 301,
     "metadata": {},
     "output_type": "execute_result"
    }
   ],
   "source": [
    "res.params"
   ]
  },
  {
   "cell_type": "code",
   "execution_count": 311,
   "id": "b99314a5",
   "metadata": {
    "ExecuteTime": {
     "end_time": "2022-03-15T23:42:28.374555Z",
     "start_time": "2022-03-15T23:42:28.338413Z"
    }
   },
   "outputs": [],
   "source": [
    "cols_to_log=[\"greenlight_density\", \"rental_density\", \"bus_density\", \"per_household_income\"]"
   ]
  },
  {
   "cell_type": "code",
   "execution_count": 321,
   "id": "6a486aa8",
   "metadata": {
    "ExecuteTime": {
     "end_time": "2022-03-15T23:46:02.320946Z",
     "start_time": "2022-03-15T23:46:02.270743Z"
    }
   },
   "outputs": [
    {
     "ename": "TypeError",
     "evalue": "_logspace_dispatcher() missing 1 required positional argument: 'stop'",
     "output_type": "error",
     "traceback": [
      "\u001b[0;31m---------------------------------------------------------------------------\u001b[0m",
      "\u001b[0;31mTypeError\u001b[0m                                 Traceback (most recent call last)",
      "\u001b[0;32m/var/folders/28/p0bhwx8s3cj150l_wknp1wd80000gp/T/ipykernel_31295/2332295465.py\u001b[0m in \u001b[0;36m<module>\u001b[0;34m\u001b[0m\n\u001b[0;32m----> 1\u001b[0;31m \u001b[0mnp\u001b[0m\u001b[0;34m.\u001b[0m\u001b[0mlogspace\u001b[0m\u001b[0;34m(\u001b[0m\u001b[0mmin\u001b[0m\u001b[0;34m(\u001b[0m\u001b[0mdf0_slim\u001b[0m\u001b[0;34m.\u001b[0m\u001b[0mloc\u001b[0m\u001b[0;34m[\u001b[0m\u001b[0;34m:\u001b[0m\u001b[0;34m,\u001b[0m\u001b[0mc\u001b[0m\u001b[0;34m]\u001b[0m\u001b[0;34m)\u001b[0m\u001b[0;34m,\u001b[0m\u001b[0mnum\u001b[0m\u001b[0;34m=\u001b[0m\u001b[0;36m20\u001b[0m\u001b[0;34m)\u001b[0m\u001b[0;34m\u001b[0m\u001b[0;34m\u001b[0m\u001b[0m\n\u001b[0m",
      "\u001b[0;32m<__array_function__ internals>\u001b[0m in \u001b[0;36mlogspace\u001b[0;34m(*args, **kwargs)\u001b[0m\n",
      "\u001b[0;31mTypeError\u001b[0m: _logspace_dispatcher() missing 1 required positional argument: 'stop'"
     ]
    }
   ],
   "source": [
    "np.logspace(min(df0_slim.loc[:,c]),num=20)"
   ]
  },
  {
   "cell_type": "code",
   "execution_count": 324,
   "id": "a91f657b",
   "metadata": {
    "ExecuteTime": {
     "end_time": "2022-03-15T23:47:25.061966Z",
     "start_time": "2022-03-15T23:47:25.010091Z"
    }
   },
   "outputs": [
    {
     "data": {
      "text/html": [
       "<div>\n",
       "<style scoped>\n",
       "    .dataframe tbody tr th:only-of-type {\n",
       "        vertical-align: middle;\n",
       "    }\n",
       "\n",
       "    .dataframe tbody tr th {\n",
       "        vertical-align: top;\n",
       "    }\n",
       "\n",
       "    .dataframe thead th {\n",
       "        text-align: right;\n",
       "    }\n",
       "</style>\n",
       "<table border=\"1\" class=\"dataframe\">\n",
       "  <thead>\n",
       "    <tr style=\"text-align: right;\">\n",
       "      <th></th>\n",
       "      <th>population_density</th>\n",
       "      <th>married_household_prop</th>\n",
       "      <th>rental_density</th>\n",
       "      <th>bus_density</th>\n",
       "    </tr>\n",
       "    <tr>\n",
       "      <th>tract</th>\n",
       "      <th></th>\n",
       "      <th></th>\n",
       "      <th></th>\n",
       "      <th></th>\n",
       "    </tr>\n",
       "  </thead>\n",
       "  <tbody>\n",
       "    <tr>\n",
       "      <th>2.616350e+10</th>\n",
       "      <td>1824.898354</td>\n",
       "      <td>0.173157</td>\n",
       "      <td>419.793244</td>\n",
       "      <td>28.722696</td>\n",
       "    </tr>\n",
       "    <tr>\n",
       "      <th>2.616350e+10</th>\n",
       "      <td>1856.991606</td>\n",
       "      <td>0.174632</td>\n",
       "      <td>158.882786</td>\n",
       "      <td>27.631789</td>\n",
       "    </tr>\n",
       "    <tr>\n",
       "      <th>2.616350e+10</th>\n",
       "      <td>1329.122055</td>\n",
       "      <td>0.075216</td>\n",
       "      <td>179.375550</td>\n",
       "      <td>40.123478</td>\n",
       "    </tr>\n",
       "    <tr>\n",
       "      <th>2.616350e+10</th>\n",
       "      <td>917.210175</td>\n",
       "      <td>0.120000</td>\n",
       "      <td>14.513576</td>\n",
       "      <td>41.726532</td>\n",
       "    </tr>\n",
       "    <tr>\n",
       "      <th>2.616350e+10</th>\n",
       "      <td>1476.359684</td>\n",
       "      <td>0.120553</td>\n",
       "      <td>73.183386</td>\n",
       "      <td>28.377231</td>\n",
       "    </tr>\n",
       "    <tr>\n",
       "      <th>...</th>\n",
       "      <td>...</td>\n",
       "      <td>...</td>\n",
       "      <td>...</td>\n",
       "      <td>...</td>\n",
       "    </tr>\n",
       "    <tr>\n",
       "      <th>2.616358e+10</th>\n",
       "      <td>1005.423452</td>\n",
       "      <td>0.203540</td>\n",
       "      <td>0.000000</td>\n",
       "      <td>0.000000</td>\n",
       "    </tr>\n",
       "    <tr>\n",
       "      <th>2.616358e+10</th>\n",
       "      <td>316.470057</td>\n",
       "      <td>0.439142</td>\n",
       "      <td>0.000000</td>\n",
       "      <td>0.000000</td>\n",
       "    </tr>\n",
       "    <tr>\n",
       "      <th>2.616398e+10</th>\n",
       "      <td>34.136901</td>\n",
       "      <td>NaN</td>\n",
       "      <td>0.000000</td>\n",
       "      <td>18.044989</td>\n",
       "    </tr>\n",
       "    <tr>\n",
       "      <th>2.616399e+10</th>\n",
       "      <td>22.931242</td>\n",
       "      <td>0.150685</td>\n",
       "      <td>10.727722</td>\n",
       "      <td>209.190587</td>\n",
       "    </tr>\n",
       "    <tr>\n",
       "      <th>2.616399e+10</th>\n",
       "      <td>0.926894</td>\n",
       "      <td>NaN</td>\n",
       "      <td>0.000000</td>\n",
       "      <td>23.735176</td>\n",
       "    </tr>\n",
       "  </tbody>\n",
       "</table>\n",
       "<p>341 rows × 4 columns</p>\n",
       "</div>"
      ],
      "text/plain": [
       "              population_density  married_household_prop  rental_density  \\\n",
       "tract                                                                      \n",
       "2.616350e+10         1824.898354                0.173157      419.793244   \n",
       "2.616350e+10         1856.991606                0.174632      158.882786   \n",
       "2.616350e+10         1329.122055                0.075216      179.375550   \n",
       "2.616350e+10          917.210175                0.120000       14.513576   \n",
       "2.616350e+10         1476.359684                0.120553       73.183386   \n",
       "...                          ...                     ...             ...   \n",
       "2.616358e+10         1005.423452                0.203540        0.000000   \n",
       "2.616358e+10          316.470057                0.439142        0.000000   \n",
       "2.616398e+10           34.136901                     NaN        0.000000   \n",
       "2.616399e+10           22.931242                0.150685       10.727722   \n",
       "2.616399e+10            0.926894                     NaN        0.000000   \n",
       "\n",
       "              bus_density  \n",
       "tract                      \n",
       "2.616350e+10    28.722696  \n",
       "2.616350e+10    27.631789  \n",
       "2.616350e+10    40.123478  \n",
       "2.616350e+10    41.726532  \n",
       "2.616350e+10    28.377231  \n",
       "...                   ...  \n",
       "2.616358e+10     0.000000  \n",
       "2.616358e+10     0.000000  \n",
       "2.616398e+10    18.044989  \n",
       "2.616399e+10   209.190587  \n",
       "2.616399e+10    23.735176  \n",
       "\n",
       "[341 rows x 4 columns]"
      ]
     },
     "execution_count": 324,
     "metadata": {},
     "output_type": "execute_result"
    }
   ],
   "source": [
    "df0_slim"
   ]
  },
  {
   "cell_type": "code",
   "execution_count": 335,
   "id": "88b6f5c7",
   "metadata": {
    "ExecuteTime": {
     "end_time": "2022-03-15T23:58:25.860697Z",
     "start_time": "2022-03-15T23:58:24.912325Z"
    }
   },
   "outputs": [
    {
     "data": {
      "image/png": "[encoded data removed]",
      "text/plain": [
       "<Figure size 1152x288 with 4 Axes>"
      ]
     },
     "metadata": {
      "image/png": {
       "height": 272,
       "width": 1140
      },
      "needs_background": "light"
     },
     "output_type": "display_data"
    }
   ],
   "source": [
    "cols = res.params.drop('Intercept').index\n",
    "df0_slim = df0.copy().loc[:,cols]\n",
    "fig, ax = plt.subplots(1,4,figsize=(16,4))\n",
    "for i, c in enumerate(cols):\n",
    "    if c in cols_to_log:\n",
    "        bins = np.geomspace(df0_slim.loc[:,c].min()+1,df0_slim.loc[:,c].max()+12,num=20)\n",
    "        ax[i].set(xscale='log')\n",
    "    else:\n",
    "        bins = 20\n",
    "    ax[i].hist(df0_slim.loc[:,c],bins=bins,edgecolor='k')\n",
    "    ax[i].set(title=COLNAME_MAP[c])\n",
    "    ax[i].axvline(x=df0_slim.loc[most_calls[0],c],color='r')\n",
    "#     \n",
    "#         ax[i].set(xscale='log')\n",
    "plt.tight_layout()\n",
    "\n",
    "    \n"
   ]
  },
  {
   "cell_type": "code",
   "execution_count": 280,
   "id": "75f93077",
   "metadata": {
    "ExecuteTime": {
     "end_time": "2022-03-15T23:20:57.159549Z",
     "start_time": "2022-03-15T23:20:57.120819Z"
    }
   },
   "outputs": [
    {
     "data": {
      "text/plain": [
       "plotly.graph_objs._figure.Figure"
      ]
     },
     "execution_count": 280,
     "metadata": {},
     "output_type": "execute_result"
    }
   ],
   "source": [
    "type(fig)"
   ]
  },
  {
   "cell_type": "code",
   "execution_count": 46,
   "id": "0340c021",
   "metadata": {
    "ExecuteTime": {
     "end_time": "2022-03-15T21:41:00.777049Z",
     "start_time": "2022-03-15T21:41:00.711894Z"
    }
   },
   "outputs": [
    {
     "data": {
      "text/html": [
       "<table class=\"simpletable\">\n",
       "<caption>OLS Regression Results</caption>\n",
       "<tr>\n",
       "  <th>Dep. Variable:</th>        <td>call_rate</td>    <th>  R-squared:         </th> <td>   0.300</td>\n",
       "</tr>\n",
       "<tr>\n",
       "  <th>Model:</th>                   <td>OLS</td>       <th>  Adj. R-squared:    </th> <td>   0.283</td>\n",
       "</tr>\n",
       "<tr>\n",
       "  <th>Method:</th>             <td>Least Squares</td>  <th>  F-statistic:       </th> <td>   17.76</td>\n",
       "</tr>\n",
       "<tr>\n",
       "  <th>Date:</th>             <td>Tue, 15 Mar 2022</td> <th>  Prob (F-statistic):</th> <td>4.60e-22</td>\n",
       "</tr>\n",
       "<tr>\n",
       "  <th>Time:</th>                 <td>14:41:00</td>     <th>  Log-Likelihood:    </th> <td> -423.12</td>\n",
       "</tr>\n",
       "<tr>\n",
       "  <th>No. Observations:</th>      <td>   341</td>      <th>  AIC:               </th> <td>   864.2</td>\n",
       "</tr>\n",
       "<tr>\n",
       "  <th>Df Residuals:</th>          <td>   332</td>      <th>  BIC:               </th> <td>   898.7</td>\n",
       "</tr>\n",
       "<tr>\n",
       "  <th>Df Model:</th>              <td>     8</td>      <th>                     </th>     <td> </td>   \n",
       "</tr>\n",
       "<tr>\n",
       "  <th>Covariance Type:</th>      <td>nonrobust</td>    <th>                     </th>     <td> </td>   \n",
       "</tr>\n",
       "</table>\n",
       "<table class=\"simpletable\">\n",
       "<tr>\n",
       "                <td></td>                   <th>coef</th>     <th>std err</th>      <th>t</th>      <th>P>|t|</th>  <th>[0.025</th>    <th>0.975]</th>  \n",
       "</tr>\n",
       "<tr>\n",
       "  <th>Intercept</th>                     <td> 1.691e-17</td> <td>    0.046</td> <td> 3.68e-16</td> <td> 1.000</td> <td>   -0.090</td> <td>    0.090</td>\n",
       "</tr>\n",
       "<tr>\n",
       "  <th>population_density</th>            <td>   -0.2029</td> <td>    0.054</td> <td>   -3.746</td> <td> 0.000</td> <td>   -0.309</td> <td>   -0.096</td>\n",
       "</tr>\n",
       "<tr>\n",
       "  <th>per_household_income</th>          <td>   -0.0506</td> <td>    0.063</td> <td>   -0.799</td> <td> 0.425</td> <td>   -0.175</td> <td>    0.074</td>\n",
       "</tr>\n",
       "<tr>\n",
       "  <th>out_of_state_rental_ownership</th> <td>    0.0877</td> <td>    0.048</td> <td>    1.824</td> <td> 0.069</td> <td>   -0.007</td> <td>    0.182</td>\n",
       "</tr>\n",
       "<tr>\n",
       "  <th>married_household_prop</th>        <td>   -0.2388</td> <td>    0.066</td> <td>   -3.628</td> <td> 0.000</td> <td>   -0.368</td> <td>   -0.109</td>\n",
       "</tr>\n",
       "<tr>\n",
       "  <th>greenlight_density</th>            <td>    0.0989</td> <td>    0.058</td> <td>    1.693</td> <td> 0.091</td> <td>   -0.016</td> <td>    0.214</td>\n",
       "</tr>\n",
       "<tr>\n",
       "  <th>people_per_household</th>          <td>    0.0277</td> <td>    0.052</td> <td>    0.533</td> <td> 0.594</td> <td>   -0.075</td> <td>    0.130</td>\n",
       "</tr>\n",
       "<tr>\n",
       "  <th>rental_density</th>                <td>    0.1203</td> <td>    0.074</td> <td>    1.615</td> <td> 0.107</td> <td>   -0.026</td> <td>    0.267</td>\n",
       "</tr>\n",
       "<tr>\n",
       "  <th>bus_density</th>                   <td>    0.1402</td> <td>    0.070</td> <td>    1.992</td> <td> 0.047</td> <td>    0.002</td> <td>    0.279</td>\n",
       "</tr>\n",
       "</table>\n",
       "<table class=\"simpletable\">\n",
       "<tr>\n",
       "  <th>Omnibus:</th>       <td>517.946</td> <th>  Durbin-Watson:     </th>  <td>   1.666</td> \n",
       "</tr>\n",
       "<tr>\n",
       "  <th>Prob(Omnibus):</th> <td> 0.000</td>  <th>  Jarque-Bera (JB):  </th> <td>127236.242</td>\n",
       "</tr>\n",
       "<tr>\n",
       "  <th>Skew:</th>          <td> 7.738</td>  <th>  Prob(JB):          </th>  <td>    0.00</td> \n",
       "</tr>\n",
       "<tr>\n",
       "  <th>Kurtosis:</th>      <td>96.357</td>  <th>  Cond. No.          </th>  <td>    3.46</td> \n",
       "</tr>\n",
       "</table><br/><br/>Notes:<br/>[1] Standard Errors assume that the covariance matrix of the errors is correctly specified."
      ],
      "text/plain": [
       "<class 'statsmodels.iolib.summary.Summary'>\n",
       "\"\"\"\n",
       "                            OLS Regression Results                            \n",
       "==============================================================================\n",
       "Dep. Variable:              call_rate   R-squared:                       0.300\n",
       "Model:                            OLS   Adj. R-squared:                  0.283\n",
       "Method:                 Least Squares   F-statistic:                     17.76\n",
       "Date:                Tue, 15 Mar 2022   Prob (F-statistic):           4.60e-22\n",
       "Time:                        14:41:00   Log-Likelihood:                -423.12\n",
       "No. Observations:                 341   AIC:                             864.2\n",
       "Df Residuals:                     332   BIC:                             898.7\n",
       "Df Model:                           8                                         \n",
       "Covariance Type:            nonrobust                                         \n",
       "=================================================================================================\n",
       "                                    coef    std err          t      P>|t|      [0.025      0.975]\n",
       "-------------------------------------------------------------------------------------------------\n",
       "Intercept                      1.691e-17      0.046   3.68e-16      1.000      -0.090       0.090\n",
       "population_density               -0.2029      0.054     -3.746      0.000      -0.309      -0.096\n",
       "per_household_income             -0.0506      0.063     -0.799      0.425      -0.175       0.074\n",
       "out_of_state_rental_ownership     0.0877      0.048      1.824      0.069      -0.007       0.182\n",
       "married_household_prop           -0.2388      0.066     -3.628      0.000      -0.368      -0.109\n",
       "greenlight_density                0.0989      0.058      1.693      0.091      -0.016       0.214\n",
       "people_per_household              0.0277      0.052      0.533      0.594      -0.075       0.130\n",
       "rental_density                    0.1203      0.074      1.615      0.107      -0.026       0.267\n",
       "bus_density                       0.1402      0.070      1.992      0.047       0.002       0.279\n",
       "==============================================================================\n",
       "Omnibus:                      517.946   Durbin-Watson:                   1.666\n",
       "Prob(Omnibus):                  0.000   Jarque-Bera (JB):           127236.242\n",
       "Skew:                           7.738   Prob(JB):                         0.00\n",
       "Kurtosis:                      96.357   Cond. No.                         3.46\n",
       "==============================================================================\n",
       "\n",
       "Notes:\n",
       "[1] Standard Errors assume that the covariance matrix of the errors is correctly specified.\n",
       "\"\"\""
      ]
     },
     "execution_count": 46,
     "metadata": {},
     "output_type": "execute_result"
    }
   ],
   "source": [
    "# formula = (\n",
    "#     formula_bones.replace(\"per_household_income\", \"np.log(per_household_income)\")\n",
    "#     .replace(\"rental_density\", \"np.log(rental_density+1)\")\n",
    "#     .replace(\"bus_density\", \"np.log(bus_density+1)\")\n",
    "# )\n",
    "formula = formula_bones\n",
    "\n",
    "y, X = dmatrices(\n",
    "    formula_like=formula,\n",
    "    data=df,\n",
    "    return_type=\"dataframe\",\n",
    ")\n",
    "\n",
    "mdl = sm.OLS(endog=y, exog=X)\n",
    "res = mdl.fit()\n",
    "res.summary()\n",
    "\n",
    "# fig, ax = plt.subplots(1, 1, figsize=(20, 20))\n",
    "# X.hist(ax=ax)"
   ]
  },
  {
   "cell_type": "code",
   "execution_count": 12,
   "id": "1b7298ab",
   "metadata": {
    "ExecuteTime": {
     "end_time": "2022-03-09T00:36:22.370310Z",
     "start_time": "2022-03-09T00:36:22.312554Z"
    }
   },
   "outputs": [
    {
     "data": {
      "text/html": [
       "<table class=\"simpletable\">\n",
       "<caption>Generalized Linear Model Regression Results</caption>\n",
       "<tr>\n",
       "  <th>Dep. Variable:</th>       <td>call_rate</td>    <th>  No. Observations:  </th>  <td>   341</td> \n",
       "</tr>\n",
       "<tr>\n",
       "  <th>Model:</th>                  <td>GLM</td>       <th>  Df Residuals:      </th>  <td>   332</td> \n",
       "</tr>\n",
       "<tr>\n",
       "  <th>Model Family:</th>         <td>Poisson</td>     <th>  Df Model:          </th>  <td>     8</td> \n",
       "</tr>\n",
       "<tr>\n",
       "  <th>Link Function:</th>          <td>Log</td>       <th>  Scale:             </th> <td>  1.0000</td>\n",
       "</tr>\n",
       "<tr>\n",
       "  <th>Method:</th>                <td>IRLS</td>       <th>  Log-Likelihood:    </th> <td> -242.69</td>\n",
       "</tr>\n",
       "<tr>\n",
       "  <th>Date:</th>            <td>Tue, 08 Mar 2022</td> <th>  Deviance:          </th> <td>  52.806</td>\n",
       "</tr>\n",
       "<tr>\n",
       "  <th>Time:</th>                <td>16:36:22</td>     <th>  Pearson chi2:      </th>  <td>  60.9</td> \n",
       "</tr>\n",
       "<tr>\n",
       "  <th>No. Iterations:</th>          <td>5</td>        <th>  Pseudo R-squ. (CS):</th>  <td>0.08364</td>\n",
       "</tr>\n",
       "<tr>\n",
       "  <th>Covariance Type:</th>     <td>nonrobust</td>    <th>                     </th>     <td> </td>   \n",
       "</tr>\n",
       "</table>\n",
       "<table class=\"simpletable\">\n",
       "<tr>\n",
       "                <td></td>                   <th>coef</th>     <th>std err</th>      <th>z</th>      <th>P>|z|</th>  <th>[0.025</th>    <th>0.975]</th>  \n",
       "</tr>\n",
       "<tr>\n",
       "  <th>Intercept</th>                     <td>    0.4649</td> <td>    3.308</td> <td>    0.141</td> <td> 0.888</td> <td>   -6.018</td> <td>    6.948</td>\n",
       "</tr>\n",
       "<tr>\n",
       "  <th>population_density</th>            <td>   -0.0003</td> <td>    0.000</td> <td>   -1.761</td> <td> 0.078</td> <td>   -0.001</td> <td> 3.59e-05</td>\n",
       "</tr>\n",
       "<tr>\n",
       "  <th>np.log(per_household_income)</th>  <td>   -0.0715</td> <td>    0.311</td> <td>   -0.230</td> <td> 0.818</td> <td>   -0.682</td> <td>    0.539</td>\n",
       "</tr>\n",
       "<tr>\n",
       "  <th>out_of_state_rental_ownership</th> <td>    0.7246</td> <td>    0.596</td> <td>    1.216</td> <td> 0.224</td> <td>   -0.444</td> <td>    1.893</td>\n",
       "</tr>\n",
       "<tr>\n",
       "  <th>married_household_prop</th>        <td>   -2.8160</td> <td>    0.945</td> <td>   -2.981</td> <td> 0.003</td> <td>   -4.667</td> <td>   -0.965</td>\n",
       "</tr>\n",
       "<tr>\n",
       "  <th>rental_density</th>                <td>    0.0010</td> <td>    0.001</td> <td>    1.292</td> <td> 0.196</td> <td>   -0.001</td> <td>    0.002</td>\n",
       "</tr>\n",
       "<tr>\n",
       "  <th>bus_density</th>                   <td>   -0.0002</td> <td>    0.002</td> <td>   -0.116</td> <td> 0.907</td> <td>   -0.003</td> <td>    0.003</td>\n",
       "</tr>\n",
       "<tr>\n",
       "  <th>greenlight_density</th>            <td>    0.0053</td> <td>    0.005</td> <td>    1.153</td> <td> 0.249</td> <td>   -0.004</td> <td>    0.014</td>\n",
       "</tr>\n",
       "<tr>\n",
       "  <th>people_per_household</th>          <td>    0.0515</td> <td>    0.106</td> <td>    0.488</td> <td> 0.626</td> <td>   -0.155</td> <td>    0.258</td>\n",
       "</tr>\n",
       "</table>"
      ],
      "text/plain": [
       "<class 'statsmodels.iolib.summary.Summary'>\n",
       "\"\"\"\n",
       "                 Generalized Linear Model Regression Results                  \n",
       "==============================================================================\n",
       "Dep. Variable:              call_rate   No. Observations:                  341\n",
       "Model:                            GLM   Df Residuals:                      332\n",
       "Model Family:                 Poisson   Df Model:                            8\n",
       "Link Function:                    Log   Scale:                          1.0000\n",
       "Method:                          IRLS   Log-Likelihood:                -242.69\n",
       "Date:                Tue, 08 Mar 2022   Deviance:                       52.806\n",
       "Time:                        16:36:22   Pearson chi2:                     60.9\n",
       "No. Iterations:                     5   Pseudo R-squ. (CS):            0.08364\n",
       "Covariance Type:            nonrobust                                         \n",
       "=================================================================================================\n",
       "                                    coef    std err          z      P>|z|      [0.025      0.975]\n",
       "-------------------------------------------------------------------------------------------------\n",
       "Intercept                         0.4649      3.308      0.141      0.888      -6.018       6.948\n",
       "population_density               -0.0003      0.000     -1.761      0.078      -0.001    3.59e-05\n",
       "np.log(per_household_income)     -0.0715      0.311     -0.230      0.818      -0.682       0.539\n",
       "out_of_state_rental_ownership     0.7246      0.596      1.216      0.224      -0.444       1.893\n",
       "married_household_prop           -2.8160      0.945     -2.981      0.003      -4.667      -0.965\n",
       "rental_density                    0.0010      0.001      1.292      0.196      -0.001       0.002\n",
       "bus_density                      -0.0002      0.002     -0.116      0.907      -0.003       0.003\n",
       "greenlight_density                0.0053      0.005      1.153      0.249      -0.004       0.014\n",
       "people_per_household              0.0515      0.106      0.488      0.626      -0.155       0.258\n",
       "=================================================================================================\n",
       "\"\"\""
      ]
     },
     "execution_count": 12,
     "metadata": {},
     "output_type": "execute_result"
    }
   ],
   "source": [
    "y, X = dmatrices(\n",
    "    formula_like=formula,\n",
    "    data=df,\n",
    "    return_type=\"dataframe\",\n",
    ")\n",
    "# exposure = X.pop('population')\n",
    "mdl = sm.GLM(endog=y,exog=X,family=sm.families.Poisson())\n",
    "res = mdl.fit()\n",
    "\n",
    "res.summary()\n",
    "res = mdl.fit()\n",
    "res.summary()"
   ]
  },
  {
   "cell_type": "markdown",
   "id": "57a295e4",
   "metadata": {},
   "source": [
    "# Compare impact of granularity"
   ]
  },
  {
   "cell_type": "code",
   "execution_count": 13,
   "id": "d9fc117e",
   "metadata": {
    "ExecuteTime": {
     "end_time": "2022-03-09T00:36:29.191154Z",
     "start_time": "2022-03-09T00:36:28.975983Z"
    },
    "collapsed": true
   },
   "outputs": [
    {
     "name": "stderr",
     "output_type": "stream",
     "text": [
      "WARNING:root:cache/ViolenceCalls_2010.pkl has changed since the cache was created\n",
      "You may want to rerun self.cache_features()\n",
      "WARNING:root:cache/ViolenceCalls_2010.pkl has changed since the cache was created\n",
      "You may want to rerun self.cache_features()\n",
      "WARNING:root:cache/ViolenceCalls_2010.pkl has changed since the cache was created\n",
      "You may want to rerun self.cache_features()\n"
     ]
    }
   ],
   "source": [
    "mdl = {}\n",
    "res = {}\n",
    "for target_geo_grain in (\"block\",\"block group\",\"tract\"):\n",
    "    feat_df = concatenate_features(feature_objects,target_geo_grain)\n",
    "    df = transform_1(feat_df)\n",
    "    y, X = dmatrices(\n",
    "        formula_like=formula,\n",
    "        data=df,\n",
    "        return_type=\"dataframe\",\n",
    "    )\n",
    "    mdl[target_geo_grain] = sm.OLS(endog=y,exog=X)\n",
    "    res[target_geo_grain] = mdl[target_geo_grain].fit()\n",
    "    res[target_geo_grain].summary()"
   ]
  },
  {
   "cell_type": "code",
   "execution_count": 14,
   "id": "b5615220",
   "metadata": {
    "ExecuteTime": {
     "end_time": "2022-03-09T00:36:33.016816Z",
     "start_time": "2022-03-09T00:36:32.977553Z"
    }
   },
   "outputs": [
    {
     "data": {
      "text/html": [
       "<div>\n",
       "<style scoped>\n",
       "    .dataframe tbody tr th:only-of-type {\n",
       "        vertical-align: middle;\n",
       "    }\n",
       "\n",
       "    .dataframe tbody tr th {\n",
       "        vertical-align: top;\n",
       "    }\n",
       "\n",
       "    .dataframe thead th {\n",
       "        text-align: right;\n",
       "    }\n",
       "</style>\n",
       "<table border=\"1\" class=\"dataframe\">\n",
       "  <thead>\n",
       "    <tr style=\"text-align: right;\">\n",
       "      <th></th>\n",
       "      <th>0</th>\n",
       "      <th>1</th>\n",
       "    </tr>\n",
       "  </thead>\n",
       "  <tbody>\n",
       "    <tr>\n",
       "      <th>Intercept</th>\n",
       "      <td>0.967753</td>\n",
       "      <td>2.730049</td>\n",
       "    </tr>\n",
       "    <tr>\n",
       "      <th>population_density</th>\n",
       "      <td>-0.000125</td>\n",
       "      <td>-0.000046</td>\n",
       "    </tr>\n",
       "    <tr>\n",
       "      <th>np.log(per_household_income)</th>\n",
       "      <td>-0.196128</td>\n",
       "      <td>-0.028101</td>\n",
       "    </tr>\n",
       "    <tr>\n",
       "      <th>out_of_state_rental_ownership</th>\n",
       "      <td>0.097762</td>\n",
       "      <td>0.352427</td>\n",
       "    </tr>\n",
       "    <tr>\n",
       "      <th>married_household_prop</th>\n",
       "      <td>-0.838216</td>\n",
       "      <td>-0.411278</td>\n",
       "    </tr>\n",
       "    <tr>\n",
       "      <th>rental_density</th>\n",
       "      <td>-0.000583</td>\n",
       "      <td>0.001865</td>\n",
       "    </tr>\n",
       "    <tr>\n",
       "      <th>bus_density</th>\n",
       "      <td>0.000696</td>\n",
       "      <td>0.004982</td>\n",
       "    </tr>\n",
       "    <tr>\n",
       "      <th>greenlight_density</th>\n",
       "      <td>0.018573</td>\n",
       "      <td>0.034731</td>\n",
       "    </tr>\n",
       "    <tr>\n",
       "      <th>people_per_household</th>\n",
       "      <td>-0.074605</td>\n",
       "      <td>0.004508</td>\n",
       "    </tr>\n",
       "  </tbody>\n",
       "</table>\n",
       "</div>"
      ],
      "text/plain": [
       "                                      0         1\n",
       "Intercept                      0.967753  2.730049\n",
       "population_density            -0.000125 -0.000046\n",
       "np.log(per_household_income)  -0.196128 -0.028101\n",
       "out_of_state_rental_ownership  0.097762  0.352427\n",
       "married_household_prop        -0.838216 -0.411278\n",
       "rental_density                -0.000583  0.001865\n",
       "bus_density                    0.000696  0.004982\n",
       "greenlight_density             0.018573  0.034731\n",
       "people_per_household          -0.074605  0.004508"
      ]
     },
     "execution_count": 14,
     "metadata": {},
     "output_type": "execute_result"
    }
   ],
   "source": [
    "res['block group'].conf_int()"
   ]
  },
  {
   "cell_type": "code",
   "execution_count": 46,
   "id": "a23830fb",
   "metadata": {
    "ExecuteTime": {
     "end_time": "2022-03-09T18:50:31.360048Z",
     "start_time": "2022-03-09T18:50:31.321738Z"
    }
   },
   "outputs": [],
   "source": [
    "l = [pd.concat((res[g].conf_int().rename(columns={0:.025,1:.975}),res[g].params.rename(0.5)),axis=1) for g in (\"block\",\"block group\",\"tract\")]\n",
    "\n",
    "grains = (\"block\",\"block group\",\"tract\")\n",
    "\n",
    "tt = pd.concat(l,keys=grains).loc[:,[.025,.500,.975]].assign(y=np.nan)\n",
    "\n",
    "for i, g in enumerate(grains):\n",
    "    tt.loc[g,'y'] = np.zeros(tt.loc[g,'y'].shape[0])+.2*i\n",
    "\n",
    "fig, ax = plt.subplots(9,1,figsize=(8,30))\n",
    "for _, sub_df in tt.groupby(level=0):\n",
    "    i = 0\n",
    "    for name, sdf in sub_df.reset_index(level=1).melt(id_vars=['y','level_1']).sort_values(['level_1','y']).groupby('level_1'):\n",
    "        sdf.plot(x='value',y='y',ax=ax[i],marker='o',legend=False,title=name)\n",
    "        ax[i].legend(grains)\n",
    "        i+=1\n",
    "plt.tight_layout()"
   ]
  }
 ],
 "metadata": {
  "kernelspec": {
   "display_name": "Python 3 (ipykernel)",
   "language": "python",
   "name": "python3"
  },
  "language_info": {
   "codemirror_mode": {
    "name": "ipython",
    "version": 3
   },
   "file_extension": ".py",
   "mimetype": "text/x-python",
   "name": "python",
   "nbconvert_exporter": "python",
   "pygments_lexer": "ipython3",
   "version": "3.8.2"
  },
  "toc": {
   "base_numbering": 1,
   "nav_menu": {},
   "number_sections": true,
   "sideBar": true,
   "skip_h1_title": false,
   "title_cell": "Table of Contents",
   "title_sidebar": "Contents",
   "toc_cell": false,
   "toc_position": {},
   "toc_section_display": true,
   "toc_window_display": false
  },
  "varInspector": {
   "cols": {
    "lenName": 16,
    "lenType": 16,
    "lenVar": 40
   },
   "kernels_config": {
    "python": {
     "delete_cmd_postfix": "",
     "delete_cmd_prefix": "del ",
     "library": "var_list.py",
     "varRefreshCmd": "print(var_dic_list())"
    },
    "r": {
     "delete_cmd_postfix": ") ",
     "delete_cmd_prefix": "rm(",
     "library": "var_list.r",
     "varRefreshCmd": "cat(var_dic_list()) "
    }
   },
   "types_to_exclude": [
    "module",
    "function",
    "builtin_function_or_method",
    "instance",
    "_Feature"
   ],
   "window_display": false
  }
 },
 "nbformat": 4,
 "nbformat_minor": 5
}
