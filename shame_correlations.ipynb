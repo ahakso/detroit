{
 "cells": [
  {
   "cell_type": "markdown",
   "id": "1fa81df4",
   "metadata": {},
   "source": [
    "# Neighborhoods question\n",
    "Q (from a meeting agenda Bloomberg_ Gun Violence Dashboard_ Meeting 2 Agenda.docx): \n",
    "```\n",
    "Final Neighborhood Questions:\n",
    "1. Not duplicating MSU Project Green Light (PGL) study, what new can we learn from PGL data that give insight to where interventions should be targeted?\n",
    "2. Are there specific locations/ property types that become magnets for gun violence incidents?\n",
    "3. What can we find unique to areas/ blocks where we see highest event rates (presence of empty lots, convenience stores, gas stations, bus stops, schools, etc)?\n",
    "```\n",
    "\n",
    "If we're looking to identify where interventions should be targeted... Detroit has the gun violence rates, so the clearly correct thing to do is target interventions where gun violence rates are high.\n",
    "\n",
    "Another way of viewing this question is to inform policy choices (change characteristics based on correlations and hope it's causal). This would require _way_ more work than we have time for"
   ]
  },
  {
   "cell_type": "code",
   "execution_count": 257,
   "id": "5417fb06",
   "metadata": {
    "ExecuteTime": {
     "end_time": "2022-03-02T21:52:18.562445Z",
     "start_time": "2022-03-02T21:52:18.511387Z"
    }
   },
   "outputs": [],
   "source": [
    "import geopandas as gpd\n",
    "\n",
    "from features.income import Income\n",
    "from features.violence_calls import ViolenceCalls\n",
    "from features.households import Households\n",
    "from features.population import Population\n",
    "from features.population_density import PopulationDensity\n",
    "from features.feature_constructor import Feature\n",
    "from features.out_of_state_rental_ownership import OutOfStateRentalOwnership\n",
    "from features.ddot_bus_stops import DDotBusStops\n",
    "from features.smart_bus_stops import SmartBusStops\n",
    "from features.rental_statuses import RentalStatuses\n",
    "from features.project_green_light_locations import ProjectGreenlightLocations\n",
    "from util_detroit import concatenate_features\n",
    "\n",
    "from detroit_geos import get_detroit_census_geos, get_detroit_boundaries\n",
    "\n",
    "import patsy\n",
    "from patsy import dmatrices, dmatrix\n",
    "import statsmodels.api as sm\n",
    "import statsmodels.formula.api as smf\n",
    "import seaborn as sns\n",
    "from sklearn.impute import SimpleImputer"
   ]
  },
  {
   "cell_type": "code",
   "execution_count": 2,
   "id": "c2eff825",
   "metadata": {
    "ExecuteTime": {
     "end_time": "2022-03-02T19:50:21.645237Z",
     "start_time": "2022-03-02T19:50:13.191858Z"
    }
   },
   "outputs": [],
   "source": [
    "# Fetch geometries for visualization\n",
    "\n",
    "tracts = get_detroit_census_geos(decennial_census_year=2010,target_geo_grain='tract',).set_index('geo_id')\n",
    "detroit = get_detroit_boundaries()\n",
    "block = get_detroit_census_geos(decennial_census_year=2010,target_geo_grain='block').set_index('geo_id')"
   ]
  },
  {
   "cell_type": "markdown",
   "id": "d1ec884a",
   "metadata": {
    "ExecuteTime": {
     "end_time": "2022-03-02T20:05:34.311221Z",
     "start_time": "2022-03-02T20:05:34.276420Z"
    }
   },
   "source": [
    "# Build Features"
   ]
  },
  {
   "cell_type": "code",
   "execution_count": 61,
   "id": "0d596d4b",
   "metadata": {
    "ExecuteTime": {
     "end_time": "2022-03-02T20:39:55.655967Z",
     "start_time": "2022-03-02T20:36:47.715958Z"
    }
   },
   "outputs": [
    {
     "name": "stdout",
     "output_type": "stream",
     "text": [
      "Loaded 371,176 rows of data\n"
     ]
    }
   ],
   "source": [
    "ViolenceCalls(decennial_census_year=2010, verbose=False).cache_features()"
   ]
  },
  {
   "cell_type": "code",
   "execution_count": 70,
   "id": "c236c63b",
   "metadata": {
    "ExecuteTime": {
     "end_time": "2022-03-02T20:40:56.779513Z",
     "start_time": "2022-03-02T20:40:52.908318Z"
    },
    "collapsed": true
   },
   "outputs": [
    {
     "ename": "KeyboardInterrupt",
     "evalue": "",
     "output_type": "error",
     "traceback": [
      "\u001b[0;31m---------------------------------------------------------------------------\u001b[0m",
      "\u001b[0;31mAttributeError\u001b[0m                            Traceback (most recent call last)",
      "\u001b[0;32m~/.virtualenvs/detroit/lib/python3.8/site-packages/pandas/_libs/tslibs/timezones.pyx\u001b[0m in \u001b[0;36mpandas._libs.tslibs.timezones.get_utcoffset\u001b[0;34m()\u001b[0m\n",
      "\u001b[0;31mAttributeError\u001b[0m: '_FixedOffset' object has no attribute '_utcoffset'",
      "\nDuring handling of the above exception, another exception occurred:\n",
      "\u001b[0;31mKeyboardInterrupt\u001b[0m                         Traceback (most recent call last)",
      "\u001b[0;32m/var/folders/28/p0bhwx8s3cj150l_wknp1wd80000gp/T/ipykernel_27268/1378835900.py\u001b[0m in \u001b[0;36m<module>\u001b[0;34m\u001b[0m\n\u001b[0;32m----> 1\u001b[0;31m \u001b[0mViolenceCalls\u001b[0m\u001b[0;34m(\u001b[0m\u001b[0mdecennial_census_year\u001b[0m\u001b[0;34m=\u001b[0m\u001b[0;36m2010\u001b[0m\u001b[0;34m,\u001b[0m \u001b[0mverbose\u001b[0m\u001b[0;34m=\u001b[0m\u001b[0;32mFalse\u001b[0m\u001b[0;34m)\u001b[0m\u001b[0;34m.\u001b[0m\u001b[0mconstruct_feature\u001b[0m\u001b[0;34m(\u001b[0m\u001b[0mtarget_geo_grain\u001b[0m\u001b[0;34m=\u001b[0m\u001b[0;34m'tract'\u001b[0m\u001b[0;34m)\u001b[0m\u001b[0;34m\u001b[0m\u001b[0;34m\u001b[0m\u001b[0m\n\u001b[0m",
      "\u001b[0;32m~/gd/detroit/features/feature_constructor.py\u001b[0m in \u001b[0;36mload_data\u001b[0;34m(self, target_geo_grain, features, *kwargs)\u001b[0m\n\u001b[1;32m     32\u001b[0m             \u001b[0;32mif\u001b[0m \u001b[0mself\u001b[0m\u001b[0;34m.\u001b[0m\u001b[0mverbose\u001b[0m\u001b[0;34m:\u001b[0m\u001b[0;34m\u001b[0m\u001b[0;34m\u001b[0m\u001b[0m\n\u001b[1;32m     33\u001b[0m                 \u001b[0mprint\u001b[0m\u001b[0;34m(\u001b[0m\u001b[0;34m\"Data not yet loaded, loading all data\"\u001b[0m\u001b[0;34m)\u001b[0m\u001b[0;34m\u001b[0m\u001b[0;34m\u001b[0m\u001b[0m\n\u001b[0;32m---> 34\u001b[0;31m             \u001b[0mself\u001b[0m\u001b[0;34m.\u001b[0m\u001b[0mload_data\u001b[0m\u001b[0;34m(\u001b[0m\u001b[0;34m)\u001b[0m\u001b[0;34m\u001b[0m\u001b[0;34m\u001b[0m\u001b[0m\n\u001b[0m\u001b[1;32m     35\u001b[0m         \u001b[0;32mif\u001b[0m \u001b[0mself\u001b[0m\u001b[0;34m.\u001b[0m\u001b[0mclean_data\u001b[0m \u001b[0;32mis\u001b[0m \u001b[0;32mNone\u001b[0m\u001b[0;34m:\u001b[0m\u001b[0;34m\u001b[0m\u001b[0;34m\u001b[0m\u001b[0m\n\u001b[1;32m     36\u001b[0m             \u001b[0;32mif\u001b[0m \u001b[0mself\u001b[0m\u001b[0;34m.\u001b[0m\u001b[0mverbose\u001b[0m\u001b[0;34m:\u001b[0m\u001b[0;34m\u001b[0m\u001b[0;34m\u001b[0m\u001b[0m\n",
      "\u001b[0;32m~/gd/detroit/features/violence_calls.py\u001b[0m in \u001b[0;36mload_data\u001b[0;34m(self, sample_rows, use_lat_long, call_whitelist_strings)\u001b[0m\n\u001b[1;32m     94\u001b[0m \u001b[0;34m\u001b[0m\u001b[0m\n\u001b[1;32m     95\u001b[0m         calls = pd.concat(\n\u001b[0;32m---> 96\u001b[0;31m             \u001b[0;34m[\u001b[0m\u001b[0mx\u001b[0m\u001b[0;34m.\u001b[0m\u001b[0mloc\u001b[0m\u001b[0;34m[\u001b[0m\u001b[0;32mlambda\u001b[0m \u001b[0mx\u001b[0m\u001b[0;34m:\u001b[0m \u001b[0mx\u001b[0m\u001b[0;34m.\u001b[0m\u001b[0mcalldescription\u001b[0m\u001b[0;34m.\u001b[0m\u001b[0mstr\u001b[0m\u001b[0;34m.\u001b[0m\u001b[0mcontains\u001b[0m\u001b[0;34m(\u001b[0m\u001b[0mexpr\u001b[0m\u001b[0;34m)\u001b[0m\u001b[0;34m]\u001b[0m \u001b[0;32mfor\u001b[0m \u001b[0mx\u001b[0m \u001b[0;32min\u001b[0m \u001b[0mgenerator\u001b[0m\u001b[0;34m]\u001b[0m\u001b[0;34m,\u001b[0m\u001b[0;34m\u001b[0m\u001b[0;34m\u001b[0m\u001b[0m\n\u001b[0m\u001b[1;32m     97\u001b[0m             \u001b[0mignore_index\u001b[0m\u001b[0;34m=\u001b[0m\u001b[0;32mTrue\u001b[0m\u001b[0;34m,\u001b[0m\u001b[0;34m\u001b[0m\u001b[0;34m\u001b[0m\u001b[0m\n\u001b[1;32m     98\u001b[0m         )\n",
      "\u001b[0;32m~/gd/detroit/features/violence_calls.py\u001b[0m in \u001b[0;36m<listcomp>\u001b[0;34m(.0)\u001b[0m\n\u001b[1;32m     94\u001b[0m \u001b[0;34m\u001b[0m\u001b[0m\n\u001b[1;32m     95\u001b[0m         calls = pd.concat(\n\u001b[0;32m---> 96\u001b[0;31m             \u001b[0;34m[\u001b[0m\u001b[0mx\u001b[0m\u001b[0;34m.\u001b[0m\u001b[0mloc\u001b[0m\u001b[0;34m[\u001b[0m\u001b[0;32mlambda\u001b[0m \u001b[0mx\u001b[0m\u001b[0;34m:\u001b[0m \u001b[0mx\u001b[0m\u001b[0;34m.\u001b[0m\u001b[0mcalldescription\u001b[0m\u001b[0;34m.\u001b[0m\u001b[0mstr\u001b[0m\u001b[0;34m.\u001b[0m\u001b[0mcontains\u001b[0m\u001b[0;34m(\u001b[0m\u001b[0mexpr\u001b[0m\u001b[0;34m)\u001b[0m\u001b[0;34m]\u001b[0m \u001b[0;32mfor\u001b[0m \u001b[0mx\u001b[0m \u001b[0;32min\u001b[0m \u001b[0mgenerator\u001b[0m\u001b[0;34m]\u001b[0m\u001b[0;34m,\u001b[0m\u001b[0;34m\u001b[0m\u001b[0;34m\u001b[0m\u001b[0m\n\u001b[0m\u001b[1;32m     97\u001b[0m             \u001b[0mignore_index\u001b[0m\u001b[0;34m=\u001b[0m\u001b[0;32mTrue\u001b[0m\u001b[0;34m,\u001b[0m\u001b[0;34m\u001b[0m\u001b[0;34m\u001b[0m\u001b[0m\n\u001b[1;32m     98\u001b[0m         )\n",
      "\u001b[0;32m~/.virtualenvs/detroit/lib/python3.8/site-packages/pandas/io/parsers/readers.py\u001b[0m in \u001b[0;36m__next__\u001b[0;34m(self)\u001b[0m\n\u001b[1;32m   1022\u001b[0m     \u001b[0;32mdef\u001b[0m \u001b[0m__next__\u001b[0m\u001b[0;34m(\u001b[0m\u001b[0mself\u001b[0m\u001b[0;34m)\u001b[0m\u001b[0;34m:\u001b[0m\u001b[0;34m\u001b[0m\u001b[0;34m\u001b[0m\u001b[0m\n\u001b[1;32m   1023\u001b[0m         \u001b[0;32mtry\u001b[0m\u001b[0;34m:\u001b[0m\u001b[0;34m\u001b[0m\u001b[0;34m\u001b[0m\u001b[0m\n\u001b[0;32m-> 1024\u001b[0;31m             \u001b[0;32mreturn\u001b[0m \u001b[0mself\u001b[0m\u001b[0;34m.\u001b[0m\u001b[0mget_chunk\u001b[0m\u001b[0;34m(\u001b[0m\u001b[0;34m)\u001b[0m\u001b[0;34m\u001b[0m\u001b[0;34m\u001b[0m\u001b[0m\n\u001b[0m\u001b[1;32m   1025\u001b[0m         \u001b[0;32mexcept\u001b[0m \u001b[0mStopIteration\u001b[0m\u001b[0;34m:\u001b[0m\u001b[0;34m\u001b[0m\u001b[0;34m\u001b[0m\u001b[0m\n\u001b[1;32m   1026\u001b[0m             \u001b[0mself\u001b[0m\u001b[0;34m.\u001b[0m\u001b[0mclose\u001b[0m\u001b[0;34m(\u001b[0m\u001b[0;34m)\u001b[0m\u001b[0;34m\u001b[0m\u001b[0;34m\u001b[0m\u001b[0m\n",
      "\u001b[0;32m~/.virtualenvs/detroit/lib/python3.8/site-packages/pandas/io/parsers/readers.py\u001b[0m in \u001b[0;36mget_chunk\u001b[0;34m(self, size)\u001b[0m\n\u001b[1;32m   1072\u001b[0m                 \u001b[0;32mraise\u001b[0m \u001b[0mStopIteration\u001b[0m\u001b[0;34m\u001b[0m\u001b[0;34m\u001b[0m\u001b[0m\n\u001b[1;32m   1073\u001b[0m             \u001b[0msize\u001b[0m \u001b[0;34m=\u001b[0m \u001b[0mmin\u001b[0m\u001b[0;34m(\u001b[0m\u001b[0msize\u001b[0m\u001b[0;34m,\u001b[0m \u001b[0mself\u001b[0m\u001b[0;34m.\u001b[0m\u001b[0mnrows\u001b[0m \u001b[0;34m-\u001b[0m \u001b[0mself\u001b[0m\u001b[0;34m.\u001b[0m\u001b[0m_currow\u001b[0m\u001b[0;34m)\u001b[0m\u001b[0;34m\u001b[0m\u001b[0;34m\u001b[0m\u001b[0m\n\u001b[0;32m-> 1074\u001b[0;31m         \u001b[0;32mreturn\u001b[0m \u001b[0mself\u001b[0m\u001b[0;34m.\u001b[0m\u001b[0mread\u001b[0m\u001b[0;34m(\u001b[0m\u001b[0mnrows\u001b[0m\u001b[0;34m=\u001b[0m\u001b[0msize\u001b[0m\u001b[0;34m)\u001b[0m\u001b[0;34m\u001b[0m\u001b[0;34m\u001b[0m\u001b[0m\n\u001b[0m\u001b[1;32m   1075\u001b[0m \u001b[0;34m\u001b[0m\u001b[0m\n\u001b[1;32m   1076\u001b[0m     \u001b[0;32mdef\u001b[0m \u001b[0m__enter__\u001b[0m\u001b[0;34m(\u001b[0m\u001b[0mself\u001b[0m\u001b[0;34m)\u001b[0m\u001b[0;34m:\u001b[0m\u001b[0;34m\u001b[0m\u001b[0;34m\u001b[0m\u001b[0m\n",
      "\u001b[0;32m~/.virtualenvs/detroit/lib/python3.8/site-packages/pandas/io/parsers/readers.py\u001b[0m in \u001b[0;36mread\u001b[0;34m(self, nrows)\u001b[0m\n\u001b[1;32m   1045\u001b[0m     \u001b[0;32mdef\u001b[0m \u001b[0mread\u001b[0m\u001b[0;34m(\u001b[0m\u001b[0mself\u001b[0m\u001b[0;34m,\u001b[0m \u001b[0mnrows\u001b[0m\u001b[0;34m=\u001b[0m\u001b[0;32mNone\u001b[0m\u001b[0;34m)\u001b[0m\u001b[0;34m:\u001b[0m\u001b[0;34m\u001b[0m\u001b[0;34m\u001b[0m\u001b[0m\n\u001b[1;32m   1046\u001b[0m         \u001b[0mnrows\u001b[0m \u001b[0;34m=\u001b[0m \u001b[0mvalidate_integer\u001b[0m\u001b[0;34m(\u001b[0m\u001b[0;34m\"nrows\"\u001b[0m\u001b[0;34m,\u001b[0m \u001b[0mnrows\u001b[0m\u001b[0;34m)\u001b[0m\u001b[0;34m\u001b[0m\u001b[0;34m\u001b[0m\u001b[0m\n\u001b[0;32m-> 1047\u001b[0;31m         \u001b[0mindex\u001b[0m\u001b[0;34m,\u001b[0m \u001b[0mcolumns\u001b[0m\u001b[0;34m,\u001b[0m \u001b[0mcol_dict\u001b[0m \u001b[0;34m=\u001b[0m \u001b[0mself\u001b[0m\u001b[0;34m.\u001b[0m\u001b[0m_engine\u001b[0m\u001b[0;34m.\u001b[0m\u001b[0mread\u001b[0m\u001b[0;34m(\u001b[0m\u001b[0mnrows\u001b[0m\u001b[0;34m)\u001b[0m\u001b[0;34m\u001b[0m\u001b[0;34m\u001b[0m\u001b[0m\n\u001b[0m\u001b[1;32m   1048\u001b[0m \u001b[0;34m\u001b[0m\u001b[0m\n\u001b[1;32m   1049\u001b[0m         \u001b[0;32mif\u001b[0m \u001b[0mindex\u001b[0m \u001b[0;32mis\u001b[0m \u001b[0;32mNone\u001b[0m\u001b[0;34m:\u001b[0m\u001b[0;34m\u001b[0m\u001b[0;34m\u001b[0m\u001b[0m\n",
      "\u001b[0;32m~/.virtualenvs/detroit/lib/python3.8/site-packages/pandas/io/parsers/c_parser_wrapper.py\u001b[0m in \u001b[0;36mread\u001b[0;34m(self, nrows)\u001b[0m\n\u001b[1;32m    306\u001b[0m             \u001b[0mdata\u001b[0m \u001b[0;34m=\u001b[0m \u001b[0;34m{\u001b[0m\u001b[0mk\u001b[0m\u001b[0;34m:\u001b[0m \u001b[0mv\u001b[0m \u001b[0;32mfor\u001b[0m \u001b[0mk\u001b[0m\u001b[0;34m,\u001b[0m \u001b[0;34m(\u001b[0m\u001b[0mi\u001b[0m\u001b[0;34m,\u001b[0m \u001b[0mv\u001b[0m\u001b[0;34m)\u001b[0m \u001b[0;32min\u001b[0m \u001b[0mzip\u001b[0m\u001b[0;34m(\u001b[0m\u001b[0mnames\u001b[0m\u001b[0;34m,\u001b[0m \u001b[0mdata_tups\u001b[0m\u001b[0;34m)\u001b[0m\u001b[0;34m}\u001b[0m\u001b[0;34m\u001b[0m\u001b[0;34m\u001b[0m\u001b[0m\n\u001b[1;32m    307\u001b[0m \u001b[0;34m\u001b[0m\u001b[0m\n\u001b[0;32m--> 308\u001b[0;31m             \u001b[0mnames\u001b[0m\u001b[0;34m,\u001b[0m \u001b[0mdata\u001b[0m \u001b[0;34m=\u001b[0m \u001b[0mself\u001b[0m\u001b[0;34m.\u001b[0m\u001b[0m_do_date_conversions\u001b[0m\u001b[0;34m(\u001b[0m\u001b[0mnames\u001b[0m\u001b[0;34m,\u001b[0m \u001b[0mdata\u001b[0m\u001b[0;34m)\u001b[0m\u001b[0;34m\u001b[0m\u001b[0;34m\u001b[0m\u001b[0m\n\u001b[0m\u001b[1;32m    309\u001b[0m             \u001b[0mindex\u001b[0m\u001b[0;34m,\u001b[0m \u001b[0mnames\u001b[0m \u001b[0;34m=\u001b[0m \u001b[0mself\u001b[0m\u001b[0;34m.\u001b[0m\u001b[0m_make_index\u001b[0m\u001b[0;34m(\u001b[0m\u001b[0mdata\u001b[0m\u001b[0;34m,\u001b[0m \u001b[0malldata\u001b[0m\u001b[0;34m,\u001b[0m \u001b[0mnames\u001b[0m\u001b[0;34m)\u001b[0m\u001b[0;34m\u001b[0m\u001b[0;34m\u001b[0m\u001b[0m\n\u001b[1;32m    310\u001b[0m \u001b[0;34m\u001b[0m\u001b[0m\n",
      "\u001b[0;32m~/.virtualenvs/detroit/lib/python3.8/site-packages/pandas/io/parsers/base_parser.py\u001b[0m in \u001b[0;36m_do_date_conversions\u001b[0;34m(self, names, data)\u001b[0m\n\u001b[1;32m    793\u001b[0m \u001b[0;34m\u001b[0m\u001b[0m\n\u001b[1;32m    794\u001b[0m         \u001b[0;32mif\u001b[0m \u001b[0mself\u001b[0m\u001b[0;34m.\u001b[0m\u001b[0mparse_dates\u001b[0m \u001b[0;32mis\u001b[0m \u001b[0;32mnot\u001b[0m \u001b[0;32mNone\u001b[0m\u001b[0;34m:\u001b[0m\u001b[0;34m\u001b[0m\u001b[0;34m\u001b[0m\u001b[0m\n\u001b[0;32m--> 795\u001b[0;31m             data, names = _process_date_conversion(\n\u001b[0m\u001b[1;32m    796\u001b[0m                 \u001b[0mdata\u001b[0m\u001b[0;34m,\u001b[0m\u001b[0;34m\u001b[0m\u001b[0;34m\u001b[0m\u001b[0m\n\u001b[1;32m    797\u001b[0m                 \u001b[0mself\u001b[0m\u001b[0;34m.\u001b[0m\u001b[0m_date_conv\u001b[0m\u001b[0;34m,\u001b[0m\u001b[0;34m\u001b[0m\u001b[0;34m\u001b[0m\u001b[0m\n",
      "\u001b[0;32m~/.virtualenvs/detroit/lib/python3.8/site-packages/pandas/io/parsers/base_parser.py\u001b[0m in \u001b[0;36m_process_date_conversion\u001b[0;34m(data_dict, converter, parse_spec, index_col, index_names, columns, keep_date_col)\u001b[0m\n\u001b[1;32m   1091\u001b[0m                 \u001b[0;32mif\u001b[0m \u001b[0m_isindex\u001b[0m\u001b[0;34m(\u001b[0m\u001b[0mcolspec\u001b[0m\u001b[0;34m)\u001b[0m\u001b[0;34m:\u001b[0m\u001b[0;34m\u001b[0m\u001b[0;34m\u001b[0m\u001b[0m\n\u001b[1;32m   1092\u001b[0m                     \u001b[0;32mcontinue\u001b[0m\u001b[0;34m\u001b[0m\u001b[0;34m\u001b[0m\u001b[0m\n\u001b[0;32m-> 1093\u001b[0;31m                 \u001b[0mdata_dict\u001b[0m\u001b[0;34m[\u001b[0m\u001b[0mcolspec\u001b[0m\u001b[0;34m]\u001b[0m \u001b[0;34m=\u001b[0m \u001b[0mconverter\u001b[0m\u001b[0;34m(\u001b[0m\u001b[0mdata_dict\u001b[0m\u001b[0;34m[\u001b[0m\u001b[0mcolspec\u001b[0m\u001b[0;34m]\u001b[0m\u001b[0;34m)\u001b[0m\u001b[0;34m\u001b[0m\u001b[0;34m\u001b[0m\u001b[0m\n\u001b[0m\u001b[1;32m   1094\u001b[0m             \u001b[0;32melse\u001b[0m\u001b[0;34m:\u001b[0m\u001b[0;34m\u001b[0m\u001b[0;34m\u001b[0m\u001b[0m\n\u001b[1;32m   1095\u001b[0m                 new_name, col, old_names = _try_convert_dates(\n",
      "\u001b[0;32m~/.virtualenvs/detroit/lib/python3.8/site-packages/pandas/io/parsers/base_parser.py\u001b[0m in \u001b[0;36mconverter\u001b[0;34m(*date_cols)\u001b[0m\n\u001b[1;32m   1021\u001b[0m \u001b[0;34m\u001b[0m\u001b[0m\n\u001b[1;32m   1022\u001b[0m             \u001b[0;32mtry\u001b[0m\u001b[0;34m:\u001b[0m\u001b[0;34m\u001b[0m\u001b[0;34m\u001b[0m\u001b[0m\n\u001b[0;32m-> 1023\u001b[0;31m                 return tools.to_datetime(\n\u001b[0m\u001b[1;32m   1024\u001b[0m                     \u001b[0mensure_object\u001b[0m\u001b[0;34m(\u001b[0m\u001b[0mstrs\u001b[0m\u001b[0;34m)\u001b[0m\u001b[0;34m,\u001b[0m\u001b[0;34m\u001b[0m\u001b[0;34m\u001b[0m\u001b[0m\n\u001b[1;32m   1025\u001b[0m                     \u001b[0mutc\u001b[0m\u001b[0;34m=\u001b[0m\u001b[0;32mNone\u001b[0m\u001b[0;34m,\u001b[0m\u001b[0;34m\u001b[0m\u001b[0;34m\u001b[0m\u001b[0m\n",
      "\u001b[0;32m~/.virtualenvs/detroit/lib/python3.8/site-packages/pandas/core/tools/datetimes.py\u001b[0m in \u001b[0;36mto_datetime\u001b[0;34m(arg, errors, dayfirst, yearfirst, utc, format, exact, unit, infer_datetime_format, origin, cache)\u001b[0m\n\u001b[1;32m    910\u001b[0m             \u001b[0mresult\u001b[0m \u001b[0;34m=\u001b[0m \u001b[0m_convert_and_box_cache\u001b[0m\u001b[0;34m(\u001b[0m\u001b[0marg\u001b[0m\u001b[0;34m,\u001b[0m \u001b[0mcache_array\u001b[0m\u001b[0;34m)\u001b[0m\u001b[0;34m\u001b[0m\u001b[0;34m\u001b[0m\u001b[0m\n\u001b[1;32m    911\u001b[0m         \u001b[0;32melse\u001b[0m\u001b[0;34m:\u001b[0m\u001b[0;34m\u001b[0m\u001b[0;34m\u001b[0m\u001b[0m\n\u001b[0;32m--> 912\u001b[0;31m             \u001b[0mresult\u001b[0m \u001b[0;34m=\u001b[0m \u001b[0mconvert_listlike\u001b[0m\u001b[0;34m(\u001b[0m\u001b[0marg\u001b[0m\u001b[0;34m,\u001b[0m \u001b[0mformat\u001b[0m\u001b[0;34m)\u001b[0m\u001b[0;34m\u001b[0m\u001b[0;34m\u001b[0m\u001b[0m\n\u001b[0m\u001b[1;32m    913\u001b[0m     \u001b[0;32melse\u001b[0m\u001b[0;34m:\u001b[0m\u001b[0;34m\u001b[0m\u001b[0;34m\u001b[0m\u001b[0m\n\u001b[1;32m    914\u001b[0m         \u001b[0mresult\u001b[0m \u001b[0;34m=\u001b[0m \u001b[0mconvert_listlike\u001b[0m\u001b[0;34m(\u001b[0m\u001b[0mnp\u001b[0m\u001b[0;34m.\u001b[0m\u001b[0marray\u001b[0m\u001b[0;34m(\u001b[0m\u001b[0;34m[\u001b[0m\u001b[0marg\u001b[0m\u001b[0;34m]\u001b[0m\u001b[0;34m)\u001b[0m\u001b[0;34m,\u001b[0m \u001b[0mformat\u001b[0m\u001b[0;34m)\u001b[0m\u001b[0;34m[\u001b[0m\u001b[0;36m0\u001b[0m\u001b[0;34m]\u001b[0m\u001b[0;34m\u001b[0m\u001b[0;34m\u001b[0m\u001b[0m\n",
      "\u001b[0;32m~/.virtualenvs/detroit/lib/python3.8/site-packages/pandas/core/tools/datetimes.py\u001b[0m in \u001b[0;36m_convert_listlike_datetimes\u001b[0;34m(arg, format, name, tz, unit, errors, infer_datetime_format, dayfirst, yearfirst, exact)\u001b[0m\n\u001b[1;32m    399\u001b[0m     \u001b[0;32massert\u001b[0m \u001b[0mformat\u001b[0m \u001b[0;32mis\u001b[0m \u001b[0;32mNone\u001b[0m \u001b[0;32mor\u001b[0m \u001b[0minfer_datetime_format\u001b[0m\u001b[0;34m\u001b[0m\u001b[0;34m\u001b[0m\u001b[0m\n\u001b[1;32m    400\u001b[0m     \u001b[0mutc\u001b[0m \u001b[0;34m=\u001b[0m \u001b[0mtz\u001b[0m \u001b[0;34m==\u001b[0m \u001b[0;34m\"utc\"\u001b[0m\u001b[0;34m\u001b[0m\u001b[0;34m\u001b[0m\u001b[0m\n\u001b[0;32m--> 401\u001b[0;31m     result, tz_parsed = objects_to_datetime64ns(\n\u001b[0m\u001b[1;32m    402\u001b[0m         \u001b[0marg\u001b[0m\u001b[0;34m,\u001b[0m\u001b[0;34m\u001b[0m\u001b[0;34m\u001b[0m\u001b[0m\n\u001b[1;32m    403\u001b[0m         \u001b[0mdayfirst\u001b[0m\u001b[0;34m=\u001b[0m\u001b[0mdayfirst\u001b[0m\u001b[0;34m,\u001b[0m\u001b[0;34m\u001b[0m\u001b[0;34m\u001b[0m\u001b[0m\n",
      "\u001b[0;32m~/.virtualenvs/detroit/lib/python3.8/site-packages/pandas/core/arrays/datetimes.py\u001b[0m in \u001b[0;36mobjects_to_datetime64ns\u001b[0;34m(data, dayfirst, yearfirst, utc, errors, require_iso8601, allow_object, allow_mixed)\u001b[0m\n\u001b[1;32m   2173\u001b[0m     \u001b[0morder\u001b[0m\u001b[0;34m:\u001b[0m \u001b[0mLiteral\u001b[0m\u001b[0;34m[\u001b[0m\u001b[0;34m\"F\"\u001b[0m\u001b[0;34m,\u001b[0m \u001b[0;34m\"C\"\u001b[0m\u001b[0;34m]\u001b[0m \u001b[0;34m=\u001b[0m \u001b[0;34m\"F\"\u001b[0m \u001b[0;32mif\u001b[0m \u001b[0mflags\u001b[0m\u001b[0;34m.\u001b[0m\u001b[0mf_contiguous\u001b[0m \u001b[0;32melse\u001b[0m \u001b[0;34m\"C\"\u001b[0m\u001b[0;34m\u001b[0m\u001b[0;34m\u001b[0m\u001b[0m\n\u001b[1;32m   2174\u001b[0m     \u001b[0;32mtry\u001b[0m\u001b[0;34m:\u001b[0m\u001b[0;34m\u001b[0m\u001b[0;34m\u001b[0m\u001b[0m\n\u001b[0;32m-> 2175\u001b[0;31m         result, tz_parsed = tslib.array_to_datetime(\n\u001b[0m\u001b[1;32m   2176\u001b[0m             \u001b[0mdata\u001b[0m\u001b[0;34m.\u001b[0m\u001b[0mravel\u001b[0m\u001b[0;34m(\u001b[0m\u001b[0;34m\"K\"\u001b[0m\u001b[0;34m)\u001b[0m\u001b[0;34m,\u001b[0m\u001b[0;34m\u001b[0m\u001b[0;34m\u001b[0m\u001b[0m\n\u001b[1;32m   2177\u001b[0m             \u001b[0merrors\u001b[0m\u001b[0;34m=\u001b[0m\u001b[0merrors\u001b[0m\u001b[0;34m,\u001b[0m\u001b[0;34m\u001b[0m\u001b[0;34m\u001b[0m\u001b[0m\n",
      "\u001b[0;32m~/.virtualenvs/detroit/lib/python3.8/site-packages/pandas/_libs/tslib.pyx\u001b[0m in \u001b[0;36mpandas._libs.tslib.array_to_datetime\u001b[0;34m()\u001b[0m\n",
      "\u001b[0;32m~/.virtualenvs/detroit/lib/python3.8/site-packages/pandas/_libs/tslib.pyx\u001b[0m in \u001b[0;36mpandas._libs.tslib.array_to_datetime\u001b[0;34m()\u001b[0m\n",
      "\u001b[0;32m~/.virtualenvs/detroit/lib/python3.8/site-packages/pandas/_libs/tslibs/tzconversion.pyx\u001b[0m in \u001b[0;36mpandas._libs.tslibs.tzconversion.tz_localize_to_utc_single\u001b[0;34m()\u001b[0m\n",
      "\u001b[0;32m~/.virtualenvs/detroit/lib/python3.8/site-packages/pandas/_libs/tslibs/timezones.pyx\u001b[0m in \u001b[0;36mpandas._libs.tslibs.timezones.get_dst_info\u001b[0;34m()\u001b[0m\n",
      "\u001b[0;32m~/.virtualenvs/detroit/lib/python3.8/site-packages/pandas/_libs/tslibs/timezones.pyx\u001b[0m in \u001b[0;36mpandas._libs.tslibs.timezones.get_utcoffset\u001b[0;34m()\u001b[0m\n",
      "\u001b[0;32m~/.virtualenvs/detroit/lib/python3.8/site-packages/pytz/__init__.py\u001b[0m in \u001b[0;36mutcoffset\u001b[0;34m(self, dt)\u001b[0m\n\u001b[1;32m    406\u001b[0m         \u001b[0mself\u001b[0m\u001b[0;34m.\u001b[0m\u001b[0m_offset\u001b[0m \u001b[0;34m=\u001b[0m \u001b[0mdatetime\u001b[0m\u001b[0;34m.\u001b[0m\u001b[0mtimedelta\u001b[0m\u001b[0;34m(\u001b[0m\u001b[0mminutes\u001b[0m\u001b[0;34m=\u001b[0m\u001b[0mminutes\u001b[0m\u001b[0;34m)\u001b[0m\u001b[0;34m\u001b[0m\u001b[0;34m\u001b[0m\u001b[0m\n\u001b[1;32m    407\u001b[0m \u001b[0;34m\u001b[0m\u001b[0m\n\u001b[0;32m--> 408\u001b[0;31m     \u001b[0;32mdef\u001b[0m \u001b[0mutcoffset\u001b[0m\u001b[0;34m(\u001b[0m\u001b[0mself\u001b[0m\u001b[0;34m,\u001b[0m \u001b[0mdt\u001b[0m\u001b[0;34m)\u001b[0m\u001b[0;34m:\u001b[0m\u001b[0;34m\u001b[0m\u001b[0;34m\u001b[0m\u001b[0m\n\u001b[0m\u001b[1;32m    409\u001b[0m         \u001b[0;32mreturn\u001b[0m \u001b[0mself\u001b[0m\u001b[0;34m.\u001b[0m\u001b[0m_offset\u001b[0m\u001b[0;34m\u001b[0m\u001b[0;34m\u001b[0m\u001b[0m\n\u001b[1;32m    410\u001b[0m \u001b[0;34m\u001b[0m\u001b[0m\n",
      "\u001b[0;31mKeyboardInterrupt\u001b[0m: "
     ]
    }
   ],
   "source": [
    "ViolenceCalls(decennial_census_year=2010, verbose=False).construct_feature(target_geo_grain='tract')"
   ]
  },
  {
   "cell_type": "code",
   "execution_count": 258,
   "id": "242498fe",
   "metadata": {
    "ExecuteTime": {
     "end_time": "2022-03-02T21:52:35.699969Z",
     "start_time": "2022-03-02T21:52:35.601011Z"
    }
   },
   "outputs": [],
   "source": [
    "target_geo_grain = \"tract\"\n",
    "feature_objects = [\n",
    "    Population(\n",
    "        decennial_census_year=2010, population_data_path=\"population\", verbose=False\n",
    "    ),\n",
    "    PopulationDensity(\n",
    "        decennial_census_year=2010,\n",
    "        population_data_path=\"population\",\n",
    "    ),\n",
    "    ViolenceCalls(decennial_census_year=2010, verbose=False),\n",
    "    Income(verbose=False),\n",
    "    Households(),\n",
    "    OutOfStateRentalOwnership(2010),\n",
    "    DDotBusStops(decennial_census_year=2010),\n",
    "    SmartBusStops(decennial_census_year=2010),\n",
    "    RentalStatuses(decennial_census_year=2010),\n",
    "    ProjectGreenlightLocations(decennial_census_year=2010),\n",
    "]\n",
    "\n",
    "feat_df = concatenate_features(feature_objects,'tract')"
   ]
  },
  {
   "cell_type": "markdown",
   "id": "a948fd78",
   "metadata": {},
   "source": [
    "# Transform"
   ]
  },
  {
   "cell_type": "code",
   "execution_count": 259,
   "id": "d4dc0c73",
   "metadata": {
    "ExecuteTime": {
     "end_time": "2022-03-02T21:52:39.192531Z",
     "start_time": "2022-03-02T21:52:39.110343Z"
    }
   },
   "outputs": [
    {
     "data": {
      "text/html": [
       "<div>\n",
       "<style scoped>\n",
       "    .dataframe tbody tr th:only-of-type {\n",
       "        vertical-align: middle;\n",
       "    }\n",
       "\n",
       "    .dataframe tbody tr th {\n",
       "        vertical-align: top;\n",
       "    }\n",
       "\n",
       "    .dataframe thead th {\n",
       "        text-align: right;\n",
       "    }\n",
       "</style>\n",
       "<table border=\"1\" class=\"dataframe\">\n",
       "  <thead>\n",
       "    <tr style=\"text-align: right;\">\n",
       "      <th></th>\n",
       "      <th>population_density</th>\n",
       "      <th>per_household_income</th>\n",
       "      <th>out_of_state_rental_ownership</th>\n",
       "      <th>call_rate</th>\n",
       "      <th>married_household_prop</th>\n",
       "      <th>rental_density</th>\n",
       "      <th>bus_density</th>\n",
       "      <th>greenlight_density</th>\n",
       "      <th>people_per_household</th>\n",
       "    </tr>\n",
       "    <tr>\n",
       "      <th>tract</th>\n",
       "      <th></th>\n",
       "      <th></th>\n",
       "      <th></th>\n",
       "      <th></th>\n",
       "      <th></th>\n",
       "      <th></th>\n",
       "      <th></th>\n",
       "      <th></th>\n",
       "      <th></th>\n",
       "    </tr>\n",
       "  </thead>\n",
       "  <tbody>\n",
       "    <tr>\n",
       "      <th>2.616350e+10</th>\n",
       "      <td>1824.898354</td>\n",
       "      <td>49015.0</td>\n",
       "      <td>0.278947</td>\n",
       "      <td>0.559772</td>\n",
       "      <td>0.173157</td>\n",
       "      <td>419.793244</td>\n",
       "      <td>28.722696</td>\n",
       "      <td>2.209438</td>\n",
       "      <td>2.803894</td>\n",
       "    </tr>\n",
       "    <tr>\n",
       "      <th>2.616350e+10</th>\n",
       "      <td>1856.991606</td>\n",
       "      <td>61980.0</td>\n",
       "      <td>0.326087</td>\n",
       "      <td>0.727783</td>\n",
       "      <td>0.174632</td>\n",
       "      <td>158.882786</td>\n",
       "      <td>27.631789</td>\n",
       "      <td>17.269868</td>\n",
       "      <td>2.947610</td>\n",
       "    </tr>\n",
       "    <tr>\n",
       "      <th>2.616350e+10</th>\n",
       "      <td>1329.122055</td>\n",
       "      <td>50345.0</td>\n",
       "      <td>0.157895</td>\n",
       "      <td>0.620975</td>\n",
       "      <td>0.075216</td>\n",
       "      <td>179.375550</td>\n",
       "      <td>40.123478</td>\n",
       "      <td>18.881637</td>\n",
       "      <td>3.868064</td>\n",
       "    </tr>\n",
       "    <tr>\n",
       "      <th>2.616350e+10</th>\n",
       "      <td>917.210175</td>\n",
       "      <td>34880.0</td>\n",
       "      <td>0.125000</td>\n",
       "      <td>0.618990</td>\n",
       "      <td>0.120000</td>\n",
       "      <td>14.513576</td>\n",
       "      <td>41.726532</td>\n",
       "      <td>0.000000</td>\n",
       "      <td>4.437333</td>\n",
       "    </tr>\n",
       "    <tr>\n",
       "      <th>2.616350e+10</th>\n",
       "      <td>1476.359684</td>\n",
       "      <td>43058.0</td>\n",
       "      <td>0.346939</td>\n",
       "      <td>0.657596</td>\n",
       "      <td>0.120553</td>\n",
       "      <td>73.183386</td>\n",
       "      <td>28.377231</td>\n",
       "      <td>1.493538</td>\n",
       "      <td>4.357708</td>\n",
       "    </tr>\n",
       "    <tr>\n",
       "      <th>...</th>\n",
       "      <td>...</td>\n",
       "      <td>...</td>\n",
       "      <td>...</td>\n",
       "      <td>...</td>\n",
       "      <td>...</td>\n",
       "      <td>...</td>\n",
       "      <td>...</td>\n",
       "      <td>...</td>\n",
       "      <td>...</td>\n",
       "    </tr>\n",
       "    <tr>\n",
       "      <th>2.616358e+10</th>\n",
       "      <td>1005.423452</td>\n",
       "      <td>47359.0</td>\n",
       "      <td>0.222222</td>\n",
       "      <td>0.000347</td>\n",
       "      <td>0.203540</td>\n",
       "      <td>0.000000</td>\n",
       "      <td>0.000000</td>\n",
       "      <td>0.000000</td>\n",
       "      <td>2.315366</td>\n",
       "    </tr>\n",
       "    <tr>\n",
       "      <th>2.616358e+10</th>\n",
       "      <td>316.470057</td>\n",
       "      <td>103943.0</td>\n",
       "      <td>0.222222</td>\n",
       "      <td>0.007367</td>\n",
       "      <td>0.439142</td>\n",
       "      <td>0.000000</td>\n",
       "      <td>0.000000</td>\n",
       "      <td>0.000000</td>\n",
       "      <td>2.474531</td>\n",
       "    </tr>\n",
       "    <tr>\n",
       "      <th>2.616398e+10</th>\n",
       "      <td>34.136901</td>\n",
       "      <td>40003.0</td>\n",
       "      <td>0.222222</td>\n",
       "      <td>4.636364</td>\n",
       "      <td>0.174037</td>\n",
       "      <td>0.000000</td>\n",
       "      <td>18.044989</td>\n",
       "      <td>0.000000</td>\n",
       "      <td>5.000000</td>\n",
       "    </tr>\n",
       "    <tr>\n",
       "      <th>2.616399e+10</th>\n",
       "      <td>22.931242</td>\n",
       "      <td>45320.0</td>\n",
       "      <td>1.000000</td>\n",
       "      <td>1.723577</td>\n",
       "      <td>0.150685</td>\n",
       "      <td>10.727722</td>\n",
       "      <td>209.190587</td>\n",
       "      <td>5.363861</td>\n",
       "      <td>0.842466</td>\n",
       "    </tr>\n",
       "    <tr>\n",
       "      <th>2.616399e+10</th>\n",
       "      <td>0.926894</td>\n",
       "      <td>40003.0</td>\n",
       "      <td>0.222222</td>\n",
       "      <td>0.818182</td>\n",
       "      <td>0.174037</td>\n",
       "      <td>0.000000</td>\n",
       "      <td>23.735176</td>\n",
       "      <td>0.000000</td>\n",
       "      <td>5.000000</td>\n",
       "    </tr>\n",
       "  </tbody>\n",
       "</table>\n",
       "<p>341 rows × 9 columns</p>\n",
       "</div>"
      ],
      "text/plain": [
       "              population_density  per_household_income  \\\n",
       "tract                                                    \n",
       "2.616350e+10         1824.898354               49015.0   \n",
       "2.616350e+10         1856.991606               61980.0   \n",
       "2.616350e+10         1329.122055               50345.0   \n",
       "2.616350e+10          917.210175               34880.0   \n",
       "2.616350e+10         1476.359684               43058.0   \n",
       "...                          ...                   ...   \n",
       "2.616358e+10         1005.423452               47359.0   \n",
       "2.616358e+10          316.470057              103943.0   \n",
       "2.616398e+10           34.136901               40003.0   \n",
       "2.616399e+10           22.931242               45320.0   \n",
       "2.616399e+10            0.926894               40003.0   \n",
       "\n",
       "              out_of_state_rental_ownership  call_rate  \\\n",
       "tract                                                    \n",
       "2.616350e+10                       0.278947   0.559772   \n",
       "2.616350e+10                       0.326087   0.727783   \n",
       "2.616350e+10                       0.157895   0.620975   \n",
       "2.616350e+10                       0.125000   0.618990   \n",
       "2.616350e+10                       0.346939   0.657596   \n",
       "...                                     ...        ...   \n",
       "2.616358e+10                       0.222222   0.000347   \n",
       "2.616358e+10                       0.222222   0.007367   \n",
       "2.616398e+10                       0.222222   4.636364   \n",
       "2.616399e+10                       1.000000   1.723577   \n",
       "2.616399e+10                       0.222222   0.818182   \n",
       "\n",
       "              married_household_prop  rental_density  bus_density  \\\n",
       "tract                                                               \n",
       "2.616350e+10                0.173157      419.793244    28.722696   \n",
       "2.616350e+10                0.174632      158.882786    27.631789   \n",
       "2.616350e+10                0.075216      179.375550    40.123478   \n",
       "2.616350e+10                0.120000       14.513576    41.726532   \n",
       "2.616350e+10                0.120553       73.183386    28.377231   \n",
       "...                              ...             ...          ...   \n",
       "2.616358e+10                0.203540        0.000000     0.000000   \n",
       "2.616358e+10                0.439142        0.000000     0.000000   \n",
       "2.616398e+10                0.174037        0.000000    18.044989   \n",
       "2.616399e+10                0.150685       10.727722   209.190587   \n",
       "2.616399e+10                0.174037        0.000000    23.735176   \n",
       "\n",
       "              greenlight_density  people_per_household  \n",
       "tract                                                   \n",
       "2.616350e+10            2.209438              2.803894  \n",
       "2.616350e+10           17.269868              2.947610  \n",
       "2.616350e+10           18.881637              3.868064  \n",
       "2.616350e+10            0.000000              4.437333  \n",
       "2.616350e+10            1.493538              4.357708  \n",
       "...                          ...                   ...  \n",
       "2.616358e+10            0.000000              2.315366  \n",
       "2.616358e+10            0.000000              2.474531  \n",
       "2.616398e+10            0.000000              5.000000  \n",
       "2.616399e+10            5.363861              0.842466  \n",
       "2.616399e+10            0.000000              5.000000  \n",
       "\n",
       "[341 rows x 9 columns]"
      ]
     },
     "execution_count": 259,
     "metadata": {},
     "output_type": "execute_result"
    }
   ],
   "source": [
    "from munge_features import transform_1\n",
    "transform_1(feat_df)"
   ]
  },
  {
   "cell_type": "code",
   "execution_count": 260,
   "id": "ea9f8a61",
   "metadata": {
    "ExecuteTime": {
     "end_time": "2022-03-02T21:52:41.927153Z",
     "start_time": "2022-03-02T21:52:41.865163Z"
    }
   },
   "outputs": [],
   "source": [
    "formula_bones = \"call_rate ~ \" + '\\n+ '.join([x for x in df.columns if ('call_rate' not in x)])\n",
    "formula = formula_bones.replace('per_household_income','np.log(per_household_income)')\n",
    "y, X = dmatrices(\n",
    "    formula_like=formula,\n",
    "    data=df,\n",
    "    return_type=\"dataframe\",\n",
    ")\n",
    "D = dmatrix(\n",
    "    formula_like=formula.replace('~','+'),\n",
    "    data=df,\n",
    "    return_type=\"dataframe\",\n",
    ")"
   ]
  },
  {
   "cell_type": "code",
   "execution_count": 261,
   "id": "b0c6e3b7",
   "metadata": {
    "ExecuteTime": {
     "end_time": "2022-03-02T21:52:42.397203Z",
     "start_time": "2022-03-02T21:52:42.359202Z"
    }
   },
   "outputs": [
    {
     "data": {
      "text/plain": [
       "people_per_household             0.000724\n",
       "out_of_state_rental_ownership    0.004437\n",
       "rental_density                   0.041099\n",
       "greenlight_density               0.047976\n",
       "bus_density                      0.052926\n",
       "population_density               0.054827\n",
       "np.log(per_household_income)     0.067554\n",
       "married_household_prop           0.182031\n",
       "call_rate                        1.000000\n",
       "Intercept                             NaN\n",
       "Name: call_rate, dtype: float64"
      ]
     },
     "execution_count": 261,
     "metadata": {},
     "output_type": "execute_result"
    }
   ],
   "source": [
    "(D.corr()**2).call_rate.sort_values()"
   ]
  },
  {
   "cell_type": "markdown",
   "id": "d20e6da6",
   "metadata": {},
   "source": [
    "# Run regressions"
   ]
  },
  {
   "cell_type": "code",
   "execution_count": 247,
   "id": "d8d0b12c",
   "metadata": {
    "ExecuteTime": {
     "end_time": "2022-03-02T21:37:33.145439Z",
     "start_time": "2022-03-02T21:37:33.067436Z"
    }
   },
   "outputs": [
    {
     "data": {
      "text/html": [
       "<table class=\"simpletable\">\n",
       "<caption>OLS Regression Results</caption>\n",
       "<tr>\n",
       "  <th>Dep. Variable:</th>        <td>call_rate</td>    <th>  R-squared:         </th> <td>   0.265</td>\n",
       "</tr>\n",
       "<tr>\n",
       "  <th>Model:</th>                   <td>OLS</td>       <th>  Adj. R-squared:    </th> <td>   0.247</td>\n",
       "</tr>\n",
       "<tr>\n",
       "  <th>Method:</th>             <td>Least Squares</td>  <th>  F-statistic:       </th> <td>   14.96</td>\n",
       "</tr>\n",
       "<tr>\n",
       "  <th>Date:</th>             <td>Wed, 02 Mar 2022</td> <th>  Prob (F-statistic):</th> <td>9.87e-19</td>\n",
       "</tr>\n",
       "<tr>\n",
       "  <th>Time:</th>                 <td>13:37:33</td>     <th>  Log-Likelihood:    </th> <td> -89.441</td>\n",
       "</tr>\n",
       "<tr>\n",
       "  <th>No. Observations:</th>      <td>   341</td>      <th>  AIC:               </th> <td>   196.9</td>\n",
       "</tr>\n",
       "<tr>\n",
       "  <th>Df Residuals:</th>          <td>   332</td>      <th>  BIC:               </th> <td>   231.4</td>\n",
       "</tr>\n",
       "<tr>\n",
       "  <th>Df Model:</th>              <td>     8</td>      <th>                     </th>     <td> </td>   \n",
       "</tr>\n",
       "<tr>\n",
       "  <th>Covariance Type:</th>      <td>nonrobust</td>    <th>                     </th>     <td> </td>   \n",
       "</tr>\n",
       "</table>\n",
       "<table class=\"simpletable\">\n",
       "<tr>\n",
       "                <td></td>                   <th>coef</th>     <th>std err</th>      <th>t</th>      <th>P>|t|</th>  <th>[0.025</th>    <th>0.975]</th>  \n",
       "</tr>\n",
       "<tr>\n",
       "  <th>Intercept</th>                     <td>    1.3880</td> <td>    0.690</td> <td>    2.011</td> <td> 0.045</td> <td>    0.030</td> <td>    2.746</td>\n",
       "</tr>\n",
       "<tr>\n",
       "  <th>population_density</th>            <td>   -0.0001</td> <td> 3.61e-05</td> <td>   -3.575</td> <td> 0.000</td> <td>   -0.000</td> <td> -5.8e-05</td>\n",
       "</tr>\n",
       "<tr>\n",
       "  <th>np.log(per_household_income)</th>  <td>   -0.0723</td> <td>    0.063</td> <td>   -1.146</td> <td> 0.253</td> <td>   -0.196</td> <td>    0.052</td>\n",
       "</tr>\n",
       "<tr>\n",
       "  <th>out_of_state_rental_ownership</th> <td>    0.2905</td> <td>    0.144</td> <td>    2.013</td> <td> 0.045</td> <td>    0.007</td> <td>    0.574</td>\n",
       "</tr>\n",
       "<tr>\n",
       "  <th>married_household_prop</th>        <td>   -0.8014</td> <td>    0.161</td> <td>   -4.985</td> <td> 0.000</td> <td>   -1.118</td> <td>   -0.485</td>\n",
       "</tr>\n",
       "<tr>\n",
       "  <th>rental_density</th>                <td>    0.0003</td> <td>    0.000</td> <td>    1.860</td> <td> 0.064</td> <td>-1.99e-05</td> <td>    0.001</td>\n",
       "</tr>\n",
       "<tr>\n",
       "  <th>bus_density</th>                   <td>    0.0002</td> <td>    0.000</td> <td>    0.472</td> <td> 0.637</td> <td>   -0.001</td> <td>    0.001</td>\n",
       "</tr>\n",
       "<tr>\n",
       "  <th>greenlight_density</th>            <td>    0.0041</td> <td>    0.001</td> <td>    2.850</td> <td> 0.005</td> <td>    0.001</td> <td>    0.007</td>\n",
       "</tr>\n",
       "<tr>\n",
       "  <th>people_per_household</th>          <td>    0.0193</td> <td>    0.025</td> <td>    0.781</td> <td> 0.435</td> <td>   -0.029</td> <td>    0.068</td>\n",
       "</tr>\n",
       "</table>\n",
       "<table class=\"simpletable\">\n",
       "<tr>\n",
       "  <th>Omnibus:</th>       <td>470.877</td> <th>  Durbin-Watson:     </th> <td>   1.579</td> \n",
       "</tr>\n",
       "<tr>\n",
       "  <th>Prob(Omnibus):</th> <td> 0.000</td>  <th>  Jarque-Bera (JB):  </th> <td>85666.123</td>\n",
       "</tr>\n",
       "<tr>\n",
       "  <th>Skew:</th>          <td> 6.530</td>  <th>  Prob(JB):          </th> <td>    0.00</td> \n",
       "</tr>\n",
       "<tr>\n",
       "  <th>Kurtosis:</th>      <td>79.542</td>  <th>  Cond. No.          </th> <td>5.42e+04</td> \n",
       "</tr>\n",
       "</table><br/><br/>Notes:<br/>[1] Standard Errors assume that the covariance matrix of the errors is correctly specified.<br/>[2] The condition number is large, 5.42e+04. This might indicate that there are<br/>strong multicollinearity or other numerical problems."
      ],
      "text/plain": [
       "<class 'statsmodels.iolib.summary.Summary'>\n",
       "\"\"\"\n",
       "                            OLS Regression Results                            \n",
       "==============================================================================\n",
       "Dep. Variable:              call_rate   R-squared:                       0.265\n",
       "Model:                            OLS   Adj. R-squared:                  0.247\n",
       "Method:                 Least Squares   F-statistic:                     14.96\n",
       "Date:                Wed, 02 Mar 2022   Prob (F-statistic):           9.87e-19\n",
       "Time:                        13:37:33   Log-Likelihood:                -89.441\n",
       "No. Observations:                 341   AIC:                             196.9\n",
       "Df Residuals:                     332   BIC:                             231.4\n",
       "Df Model:                           8                                         \n",
       "Covariance Type:            nonrobust                                         \n",
       "=================================================================================================\n",
       "                                    coef    std err          t      P>|t|      [0.025      0.975]\n",
       "-------------------------------------------------------------------------------------------------\n",
       "Intercept                         1.3880      0.690      2.011      0.045       0.030       2.746\n",
       "population_density               -0.0001   3.61e-05     -3.575      0.000      -0.000    -5.8e-05\n",
       "np.log(per_household_income)     -0.0723      0.063     -1.146      0.253      -0.196       0.052\n",
       "out_of_state_rental_ownership     0.2905      0.144      2.013      0.045       0.007       0.574\n",
       "married_household_prop           -0.8014      0.161     -4.985      0.000      -1.118      -0.485\n",
       "rental_density                    0.0003      0.000      1.860      0.064   -1.99e-05       0.001\n",
       "bus_density                       0.0002      0.000      0.472      0.637      -0.001       0.001\n",
       "greenlight_density                0.0041      0.001      2.850      0.005       0.001       0.007\n",
       "people_per_household              0.0193      0.025      0.781      0.435      -0.029       0.068\n",
       "==============================================================================\n",
       "Omnibus:                      470.877   Durbin-Watson:                   1.579\n",
       "Prob(Omnibus):                  0.000   Jarque-Bera (JB):            85666.123\n",
       "Skew:                           6.530   Prob(JB):                         0.00\n",
       "Kurtosis:                      79.542   Cond. No.                     5.42e+04\n",
       "==============================================================================\n",
       "\n",
       "Notes:\n",
       "[1] Standard Errors assume that the covariance matrix of the errors is correctly specified.\n",
       "[2] The condition number is large, 5.42e+04. This might indicate that there are\n",
       "strong multicollinearity or other numerical problems.\n",
       "\"\"\""
      ]
     },
     "execution_count": 247,
     "metadata": {},
     "output_type": "execute_result"
    }
   ],
   "source": [
    "y, X = dmatrices(\n",
    "    formula_like=formula,\n",
    "    data=df,\n",
    "    return_type=\"dataframe\",\n",
    ")\n",
    "mdl = sm.OLS(endog=y,exog=X)\n",
    "res = mdl.fit()\n",
    "res.summary()"
   ]
  },
  {
   "cell_type": "code",
   "execution_count": 252,
   "id": "ff89436e",
   "metadata": {
    "ExecuteTime": {
     "end_time": "2022-03-02T21:38:14.132900Z",
     "start_time": "2022-03-02T21:38:14.053461Z"
    }
   },
   "outputs": [
    {
     "data": {
      "text/html": [
       "<table class=\"simpletable\">\n",
       "<caption>Generalized Linear Model Regression Results</caption>\n",
       "<tr>\n",
       "  <th>Dep. Variable:</th>       <td>call_rate</td>    <th>  No. Observations:  </th>  <td>   341</td> \n",
       "</tr>\n",
       "<tr>\n",
       "  <th>Model:</th>                  <td>GLM</td>       <th>  Df Residuals:      </th>  <td>   332</td> \n",
       "</tr>\n",
       "<tr>\n",
       "  <th>Model Family:</th>         <td>Poisson</td>     <th>  Df Model:          </th>  <td>     8</td> \n",
       "</tr>\n",
       "<tr>\n",
       "  <th>Link Function:</th>          <td>Log</td>       <th>  Scale:             </th> <td>  1.0000</td>\n",
       "</tr>\n",
       "<tr>\n",
       "  <th>Method:</th>                <td>IRLS</td>       <th>  Log-Likelihood:    </th> <td> -242.69</td>\n",
       "</tr>\n",
       "<tr>\n",
       "  <th>Date:</th>            <td>Wed, 02 Mar 2022</td> <th>  Deviance:          </th> <td>  52.806</td>\n",
       "</tr>\n",
       "<tr>\n",
       "  <th>Time:</th>                <td>13:38:14</td>     <th>  Pearson chi2:      </th>  <td>  60.9</td> \n",
       "</tr>\n",
       "<tr>\n",
       "  <th>No. Iterations:</th>          <td>5</td>        <th>  Pseudo R-squ. (CS):</th>  <td>0.08364</td>\n",
       "</tr>\n",
       "<tr>\n",
       "  <th>Covariance Type:</th>     <td>nonrobust</td>    <th>                     </th>     <td> </td>   \n",
       "</tr>\n",
       "</table>\n",
       "<table class=\"simpletable\">\n",
       "<tr>\n",
       "                <td></td>                   <th>coef</th>     <th>std err</th>      <th>z</th>      <th>P>|z|</th>  <th>[0.025</th>    <th>0.975]</th>  \n",
       "</tr>\n",
       "<tr>\n",
       "  <th>Intercept</th>                     <td>    0.4649</td> <td>    3.308</td> <td>    0.141</td> <td> 0.888</td> <td>   -6.018</td> <td>    6.948</td>\n",
       "</tr>\n",
       "<tr>\n",
       "  <th>population_density</th>            <td>   -0.0003</td> <td>    0.000</td> <td>   -1.761</td> <td> 0.078</td> <td>   -0.001</td> <td> 3.59e-05</td>\n",
       "</tr>\n",
       "<tr>\n",
       "  <th>np.log(per_household_income)</th>  <td>   -0.0715</td> <td>    0.311</td> <td>   -0.230</td> <td> 0.818</td> <td>   -0.682</td> <td>    0.539</td>\n",
       "</tr>\n",
       "<tr>\n",
       "  <th>out_of_state_rental_ownership</th> <td>    0.7246</td> <td>    0.596</td> <td>    1.216</td> <td> 0.224</td> <td>   -0.444</td> <td>    1.893</td>\n",
       "</tr>\n",
       "<tr>\n",
       "  <th>married_household_prop</th>        <td>   -2.8160</td> <td>    0.945</td> <td>   -2.981</td> <td> 0.003</td> <td>   -4.667</td> <td>   -0.965</td>\n",
       "</tr>\n",
       "<tr>\n",
       "  <th>rental_density</th>                <td>    0.0010</td> <td>    0.001</td> <td>    1.292</td> <td> 0.196</td> <td>   -0.001</td> <td>    0.002</td>\n",
       "</tr>\n",
       "<tr>\n",
       "  <th>bus_density</th>                   <td>   -0.0002</td> <td>    0.002</td> <td>   -0.116</td> <td> 0.907</td> <td>   -0.003</td> <td>    0.003</td>\n",
       "</tr>\n",
       "<tr>\n",
       "  <th>greenlight_density</th>            <td>    0.0053</td> <td>    0.005</td> <td>    1.153</td> <td> 0.249</td> <td>   -0.004</td> <td>    0.014</td>\n",
       "</tr>\n",
       "<tr>\n",
       "  <th>people_per_household</th>          <td>    0.0515</td> <td>    0.106</td> <td>    0.488</td> <td> 0.626</td> <td>   -0.155</td> <td>    0.258</td>\n",
       "</tr>\n",
       "</table>"
      ],
      "text/plain": [
       "<class 'statsmodels.iolib.summary.Summary'>\n",
       "\"\"\"\n",
       "                 Generalized Linear Model Regression Results                  \n",
       "==============================================================================\n",
       "Dep. Variable:              call_rate   No. Observations:                  341\n",
       "Model:                            GLM   Df Residuals:                      332\n",
       "Model Family:                 Poisson   Df Model:                            8\n",
       "Link Function:                    Log   Scale:                          1.0000\n",
       "Method:                          IRLS   Log-Likelihood:                -242.69\n",
       "Date:                Wed, 02 Mar 2022   Deviance:                       52.806\n",
       "Time:                        13:38:14   Pearson chi2:                     60.9\n",
       "No. Iterations:                     5   Pseudo R-squ. (CS):            0.08364\n",
       "Covariance Type:            nonrobust                                         \n",
       "=================================================================================================\n",
       "                                    coef    std err          z      P>|z|      [0.025      0.975]\n",
       "-------------------------------------------------------------------------------------------------\n",
       "Intercept                         0.4649      3.308      0.141      0.888      -6.018       6.948\n",
       "population_density               -0.0003      0.000     -1.761      0.078      -0.001    3.59e-05\n",
       "np.log(per_household_income)     -0.0715      0.311     -0.230      0.818      -0.682       0.539\n",
       "out_of_state_rental_ownership     0.7246      0.596      1.216      0.224      -0.444       1.893\n",
       "married_household_prop           -2.8160      0.945     -2.981      0.003      -4.667      -0.965\n",
       "rental_density                    0.0010      0.001      1.292      0.196      -0.001       0.002\n",
       "bus_density                      -0.0002      0.002     -0.116      0.907      -0.003       0.003\n",
       "greenlight_density                0.0053      0.005      1.153      0.249      -0.004       0.014\n",
       "people_per_household              0.0515      0.106      0.488      0.626      -0.155       0.258\n",
       "=================================================================================================\n",
       "\"\"\""
      ]
     },
     "execution_count": 252,
     "metadata": {},
     "output_type": "execute_result"
    }
   ],
   "source": [
    "y, X = dmatrices(\n",
    "    formula_like=formula,\n",
    "    data=df,\n",
    "    return_type=\"dataframe\",\n",
    ")\n",
    "# exposure = X.pop('population')\n",
    "mdl = sm.GLM(endog=y,exog=X,family=sm.families.Poisson())\n",
    "res = mdl.fit()\n",
    "\n",
    "res.summary()\n",
    "res = mdl.fit()\n",
    "res.summary()"
   ]
  }
 ],
 "metadata": {
  "kernelspec": {
   "display_name": "Python 3 (ipykernel)",
   "language": "python",
   "name": "python3"
  },
  "language_info": {
   "codemirror_mode": {
    "name": "ipython",
    "version": 3
   },
   "file_extension": ".py",
   "mimetype": "text/x-python",
   "name": "python",
   "nbconvert_exporter": "python",
   "pygments_lexer": "ipython3",
   "version": "3.8.2"
  },
  "toc": {
   "base_numbering": 1,
   "nav_menu": {},
   "number_sections": true,
   "sideBar": true,
   "skip_h1_title": false,
   "title_cell": "Table of Contents",
   "title_sidebar": "Contents",
   "toc_cell": false,
   "toc_position": {},
   "toc_section_display": true,
   "toc_window_display": false
  },
  "varInspector": {
   "cols": {
    "lenName": 16,
    "lenType": 16,
    "lenVar": 40
   },
   "kernels_config": {
    "python": {
     "delete_cmd_postfix": "",
     "delete_cmd_prefix": "del ",
     "library": "var_list.py",
     "varRefreshCmd": "print(var_dic_list())"
    },
    "r": {
     "delete_cmd_postfix": ") ",
     "delete_cmd_prefix": "rm(",
     "library": "var_list.r",
     "varRefreshCmd": "cat(var_dic_list()) "
    }
   },
   "types_to_exclude": [
    "module",
    "function",
    "builtin_function_or_method",
    "instance",
    "_Feature"
   ],
   "window_display": false
  }
 },
 "nbformat": 4,
 "nbformat_minor": 5
}
