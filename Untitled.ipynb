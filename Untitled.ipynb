{
 "cells": [
  {
   "cell_type": "code",
   "execution_count": 5,
   "metadata": {
    "ExecuteTime": {
     "end_time": "2021-07-09T20:59:32.777767Z",
     "start_time": "2021-07-09T20:59:32.761028Z"
    }
   },
   "outputs": [],
   "source": [
    "import os"
   ]
  },
  {
   "cell_type": "code",
   "execution_count": 6,
   "metadata": {
    "ExecuteTime": {
     "end_time": "2021-07-09T20:59:33.069938Z",
     "start_time": "2021-07-09T20:59:33.052658Z"
    }
   },
   "outputs": [],
   "source": [
    "fns = [x for x in os.listdir() if 'csv' in x]"
   ]
  },
  {
   "cell_type": "code",
   "execution_count": 7,
   "metadata": {
    "ExecuteTime": {
     "end_time": "2021-07-09T20:59:33.318734Z",
     "start_time": "2021-07-09T20:59:33.300396Z"
    }
   },
   "outputs": [
    {
     "data": {
      "text/plain": [
       "['DDOT_Bus_Stops.csv',\n",
       " 'Blight_Violations.csv',\n",
       " 'Rental_Statuses.csv',\n",
       " 'Certificates_Of_Compliance.csv',\n",
       " 'SMART_Bus_Stops.csv',\n",
       " 'DPD_Citizen_Complaints.csv']"
      ]
     },
     "execution_count": 7,
     "metadata": {},
     "output_type": "execute_result"
    }
   ],
   "source": [
    "fns"
   ]
  },
  {
   "cell_type": "code",
   "execution_count": 8,
   "metadata": {
    "ExecuteTime": {
     "end_time": "2021-07-09T20:59:38.859008Z",
     "start_time": "2021-07-09T20:59:34.583436Z"
    }
   },
   "outputs": [
    {
     "name": "stderr",
     "output_type": "stream",
     "text": [
      "/Users/ahakso/.pyenv/versions/3.8.2/lib/python3.8/site-packages/IPython/core/interactiveshell.py:3165: DtypeWarning: Columns (9,11,15,16,17,30) have mixed types.Specify dtype option on import or set low_memory=False.\n",
      "  has_raised = await self.run_ast_nodes(code_ast.body, cell_name,\n"
     ]
    }
   ],
   "source": [
    "data = {}\n",
    "for f in fns:\n",
    "    data[f] = pd.read_csv(f) "
   ]
  },
  {
   "cell_type": "code",
   "execution_count": 11,
   "metadata": {
    "ExecuteTime": {
     "end_time": "2021-06-24T23:01:29.628541Z",
     "start_time": "2021-06-24T23:01:29.548294Z"
    }
   },
   "outputs": [
    {
     "name": "stdout",
     "output_type": "stream",
     "text": [
      "DDOT_Bus_Stops.csv\n"
     ]
    },
    {
     "data": {
      "text/html": [
       "<div>\n",
       "<style scoped>\n",
       "    .dataframe tbody tr th:only-of-type {\n",
       "        vertical-align: middle;\n",
       "    }\n",
       "\n",
       "    .dataframe tbody tr th {\n",
       "        vertical-align: top;\n",
       "    }\n",
       "\n",
       "    .dataframe thead th {\n",
       "        text-align: right;\n",
       "    }\n",
       "</style>\n",
       "<table border=\"1\" class=\"dataframe\">\n",
       "  <thead>\n",
       "    <tr style=\"text-align: right;\">\n",
       "      <th></th>\n",
       "      <th>X</th>\n",
       "      <th>Y</th>\n",
       "      <th>FID</th>\n",
       "      <th>Latitude</th>\n",
       "      <th>Longitude</th>\n",
       "      <th>Shelter</th>\n",
       "      <th>Bench</th>\n",
       "      <th>Trash</th>\n",
       "      <th>StopID</th>\n",
       "    </tr>\n",
       "  </thead>\n",
       "  <tbody>\n",
       "    <tr>\n",
       "      <th>count</th>\n",
       "      <td>5546.000000</td>\n",
       "      <td>5546.000000</td>\n",
       "      <td>5546.000000</td>\n",
       "      <td>5546.000000</td>\n",
       "      <td>5546.000000</td>\n",
       "      <td>5546.000000</td>\n",
       "      <td>5546.000000</td>\n",
       "      <td>5546.000000</td>\n",
       "      <td>5546.000000</td>\n",
       "    </tr>\n",
       "    <tr>\n",
       "      <th>mean</th>\n",
       "      <td>-83.102480</td>\n",
       "      <td>42.384582</td>\n",
       "      <td>2773.500000</td>\n",
       "      <td>42.384582</td>\n",
       "      <td>-83.102480</td>\n",
       "      <td>0.037505</td>\n",
       "      <td>0.055175</td>\n",
       "      <td>0.206996</td>\n",
       "      <td>6379.520195</td>\n",
       "    </tr>\n",
       "    <tr>\n",
       "      <th>std</th>\n",
       "      <td>0.087380</td>\n",
       "      <td>0.039725</td>\n",
       "      <td>1601.136628</td>\n",
       "      <td>0.039725</td>\n",
       "      <td>0.087380</td>\n",
       "      <td>0.190012</td>\n",
       "      <td>0.228342</td>\n",
       "      <td>0.505759</td>\n",
       "      <td>9299.955889</td>\n",
       "    </tr>\n",
       "    <tr>\n",
       "      <th>min</th>\n",
       "      <td>-83.332940</td>\n",
       "      <td>42.255633</td>\n",
       "      <td>1.000000</td>\n",
       "      <td>42.255633</td>\n",
       "      <td>-83.332940</td>\n",
       "      <td>0.000000</td>\n",
       "      <td>0.000000</td>\n",
       "      <td>0.000000</td>\n",
       "      <td>15.000000</td>\n",
       "    </tr>\n",
       "    <tr>\n",
       "      <th>25%</th>\n",
       "      <td>-83.167737</td>\n",
       "      <td>42.355298</td>\n",
       "      <td>1387.250000</td>\n",
       "      <td>42.355298</td>\n",
       "      <td>-83.167737</td>\n",
       "      <td>0.000000</td>\n",
       "      <td>0.000000</td>\n",
       "      <td>0.000000</td>\n",
       "      <td>2708.250000</td>\n",
       "    </tr>\n",
       "    <tr>\n",
       "      <th>50%</th>\n",
       "      <td>-83.103550</td>\n",
       "      <td>42.387006</td>\n",
       "      <td>2773.500000</td>\n",
       "      <td>42.387006</td>\n",
       "      <td>-83.103550</td>\n",
       "      <td>0.000000</td>\n",
       "      <td>0.000000</td>\n",
       "      <td>0.000000</td>\n",
       "      <td>5033.500000</td>\n",
       "    </tr>\n",
       "    <tr>\n",
       "      <th>75%</th>\n",
       "      <td>-83.037092</td>\n",
       "      <td>42.417686</td>\n",
       "      <td>4159.750000</td>\n",
       "      <td>42.417686</td>\n",
       "      <td>-83.037092</td>\n",
       "      <td>0.000000</td>\n",
       "      <td>0.000000</td>\n",
       "      <td>0.000000</td>\n",
       "      <td>7361.750000</td>\n",
       "    </tr>\n",
       "    <tr>\n",
       "      <th>max</th>\n",
       "      <td>-82.911558</td>\n",
       "      <td>42.473734</td>\n",
       "      <td>5546.000000</td>\n",
       "      <td>42.473734</td>\n",
       "      <td>-82.911558</td>\n",
       "      <td>1.000000</td>\n",
       "      <td>1.000000</td>\n",
       "      <td>2.000000</td>\n",
       "      <td>80007.000000</td>\n",
       "    </tr>\n",
       "  </tbody>\n",
       "</table>\n",
       "</div>"
      ],
      "text/plain": [
       "                 X            Y          FID     Latitude    Longitude  \\\n",
       "count  5546.000000  5546.000000  5546.000000  5546.000000  5546.000000   \n",
       "mean    -83.102480    42.384582  2773.500000    42.384582   -83.102480   \n",
       "std       0.087380     0.039725  1601.136628     0.039725     0.087380   \n",
       "min     -83.332940    42.255633     1.000000    42.255633   -83.332940   \n",
       "25%     -83.167737    42.355298  1387.250000    42.355298   -83.167737   \n",
       "50%     -83.103550    42.387006  2773.500000    42.387006   -83.103550   \n",
       "75%     -83.037092    42.417686  4159.750000    42.417686   -83.037092   \n",
       "max     -82.911558    42.473734  5546.000000    42.473734   -82.911558   \n",
       "\n",
       "           Shelter        Bench        Trash        StopID  \n",
       "count  5546.000000  5546.000000  5546.000000   5546.000000  \n",
       "mean      0.037505     0.055175     0.206996   6379.520195  \n",
       "std       0.190012     0.228342     0.505759   9299.955889  \n",
       "min       0.000000     0.000000     0.000000     15.000000  \n",
       "25%       0.000000     0.000000     0.000000   2708.250000  \n",
       "50%       0.000000     0.000000     0.000000   5033.500000  \n",
       "75%       0.000000     0.000000     0.000000   7361.750000  \n",
       "max       1.000000     1.000000     2.000000  80007.000000  "
      ]
     },
     "execution_count": 11,
     "metadata": {},
     "output_type": "execute_result"
    }
   ],
   "source": [
    "print(fns[0])\n",
    "data[fns[0]].describe()"
   ]
  },
  {
   "cell_type": "code",
   "execution_count": 9,
   "metadata": {
    "ExecuteTime": {
     "end_time": "2021-07-09T21:00:12.291964Z",
     "start_time": "2021-07-09T21:00:12.045598Z"
    },
    "collapsed": true
   },
   "outputs": [
    {
     "ename": "DriverError",
     "evalue": "/Users/ahakso/Downloads/Current_City_of_Detroit_Neighborhoods.kml: No such file or directory",
     "output_type": "error",
     "traceback": [
      "\u001b[0;31m---------------------------------------------------------------------------\u001b[0m",
      "\u001b[0;31mCPLE_OpenFailedError\u001b[0m                      Traceback (most recent call last)",
      "\u001b[0;32mfiona/_shim.pyx\u001b[0m in \u001b[0;36mfiona._shim.gdal_open_vector\u001b[0;34m()\u001b[0m\n",
      "\u001b[0;32mfiona/_err.pyx\u001b[0m in \u001b[0;36mfiona._err.exc_wrap_pointer\u001b[0;34m()\u001b[0m\n",
      "\u001b[0;31mCPLE_OpenFailedError\u001b[0m: /Users/ahakso/Downloads/Current_City_of_Detroit_Neighborhoods.kml: No such file or directory",
      "\nDuring handling of the above exception, another exception occurred:\n",
      "\u001b[0;31mDriverError\u001b[0m                               Traceback (most recent call last)",
      "\u001b[0;32m<ipython-input-9-a4468d6a8de7>\u001b[0m in \u001b[0;36m<module>\u001b[0;34m\u001b[0m\n\u001b[1;32m      3\u001b[0m \u001b[0;34m\u001b[0m\u001b[0m\n\u001b[1;32m      4\u001b[0m \u001b[0mgpd\u001b[0m\u001b[0;34m.\u001b[0m\u001b[0mio\u001b[0m\u001b[0;34m.\u001b[0m\u001b[0mfile\u001b[0m\u001b[0;34m.\u001b[0m\u001b[0mfiona\u001b[0m\u001b[0;34m.\u001b[0m\u001b[0mdrvsupport\u001b[0m\u001b[0;34m.\u001b[0m\u001b[0msupported_drivers\u001b[0m\u001b[0;34m[\u001b[0m\u001b[0;34m'KML'\u001b[0m\u001b[0;34m]\u001b[0m \u001b[0;34m=\u001b[0m \u001b[0;34m'rw'\u001b[0m\u001b[0;34m\u001b[0m\u001b[0;34m\u001b[0m\u001b[0m\n\u001b[0;32m----> 5\u001b[0;31m \u001b[0mdf\u001b[0m \u001b[0;34m=\u001b[0m \u001b[0mgpd\u001b[0m\u001b[0;34m.\u001b[0m\u001b[0mread_file\u001b[0m\u001b[0;34m(\u001b[0m\u001b[0;34m'/Users/ahakso/Downloads/Current_City_of_Detroit_Neighborhoods.kml'\u001b[0m\u001b[0;34m,\u001b[0m \u001b[0mdriver\u001b[0m\u001b[0;34m=\u001b[0m\u001b[0;34m'KML'\u001b[0m\u001b[0;34m)\u001b[0m\u001b[0;34m\u001b[0m\u001b[0;34m\u001b[0m\u001b[0m\n\u001b[0m",
      "\u001b[0;32m~/.pyenv/versions/3.8.2/lib/python3.8/site-packages/geopandas/io/file.py\u001b[0m in \u001b[0;36m_read_file\u001b[0;34m(filename, bbox, mask, rows, **kwargs)\u001b[0m\n\u001b[1;32m    158\u001b[0m \u001b[0;34m\u001b[0m\u001b[0m\n\u001b[1;32m    159\u001b[0m     \u001b[0;32mwith\u001b[0m \u001b[0mfiona_env\u001b[0m\u001b[0;34m(\u001b[0m\u001b[0;34m)\u001b[0m\u001b[0;34m:\u001b[0m\u001b[0;34m\u001b[0m\u001b[0;34m\u001b[0m\u001b[0m\n\u001b[0;32m--> 160\u001b[0;31m         \u001b[0;32mwith\u001b[0m \u001b[0mreader\u001b[0m\u001b[0;34m(\u001b[0m\u001b[0mpath_or_bytes\u001b[0m\u001b[0;34m,\u001b[0m \u001b[0;34m**\u001b[0m\u001b[0mkwargs\u001b[0m\u001b[0;34m)\u001b[0m \u001b[0;32mas\u001b[0m \u001b[0mfeatures\u001b[0m\u001b[0;34m:\u001b[0m\u001b[0;34m\u001b[0m\u001b[0;34m\u001b[0m\u001b[0m\n\u001b[0m\u001b[1;32m    161\u001b[0m \u001b[0;34m\u001b[0m\u001b[0m\n\u001b[1;32m    162\u001b[0m             \u001b[0;31m# In a future Fiona release the crs attribute of features will\u001b[0m\u001b[0;34m\u001b[0m\u001b[0;34m\u001b[0m\u001b[0;34m\u001b[0m\u001b[0m\n",
      "\u001b[0;32m~/.pyenv/versions/3.8.2/lib/python3.8/site-packages/fiona/env.py\u001b[0m in \u001b[0;36mwrapper\u001b[0;34m(*args, **kwargs)\u001b[0m\n\u001b[1;32m    406\u001b[0m     \u001b[0;32mdef\u001b[0m \u001b[0mwrapper\u001b[0m\u001b[0;34m(\u001b[0m\u001b[0;34m*\u001b[0m\u001b[0margs\u001b[0m\u001b[0;34m,\u001b[0m \u001b[0;34m**\u001b[0m\u001b[0mkwargs\u001b[0m\u001b[0;34m)\u001b[0m\u001b[0;34m:\u001b[0m\u001b[0;34m\u001b[0m\u001b[0;34m\u001b[0m\u001b[0m\n\u001b[1;32m    407\u001b[0m         \u001b[0;32mif\u001b[0m \u001b[0mlocal\u001b[0m\u001b[0;34m.\u001b[0m\u001b[0m_env\u001b[0m\u001b[0;34m:\u001b[0m\u001b[0;34m\u001b[0m\u001b[0;34m\u001b[0m\u001b[0m\n\u001b[0;32m--> 408\u001b[0;31m             \u001b[0;32mreturn\u001b[0m \u001b[0mf\u001b[0m\u001b[0;34m(\u001b[0m\u001b[0;34m*\u001b[0m\u001b[0margs\u001b[0m\u001b[0;34m,\u001b[0m \u001b[0;34m**\u001b[0m\u001b[0mkwargs\u001b[0m\u001b[0;34m)\u001b[0m\u001b[0;34m\u001b[0m\u001b[0;34m\u001b[0m\u001b[0m\n\u001b[0m\u001b[1;32m    409\u001b[0m         \u001b[0;32melse\u001b[0m\u001b[0;34m:\u001b[0m\u001b[0;34m\u001b[0m\u001b[0;34m\u001b[0m\u001b[0m\n\u001b[1;32m    410\u001b[0m             \u001b[0;32mif\u001b[0m \u001b[0misinstance\u001b[0m\u001b[0;34m(\u001b[0m\u001b[0margs\u001b[0m\u001b[0;34m[\u001b[0m\u001b[0;36m0\u001b[0m\u001b[0;34m]\u001b[0m\u001b[0;34m,\u001b[0m \u001b[0mstr\u001b[0m\u001b[0;34m)\u001b[0m\u001b[0;34m:\u001b[0m\u001b[0;34m\u001b[0m\u001b[0;34m\u001b[0m\u001b[0m\n",
      "\u001b[0;32m~/.pyenv/versions/3.8.2/lib/python3.8/site-packages/fiona/__init__.py\u001b[0m in \u001b[0;36mopen\u001b[0;34m(fp, mode, driver, schema, crs, encoding, layer, vfs, enabled_drivers, crs_wkt, **kwargs)\u001b[0m\n\u001b[1;32m    254\u001b[0m \u001b[0;34m\u001b[0m\u001b[0m\n\u001b[1;32m    255\u001b[0m         \u001b[0;32mif\u001b[0m \u001b[0mmode\u001b[0m \u001b[0;32min\u001b[0m \u001b[0;34m(\u001b[0m\u001b[0;34m'a'\u001b[0m\u001b[0;34m,\u001b[0m \u001b[0;34m'r'\u001b[0m\u001b[0;34m)\u001b[0m\u001b[0;34m:\u001b[0m\u001b[0;34m\u001b[0m\u001b[0;34m\u001b[0m\u001b[0m\n\u001b[0;32m--> 256\u001b[0;31m             c = Collection(path, mode, driver=driver, encoding=encoding,\n\u001b[0m\u001b[1;32m    257\u001b[0m                            layer=layer, enabled_drivers=enabled_drivers, **kwargs)\n\u001b[1;32m    258\u001b[0m         \u001b[0;32melif\u001b[0m \u001b[0mmode\u001b[0m \u001b[0;34m==\u001b[0m \u001b[0;34m'w'\u001b[0m\u001b[0;34m:\u001b[0m\u001b[0;34m\u001b[0m\u001b[0;34m\u001b[0m\u001b[0m\n",
      "\u001b[0;32m~/.pyenv/versions/3.8.2/lib/python3.8/site-packages/fiona/collection.py\u001b[0m in \u001b[0;36m__init__\u001b[0;34m(self, path, mode, driver, schema, crs, encoding, layer, vsi, archive, enabled_drivers, crs_wkt, ignore_fields, ignore_geometry, **kwargs)\u001b[0m\n\u001b[1;32m    160\u001b[0m             \u001b[0;32mif\u001b[0m \u001b[0mself\u001b[0m\u001b[0;34m.\u001b[0m\u001b[0mmode\u001b[0m \u001b[0;34m==\u001b[0m \u001b[0;34m'r'\u001b[0m\u001b[0;34m:\u001b[0m\u001b[0;34m\u001b[0m\u001b[0;34m\u001b[0m\u001b[0m\n\u001b[1;32m    161\u001b[0m                 \u001b[0mself\u001b[0m\u001b[0;34m.\u001b[0m\u001b[0msession\u001b[0m \u001b[0;34m=\u001b[0m \u001b[0mSession\u001b[0m\u001b[0;34m(\u001b[0m\u001b[0;34m)\u001b[0m\u001b[0;34m\u001b[0m\u001b[0;34m\u001b[0m\u001b[0m\n\u001b[0;32m--> 162\u001b[0;31m                 \u001b[0mself\u001b[0m\u001b[0;34m.\u001b[0m\u001b[0msession\u001b[0m\u001b[0;34m.\u001b[0m\u001b[0mstart\u001b[0m\u001b[0;34m(\u001b[0m\u001b[0mself\u001b[0m\u001b[0;34m,\u001b[0m \u001b[0;34m**\u001b[0m\u001b[0mkwargs\u001b[0m\u001b[0;34m)\u001b[0m\u001b[0;34m\u001b[0m\u001b[0;34m\u001b[0m\u001b[0m\n\u001b[0m\u001b[1;32m    163\u001b[0m             \u001b[0;32melif\u001b[0m \u001b[0mself\u001b[0m\u001b[0;34m.\u001b[0m\u001b[0mmode\u001b[0m \u001b[0;32min\u001b[0m \u001b[0;34m(\u001b[0m\u001b[0;34m'a'\u001b[0m\u001b[0;34m,\u001b[0m \u001b[0;34m'w'\u001b[0m\u001b[0;34m)\u001b[0m\u001b[0;34m:\u001b[0m\u001b[0;34m\u001b[0m\u001b[0;34m\u001b[0m\u001b[0m\n\u001b[1;32m    164\u001b[0m                 \u001b[0mself\u001b[0m\u001b[0;34m.\u001b[0m\u001b[0msession\u001b[0m \u001b[0;34m=\u001b[0m \u001b[0mWritingSession\u001b[0m\u001b[0;34m(\u001b[0m\u001b[0;34m)\u001b[0m\u001b[0;34m\u001b[0m\u001b[0;34m\u001b[0m\u001b[0m\n",
      "\u001b[0;32mfiona/ogrext.pyx\u001b[0m in \u001b[0;36mfiona.ogrext.Session.start\u001b[0;34m()\u001b[0m\n",
      "\u001b[0;32mfiona/_shim.pyx\u001b[0m in \u001b[0;36mfiona._shim.gdal_open_vector\u001b[0;34m()\u001b[0m\n",
      "\u001b[0;31mDriverError\u001b[0m: /Users/ahakso/Downloads/Current_City_of_Detroit_Neighborhoods.kml: No such file or directory"
     ]
    }
   ],
   "source": [
    "import geopandas as gpd\n",
    "import fiona\n",
    "\n",
    "gpd.io.file.fiona.drvsupport.supported_drivers['KML'] = 'rw'\n",
    "df = gpd.read_file('/Users/ahakso/Downloads/Current_City_of_Detroit_Neighborhoods.kml', driver='KML')\n"
   ]
  },
  {
   "cell_type": "code",
   "execution_count": 38,
   "metadata": {
    "ExecuteTime": {
     "end_time": "2021-06-24T23:24:39.951482Z",
     "start_time": "2021-06-24T23:24:39.918025Z"
    }
   },
   "outputs": [],
   "source": [
    "from fastkml import kml\n",
    "kml_file = '/Users/ahakso/Downloads/Current_City_of_Detroit_Neighborhoods.kml'\n",
    "with open(kml_file,'rb') as f:\n",
    "    doc = f.read()\n"
   ]
  },
  {
   "cell_type": "code",
   "execution_count": 40,
   "metadata": {
    "ExecuteTime": {
     "end_time": "2021-06-24T23:24:43.729514Z",
     "start_time": "2021-06-24T23:24:43.612995Z"
    }
   },
   "outputs": [],
   "source": [
    "k = kml.KML()\n",
    "k.from_string(doc)"
   ]
  },
  {
   "cell_type": "code",
   "execution_count": 59,
   "metadata": {
    "ExecuteTime": {
     "end_time": "2021-06-24T23:28:11.847335Z",
     "start_time": "2021-06-24T23:28:11.817596Z"
    }
   },
   "outputs": [
    {
     "name": "stdout",
     "output_type": "stream",
     "text": [
      "<kml:Placemark xmlns:kml=\"http://www.opengis.net/kml/2.2\">\n",
      "  <kml:visibility>1</kml:visibility>\n",
      "  <kml:Style>\n",
      "    <kml:LineStyle>\n",
      "      <kml:color>ff0000ff</kml:color>\n",
      "      <kml:width>1</kml:width>\n",
      "    </kml:LineStyle>\n",
      "    <kml:PolyStyle>\n",
      "      <kml:fill>0</kml:fill>\n",
      "      <kml:outline>1</kml:outline>\n",
      "    </kml:PolyStyle>\n",
      "  </kml:Style>\n",
      "  <kml:ExtendedData>\n",
      "    <kml:SchemaData schemaUrl=\"#Current_City_of_Detroit_Neighborhoods\">\n",
      "      <kml:SimpleData name=\"OBJECTID\">1</kml:SimpleData>\n",
      "      <kml:SimpleData name=\"council_district\">4</kml:SimpleData>\n",
      "      <kml:SimpleData name=\"nhood_num\">103</kml:SimpleData>\n",
      "      <kml:SimpleData name=\"nhood_name\">West End</kml:SimpleData>\n",
      "      <kml:SimpleData name=\"Website\">https://theneighborhoods.org/neighborhoods/west-end</kml:SimpleData>\n",
      "    </kml:SchemaData>\n",
      "  </kml:ExtendedData>\n",
      "  <kml:Polygon>\n",
      "    <kml:outerBoundaryIs>\n",
      "      <kml:LinearRing>\n",
      "        <kml:coordinates>-82.991525,42.384390 -82.992494,42.384003 -82.989581,42.379873 -82.986532,42.375528 -82.986538,42.375525 -82.987677,42.375001 -82.988773,42.374499 -82.989742,42.374056 -82.990846,42.373552 -82.991944,42.373049 -82.993868,42.372166 -82.994114,42.372049 -82.995858,42.374502 -82.996664,42.375647 -82.997760,42.377205 -82.998834,42.378730 -83.000340,42.380869 -83.002040,42.383286 -83.002999,42.384649 -83.003954,42.386009 -83.005446,42.388126 -83.006730,42.389948 -83.007076,42.390325 -83.007085,42.390327 -83.006756,42.390825 -83.006701,42.390907 -83.006401,42.391293 -83.006310,42.391410 -83.006045,42.391470 -83.003448,42.391906 -83.003255,42.391930 -83.002754,42.391990 -83.002680,42.391999 -83.001854,42.392053 -83.001300,42.392086 -83.000506,42.392111 -82.999530,42.392101 -82.998287,42.392095 -82.997960,42.392094 -82.997480,42.392105 -82.997097,42.392126 -82.996619,42.392167 -82.996227,42.392211 -82.995843,42.392269 -82.995385,42.392345 -82.994893,42.392448 -82.994504,42.392544 -82.994011,42.392682 -82.993712,42.392777 -82.993176,42.392965 -82.992666,42.393167 -82.992277,42.393330 -82.991894,42.393529 -82.991569,42.393707 -82.991497,42.393747 -82.991103,42.393990 -82.990885,42.394132 -82.990786,42.394202 -82.990368,42.394497 -82.989849,42.394915 -82.989310,42.395303 -82.988835,42.394901 -82.988350,42.394167 -82.986327,42.391068 -82.985793,42.390244 -82.984293,42.387956 -82.983955,42.387422 -82.983850,42.387266 -82.981120,42.383107 -82.980419,42.382028 -82.980195,42.381683 -82.978917,42.379726 -82.978806,42.379488 -82.978638,42.379249 -82.978571,42.379145 -82.978751,42.379054 -82.979214,42.378849 -82.979769,42.378612 -82.980423,42.378334 -82.980852,42.378138 -82.981731,42.377737 -82.982812,42.377241 -82.982923,42.377190 -82.983773,42.376798 -82.985027,42.378597 -82.986696,42.380991 -82.989598,42.385155 -82.990564,42.384774 -82.991525,42.384390</kml:coordinates>\n",
      "      </kml:LinearRing>\n",
      "    </kml:outerBoundaryIs>\n",
      "  </kml:Polygon>\n",
      "</kml:Placemark>\n",
      "\n"
     ]
    }
   ],
   "source": [
    "print(list(list(list(k.features())[0].features())[0].features())[0].to_string())"
   ]
  },
  {
   "cell_type": "code",
   "execution_count": 87,
   "metadata": {
    "ExecuteTime": {
     "end_time": "2021-06-24T23:35:00.823059Z",
     "start_time": "2021-06-24T23:35:00.796276Z"
    }
   },
   "outputs": [
    {
     "name": "stdout",
     "output_type": "stream",
     "text": [
      "<kml:ExtendedData xmlns:kml=\"http://www.opengis.net/kml/2.2\">\n",
      "  <kml:SchemaData schemaUrl=\"#Current_City_of_Detroit_Neighborhoods\">\n",
      "    <kml:SimpleData name=\"OBJECTID\">1</kml:SimpleData>\n",
      "    <kml:SimpleData name=\"council_district\">4</kml:SimpleData>\n",
      "    <kml:SimpleData name=\"nhood_num\">103</kml:SimpleData>\n",
      "    <kml:SimpleData name=\"nhood_name\">West End</kml:SimpleData>\n",
      "    <kml:SimpleData name=\"Website\">https://theneighborhoods.org/neighborhoods/west-end</kml:SimpleData>\n",
      "  </kml:SchemaData>\n",
      "</kml:ExtendedData>\n",
      "\n",
      "None\n"
     ]
    }
   ],
   "source": [
    "pmark = list(list(list(k.features())[0].features())[0].features())[0]\n",
    "print(pmark.extended_data.to_string())\n",
    "# dir(pmark.extended_data)\n",
    "print(pmark.extended_data.etree_element())"
   ]
  },
  {
   "cell_type": "code",
   "execution_count": 91,
   "metadata": {
    "ExecuteTime": {
     "end_time": "2021-06-24T23:35:35.258592Z",
     "start_time": "2021-06-24T23:35:35.219994Z"
    }
   },
   "outputs": [],
   "source": [
    "pmark.description"
   ]
  },
  {
   "cell_type": "code",
   "execution_count": 24,
   "metadata": {
    "ExecuteTime": {
     "end_time": "2021-06-24T23:17:15.460097Z",
     "start_time": "2021-06-24T23:17:15.414697Z"
    }
   },
   "outputs": [
    {
     "data": {
      "text/plain": [
       "['DDOT_Bus_Stops']"
      ]
     },
     "execution_count": 24,
     "metadata": {},
     "output_type": "execute_result"
    }
   ],
   "source": [
    "fiona.listlayers(fns[0])"
   ]
  },
  {
   "cell_type": "code",
   "execution_count": 92,
   "metadata": {
    "ExecuteTime": {
     "end_time": "2021-06-24T23:37:10.492103Z",
     "start_time": "2021-06-24T23:37:10.318707Z"
    }
   },
   "outputs": [
    {
     "data": {
      "text/html": [
       "<div>\n",
       "<style scoped>\n",
       "    .dataframe tbody tr th:only-of-type {\n",
       "        vertical-align: middle;\n",
       "    }\n",
       "\n",
       "    .dataframe tbody tr th {\n",
       "        vertical-align: top;\n",
       "    }\n",
       "\n",
       "    .dataframe thead th {\n",
       "        text-align: right;\n",
       "    }\n",
       "</style>\n",
       "<table border=\"1\" class=\"dataframe\">\n",
       "  <thead>\n",
       "    <tr style=\"text-align: right;\">\n",
       "      <th></th>\n",
       "      <th>Name</th>\n",
       "      <th>Description</th>\n",
       "      <th>geometry</th>\n",
       "    </tr>\n",
       "  </thead>\n",
       "  <tbody>\n",
       "    <tr>\n",
       "      <th>0</th>\n",
       "      <td></td>\n",
       "      <td></td>\n",
       "      <td>POLYGON ((-82.99152 42.38439, -82.99249 42.384...</td>\n",
       "    </tr>\n",
       "    <tr>\n",
       "      <th>1</th>\n",
       "      <td></td>\n",
       "      <td></td>\n",
       "      <td>POLYGON ((-82.97585 42.38933, -82.97603 42.389...</td>\n",
       "    </tr>\n",
       "    <tr>\n",
       "      <th>2</th>\n",
       "      <td></td>\n",
       "      <td></td>\n",
       "      <td>POLYGON ((-82.96784 42.38369, -82.96783 42.383...</td>\n",
       "    </tr>\n",
       "    <tr>\n",
       "      <th>3</th>\n",
       "      <td></td>\n",
       "      <td></td>\n",
       "      <td>POLYGON ((-82.95141 42.35503, -82.95292 42.354...</td>\n",
       "    </tr>\n",
       "    <tr>\n",
       "      <th>4</th>\n",
       "      <td></td>\n",
       "      <td></td>\n",
       "      <td>POLYGON ((-83.25748 42.41460, -83.25729 42.411...</td>\n",
       "    </tr>\n",
       "    <tr>\n",
       "      <th>...</th>\n",
       "      <td>...</td>\n",
       "      <td>...</td>\n",
       "      <td>...</td>\n",
       "    </tr>\n",
       "    <tr>\n",
       "      <th>201</th>\n",
       "      <td></td>\n",
       "      <td></td>\n",
       "      <td>POLYGON ((-83.16131 42.44091, -83.16889 42.440...</td>\n",
       "    </tr>\n",
       "    <tr>\n",
       "      <th>202</th>\n",
       "      <td></td>\n",
       "      <td></td>\n",
       "      <td>POLYGON ((-83.16121 42.43851, -83.16015 42.438...</td>\n",
       "    </tr>\n",
       "    <tr>\n",
       "      <th>203</th>\n",
       "      <td></td>\n",
       "      <td></td>\n",
       "      <td>POLYGON ((-83.16498 42.40962, -83.16538 42.409...</td>\n",
       "    </tr>\n",
       "    <tr>\n",
       "      <th>204</th>\n",
       "      <td></td>\n",
       "      <td></td>\n",
       "      <td>POLYGON ((-83.16498 42.40962, -83.16361 42.408...</td>\n",
       "    </tr>\n",
       "    <tr>\n",
       "      <th>205</th>\n",
       "      <td></td>\n",
       "      <td></td>\n",
       "      <td>POLYGON ((-82.94769 42.38730, -82.94769 42.387...</td>\n",
       "    </tr>\n",
       "  </tbody>\n",
       "</table>\n",
       "<p>206 rows × 3 columns</p>\n",
       "</div>"
      ],
      "text/plain": [
       "    Name Description                                           geometry\n",
       "0                     POLYGON ((-82.99152 42.38439, -82.99249 42.384...\n",
       "1                     POLYGON ((-82.97585 42.38933, -82.97603 42.389...\n",
       "2                     POLYGON ((-82.96784 42.38369, -82.96783 42.383...\n",
       "3                     POLYGON ((-82.95141 42.35503, -82.95292 42.354...\n",
       "4                     POLYGON ((-83.25748 42.41460, -83.25729 42.411...\n",
       "..   ...         ...                                                ...\n",
       "201                   POLYGON ((-83.16131 42.44091, -83.16889 42.440...\n",
       "202                   POLYGON ((-83.16121 42.43851, -83.16015 42.438...\n",
       "203                   POLYGON ((-83.16498 42.40962, -83.16538 42.409...\n",
       "204                   POLYGON ((-83.16498 42.40962, -83.16361 42.408...\n",
       "205                   POLYGON ((-82.94769 42.38730, -82.94769 42.387...\n",
       "\n",
       "[206 rows x 3 columns]"
      ]
     },
     "execution_count": 92,
     "metadata": {},
     "output_type": "execute_result"
    }
   ],
   "source": [
    "df"
   ]
  }
 ],
 "metadata": {
  "kernelspec": {
   "display_name": "Python 3",
   "language": "python",
   "name": "python3"
  },
  "language_info": {
   "codemirror_mode": {
    "name": "ipython",
    "version": 3
   },
   "file_extension": ".py",
   "mimetype": "text/x-python",
   "name": "python",
   "nbconvert_exporter": "python",
   "pygments_lexer": "ipython3",
   "version": "3.8.2"
  },
  "toc": {
   "base_numbering": 1,
   "nav_menu": {},
   "number_sections": true,
   "sideBar": true,
   "skip_h1_title": false,
   "title_cell": "Table of Contents",
   "title_sidebar": "Contents",
   "toc_cell": false,
   "toc_position": {},
   "toc_section_display": true,
   "toc_window_display": false
  },
  "varInspector": {
   "cols": {
    "lenName": 16,
    "lenType": 16,
    "lenVar": 40
   },
   "kernels_config": {
    "python": {
     "delete_cmd_postfix": "",
     "delete_cmd_prefix": "del ",
     "library": "var_list.py",
     "varRefreshCmd": "print(var_dic_list())"
    },
    "r": {
     "delete_cmd_postfix": ") ",
     "delete_cmd_prefix": "rm(",
     "library": "var_list.r",
     "varRefreshCmd": "cat(var_dic_list()) "
    }
   },
   "types_to_exclude": [
    "module",
    "function",
    "builtin_function_or_method",
    "instance",
    "_Feature"
   ],
   "window_display": false
  }
 },
 "nbformat": 4,
 "nbformat_minor": 4
}
