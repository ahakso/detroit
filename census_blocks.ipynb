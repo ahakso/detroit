{
 "cells": [
  {
   "cell_type": "markdown",
   "id": "a966eefd",
   "metadata": {},
   "source": [
    "# Exploring census blocks & joining to 911 data\n",
    "911 calls file is [here](https://app.box.com/file/911911135646), and was provided manually by Jimmy McBroom, a data engineer for the city. In theory, you should be able to get it from [the open data portal](https://data.detroitmi.gov/datasets/911-calls-for-service/explore)\n",
    "\n",
    "2010 census blocks can be downloaded [from the census bureau](https://www.census.gov/cgi-bin/geo/shapefiles/index.php?year=2010&layergroup=Blocks) or from [box](https://bloombergdotorg.box.com/s/pzaf2y8u6xmw1rgg8tr4hf7270y3q0rj). This is what detroit uses. It's in Wayne county, so that's all you need to download (its county code is 163).  \n",
    "Wayne county shares a northern and largely an eastern border with Detroit, and extends further south and west"
   ]
  },
  {
   "cell_type": "markdown",
   "id": "773a2983",
   "metadata": {},
   "source": [
    "## General Census block notes\n",
    "These are hierarchical, and pretty granular in populated areas.\n",
    "\n",
    "The hierarchy looks like this, where each X is and integer: \n",
    "XX|XXX|XXXXXX|XXXX\n",
    "\n",
    "To avoid counting Xs, the lengths are: \n",
    "2|3|6|4\n",
    "\n",
    "With meanings: \n",
    "State | county | tract | block\n",
    "\n",
    "## 911 calls and census blocks\n",
    "The block is given by the column block_id with len(block_id)==15\n",
    "\n",
    "The calls dataset does have null block ids (~3% in the small sample I checked). For each of them, it does have a lat/long, so we can probably figure it out\n",
    "\n",
    "## Census block shp files\n",
    "Block is given by the column GEOID10. Very well behaved\n",
    "\n",
    "## Join notes\n",
    "In the small sample I tested, the strong majority of these join correctly. like 3% do not due to mising a block ID, and < 1% are in adjacent counties (which we could pull in if we really wanted to)\n",
    "\n",
    "\n",
    "## Other data with census blocks\n",
    "Tons of datasets by block through the census [here](https://data.census.gov/cedsci/table?q=United%20States&g=0500000US26163%241000000)\n",
    "This includes \n",
    "* population in occupied units by block. (search `DECENNIALSF12010.H10_data_with_overlays_2022-01-28T162836`)\n",
    "* Population in various types of households (`DECENNIALSF12010.P30_data_with_overlays_2022-01-28T162836`)\n"
   ]
  },
  {
   "cell_type": "code",
   "execution_count": 13,
   "id": "e204af22",
   "metadata": {
    "ExecuteTime": {
     "end_time": "2022-01-28T19:00:26.860107Z",
     "start_time": "2022-01-28T19:00:26.837788Z"
    }
   },
   "outputs": [],
   "source": [
    "import geopandas as gpd\n",
    "from util_detroit import kml_to_gpd, csv_with_x_y_to_gpd\n",
    "\n",
    "# Only read in the columns we want\n",
    "COLS_911 = [\n",
    "    \"calldescription\",\n",
    "    \"call_timestamp\",\n",
    "    \"block_id\",\n",
    "    \"category\",\n",
    "    \"officerinitiated\",\n",
    "    \"priority\",\n",
    "    \"oid\",\n",
    "]"
   ]
  },
  {
   "cell_type": "code",
   "execution_count": 151,
   "id": "5b325fcb",
   "metadata": {
    "ExecuteTime": {
     "end_time": "2022-01-28T21:42:31.054002Z",
     "start_time": "2022-01-28T21:42:27.390134Z"
    }
   },
   "outputs": [
    {
     "data": {
      "text/html": [
       "<div>\n",
       "<style scoped>\n",
       "    .dataframe tbody tr th:only-of-type {\n",
       "        vertical-align: middle;\n",
       "    }\n",
       "\n",
       "    .dataframe tbody tr th {\n",
       "        vertical-align: top;\n",
       "    }\n",
       "\n",
       "    .dataframe thead th {\n",
       "        text-align: right;\n",
       "    }\n",
       "</style>\n",
       "<table border=\"1\" class=\"dataframe\">\n",
       "  <thead>\n",
       "    <tr style=\"text-align: right;\">\n",
       "      <th></th>\n",
       "      <th>STATEFP10</th>\n",
       "      <th>COUNTYFP10</th>\n",
       "      <th>TRACTCE10</th>\n",
       "      <th>BLOCKCE10</th>\n",
       "      <th>block_id</th>\n",
       "      <th>NAME10</th>\n",
       "      <th>MTFCC10</th>\n",
       "      <th>UR10</th>\n",
       "      <th>UACE10</th>\n",
       "      <th>UATYP10</th>\n",
       "      <th>FUNCSTAT10</th>\n",
       "      <th>ALAND10</th>\n",
       "      <th>AWATER10</th>\n",
       "      <th>INTPTLAT10</th>\n",
       "      <th>INTPTLON10</th>\n",
       "      <th>geometry</th>\n",
       "    </tr>\n",
       "  </thead>\n",
       "  <tbody>\n",
       "    <tr>\n",
       "      <th>0</th>\n",
       "      <td>26</td>\n",
       "      <td>163</td>\n",
       "      <td>503200</td>\n",
       "      <td>3010</td>\n",
       "      <td>261635032003010</td>\n",
       "      <td>Block 3010</td>\n",
       "      <td>G5040</td>\n",
       "      <td>U</td>\n",
       "      <td>23824</td>\n",
       "      <td>U</td>\n",
       "      <td>S</td>\n",
       "      <td>6142</td>\n",
       "      <td>0</td>\n",
       "      <td>+42.4467288</td>\n",
       "      <td>-083.0047134</td>\n",
       "      <td>POLYGON ((-83.00482 42.44610, -83.00500 42.446...</td>\n",
       "    </tr>\n",
       "    <tr>\n",
       "      <th>1</th>\n",
       "      <td>26</td>\n",
       "      <td>163</td>\n",
       "      <td>503200</td>\n",
       "      <td>2007</td>\n",
       "      <td>261635032002007</td>\n",
       "      <td>Block 2007</td>\n",
       "      <td>G5040</td>\n",
       "      <td>U</td>\n",
       "      <td>23824</td>\n",
       "      <td>U</td>\n",
       "      <td>S</td>\n",
       "      <td>20130</td>\n",
       "      <td>0</td>\n",
       "      <td>+42.4444119</td>\n",
       "      <td>-083.0044517</td>\n",
       "      <td>POLYGON ((-83.00380 42.44354, -83.00503 42.443...</td>\n",
       "    </tr>\n",
       "  </tbody>\n",
       "</table>\n",
       "</div>"
      ],
      "text/plain": [
       "  STATEFP10 COUNTYFP10 TRACTCE10 BLOCKCE10         block_id      NAME10  \\\n",
       "0        26        163    503200      3010  261635032003010  Block 3010   \n",
       "1        26        163    503200      2007  261635032002007  Block 2007   \n",
       "\n",
       "  MTFCC10 UR10 UACE10 UATYP10 FUNCSTAT10  ALAND10  AWATER10   INTPTLAT10  \\\n",
       "0   G5040    U  23824       U          S     6142         0  +42.4467288   \n",
       "1   G5040    U  23824       U          S    20130         0  +42.4444119   \n",
       "\n",
       "     INTPTLON10                                           geometry  \n",
       "0  -083.0047134  POLYGON ((-83.00482 42.44610, -83.00500 42.446...  \n",
       "1  -083.0044517  POLYGON ((-83.00380 42.44354, -83.00503 42.443...  "
      ]
     },
     "metadata": {},
     "output_type": "display_data"
    },
    {
     "data": {
      "text/html": [
       "<div>\n",
       "<style scoped>\n",
       "    .dataframe tbody tr th:only-of-type {\n",
       "        vertical-align: middle;\n",
       "    }\n",
       "\n",
       "    .dataframe tbody tr th {\n",
       "        vertical-align: top;\n",
       "    }\n",
       "\n",
       "    .dataframe thead th {\n",
       "        text-align: right;\n",
       "    }\n",
       "</style>\n",
       "<table border=\"1\" class=\"dataframe\">\n",
       "  <thead>\n",
       "    <tr style=\"text-align: right;\">\n",
       "      <th></th>\n",
       "      <th>calldescription</th>\n",
       "      <th>call_timestamp</th>\n",
       "      <th>block_id</th>\n",
       "      <th>category</th>\n",
       "      <th>officerinitiated</th>\n",
       "      <th>priority</th>\n",
       "      <th>oid</th>\n",
       "      <th>geometry</th>\n",
       "    </tr>\n",
       "  </thead>\n",
       "  <tbody>\n",
       "    <tr>\n",
       "      <th>0</th>\n",
       "      <td>TRAFFIC STOP</td>\n",
       "      <td>2020-06-25 14:40:55</td>\n",
       "      <td>261635318001003</td>\n",
       "      <td>TRF STOP</td>\n",
       "      <td>Yes</td>\n",
       "      <td>2</td>\n",
       "      <td>3079296</td>\n",
       "      <td>POINT (42.38711 -83.11380)</td>\n",
       "    </tr>\n",
       "    <tr>\n",
       "      <th>1</th>\n",
       "      <td>START OF SHIFT INFORMATION</td>\n",
       "      <td>2020-06-25 14:41:21</td>\n",
       "      <td>261635339003014</td>\n",
       "      <td>STRTSHFT</td>\n",
       "      <td>Yes</td>\n",
       "      <td>3</td>\n",
       "      <td>3079297</td>\n",
       "      <td>POINT (42.36731 -83.08152)</td>\n",
       "    </tr>\n",
       "  </tbody>\n",
       "</table>\n",
       "</div>"
      ],
      "text/plain": [
       "              calldescription      call_timestamp         block_id  category  \\\n",
       "0                TRAFFIC STOP 2020-06-25 14:40:55  261635318001003  TRF STOP   \n",
       "1  START OF SHIFT INFORMATION 2020-06-25 14:41:21  261635339003014  STRTSHFT   \n",
       "\n",
       "  officerinitiated  priority      oid                    geometry  \n",
       "0              Yes         2  3079296  POINT (42.38711 -83.11380)  \n",
       "1              Yes         3  3079297  POINT (42.36731 -83.08152)  "
      ]
     },
     "execution_count": 151,
     "metadata": {},
     "output_type": "execute_result"
    }
   ],
   "source": [
    "call = (\n",
    "    csv_with_x_y_to_gpd(\n",
    "        \"calls_for_service_from_jimmy.csv\",\n",
    "        read_csv_args={\"nrows\": 1000, \"usecols\": COLS_911 + [\"longitude\", \"latitude\"]},\n",
    "    )\n",
    "#     want to use ints, but default type does not handle nulls. May factorize later\n",
    "    .astype({\"call_timestamp\": \"datetime64\", \"block_id\": pd.Int64Dtype()})\n",
    "    .loc[:, COLS_911 + [\"geometry\"]]\n",
    ")\n",
    "\n",
    "block = (\n",
    "    gpd.read_file(\"/Users/ahakso/Downloads/wayne_county_census_blocks/tl_2010_26163_tabblock10.shp\")\n",
    "#     full block id is concatenation of geoid and name. Remove optional `.` delimiter\n",
    "    .rename(columns={'GEOID10':'block_id'})\n",
    "#     Can't go to Int64Dtype from string, convert to int first\n",
    "    .astype({\"block_id\": int})\n",
    "#     Use type consistent with that used for 911 calls\n",
    "    .astype({\"block_id\": pd.Int64Dtype()})\n",
    ")\n",
    "\n",
    "display(block.head(2))\n",
    "call.head(2)"
   ]
  },
  {
   "cell_type": "code",
   "execution_count": 176,
   "id": "3b8c6dde",
   "metadata": {
    "ExecuteTime": {
     "end_time": "2022-01-28T21:50:05.296449Z",
     "start_time": "2022-01-28T21:50:05.260341Z"
    }
   },
   "outputs": [
    {
     "name": "stdout",
     "output_type": "stream",
     "text": [
      "proportion unmatched: 0.0403\n",
      "proportion unmatched: 0.0060\n"
     ]
    }
   ],
   "source": [
    "null_count = call.block_id.isna().sum()\n",
    "print(f\"proportion unmatched: {((~call.block_id.isin(block.block_id)).sum())/(call.shape[0]-null_count):.4f}\")\n",
    "print(f\"proportion unmatched: {((~call.block_id.isin(block.block_id)).sum()-null_count)/call.shape[0]:.4f}\")"
   ]
  }
 ],
 "metadata": {
  "kernelspec": {
   "display_name": "detroit",
   "language": "python",
   "name": "detroit"
  },
  "language_info": {
   "codemirror_mode": {
    "name": "ipython",
    "version": 3
   },
   "file_extension": ".py",
   "mimetype": "text/x-python",
   "name": "python",
   "nbconvert_exporter": "python",
   "pygments_lexer": "ipython3",
   "version": "3.8.2"
  },
  "toc": {
   "base_numbering": 1,
   "nav_menu": {},
   "number_sections": true,
   "sideBar": true,
   "skip_h1_title": false,
   "title_cell": "Table of Contents",
   "title_sidebar": "Contents",
   "toc_cell": false,
   "toc_position": {},
   "toc_section_display": true,
   "toc_window_display": false
  },
  "varInspector": {
   "cols": {
    "lenName": 16,
    "lenType": 16,
    "lenVar": 40
   },
   "kernels_config": {
    "python": {
     "delete_cmd_postfix": "",
     "delete_cmd_prefix": "del ",
     "library": "var_list.py",
     "varRefreshCmd": "print(var_dic_list())"
    },
    "r": {
     "delete_cmd_postfix": ") ",
     "delete_cmd_prefix": "rm(",
     "library": "var_list.r",
     "varRefreshCmd": "cat(var_dic_list()) "
    }
   },
   "types_to_exclude": [
    "module",
    "function",
    "builtin_function_or_method",
    "instance",
    "_Feature"
   ],
   "window_display": false
  }
 },
 "nbformat": 4,
 "nbformat_minor": 5
}
