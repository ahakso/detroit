{
 "cells": [
  {
   "cell_type": "markdown",
   "id": "86326869",
   "metadata": {},
   "source": [
    "# Exploring census blocks & joining to 911 data\n",
    "911 calls file is [here](https://app.box.com/file/911911135646), and was provided manually by Jimmy McBroom, a data engineer for the city. In theory, you should be able to get it from [the open data portal](https://data.detroitmi.gov/datasets/911-calls-for-service/explore)\n",
    "\n",
    "2010 census blocks can be downloaded [from the census bureau](https://www.census.gov/cgi-bin/geo/shapefiles/index.php?year=2010&layergroup=Blocks) or from [box](https://bloombergdotorg.box.com/s/pzaf2y8u6xmw1rgg8tr4hf7270y3q0rj). This is what detroit uses. It's in Wayne county, so that's all you need to download (its county code is 163).  \n",
    "Wayne county shares a northern and largely an eastern border with Detroit, and extends further south and west\n",
    "\n",
    "## General Census block notes\n",
    "These are hierarchical, and pretty granular in populated areas.\n",
    "\n",
    "The hierarchy looks like this, where each X is and integer: \n",
    "XX|XXX|XXXXXX|XXXX\n",
    "\n",
    "To avoid counting Xs, the lengths are: \n",
    "2|3|6|4\n",
    "\n",
    "With meanings: \n",
    "State | county | tract | block\n",
    "\n",
    "## 911 calls and census blocks\n",
    "The block is given by the column block_id with len(block_id)==15\n",
    "\n",
    "The calls dataset does have null block ids (~3% in the small sample I checked). For each of them, it does have a lat/long, so we can probably figure it out\n",
    "\n",
    "## Census block shp files\n",
    "Block is given by the column GEOID10. Very well behaved\n",
    "\n",
    "## Join notes\n",
    "In the small sample I tested, the strong majority of these join correctly. like 3% do not due to mising a block ID, and < 1% are in adjacent counties (which we could pull in if we really wanted to)\n",
    "\n",
    "\n",
    "## Other data with census blocks\n",
    "Tons of datasets by block through the census [here](https://data.census.gov/cedsci/table?q=United%20States&g=0500000US26163%241000000)\n",
    "This includes \n",
    "* population in occupied units by block. (search `DECENNIALSF12010.H10_data_with_overlays_2022-01-28T162836`)\n",
    "* Population in various types of households (`DECENNIALSF12010.P30_data_with_overlays_2022-01-28T162836`)\n"
   ]
  },
  {
   "cell_type": "code",
   "execution_count": 52,
   "id": "2e39feb8",
   "metadata": {
    "ExecuteTime": {
     "end_time": "2022-01-29T18:56:54.431219Z",
     "start_time": "2022-01-29T18:56:54.410014Z"
    }
   },
   "outputs": [],
   "source": [
    "import geopandas as gpd\n",
    "from util_detroit import kml_to_gpd, csv_with_x_y_to_gpd\n",
    "\n",
    "# Only read in the columns we want\n",
    "COLS_911 = [\n",
    "    \"calldescription\",\n",
    "    \"call_timestamp\",\n",
    "    \"block_id\",\n",
    "    \"category\",\n",
    "    \"officerinitiated\",\n",
    "    \"priority\",\n",
    "    \"oid\",\n",
    "    \"longitude\",\n",
    "    \"latitude\"\n",
    "]"
   ]
  },
  {
   "cell_type": "code",
   "execution_count": 53,
   "id": "238107d6",
   "metadata": {
    "ExecuteTime": {
     "end_time": "2022-01-29T18:57:01.473097Z",
     "start_time": "2022-01-29T18:56:56.770762Z"
    }
   },
   "outputs": [
    {
     "data": {
      "text/html": [
       "<div>\n",
       "<style scoped>\n",
       "    .dataframe tbody tr th:only-of-type {\n",
       "        vertical-align: middle;\n",
       "    }\n",
       "\n",
       "    .dataframe tbody tr th {\n",
       "        vertical-align: top;\n",
       "    }\n",
       "\n",
       "    .dataframe thead th {\n",
       "        text-align: right;\n",
       "    }\n",
       "</style>\n",
       "<table border=\"1\" class=\"dataframe\">\n",
       "  <thead>\n",
       "    <tr style=\"text-align: right;\">\n",
       "      <th></th>\n",
       "      <th>block_id</th>\n",
       "      <th>geometry</th>\n",
       "    </tr>\n",
       "  </thead>\n",
       "  <tbody>\n",
       "    <tr>\n",
       "      <th>0</th>\n",
       "      <td>261635032003010</td>\n",
       "      <td>POLYGON ((-83.00482 42.44610, -83.00500 42.446...</td>\n",
       "    </tr>\n",
       "    <tr>\n",
       "      <th>1</th>\n",
       "      <td>261635032002007</td>\n",
       "      <td>POLYGON ((-83.00380 42.44354, -83.00503 42.443...</td>\n",
       "    </tr>\n",
       "  </tbody>\n",
       "</table>\n",
       "</div>"
      ],
      "text/plain": [
       "          block_id                                           geometry\n",
       "0  261635032003010  POLYGON ((-83.00482 42.44610, -83.00500 42.446...\n",
       "1  261635032002007  POLYGON ((-83.00380 42.44354, -83.00503 42.443..."
      ]
     },
     "metadata": {},
     "output_type": "display_data"
    },
    {
     "data": {
      "text/html": [
       "<div>\n",
       "<style scoped>\n",
       "    .dataframe tbody tr th:only-of-type {\n",
       "        vertical-align: middle;\n",
       "    }\n",
       "\n",
       "    .dataframe tbody tr th {\n",
       "        vertical-align: top;\n",
       "    }\n",
       "\n",
       "    .dataframe thead th {\n",
       "        text-align: right;\n",
       "    }\n",
       "</style>\n",
       "<table border=\"1\" class=\"dataframe\">\n",
       "  <thead>\n",
       "    <tr style=\"text-align: right;\">\n",
       "      <th></th>\n",
       "      <th>calldescription</th>\n",
       "      <th>call_timestamp</th>\n",
       "      <th>block_id</th>\n",
       "      <th>category</th>\n",
       "      <th>officerinitiated</th>\n",
       "      <th>priority</th>\n",
       "      <th>oid</th>\n",
       "      <th>longitude</th>\n",
       "      <th>latitude</th>\n",
       "      <th>geometry</th>\n",
       "    </tr>\n",
       "  </thead>\n",
       "  <tbody>\n",
       "    <tr>\n",
       "      <th>0</th>\n",
       "      <td>TRAFFIC STOP</td>\n",
       "      <td>2020-06-25 14:40:55</td>\n",
       "      <td>261635318001003</td>\n",
       "      <td>TRF STOP</td>\n",
       "      <td>Yes</td>\n",
       "      <td>2</td>\n",
       "      <td>3079296</td>\n",
       "      <td>-83.113801</td>\n",
       "      <td>42.387110</td>\n",
       "      <td>POINT (-83.11380 42.38711)</td>\n",
       "    </tr>\n",
       "    <tr>\n",
       "      <th>1</th>\n",
       "      <td>START OF SHIFT INFORMATION</td>\n",
       "      <td>2020-06-25 14:41:21</td>\n",
       "      <td>261635339003014</td>\n",
       "      <td>STRTSHFT</td>\n",
       "      <td>Yes</td>\n",
       "      <td>3</td>\n",
       "      <td>3079297</td>\n",
       "      <td>-83.081518</td>\n",
       "      <td>42.367313</td>\n",
       "      <td>POINT (-83.08152 42.36731)</td>\n",
       "    </tr>\n",
       "  </tbody>\n",
       "</table>\n",
       "</div>"
      ],
      "text/plain": [
       "              calldescription      call_timestamp         block_id  category  \\\n",
       "0                TRAFFIC STOP 2020-06-25 14:40:55  261635318001003  TRF STOP   \n",
       "1  START OF SHIFT INFORMATION 2020-06-25 14:41:21  261635339003014  STRTSHFT   \n",
       "\n",
       "  officerinitiated priority      oid  longitude   latitude  \\\n",
       "0              Yes        2  3079296 -83.113801  42.387110   \n",
       "1              Yes        3  3079297 -83.081518  42.367313   \n",
       "\n",
       "                     geometry  \n",
       "0  POINT (-83.11380 42.38711)  \n",
       "1  POINT (-83.08152 42.36731)  "
      ]
     },
     "execution_count": 53,
     "metadata": {},
     "output_type": "execute_result"
    }
   ],
   "source": [
    "call_sample_size = 100000\n",
    "call = (\n",
    "    csv_with_x_y_to_gpd(\n",
    "        \"calls_for_service_from_jimmy.csv\",\n",
    "        crs = 'epsg:4327',\n",
    "        read_csv_args={\"nrows\": call_sample_size, \"usecols\": COLS_911 + [\"longitude\", \"latitude\"]},\n",
    "    )\n",
    "    #     want to use ints, but default type does not handle nulls. May factorize later\n",
    "    .astype({\"call_timestamp\": \"datetime64\", \"block_id\": pd.Int64Dtype()}).loc[\n",
    "        :, COLS_911 + [\"geometry\"]\n",
    "    ]\n",
    ")\n",
    "\n",
    "census = (\n",
    "    gpd.read_file(\n",
    "        \"/Users/ahakso/Downloads/wayne_county_census_blocks/tl_2010_26163_tabblock10.shp\"\n",
    "    )\n",
    "    #     full block id is concatenation of geoid and name. Remove optional `.` delimiter\n",
    "    .rename(columns={\"GEOID10\": \"block_id\"})\n",
    "    #     Can't go to Int64Dtype from string, convert to int first\n",
    "    .astype({\"block_id\": int})\n",
    "    #     Use type consistent with that used for 911 calls\n",
    "    .astype({\"block_id\": pd.Int64Dtype()})\n",
    ").to_crs(\"EPSG:4327\").loc[:,['block_id','geometry']]\n",
    "\n",
    "display(census.head(2))\n",
    "call.head(2)"
   ]
  },
  {
   "cell_type": "code",
   "execution_count": 40,
   "id": "58bef94c",
   "metadata": {
    "ExecuteTime": {
     "end_time": "2022-01-29T18:51:27.949817Z",
     "start_time": "2022-01-29T18:51:27.884000Z"
    }
   },
   "outputs": [
    {
     "name": "stdout",
     "output_type": "stream",
     "text": [
      "proportion of call block ids not present in wayne county census block data: 0.0248\n",
      "proportion non-null call block ids not present in wayne county census block data: 0.0026\n"
     ]
    }
   ],
   "source": [
    "null_count = call.block_id.isna().sum()\n",
    "print(f\"proportion of call block ids not present in wayne county census block data: {((~call.block_id.isin(census.block_id)).sum())/call.shape[0]:.4f}\")\n",
    "print(f\"proportion non-null call block ids not present in wayne county census block data: {((~call.block_id.isin(census.block_id)).sum()-null_count)/(call.shape[0]-null_count):.4f}\")"
   ]
  },
  {
   "cell_type": "code",
   "execution_count": 4,
   "id": "57ea448c",
   "metadata": {
    "ExecuteTime": {
     "end_time": "2022-01-29T18:40:25.891610Z",
     "start_time": "2022-01-29T18:40:25.821927Z"
    }
   },
   "outputs": [],
   "source": [
    "# reduce census array by dropping censuss where calls are never seen.\n",
    "# census = census.loc[census.block_id.isin(call.block_id)]"
   ]
  },
  {
   "cell_type": "markdown",
   "id": "c88825f7",
   "metadata": {
    "ExecuteTime": {
     "end_time": "2022-01-28T21:52:09.113956Z",
     "start_time": "2022-01-28T21:52:09.086883Z"
    }
   },
   "source": [
    "# Join calls and blocks on block_id"
   ]
  },
  {
   "cell_type": "code",
   "execution_count": 41,
   "id": "dc678e1f",
   "metadata": {
    "ExecuteTime": {
     "end_time": "2022-01-29T18:51:33.578274Z",
     "start_time": "2022-01-29T18:51:33.465228Z"
    }
   },
   "outputs": [
    {
     "data": {
      "text/html": [
       "<div>\n",
       "<style scoped>\n",
       "    .dataframe tbody tr th:only-of-type {\n",
       "        vertical-align: middle;\n",
       "    }\n",
       "\n",
       "    .dataframe tbody tr th {\n",
       "        vertical-align: top;\n",
       "    }\n",
       "\n",
       "    .dataframe thead th {\n",
       "        text-align: right;\n",
       "    }\n",
       "</style>\n",
       "<table border=\"1\" class=\"dataframe\">\n",
       "  <thead>\n",
       "    <tr style=\"text-align: right;\">\n",
       "      <th></th>\n",
       "      <th>calldescription</th>\n",
       "      <th>call_timestamp</th>\n",
       "      <th>block_id</th>\n",
       "      <th>category</th>\n",
       "      <th>officerinitiated</th>\n",
       "      <th>priority</th>\n",
       "      <th>oid</th>\n",
       "      <th>geometry_x</th>\n",
       "      <th>geometry_y</th>\n",
       "    </tr>\n",
       "  </thead>\n",
       "  <tbody>\n",
       "    <tr>\n",
       "      <th>0</th>\n",
       "      <td>TRAFFIC STOP</td>\n",
       "      <td>2020-06-25 14:40:55</td>\n",
       "      <td>261635318001003</td>\n",
       "      <td>TRF STOP</td>\n",
       "      <td>Yes</td>\n",
       "      <td>2</td>\n",
       "      <td>3079296</td>\n",
       "      <td>POINT (-83.11380 42.38711)</td>\n",
       "      <td>POLYGON ((-83.11010 42.38766, -83.11334 42.386...</td>\n",
       "    </tr>\n",
       "    <tr>\n",
       "      <th>1</th>\n",
       "      <td>START OF SHIFT INFORMATION</td>\n",
       "      <td>2020-06-25 14:41:21</td>\n",
       "      <td>261635339003014</td>\n",
       "      <td>STRTSHFT</td>\n",
       "      <td>Yes</td>\n",
       "      <td>3</td>\n",
       "      <td>3079297</td>\n",
       "      <td>POINT (-83.08152 42.36731)</td>\n",
       "      <td>POLYGON ((-83.08151 42.36730, -83.08165 42.367...</td>\n",
       "    </tr>\n",
       "    <tr>\n",
       "      <th>2</th>\n",
       "      <td>DISTURBANCE</td>\n",
       "      <td>2020-06-25 14:41:31</td>\n",
       "      <td>261635129003001</td>\n",
       "      <td>DISTURB</td>\n",
       "      <td>No</td>\n",
       "      <td>3</td>\n",
       "      <td>3079298</td>\n",
       "      <td>POINT (-82.94905 42.37831)</td>\n",
       "      <td>POLYGON ((-82.94905 42.37830, -82.95019 42.377...</td>\n",
       "    </tr>\n",
       "    <tr>\n",
       "      <th>3</th>\n",
       "      <td>DISTURBANCE</td>\n",
       "      <td>2020-06-25 14:41:33</td>\n",
       "      <td>261635352003007</td>\n",
       "      <td>DISTURB</td>\n",
       "      <td>No</td>\n",
       "      <td>3</td>\n",
       "      <td>3079299</td>\n",
       "      <td>POINT (-83.17806 42.37468)</td>\n",
       "      <td>POLYGON ((-83.17805 42.37467, -83.18240 42.374...</td>\n",
       "    </tr>\n",
       "    <tr>\n",
       "      <th>4</th>\n",
       "      <td>SPECIAL ATTENTION</td>\n",
       "      <td>2020-06-25 14:43:07</td>\n",
       "      <td>261635413002003</td>\n",
       "      <td>SPCL ATT</td>\n",
       "      <td>Yes</td>\n",
       "      <td>3</td>\n",
       "      <td>3079300</td>\n",
       "      <td>POINT (-83.28121 42.42880)</td>\n",
       "      <td>POLYGON ((-83.28167 42.42631, -83.28169 42.426...</td>\n",
       "    </tr>\n",
       "  </tbody>\n",
       "</table>\n",
       "</div>"
      ],
      "text/plain": [
       "              calldescription      call_timestamp         block_id  category  \\\n",
       "0                TRAFFIC STOP 2020-06-25 14:40:55  261635318001003  TRF STOP   \n",
       "1  START OF SHIFT INFORMATION 2020-06-25 14:41:21  261635339003014  STRTSHFT   \n",
       "2                 DISTURBANCE 2020-06-25 14:41:31  261635129003001  DISTURB    \n",
       "3                 DISTURBANCE 2020-06-25 14:41:33  261635352003007  DISTURB    \n",
       "4           SPECIAL ATTENTION 2020-06-25 14:43:07  261635413002003  SPCL ATT   \n",
       "\n",
       "  officerinitiated priority      oid                  geometry_x  \\\n",
       "0              Yes        2  3079296  POINT (-83.11380 42.38711)   \n",
       "1              Yes        3  3079297  POINT (-83.08152 42.36731)   \n",
       "2               No        3  3079298  POINT (-82.94905 42.37831)   \n",
       "3               No        3  3079299  POINT (-83.17806 42.37468)   \n",
       "4              Yes        3  3079300  POINT (-83.28121 42.42880)   \n",
       "\n",
       "                                          geometry_y  \n",
       "0  POLYGON ((-83.11010 42.38766, -83.11334 42.386...  \n",
       "1  POLYGON ((-83.08151 42.36730, -83.08165 42.367...  \n",
       "2  POLYGON ((-82.94905 42.37830, -82.95019 42.377...  \n",
       "3  POLYGON ((-83.17805 42.37467, -83.18240 42.374...  \n",
       "4  POLYGON ((-83.28167 42.42631, -83.28169 42.426...  "
      ]
     },
     "execution_count": 41,
     "metadata": {},
     "output_type": "execute_result"
    }
   ],
   "source": [
    "id_join = pd.merge(call,census,on='block_id',how='left')\n",
    "id_join.head()"
   ]
  },
  {
   "cell_type": "markdown",
   "id": "e7e35a74",
   "metadata": {},
   "source": [
    "# Join calls and block where the calls x/y is in the block's polygon \n",
    "We have some context from detroit that block_id has no anonymization in it, while lat/long does. Therefore, we expect some mismatch between point/polygon and block_id/block_id\n",
    "\n",
    "\n",
    "To get a better sense of how often it is happening and how far the snapping can move a data point. We won't have perfect visibility, but if they mostly match (passing the sanity test), then for each call with mismatched block_ids, we can measure the distance between the lat/long and the closest edge of the actual block id – this will give us the minimum it had to have moved in the snapping\n",
    "We can then look at the distribution of those distances to get some vague sense of how far the snapping can move the point. The max will probably be the most interesting, barring the presence of massive distances which would indicate some sort of upstream error. "
   ]
  },
  {
   "cell_type": "code",
   "execution_count": 42,
   "id": "87aa7d61",
   "metadata": {
    "ExecuteTime": {
     "end_time": "2022-01-29T18:51:40.835399Z",
     "start_time": "2022-01-29T18:51:40.053258Z"
    }
   },
   "outputs": [],
   "source": [
    "space_join = gpd.sjoin(call.loc[:,['geometry','block_id']], census.loc[:,['block_id','geometry']], how='left', op='intersects',lsuffix='call',rsuffix='census')"
   ]
  },
  {
   "cell_type": "code",
   "execution_count": 43,
   "id": "87b11cf3",
   "metadata": {
    "ExecuteTime": {
     "end_time": "2022-01-29T18:51:43.213609Z",
     "start_time": "2022-01-29T18:51:43.165257Z"
    }
   },
   "outputs": [
    {
     "data": {
      "text/html": [
       "<div>\n",
       "<style scoped>\n",
       "    .dataframe tbody tr th:only-of-type {\n",
       "        vertical-align: middle;\n",
       "    }\n",
       "\n",
       "    .dataframe tbody tr th {\n",
       "        vertical-align: top;\n",
       "    }\n",
       "\n",
       "    .dataframe thead th {\n",
       "        text-align: right;\n",
       "    }\n",
       "</style>\n",
       "<table border=\"1\" class=\"dataframe\">\n",
       "  <thead>\n",
       "    <tr style=\"text-align: right;\">\n",
       "      <th></th>\n",
       "      <th>geometry</th>\n",
       "      <th>block_id_call</th>\n",
       "      <th>index_census</th>\n",
       "      <th>block_id_census</th>\n",
       "    </tr>\n",
       "  </thead>\n",
       "  <tbody>\n",
       "    <tr>\n",
       "      <th>0</th>\n",
       "      <td>POINT (-83.11380 42.38711)</td>\n",
       "      <td>261635318001003</td>\n",
       "      <td>16003.0</td>\n",
       "      <td>261635318001002</td>\n",
       "    </tr>\n",
       "    <tr>\n",
       "      <th>1</th>\n",
       "      <td>POINT (-83.08152 42.36731)</td>\n",
       "      <td>261635339003014</td>\n",
       "      <td>29464.0</td>\n",
       "      <td>261635339003014</td>\n",
       "    </tr>\n",
       "    <tr>\n",
       "      <th>2</th>\n",
       "      <td>POINT (-82.94905 42.37831)</td>\n",
       "      <td>261635129003001</td>\n",
       "      <td>19823.0</td>\n",
       "      <td>261635129003000</td>\n",
       "    </tr>\n",
       "    <tr>\n",
       "      <th>3</th>\n",
       "      <td>POINT (-83.17806 42.37468)</td>\n",
       "      <td>261635352003007</td>\n",
       "      <td>23109.0</td>\n",
       "      <td>261635352003007</td>\n",
       "    </tr>\n",
       "    <tr>\n",
       "      <th>4</th>\n",
       "      <td>POINT (-83.28121 42.42880)</td>\n",
       "      <td>261635413002003</td>\n",
       "      <td>14198.0</td>\n",
       "      <td>261635418001004</td>\n",
       "    </tr>\n",
       "  </tbody>\n",
       "</table>\n",
       "</div>"
      ],
      "text/plain": [
       "                     geometry    block_id_call  index_census  block_id_census\n",
       "0  POINT (-83.11380 42.38711)  261635318001003       16003.0  261635318001002\n",
       "1  POINT (-83.08152 42.36731)  261635339003014       29464.0  261635339003014\n",
       "2  POINT (-82.94905 42.37831)  261635129003001       19823.0  261635129003000\n",
       "3  POINT (-83.17806 42.37468)  261635352003007       23109.0  261635352003007\n",
       "4  POINT (-83.28121 42.42880)  261635413002003       14198.0  261635418001004"
      ]
     },
     "execution_count": 43,
     "metadata": {},
     "output_type": "execute_result"
    }
   ],
   "source": [
    "space_join.head()"
   ]
  },
  {
   "cell_type": "code",
   "execution_count": 45,
   "id": "34ce1c98",
   "metadata": {
    "ExecuteTime": {
     "end_time": "2022-01-29T18:51:56.234071Z",
     "start_time": "2022-01-29T18:51:56.117640Z"
    }
   },
   "outputs": [
    {
     "name": "stdout",
     "output_type": "stream",
     "text": [
      "calls not inside a wayne county census block: 3034 (3.0)%\n",
      "matched blocks disagreeing: 32212 (33.2)%\n"
     ]
    }
   ],
   "source": [
    "unmatched = space_join.block_id_census.isna().sum()\n",
    "in_block_but_disagreeing=(space_join.dropna(how='any').block_id_call==space_join.dropna(how='any').block_id_census).sum()\n",
    "print(f\"calls not inside a wayne county census block: {unmatched} ({100*unmatched/space_join.shape[0]:.1f})%\")\n",
    "print(f\"matched blocks disagreeing: {in_block_but_disagreeing} ({100*in_block_but_disagreeing/space_join.dropna(how='any').shape[0]:.1f})%\")\n"
   ]
  },
  {
   "cell_type": "code",
   "execution_count": 60,
   "id": "77608b2e",
   "metadata": {
    "ExecuteTime": {
     "end_time": "2022-01-29T19:03:11.895560Z",
     "start_time": "2022-01-29T19:03:11.790686Z"
    }
   },
   "outputs": [
    {
     "data": {
      "text/html": [
       "<div>\n",
       "<style scoped>\n",
       "    .dataframe tbody tr th:only-of-type {\n",
       "        vertical-align: middle;\n",
       "    }\n",
       "\n",
       "    .dataframe tbody tr th {\n",
       "        vertical-align: top;\n",
       "    }\n",
       "\n",
       "    .dataframe thead th {\n",
       "        text-align: right;\n",
       "    }\n",
       "</style>\n",
       "<table border=\"1\" class=\"dataframe\">\n",
       "  <thead>\n",
       "    <tr style=\"text-align: right;\">\n",
       "      <th></th>\n",
       "      <th>calldescription</th>\n",
       "      <th>call_timestamp</th>\n",
       "      <th>block_id</th>\n",
       "      <th>category</th>\n",
       "      <th>officerinitiated</th>\n",
       "      <th>priority</th>\n",
       "      <th>oid</th>\n",
       "      <th>longitude</th>\n",
       "      <th>latitude</th>\n",
       "      <th>geometry</th>\n",
       "    </tr>\n",
       "  </thead>\n",
       "  <tbody>\n",
       "    <tr>\n",
       "      <th>55</th>\n",
       "      <td>FELONIOUS ASSAULT REPORT</td>\n",
       "      <td>2020-06-25 15:00:58</td>\n",
       "      <td>&lt;NA&gt;</td>\n",
       "      <td>FA RPT</td>\n",
       "      <td>Yes</td>\n",
       "      <td>4</td>\n",
       "      <td>3079351</td>\n",
       "      <td>-84.132207</td>\n",
       "      <td>42.082976</td>\n",
       "      <td>POINT (-84.13221 42.08298)</td>\n",
       "    </tr>\n",
       "    <tr>\n",
       "      <th>100</th>\n",
       "      <td>TOWING DETAIL</td>\n",
       "      <td>2020-06-25 15:15:56</td>\n",
       "      <td>&lt;NA&gt;</td>\n",
       "      <td>TOW</td>\n",
       "      <td>Yes</td>\n",
       "      <td>3</td>\n",
       "      <td>3079396</td>\n",
       "      <td>-84.132207</td>\n",
       "      <td>42.082976</td>\n",
       "      <td>POINT (-84.13221 42.08298)</td>\n",
       "    </tr>\n",
       "    <tr>\n",
       "      <th>114</th>\n",
       "      <td>WNTD WRRNT FELONY</td>\n",
       "      <td>2020-06-25 15:18:54</td>\n",
       "      <td>&lt;NA&gt;</td>\n",
       "      <td>FELONY</td>\n",
       "      <td>Yes</td>\n",
       "      <td>2</td>\n",
       "      <td>3079410</td>\n",
       "      <td>-84.132207</td>\n",
       "      <td>42.082976</td>\n",
       "      <td>POINT (-84.13221 42.08298)</td>\n",
       "    </tr>\n",
       "    <tr>\n",
       "      <th>162</th>\n",
       "      <td>TRAFFIC STOP</td>\n",
       "      <td>2020-06-25 15:30:52</td>\n",
       "      <td>&lt;NA&gt;</td>\n",
       "      <td>TRF STOP</td>\n",
       "      <td>Yes</td>\n",
       "      <td>2</td>\n",
       "      <td>3079458</td>\n",
       "      <td>-84.132207</td>\n",
       "      <td>42.082976</td>\n",
       "      <td>POINT (-84.13221 42.08298)</td>\n",
       "    </tr>\n",
       "    <tr>\n",
       "      <th>279</th>\n",
       "      <td>REMARKS</td>\n",
       "      <td>2020-06-25 16:02:41</td>\n",
       "      <td>&lt;NA&gt;</td>\n",
       "      <td>REMARKS</td>\n",
       "      <td>Yes</td>\n",
       "      <td>3</td>\n",
       "      <td>3079576</td>\n",
       "      <td>-84.132207</td>\n",
       "      <td>42.082976</td>\n",
       "      <td>POINT (-84.13221 42.08298)</td>\n",
       "    </tr>\n",
       "  </tbody>\n",
       "</table>\n",
       "</div>"
      ],
      "text/plain": [
       "              calldescription      call_timestamp  block_id  category  \\\n",
       "55   FELONIOUS ASSAULT REPORT 2020-06-25 15:00:58      <NA>  FA RPT     \n",
       "100             TOWING DETAIL 2020-06-25 15:15:56      <NA>  TOW        \n",
       "114         WNTD WRRNT FELONY 2020-06-25 15:18:54      <NA>  FELONY     \n",
       "162              TRAFFIC STOP 2020-06-25 15:30:52      <NA>  TRF STOP   \n",
       "279                   REMARKS 2020-06-25 16:02:41      <NA>  REMARKS    \n",
       "\n",
       "    officerinitiated priority      oid  longitude   latitude  \\\n",
       "55               Yes        4  3079351 -84.132207  42.082976   \n",
       "100              Yes        3  3079396 -84.132207  42.082976   \n",
       "114              Yes        2  3079410 -84.132207  42.082976   \n",
       "162              Yes        2  3079458 -84.132207  42.082976   \n",
       "279              Yes        3  3079576 -84.132207  42.082976   \n",
       "\n",
       "                       geometry  \n",
       "55   POINT (-84.13221 42.08298)  \n",
       "100  POINT (-84.13221 42.08298)  \n",
       "114  POINT (-84.13221 42.08298)  \n",
       "162  POINT (-84.13221 42.08298)  \n",
       "279  POINT (-84.13221 42.08298)  "
      ]
     },
     "metadata": {},
     "output_type": "display_data"
    },
    {
     "data": {
      "text/plain": [
       "0"
      ]
     },
     "execution_count": 60,
     "metadata": {},
     "output_type": "execute_result"
    }
   ],
   "source": [
    "# west of this longitude, these point are all stacked on top of each other in a random-ass location. \n",
    "display(call.loc[lambda x: call.longitude< -84].head())\n",
    "# these are all null block ids (comprising most, if not all, the missing ids)\n",
    "call.loc[lambda x: call.longitude< -84].block_id.notna().sum()"
   ]
  },
  {
   "cell_type": "code",
   "execution_count": null,
   "id": "d43f12ad",
   "metadata": {},
   "outputs": [],
   "source": [
    "fig, ax = plt.subplots(1,1, figsize=(20,20))\n",
    "census.plot(ax=ax)\n",
    "# exclude ~2% of call that are stacked on top of each other way outside of detroit\n",
    "call.loc[lambda x: x.longitude > -84].plot(ax=ax,markersize=1,color='r')"
   ]
  }
 ],
 "metadata": {
  "kernelspec": {
   "display_name": "detroit",
   "language": "python",
   "name": "detroit"
  },
  "language_info": {
   "codemirror_mode": {
    "name": "ipython",
    "version": 3
   },
   "file_extension": ".py",
   "mimetype": "text/x-python",
   "name": "python",
   "nbconvert_exporter": "python",
   "pygments_lexer": "ipython3",
   "version": "3.8.2"
  },
  "toc": {
   "base_numbering": 1,
   "nav_menu": {},
   "number_sections": true,
   "sideBar": true,
   "skip_h1_title": false,
   "title_cell": "Table of Contents",
   "title_sidebar": "Contents",
   "toc_cell": false,
   "toc_position": {},
   "toc_section_display": true,
   "toc_window_display": false
  },
  "varInspector": {
   "cols": {
    "lenName": 16,
    "lenType": 16,
    "lenVar": 40
   },
   "kernels_config": {
    "python": {
     "delete_cmd_postfix": "",
     "delete_cmd_prefix": "del ",
     "library": "var_list.py",
     "varRefreshCmd": "print(var_dic_list())"
    },
    "r": {
     "delete_cmd_postfix": ") ",
     "delete_cmd_prefix": "rm(",
     "library": "var_list.r",
     "varRefreshCmd": "cat(var_dic_list()) "
    }
   },
   "types_to_exclude": [
    "module",
    "function",
    "builtin_function_or_method",
    "instance",
    "_Feature"
   ],
   "window_display": false
  }
 },
 "nbformat": 4,
 "nbformat_minor": 5
}
