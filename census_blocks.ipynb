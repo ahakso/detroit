{
 "cells": [
  {
   "cell_type": "markdown",
   "id": "0239317c",
   "metadata": {},
   "source": [
    "# Exploring census blocks & joining to 911 data\n",
    "911 calls file is [here](https://app.box.com/file/911911135646)\n",
    "\n",
    "Census blocks can be downloaded from [here](https://www.census.gov/geographies/mapping-files/time-series/geo/carto-boundary-file.html) directly, or from box [here](https://bloombergdotorg.box.com/s/mwv5tbz4l9de6vhxps5vhn71bv42j8ik)\n",
    "\n",
    "Prose notes can be found [here]("
   ]
  },
  {
   "cell_type": "markdown",
   "id": "c48e35a9",
   "metadata": {},
   "source": [
    "## General Census block notes\n",
    "These are hierarchical, and pretty granular in populated areas.\n",
    "\n",
    "The hierarchy looks like this, where each X is and integer: \n",
    "XX|XXX|XXXXXX|XXXX\n",
    "\n",
    "To avoid counting Xs, the lengths are: \n",
    "2|3|6|4\n",
    "\n",
    "With meanings: \n",
    "State | county | tract | block\n",
    "\n",
    "## 911 calls and census blocks\n",
    "The 911 calls dataset has a column block_id with len(block_id)==15\n",
    "\n",
    "The calls dataset does have null block ids (~3% in the small sample I checked). For each of them, it does have a lat/long, so we can probably figure it out\n",
    "\n",
    "## Census block shp files\n",
    "Downloading Michigan from the ‘Block Groups’ dropdown from the census gives you a shape file with columns GEOID and NAME. GEOID represents the first 11 character, and NAME the block id.\n",
    "\n",
    "\n",
    "\n",
    "\n",
    "\n",
    "\n"
   ]
  },
  {
   "cell_type": "code",
   "execution_count": 13,
   "id": "d8c7202e",
   "metadata": {
    "ExecuteTime": {
     "end_time": "2022-01-28T19:00:26.860107Z",
     "start_time": "2022-01-28T19:00:26.837788Z"
    }
   },
   "outputs": [],
   "source": [
    "import geopandas as gpd\n",
    "from util_detroit import kml_to_gpd, csv_with_x_y_to_gpd\n",
    "\n",
    "# Only read in the columns we want\n",
    "COLS_911 = [\n",
    "    \"calldescription\",\n",
    "    \"call_timestamp\",\n",
    "    \"block_id\",\n",
    "    \"category\",\n",
    "    \"officerinitiated\",\n",
    "    \"priority\",\n",
    "    \"oid\",\n",
    "]"
   ]
  },
  {
   "cell_type": "code",
   "execution_count": 39,
   "id": "75864180",
   "metadata": {
    "ExecuteTime": {
     "end_time": "2022-01-28T19:17:58.400384Z",
     "start_time": "2022-01-28T19:17:58.061681Z"
    }
   },
   "outputs": [],
   "source": [
    "tract = gpd.read_file('/Users/ahakso/Downloads/cb_2018_26_tract_500k/cb_2018_26_tract_500k.shp')"
   ]
  },
  {
   "cell_type": "code",
   "execution_count": 49,
   "id": "4d2eb605",
   "metadata": {
    "ExecuteTime": {
     "end_time": "2022-01-28T19:19:30.428414Z",
     "start_time": "2022-01-28T19:19:30.381702Z"
    }
   },
   "outputs": [
    {
     "data": {
      "text/plain": [
       "STATEFP      2\n",
       "COUNTYFP     3\n",
       "TRACTCE      6\n",
       "AFFGEOID    20\n",
       "GEOID       11\n",
       "NAME         4\n",
       "LSAD         2\n",
       "ALAND        7\n",
       "AWATER       1\n",
       "Name: 0, dtype: int64"
      ]
     },
     "execution_count": 49,
     "metadata": {},
     "output_type": "execute_result"
    }
   ],
   "source": [
    "tract.head().drop(columns=['geometry']).astype(str).iloc[0,:].apply(len)"
   ]
  },
  {
   "cell_type": "code",
   "execution_count": null,
   "id": "aab920f5",
   "metadata": {},
   "outputs": [],
   "source": [
    "\n",
    "block = gpd.read_file('./census_blocks_from_census/cb_2018_26_bg_500k.shp')"
   ]
  },
  {
   "cell_type": "code",
   "execution_count": 80,
   "id": "838d417f",
   "metadata": {
    "ExecuteTime": {
     "end_time": "2022-01-28T19:30:25.176123Z",
     "start_time": "2022-01-28T19:30:25.148040Z"
    }
   },
   "outputs": [
    {
     "data": {
      "text/plain": [
       "0    261251813001813\n",
       "Name: block_id, dtype: Int64"
      ]
     },
     "execution_count": 80,
     "metadata": {},
     "output_type": "execute_result"
    }
   ],
   "source": [
    "block.block_id.head(1).astype(float).astype(pd.Int64Dtype())"
   ]
  },
  {
   "cell_type": "code",
   "execution_count": 89,
   "id": "152c8c8b",
   "metadata": {
    "ExecuteTime": {
     "end_time": "2022-01-28T19:32:15.021458Z",
     "start_time": "2022-01-28T19:32:14.880869Z"
    }
   },
   "outputs": [
    {
     "data": {
      "text/html": [
       "<div>\n",
       "<style scoped>\n",
       "    .dataframe tbody tr th:only-of-type {\n",
       "        vertical-align: middle;\n",
       "    }\n",
       "\n",
       "    .dataframe tbody tr th {\n",
       "        vertical-align: top;\n",
       "    }\n",
       "\n",
       "    .dataframe thead th {\n",
       "        text-align: right;\n",
       "    }\n",
       "</style>\n",
       "<table border=\"1\" class=\"dataframe\">\n",
       "  <thead>\n",
       "    <tr style=\"text-align: right;\">\n",
       "      <th></th>\n",
       "      <th>STATEFP</th>\n",
       "      <th>COUNTYFP</th>\n",
       "      <th>TRACTCE</th>\n",
       "      <th>AFFGEOID</th>\n",
       "      <th>GEOID</th>\n",
       "      <th>NAME</th>\n",
       "      <th>LSAD</th>\n",
       "      <th>ALAND</th>\n",
       "      <th>AWATER</th>\n",
       "      <th>geometry</th>\n",
       "      <th>block_id</th>\n",
       "    </tr>\n",
       "  </thead>\n",
       "  <tbody>\n",
       "    <tr>\n",
       "      <th>0</th>\n",
       "      <td>26</td>\n",
       "      <td>125</td>\n",
       "      <td>181300</td>\n",
       "      <td>1400000US26125181300</td>\n",
       "      <td>26125181300</td>\n",
       "      <td>1813</td>\n",
       "      <td>CT</td>\n",
       "      <td>2610265</td>\n",
       "      <td>0</td>\n",
       "      <td>POLYGON ((-83.10576 42.50476, -83.09680 42.504...</td>\n",
       "      <td>261251813001813</td>\n",
       "    </tr>\n",
       "    <tr>\n",
       "      <th>1</th>\n",
       "      <td>26</td>\n",
       "      <td>163</td>\n",
       "      <td>594500</td>\n",
       "      <td>1400000US26163594500</td>\n",
       "      <td>26163594500</td>\n",
       "      <td>5945</td>\n",
       "      <td>CT</td>\n",
       "      <td>2129984</td>\n",
       "      <td>0</td>\n",
       "      <td>POLYGON ((-83.21621 42.12865, -83.21560 42.128...</td>\n",
       "      <td>261635945005945</td>\n",
       "    </tr>\n",
       "    <tr>\n",
       "      <th>2</th>\n",
       "      <td>26</td>\n",
       "      <td>163</td>\n",
       "      <td>597000</td>\n",
       "      <td>1400000US26163597000</td>\n",
       "      <td>26163597000</td>\n",
       "      <td>5970</td>\n",
       "      <td>CT</td>\n",
       "      <td>9554187</td>\n",
       "      <td>1867845</td>\n",
       "      <td>POLYGON ((-83.22940 42.08143, -83.22525 42.086...</td>\n",
       "      <td>261635970005970</td>\n",
       "    </tr>\n",
       "    <tr>\n",
       "      <th>3</th>\n",
       "      <td>26</td>\n",
       "      <td>163</td>\n",
       "      <td>985200</td>\n",
       "      <td>1400000US26163985200</td>\n",
       "      <td>26163985200</td>\n",
       "      <td>9852</td>\n",
       "      <td>CT</td>\n",
       "      <td>2436035</td>\n",
       "      <td>0</td>\n",
       "      <td>POLYGON ((-82.97931 42.38890, -82.97603 42.389...</td>\n",
       "      <td>261639852009852</td>\n",
       "    </tr>\n",
       "    <tr>\n",
       "      <th>4</th>\n",
       "      <td>26</td>\n",
       "      <td>165</td>\n",
       "      <td>380600</td>\n",
       "      <td>1400000US26165380600</td>\n",
       "      <td>26165380600</td>\n",
       "      <td>3806</td>\n",
       "      <td>CT</td>\n",
       "      <td>4968219</td>\n",
       "      <td>0</td>\n",
       "      <td>POLYGON ((-85.40649 44.26698, -85.39652 44.266...</td>\n",
       "      <td>261653806003806</td>\n",
       "    </tr>\n",
       "    <tr>\n",
       "      <th>...</th>\n",
       "      <td>...</td>\n",
       "      <td>...</td>\n",
       "      <td>...</td>\n",
       "      <td>...</td>\n",
       "      <td>...</td>\n",
       "      <td>...</td>\n",
       "      <td>...</td>\n",
       "      <td>...</td>\n",
       "      <td>...</td>\n",
       "      <td>...</td>\n",
       "      <td>...</td>\n",
       "    </tr>\n",
       "    <tr>\n",
       "      <th>2767</th>\n",
       "      <td>26</td>\n",
       "      <td>049</td>\n",
       "      <td>013600</td>\n",
       "      <td>1400000US26049013600</td>\n",
       "      <td>26049013600</td>\n",
       "      <td>136</td>\n",
       "      <td>CT</td>\n",
       "      <td>1410481</td>\n",
       "      <td>34574</td>\n",
       "      <td>POLYGON ((-83.69382 43.04312, -83.68735 43.043...</td>\n",
       "      <td>26049013600136</td>\n",
       "    </tr>\n",
       "    <tr>\n",
       "      <th>2768</th>\n",
       "      <td>26</td>\n",
       "      <td>163</td>\n",
       "      <td>584100</td>\n",
       "      <td>1400000US26163584100</td>\n",
       "      <td>26163584100</td>\n",
       "      <td>5841</td>\n",
       "      <td>CT</td>\n",
       "      <td>3281358</td>\n",
       "      <td>442</td>\n",
       "      <td>POLYGON ((-83.25428 42.22690, -83.24802 42.227...</td>\n",
       "      <td>261635841005841</td>\n",
       "    </tr>\n",
       "    <tr>\n",
       "      <th>2769</th>\n",
       "      <td>26</td>\n",
       "      <td>111</td>\n",
       "      <td>290900</td>\n",
       "      <td>1400000US26111290900</td>\n",
       "      <td>26111290900</td>\n",
       "      <td>2909</td>\n",
       "      <td>CT</td>\n",
       "      <td>6522183</td>\n",
       "      <td>4587</td>\n",
       "      <td>POLYGON ((-84.24713 43.65593, -84.22713 43.655...</td>\n",
       "      <td>261112909002909</td>\n",
       "    </tr>\n",
       "    <tr>\n",
       "      <th>2770</th>\n",
       "      <td>26</td>\n",
       "      <td>099</td>\n",
       "      <td>263900</td>\n",
       "      <td>1400000US26099263900</td>\n",
       "      <td>26099263900</td>\n",
       "      <td>2639</td>\n",
       "      <td>CT</td>\n",
       "      <td>1412635</td>\n",
       "      <td>0</td>\n",
       "      <td>POLYGON ((-83.02672 42.46309, -83.01860 42.463...</td>\n",
       "      <td>260992639002639</td>\n",
       "    </tr>\n",
       "    <tr>\n",
       "      <th>2771</th>\n",
       "      <td>26</td>\n",
       "      <td>077</td>\n",
       "      <td>002201</td>\n",
       "      <td>1400000US26077002201</td>\n",
       "      <td>26077002201</td>\n",
       "      <td>22.01</td>\n",
       "      <td>CT</td>\n",
       "      <td>9058404</td>\n",
       "      <td>907995</td>\n",
       "      <td>POLYGON ((-85.53078 42.28545, -85.53078 42.285...</td>\n",
       "      <td>2607700220122.01</td>\n",
       "    </tr>\n",
       "  </tbody>\n",
       "</table>\n",
       "<p>2772 rows × 11 columns</p>\n",
       "</div>"
      ],
      "text/plain": [
       "     STATEFP COUNTYFP TRACTCE              AFFGEOID        GEOID   NAME LSAD  \\\n",
       "0         26      125  181300  1400000US26125181300  26125181300   1813   CT   \n",
       "1         26      163  594500  1400000US26163594500  26163594500   5945   CT   \n",
       "2         26      163  597000  1400000US26163597000  26163597000   5970   CT   \n",
       "3         26      163  985200  1400000US26163985200  26163985200   9852   CT   \n",
       "4         26      165  380600  1400000US26165380600  26165380600   3806   CT   \n",
       "...      ...      ...     ...                   ...          ...    ...  ...   \n",
       "2767      26      049  013600  1400000US26049013600  26049013600    136   CT   \n",
       "2768      26      163  584100  1400000US26163584100  26163584100   5841   CT   \n",
       "2769      26      111  290900  1400000US26111290900  26111290900   2909   CT   \n",
       "2770      26      099  263900  1400000US26099263900  26099263900   2639   CT   \n",
       "2771      26      077  002201  1400000US26077002201  26077002201  22.01   CT   \n",
       "\n",
       "        ALAND   AWATER                                           geometry  \\\n",
       "0     2610265        0  POLYGON ((-83.10576 42.50476, -83.09680 42.504...   \n",
       "1     2129984        0  POLYGON ((-83.21621 42.12865, -83.21560 42.128...   \n",
       "2     9554187  1867845  POLYGON ((-83.22940 42.08143, -83.22525 42.086...   \n",
       "3     2436035        0  POLYGON ((-82.97931 42.38890, -82.97603 42.389...   \n",
       "4     4968219        0  POLYGON ((-85.40649 44.26698, -85.39652 44.266...   \n",
       "...       ...      ...                                                ...   \n",
       "2767  1410481    34574  POLYGON ((-83.69382 43.04312, -83.68735 43.043...   \n",
       "2768  3281358      442  POLYGON ((-83.25428 42.22690, -83.24802 42.227...   \n",
       "2769  6522183     4587  POLYGON ((-84.24713 43.65593, -84.22713 43.655...   \n",
       "2770  1412635        0  POLYGON ((-83.02672 42.46309, -83.01860 42.463...   \n",
       "2771  9058404   907995  POLYGON ((-85.53078 42.28545, -85.53078 42.285...   \n",
       "\n",
       "              block_id  \n",
       "0      261251813001813  \n",
       "1      261635945005945  \n",
       "2      261635970005970  \n",
       "3      261639852009852  \n",
       "4      261653806003806  \n",
       "...                ...  \n",
       "2767    26049013600136  \n",
       "2768   261635841005841  \n",
       "2769   261112909002909  \n",
       "2770   260992639002639  \n",
       "2771  2607700220122.01  \n",
       "\n",
       "[2772 rows x 11 columns]"
      ]
     },
     "execution_count": 89,
     "metadata": {},
     "output_type": "execute_result"
    }
   ],
   "source": [
    "block"
   ]
  },
  {
   "cell_type": "code",
   "execution_count": 96,
   "id": "9932c7c2",
   "metadata": {
    "ExecuteTime": {
     "end_time": "2022-01-28T19:34:58.159376Z",
     "start_time": "2022-01-28T19:34:57.639967Z"
    }
   },
   "outputs": [
    {
     "data": {
      "text/html": [
       "<div>\n",
       "<style scoped>\n",
       "    .dataframe tbody tr th:only-of-type {\n",
       "        vertical-align: middle;\n",
       "    }\n",
       "\n",
       "    .dataframe tbody tr th {\n",
       "        vertical-align: top;\n",
       "    }\n",
       "\n",
       "    .dataframe thead th {\n",
       "        text-align: right;\n",
       "    }\n",
       "</style>\n",
       "<table border=\"1\" class=\"dataframe\">\n",
       "  <thead>\n",
       "    <tr style=\"text-align: right;\">\n",
       "      <th></th>\n",
       "      <th>STATEFP</th>\n",
       "      <th>COUNTYFP</th>\n",
       "      <th>TRACTCE</th>\n",
       "      <th>AFFGEOID</th>\n",
       "      <th>GEOID</th>\n",
       "      <th>NAME</th>\n",
       "      <th>LSAD</th>\n",
       "      <th>ALAND</th>\n",
       "      <th>AWATER</th>\n",
       "      <th>geometry</th>\n",
       "      <th>block_id</th>\n",
       "    </tr>\n",
       "  </thead>\n",
       "  <tbody>\n",
       "    <tr>\n",
       "      <th>0</th>\n",
       "      <td>26</td>\n",
       "      <td>125</td>\n",
       "      <td>181300</td>\n",
       "      <td>1400000US26125181300</td>\n",
       "      <td>26125181300</td>\n",
       "      <td>1813</td>\n",
       "      <td>CT</td>\n",
       "      <td>2610265</td>\n",
       "      <td>0</td>\n",
       "      <td>POLYGON ((-83.10576 42.50476, -83.09680 42.504...</td>\n",
       "      <td>261251813001813</td>\n",
       "    </tr>\n",
       "    <tr>\n",
       "      <th>1</th>\n",
       "      <td>26</td>\n",
       "      <td>163</td>\n",
       "      <td>594500</td>\n",
       "      <td>1400000US26163594500</td>\n",
       "      <td>26163594500</td>\n",
       "      <td>5945</td>\n",
       "      <td>CT</td>\n",
       "      <td>2129984</td>\n",
       "      <td>0</td>\n",
       "      <td>POLYGON ((-83.21621 42.12865, -83.21560 42.128...</td>\n",
       "      <td>261635945005945</td>\n",
       "    </tr>\n",
       "  </tbody>\n",
       "</table>\n",
       "</div>"
      ],
      "text/plain": [
       "  STATEFP COUNTYFP TRACTCE              AFFGEOID        GEOID  NAME LSAD  \\\n",
       "0      26      125  181300  1400000US26125181300  26125181300  1813   CT   \n",
       "1      26      163  594500  1400000US26163594500  26163594500  5945   CT   \n",
       "\n",
       "     ALAND  AWATER                                           geometry  \\\n",
       "0  2610265       0  POLYGON ((-83.10576 42.50476, -83.09680 42.504...   \n",
       "1  2129984       0  POLYGON ((-83.21621 42.12865, -83.21560 42.128...   \n",
       "\n",
       "          block_id  \n",
       "0  261251813001813  \n",
       "1  261635945005945  "
      ]
     },
     "metadata": {},
     "output_type": "display_data"
    },
    {
     "data": {
      "text/html": [
       "<div>\n",
       "<style scoped>\n",
       "    .dataframe tbody tr th:only-of-type {\n",
       "        vertical-align: middle;\n",
       "    }\n",
       "\n",
       "    .dataframe tbody tr th {\n",
       "        vertical-align: top;\n",
       "    }\n",
       "\n",
       "    .dataframe thead th {\n",
       "        text-align: right;\n",
       "    }\n",
       "</style>\n",
       "<table border=\"1\" class=\"dataframe\">\n",
       "  <thead>\n",
       "    <tr style=\"text-align: right;\">\n",
       "      <th></th>\n",
       "      <th>calldescription</th>\n",
       "      <th>call_timestamp</th>\n",
       "      <th>block_id</th>\n",
       "      <th>category</th>\n",
       "      <th>officerinitiated</th>\n",
       "      <th>priority</th>\n",
       "      <th>oid</th>\n",
       "      <th>geometry</th>\n",
       "    </tr>\n",
       "  </thead>\n",
       "  <tbody>\n",
       "    <tr>\n",
       "      <th>0</th>\n",
       "      <td>TRAFFIC STOP</td>\n",
       "      <td>2020-06-25 14:40:55</td>\n",
       "      <td>261635318001003</td>\n",
       "      <td>TRF STOP</td>\n",
       "      <td>Yes</td>\n",
       "      <td>2</td>\n",
       "      <td>3079296</td>\n",
       "      <td>POINT (42.38711 -83.11380)</td>\n",
       "    </tr>\n",
       "    <tr>\n",
       "      <th>1</th>\n",
       "      <td>START OF SHIFT INFORMATION</td>\n",
       "      <td>2020-06-25 14:41:21</td>\n",
       "      <td>261635339003014</td>\n",
       "      <td>STRTSHFT</td>\n",
       "      <td>Yes</td>\n",
       "      <td>3</td>\n",
       "      <td>3079297</td>\n",
       "      <td>POINT (42.36731 -83.08152)</td>\n",
       "    </tr>\n",
       "  </tbody>\n",
       "</table>\n",
       "</div>"
      ],
      "text/plain": [
       "              calldescription      call_timestamp         block_id  category  \\\n",
       "0                TRAFFIC STOP 2020-06-25 14:40:55  261635318001003  TRF STOP   \n",
       "1  START OF SHIFT INFORMATION 2020-06-25 14:41:21  261635339003014  STRTSHFT   \n",
       "\n",
       "  officerinitiated  priority      oid                    geometry  \n",
       "0              Yes         2  3079296  POINT (42.38711 -83.11380)  \n",
       "1              Yes         3  3079297  POINT (42.36731 -83.08152)  "
      ]
     },
     "execution_count": 96,
     "metadata": {},
     "output_type": "execute_result"
    }
   ],
   "source": [
    "call = (\n",
    "    csv_with_x_y_to_gpd(\n",
    "        \"calls_for_service_from_jimmy.csv\",\n",
    "        read_csv_args={\"nrows\": 1000, \"usecols\": COLS_911 + [\"longitude\", \"latitude\"]},\n",
    "    )\n",
    "#     want to use ints, but default type does not handle nulls. May factorize later\n",
    "    .astype({\"call_timestamp\": \"datetime64\", \"block_id\": pd.Int64Dtype()})\n",
    "    .loc[:, COLS_911 + [\"geometry\"]]\n",
    ")\n",
    "\n",
    "block = (\n",
    "    gpd.read_file(\"./census_blocks_from_census/cb_2018_26_tract_500k.shp\")\n",
    "#     full block id is concatenation of geoid and name. Remove optional `.` delimiter\n",
    "    .assign(block_id=lambda x: (x.GEOID + x.NAME).str.replace('.','',regex=False))\n",
    "#     Can't go to Int64Dtype from string, convert to int first\n",
    "    .astype({\"block_id\": int})\n",
    "#     Use type consistent with that used for 911 calls\n",
    "    .astype({\"block_id\": pd.Int64Dtype()})\n",
    ")\n",
    "\n",
    "display(block.head(2))\n",
    "call.head(2)"
   ]
  },
  {
   "cell_type": "code",
   "execution_count": 100,
   "id": "05bfc738",
   "metadata": {
    "ExecuteTime": {
     "end_time": "2022-01-28T19:35:24.286828Z",
     "start_time": "2022-01-28T19:35:24.257656Z"
    }
   },
   "outputs": [
    {
     "data": {
      "text/plain": [
       "calldescription             object\n",
       "call_timestamp      datetime64[ns]\n",
       "block_id                     Int64\n",
       "category                    object\n",
       "officerinitiated            object\n",
       "priority                     int64\n",
       "oid                          int64\n",
       "geometry                  geometry\n",
       "dtype: object"
      ]
     },
     "execution_count": 100,
     "metadata": {},
     "output_type": "execute_result"
    }
   ],
   "source": [
    "call.dtypes"
   ]
  },
  {
   "cell_type": "code",
   "execution_count": 101,
   "id": "3c6cf0a9",
   "metadata": {
    "ExecuteTime": {
     "end_time": "2022-01-28T19:35:35.060731Z",
     "start_time": "2022-01-28T19:35:35.035186Z"
    }
   },
   "outputs": [
    {
     "data": {
      "text/plain": [
       "STATEFP       object\n",
       "COUNTYFP      object\n",
       "TRACTCE       object\n",
       "AFFGEOID      object\n",
       "GEOID         object\n",
       "NAME          object\n",
       "LSAD          object\n",
       "ALAND          int64\n",
       "AWATER         int64\n",
       "geometry    geometry\n",
       "block_id       Int64\n",
       "dtype: object"
      ]
     },
     "execution_count": 101,
     "metadata": {},
     "output_type": "execute_result"
    }
   ],
   "source": [
    "block.dtypes"
   ]
  },
  {
   "cell_type": "code",
   "execution_count": 86,
   "id": "b0d6d81f",
   "metadata": {
    "ExecuteTime": {
     "end_time": "2022-01-28T19:31:24.685247Z",
     "start_time": "2022-01-28T19:31:24.660622Z"
    }
   },
   "outputs": [
    {
     "data": {
      "text/plain": [
       "16"
      ]
     },
     "execution_count": 86,
     "metadata": {},
     "output_type": "execute_result"
    }
   ],
   "source": [
    "len('2606500330233.02')"
   ]
  },
  {
   "cell_type": "code",
   "execution_count": 5,
   "id": "03f6a989",
   "metadata": {
    "ExecuteTime": {
     "end_time": "2022-01-28T18:49:23.799338Z",
     "start_time": "2022-01-28T18:49:21.641329Z"
    }
   },
   "outputs": [
    {
     "data": {
      "text/plain": [
       "<AxesSubplot:>"
      ]
     },
     "execution_count": 5,
     "metadata": {},
     "output_type": "execute_result"
    },
    {
     "data": {
      "image/png": "[encoded data removed]",
      "text/plain": [
       "<Figure size 432x288 with 1 Axes>"
      ]
     },
     "metadata": {
      "image/png": {
       "height": 250,
       "width": 224
      },
      "needs_background": "light"
     },
     "output_type": "display_data"
    }
   ],
   "source": [
    "block.plot()"
   ]
  },
  {
   "cell_type": "code",
   "execution_count": 28,
   "id": "de09a336",
   "metadata": {
    "ExecuteTime": {
     "end_time": "2022-01-28T19:03:48.427794Z",
     "start_time": "2022-01-28T19:03:48.401309Z"
    }
   },
   "outputs": [
    {
     "name": "stdout",
     "output_type": "stream",
     "text": [
      "12\n",
      "6\n"
     ]
    }
   ],
   "source": [
    "\n",
    "print(len(block.GEOID.iloc[0]))\n",
    "print(len(block.TRACTCE.iloc[0]))"
   ]
  },
  {
   "cell_type": "code",
   "execution_count": 35,
   "id": "a27663a3",
   "metadata": {
    "ExecuteTime": {
     "end_time": "2022-01-28T19:05:18.764701Z",
     "start_time": "2022-01-28T19:05:18.737536Z"
    }
   },
   "outputs": [
    {
     "data": {
      "text/plain": [
       "15"
      ]
     },
     "execution_count": 35,
     "metadata": {},
     "output_type": "execute_result"
    }
   ],
   "source": [
    "len(str(int(call.block_id.iloc[0])))"
   ]
  },
  {
   "cell_type": "code",
   "execution_count": 99,
   "id": "0d22592c",
   "metadata": {
    "ExecuteTime": {
     "end_time": "2022-01-28T19:35:08.525875Z",
     "start_time": "2022-01-28T19:35:08.499050Z"
    }
   },
   "outputs": [
    {
     "data": {
      "text/plain": [
       "0"
      ]
     },
     "execution_count": 99,
     "metadata": {},
     "output_type": "execute_result"
    }
   ],
   "source": [
    "(call.block_id.iloc[1] == block.block_id).sum()"
   ]
  },
  {
   "cell_type": "code",
   "execution_count": 16,
   "id": "7bca0a8a",
   "metadata": {
    "ExecuteTime": {
     "end_time": "2022-01-28T19:00:46.428934Z",
     "start_time": "2022-01-28T19:00:46.402020Z"
    }
   },
   "outputs": [
    {
     "ename": "NameError",
     "evalue": "name 'block' is not defined",
     "output_type": "error",
     "traceback": [
      "\u001b[0;31m---------------------------------------------------------------------------\u001b[0m",
      "\u001b[0;31mNameError\u001b[0m                                 Traceback (most recent call last)",
      "\u001b[0;32m/var/folders/28/p0bhwx8s3cj150l_wknp1wd80000gp/T/ipykernel_10801/1594724499.py\u001b[0m in \u001b[0;36m<module>\u001b[0;34m\u001b[0m\n\u001b[0;32m----> 1\u001b[0;31m \u001b[0mblock\u001b[0m\u001b[0;34m.\u001b[0m\u001b[0mhead\u001b[0m\u001b[0;34m(\u001b[0m\u001b[0;34m)\u001b[0m\u001b[0;34m\u001b[0m\u001b[0;34m\u001b[0m\u001b[0m\n\u001b[0m",
      "\u001b[0;31mNameError\u001b[0m: name 'block' is not defined"
     ]
    }
   ],
   "source": [
    "block.head()"
   ]
  },
  {
   "cell_type": "code",
   "execution_count": null,
   "id": "8c460cc8",
   "metadata": {},
   "outputs": [],
   "source": []
  }
 ],
 "metadata": {
  "kernelspec": {
   "display_name": "detroit",
   "language": "python",
   "name": "detroit"
  },
  "language_info": {
   "codemirror_mode": {
    "name": "ipython",
    "version": 3
   },
   "file_extension": ".py",
   "mimetype": "text/x-python",
   "name": "python",
   "nbconvert_exporter": "python",
   "pygments_lexer": "ipython3",
   "version": "3.8.2"
  },
  "toc": {
   "base_numbering": 1,
   "nav_menu": {},
   "number_sections": true,
   "sideBar": true,
   "skip_h1_title": false,
   "title_cell": "Table of Contents",
   "title_sidebar": "Contents",
   "toc_cell": false,
   "toc_position": {},
   "toc_section_display": true,
   "toc_window_display": false
  },
  "varInspector": {
   "cols": {
    "lenName": 16,
    "lenType": 16,
    "lenVar": 40
   },
   "kernels_config": {
    "python": {
     "delete_cmd_postfix": "",
     "delete_cmd_prefix": "del ",
     "library": "var_list.py",
     "varRefreshCmd": "print(var_dic_list())"
    },
    "r": {
     "delete_cmd_postfix": ") ",
     "delete_cmd_prefix": "rm(",
     "library": "var_list.r",
     "varRefreshCmd": "cat(var_dic_list()) "
    }
   },
   "types_to_exclude": [
    "module",
    "function",
    "builtin_function_or_method",
    "instance",
    "_Feature"
   ],
   "window_display": false
  }
 },
 "nbformat": 4,
 "nbformat_minor": 5
}
