{
 "cells": [
  {
   "cell_type": "code",
   "execution_count": 1,
   "id": "00593975",
   "metadata": {
    "ExecuteTime": {
     "end_time": "2021-10-01T20:46:07.462154Z",
     "start_time": "2021-10-01T20:45:58.525594Z"
    }
   },
   "outputs": [
    {
     "name": "stderr",
     "output_type": "stream",
     "text": [
      "/Users/ahakso/.virtualenvs/detroit/lib/python3.8/site-packages/geopandas/_compat.py:106: UserWarning: The Shapely GEOS version (3.8.0-CAPI-1.13.1 ) is incompatible with the GEOS version PyGEOS was compiled with (3.9.1-CAPI-1.14.2). Conversions between both will be slow.\n",
      "  warnings.warn(\n"
     ]
    }
   ],
   "source": [
    "import pandas as pd\n",
    "import geopandas as gpd\n",
    "import fiona\n",
    "from shapely.geometry import Point, Polygon\n",
    "from typing import Union, Tuple\n",
    "from util_detroit import first_in_range_camera, csv_with_x_y_to_gpd, get_normalized_time_series\n",
    "\n",
    "import re,os\n",
    "import numpy as np\n",
    "import matplotlib.pyplot as plt\n",
    "\n",
    "import kml2geojson\n",
    "import json\n",
    "\n",
    "pd.options.display.max_columns = None"
   ]
  },
  {
   "cell_type": "markdown",
   "id": "c00da447",
   "metadata": {},
   "source": [
    "## possible changes\n",
    "Possible change in structure of matched_df: Rather than selecting a single greenlight location based on either nearest (currently) or first (potential change), match each call to _every_ greenlight camera. Then when calculating background rate, use unique calls, but when calculating proportions, count the calls in overlapping radii multiple times\n",
    "\n",
    "## definite changes\n",
    "1. Address the fact that the time covered by the two data sets is not the same\n",
    "  1. There is a complication: if we just drop the greenlight location entirely, we will be treating that area as if there is no green light location, which would obviously not be great. We could drop both the greenlight location and calls that happened in proximity to that location, which would probably be acceptable (results in a roughly 15% reduction in calls in data set)\n",
    "  1. If we don't want to drop these entirely, we would just have to make sure that the \"no call\" days are nulls rather than 0s, and are being treated properly\n",
    "\n",
    "## Things to understand\n",
    "* Jump in number of calls for days_since_live at 0\n",
    "* figure out whether or not days without calls for a given camera is being treated properly\n",
    "* How is the normalization across a camera's history interacting with the different camera populations for a given live date?"
   ]
  },
  {
   "cell_type": "markdown",
   "id": "5b935c5d",
   "metadata": {},
   "source": [
    "### Load data (s3 pull or local read)"
   ]
  },
  {
   "cell_type": "code",
   "execution_count": 2,
   "id": "1a509628",
   "metadata": {
    "ExecuteTime": {
     "end_time": "2021-10-01T20:46:20.461034Z",
     "start_time": "2021-10-01T20:46:07.487477Z"
    }
   },
   "outputs": [],
   "source": [
    "bucket = \"s3://secondmeasure-dev-at-foundational-data/hakso/detroit/\"\n",
    "greenlight_fn = f\"Project_Green_Light_Locations.geojson\"\n",
    "fn_911 = f\"911_Calls_For_Service.csv\"\n",
    "fullpath_911 = f\"{bucket}{fn_911}\"\n",
    "fullpath_greenlight = f\"{bucket}{greenlight_fn}\"\n",
    "nrows = None # None to read all rows\n",
    "calls = (\n",
    "    csv_with_x_y_to_gpd(\n",
    "        #     fullpath,#from s3\n",
    "        fn_911,  # local\n",
    "        read_csv_args={\n",
    "            \"nrows\": nrows,\n",
    "            \"usecols\": [\n",
    "                \"X\",\n",
    "                \"Y\",\n",
    "                \"incident_id\",\n",
    "                \"calldescription\",\n",
    "                \"category\",\n",
    "                \"call_timestamp\",\n",
    "            ],\n",
    "        },\n",
    "    )\n",
    "    .astype({\"call_timestamp\": \"datetime64\"})\n",
    "    .assign(call_day=lambda df: df.call_timestamp.round(\"D\"))\n",
    ")"
   ]
  },
  {
   "cell_type": "code",
   "execution_count": 92,
   "id": "d6d1e6b4",
   "metadata": {
    "ExecuteTime": {
     "end_time": "2021-10-01T23:03:04.823236Z",
     "start_time": "2021-10-01T23:03:04.760170Z"
    }
   },
   "outputs": [
    {
     "data": {
      "text/html": [
       "<div>\n",
       "<style scoped>\n",
       "    .dataframe tbody tr th:only-of-type {\n",
       "        vertical-align: middle;\n",
       "    }\n",
       "\n",
       "    .dataframe tbody tr th {\n",
       "        vertical-align: top;\n",
       "    }\n",
       "\n",
       "    .dataframe thead th {\n",
       "        text-align: right;\n",
       "    }\n",
       "</style>\n",
       "<table border=\"1\" class=\"dataframe\">\n",
       "  <thead>\n",
       "    <tr style=\"text-align: right;\">\n",
       "      <th></th>\n",
       "      <th>geometry</th>\n",
       "      <th>calldescription</th>\n",
       "      <th>category</th>\n",
       "      <th>call_timestamp</th>\n",
       "      <th>call_day</th>\n",
       "    </tr>\n",
       "  </thead>\n",
       "  <tbody>\n",
       "    <tr>\n",
       "      <th>0</th>\n",
       "      <td>POINT (-82.98696 42.40836)</td>\n",
       "      <td>DISTURBANCE</td>\n",
       "      <td>DISTURB</td>\n",
       "      <td>2016-09-20 09:36:12</td>\n",
       "      <td>2016-09-20</td>\n",
       "    </tr>\n",
       "    <tr>\n",
       "      <th>1</th>\n",
       "      <td>POINT (-83.18521 42.43091)</td>\n",
       "      <td>AUTO X UNK INJ / IMPAIRED</td>\n",
       "      <td>ACCUNK</td>\n",
       "      <td>2016-09-20 09:46:32</td>\n",
       "      <td>2016-09-20</td>\n",
       "    </tr>\n",
       "    <tr>\n",
       "      <th>2</th>\n",
       "      <td>POINT (-83.14606 42.43877)</td>\n",
       "      <td>RECOVER AUTO</td>\n",
       "      <td>RECAUTO</td>\n",
       "      <td>2016-09-20 09:48:24</td>\n",
       "      <td>2016-09-20</td>\n",
       "    </tr>\n",
       "  </tbody>\n",
       "</table>\n",
       "</div>"
      ],
      "text/plain": [
       "                     geometry            calldescription  category  \\\n",
       "0  POINT (-82.98696 42.40836)                DISTURBANCE  DISTURB    \n",
       "1  POINT (-83.18521 42.43091)  AUTO X UNK INJ / IMPAIRED  ACCUNK     \n",
       "2  POINT (-83.14606 42.43877)               RECOVER AUTO  RECAUTO    \n",
       "\n",
       "       call_timestamp   call_day  \n",
       "0 2016-09-20 09:36:12 2016-09-20  \n",
       "1 2016-09-20 09:46:32 2016-09-20  \n",
       "2 2016-09-20 09:48:24 2016-09-20  "
      ]
     },
     "metadata": {},
     "output_type": "display_data"
    },
    {
     "name": "stdout",
     "output_type": "stream",
     "text": [
      "4.04M rows\n"
     ]
    }
   ],
   "source": [
    "display(calls.head(3))\n",
    "print(f\"{calls.shape[0]/1e6:.2f}M rows\")"
   ]
  },
  {
   "cell_type": "code",
   "execution_count": 3,
   "id": "968ce0c3",
   "metadata": {
    "ExecuteTime": {
     "end_time": "2021-10-01T20:46:23.161343Z",
     "start_time": "2021-10-01T20:46:22.967639Z"
    }
   },
   "outputs": [],
   "source": [
    "greenlight_geo_df = (\n",
    "    gpd.read_file(greenlight_fn)\n",
    "    .astype({\"live_date\": \"datetime64\"})\n",
    "    .assign(live_day=lambda df: df.live_date.round(\"D\"))\n",
    ")"
   ]
  },
  {
   "cell_type": "code",
   "execution_count": 93,
   "id": "50158501",
   "metadata": {
    "ExecuteTime": {
     "end_time": "2021-10-01T23:03:12.853571Z",
     "start_time": "2021-10-01T23:03:12.804549Z"
    }
   },
   "outputs": [
    {
     "data": {
      "text/html": [
       "<div>\n",
       "<style scoped>\n",
       "    .dataframe tbody tr th:only-of-type {\n",
       "        vertical-align: middle;\n",
       "    }\n",
       "\n",
       "    .dataframe tbody tr th {\n",
       "        vertical-align: top;\n",
       "    }\n",
       "\n",
       "    .dataframe thead th {\n",
       "        text-align: right;\n",
       "    }\n",
       "</style>\n",
       "<table border=\"1\" class=\"dataframe\">\n",
       "  <thead>\n",
       "    <tr style=\"text-align: right;\">\n",
       "      <th></th>\n",
       "      <th>address</th>\n",
       "      <th>business_name</th>\n",
       "      <th>business_type</th>\n",
       "      <th>precinct</th>\n",
       "      <th>live_date</th>\n",
       "      <th>ObjectId</th>\n",
       "      <th>geometry</th>\n",
       "      <th>live_day</th>\n",
       "    </tr>\n",
       "  </thead>\n",
       "  <tbody>\n",
       "    <tr>\n",
       "      <th>0</th>\n",
       "      <td>15510 Fenkell St</td>\n",
       "      <td>Mobil</td>\n",
       "      <td>Retail</td>\n",
       "      <td>8</td>\n",
       "      <td>2016-01-01 05:00:00</td>\n",
       "      <td>1</td>\n",
       "      <td>POINT (-83.19918 42.40172)</td>\n",
       "      <td>2016-01-01</td>\n",
       "    </tr>\n",
       "    <tr>\n",
       "      <th>1</th>\n",
       "      <td>8930 W McNichols Rd</td>\n",
       "      <td>Marathon</td>\n",
       "      <td>Retail</td>\n",
       "      <td>12</td>\n",
       "      <td>2016-01-01 05:00:00</td>\n",
       "      <td>2</td>\n",
       "      <td>POINT (-83.15984 42.41718)</td>\n",
       "      <td>2016-01-01</td>\n",
       "    </tr>\n",
       "    <tr>\n",
       "      <th>2</th>\n",
       "      <td>15439 Schoolcraft Ave</td>\n",
       "      <td>Citgo</td>\n",
       "      <td>Retail</td>\n",
       "      <td>2</td>\n",
       "      <td>2016-01-01 05:00:00</td>\n",
       "      <td>3</td>\n",
       "      <td>POINT (-83.19764 42.38679)</td>\n",
       "      <td>2016-01-01</td>\n",
       "    </tr>\n",
       "  </tbody>\n",
       "</table>\n",
       "</div>"
      ],
      "text/plain": [
       "                 address business_name business_type  precinct  \\\n",
       "0       15510 Fenkell St         Mobil        Retail         8   \n",
       "1    8930 W McNichols Rd      Marathon        Retail        12   \n",
       "2  15439 Schoolcraft Ave         Citgo        Retail         2   \n",
       "\n",
       "            live_date  ObjectId                    geometry   live_day  \n",
       "0 2016-01-01 05:00:00         1  POINT (-83.19918 42.40172) 2016-01-01  \n",
       "1 2016-01-01 05:00:00         2  POINT (-83.15984 42.41718) 2016-01-01  \n",
       "2 2016-01-01 05:00:00         3  POINT (-83.19764 42.38679) 2016-01-01  "
      ]
     },
     "metadata": {},
     "output_type": "display_data"
    },
    {
     "name": "stdout",
     "output_type": "stream",
     "text": [
      "767 rows\n"
     ]
    }
   ],
   "source": [
    "display(greenlight_geo_df.head(3))\n",
    "print(f\"{greenlight_geo_df.shape[0]:.0f} rows\")"
   ]
  },
  {
   "cell_type": "markdown",
   "id": "e5304c78",
   "metadata": {},
   "source": [
    "#### Distance calculation"
   ]
  },
  {
   "cell_type": "code",
   "execution_count": 116,
   "id": "9d5e0061",
   "metadata": {
    "ExecuteTime": {
     "end_time": "2021-10-02T00:05:10.613787Z",
     "start_time": "2021-10-02T00:05:10.543498Z"
    }
   },
   "outputs": [
    {
     "data": {
      "text/plain": [
       "<Geographic 2D CRS: EPSG:4326>\n",
       "Name: WGS 84\n",
       "Axis Info [ellipsoidal]:\n",
       "- Lat[north]: Geodetic latitude (degree)\n",
       "- Lon[east]: Geodetic longitude (degree)\n",
       "Area of Use:\n",
       "- name: World.\n",
       "- bounds: (-180.0, -90.0, 180.0, 90.0)\n",
       "Datum: World Geodetic System 1984 ensemble\n",
       "- Ellipsoid: WGS 84\n",
       "- Prime Meridian: Greenwich"
      ]
     },
     "execution_count": 116,
     "metadata": {},
     "output_type": "execute_result"
    }
   ],
   "source": [
    "greenlight_geo_df.head().crs"
   ]
  },
  {
   "cell_type": "code",
   "execution_count": 117,
   "id": "4587598a",
   "metadata": {
    "ExecuteTime": {
     "end_time": "2021-10-02T00:05:21.334759Z",
     "start_time": "2021-10-02T00:05:21.096386Z"
    }
   },
   "outputs": [
    {
     "data": {
      "text/plain": [
       "<Projected CRS: EPSG:3857>\n",
       "Name: WGS 84 / Pseudo-Mercator\n",
       "Axis Info [cartesian]:\n",
       "- X[east]: Easting (metre)\n",
       "- Y[north]: Northing (metre)\n",
       "Area of Use:\n",
       "- name: World between 85.06°S and 85.06°N.\n",
       "- bounds: (-180.0, -85.06, 180.0, 85.06)\n",
       "Coordinate Operation:\n",
       "- name: Popular Visualisation Pseudo-Mercator\n",
       "- method: Popular Visualisation Pseudo Mercator\n",
       "Datum: World Geodetic System 1984 ensemble\n",
       "- Ellipsoid: WGS 84\n",
       "- Prime Meridian: Greenwich"
      ]
     },
     "execution_count": 117,
     "metadata": {},
     "output_type": "execute_result"
    }
   ],
   "source": [
    "greenlight_geo_df.head().to_crs(crs='epsg:3857').crs"
   ]
  },
  {
   "cell_type": "code",
   "execution_count": 5,
   "id": "fe08db33",
   "metadata": {
    "ExecuteTime": {
     "end_time": "2021-09-13T16:38:43.892144Z",
     "start_time": "2021-09-13T16:38:43.189090Z"
    }
   },
   "outputs": [],
   "source": [
    "combined_df = pd.read_parquet('tmp.parquet')"
   ]
  },
  {
   "cell_type": "code",
   "execution_count": 13,
   "id": "05d38ca5",
   "metadata": {
    "ExecuteTime": {
     "end_time": "2021-10-01T21:00:10.455419Z",
     "start_time": "2021-10-01T20:54:50.080427Z"
    }
   },
   "outputs": [],
   "source": [
    "calls = calls.loc[ :, [\"geometry\", \"calldescription\", \"category\", \"call_timestamp\", \"call_day\"] ]\n",
    "# greenlight_geo_df = nearest_neighbor(greenlight_geo_df, greenlight_geo_df, 2, True)\n",
    "PROXIMITY_THRESHOLD = 50 # meters\n",
    "matched_df = first_in_range_camera(\n",
    "    calls,\n",
    "    greenlight_geo_df.loc[:, [\"live_date\", \"live_day\", \"geometry\",\"ObjectId\"]],\n",
    "    PROXIMITY_THRESHOLD,\n",
    ")\n",
    "\n",
    "try: \n",
    "    combined_df = gpd.read_parquet('tmp.parquet')\n",
    "except:\n",
    "    combined_df = (\n",
    "            pd.merge(matched_df, greenlight_geo_df.loc[:, [\"ObjectId\", \"live_day\"]].astype({\"ObjectId\": float}), left_on=\"first_live_camera\", right_on=\"ObjectId\", how=\"left\")\n",
    "            .drop(columns=\"ObjectId\")\n",
    "            .dropna(subset=[\"first_live_camera\"])\n",
    "        ).assign(\n",
    "        days_since_live=lambda df: (df.call_day - df.live_day).dt.days,\n",
    "    )"
   ]
  },
  {
   "cell_type": "markdown",
   "id": "d342f089",
   "metadata": {
    "ExecuteTime": {
     "end_time": "2021-10-01T22:05:06.399143Z",
     "start_time": "2021-10-01T22:05:06.376200Z"
    }
   },
   "source": [
    "## Drop areas in which the cameras were installed prior to call data beginning"
   ]
  },
  {
   "cell_type": "code",
   "execution_count": 52,
   "id": "b3b3d6f8",
   "metadata": {
    "ExecuteTime": {
     "end_time": "2021-10-01T22:11:48.169900Z",
     "start_time": "2021-10-01T22:11:48.032280Z"
    }
   },
   "outputs": [],
   "source": [
    "combined_df = combined_df.loc[combined_df.live_day >= calls.call_day.min()+pd.DateOffset(30,'days'),:]"
   ]
  },
  {
   "cell_type": "markdown",
   "id": "3d7ab7d2",
   "metadata": {},
   "source": [
    "### explore matches"
   ]
  },
  {
   "cell_type": "code",
   "execution_count": 55,
   "id": "e6420276",
   "metadata": {
    "ExecuteTime": {
     "end_time": "2021-09-13T17:28:09.663836Z",
     "start_time": "2021-09-13T17:28:09.570359Z"
    }
   },
   "outputs": [
    {
     "data": {
      "application/vnd.jupyter.widget-view+json": {
       "model_id": "4a64ce95b19541ccae13d3c9251d86a1",
       "version_major": 2,
       "version_minor": 0
      },
      "text/plain": [
       "Canvas(toolbar=Toolbar(toolitems=[('Home', 'Reset original view', 'home', 'home'), ('Back', 'Back to previous …"
      ]
     },
     "metadata": {},
     "output_type": "display_data"
    }
   ],
   "source": [
    "# %matplotlib widget\n",
    "combined_df.first_live_camera.value_counts().reset_index(drop=True).plot()\n",
    "plt.vlines(14,0,35e3,'r')\n",
    "plt.show()"
   ]
  },
  {
   "cell_type": "code",
   "execution_count": 22,
   "id": "bfa5c264",
   "metadata": {
    "ExecuteTime": {
     "end_time": "2021-10-01T21:56:22.305953Z",
     "start_time": "2021-10-01T21:56:22.271558Z"
    }
   },
   "outputs": [],
   "source": [
    "# these seem to be driven by many calls being given the same coordinates\n",
    "cameras_with_implausibly_many_calls = combined_df.first_live_camera.value_counts().reset_index().iloc[:14]['index'].values"
   ]
  },
  {
   "cell_type": "code",
   "execution_count": 30,
   "id": "77bc3623",
   "metadata": {
    "ExecuteTime": {
     "end_time": "2021-10-01T21:58:37.508517Z",
     "start_time": "2021-10-01T21:58:37.457246Z"
    }
   },
   "outputs": [
    {
     "data": {
      "text/html": [
       "<div>\n",
       "<style scoped>\n",
       "    .dataframe tbody tr th:only-of-type {\n",
       "        vertical-align: middle;\n",
       "    }\n",
       "\n",
       "    .dataframe tbody tr th {\n",
       "        vertical-align: top;\n",
       "    }\n",
       "\n",
       "    .dataframe thead th {\n",
       "        text-align: right;\n",
       "    }\n",
       "</style>\n",
       "<table border=\"1\" class=\"dataframe\">\n",
       "  <thead>\n",
       "    <tr style=\"text-align: right;\">\n",
       "      <th></th>\n",
       "      <th>address</th>\n",
       "      <th>business_name</th>\n",
       "      <th>business_type</th>\n",
       "      <th>precinct</th>\n",
       "      <th>live_date</th>\n",
       "      <th>ObjectId</th>\n",
       "      <th>geometry</th>\n",
       "      <th>live_day</th>\n",
       "    </tr>\n",
       "  </thead>\n",
       "  <tbody>\n",
       "    <tr>\n",
       "      <th>92</th>\n",
       "      <td>20324 W McNichols Rd</td>\n",
       "      <td>Soft Cloth Car Wash</td>\n",
       "      <td>Services</td>\n",
       "      <td>8</td>\n",
       "      <td>2017-02-13 05:00:00</td>\n",
       "      <td>93</td>\n",
       "      <td>POINT (-83.24175 42.41527)</td>\n",
       "      <td>2017-02-13</td>\n",
       "    </tr>\n",
       "  </tbody>\n",
       "</table>\n",
       "</div>"
      ],
      "text/plain": [
       "                 address        business_name business_type  precinct  \\\n",
       "92  20324 W McNichols Rd  Soft Cloth Car Wash      Services         8   \n",
       "\n",
       "             live_date  ObjectId                    geometry   live_day  \n",
       "92 2017-02-13 05:00:00        93  POINT (-83.24175 42.41527) 2017-02-13  "
      ]
     },
     "execution_count": 30,
     "metadata": {},
     "output_type": "execute_result"
    }
   ],
   "source": [
    "greenlight_geo_df.loc[lambda df: df.ObjectId == 93,:]"
   ]
  },
  {
   "cell_type": "code",
   "execution_count": 28,
   "id": "d4a7dfb0",
   "metadata": {
    "ExecuteTime": {
     "end_time": "2021-10-01T21:57:52.083566Z",
     "start_time": "2021-10-01T21:57:52.027204Z"
    }
   },
   "outputs": [
    {
     "data": {
      "text/html": [
       "<div>\n",
       "<style scoped>\n",
       "    .dataframe tbody tr th:only-of-type {\n",
       "        vertical-align: middle;\n",
       "    }\n",
       "\n",
       "    .dataframe tbody tr th {\n",
       "        vertical-align: top;\n",
       "    }\n",
       "\n",
       "    .dataframe thead th {\n",
       "        text-align: right;\n",
       "    }\n",
       "</style>\n",
       "<table border=\"1\" class=\"dataframe\">\n",
       "  <thead>\n",
       "    <tr style=\"text-align: right;\">\n",
       "      <th></th>\n",
       "      <th>geometry</th>\n",
       "      <th>calldescription</th>\n",
       "      <th>category</th>\n",
       "      <th>call_timestamp</th>\n",
       "      <th>call_day</th>\n",
       "      <th>first_live_camera</th>\n",
       "      <th>live_day</th>\n",
       "      <th>days_since_live</th>\n",
       "    </tr>\n",
       "  </thead>\n",
       "  <tbody>\n",
       "    <tr>\n",
       "      <th>20</th>\n",
       "      <td>POINT (-83.22770 42.37154)</td>\n",
       "      <td>TRANSPORT PRISONER</td>\n",
       "      <td>TRPPRIS</td>\n",
       "      <td>2016-09-20 10:34:11</td>\n",
       "      <td>2016-09-20</td>\n",
       "      <td>93.0</td>\n",
       "      <td>2017-02-13</td>\n",
       "      <td>-146.0</td>\n",
       "    </tr>\n",
       "    <tr>\n",
       "      <th>27</th>\n",
       "      <td>POINT (-83.22770 42.37154)</td>\n",
       "      <td>TRANSPORT PRISONER</td>\n",
       "      <td>TRPPRIS</td>\n",
       "      <td>2016-09-20 10:56:15</td>\n",
       "      <td>2016-09-20</td>\n",
       "      <td>93.0</td>\n",
       "      <td>2017-02-13</td>\n",
       "      <td>-146.0</td>\n",
       "    </tr>\n",
       "    <tr>\n",
       "      <th>48</th>\n",
       "      <td>POINT (-83.00914 42.37465)</td>\n",
       "      <td>RECOVER AUTO</td>\n",
       "      <td>RECAUTO</td>\n",
       "      <td>2016-09-20 11:37:55</td>\n",
       "      <td>2016-09-20</td>\n",
       "      <td>292.0</td>\n",
       "      <td>2018-05-28</td>\n",
       "      <td>-615.0</td>\n",
       "    </tr>\n",
       "    <tr>\n",
       "      <th>69</th>\n",
       "      <td>POINT (-82.95726 42.42911)</td>\n",
       "      <td>MISCELLANEOUS TRAFFIC</td>\n",
       "      <td>MISCTRAF</td>\n",
       "      <td>2016-09-20 12:03:38</td>\n",
       "      <td>2016-09-21</td>\n",
       "      <td>83.0</td>\n",
       "      <td>2017-01-19</td>\n",
       "      <td>-120.0</td>\n",
       "    </tr>\n",
       "    <tr>\n",
       "      <th>100</th>\n",
       "      <td>POINT (-82.97079 42.44557)</td>\n",
       "      <td>DISTURBANCE</td>\n",
       "      <td>DISTURB</td>\n",
       "      <td>2016-09-20 12:48:14</td>\n",
       "      <td>2016-09-21</td>\n",
       "      <td>347.0</td>\n",
       "      <td>2018-08-20</td>\n",
       "      <td>-698.0</td>\n",
       "    </tr>\n",
       "  </tbody>\n",
       "</table>\n",
       "</div>"
      ],
      "text/plain": [
       "                       geometry        calldescription  category  \\\n",
       "20   POINT (-83.22770 42.37154)     TRANSPORT PRISONER  TRPPRIS    \n",
       "27   POINT (-83.22770 42.37154)     TRANSPORT PRISONER  TRPPRIS    \n",
       "48   POINT (-83.00914 42.37465)           RECOVER AUTO  RECAUTO    \n",
       "69   POINT (-82.95726 42.42911)  MISCELLANEOUS TRAFFIC  MISCTRAF   \n",
       "100  POINT (-82.97079 42.44557)            DISTURBANCE  DISTURB    \n",
       "\n",
       "         call_timestamp   call_day  first_live_camera   live_day  \\\n",
       "20  2016-09-20 10:34:11 2016-09-20               93.0 2017-02-13   \n",
       "27  2016-09-20 10:56:15 2016-09-20               93.0 2017-02-13   \n",
       "48  2016-09-20 11:37:55 2016-09-20              292.0 2018-05-28   \n",
       "69  2016-09-20 12:03:38 2016-09-21               83.0 2017-01-19   \n",
       "100 2016-09-20 12:48:14 2016-09-21              347.0 2018-08-20   \n",
       "\n",
       "     days_since_live  \n",
       "20            -146.0  \n",
       "27            -146.0  \n",
       "48            -615.0  \n",
       "69            -120.0  \n",
       "100           -698.0  "
      ]
     },
     "execution_count": 28,
     "metadata": {},
     "output_type": "execute_result"
    }
   ],
   "source": [
    "combined_df.head()"
   ]
  },
  {
   "cell_type": "code",
   "execution_count": 24,
   "id": "b7da9738",
   "metadata": {
    "ExecuteTime": {
     "end_time": "2021-10-01T21:56:36.506339Z",
     "start_time": "2021-10-01T21:56:36.468752Z"
    }
   },
   "outputs": [
    {
     "data": {
      "text/plain": [
       "93.0     36691\n",
       "63.0     20019\n",
       "225.0    17996\n",
       "632.0    12110\n",
       "19.0      9589\n",
       "         ...  \n",
       "348.0       82\n",
       "190.0       72\n",
       "722.0       63\n",
       "673.0       57\n",
       "731.0        4\n",
       "Name: first_live_camera, Length: 464, dtype: int64"
      ]
     },
     "execution_count": 24,
     "metadata": {},
     "output_type": "execute_result"
    }
   ],
   "source": [
    "combined_df.first_live_camera.value_counts()"
   ]
  },
  {
   "cell_type": "code",
   "execution_count": 23,
   "id": "946ce52f",
   "metadata": {
    "ExecuteTime": {
     "end_time": "2021-10-01T21:56:26.418584Z",
     "start_time": "2021-10-01T21:56:26.395862Z"
    }
   },
   "outputs": [
    {
     "data": {
      "text/plain": [
       "array([ 93.,  63., 225., 632.,  19., 266., 127., 392., 181., 221.,   6.,\n",
       "       630., 208., 105.])"
      ]
     },
     "execution_count": 23,
     "metadata": {},
     "output_type": "execute_result"
    }
   ],
   "source": [
    "cameras_with_implausibly_many_calls"
   ]
  },
  {
   "cell_type": "code",
   "execution_count": 33,
   "id": "53d9f128",
   "metadata": {
    "ExecuteTime": {
     "end_time": "2021-09-13T17:14:23.629320Z",
     "start_time": "2021-09-13T17:14:21.436329Z"
    },
    "scrolled": true
   },
   "outputs": [
    {
     "data": {
      "text/plain": [
       "42.372037    34401\n",
       "42.371542     2290\n",
       "Name: geometry, dtype: int64"
      ]
     },
     "execution_count": 33,
     "metadata": {},
     "output_type": "execute_result"
    }
   ],
   "source": [
    "for c in cameras_with_implausibly_many_calls[:10]:\n",
    "    print(c)\n",
    "    print(combined_df.loc[lambda df: df.first_live_camera==c'geometry'].apply(lambda r: r.y).value_counts())\n",
    "    print(combined_df.loc[lambda df: df.first_live_camera==c'geometry'].apply(lambda r: r.x).value_counts())"
   ]
  },
  {
   "cell_type": "code",
   "execution_count": 36,
   "id": "45ae0c7f",
   "metadata": {
    "ExecuteTime": {
     "end_time": "2021-09-13T17:17:49.930432Z",
     "start_time": "2021-09-13T17:17:47.587704Z"
    }
   },
   "outputs": [],
   "source": [
    "filtered_df = combined_df.loc[lambda df: df.first_live_camera.apply(lambda x: x not in (cameras_with_implausibly_many_calls))]"
   ]
  },
  {
   "cell_type": "code",
   "execution_count": 39,
   "id": "08458985",
   "metadata": {
    "ExecuteTime": {
     "end_time": "2021-09-13T17:18:15.924029Z",
     "start_time": "2021-09-13T17:18:15.871667Z"
    }
   },
   "outputs": [
    {
     "data": {
      "text/html": [
       "<div>\n",
       "<style scoped>\n",
       "    .dataframe tbody tr th:only-of-type {\n",
       "        vertical-align: middle;\n",
       "    }\n",
       "\n",
       "    .dataframe tbody tr th {\n",
       "        vertical-align: top;\n",
       "    }\n",
       "\n",
       "    .dataframe thead th {\n",
       "        text-align: right;\n",
       "    }\n",
       "</style>\n",
       "<table border=\"1\" class=\"dataframe\">\n",
       "  <thead>\n",
       "    <tr style=\"text-align: right;\">\n",
       "      <th></th>\n",
       "      <th>geometry</th>\n",
       "      <th>calldescription</th>\n",
       "      <th>category</th>\n",
       "      <th>call_timestamp</th>\n",
       "      <th>call_day</th>\n",
       "      <th>first_live_camera</th>\n",
       "      <th>live_day</th>\n",
       "      <th>days_since_live</th>\n",
       "    </tr>\n",
       "  </thead>\n",
       "  <tbody>\n",
       "    <tr>\n",
       "      <th>48</th>\n",
       "      <td>POINT (-83.00914 42.37465)</td>\n",
       "      <td>RECOVER AUTO</td>\n",
       "      <td>RECAUTO</td>\n",
       "      <td>2016-09-20 11:37:55</td>\n",
       "      <td>2016-09-20</td>\n",
       "      <td>292.0</td>\n",
       "      <td>2018-05-28</td>\n",
       "      <td>-615.0</td>\n",
       "    </tr>\n",
       "    <tr>\n",
       "      <th>69</th>\n",
       "      <td>POINT (-82.95726 42.42911)</td>\n",
       "      <td>MISCELLANEOUS TRAFFIC</td>\n",
       "      <td>MISCTRAF</td>\n",
       "      <td>2016-09-20 12:03:38</td>\n",
       "      <td>2016-09-21</td>\n",
       "      <td>83.0</td>\n",
       "      <td>2017-01-19</td>\n",
       "      <td>-120.0</td>\n",
       "    </tr>\n",
       "    <tr>\n",
       "      <th>100</th>\n",
       "      <td>POINT (-82.97079 42.44557)</td>\n",
       "      <td>DISTURBANCE</td>\n",
       "      <td>DISTURB</td>\n",
       "      <td>2016-09-20 12:48:14</td>\n",
       "      <td>2016-09-21</td>\n",
       "      <td>347.0</td>\n",
       "      <td>2018-08-20</td>\n",
       "      <td>-698.0</td>\n",
       "    </tr>\n",
       "    <tr>\n",
       "      <th>113</th>\n",
       "      <td>POINT (-83.09584 42.32028)</td>\n",
       "      <td>TRAFFIC STOP</td>\n",
       "      <td>TRF STOP</td>\n",
       "      <td>2016-09-20 13:08:26</td>\n",
       "      <td>2016-09-21</td>\n",
       "      <td>678.0</td>\n",
       "      <td>2020-10-06</td>\n",
       "      <td>-1476.0</td>\n",
       "    </tr>\n",
       "    <tr>\n",
       "      <th>115</th>\n",
       "      <td>POINT (-83.06370 42.34616)</td>\n",
       "      <td>ASSIST CITIZEN</td>\n",
       "      <td>ASTCITZ</td>\n",
       "      <td>2016-09-20 13:08:50</td>\n",
       "      <td>2016-09-21</td>\n",
       "      <td>610.0</td>\n",
       "      <td>2019-12-05</td>\n",
       "      <td>-1170.0</td>\n",
       "    </tr>\n",
       "  </tbody>\n",
       "</table>\n",
       "</div>"
      ],
      "text/plain": [
       "                       geometry        calldescription  category  \\\n",
       "48   POINT (-83.00914 42.37465)           RECOVER AUTO  RECAUTO    \n",
       "69   POINT (-82.95726 42.42911)  MISCELLANEOUS TRAFFIC  MISCTRAF   \n",
       "100  POINT (-82.97079 42.44557)            DISTURBANCE  DISTURB    \n",
       "113  POINT (-83.09584 42.32028)           TRAFFIC STOP  TRF STOP   \n",
       "115  POINT (-83.06370 42.34616)         ASSIST CITIZEN  ASTCITZ    \n",
       "\n",
       "         call_timestamp   call_day  first_live_camera   live_day  \\\n",
       "48  2016-09-20 11:37:55 2016-09-20              292.0 2018-05-28   \n",
       "69  2016-09-20 12:03:38 2016-09-21               83.0 2017-01-19   \n",
       "100 2016-09-20 12:48:14 2016-09-21              347.0 2018-08-20   \n",
       "113 2016-09-20 13:08:26 2016-09-21              678.0 2020-10-06   \n",
       "115 2016-09-20 13:08:50 2016-09-21              610.0 2019-12-05   \n",
       "\n",
       "     days_since_live  \n",
       "48            -615.0  \n",
       "69            -120.0  \n",
       "100           -698.0  \n",
       "113          -1476.0  \n",
       "115          -1170.0  "
      ]
     },
     "execution_count": 39,
     "metadata": {},
     "output_type": "execute_result"
    }
   ],
   "source": [
    "filtered_df.live_day"
   ]
  },
  {
   "cell_type": "code",
   "execution_count": 41,
   "id": "e34d39fa",
   "metadata": {
    "ExecuteTime": {
     "end_time": "2021-09-13T17:22:27.189014Z",
     "start_time": "2021-09-13T17:22:27.018898Z"
    }
   },
   "outputs": [],
   "source": [
    "import altair as alt"
   ]
  },
  {
   "cell_type": "code",
   "execution_count": 57,
   "id": "ad4bcdaa",
   "metadata": {
    "ExecuteTime": {
     "end_time": "2021-09-13T17:28:35.013057Z",
     "start_time": "2021-09-13T17:28:34.902784Z"
    }
   },
   "outputs": [
    {
     "data": {
      "application/vnd.jupyter.widget-view+json": {
       "model_id": "420e8dbb374a42dcba910abb1a8732f5",
       "version_major": 2,
       "version_minor": 0
      },
      "text/plain": [
       "Canvas(toolbar=Toolbar(toolitems=[('Home', 'Reset original view', 'home', 'home'), ('Back', 'Back to previous …"
      ]
     },
     "metadata": {},
     "output_type": "display_data"
    },
    {
     "data": {
      "text/plain": [
       "<AxesSubplot:>"
      ]
     },
     "execution_count": 57,
     "metadata": {},
     "output_type": "execute_result"
    }
   ],
   "source": [
    "# %matplotlib notebook #widget inline\n",
    "filtered_df.live_day.hist(edgecolor='k')"
   ]
  },
  {
   "cell_type": "code",
   "execution_count": 53,
   "id": "3cf24816",
   "metadata": {
    "ExecuteTime": {
     "end_time": "2021-10-01T22:11:59.051435Z",
     "start_time": "2021-10-01T22:11:58.968393Z"
    }
   },
   "outputs": [],
   "source": [
    "date_range = pd.date_range(\n",
    "    min(combined_df.call_day.min(), combined_df.live_day.min()),\n",
    "    max(combined_df.call_day.max(), combined_df.live_day.max()),\n",
    ")\n",
    "\n",
    "background_rate = combined_df.groupby('call_day').category.count().to_frame('total_calls').reindex(index=date_range).fillna(0)"
   ]
  },
  {
   "cell_type": "code",
   "execution_count": 54,
   "id": "14b39619",
   "metadata": {
    "ExecuteTime": {
     "end_time": "2021-10-01T22:12:03.460580Z",
     "start_time": "2021-10-01T22:12:03.222094Z"
    }
   },
   "outputs": [
    {
     "data": {
      "text/plain": [
       "<AxesSubplot:>"
      ]
     },
     "execution_count": 54,
     "metadata": {},
     "output_type": "execute_result"
    },
    {
     "data": {
      "image/png": "[encoded data removed]",
      "text/plain": [
       "<Figure size 432x288 with 1 Axes>"
      ]
     },
     "metadata": {
      "needs_background": "light"
     },
     "output_type": "display_data"
    }
   ],
   "source": [
    "background_rate.rolling(21).mean().plot()"
   ]
  },
  {
   "cell_type": "code",
   "execution_count": 86,
   "id": "89669adb",
   "metadata": {
    "ExecuteTime": {
     "end_time": "2021-10-01T22:31:40.832336Z",
     "start_time": "2021-10-01T22:31:36.708258Z"
    }
   },
   "outputs": [],
   "source": [
    "response_df = combined_df.groupby('first_live_camera').apply(lambda df: get_normalized_time_series(df, background_rate)).reset_index().dropna()"
   ]
  },
  {
   "cell_type": "code",
   "execution_count": 90,
   "id": "b98df470",
   "metadata": {
    "ExecuteTime": {
     "end_time": "2021-10-01T22:33:50.471290Z",
     "start_time": "2021-10-01T22:33:49.888308Z"
    }
   },
   "outputs": [
    {
     "data": {
      "text/plain": [
       "<AxesSubplot:>"
      ]
     },
     "execution_count": 90,
     "metadata": {},
     "output_type": "execute_result"
    },
    {
     "data": {
      "image/png": "[encoded data removed]",
      "text/plain": [
       "<Figure size 432x288 with 1 Axes>"
      ]
     },
     "metadata": {
      "needs_background": "light"
     },
     "output_type": "display_data"
    }
   ],
   "source": [
    "combined_df.days_since_live.hist(bins=np.arange(-100,100,1))"
   ]
  },
  {
   "cell_type": "code",
   "execution_count": 66,
   "id": "8ef0227d",
   "metadata": {
    "ExecuteTime": {
     "end_time": "2021-10-01T22:17:20.777539Z",
     "start_time": "2021-10-01T22:17:20.567749Z"
    }
   },
   "outputs": [
    {
     "data": {
      "text/plain": [
       "<AxesSubplot:>"
      ]
     },
     "execution_count": 66,
     "metadata": {},
     "output_type": "execute_result"
    },
    {
     "data": {
      "image/png": "[encoded data removed]",
      "text/plain": [
       "<Figure size 432x288 with 1 Axes>"
      ]
     },
     "metadata": {
      "needs_background": "light"
     },
     "output_type": "display_data"
    }
   ],
   "source": [
    "greenlight_geo_df.live_day.hist()"
   ]
  },
  {
   "cell_type": "code",
   "execution_count": 91,
   "id": "f5d5e13f",
   "metadata": {
    "ExecuteTime": {
     "end_time": "2021-10-01T22:34:30.476346Z",
     "start_time": "2021-10-01T22:34:29.825174Z"
    }
   },
   "outputs": [
    {
     "data": {
      "text/plain": [
       "[Text(0, 0.5, 'number of greenlight locations with calls\\non this relative live date')]"
      ]
     },
     "execution_count": 91,
     "metadata": {},
     "output_type": "execute_result"
    },
    {
     "data": {
      "image/png": "[encoded data removed]",
      "text/plain": [
       "<Figure size 432x288 with 1 Axes>"
      ]
     },
     "metadata": {
      "needs_background": "light"
     },
     "output_type": "display_data"
    }
   ],
   "source": [
    "response_df.groupby('days_since_live').apply(lambda df: df.first_live_camera.nunique()).loc[-1000:1000].rolling(7).mean().plot()\n",
    "plt.gca().set(ylabel='number of greenlight locations with calls\\non this relative live date')"
   ]
  },
  {
   "cell_type": "code",
   "execution_count": 57,
   "id": "6d84ba06",
   "metadata": {
    "ExecuteTime": {
     "end_time": "2021-10-01T22:12:26.709325Z",
     "start_time": "2021-10-01T22:12:26.511235Z"
    }
   },
   "outputs": [
    {
     "data": {
      "text/plain": [
       "<AxesSubplot:xlabel='days_since_live'>"
      ]
     },
     "execution_count": 57,
     "metadata": {},
     "output_type": "execute_result"
    },
    {
     "data": {
      "image/png": "[encoded data removed]",
      "text/plain": [
       "<Figure size 432x288 with 1 Axes>"
      ]
     },
     "metadata": {
      "needs_background": "light"
     },
     "output_type": "display_data"
    }
   ],
   "source": [
    "window = 80\n",
    "(response_df.groupby('days_since_live').response.mean()).loc[-window:window].rolling(7).mean().plot()"
   ]
  },
  {
   "cell_type": "code",
   "execution_count": 105,
   "id": "0c27be06",
   "metadata": {
    "ExecuteTime": {
     "end_time": "2021-09-13T17:44:37.164005Z",
     "start_time": "2021-09-13T17:44:37.089681Z"
    }
   },
   "outputs": [
    {
     "data": {
      "text/html": [
       "<div>\n",
       "<style scoped>\n",
       "    .dataframe tbody tr th:only-of-type {\n",
       "        vertical-align: middle;\n",
       "    }\n",
       "\n",
       "    .dataframe tbody tr th {\n",
       "        vertical-align: top;\n",
       "    }\n",
       "\n",
       "    .dataframe thead th {\n",
       "        text-align: right;\n",
       "    }\n",
       "</style>\n",
       "<table border=\"1\" class=\"dataframe\">\n",
       "  <thead>\n",
       "    <tr style=\"text-align: right;\">\n",
       "      <th></th>\n",
       "      <th>geometry</th>\n",
       "      <th>calldescription</th>\n",
       "      <th>category</th>\n",
       "      <th>call_timestamp</th>\n",
       "      <th>call_day</th>\n",
       "      <th>first_live_camera</th>\n",
       "      <th>live_day</th>\n",
       "      <th>days_since_live</th>\n",
       "    </tr>\n",
       "  </thead>\n",
       "  <tbody>\n",
       "    <tr>\n",
       "      <th>1015</th>\n",
       "      <td>POINT (-83.02136 42.36091)</td>\n",
       "      <td>MENTAL NOT VIOLENT</td>\n",
       "      <td>MENTPPRS</td>\n",
       "      <td>2016-09-21 04:10:21</td>\n",
       "      <td>2016-09-21</td>\n",
       "      <td>616.0</td>\n",
       "      <td>2019-12-13</td>\n",
       "      <td>-1178.0</td>\n",
       "    </tr>\n",
       "    <tr>\n",
       "      <th>1595</th>\n",
       "      <td>POINT (-83.02162 42.36130)</td>\n",
       "      <td>DISTURBANCE</td>\n",
       "      <td>DISTURB</td>\n",
       "      <td>2016-09-21 18:25:07</td>\n",
       "      <td>2016-09-22</td>\n",
       "      <td>616.0</td>\n",
       "      <td>2019-12-13</td>\n",
       "      <td>-1177.0</td>\n",
       "    </tr>\n",
       "    <tr>\n",
       "      <th>1807</th>\n",
       "      <td>POINT (-83.02162 42.36130)</td>\n",
       "      <td>BURGLARY OTHER</td>\n",
       "      <td>HI3</td>\n",
       "      <td>2016-09-21 21:38:45</td>\n",
       "      <td>2016-09-22</td>\n",
       "      <td>616.0</td>\n",
       "      <td>2019-12-13</td>\n",
       "      <td>-1177.0</td>\n",
       "    </tr>\n",
       "    <tr>\n",
       "      <th>2728</th>\n",
       "      <td>POINT (-83.02162 42.36130)</td>\n",
       "      <td>MENTAL VIOLENT NOT ARMED</td>\n",
       "      <td>MNTLNARM</td>\n",
       "      <td>2016-09-22 18:08:44</td>\n",
       "      <td>2016-09-23</td>\n",
       "      <td>616.0</td>\n",
       "      <td>2019-12-13</td>\n",
       "      <td>-1176.0</td>\n",
       "    </tr>\n",
       "    <tr>\n",
       "      <th>7185</th>\n",
       "      <td>POINT (-83.02162 42.36130)</td>\n",
       "      <td>RAPE IP OR JH</td>\n",
       "      <td>RAPE</td>\n",
       "      <td>2016-09-26 15:14:48</td>\n",
       "      <td>2016-09-27</td>\n",
       "      <td>616.0</td>\n",
       "      <td>2019-12-13</td>\n",
       "      <td>-1172.0</td>\n",
       "    </tr>\n",
       "  </tbody>\n",
       "</table>\n",
       "</div>"
      ],
      "text/plain": [
       "                        geometry           calldescription  category  \\\n",
       "1015  POINT (-83.02136 42.36091)        MENTAL NOT VIOLENT  MENTPPRS   \n",
       "1595  POINT (-83.02162 42.36130)               DISTURBANCE  DISTURB    \n",
       "1807  POINT (-83.02162 42.36130)            BURGLARY OTHER  HI3        \n",
       "2728  POINT (-83.02162 42.36130)  MENTAL VIOLENT NOT ARMED  MNTLNARM   \n",
       "7185  POINT (-83.02162 42.36130)             RAPE IP OR JH  RAPE       \n",
       "\n",
       "          call_timestamp   call_day  first_live_camera   live_day  \\\n",
       "1015 2016-09-21 04:10:21 2016-09-21              616.0 2019-12-13   \n",
       "1595 2016-09-21 18:25:07 2016-09-22              616.0 2019-12-13   \n",
       "1807 2016-09-21 21:38:45 2016-09-22              616.0 2019-12-13   \n",
       "2728 2016-09-22 18:08:44 2016-09-23              616.0 2019-12-13   \n",
       "7185 2016-09-26 15:14:48 2016-09-27              616.0 2019-12-13   \n",
       "\n",
       "      days_since_live  \n",
       "1015          -1178.0  \n",
       "1595          -1177.0  \n",
       "1807          -1177.0  \n",
       "2728          -1176.0  \n",
       "7185          -1172.0  "
      ]
     },
     "execution_count": 105,
     "metadata": {},
     "output_type": "execute_result"
    }
   ],
   "source": [
    "df = filtered_df.loc[lambda df: df.first_live_camera==616]\n",
    "df.head()"
   ]
  },
  {
   "cell_type": "code",
   "execution_count": 175,
   "id": "712f2ef8",
   "metadata": {
    "ExecuteTime": {
     "end_time": "2021-09-13T20:20:18.618423Z",
     "start_time": "2021-09-13T20:20:18.542738Z"
    }
   },
   "outputs": [
    {
     "data": {
      "text/html": [
       "<div>\n",
       "<style scoped>\n",
       "    .dataframe tbody tr th:only-of-type {\n",
       "        vertical-align: middle;\n",
       "    }\n",
       "\n",
       "    .dataframe tbody tr th {\n",
       "        vertical-align: top;\n",
       "    }\n",
       "\n",
       "    .dataframe thead th {\n",
       "        text-align: right;\n",
       "    }\n",
       "</style>\n",
       "<table border=\"1\" class=\"dataframe\">\n",
       "  <thead>\n",
       "    <tr style=\"text-align: right;\">\n",
       "      <th></th>\n",
       "      <th>call_day</th>\n",
       "      <th>response</th>\n",
       "      <th>geometry</th>\n",
       "      <th>calldescription</th>\n",
       "      <th>category</th>\n",
       "      <th>call_timestamp</th>\n",
       "      <th>first_live_camera</th>\n",
       "      <th>live_day</th>\n",
       "    </tr>\n",
       "    <tr>\n",
       "      <th>days_since_live</th>\n",
       "      <th></th>\n",
       "      <th></th>\n",
       "      <th></th>\n",
       "      <th></th>\n",
       "      <th></th>\n",
       "      <th></th>\n",
       "      <th></th>\n",
       "      <th></th>\n",
       "    </tr>\n",
       "  </thead>\n",
       "  <tbody>\n",
       "    <tr>\n",
       "      <th>-1178.0</th>\n",
       "      <td>2016-09-21</td>\n",
       "      <td>1.942016</td>\n",
       "      <td>POINT (-83.02136 42.36091)</td>\n",
       "      <td>MENTAL NOT VIOLENT</td>\n",
       "      <td>MENTPPRS</td>\n",
       "      <td>2016-09-21 04:10:21</td>\n",
       "      <td>616.0</td>\n",
       "      <td>2019-12-13</td>\n",
       "    </tr>\n",
       "    <tr>\n",
       "      <th>-1177.0</th>\n",
       "      <td>2016-09-22</td>\n",
       "      <td>2.543526</td>\n",
       "      <td>POINT (-83.02162 42.36130)</td>\n",
       "      <td>DISTURBANCE</td>\n",
       "      <td>DISTURB</td>\n",
       "      <td>2016-09-21 18:25:07</td>\n",
       "      <td>616.0</td>\n",
       "      <td>2019-12-13</td>\n",
       "    </tr>\n",
       "    <tr>\n",
       "      <th>-1177.0</th>\n",
       "      <td>2016-09-22</td>\n",
       "      <td>2.543526</td>\n",
       "      <td>POINT (-83.02162 42.36130)</td>\n",
       "      <td>BURGLARY OTHER</td>\n",
       "      <td>HI3</td>\n",
       "      <td>2016-09-21 21:38:45</td>\n",
       "      <td>616.0</td>\n",
       "      <td>2019-12-13</td>\n",
       "    </tr>\n",
       "    <tr>\n",
       "      <th>-1176.0</th>\n",
       "      <td>2016-09-23</td>\n",
       "      <td>1.318433</td>\n",
       "      <td>POINT (-83.02162 42.36130)</td>\n",
       "      <td>MENTAL VIOLENT NOT ARMED</td>\n",
       "      <td>MNTLNARM</td>\n",
       "      <td>2016-09-22 18:08:44</td>\n",
       "      <td>616.0</td>\n",
       "      <td>2019-12-13</td>\n",
       "    </tr>\n",
       "    <tr>\n",
       "      <th>-1172.0</th>\n",
       "      <td>2016-09-27</td>\n",
       "      <td>1.796365</td>\n",
       "      <td>POINT (-83.02162 42.36130)</td>\n",
       "      <td>RAPE IP OR JH</td>\n",
       "      <td>RAPE</td>\n",
       "      <td>2016-09-26 15:14:48</td>\n",
       "      <td>616.0</td>\n",
       "      <td>2019-12-13</td>\n",
       "    </tr>\n",
       "    <tr>\n",
       "      <th>...</th>\n",
       "      <td>...</td>\n",
       "      <td>...</td>\n",
       "      <td>...</td>\n",
       "      <td>...</td>\n",
       "      <td>...</td>\n",
       "      <td>...</td>\n",
       "      <td>...</td>\n",
       "      <td>...</td>\n",
       "    </tr>\n",
       "    <tr>\n",
       "      <th>547.0</th>\n",
       "      <td>2021-06-12</td>\n",
       "      <td>1.927135</td>\n",
       "      <td>POINT (-83.02162 42.36130)</td>\n",
       "      <td>TRAFFIC STOP</td>\n",
       "      <td>TRF STOP</td>\n",
       "      <td>2021-06-11 23:37:14</td>\n",
       "      <td>616.0</td>\n",
       "      <td>2019-12-13</td>\n",
       "    </tr>\n",
       "    <tr>\n",
       "      <th>548.0</th>\n",
       "      <td>2021-06-13</td>\n",
       "      <td>0.588972</td>\n",
       "      <td>POINT (-83.02136 42.36091)</td>\n",
       "      <td>SPECIAL ATTENTION</td>\n",
       "      <td>SPCL ATT</td>\n",
       "      <td>2021-06-12 15:04:14</td>\n",
       "      <td>616.0</td>\n",
       "      <td>2019-12-13</td>\n",
       "    </tr>\n",
       "    <tr>\n",
       "      <th>548.0</th>\n",
       "      <td>2021-06-13</td>\n",
       "      <td>0.588972</td>\n",
       "      <td>POINT (-83.02136 42.36091)</td>\n",
       "      <td>DISTURBANCE</td>\n",
       "      <td>DISTURB</td>\n",
       "      <td>2021-06-13 06:40:18</td>\n",
       "      <td>616.0</td>\n",
       "      <td>2019-12-13</td>\n",
       "    </tr>\n",
       "    <tr>\n",
       "      <th>549.0</th>\n",
       "      <td>2021-06-14</td>\n",
       "      <td>1.105455</td>\n",
       "      <td>POINT (-83.02162 42.36130)</td>\n",
       "      <td>SPECIAL ATTENTION</td>\n",
       "      <td>SPCL ATT</td>\n",
       "      <td>2021-06-13 13:32:34</td>\n",
       "      <td>616.0</td>\n",
       "      <td>2019-12-13</td>\n",
       "    </tr>\n",
       "    <tr>\n",
       "      <th>549.0</th>\n",
       "      <td>2021-06-14</td>\n",
       "      <td>1.105455</td>\n",
       "      <td>POINT (-83.02136 42.36091)</td>\n",
       "      <td>SPECIAL ATTENTION</td>\n",
       "      <td>SPCL ATT</td>\n",
       "      <td>2021-06-13 14:35:17</td>\n",
       "      <td>616.0</td>\n",
       "      <td>2019-12-13</td>\n",
       "    </tr>\n",
       "  </tbody>\n",
       "</table>\n",
       "<p>3798 rows × 8 columns</p>\n",
       "</div>"
      ],
      "text/plain": [
       "                  call_day  response                    geometry  \\\n",
       "days_since_live                                                    \n",
       "-1178.0         2016-09-21  1.942016  POINT (-83.02136 42.36091)   \n",
       "-1177.0         2016-09-22  2.543526  POINT (-83.02162 42.36130)   \n",
       "-1177.0         2016-09-22  2.543526  POINT (-83.02162 42.36130)   \n",
       "-1176.0         2016-09-23  1.318433  POINT (-83.02162 42.36130)   \n",
       "-1172.0         2016-09-27  1.796365  POINT (-83.02162 42.36130)   \n",
       "...                    ...       ...                         ...   \n",
       " 547.0          2021-06-12  1.927135  POINT (-83.02162 42.36130)   \n",
       " 548.0          2021-06-13  0.588972  POINT (-83.02136 42.36091)   \n",
       " 548.0          2021-06-13  0.588972  POINT (-83.02136 42.36091)   \n",
       " 549.0          2021-06-14  1.105455  POINT (-83.02162 42.36130)   \n",
       " 549.0          2021-06-14  1.105455  POINT (-83.02136 42.36091)   \n",
       "\n",
       "                          calldescription  category      call_timestamp  \\\n",
       "days_since_live                                                           \n",
       "-1178.0                MENTAL NOT VIOLENT  MENTPPRS 2016-09-21 04:10:21   \n",
       "-1177.0                       DISTURBANCE  DISTURB  2016-09-21 18:25:07   \n",
       "-1177.0                    BURGLARY OTHER  HI3      2016-09-21 21:38:45   \n",
       "-1176.0          MENTAL VIOLENT NOT ARMED  MNTLNARM 2016-09-22 18:08:44   \n",
       "-1172.0                     RAPE IP OR JH  RAPE     2016-09-26 15:14:48   \n",
       "...                                   ...       ...                 ...   \n",
       " 547.0                       TRAFFIC STOP  TRF STOP 2021-06-11 23:37:14   \n",
       " 548.0                  SPECIAL ATTENTION  SPCL ATT 2021-06-12 15:04:14   \n",
       " 548.0                        DISTURBANCE  DISTURB  2021-06-13 06:40:18   \n",
       " 549.0                  SPECIAL ATTENTION  SPCL ATT 2021-06-13 13:32:34   \n",
       " 549.0                  SPECIAL ATTENTION  SPCL ATT 2021-06-13 14:35:17   \n",
       "\n",
       "                 first_live_camera   live_day  \n",
       "days_since_live                                \n",
       "-1178.0                      616.0 2019-12-13  \n",
       "-1177.0                      616.0 2019-12-13  \n",
       "-1177.0                      616.0 2019-12-13  \n",
       "-1176.0                      616.0 2019-12-13  \n",
       "-1172.0                      616.0 2019-12-13  \n",
       "...                            ...        ...  \n",
       " 547.0                       616.0 2019-12-13  \n",
       " 548.0                       616.0 2019-12-13  \n",
       " 548.0                       616.0 2019-12-13  \n",
       " 549.0                       616.0 2019-12-13  \n",
       " 549.0                       616.0 2019-12-13  \n",
       "\n",
       "[3798 rows x 8 columns]"
      ]
     },
     "execution_count": 175,
     "metadata": {},
     "output_type": "execute_result"
    }
   ],
   "source": [
    "event_proportions_normalized.to_frame().merge(df, on=\"call_day\").set_index(\"days_since_live\")"
   ]
  },
  {
   "cell_type": "code",
   "execution_count": 168,
   "id": "415cd93d",
   "metadata": {
    "ExecuteTime": {
     "end_time": "2021-09-13T20:18:55.749787Z",
     "start_time": "2021-09-13T20:18:55.541319Z"
    }
   },
   "outputs": [
    {
     "data": {
      "text/plain": [
       "<AxesSubplot:xlabel='call_day'>"
      ]
     },
     "execution_count": 168,
     "metadata": {},
     "output_type": "execute_result"
    },
    {
     "data": {
      "image/png": "[encoded data removed]",
      "text/plain": [
       "<Figure size 432x288 with 1 Axes>"
      ]
     },
     "metadata": {
      "needs_background": "light"
     },
     "output_type": "display_data"
    }
   ],
   "source": [
    "event_proportions_normalized.plot()"
   ]
  },
  {
   "cell_type": "code",
   "execution_count": 107,
   "id": "b9580670",
   "metadata": {
    "ExecuteTime": {
     "end_time": "2021-09-13T17:44:50.606546Z",
     "start_time": "2021-09-13T17:44:50.516889Z"
    }
   },
   "outputs": [
    {
     "data": {
      "application/vnd.jupyter.widget-view+json": {
       "model_id": "17683df596fd4175a862a7d2f761fa2e",
       "version_major": 2,
       "version_minor": 0
      },
      "text/plain": [
       "Canvas(toolbar=Toolbar(toolitems=[('Home', 'Reset original view', 'home', 'home'), ('Back', 'Back to previous …"
      ]
     },
     "metadata": {},
     "output_type": "display_data"
    },
    {
     "data": {
      "text/plain": [
       "<AxesSubplot:xlabel='call_day'>"
      ]
     },
     "execution_count": 107,
     "metadata": {},
     "output_type": "execute_result"
    }
   ],
   "source": [
    "%matplotlib widget\n",
    "df.groupby(\"call_day\").calldescription.count().rename(\"n_calls\").plot()"
   ]
  },
  {
   "cell_type": "code",
   "execution_count": 115,
   "id": "064c5d2c",
   "metadata": {
    "ExecuteTime": {
     "end_time": "2021-09-13T17:49:08.719604Z",
     "start_time": "2021-09-13T17:49:08.687553Z"
    }
   },
   "outputs": [],
   "source": [
    "event_counts = df.groupby(\"call_day\").calldescription.count().rename(\"n_calls\")\n",
    "event_proportions = pd.merge(background_rate, event_counts, left_index=True, right_on=\"call_day\").pipe(\n",
    "    lambda df: df.n_calls / df.total_calls\n",
    ")\n",
    "event_proportions_normalized = (event_proportions / event_proportions.mean()).rename(\"response\")"
   ]
  },
  {
   "cell_type": "code",
   "execution_count": 127,
   "id": "96d8c541",
   "metadata": {
    "ExecuteTime": {
     "end_time": "2021-09-13T17:51:41.525396Z",
     "start_time": "2021-09-13T17:51:41.443106Z"
    }
   },
   "outputs": [
    {
     "data": {
      "application/vnd.jupyter.widget-view+json": {
       "model_id": "4407b16f30be460097fafb0a6d0b9aa7",
       "version_major": 2,
       "version_minor": 0
      },
      "text/plain": [
       "Canvas(toolbar=Toolbar(toolitems=[('Home', 'Reset original view', 'home', 'home'), ('Back', 'Back to previous …"
      ]
     },
     "metadata": {},
     "output_type": "display_data"
    },
    {
     "data": {
      "text/plain": [
       "<AxesSubplot:xlabel='call_day'>"
      ]
     },
     "execution_count": 127,
     "metadata": {},
     "output_type": "execute_result"
    }
   ],
   "source": [
    "%matplotlib widget\n",
    "event_proportions_normalized.plot()"
   ]
  },
  {
   "cell_type": "code",
   "execution_count": 120,
   "id": "4b68dd1f",
   "metadata": {
    "ExecuteTime": {
     "end_time": "2021-09-13T17:50:06.829748Z",
     "start_time": "2021-09-13T17:50:06.694939Z"
    }
   },
   "outputs": [
    {
     "data": {
      "text/html": [
       "<div>\n",
       "<style scoped>\n",
       "    .dataframe tbody tr th:only-of-type {\n",
       "        vertical-align: middle;\n",
       "    }\n",
       "\n",
       "    .dataframe tbody tr th {\n",
       "        vertical-align: top;\n",
       "    }\n",
       "\n",
       "    .dataframe thead th {\n",
       "        text-align: right;\n",
       "    }\n",
       "</style>\n",
       "<table border=\"1\" class=\"dataframe\">\n",
       "  <thead>\n",
       "    <tr style=\"text-align: right;\">\n",
       "      <th></th>\n",
       "      <th>geometry</th>\n",
       "      <th>calldescription</th>\n",
       "      <th>category</th>\n",
       "      <th>call_timestamp</th>\n",
       "      <th>call_day</th>\n",
       "      <th>first_live_camera</th>\n",
       "      <th>live_day</th>\n",
       "      <th>days_since_live</th>\n",
       "    </tr>\n",
       "  </thead>\n",
       "  <tbody>\n",
       "    <tr>\n",
       "      <th>1015</th>\n",
       "      <td>POINT (-83.02136 42.36091)</td>\n",
       "      <td>MENTAL NOT VIOLENT</td>\n",
       "      <td>MENTPPRS</td>\n",
       "      <td>2016-09-21 04:10:21</td>\n",
       "      <td>2016-09-21</td>\n",
       "      <td>616.0</td>\n",
       "      <td>2019-12-13</td>\n",
       "      <td>-1178.0</td>\n",
       "    </tr>\n",
       "    <tr>\n",
       "      <th>1595</th>\n",
       "      <td>POINT (-83.02162 42.36130)</td>\n",
       "      <td>DISTURBANCE</td>\n",
       "      <td>DISTURB</td>\n",
       "      <td>2016-09-21 18:25:07</td>\n",
       "      <td>2016-09-22</td>\n",
       "      <td>616.0</td>\n",
       "      <td>2019-12-13</td>\n",
       "      <td>-1177.0</td>\n",
       "    </tr>\n",
       "    <tr>\n",
       "      <th>1807</th>\n",
       "      <td>POINT (-83.02162 42.36130)</td>\n",
       "      <td>BURGLARY OTHER</td>\n",
       "      <td>HI3</td>\n",
       "      <td>2016-09-21 21:38:45</td>\n",
       "      <td>2016-09-22</td>\n",
       "      <td>616.0</td>\n",
       "      <td>2019-12-13</td>\n",
       "      <td>-1177.0</td>\n",
       "    </tr>\n",
       "    <tr>\n",
       "      <th>2728</th>\n",
       "      <td>POINT (-83.02162 42.36130)</td>\n",
       "      <td>MENTAL VIOLENT NOT ARMED</td>\n",
       "      <td>MNTLNARM</td>\n",
       "      <td>2016-09-22 18:08:44</td>\n",
       "      <td>2016-09-23</td>\n",
       "      <td>616.0</td>\n",
       "      <td>2019-12-13</td>\n",
       "      <td>-1176.0</td>\n",
       "    </tr>\n",
       "    <tr>\n",
       "      <th>7185</th>\n",
       "      <td>POINT (-83.02162 42.36130)</td>\n",
       "      <td>RAPE IP OR JH</td>\n",
       "      <td>RAPE</td>\n",
       "      <td>2016-09-26 15:14:48</td>\n",
       "      <td>2016-09-27</td>\n",
       "      <td>616.0</td>\n",
       "      <td>2019-12-13</td>\n",
       "      <td>-1172.0</td>\n",
       "    </tr>\n",
       "    <tr>\n",
       "      <th>...</th>\n",
       "      <td>...</td>\n",
       "      <td>...</td>\n",
       "      <td>...</td>\n",
       "      <td>...</td>\n",
       "      <td>...</td>\n",
       "      <td>...</td>\n",
       "      <td>...</td>\n",
       "      <td>...</td>\n",
       "    </tr>\n",
       "    <tr>\n",
       "      <th>4033788</th>\n",
       "      <td>POINT (-83.02162 42.36130)</td>\n",
       "      <td>TRAFFIC STOP</td>\n",
       "      <td>TRF STOP</td>\n",
       "      <td>2021-06-11 23:37:14</td>\n",
       "      <td>2021-06-12</td>\n",
       "      <td>616.0</td>\n",
       "      <td>2019-12-13</td>\n",
       "      <td>547.0</td>\n",
       "    </tr>\n",
       "    <tr>\n",
       "      <th>4035397</th>\n",
       "      <td>POINT (-83.02136 42.36091)</td>\n",
       "      <td>SPECIAL ATTENTION</td>\n",
       "      <td>SPCL ATT</td>\n",
       "      <td>2021-06-12 15:04:14</td>\n",
       "      <td>2021-06-13</td>\n",
       "      <td>616.0</td>\n",
       "      <td>2019-12-13</td>\n",
       "      <td>548.0</td>\n",
       "    </tr>\n",
       "    <tr>\n",
       "      <th>4037169</th>\n",
       "      <td>POINT (-83.02136 42.36091)</td>\n",
       "      <td>DISTURBANCE</td>\n",
       "      <td>DISTURB</td>\n",
       "      <td>2021-06-13 06:40:18</td>\n",
       "      <td>2021-06-13</td>\n",
       "      <td>616.0</td>\n",
       "      <td>2019-12-13</td>\n",
       "      <td>548.0</td>\n",
       "    </tr>\n",
       "    <tr>\n",
       "      <th>4037602</th>\n",
       "      <td>POINT (-83.02162 42.36130)</td>\n",
       "      <td>SPECIAL ATTENTION</td>\n",
       "      <td>SPCL ATT</td>\n",
       "      <td>2021-06-13 13:32:34</td>\n",
       "      <td>2021-06-14</td>\n",
       "      <td>616.0</td>\n",
       "      <td>2019-12-13</td>\n",
       "      <td>549.0</td>\n",
       "    </tr>\n",
       "    <tr>\n",
       "      <th>4037700</th>\n",
       "      <td>POINT (-83.02136 42.36091)</td>\n",
       "      <td>SPECIAL ATTENTION</td>\n",
       "      <td>SPCL ATT</td>\n",
       "      <td>2021-06-13 14:35:17</td>\n",
       "      <td>2021-06-14</td>\n",
       "      <td>616.0</td>\n",
       "      <td>2019-12-13</td>\n",
       "      <td>549.0</td>\n",
       "    </tr>\n",
       "  </tbody>\n",
       "</table>\n",
       "<p>3798 rows × 8 columns</p>\n",
       "</div>"
      ],
      "text/plain": [
       "                           geometry           calldescription  category  \\\n",
       "1015     POINT (-83.02136 42.36091)        MENTAL NOT VIOLENT  MENTPPRS   \n",
       "1595     POINT (-83.02162 42.36130)               DISTURBANCE  DISTURB    \n",
       "1807     POINT (-83.02162 42.36130)            BURGLARY OTHER  HI3        \n",
       "2728     POINT (-83.02162 42.36130)  MENTAL VIOLENT NOT ARMED  MNTLNARM   \n",
       "7185     POINT (-83.02162 42.36130)             RAPE IP OR JH  RAPE       \n",
       "...                             ...                       ...       ...   \n",
       "4033788  POINT (-83.02162 42.36130)              TRAFFIC STOP  TRF STOP   \n",
       "4035397  POINT (-83.02136 42.36091)         SPECIAL ATTENTION  SPCL ATT   \n",
       "4037169  POINT (-83.02136 42.36091)               DISTURBANCE  DISTURB    \n",
       "4037602  POINT (-83.02162 42.36130)         SPECIAL ATTENTION  SPCL ATT   \n",
       "4037700  POINT (-83.02136 42.36091)         SPECIAL ATTENTION  SPCL ATT   \n",
       "\n",
       "             call_timestamp   call_day  first_live_camera   live_day  \\\n",
       "1015    2016-09-21 04:10:21 2016-09-21              616.0 2019-12-13   \n",
       "1595    2016-09-21 18:25:07 2016-09-22              616.0 2019-12-13   \n",
       "1807    2016-09-21 21:38:45 2016-09-22              616.0 2019-12-13   \n",
       "2728    2016-09-22 18:08:44 2016-09-23              616.0 2019-12-13   \n",
       "7185    2016-09-26 15:14:48 2016-09-27              616.0 2019-12-13   \n",
       "...                     ...        ...                ...        ...   \n",
       "4033788 2021-06-11 23:37:14 2021-06-12              616.0 2019-12-13   \n",
       "4035397 2021-06-12 15:04:14 2021-06-13              616.0 2019-12-13   \n",
       "4037169 2021-06-13 06:40:18 2021-06-13              616.0 2019-12-13   \n",
       "4037602 2021-06-13 13:32:34 2021-06-14              616.0 2019-12-13   \n",
       "4037700 2021-06-13 14:35:17 2021-06-14              616.0 2019-12-13   \n",
       "\n",
       "         days_since_live  \n",
       "1015             -1178.0  \n",
       "1595             -1177.0  \n",
       "1807             -1177.0  \n",
       "2728             -1176.0  \n",
       "7185             -1172.0  \n",
       "...                  ...  \n",
       "4033788            547.0  \n",
       "4035397            548.0  \n",
       "4037169            548.0  \n",
       "4037602            549.0  \n",
       "4037700            549.0  \n",
       "\n",
       "[3798 rows x 8 columns]"
      ]
     },
     "execution_count": 120,
     "metadata": {},
     "output_type": "execute_result"
    }
   ],
   "source": [
    "df"
   ]
  },
  {
   "cell_type": "code",
   "execution_count": 123,
   "id": "48ea0944",
   "metadata": {
    "ExecuteTime": {
     "end_time": "2021-09-13T17:50:43.955307Z",
     "start_time": "2021-09-13T17:50:43.932657Z"
    }
   },
   "outputs": [
    {
     "data": {
      "text/plain": [
       "0.9424189296118196"
      ]
     },
     "execution_count": 123,
     "metadata": {},
     "output_type": "execute_result"
    }
   ],
   "source": [
    "event_proportions_normalized.loc[:'2019-12-13'].mean()"
   ]
  },
  {
   "cell_type": "code",
   "execution_count": 124,
   "id": "ee948ee6",
   "metadata": {
    "ExecuteTime": {
     "end_time": "2021-09-13T17:50:50.305037Z",
     "start_time": "2021-09-13T17:50:50.279195Z"
    }
   },
   "outputs": [
    {
     "data": {
      "text/plain": [
       "1.081267305073316"
      ]
     },
     "execution_count": 124,
     "metadata": {},
     "output_type": "execute_result"
    }
   ],
   "source": [
    "event_proportions_normalized.loc['2019-12-13':].mean()"
   ]
  },
  {
   "cell_type": "code",
   "execution_count": 128,
   "id": "3d60077a",
   "metadata": {
    "ExecuteTime": {
     "end_time": "2021-09-13T17:51:46.694968Z",
     "start_time": "2021-09-13T17:51:46.576142Z"
    }
   },
   "outputs": [
    {
     "data": {
      "application/vnd.jupyter.widget-view+json": {
       "model_id": "19bc4d265f494c1bb62ee9d14a162cfc",
       "version_major": 2,
       "version_minor": 0
      },
      "text/plain": [
       "Canvas(toolbar=Toolbar(toolitems=[('Home', 'Reset original view', 'home', 'home'), ('Back', 'Back to previous …"
      ]
     },
     "metadata": {},
     "output_type": "display_data"
    },
    {
     "data": {
      "text/plain": [
       "<AxesSubplot:xlabel='days_since_live'>"
      ]
     },
     "execution_count": 128,
     "metadata": {},
     "output_type": "execute_result"
    }
   ],
   "source": [
    "%matplotlib widget\n",
    "event_proportions_normalized.to_frame().merge(df, on=\"call_day\").set_index(\"days_since_live\").response.plot()"
   ]
  },
  {
   "cell_type": "code",
   "execution_count": 77,
   "id": "8be999e4",
   "metadata": {
    "ExecuteTime": {
     "end_time": "2021-09-13T17:34:46.103545Z",
     "start_time": "2021-09-13T17:34:46.076754Z"
    }
   },
   "outputs": [
    {
     "data": {
      "text/plain": [
       "1.2554376842649921"
      ]
     },
     "execution_count": 77,
     "metadata": {},
     "output_type": "execute_result"
    }
   ],
   "source": [
    "t.loc[t.days_since_live < 0,'response'].median()"
   ]
  },
  {
   "cell_type": "code",
   "execution_count": 78,
   "id": "4ab5e281",
   "metadata": {
    "ExecuteTime": {
     "end_time": "2021-09-13T17:34:49.829919Z",
     "start_time": "2021-09-13T17:34:49.793737Z"
    }
   },
   "outputs": [
    {
     "data": {
      "text/plain": [
       "1.0246304288663313"
      ]
     },
     "execution_count": 78,
     "metadata": {},
     "output_type": "execute_result"
    }
   ],
   "source": [
    "t.loc[t.days_since_live > 0,'response'].median()"
   ]
  },
  {
   "cell_type": "code",
   "execution_count": 266,
   "id": "3ddfd05b",
   "metadata": {
    "ExecuteTime": {
     "end_time": "2021-08-30T17:56:00.006128Z",
     "start_time": "2021-08-30T17:55:59.980592Z"
    }
   },
   "outputs": [],
   "source": [
    "from scipy.stats import ttest_ind"
   ]
  },
  {
   "cell_type": "code",
   "execution_count": 280,
   "id": "c02b6259",
   "metadata": {
    "ExecuteTime": {
     "end_time": "2021-08-30T18:33:53.097944Z",
     "start_time": "2021-08-30T18:33:53.054055Z"
    }
   },
   "outputs": [
    {
     "data": {
      "text/plain": [
       "Ttest_indResult(statistic=103.3708580226368, pvalue=0.0)"
      ]
     },
     "execution_count": 280,
     "metadata": {},
     "output_type": "execute_result"
    }
   ],
   "source": [
    "ttest_ind(t.loc[t.days_since_live < 0,'response'],t.loc[t.days_since_live > 0,'response'],equal_var=False)"
   ]
  },
  {
   "cell_type": "code",
   "execution_count": 82,
   "id": "1351ea31",
   "metadata": {
    "ExecuteTime": {
     "end_time": "2021-09-13T17:36:05.307884Z",
     "start_time": "2021-09-13T17:36:05.203833Z"
    }
   },
   "outputs": [],
   "source": [
    "# combined_df.loc[lambda df: (df.calldescription.str.contains('SPECIAL ATTENTION')) & (df.days_since_live > 0),'calldescription'].value_counts()\n",
    "tmp = combined_df.loc[\n",
    "    lambda df: (df.days_since_live > 0), \"calldescription\"\n",
    "].value_counts().to_frame().merge(\n",
    "    combined_df.loc[\n",
    "        lambda df: (df.days_since_live < 0), \"calldescription\"\n",
    "    ].value_counts(),\n",
    "    left_index=True,\n",
    "    right_index=True,\n",
    "    suffixes=('_after','_before')\n",
    ").pipe(lambda df: df.calldescription_after/df.calldescription_before).sort_values().pipe(np.log2)"
   ]
  },
  {
   "cell_type": "code",
   "execution_count": 83,
   "id": "de2313ba",
   "metadata": {
    "ExecuteTime": {
     "end_time": "2021-09-13T17:36:09.262399Z",
     "start_time": "2021-09-13T17:36:09.203043Z"
    }
   },
   "outputs": [
    {
     "data": {
      "application/vnd.jupyter.widget-view+json": {
       "model_id": "d45d78a213b7454a9297e7e43b8f02bf",
       "version_major": 2,
       "version_minor": 0
      },
      "text/plain": [
       "Canvas(toolbar=Toolbar(toolitems=[('Home', 'Reset original view', 'home', 'home'), ('Back', 'Back to previous …"
      ]
     },
     "metadata": {},
     "output_type": "display_data"
    },
    {
     "ename": "NameError",
     "evalue": "name 'ttt' is not defined",
     "output_type": "error",
     "traceback": [
      "\u001b[0;31m---------------------------------------------------------------------------\u001b[0m",
      "\u001b[0;31mNameError\u001b[0m                                 Traceback (most recent call last)",
      "\u001b[0;32m/var/folders/28/p0bhwx8s3cj150l_wknp1wd80000gp/T/ipykernel_8387/2151070739.py\u001b[0m in \u001b[0;36m<module>\u001b[0;34m\u001b[0m\n\u001b[1;32m      1\u001b[0m \u001b[0mfig\u001b[0m\u001b[0;34m,\u001b[0m \u001b[0max\u001b[0m \u001b[0;34m=\u001b[0m \u001b[0mplt\u001b[0m\u001b[0;34m.\u001b[0m\u001b[0msubplots\u001b[0m\u001b[0;34m(\u001b[0m\u001b[0;36m1\u001b[0m\u001b[0;34m,\u001b[0m\u001b[0;36m1\u001b[0m\u001b[0;34m,\u001b[0m\u001b[0mfigsize\u001b[0m\u001b[0;34m=\u001b[0m\u001b[0;34m(\u001b[0m\u001b[0;36m20\u001b[0m\u001b[0;34m,\u001b[0m\u001b[0;36m10\u001b[0m\u001b[0;34m)\u001b[0m\u001b[0;34m)\u001b[0m\u001b[0;34m\u001b[0m\u001b[0;34m\u001b[0m\u001b[0m\n\u001b[0;32m----> 2\u001b[0;31m \u001b[0mttt\u001b[0m\u001b[0;34m.\u001b[0m\u001b[0mloc\u001b[0m\u001b[0;34m[\u001b[0m\u001b[0;34m-\u001b[0m\u001b[0;36m1000\u001b[0m\u001b[0;34m:\u001b[0m\u001b[0;36m1000\u001b[0m\u001b[0;34m]\u001b[0m\u001b[0;34m.\u001b[0m\u001b[0mplot\u001b[0m\u001b[0;34m(\u001b[0m\u001b[0;34m)\u001b[0m\u001b[0;34m\u001b[0m\u001b[0;34m\u001b[0m\u001b[0m\n\u001b[0m",
      "\u001b[0;31mNameError\u001b[0m: name 'ttt' is not defined"
     ]
    }
   ],
   "source": [
    "fig, ax = plt.subplots(1,1,figsize=(20,10))\n",
    "ttt.loc[-1000:1000].plot()"
   ]
  },
  {
   "cell_type": "code",
   "execution_count": 85,
   "id": "b0b93d7e",
   "metadata": {
    "ExecuteTime": {
     "end_time": "2021-09-13T17:38:36.442004Z",
     "start_time": "2021-09-13T17:38:36.014371Z"
    }
   },
   "outputs": [
    {
     "data": {
      "text/plain": [
       "call_day\n",
       "2016-01-01    8\n",
       "2016-01-02    8\n",
       "2016-01-03    8\n",
       "Freq: D, Name: live_cameras, dtype: int64"
      ]
     },
     "execution_count": 85,
     "metadata": {},
     "output_type": "execute_result"
    }
   ],
   "source": [
    "live_cameras = [(greenlight_geo_df.live_day <= x).sum() for x in date_range]\n",
    "live_cameras = pd.Series(index=date_range,data=live_cameras,name='live_cameras')\n",
    "live_cameras.index.name = 'call_day'\n",
    "live_cameras.head(3)"
   ]
  },
  {
   "cell_type": "markdown",
   "id": "0e08150f",
   "metadata": {},
   "source": [
    "to do: assume live date is not correlated with crime in proximity of the camera, calculate average proportion of total crime by project greenlight site."
   ]
  },
  {
   "cell_type": "code",
   "execution_count": 221,
   "id": "164e1bc4",
   "metadata": {
    "ExecuteTime": {
     "end_time": "2021-08-27T01:03:35.342311Z",
     "start_time": "2021-08-27T01:03:35.304578Z"
    }
   },
   "outputs": [],
   "source": [
    "dff = combined_df.groupby([\"call_day\", \"days_since_live\"]).calldescription.count().to_frame(\n",
    "    \"ncalls\"\n",
    ").join(background_rate).join(live_cameras).assign(\n",
    "    proportion_of_calls_per_camera=lambda df: df.ncalls\n",
    "    / df.total_calls\n",
    "    / df.live_cameras\n",
    ").reset_index('days_since_live')\n",
    "idx = dff.days_since_live < 0\n",
    "dff.loc[idx ,'proportion_of_calls_per_site'] = dff.loc[idx,'ncalls'] / dff.loc[idx,'total_calls']/(dff.live_cameras.max()-dff.loc[idx,'live_cameras'])"
   ]
  },
  {
   "cell_type": "markdown",
   "id": "ddbd3c13",
   "metadata": {},
   "source": [
    "## Approximating the relationship between lat/long distance and meters using google maps in detroit\n"
   ]
  },
  {
   "cell_type": "code",
   "execution_count": 227,
   "id": "bc0d2fac",
   "metadata": {
    "ExecuteTime": {
     "end_time": "2021-08-27T16:05:12.526665Z",
     "start_time": "2021-08-27T16:05:12.503721Z"
    }
   },
   "outputs": [],
   "source": [
    "# east-west\n",
    "a = (42.450528328751126, -82.94340486981733)\n",
    "b = (42.440174033911795, -83.27726268725615)\n",
    "d = 27500"
   ]
  },
  {
   "cell_type": "code",
   "execution_count": 228,
   "id": "fa7117b5",
   "metadata": {
    "ExecuteTime": {
     "end_time": "2021-08-27T16:05:14.703617Z",
     "start_time": "2021-08-27T16:05:14.680292Z"
    }
   },
   "outputs": [
    {
     "data": {
      "text/plain": [
       "82330.80771892238"
      ]
     },
     "execution_count": 228,
     "metadata": {},
     "output_type": "execute_result"
    }
   ],
   "source": [
    "d/(((a[1]-b[1])**2)+((a[0]-b[0])**2))**.5"
   ]
  },
  {
   "cell_type": "code",
   "execution_count": 229,
   "id": "078bcb72",
   "metadata": {
    "ExecuteTime": {
     "end_time": "2021-08-27T16:05:16.851022Z",
     "start_time": "2021-08-27T16:05:16.830861Z"
    }
   },
   "outputs": [],
   "source": [
    "# diagonal across city\n",
    "a = (42.32509067701311, -83.27145646434418)\n",
    "b = (42.450528328751126, -82.94243716599868)\n",
    "d = 30390"
   ]
  },
  {
   "cell_type": "code",
   "execution_count": 230,
   "id": "e393a6a2",
   "metadata": {
    "ExecuteTime": {
     "end_time": "2021-08-27T16:05:18.977192Z",
     "start_time": "2021-08-27T16:05:18.945062Z"
    }
   },
   "outputs": [
    {
     "data": {
      "text/plain": [
       "86305.87139935895"
      ]
     },
     "execution_count": 230,
     "metadata": {},
     "output_type": "execute_result"
    }
   ],
   "source": [
    "d/(((a[1]-b[1])**2)+((a[0]-b[0])**2))**.5"
   ]
  },
  {
   "cell_type": "code",
   "execution_count": 231,
   "id": "57de03eb",
   "metadata": {
    "ExecuteTime": {
     "end_time": "2021-08-27T16:11:33.861934Z",
     "start_time": "2021-08-27T16:11:33.827622Z"
    }
   },
   "outputs": [],
   "source": [
    "# north-south\n",
    "a = (42.62486539290687, -82.94098561027067)\n",
    "b = (42.334390950319325, -82.94534027745466)\n",
    "d = 32260"
   ]
  },
  {
   "cell_type": "code",
   "execution_count": 232,
   "id": "b3461d04",
   "metadata": {
    "ExecuteTime": {
     "end_time": "2021-08-27T16:11:36.054669Z",
     "start_time": "2021-08-27T16:11:36.026925Z"
    }
   },
   "outputs": [
    {
     "data": {
      "text/plain": [
       "111047.2066079001"
      ]
     },
     "execution_count": 232,
     "metadata": {},
     "output_type": "execute_result"
    }
   ],
   "source": [
    "d/(((a[1]-b[1])**2)+((a[0]-b[0])**2))**.5"
   ]
  }
 ],
 "metadata": {
  "kernelspec": {
   "display_name": "Python 3 (ipykernel)",
   "language": "python",
   "name": "python3"
  },
  "language_info": {
   "codemirror_mode": {
    "name": "ipython",
    "version": 3
   },
   "file_extension": ".py",
   "mimetype": "text/x-python",
   "name": "python",
   "nbconvert_exporter": "python",
   "pygments_lexer": "ipython3",
   "version": "3.8.2"
  },
  "toc": {
   "base_numbering": 1,
   "nav_menu": {},
   "number_sections": true,
   "sideBar": true,
   "skip_h1_title": false,
   "title_cell": "Table of Contents",
   "title_sidebar": "Contents",
   "toc_cell": false,
   "toc_position": {},
   "toc_section_display": true,
   "toc_window_display": false
  },
  "varInspector": {
   "cols": {
    "lenName": 16,
    "lenType": 16,
    "lenVar": 40
   },
   "kernels_config": {
    "python": {
     "delete_cmd_postfix": "",
     "delete_cmd_prefix": "del ",
     "library": "var_list.py",
     "varRefreshCmd": "print(var_dic_list())"
    },
    "r": {
     "delete_cmd_postfix": ") ",
     "delete_cmd_prefix": "rm(",
     "library": "var_list.r",
     "varRefreshCmd": "cat(var_dic_list()) "
    }
   },
   "types_to_exclude": [
    "module",
    "function",
    "builtin_function_or_method",
    "instance",
    "_Feature"
   ],
   "window_display": false
  }
 },
 "nbformat": 4,
 "nbformat_minor": 5
}
