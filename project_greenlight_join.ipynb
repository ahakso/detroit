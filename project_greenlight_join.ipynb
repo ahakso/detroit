{
 "cells": [
  {
   "cell_type": "code",
   "execution_count": 161,
   "id": "00593975",
   "metadata": {
    "ExecuteTime": {
     "end_time": "2021-08-27T00:27:16.837982Z",
     "start_time": "2021-08-27T00:27:16.803188Z"
    }
   },
   "outputs": [],
   "source": [
    "import pandas as pd\n",
    "import geopandas as gpd\n",
    "import fiona\n",
    "from shapely.geometry import Point, Polygon\n",
    "from typing import Union, Tuple\n",
    "from util_detroit import first_in_range_camera, csv_with_x_y_to_gpd\n",
    "\n",
    "import re,os\n",
    "import numpy as np\n",
    "import matplotlib.pyplot as plt\n",
    "\n",
    "import kml2geojson\n",
    "import json\n",
    "\n",
    "pd.options.display.max_columns = None"
   ]
  },
  {
   "cell_type": "markdown",
   "id": "5b935c5d",
   "metadata": {},
   "source": [
    "### S3 data pull"
   ]
  },
  {
   "cell_type": "code",
   "execution_count": 154,
   "id": "1a509628",
   "metadata": {
    "ExecuteTime": {
     "end_time": "2021-08-27T00:23:36.476827Z",
     "start_time": "2021-08-27T00:23:33.127319Z"
    }
   },
   "outputs": [],
   "source": [
    "bucket = \"s3://secondmeasure-dev-at-foundational-data/hakso/detroit/\"\n",
    "greenlight_fn = f\"Project_Green_Light_Locations.geojson\"\n",
    "fn_911 = f\"911_Calls_For_Service.csv\"\n",
    "fullpath_911 = f\"{bucket}{fn_911}\"\n",
    "fullpath_greenlight = f\"{bucket}{greenlight_fn}\"\n",
    "nrows = 1e5\n",
    "calls = (\n",
    "    csv_with_x_y_to_gpd(\n",
    "        #     fullpath,#from s3\n",
    "        fn_911,  # local\n",
    "        read_csv_args={\n",
    "            \"nrows\": nrows,\n",
    "            \"usecols\": [\n",
    "                \"X\",\n",
    "                \"Y\",\n",
    "                \"incident_id\",\n",
    "                \"calldescription\",\n",
    "                \"category\",\n",
    "                \"call_timestamp\",\n",
    "            ],\n",
    "        },\n",
    "    )\n",
    "    .astype({\"call_timestamp\": \"datetime64\"})\n",
    "    .assign(call_day=lambda df: df.call_timestamp.round(\"D\"))\n",
    ")"
   ]
  },
  {
   "cell_type": "code",
   "execution_count": 98,
   "id": "968ce0c3",
   "metadata": {
    "ExecuteTime": {
     "end_time": "2021-08-26T23:15:39.572395Z",
     "start_time": "2021-08-26T23:15:39.371886Z"
    }
   },
   "outputs": [],
   "source": [
    "greenlight_geo_df = (\n",
    "    gpd.read_file(greenlight_fn)\n",
    "    .astype({\"live_date\": \"datetime64\"})\n",
    "    .assign(live_day=lambda df: df.live_date.round(\"D\"))\n",
    ")"
   ]
  },
  {
   "cell_type": "markdown",
   "id": "e5304c78",
   "metadata": {},
   "source": [
    "#### Distance calculation"
   ]
  },
  {
   "cell_type": "code",
   "execution_count": 21,
   "id": "1acab3da",
   "metadata": {
    "ExecuteTime": {
     "end_time": "2021-08-26T22:39:58.474983Z",
     "start_time": "2021-08-26T22:39:58.449602Z"
    }
   },
   "outputs": [
    {
     "name": "stdout",
     "output_type": "stream",
     "text": [
      "Index(['X', 'Y', 'incident_id', 'calldescription', 'category',\n",
      "       'call_timestamp', 'geometry'],\n",
      "      dtype='object')\n"
     ]
    },
    {
     "data": {
      "text/plain": [
       "Index(['address', 'business_name', 'business_type', 'precinct', 'live_date',\n",
       "       'ObjectId', 'geometry'],\n",
       "      dtype='object')"
      ]
     },
     "execution_count": 21,
     "metadata": {},
     "output_type": "execute_result"
    }
   ],
   "source": [
    "print(calls.columns)\n",
    "greenlight_geo_df.columns"
   ]
  },
  {
   "cell_type": "code",
   "execution_count": 133,
   "id": "ae4d42a1",
   "metadata": {
    "ExecuteTime": {
     "end_time": "2021-08-27T00:00:52.770484Z",
     "start_time": "2021-08-27T00:00:52.746888Z"
    }
   },
   "outputs": [],
   "source": [
    "from util_detroit import nearest_neighbor"
   ]
  },
  {
   "cell_type": "code",
   "execution_count": null,
   "id": "d6f200a6",
   "metadata": {},
   "outputs": [],
   "source": [
    "# to do: solve the problem of filtering to only live cameras by selected the top N matches, storing the index and the values in an array in the columns that \n",
    "# currently hold the scalars, then write a function to big the shortcut distance for active green lights\n",
    "\n",
    "\n",
    "# to do: rather than getting closest camera then asking if it's live, instead get all cameras within threshold distance, and ask when the first one went live."
   ]
  },
  {
   "cell_type": "code",
   "execution_count": null,
   "id": "e7920f88",
   "metadata": {},
   "outputs": [],
   "source": [
    "gre"
   ]
  },
  {
   "cell_type": "code",
   "execution_count": null,
   "id": "9422a9c7",
   "metadata": {
    "ExecuteTime": {
     "end_time": "2021-08-27T00:27:23.076406Z",
     "start_time": "2021-08-27T00:27:20.177636Z"
    }
   },
   "outputs": [],
   "source": [
    "# greenlight_geo_df = nearest_neighbor(greenlight_geo_df, greenlight_geo_df, 2, True)\n",
    "PROXIMITY_THRESHOLD = 50\n",
    "combined_df = first_in_range_camera(\n",
    "    calls.loc[\n",
    "        :, [\"geometry\", \"calldescription\", \"category\", \"call_timestamp\", \"call_day\"]\n",
    "    ],\n",
    "    greenlight_geo_df.loc[:, [\"live_date\", \"live_day\", \"geometry\",\"address\"]],\n",
    "    50,\n",
    ").dropna(subset=['date_first_live_camera']).assign(\n",
    "    days_since_live=lambda df: (df.call_day - df.date_first_live_camera).dt.days,\n",
    ")"
   ]
  },
  {
   "cell_type": "code",
   "execution_count": 162,
   "id": "4bca4d84",
   "metadata": {
    "ExecuteTime": {
     "end_time": "2021-08-27T00:27:23.076406Z",
     "start_time": "2021-08-27T00:27:20.177636Z"
    }
   },
   "outputs": [],
   "source": [
    "date_range = pd.date_range(\n",
    "    min(combined_df.call_day.min(), combined_df.date_first_live_camera.min()),\n",
    "    max(combined_df.call_day.max(), combined_df.date_first_live_camera.max()),\n",
    ")\n",
    "#     within_proximity_of_greenlight=lambda df: df.meters_to_nearest_match\n",
    "#     <= PROXIMITY_THRESHOLD,\n",
    "#     live_at_time_of_call=lambda df: df.live_date_neighbor <= df.call_timestamp,\n",
    "#     close_to_live_light=lambda df: df.live_at_time_of_call\n",
    "#     & df.within_proximity_of_greenlight,\n",
    "# )"
   ]
  },
  {
   "cell_type": "code",
   "execution_count": 181,
   "id": "8a25b4a2",
   "metadata": {
    "ExecuteTime": {
     "end_time": "2021-08-27T00:47:04.798816Z",
     "start_time": "2021-08-27T00:47:04.772714Z"
    }
   },
   "outputs": [],
   "source": [
    "background_rate = combined_df.groupby('call_day').category.count().to_frame('total_calls').reindex(index=date_range).fillna(0)"
   ]
  },
  {
   "cell_type": "code",
   "execution_count": 191,
   "id": "dc44c9ef",
   "metadata": {
    "ExecuteTime": {
     "end_time": "2021-08-27T00:54:23.458433Z",
     "start_time": "2021-08-27T00:54:23.429982Z"
    }
   },
   "outputs": [
    {
     "data": {
      "text/html": [
       "<div>\n",
       "<style scoped>\n",
       "    .dataframe tbody tr th:only-of-type {\n",
       "        vertical-align: middle;\n",
       "    }\n",
       "\n",
       "    .dataframe tbody tr th {\n",
       "        vertical-align: top;\n",
       "    }\n",
       "\n",
       "    .dataframe thead th {\n",
       "        text-align: right;\n",
       "    }\n",
       "</style>\n",
       "<table border=\"1\" class=\"dataframe\">\n",
       "  <thead>\n",
       "    <tr style=\"text-align: right;\">\n",
       "      <th></th>\n",
       "      <th>total_calls</th>\n",
       "    </tr>\n",
       "    <tr>\n",
       "      <th>call_day</th>\n",
       "      <th></th>\n",
       "    </tr>\n",
       "  </thead>\n",
       "  <tbody>\n",
       "    <tr>\n",
       "      <th>2016-09-20</th>\n",
       "      <td>3</td>\n",
       "    </tr>\n",
       "    <tr>\n",
       "      <th>2016-09-21</th>\n",
       "      <td>74</td>\n",
       "    </tr>\n",
       "    <tr>\n",
       "      <th>2016-09-22</th>\n",
       "      <td>113</td>\n",
       "    </tr>\n",
       "  </tbody>\n",
       "</table>\n",
       "</div>"
      ],
      "text/plain": [
       "            total_calls\n",
       "call_day               \n",
       "2016-09-20            3\n",
       "2016-09-21           74\n",
       "2016-09-22          113"
      ]
     },
     "execution_count": 191,
     "metadata": {},
     "output_type": "execute_result"
    }
   ],
   "source": [
    "background_rate.head(3)"
   ]
  },
  {
   "cell_type": "code",
   "execution_count": 202,
   "id": "b904e089",
   "metadata": {
    "ExecuteTime": {
     "end_time": "2021-08-27T00:57:05.355425Z",
     "start_time": "2021-08-27T00:57:04.922080Z"
    }
   },
   "outputs": [
    {
     "data": {
      "text/plain": [
       "call_day\n",
       "2016-01-01    8\n",
       "2016-01-02    8\n",
       "2016-01-03    8\n",
       "Freq: D, Name: live_cameras, dtype: int64"
      ]
     },
     "execution_count": 202,
     "metadata": {},
     "output_type": "execute_result"
    }
   ],
   "source": [
    "live_cameras = [(greenlight_geo_df.live_day <= x).sum() for x in date_range]\n",
    "live_cameras = pd.Series(index=date_range,data=live_cameras,name='live_cameras')\n",
    "live_cameras.index.name = 'call_day'\n",
    "live_cameras.head(3)"
   ]
  },
  {
   "cell_type": "markdown",
   "id": "cd0dd36b",
   "metadata": {},
   "source": [
    "to do: assume live date is not correlated with crime in proximity of the camera, calculate average proportion of total crime by project greenlight site."
   ]
  },
  {
   "cell_type": "code",
   "execution_count": 214,
   "id": "f9220f7e",
   "metadata": {
    "ExecuteTime": {
     "end_time": "2021-08-27T01:01:18.213447Z",
     "start_time": "2021-08-27T01:01:18.183743Z"
    }
   },
   "outputs": [
    {
     "data": {
      "text/html": [
       "<div>\n",
       "<style scoped>\n",
       "    .dataframe tbody tr th:only-of-type {\n",
       "        vertical-align: middle;\n",
       "    }\n",
       "\n",
       "    .dataframe tbody tr th {\n",
       "        vertical-align: top;\n",
       "    }\n",
       "\n",
       "    .dataframe thead th {\n",
       "        text-align: right;\n",
       "    }\n",
       "</style>\n",
       "<table border=\"1\" class=\"dataframe\">\n",
       "  <thead>\n",
       "    <tr style=\"text-align: right;\">\n",
       "      <th></th>\n",
       "      <th>days_since_live</th>\n",
       "      <th>ncalls</th>\n",
       "      <th>total_calls</th>\n",
       "      <th>live_cameras</th>\n",
       "      <th>proportion_of_calls_per_camera</th>\n",
       "    </tr>\n",
       "    <tr>\n",
       "      <th>call_day</th>\n",
       "      <th></th>\n",
       "      <th></th>\n",
       "      <th></th>\n",
       "      <th></th>\n",
       "      <th></th>\n",
       "    </tr>\n",
       "  </thead>\n",
       "  <tbody>\n",
       "    <tr>\n",
       "      <th>2016-09-20</th>\n",
       "      <td>-617</td>\n",
       "      <td>1</td>\n",
       "      <td>3</td>\n",
       "      <td>36</td>\n",
       "      <td>0.009259</td>\n",
       "    </tr>\n",
       "    <tr>\n",
       "      <th>2016-09-20</th>\n",
       "      <td>-147</td>\n",
       "      <td>2</td>\n",
       "      <td>3</td>\n",
       "      <td>36</td>\n",
       "      <td>0.018519</td>\n",
       "    </tr>\n",
       "    <tr>\n",
       "      <th>2016-09-21</th>\n",
       "      <td>-1688</td>\n",
       "      <td>1</td>\n",
       "      <td>74</td>\n",
       "      <td>36</td>\n",
       "      <td>0.000375</td>\n",
       "    </tr>\n",
       "    <tr>\n",
       "      <th>2016-09-21</th>\n",
       "      <td>-1547</td>\n",
       "      <td>1</td>\n",
       "      <td>74</td>\n",
       "      <td>36</td>\n",
       "      <td>0.000375</td>\n",
       "    </tr>\n",
       "    <tr>\n",
       "      <th>2016-09-21</th>\n",
       "      <td>-1525</td>\n",
       "      <td>1</td>\n",
       "      <td>74</td>\n",
       "      <td>36</td>\n",
       "      <td>0.000375</td>\n",
       "    </tr>\n",
       "    <tr>\n",
       "      <th>...</th>\n",
       "      <td>...</td>\n",
       "      <td>...</td>\n",
       "      <td>...</td>\n",
       "      <td>...</td>\n",
       "      <td>...</td>\n",
       "    </tr>\n",
       "    <tr>\n",
       "      <th>2016-12-11</th>\n",
       "      <td>202</td>\n",
       "      <td>2</td>\n",
       "      <td>69</td>\n",
       "      <td>66</td>\n",
       "      <td>0.000439</td>\n",
       "    </tr>\n",
       "    <tr>\n",
       "      <th>2016-12-11</th>\n",
       "      <td>215</td>\n",
       "      <td>1</td>\n",
       "      <td>69</td>\n",
       "      <td>66</td>\n",
       "      <td>0.000220</td>\n",
       "    </tr>\n",
       "    <tr>\n",
       "      <th>2016-12-11</th>\n",
       "      <td>230</td>\n",
       "      <td>3</td>\n",
       "      <td>69</td>\n",
       "      <td>66</td>\n",
       "      <td>0.000659</td>\n",
       "    </tr>\n",
       "    <tr>\n",
       "      <th>2016-12-11</th>\n",
       "      <td>283</td>\n",
       "      <td>2</td>\n",
       "      <td>69</td>\n",
       "      <td>66</td>\n",
       "      <td>0.000439</td>\n",
       "    </tr>\n",
       "    <tr>\n",
       "      <th>2016-12-11</th>\n",
       "      <td>345</td>\n",
       "      <td>5</td>\n",
       "      <td>69</td>\n",
       "      <td>66</td>\n",
       "      <td>0.001098</td>\n",
       "    </tr>\n",
       "  </tbody>\n",
       "</table>\n",
       "<p>6294 rows × 5 columns</p>\n",
       "</div>"
      ],
      "text/plain": [
       "            days_since_live  ncalls  total_calls  live_cameras  \\\n",
       "call_day                                                         \n",
       "2016-09-20             -617       1            3            36   \n",
       "2016-09-20             -147       2            3            36   \n",
       "2016-09-21            -1688       1           74            36   \n",
       "2016-09-21            -1547       1           74            36   \n",
       "2016-09-21            -1525       1           74            36   \n",
       "...                     ...     ...          ...           ...   \n",
       "2016-12-11              202       2           69            66   \n",
       "2016-12-11              215       1           69            66   \n",
       "2016-12-11              230       3           69            66   \n",
       "2016-12-11              283       2           69            66   \n",
       "2016-12-11              345       5           69            66   \n",
       "\n",
       "            proportion_of_calls_per_camera  \n",
       "call_day                                    \n",
       "2016-09-20                        0.009259  \n",
       "2016-09-20                        0.018519  \n",
       "2016-09-21                        0.000375  \n",
       "2016-09-21                        0.000375  \n",
       "2016-09-21                        0.000375  \n",
       "...                                    ...  \n",
       "2016-12-11                        0.000439  \n",
       "2016-12-11                        0.000220  \n",
       "2016-12-11                        0.000659  \n",
       "2016-12-11                        0.000439  \n",
       "2016-12-11                        0.001098  \n",
       "\n",
       "[6294 rows x 5 columns]"
      ]
     },
     "execution_count": 214,
     "metadata": {},
     "output_type": "execute_result"
    }
   ],
   "source": [
    "dff"
   ]
  },
  {
   "cell_type": "code",
   "execution_count": 221,
   "id": "3036a8ff",
   "metadata": {
    "ExecuteTime": {
     "end_time": "2021-08-27T01:03:35.342311Z",
     "start_time": "2021-08-27T01:03:35.304578Z"
    }
   },
   "outputs": [],
   "source": [
    "dff = combined_df.groupby([\"call_day\", \"days_since_live\"]).calldescription.count().to_frame(\n",
    "    \"ncalls\"\n",
    ").join(background_rate).join(live_cameras).assign(\n",
    "    proportion_of_calls_per_camera=lambda df: df.ncalls\n",
    "    / df.total_calls\n",
    "    / df.live_cameras\n",
    ").reset_index('days_since_live')\n",
    "idx = dff.days_since_live < 0\n",
    "dff.loc[idx ,'proportion_of_calls_per_site'] = dff.loc[idx,'ncalls'] / dff.loc[idx,'total_calls']/(dff.live_cameras.max()-dff.loc[idx,'live_cameras'])"
   ]
  },
  {
   "cell_type": "code",
   "execution_count": 222,
   "id": "67436f5d",
   "metadata": {
    "ExecuteTime": {
     "end_time": "2021-08-27T01:03:39.724366Z",
     "start_time": "2021-08-27T01:03:39.691567Z"
    }
   },
   "outputs": [
    {
     "data": {
      "text/html": [
       "<div>\n",
       "<style scoped>\n",
       "    .dataframe tbody tr th:only-of-type {\n",
       "        vertical-align: middle;\n",
       "    }\n",
       "\n",
       "    .dataframe tbody tr th {\n",
       "        vertical-align: top;\n",
       "    }\n",
       "\n",
       "    .dataframe thead th {\n",
       "        text-align: right;\n",
       "    }\n",
       "</style>\n",
       "<table border=\"1\" class=\"dataframe\">\n",
       "  <thead>\n",
       "    <tr style=\"text-align: right;\">\n",
       "      <th></th>\n",
       "      <th>days_since_live</th>\n",
       "      <th>ncalls</th>\n",
       "      <th>total_calls</th>\n",
       "      <th>live_cameras</th>\n",
       "      <th>proportion_of_calls_per_camera</th>\n",
       "      <th>proportion_of_calls_per_site</th>\n",
       "    </tr>\n",
       "    <tr>\n",
       "      <th>call_day</th>\n",
       "      <th></th>\n",
       "      <th></th>\n",
       "      <th></th>\n",
       "      <th></th>\n",
       "      <th></th>\n",
       "      <th></th>\n",
       "    </tr>\n",
       "  </thead>\n",
       "  <tbody>\n",
       "    <tr>\n",
       "      <th>2016-09-20</th>\n",
       "      <td>-617</td>\n",
       "      <td>1</td>\n",
       "      <td>3</td>\n",
       "      <td>36</td>\n",
       "      <td>0.009259</td>\n",
       "      <td>0.011111</td>\n",
       "    </tr>\n",
       "    <tr>\n",
       "      <th>2016-09-20</th>\n",
       "      <td>-147</td>\n",
       "      <td>2</td>\n",
       "      <td>3</td>\n",
       "      <td>36</td>\n",
       "      <td>0.018519</td>\n",
       "      <td>0.022222</td>\n",
       "    </tr>\n",
       "    <tr>\n",
       "      <th>2016-09-21</th>\n",
       "      <td>-1688</td>\n",
       "      <td>1</td>\n",
       "      <td>74</td>\n",
       "      <td>36</td>\n",
       "      <td>0.000375</td>\n",
       "      <td>0.000450</td>\n",
       "    </tr>\n",
       "    <tr>\n",
       "      <th>2016-09-21</th>\n",
       "      <td>-1547</td>\n",
       "      <td>1</td>\n",
       "      <td>74</td>\n",
       "      <td>36</td>\n",
       "      <td>0.000375</td>\n",
       "      <td>0.000450</td>\n",
       "    </tr>\n",
       "    <tr>\n",
       "      <th>2016-09-21</th>\n",
       "      <td>-1525</td>\n",
       "      <td>1</td>\n",
       "      <td>74</td>\n",
       "      <td>36</td>\n",
       "      <td>0.000375</td>\n",
       "      <td>0.000450</td>\n",
       "    </tr>\n",
       "    <tr>\n",
       "      <th>...</th>\n",
       "      <td>...</td>\n",
       "      <td>...</td>\n",
       "      <td>...</td>\n",
       "      <td>...</td>\n",
       "      <td>...</td>\n",
       "      <td>...</td>\n",
       "    </tr>\n",
       "    <tr>\n",
       "      <th>2016-12-11</th>\n",
       "      <td>202</td>\n",
       "      <td>2</td>\n",
       "      <td>69</td>\n",
       "      <td>66</td>\n",
       "      <td>0.000439</td>\n",
       "      <td>NaN</td>\n",
       "    </tr>\n",
       "    <tr>\n",
       "      <th>2016-12-11</th>\n",
       "      <td>215</td>\n",
       "      <td>1</td>\n",
       "      <td>69</td>\n",
       "      <td>66</td>\n",
       "      <td>0.000220</td>\n",
       "      <td>NaN</td>\n",
       "    </tr>\n",
       "    <tr>\n",
       "      <th>2016-12-11</th>\n",
       "      <td>230</td>\n",
       "      <td>3</td>\n",
       "      <td>69</td>\n",
       "      <td>66</td>\n",
       "      <td>0.000659</td>\n",
       "      <td>NaN</td>\n",
       "    </tr>\n",
       "    <tr>\n",
       "      <th>2016-12-11</th>\n",
       "      <td>283</td>\n",
       "      <td>2</td>\n",
       "      <td>69</td>\n",
       "      <td>66</td>\n",
       "      <td>0.000439</td>\n",
       "      <td>NaN</td>\n",
       "    </tr>\n",
       "    <tr>\n",
       "      <th>2016-12-11</th>\n",
       "      <td>345</td>\n",
       "      <td>5</td>\n",
       "      <td>69</td>\n",
       "      <td>66</td>\n",
       "      <td>0.001098</td>\n",
       "      <td>NaN</td>\n",
       "    </tr>\n",
       "  </tbody>\n",
       "</table>\n",
       "<p>6294 rows × 6 columns</p>\n",
       "</div>"
      ],
      "text/plain": [
       "            days_since_live  ncalls  total_calls  live_cameras  \\\n",
       "call_day                                                         \n",
       "2016-09-20             -617       1            3            36   \n",
       "2016-09-20             -147       2            3            36   \n",
       "2016-09-21            -1688       1           74            36   \n",
       "2016-09-21            -1547       1           74            36   \n",
       "2016-09-21            -1525       1           74            36   \n",
       "...                     ...     ...          ...           ...   \n",
       "2016-12-11              202       2           69            66   \n",
       "2016-12-11              215       1           69            66   \n",
       "2016-12-11              230       3           69            66   \n",
       "2016-12-11              283       2           69            66   \n",
       "2016-12-11              345       5           69            66   \n",
       "\n",
       "            proportion_of_calls_per_camera  proportion_of_calls_per_site  \n",
       "call_day                                                                  \n",
       "2016-09-20                        0.009259                      0.011111  \n",
       "2016-09-20                        0.018519                      0.022222  \n",
       "2016-09-21                        0.000375                      0.000450  \n",
       "2016-09-21                        0.000375                      0.000450  \n",
       "2016-09-21                        0.000375                      0.000450  \n",
       "...                                    ...                           ...  \n",
       "2016-12-11                        0.000439                           NaN  \n",
       "2016-12-11                        0.000220                           NaN  \n",
       "2016-12-11                        0.000659                           NaN  \n",
       "2016-12-11                        0.000439                           NaN  \n",
       "2016-12-11                        0.001098                           NaN  \n",
       "\n",
       "[6294 rows x 6 columns]"
      ]
     },
     "execution_count": 222,
     "metadata": {},
     "output_type": "execute_result"
    }
   ],
   "source": [
    "dff"
   ]
  },
  {
   "cell_type": "code",
   "execution_count": 218,
   "id": "ff2834d0",
   "metadata": {
    "ExecuteTime": {
     "end_time": "2021-08-27T01:03:03.369151Z",
     "start_time": "2021-08-27T01:03:03.329647Z"
    }
   },
   "outputs": [
    {
     "ename": "AttributeError",
     "evalue": "'GeoDataFrame' object has no attribute 'within_proximity_of_greenlight'",
     "output_type": "error",
     "traceback": [
      "\u001b[0;31m---------------------------------------------------------------------------\u001b[0m",
      "\u001b[0;31mAttributeError\u001b[0m                            Traceback (most recent call last)",
      "\u001b[0;32m<ipython-input-218-24cbc0ddd840>\u001b[0m in \u001b[0;36m<module>\u001b[0;34m\u001b[0m\n\u001b[0;32m----> 1\u001b[0;31m combined_df.loc[lambda df: df.within_proximity_of_greenlight, :].groupby(\n\u001b[0m\u001b[1;32m      2\u001b[0m     \u001b[0;34m[\u001b[0m\u001b[0;34m\"live_at_time_of_call\"\u001b[0m\u001b[0;34m,\u001b[0m \u001b[0;34m\"call_day\"\u001b[0m\u001b[0;34m]\u001b[0m\u001b[0;34m\u001b[0m\u001b[0;34m\u001b[0m\u001b[0m\n\u001b[1;32m      3\u001b[0m \u001b[0;34m)\u001b[0m\u001b[0;34m.\u001b[0m\u001b[0mcategory\u001b[0m\u001b[0;34m.\u001b[0m\u001b[0mcount\u001b[0m\u001b[0;34m(\u001b[0m\u001b[0;34m)\u001b[0m\u001b[0;34m.\u001b[0m\u001b[0mto_frame\u001b[0m\u001b[0;34m(\u001b[0m\u001b[0;34m\"grouped_count\"\u001b[0m\u001b[0;34m)\u001b[0m\u001b[0;34m.\u001b[0m\u001b[0mjoin\u001b[0m\u001b[0;34m(\u001b[0m\u001b[0;34m\u001b[0m\u001b[0;34m\u001b[0m\u001b[0m\n\u001b[1;32m      4\u001b[0m     \u001b[0mbackground_rate\u001b[0m\u001b[0;34m,\u001b[0m \u001b[0mon\u001b[0m\u001b[0;34m=\u001b[0m\u001b[0;34m\"call_day\"\u001b[0m\u001b[0;34m\u001b[0m\u001b[0;34m\u001b[0m\u001b[0m\n\u001b[1;32m      5\u001b[0m \u001b[0;34m)\u001b[0m\u001b[0;34m.\u001b[0m\u001b[0massign\u001b[0m\u001b[0;34m(\u001b[0m\u001b[0;34m\u001b[0m\u001b[0;34m\u001b[0m\u001b[0m\n",
      "\u001b[0;32m~/.pyenv/versions/3.8.2/lib/python3.8/site-packages/pandas/core/indexing.py\u001b[0m in \u001b[0;36m__getitem__\u001b[0;34m(self, key)\u001b[0m\n\u001b[1;32m    882\u001b[0m     \u001b[0;32mdef\u001b[0m \u001b[0m__getitem__\u001b[0m\u001b[0;34m(\u001b[0m\u001b[0mself\u001b[0m\u001b[0;34m,\u001b[0m \u001b[0mkey\u001b[0m\u001b[0;34m)\u001b[0m\u001b[0;34m:\u001b[0m\u001b[0;34m\u001b[0m\u001b[0;34m\u001b[0m\u001b[0m\n\u001b[1;32m    883\u001b[0m         \u001b[0;32mif\u001b[0m \u001b[0mtype\u001b[0m\u001b[0;34m(\u001b[0m\u001b[0mkey\u001b[0m\u001b[0;34m)\u001b[0m \u001b[0;32mis\u001b[0m \u001b[0mtuple\u001b[0m\u001b[0;34m:\u001b[0m\u001b[0;34m\u001b[0m\u001b[0;34m\u001b[0m\u001b[0m\n\u001b[0;32m--> 884\u001b[0;31m             \u001b[0mkey\u001b[0m \u001b[0;34m=\u001b[0m \u001b[0mtuple\u001b[0m\u001b[0;34m(\u001b[0m\u001b[0mcom\u001b[0m\u001b[0;34m.\u001b[0m\u001b[0mapply_if_callable\u001b[0m\u001b[0;34m(\u001b[0m\u001b[0mx\u001b[0m\u001b[0;34m,\u001b[0m \u001b[0mself\u001b[0m\u001b[0;34m.\u001b[0m\u001b[0mobj\u001b[0m\u001b[0;34m)\u001b[0m \u001b[0;32mfor\u001b[0m \u001b[0mx\u001b[0m \u001b[0;32min\u001b[0m \u001b[0mkey\u001b[0m\u001b[0;34m)\u001b[0m\u001b[0;34m\u001b[0m\u001b[0;34m\u001b[0m\u001b[0m\n\u001b[0m\u001b[1;32m    885\u001b[0m             \u001b[0;32mif\u001b[0m \u001b[0mself\u001b[0m\u001b[0;34m.\u001b[0m\u001b[0m_is_scalar_access\u001b[0m\u001b[0;34m(\u001b[0m\u001b[0mkey\u001b[0m\u001b[0;34m)\u001b[0m\u001b[0;34m:\u001b[0m\u001b[0;34m\u001b[0m\u001b[0;34m\u001b[0m\u001b[0m\n\u001b[1;32m    886\u001b[0m                 \u001b[0;32mwith\u001b[0m \u001b[0msuppress\u001b[0m\u001b[0;34m(\u001b[0m\u001b[0mKeyError\u001b[0m\u001b[0;34m,\u001b[0m \u001b[0mIndexError\u001b[0m\u001b[0;34m,\u001b[0m \u001b[0mAttributeError\u001b[0m\u001b[0;34m)\u001b[0m\u001b[0;34m:\u001b[0m\u001b[0;34m\u001b[0m\u001b[0;34m\u001b[0m\u001b[0m\n",
      "\u001b[0;32m~/.pyenv/versions/3.8.2/lib/python3.8/site-packages/pandas/core/indexing.py\u001b[0m in \u001b[0;36m<genexpr>\u001b[0;34m(.0)\u001b[0m\n\u001b[1;32m    882\u001b[0m     \u001b[0;32mdef\u001b[0m \u001b[0m__getitem__\u001b[0m\u001b[0;34m(\u001b[0m\u001b[0mself\u001b[0m\u001b[0;34m,\u001b[0m \u001b[0mkey\u001b[0m\u001b[0;34m)\u001b[0m\u001b[0;34m:\u001b[0m\u001b[0;34m\u001b[0m\u001b[0;34m\u001b[0m\u001b[0m\n\u001b[1;32m    883\u001b[0m         \u001b[0;32mif\u001b[0m \u001b[0mtype\u001b[0m\u001b[0;34m(\u001b[0m\u001b[0mkey\u001b[0m\u001b[0;34m)\u001b[0m \u001b[0;32mis\u001b[0m \u001b[0mtuple\u001b[0m\u001b[0;34m:\u001b[0m\u001b[0;34m\u001b[0m\u001b[0;34m\u001b[0m\u001b[0m\n\u001b[0;32m--> 884\u001b[0;31m             \u001b[0mkey\u001b[0m \u001b[0;34m=\u001b[0m \u001b[0mtuple\u001b[0m\u001b[0;34m(\u001b[0m\u001b[0mcom\u001b[0m\u001b[0;34m.\u001b[0m\u001b[0mapply_if_callable\u001b[0m\u001b[0;34m(\u001b[0m\u001b[0mx\u001b[0m\u001b[0;34m,\u001b[0m \u001b[0mself\u001b[0m\u001b[0;34m.\u001b[0m\u001b[0mobj\u001b[0m\u001b[0;34m)\u001b[0m \u001b[0;32mfor\u001b[0m \u001b[0mx\u001b[0m \u001b[0;32min\u001b[0m \u001b[0mkey\u001b[0m\u001b[0;34m)\u001b[0m\u001b[0;34m\u001b[0m\u001b[0;34m\u001b[0m\u001b[0m\n\u001b[0m\u001b[1;32m    885\u001b[0m             \u001b[0;32mif\u001b[0m \u001b[0mself\u001b[0m\u001b[0;34m.\u001b[0m\u001b[0m_is_scalar_access\u001b[0m\u001b[0;34m(\u001b[0m\u001b[0mkey\u001b[0m\u001b[0;34m)\u001b[0m\u001b[0;34m:\u001b[0m\u001b[0;34m\u001b[0m\u001b[0;34m\u001b[0m\u001b[0m\n\u001b[1;32m    886\u001b[0m                 \u001b[0;32mwith\u001b[0m \u001b[0msuppress\u001b[0m\u001b[0;34m(\u001b[0m\u001b[0mKeyError\u001b[0m\u001b[0;34m,\u001b[0m \u001b[0mIndexError\u001b[0m\u001b[0;34m,\u001b[0m \u001b[0mAttributeError\u001b[0m\u001b[0;34m)\u001b[0m\u001b[0;34m:\u001b[0m\u001b[0;34m\u001b[0m\u001b[0;34m\u001b[0m\u001b[0m\n",
      "\u001b[0;32m~/.pyenv/versions/3.8.2/lib/python3.8/site-packages/pandas/core/common.py\u001b[0m in \u001b[0;36mapply_if_callable\u001b[0;34m(maybe_callable, obj, **kwargs)\u001b[0m\n\u001b[1;32m    327\u001b[0m     \"\"\"\n\u001b[1;32m    328\u001b[0m     \u001b[0;32mif\u001b[0m \u001b[0mcallable\u001b[0m\u001b[0;34m(\u001b[0m\u001b[0mmaybe_callable\u001b[0m\u001b[0;34m)\u001b[0m\u001b[0;34m:\u001b[0m\u001b[0;34m\u001b[0m\u001b[0;34m\u001b[0m\u001b[0m\n\u001b[0;32m--> 329\u001b[0;31m         \u001b[0;32mreturn\u001b[0m \u001b[0mmaybe_callable\u001b[0m\u001b[0;34m(\u001b[0m\u001b[0mobj\u001b[0m\u001b[0;34m,\u001b[0m \u001b[0;34m**\u001b[0m\u001b[0mkwargs\u001b[0m\u001b[0;34m)\u001b[0m\u001b[0;34m\u001b[0m\u001b[0;34m\u001b[0m\u001b[0m\n\u001b[0m\u001b[1;32m    330\u001b[0m \u001b[0;34m\u001b[0m\u001b[0m\n\u001b[1;32m    331\u001b[0m     \u001b[0;32mreturn\u001b[0m \u001b[0mmaybe_callable\u001b[0m\u001b[0;34m\u001b[0m\u001b[0;34m\u001b[0m\u001b[0m\n",
      "\u001b[0;32m<ipython-input-218-24cbc0ddd840>\u001b[0m in \u001b[0;36m<lambda>\u001b[0;34m(df)\u001b[0m\n\u001b[0;32m----> 1\u001b[0;31m combined_df.loc[lambda df: df.within_proximity_of_greenlight, :].groupby(\n\u001b[0m\u001b[1;32m      2\u001b[0m     \u001b[0;34m[\u001b[0m\u001b[0;34m\"live_at_time_of_call\"\u001b[0m\u001b[0;34m,\u001b[0m \u001b[0;34m\"call_day\"\u001b[0m\u001b[0;34m]\u001b[0m\u001b[0;34m\u001b[0m\u001b[0;34m\u001b[0m\u001b[0m\n\u001b[1;32m      3\u001b[0m \u001b[0;34m)\u001b[0m\u001b[0;34m.\u001b[0m\u001b[0mcategory\u001b[0m\u001b[0;34m.\u001b[0m\u001b[0mcount\u001b[0m\u001b[0;34m(\u001b[0m\u001b[0;34m)\u001b[0m\u001b[0;34m.\u001b[0m\u001b[0mto_frame\u001b[0m\u001b[0;34m(\u001b[0m\u001b[0;34m\"grouped_count\"\u001b[0m\u001b[0;34m)\u001b[0m\u001b[0;34m.\u001b[0m\u001b[0mjoin\u001b[0m\u001b[0;34m(\u001b[0m\u001b[0;34m\u001b[0m\u001b[0;34m\u001b[0m\u001b[0m\n\u001b[1;32m      4\u001b[0m     \u001b[0mbackground_rate\u001b[0m\u001b[0;34m,\u001b[0m \u001b[0mon\u001b[0m\u001b[0;34m=\u001b[0m\u001b[0;34m\"call_day\"\u001b[0m\u001b[0;34m\u001b[0m\u001b[0;34m\u001b[0m\u001b[0m\n\u001b[1;32m      5\u001b[0m \u001b[0;34m)\u001b[0m\u001b[0;34m.\u001b[0m\u001b[0massign\u001b[0m\u001b[0;34m(\u001b[0m\u001b[0;34m\u001b[0m\u001b[0;34m\u001b[0m\u001b[0m\n",
      "\u001b[0;32m~/.pyenv/versions/3.8.2/lib/python3.8/site-packages/pandas/core/generic.py\u001b[0m in \u001b[0;36m__getattr__\u001b[0;34m(self, name)\u001b[0m\n\u001b[1;32m   5463\u001b[0m             \u001b[0;32mif\u001b[0m \u001b[0mself\u001b[0m\u001b[0;34m.\u001b[0m\u001b[0m_info_axis\u001b[0m\u001b[0;34m.\u001b[0m\u001b[0m_can_hold_identifiers_and_holds_name\u001b[0m\u001b[0;34m(\u001b[0m\u001b[0mname\u001b[0m\u001b[0;34m)\u001b[0m\u001b[0;34m:\u001b[0m\u001b[0;34m\u001b[0m\u001b[0;34m\u001b[0m\u001b[0m\n\u001b[1;32m   5464\u001b[0m                 \u001b[0;32mreturn\u001b[0m \u001b[0mself\u001b[0m\u001b[0;34m[\u001b[0m\u001b[0mname\u001b[0m\u001b[0;34m]\u001b[0m\u001b[0;34m\u001b[0m\u001b[0;34m\u001b[0m\u001b[0m\n\u001b[0;32m-> 5465\u001b[0;31m             \u001b[0;32mreturn\u001b[0m \u001b[0mobject\u001b[0m\u001b[0;34m.\u001b[0m\u001b[0m__getattribute__\u001b[0m\u001b[0;34m(\u001b[0m\u001b[0mself\u001b[0m\u001b[0;34m,\u001b[0m \u001b[0mname\u001b[0m\u001b[0;34m)\u001b[0m\u001b[0;34m\u001b[0m\u001b[0;34m\u001b[0m\u001b[0m\n\u001b[0m\u001b[1;32m   5466\u001b[0m \u001b[0;34m\u001b[0m\u001b[0m\n\u001b[1;32m   5467\u001b[0m     \u001b[0;32mdef\u001b[0m \u001b[0m__setattr__\u001b[0m\u001b[0;34m(\u001b[0m\u001b[0mself\u001b[0m\u001b[0;34m,\u001b[0m \u001b[0mname\u001b[0m\u001b[0;34m:\u001b[0m \u001b[0mstr\u001b[0m\u001b[0;34m,\u001b[0m \u001b[0mvalue\u001b[0m\u001b[0;34m)\u001b[0m \u001b[0;34m->\u001b[0m \u001b[0;32mNone\u001b[0m\u001b[0;34m:\u001b[0m\u001b[0;34m\u001b[0m\u001b[0;34m\u001b[0m\u001b[0m\n",
      "\u001b[0;31mAttributeError\u001b[0m: 'GeoDataFrame' object has no attribute 'within_proximity_of_greenlight'"
     ]
    }
   ],
   "source": [
    "combined_df.loc[lambda df: df.within_proximity_of_greenlight, :].groupby(\n",
    "    [\"live_at_time_of_call\", \"call_day\"]\n",
    ").category.count().to_frame(\"grouped_count\").join(\n",
    "    background_rate, on=\"call_day\"\n",
    ").assign(\n",
    "    proportion_of_calls=lambda df: df.grouped_count / df.total_calls\n",
    ").join(\n",
    "    combined_df.loc[lambda df: df.within_proximity_of_greenlight, :]\n",
    "    .groupby([\"address_neighbor\", \"live_at_time_of_call\"])\n",
    "    .category.count()\n",
    "    .to_frame(\"n_sites\")\n",
    ").assign(proportion_of_calls_per_site=lambda df: df.proportion_of_calls/df.n_sites)"
   ]
  },
  {
   "cell_type": "code",
   "execution_count": 73,
   "id": "d95eacbd",
   "metadata": {
    "ExecuteTime": {
     "end_time": "2021-08-26T23:04:54.721599Z",
     "start_time": "2021-08-26T23:04:54.686037Z"
    }
   },
   "outputs": [
    {
     "data": {
      "text/plain": [
       "call_day\n",
       "2016-09-20      67\n",
       "2016-09-21    1210\n",
       "2016-09-22    1185\n",
       "2016-09-23    1167\n",
       "2016-09-24    1241\n",
       "              ... \n",
       "2016-12-07    1410\n",
       "2016-12-08    1611\n",
       "2016-12-09    1474\n",
       "2016-12-10    1611\n",
       "2016-12-11     850\n",
       "Name: incident_id, Length: 83, dtype: int64"
      ]
     },
     "execution_count": 73,
     "metadata": {},
     "output_type": "execute_result"
    }
   ],
   "source": [
    "background_rate"
   ]
  },
  {
   "cell_type": "markdown",
   "id": "f36871d5",
   "metadata": {},
   "source": [
    "## Approximating the relationship between lat/long distance and meters using google maps in detroit\n"
   ]
  },
  {
   "cell_type": "code",
   "execution_count": 15,
   "id": "bc0d2fac",
   "metadata": {
    "ExecuteTime": {
     "end_time": "2021-08-26T22:34:53.276337Z",
     "start_time": "2021-08-26T22:34:53.253819Z"
    }
   },
   "outputs": [],
   "source": [
    "a = (42.450528328751126, -82.94340486981733)\n",
    "b = (42.440174033911795, -83.27726268725615)\n",
    "d = 27500"
   ]
  },
  {
   "cell_type": "code",
   "execution_count": 18,
   "id": "3dd9068d",
   "metadata": {
    "ExecuteTime": {
     "end_time": "2021-08-26T22:36:33.097908Z",
     "start_time": "2021-08-26T22:36:33.071974Z"
    }
   },
   "outputs": [
    {
     "data": {
      "text/plain": [
       "82410.03766311899"
      ]
     },
     "execution_count": 18,
     "metadata": {},
     "output_type": "execute_result"
    }
   ],
   "source": [
    "27500/(((a[1]-b[1])**2)-((a[0]-b[0])**2))**.5"
   ]
  }
 ],
 "metadata": {
  "kernelspec": {
   "display_name": "Python 3",
   "language": "python",
   "name": "python3"
  },
  "language_info": {
   "codemirror_mode": {
    "name": "ipython",
    "version": 3
   },
   "file_extension": ".py",
   "mimetype": "text/x-python",
   "name": "python",
   "nbconvert_exporter": "python",
   "pygments_lexer": "ipython3",
   "version": "3.8.2"
  },
  "toc": {
   "base_numbering": 1,
   "nav_menu": {},
   "number_sections": true,
   "sideBar": true,
   "skip_h1_title": false,
   "title_cell": "Table of Contents",
   "title_sidebar": "Contents",
   "toc_cell": false,
   "toc_position": {},
   "toc_section_display": true,
   "toc_window_display": false
  },
  "varInspector": {
   "cols": {
    "lenName": 16,
    "lenType": 16,
    "lenVar": 40
   },
   "kernels_config": {
    "python": {
     "delete_cmd_postfix": "",
     "delete_cmd_prefix": "del ",
     "library": "var_list.py",
     "varRefreshCmd": "print(var_dic_list())"
    },
    "r": {
     "delete_cmd_postfix": ") ",
     "delete_cmd_prefix": "rm(",
     "library": "var_list.r",
     "varRefreshCmd": "cat(var_dic_list()) "
    }
   },
   "types_to_exclude": [
    "module",
    "function",
    "builtin_function_or_method",
    "instance",
    "_Feature"
   ],
   "window_display": false
  }
 },
 "nbformat": 4,
 "nbformat_minor": 5
}
