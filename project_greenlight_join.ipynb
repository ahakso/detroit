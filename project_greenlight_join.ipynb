{
 "cells": [
  {
   "cell_type": "code",
   "execution_count": 3,
   "id": "00593975",
   "metadata": {
    "ExecuteTime": {
     "end_time": "2021-08-26T22:27:23.335016Z",
     "start_time": "2021-08-26T22:27:23.313542Z"
    }
   },
   "outputs": [],
   "source": [
    "import pandas as pd\n",
    "import geopandas as gpd\n",
    "import fiona\n",
    "from shapely.geometry import Point, Polygon\n",
    "from typing import Union, Tuple\n",
    "from util_detroit import nearest_neighbor, csv_with_x_y_to_gpd\n",
    "\n",
    "import re,os\n",
    "import numpy as np\n",
    "import matplotlib.pyplot as plt\n",
    "\n",
    "import kml2geojson\n",
    "import json\n",
    "\n",
    "pd.options.display.max_columns = None"
   ]
  },
  {
   "cell_type": "markdown",
   "id": "5b935c5d",
   "metadata": {},
   "source": [
    "### S3 data pull"
   ]
  },
  {
   "cell_type": "code",
   "execution_count": 154,
   "id": "1a509628",
   "metadata": {
    "ExecuteTime": {
     "end_time": "2021-08-27T00:23:36.476827Z",
     "start_time": "2021-08-27T00:23:33.127319Z"
    }
   },
   "outputs": [],
   "source": [
    "bucket = \"s3://secondmeasure-dev-at-foundational-data/hakso/detroit/\"\n",
    "greenlight_fn = f\"Project_Green_Light_Locations.geojson\"\n",
    "fn_911 = f\"911_Calls_For_Service.csv\"\n",
    "fullpath_911 = f\"{bucket}{fn_911}\"\n",
    "fullpath_greenlight = f\"{bucket}{greenlight_fn}\"\n",
    "nrows = 1e5\n",
    "calls = (\n",
    "    csv_with_x_y_to_gpd(\n",
    "        #     fullpath,#from s3\n",
    "        fn_911,  # local\n",
    "        read_csv_args={\n",
    "            \"nrows\": nrows,\n",
    "            \"usecols\": [\n",
    "                \"X\",\n",
    "                \"Y\",\n",
    "                \"incident_id\",\n",
    "                \"calldescription\",\n",
    "                \"category\",\n",
    "                \"call_timestamp\",\n",
    "            ],\n",
    "        },\n",
    "    )\n",
    "    .astype({\"call_timestamp\": \"datetime64\"})\n",
    "    .assign(call_day=lambda df: df.call_timestamp.round(\"D\"))\n",
    ")"
   ]
  },
  {
   "cell_type": "code",
   "execution_count": 98,
   "id": "968ce0c3",
   "metadata": {
    "ExecuteTime": {
     "end_time": "2021-08-26T23:15:39.572395Z",
     "start_time": "2021-08-26T23:15:39.371886Z"
    }
   },
   "outputs": [],
   "source": [
    "greenlight_geo_df = (\n",
    "    gpd.read_file(greenlight_fn)\n",
    "    .astype({\"live_date\": \"datetime64\"})\n",
    "    .assign(live_day=lambda df: df.live_date.round(\"D\"))\n",
    ")"
   ]
  },
  {
   "cell_type": "markdown",
   "id": "e5304c78",
   "metadata": {},
   "source": [
    "#### Distance calculation"
   ]
  },
  {
   "cell_type": "code",
   "execution_count": 21,
   "id": "b8d5a2f9",
   "metadata": {
    "ExecuteTime": {
     "end_time": "2021-08-26T22:39:58.474983Z",
     "start_time": "2021-08-26T22:39:58.449602Z"
    }
   },
   "outputs": [
    {
     "name": "stdout",
     "output_type": "stream",
     "text": [
      "Index(['X', 'Y', 'incident_id', 'calldescription', 'category',\n",
      "       'call_timestamp', 'geometry'],\n",
      "      dtype='object')\n"
     ]
    },
    {
     "data": {
      "text/plain": [
       "Index(['address', 'business_name', 'business_type', 'precinct', 'live_date',\n",
       "       'ObjectId', 'geometry'],\n",
       "      dtype='object')"
      ]
     },
     "execution_count": 21,
     "metadata": {},
     "output_type": "execute_result"
    }
   ],
   "source": [
    "print(calls.columns)\n",
    "greenlight_geo_df.columns"
   ]
  },
  {
   "cell_type": "code",
   "execution_count": 133,
   "id": "12d14aa0",
   "metadata": {
    "ExecuteTime": {
     "end_time": "2021-08-27T00:00:52.770484Z",
     "start_time": "2021-08-27T00:00:52.746888Z"
    }
   },
   "outputs": [],
   "source": [
    "from util_detroit import nearest_neighbor"
   ]
  },
  {
   "cell_type": "code",
   "execution_count": null,
   "id": "b82d2565",
   "metadata": {},
   "outputs": [],
   "source": [
    "# to do: solve the problem of filtering to only live cameras by selected the top N matches, storing the index and the values in an array in the columns that \n",
    "# currently hold the scalars, then write a function to big the shortcut distance for active green lights\n",
    "\n",
    "\n",
    "# to do: rather than getting closest camera then asking if it's live, instead get all cameras within threshold distance, and ask when the first one went live."
   ]
  },
  {
   "cell_type": "code",
   "execution_count": null,
   "id": "f910a95f",
   "metadata": {},
   "outputs": [],
   "source": [
    "gre"
   ]
  },
  {
   "cell_type": "code",
   "execution_count": 155,
   "id": "4bca4d84",
   "metadata": {
    "ExecuteTime": {
     "end_time": "2021-08-27T00:23:45.160021Z",
     "start_time": "2021-08-27T00:23:42.215541Z"
    }
   },
   "outputs": [],
   "source": [
    "# greenlight_geo_df = nearest_neighbor(greenlight_geo_df, greenlight_geo_df, 2, True)\n",
    "PROXIMITY_THRESHOLD = 50\n",
    "combined_df = nearest_neighbor(\n",
    "    calls.loc[\n",
    "        :, [\"geometry\", \"calldescription\", \"category\", \"call_timestamp\", \"call_day\"]\n",
    "    ],\n",
    "    greenlight_geo_df.loc[:, [\"live_date\", \"live_day\", \"geometry\",\"address\"]],\n",
    "    50,\n",
    ").dropna(subset=['date_first_live_camera']).assign(\n",
    "    days_since_live=lambda df: (df.call_day - df.date_first_live_camera).dt.days,\n",
    ")\n",
    "#     within_proximity_of_greenlight=lambda df: df.meters_to_nearest_match\n",
    "#     <= PROXIMITY_THRESHOLD,\n",
    "#     live_at_time_of_call=lambda df: df.live_date_neighbor <= df.call_timestamp,\n",
    "#     close_to_live_light=lambda df: df.live_at_time_of_call\n",
    "#     & df.within_proximity_of_greenlight,\n",
    "# )"
   ]
  },
  {
   "cell_type": "code",
   "execution_count": 158,
   "id": "7cd43e51",
   "metadata": {
    "ExecuteTime": {
     "end_time": "2021-08-27T00:24:14.011764Z",
     "start_time": "2021-08-27T00:24:13.850576Z"
    }
   },
   "outputs": [
    {
     "data": {
      "text/html": [
       "<div>\n",
       "<style scoped>\n",
       "    .dataframe tbody tr th:only-of-type {\n",
       "        vertical-align: middle;\n",
       "    }\n",
       "\n",
       "    .dataframe tbody tr th {\n",
       "        vertical-align: top;\n",
       "    }\n",
       "\n",
       "    .dataframe thead th {\n",
       "        text-align: right;\n",
       "    }\n",
       "</style>\n",
       "<table border=\"1\" class=\"dataframe\">\n",
       "  <thead>\n",
       "    <tr style=\"text-align: right;\">\n",
       "      <th></th>\n",
       "      <th>geometry</th>\n",
       "      <th>calldescription</th>\n",
       "      <th>category</th>\n",
       "      <th>call_timestamp</th>\n",
       "      <th>call_day</th>\n",
       "      <th>date_first_live_camera</th>\n",
       "    </tr>\n",
       "  </thead>\n",
       "  <tbody>\n",
       "    <tr>\n",
       "      <th>20</th>\n",
       "      <td>POINT (-83.22770 42.37154)</td>\n",
       "      <td>TRANSPORT PRISONER</td>\n",
       "      <td>TRPPRIS</td>\n",
       "      <td>2016-09-20 10:34:11</td>\n",
       "      <td>2016-09-20</td>\n",
       "      <td>2017-02-14</td>\n",
       "    </tr>\n",
       "    <tr>\n",
       "      <th>27</th>\n",
       "      <td>POINT (-83.22770 42.37154)</td>\n",
       "      <td>TRANSPORT PRISONER</td>\n",
       "      <td>TRPPRIS</td>\n",
       "      <td>2016-09-20 10:56:15</td>\n",
       "      <td>2016-09-20</td>\n",
       "      <td>2017-02-14</td>\n",
       "    </tr>\n",
       "    <tr>\n",
       "      <th>48</th>\n",
       "      <td>POINT (-83.00914 42.37465)</td>\n",
       "      <td>RECOVER AUTO</td>\n",
       "      <td>RECAUTO</td>\n",
       "      <td>2016-09-20 11:37:55</td>\n",
       "      <td>2016-09-20</td>\n",
       "      <td>2018-05-30</td>\n",
       "    </tr>\n",
       "    <tr>\n",
       "      <th>69</th>\n",
       "      <td>POINT (-82.95726 42.42911)</td>\n",
       "      <td>MISCELLANEOUS TRAFFIC</td>\n",
       "      <td>MISCTRAF</td>\n",
       "      <td>2016-09-20 12:03:38</td>\n",
       "      <td>2016-09-21</td>\n",
       "      <td>2017-01-19</td>\n",
       "    </tr>\n",
       "    <tr>\n",
       "      <th>100</th>\n",
       "      <td>POINT (-82.97079 42.44557)</td>\n",
       "      <td>DISTURBANCE</td>\n",
       "      <td>DISTURB</td>\n",
       "      <td>2016-09-20 12:48:14</td>\n",
       "      <td>2016-09-21</td>\n",
       "      <td>2018-08-24</td>\n",
       "    </tr>\n",
       "    <tr>\n",
       "      <th>...</th>\n",
       "      <td>...</td>\n",
       "      <td>...</td>\n",
       "      <td>...</td>\n",
       "      <td>...</td>\n",
       "      <td>...</td>\n",
       "      <td>...</td>\n",
       "    </tr>\n",
       "    <tr>\n",
       "      <th>99954</th>\n",
       "      <td>POINT (-83.02423 42.43322)</td>\n",
       "      <td>SPECIAL ATTENTION</td>\n",
       "      <td>SPCL ATT</td>\n",
       "      <td>2016-12-11 00:24:45</td>\n",
       "      <td>2016-12-11</td>\n",
       "      <td>2019-12-12</td>\n",
       "    </tr>\n",
       "    <tr>\n",
       "      <th>99961</th>\n",
       "      <td>POINT (-83.23596 42.35758)</td>\n",
       "      <td>FELONIOUS ASSAULT IP</td>\n",
       "      <td>FA IP</td>\n",
       "      <td>2016-12-11 00:32:19</td>\n",
       "      <td>2016-12-11</td>\n",
       "      <td>2016-01-01</td>\n",
       "    </tr>\n",
       "    <tr>\n",
       "      <th>99970</th>\n",
       "      <td>POINT (-83.14786 42.37233)</td>\n",
       "      <td>VERIFIED ALR / PERSON W/O CODE</td>\n",
       "      <td>VERALRM</td>\n",
       "      <td>2016-12-11 00:42:15</td>\n",
       "      <td>2016-12-11</td>\n",
       "      <td>2021-06-10</td>\n",
       "    </tr>\n",
       "    <tr>\n",
       "      <th>99973</th>\n",
       "      <td>POINT (-83.09584 42.32028)</td>\n",
       "      <td>SPECIAL ATTENTION</td>\n",
       "      <td>SPCL ATT</td>\n",
       "      <td>2016-12-11 00:46:03</td>\n",
       "      <td>2016-12-11</td>\n",
       "      <td>2020-10-09</td>\n",
       "    </tr>\n",
       "    <tr>\n",
       "      <th>99987</th>\n",
       "      <td>POINT (-83.25641 42.41601)</td>\n",
       "      <td>SPECIAL ATTENTION</td>\n",
       "      <td>SPCL ATT</td>\n",
       "      <td>2016-12-11 01:01:42</td>\n",
       "      <td>2016-12-11</td>\n",
       "      <td>2016-03-03</td>\n",
       "    </tr>\n",
       "  </tbody>\n",
       "</table>\n",
       "<p>9502 rows × 6 columns</p>\n",
       "</div>"
      ],
      "text/plain": [
       "                         geometry                 calldescription  category  \\\n",
       "20     POINT (-83.22770 42.37154)              TRANSPORT PRISONER  TRPPRIS    \n",
       "27     POINT (-83.22770 42.37154)              TRANSPORT PRISONER  TRPPRIS    \n",
       "48     POINT (-83.00914 42.37465)                    RECOVER AUTO  RECAUTO    \n",
       "69     POINT (-82.95726 42.42911)           MISCELLANEOUS TRAFFIC  MISCTRAF   \n",
       "100    POINT (-82.97079 42.44557)                     DISTURBANCE  DISTURB    \n",
       "...                           ...                             ...       ...   \n",
       "99954  POINT (-83.02423 42.43322)               SPECIAL ATTENTION  SPCL ATT   \n",
       "99961  POINT (-83.23596 42.35758)            FELONIOUS ASSAULT IP  FA IP      \n",
       "99970  POINT (-83.14786 42.37233)  VERIFIED ALR / PERSON W/O CODE  VERALRM    \n",
       "99973  POINT (-83.09584 42.32028)               SPECIAL ATTENTION  SPCL ATT   \n",
       "99987  POINT (-83.25641 42.41601)               SPECIAL ATTENTION  SPCL ATT   \n",
       "\n",
       "           call_timestamp   call_day date_first_live_camera  \n",
       "20    2016-09-20 10:34:11 2016-09-20             2017-02-14  \n",
       "27    2016-09-20 10:56:15 2016-09-20             2017-02-14  \n",
       "48    2016-09-20 11:37:55 2016-09-20             2018-05-30  \n",
       "69    2016-09-20 12:03:38 2016-09-21             2017-01-19  \n",
       "100   2016-09-20 12:48:14 2016-09-21             2018-08-24  \n",
       "...                   ...        ...                    ...  \n",
       "99954 2016-12-11 00:24:45 2016-12-11             2019-12-12  \n",
       "99961 2016-12-11 00:32:19 2016-12-11             2016-01-01  \n",
       "99970 2016-12-11 00:42:15 2016-12-11             2021-06-10  \n",
       "99973 2016-12-11 00:46:03 2016-12-11             2020-10-09  \n",
       "99987 2016-12-11 01:01:42 2016-12-11             2016-03-03  \n",
       "\n",
       "[9502 rows x 6 columns]"
      ]
     },
     "execution_count": 158,
     "metadata": {},
     "output_type": "execute_result"
    }
   ],
   "source": [
    "combined_df"
   ]
  },
  {
   "cell_type": "code",
   "execution_count": 114,
   "id": "03164421",
   "metadata": {
    "ExecuteTime": {
     "end_time": "2021-08-26T23:30:26.094462Z",
     "start_time": "2021-08-26T23:30:26.067245Z"
    }
   },
   "outputs": [
    {
     "data": {
      "text/plain": [
       "Index(['geometry', 'calldescription', 'category', 'call_timestamp', 'call_day',\n",
       "       'live_date_neighbor', 'live_day_neighbor', 'address_neighbor',\n",
       "       'meters_to_nearest_match', 'days_since_live',\n",
       "       'within_proximity_of_greenlight', 'live_at_time_of_call',\n",
       "       'close_to_live_light'],\n",
       "      dtype='object')"
      ]
     },
     "execution_count": 114,
     "metadata": {},
     "output_type": "execute_result"
    }
   ],
   "source": [
    "combined_df.columns"
   ]
  },
  {
   "cell_type": "code",
   "execution_count": 115,
   "id": "2029a156",
   "metadata": {
    "ExecuteTime": {
     "end_time": "2021-08-26T23:30:41.107714Z",
     "start_time": "2021-08-26T23:30:41.051649Z"
    }
   },
   "outputs": [
    {
     "data": {
      "text/plain": [
       "address_neighbor  call_day  \n",
       "1 E McNichols Rd  2016-09-23    2\n",
       "                  2016-09-24    1\n",
       "                  2016-09-25    1\n",
       "                  2016-09-26    2\n",
       "                  2016-09-28    2\n",
       "                               ..\n",
       "9970 Freeland St  2016-12-03    1\n",
       "                  2016-12-04    3\n",
       "                  2016-12-08    2\n",
       "                  2016-12-09    4\n",
       "                  2016-12-10    1\n",
       "Name: category, Length: 35442, dtype: int64"
      ]
     },
     "execution_count": 115,
     "metadata": {},
     "output_type": "execute_result"
    }
   ],
   "source": [
    "combined_df.groupby(['address_neighbor','call_day']).category.count()"
   ]
  },
  {
   "cell_type": "markdown",
   "id": "6f6ba1af",
   "metadata": {},
   "source": [
    "to do: assume live date is not correlated with crime in proximity of the camera, calculate average proportion of total crime by project greenlight site."
   ]
  },
  {
   "cell_type": "code",
   "execution_count": 123,
   "id": "021c7d3e",
   "metadata": {
    "ExecuteTime": {
     "end_time": "2021-08-26T23:36:58.583838Z",
     "start_time": "2021-08-26T23:36:58.525902Z"
    }
   },
   "outputs": [
    {
     "data": {
      "text/html": [
       "<div>\n",
       "<style scoped>\n",
       "    .dataframe tbody tr th:only-of-type {\n",
       "        vertical-align: middle;\n",
       "    }\n",
       "\n",
       "    .dataframe tbody tr th {\n",
       "        vertical-align: top;\n",
       "    }\n",
       "\n",
       "    .dataframe thead th {\n",
       "        text-align: right;\n",
       "    }\n",
       "</style>\n",
       "<table border=\"1\" class=\"dataframe\">\n",
       "  <thead>\n",
       "    <tr style=\"text-align: right;\">\n",
       "      <th></th>\n",
       "      <th></th>\n",
       "      <th>n_sites</th>\n",
       "    </tr>\n",
       "    <tr>\n",
       "      <th>address_neighbor</th>\n",
       "      <th>live_at_time_of_call</th>\n",
       "      <th></th>\n",
       "    </tr>\n",
       "  </thead>\n",
       "  <tbody>\n",
       "    <tr>\n",
       "      <th>1 E McNichols Rd</th>\n",
       "      <th>False</th>\n",
       "      <td>42</td>\n",
       "    </tr>\n",
       "    <tr>\n",
       "      <th>1 East State Fair Ave</th>\n",
       "      <th>False</th>\n",
       "      <td>92</td>\n",
       "    </tr>\n",
       "    <tr>\n",
       "      <th>1 Park Ave</th>\n",
       "      <th>False</th>\n",
       "      <td>18</td>\n",
       "    </tr>\n",
       "    <tr>\n",
       "      <th>1000 Whitmore Rd</th>\n",
       "      <th>False</th>\n",
       "      <td>27</td>\n",
       "    </tr>\n",
       "    <tr>\n",
       "      <th>10000 Plymouth Rd</th>\n",
       "      <th>False</th>\n",
       "      <td>32</td>\n",
       "    </tr>\n",
       "    <tr>\n",
       "      <th>...</th>\n",
       "      <th>...</th>\n",
       "      <td>...</td>\n",
       "    </tr>\n",
       "    <tr>\n",
       "      <th>9768 Grand River</th>\n",
       "      <th>False</th>\n",
       "      <td>168</td>\n",
       "    </tr>\n",
       "    <tr>\n",
       "      <th rowspan=\"2\" valign=\"top\">9939 E Jefferson Ave</th>\n",
       "      <th>False</th>\n",
       "      <td>6</td>\n",
       "    </tr>\n",
       "    <tr>\n",
       "      <th>True</th>\n",
       "      <td>3</td>\n",
       "    </tr>\n",
       "    <tr>\n",
       "      <th>9949 E Warren Ave</th>\n",
       "      <th>False</th>\n",
       "      <td>21</td>\n",
       "    </tr>\n",
       "    <tr>\n",
       "      <th>9963 Gratiot Ave</th>\n",
       "      <th>False</th>\n",
       "      <td>30</td>\n",
       "    </tr>\n",
       "  </tbody>\n",
       "</table>\n",
       "<p>460 rows × 1 columns</p>\n",
       "</div>"
      ],
      "text/plain": [
       "                                            n_sites\n",
       "address_neighbor      live_at_time_of_call         \n",
       "1 E McNichols Rd      False                      42\n",
       "1 East State Fair Ave False                      92\n",
       "1 Park Ave            False                      18\n",
       "1000 Whitmore Rd      False                      27\n",
       "10000 Plymouth Rd     False                      32\n",
       "...                                             ...\n",
       "9768 Grand River      False                     168\n",
       "9939 E Jefferson Ave  False                       6\n",
       "                      True                        3\n",
       "9949 E Warren Ave     False                      21\n",
       "9963 Gratiot Ave      False                      30\n",
       "\n",
       "[460 rows x 1 columns]"
      ]
     },
     "execution_count": 123,
     "metadata": {},
     "output_type": "execute_result"
    }
   ],
   "source": [
    "combined_df.loc[lambda df: df.within_proximity_of_greenlight,:].groupby(['address_neighbor','live_at_time_of_call']).category.count().to_frame('n_sites')"
   ]
  },
  {
   "cell_type": "code",
   "execution_count": 93,
   "id": "2af3c7da",
   "metadata": {
    "ExecuteTime": {
     "end_time": "2021-08-26T23:13:28.134969Z",
     "start_time": "2021-08-26T23:13:28.077582Z"
    }
   },
   "outputs": [],
   "source": [
    "background_rate = combined_df.loc[lambda df: df.within_proximity_of_greenlight, :].groupby('call_day').category.count().to_frame('total_calls')"
   ]
  },
  {
   "cell_type": "code",
   "execution_count": 122,
   "id": "539f815a",
   "metadata": {
    "ExecuteTime": {
     "end_time": "2021-08-26T23:36:50.364907Z",
     "start_time": "2021-08-26T23:36:50.262184Z"
    }
   },
   "outputs": [
    {
     "data": {
      "text/html": [
       "<div>\n",
       "<style scoped>\n",
       "    .dataframe tbody tr th:only-of-type {\n",
       "        vertical-align: middle;\n",
       "    }\n",
       "\n",
       "    .dataframe tbody tr th {\n",
       "        vertical-align: top;\n",
       "    }\n",
       "\n",
       "    .dataframe thead th {\n",
       "        text-align: right;\n",
       "    }\n",
       "</style>\n",
       "<table border=\"1\" class=\"dataframe\">\n",
       "  <thead>\n",
       "    <tr style=\"text-align: right;\">\n",
       "      <th></th>\n",
       "      <th></th>\n",
       "      <th></th>\n",
       "      <th>grouped_count</th>\n",
       "      <th>total_calls</th>\n",
       "      <th>proportion_of_calls</th>\n",
       "      <th>n_sites</th>\n",
       "    </tr>\n",
       "    <tr>\n",
       "      <th>live_at_time_of_call</th>\n",
       "      <th>call_day</th>\n",
       "      <th>address_neighbor</th>\n",
       "      <th></th>\n",
       "      <th></th>\n",
       "      <th></th>\n",
       "      <th></th>\n",
       "    </tr>\n",
       "  </thead>\n",
       "  <tbody>\n",
       "    <tr>\n",
       "      <th rowspan=\"5\" valign=\"top\">False</th>\n",
       "      <th rowspan=\"5\" valign=\"top\">2016-09-20</th>\n",
       "      <th>1 E McNichols Rd</th>\n",
       "      <td>3</td>\n",
       "      <td>3</td>\n",
       "      <td>1.000000</td>\n",
       "      <td>42</td>\n",
       "    </tr>\n",
       "    <tr>\n",
       "      <th>1 East State Fair Ave</th>\n",
       "      <td>3</td>\n",
       "      <td>3</td>\n",
       "      <td>1.000000</td>\n",
       "      <td>92</td>\n",
       "    </tr>\n",
       "    <tr>\n",
       "      <th>1 Park Ave</th>\n",
       "      <td>3</td>\n",
       "      <td>3</td>\n",
       "      <td>1.000000</td>\n",
       "      <td>18</td>\n",
       "    </tr>\n",
       "    <tr>\n",
       "      <th>1000 Whitmore Rd</th>\n",
       "      <td>3</td>\n",
       "      <td>3</td>\n",
       "      <td>1.000000</td>\n",
       "      <td>27</td>\n",
       "    </tr>\n",
       "    <tr>\n",
       "      <th>10000 Plymouth Rd</th>\n",
       "      <td>3</td>\n",
       "      <td>3</td>\n",
       "      <td>1.000000</td>\n",
       "      <td>32</td>\n",
       "    </tr>\n",
       "    <tr>\n",
       "      <th>...</th>\n",
       "      <th>...</th>\n",
       "      <th>...</th>\n",
       "      <td>...</td>\n",
       "      <td>...</td>\n",
       "      <td>...</td>\n",
       "      <td>...</td>\n",
       "    </tr>\n",
       "    <tr>\n",
       "      <th rowspan=\"5\" valign=\"top\">True</th>\n",
       "      <th rowspan=\"5\" valign=\"top\">2016-12-11</th>\n",
       "      <th>8536 Linwood Ave</th>\n",
       "      <td>20</td>\n",
       "      <td>69</td>\n",
       "      <td>0.289855</td>\n",
       "      <td>22</td>\n",
       "    </tr>\n",
       "    <tr>\n",
       "      <th>8825 E Jefferson Ave</th>\n",
       "      <td>20</td>\n",
       "      <td>69</td>\n",
       "      <td>0.289855</td>\n",
       "      <td>46</td>\n",
       "    </tr>\n",
       "    <tr>\n",
       "      <th>8930 W McNichols Rd</th>\n",
       "      <td>20</td>\n",
       "      <td>69</td>\n",
       "      <td>0.289855</td>\n",
       "      <td>63</td>\n",
       "    </tr>\n",
       "    <tr>\n",
       "      <th>975 Mack Ave</th>\n",
       "      <td>20</td>\n",
       "      <td>69</td>\n",
       "      <td>0.289855</td>\n",
       "      <td>221</td>\n",
       "    </tr>\n",
       "    <tr>\n",
       "      <th>9939 E Jefferson Ave</th>\n",
       "      <td>20</td>\n",
       "      <td>69</td>\n",
       "      <td>0.289855</td>\n",
       "      <td>3</td>\n",
       "    </tr>\n",
       "  </tbody>\n",
       "</table>\n",
       "<p>38134 rows × 4 columns</p>\n",
       "</div>"
      ],
      "text/plain": [
       "                                                       grouped_count  \\\n",
       "live_at_time_of_call call_day   address_neighbor                       \n",
       "False                2016-09-20 1 E McNichols Rd                   3   \n",
       "                                1 East State Fair Ave              3   \n",
       "                                1 Park Ave                         3   \n",
       "                                1000 Whitmore Rd                   3   \n",
       "                                10000 Plymouth Rd                  3   \n",
       "...                                                              ...   \n",
       "True                 2016-12-11 8536 Linwood Ave                  20   \n",
       "                                8825 E Jefferson Ave              20   \n",
       "                                8930 W McNichols Rd               20   \n",
       "                                975 Mack Ave                      20   \n",
       "                                9939 E Jefferson Ave              20   \n",
       "\n",
       "                                                       total_calls  \\\n",
       "live_at_time_of_call call_day   address_neighbor                     \n",
       "False                2016-09-20 1 E McNichols Rd                 3   \n",
       "                                1 East State Fair Ave            3   \n",
       "                                1 Park Ave                       3   \n",
       "                                1000 Whitmore Rd                 3   \n",
       "                                10000 Plymouth Rd                3   \n",
       "...                                                            ...   \n",
       "True                 2016-12-11 8536 Linwood Ave                69   \n",
       "                                8825 E Jefferson Ave            69   \n",
       "                                8930 W McNichols Rd             69   \n",
       "                                975 Mack Ave                    69   \n",
       "                                9939 E Jefferson Ave            69   \n",
       "\n",
       "                                                       proportion_of_calls  \\\n",
       "live_at_time_of_call call_day   address_neighbor                             \n",
       "False                2016-09-20 1 E McNichols Rd                  1.000000   \n",
       "                                1 East State Fair Ave             1.000000   \n",
       "                                1 Park Ave                        1.000000   \n",
       "                                1000 Whitmore Rd                  1.000000   \n",
       "                                10000 Plymouth Rd                 1.000000   \n",
       "...                                                                    ...   \n",
       "True                 2016-12-11 8536 Linwood Ave                  0.289855   \n",
       "                                8825 E Jefferson Ave              0.289855   \n",
       "                                8930 W McNichols Rd               0.289855   \n",
       "                                975 Mack Ave                      0.289855   \n",
       "                                9939 E Jefferson Ave              0.289855   \n",
       "\n",
       "                                                       n_sites  \n",
       "live_at_time_of_call call_day   address_neighbor                \n",
       "False                2016-09-20 1 E McNichols Rd            42  \n",
       "                                1 East State Fair Ave       92  \n",
       "                                1 Park Ave                  18  \n",
       "                                1000 Whitmore Rd            27  \n",
       "                                10000 Plymouth Rd           32  \n",
       "...                                                        ...  \n",
       "True                 2016-12-11 8536 Linwood Ave            22  \n",
       "                                8825 E Jefferson Ave        46  \n",
       "                                8930 W McNichols Rd         63  \n",
       "                                975 Mack Ave               221  \n",
       "                                9939 E Jefferson Ave         3  \n",
       "\n",
       "[38134 rows x 4 columns]"
      ]
     },
     "execution_count": 122,
     "metadata": {},
     "output_type": "execute_result"
    }
   ],
   "source": [
    "combined_df.loc[lambda df: df.within_proximity_of_greenlight, :].groupby(\n",
    "    [\"live_at_time_of_call\", \"call_day\"]\n",
    ").category.count().to_frame(\"grouped_count\").join(\n",
    "    background_rate, on=\"call_day\"\n",
    ").assign(\n",
    "    proportion_of_calls=lambda df: df.grouped_count / df.total_calls\n",
    ").join(\n",
    "    combined_df.loc[lambda df: df.within_proximity_of_greenlight, :]\n",
    "    .groupby([\"address_neighbor\", \"live_at_time_of_call\"])\n",
    "    .category.count()\n",
    "    .to_frame(\"n_sites\")\n",
    ").assign(proportion_of_calls_per_site=lambda df: df.proportion_of_calls/df.n_sites)"
   ]
  },
  {
   "cell_type": "code",
   "execution_count": 73,
   "id": "93f097c7",
   "metadata": {
    "ExecuteTime": {
     "end_time": "2021-08-26T23:04:54.721599Z",
     "start_time": "2021-08-26T23:04:54.686037Z"
    }
   },
   "outputs": [
    {
     "data": {
      "text/plain": [
       "call_day\n",
       "2016-09-20      67\n",
       "2016-09-21    1210\n",
       "2016-09-22    1185\n",
       "2016-09-23    1167\n",
       "2016-09-24    1241\n",
       "              ... \n",
       "2016-12-07    1410\n",
       "2016-12-08    1611\n",
       "2016-12-09    1474\n",
       "2016-12-10    1611\n",
       "2016-12-11     850\n",
       "Name: incident_id, Length: 83, dtype: int64"
      ]
     },
     "execution_count": 73,
     "metadata": {},
     "output_type": "execute_result"
    }
   ],
   "source": [
    "background_rate"
   ]
  },
  {
   "cell_type": "markdown",
   "id": "968f6f0b",
   "metadata": {},
   "source": [
    "## Approximating the relationship between lat/long distance and meters using google maps in detroit\n"
   ]
  },
  {
   "cell_type": "code",
   "execution_count": 15,
   "id": "bc0d2fac",
   "metadata": {
    "ExecuteTime": {
     "end_time": "2021-08-26T22:34:53.276337Z",
     "start_time": "2021-08-26T22:34:53.253819Z"
    }
   },
   "outputs": [],
   "source": [
    "a = (42.450528328751126, -82.94340486981733)\n",
    "b = (42.440174033911795, -83.27726268725615)\n",
    "d = 27500"
   ]
  },
  {
   "cell_type": "code",
   "execution_count": 18,
   "id": "066ddf4a",
   "metadata": {
    "ExecuteTime": {
     "end_time": "2021-08-26T22:36:33.097908Z",
     "start_time": "2021-08-26T22:36:33.071974Z"
    }
   },
   "outputs": [
    {
     "data": {
      "text/plain": [
       "82410.03766311899"
      ]
     },
     "execution_count": 18,
     "metadata": {},
     "output_type": "execute_result"
    }
   ],
   "source": [
    "27500/(((a[1]-b[1])**2)-((a[0]-b[0])**2))**.5"
   ]
  }
 ],
 "metadata": {
  "kernelspec": {
   "display_name": "Python 3",
   "language": "python",
   "name": "python3"
  },
  "language_info": {
   "codemirror_mode": {
    "name": "ipython",
    "version": 3
   },
   "file_extension": ".py",
   "mimetype": "text/x-python",
   "name": "python",
   "nbconvert_exporter": "python",
   "pygments_lexer": "ipython3",
   "version": "3.8.2"
  },
  "toc": {
   "base_numbering": 1,
   "nav_menu": {},
   "number_sections": true,
   "sideBar": true,
   "skip_h1_title": false,
   "title_cell": "Table of Contents",
   "title_sidebar": "Contents",
   "toc_cell": false,
   "toc_position": {},
   "toc_section_display": true,
   "toc_window_display": false
  },
  "varInspector": {
   "cols": {
    "lenName": 16,
    "lenType": 16,
    "lenVar": 40
   },
   "kernels_config": {
    "python": {
     "delete_cmd_postfix": "",
     "delete_cmd_prefix": "del ",
     "library": "var_list.py",
     "varRefreshCmd": "print(var_dic_list())"
    },
    "r": {
     "delete_cmd_postfix": ") ",
     "delete_cmd_prefix": "rm(",
     "library": "var_list.r",
     "varRefreshCmd": "cat(var_dic_list()) "
    }
   },
   "types_to_exclude": [
    "module",
    "function",
    "builtin_function_or_method",
    "instance",
    "_Feature"
   ],
   "window_display": false
  }
 },
 "nbformat": 4,
 "nbformat_minor": 5
}
