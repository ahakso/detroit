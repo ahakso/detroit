{
 "cells": [
  {
   "cell_type": "code",
   "execution_count": 2,
   "id": "11b42d6a",
   "metadata": {
    "ExecuteTime": {
     "end_time": "2022-02-10T22:59:30.902168Z",
     "start_time": "2022-02-10T22:59:30.609953Z"
    }
   },
   "outputs": [],
   "source": [
    "from features.feature_constructor import Feature\n",
    "from features.violence_calls import ViolenceCalls\n",
    "from features.population import Population\n",
    "from detroit_geos import get_detroit_census_blocks"
   ]
  },
  {
   "cell_type": "markdown",
   "id": "9d854803",
   "metadata": {
    "ExecuteTime": {
     "end_time": "2022-02-10T19:04:26.134360Z",
     "start_time": "2022-02-10T19:04:26.110520Z"
    }
   },
   "source": [
    "# Framework\n",
    "`help(Feature)` gives a reasonable docstring, but may be easier to just look at the code, which contains descriptions of every method\n",
    "\n",
    "We'll concentrate on using a child class - population"
   ]
  },
  {
   "cell_type": "code",
   "execution_count": 2,
   "id": "187a41a9",
   "metadata": {
    "ExecuteTime": {
     "end_time": "2022-02-10T22:57:01.014941Z",
     "start_time": "2022-02-10T22:57:00.992720Z"
    }
   },
   "outputs": [],
   "source": [
    "# The Population class contains reference information for the data set\n",
    "# Instantiating the object does not load the data by default\n",
    "population = Population(year=2020, data_path = '.', population_data_path='population', verbose=True)"
   ]
  },
  {
   "cell_type": "code",
   "execution_count": 3,
   "id": "2b48236c",
   "metadata": {
    "ExecuteTime": {
     "end_time": "2022-02-10T22:57:01.517803Z",
     "start_time": "2022-02-10T22:57:01.353371Z"
    }
   },
   "outputs": [
    {
     "name": "stdout",
     "output_type": "stream",
     "text": [
      "Loaded 32022 rows\n"
     ]
    },
    {
     "data": {
      "text/html": [
       "<div>\n",
       "<style scoped>\n",
       "    .dataframe tbody tr th:only-of-type {\n",
       "        vertical-align: middle;\n",
       "    }\n",
       "\n",
       "    .dataframe tbody tr th {\n",
       "        vertical-align: top;\n",
       "    }\n",
       "\n",
       "    .dataframe thead th {\n",
       "        text-align: right;\n",
       "    }\n",
       "</style>\n",
       "<table border=\"1\" class=\"dataframe\">\n",
       "  <thead>\n",
       "    <tr style=\"text-align: right;\">\n",
       "      <th></th>\n",
       "      <th>block_id</th>\n",
       "      <th>population</th>\n",
       "    </tr>\n",
       "  </thead>\n",
       "  <tbody>\n",
       "    <tr>\n",
       "      <th>0</th>\n",
       "      <td>261635001001000</td>\n",
       "      <td>14</td>\n",
       "    </tr>\n",
       "    <tr>\n",
       "      <th>1</th>\n",
       "      <td>261635001001001</td>\n",
       "      <td>100</td>\n",
       "    </tr>\n",
       "    <tr>\n",
       "      <th>2</th>\n",
       "      <td>261635001001002</td>\n",
       "      <td>82</td>\n",
       "    </tr>\n",
       "    <tr>\n",
       "      <th>3</th>\n",
       "      <td>261635001001003</td>\n",
       "      <td>50</td>\n",
       "    </tr>\n",
       "    <tr>\n",
       "      <th>4</th>\n",
       "      <td>261635001001004</td>\n",
       "      <td>66</td>\n",
       "    </tr>\n",
       "  </tbody>\n",
       "</table>\n",
       "</div>"
      ],
      "text/plain": [
       "          block_id  population\n",
       "0  261635001001000          14\n",
       "1  261635001001001         100\n",
       "2  261635001001002          82\n",
       "3  261635001001003          50\n",
       "4  261635001001004          66"
      ]
     },
     "execution_count": 3,
     "metadata": {},
     "output_type": "execute_result"
    }
   ],
   "source": [
    "# loading the data is not a raw load, it contains transforms that we well always want, like column selection and renaming\n",
    "population.load_data()\n",
    "population.data.head()"
   ]
  },
  {
   "cell_type": "code",
   "execution_count": 4,
   "id": "5f03ce99",
   "metadata": {
    "ExecuteTime": {
     "end_time": "2022-02-10T22:57:02.022581Z",
     "start_time": "2022-02-10T22:57:01.960403Z"
    }
   },
   "outputs": [
    {
     "name": "stdout",
     "output_type": "stream",
     "text": [
      "clean data has 32022 rows\n",
      "cleansed data validator: block_id looks good\n"
     ]
    }
   ],
   "source": [
    "# This decorated method standardizes block ids and does validation, in addition to any additional cleaning you may want to do\n",
    "population.cleanse_data()"
   ]
  },
  {
   "cell_type": "code",
   "execution_count": 5,
   "id": "d7804c12",
   "metadata": {
    "ExecuteTime": {
     "end_time": "2022-02-10T22:57:03.167026Z",
     "start_time": "2022-02-10T22:57:02.387922Z"
    }
   },
   "outputs": [
    {
     "name": "stdout",
     "output_type": "stream",
     "text": [
      "Generate index not run, or was run on the wrong grain. Creating index on block group grain\n",
      "0 of 1507 block groups are unaccounted for\n"
     ]
    }
   ],
   "source": [
    "# this decorated method will automatically run the above steps and load data + set the index as necessary if it hasn't be done yet\n",
    "# It defaults to full data load, so if the data set is large, you may want to load the data with custom arguments instead of doing \n",
    "# it automatically\n",
    "\n",
    "# Outputs a series, which is the goal of this class\n",
    "block_group_population = population.construct_feature(target_geo_grain='block group')"
   ]
  },
  {
   "cell_type": "code",
   "execution_count": 6,
   "id": "0c9b1f54",
   "metadata": {
    "ExecuteTime": {
     "end_time": "2022-02-10T22:57:03.669214Z",
     "start_time": "2022-02-10T22:57:03.261870Z"
    }
   },
   "outputs": [
    {
     "data": {
      "image/png": "[encoded data removed]",
      "text/plain": [
       "<Figure size 432x288 with 1 Axes>"
      ]
     },
     "metadata": {
      "image/png": {
       "height": 288,
       "width": 407
      },
      "needs_background": "light"
     },
     "output_type": "display_data"
    }
   ],
   "source": [
    "block_group_population.hist(bins=np.arange(0,3000,100))\n",
    "_ = plt.gca().set(title='looks like a hurdle binomial distribution',xlabel='population',ylabel='n block groups')"
   ]
  },
  {
   "cell_type": "code",
   "execution_count": 29,
   "id": "ed711384",
   "metadata": {
    "ExecuteTime": {
     "end_time": "2022-02-10T23:20:42.430079Z",
     "start_time": "2022-02-10T23:20:42.404415Z"
    }
   },
   "outputs": [],
   "source": [
    "from features.feature_constructor import Feature\n",
    "from features.violence_calls import ViolenceCalls\n",
    "from features.population import Population\n",
    "from detroit_geos import get_detroit_census_blocks\n",
    "from util_detroit import point_to_block_id\n",
    "import geopandas as gpd"
   ]
  },
  {
   "cell_type": "code",
   "execution_count": 60,
   "id": "5675a82b",
   "metadata": {
    "ExecuteTime": {
     "end_time": "2022-02-10T23:49:45.224997Z",
     "start_time": "2022-02-10T23:47:41.125965Z"
    }
   },
   "outputs": [
    {
     "name": "stderr",
     "output_type": "stream",
     "text": [
      "WARNING:root:Faster (and more accurate) to use their block_id for 2010 census context\n"
     ]
    },
    {
     "name": "stdout",
     "output_type": "stream",
     "text": [
      "Loaded 371,176 rows of data\n"
     ]
    }
   ],
   "source": [
    "call_feat = ViolenceCalls(decennial_census_year=2010)\n",
    "call_feat.load_data(use_lat_long=True)\n",
    "# # call_feat.cleanse_data()\n",
    "# call_feat.construct_feature(target_geo_grain='block')"
   ]
  },
  {
   "cell_type": "code",
   "execution_count": null,
   "id": "adc7e47a",
   "metadata": {},
   "outputs": [],
   "source": [
    "call_feat.cleanse_data("
   ]
  },
  {
   "cell_type": "code",
   "execution_count": 27,
   "id": "66df95e8",
   "metadata": {
    "ExecuteTime": {
     "end_time": "2022-02-10T23:20:08.900076Z",
     "start_time": "2022-02-10T23:20:07.865752Z"
    }
   },
   "outputs": [],
   "source": [
    "blocks = get_detroit_census_blocks(2010)"
   ]
  },
  {
   "cell_type": "code",
   "execution_count": 32,
   "id": "a9535116",
   "metadata": {
    "ExecuteTime": {
     "end_time": "2022-02-10T23:21:05.614839Z",
     "start_time": "2022-02-10T23:21:05.355010Z"
    }
   },
   "outputs": [],
   "source": [
    "t = gpd.sjoin(call_feat.data, blocks, how=\"left\", predicate=\"within\")"
   ]
  },
  {
   "cell_type": "code",
   "execution_count": 34,
   "id": "402a3156",
   "metadata": {
    "ExecuteTime": {
     "end_time": "2022-02-10T23:21:52.615813Z",
     "start_time": "2022-02-10T23:21:52.565951Z"
    }
   },
   "outputs": [
    {
     "data": {
      "text/html": [
       "<div>\n",
       "<style scoped>\n",
       "    .dataframe tbody tr th:only-of-type {\n",
       "        vertical-align: middle;\n",
       "    }\n",
       "\n",
       "    .dataframe tbody tr th {\n",
       "        vertical-align: top;\n",
       "    }\n",
       "\n",
       "    .dataframe thead th {\n",
       "        text-align: right;\n",
       "    }\n",
       "</style>\n",
       "<table border=\"1\" class=\"dataframe\">\n",
       "  <thead>\n",
       "    <tr style=\"text-align: right;\">\n",
       "      <th></th>\n",
       "      <th>block_id</th>\n",
       "      <th>longitude</th>\n",
       "      <th>latitude</th>\n",
       "      <th>geometry</th>\n",
       "    </tr>\n",
       "  </thead>\n",
       "  <tbody>\n",
       "    <tr>\n",
       "      <th>12604</th>\n",
       "      <td>261635458001004</td>\n",
       "      <td>-83.218775</td>\n",
       "      <td>42.337904</td>\n",
       "      <td>POLYGON ((-83.21811 42.33610, -83.21931 42.336...</td>\n",
       "    </tr>\n",
       "  </tbody>\n",
       "</table>\n",
       "</div>"
      ],
      "text/plain": [
       "              block_id  longitude   latitude  \\\n",
       "12604  261635458001004 -83.218775  42.337904   \n",
       "\n",
       "                                                geometry  \n",
       "12604  POLYGON ((-83.21811 42.33610, -83.21931 42.336...  "
      ]
     },
     "execution_count": 34,
     "metadata": {},
     "output_type": "execute_result"
    }
   ],
   "source": [
    "blocks.loc[blocks.block_id == t.block_id_right.iloc[0]]"
   ]
  },
  {
   "cell_type": "code",
   "execution_count": 55,
   "id": "a1d99560",
   "metadata": {
    "ExecuteTime": {
     "end_time": "2022-02-10T23:29:40.515905Z",
     "start_time": "2022-02-10T23:29:40.348808Z"
    }
   },
   "outputs": [
    {
     "data": {
      "text/html": [
       "<div>\n",
       "<style scoped>\n",
       "    .dataframe tbody tr th:only-of-type {\n",
       "        vertical-align: middle;\n",
       "    }\n",
       "\n",
       "    .dataframe tbody tr th {\n",
       "        vertical-align: top;\n",
       "    }\n",
       "\n",
       "    .dataframe thead th {\n",
       "        text-align: right;\n",
       "    }\n",
       "</style>\n",
       "<table border=\"1\" class=\"dataframe\">\n",
       "  <thead>\n",
       "    <tr style=\"text-align: right;\">\n",
       "      <th></th>\n",
       "      <th>priority</th>\n",
       "      <th>calldescription</th>\n",
       "      <th>category</th>\n",
       "      <th>call_timestamp</th>\n",
       "      <th>officerinitiated</th>\n",
       "      <th>block_id_left</th>\n",
       "      <th>longitude_left</th>\n",
       "      <th>latitude_left</th>\n",
       "      <th>oid</th>\n",
       "      <th>geometry</th>\n",
       "      <th>index_right</th>\n",
       "      <th>block_id_right</th>\n",
       "      <th>longitude_right</th>\n",
       "      <th>latitude_right</th>\n",
       "    </tr>\n",
       "  </thead>\n",
       "  <tbody>\n",
       "    <tr>\n",
       "      <th>0</th>\n",
       "      <td>1</td>\n",
       "      <td>FELONIOUS ASSAULT IP</td>\n",
       "      <td>FA IP</td>\n",
       "      <td>2020-06-25 10:53:47-04:04</td>\n",
       "      <td>No</td>\n",
       "      <td>261635457002005</td>\n",
       "      <td>-83.219314</td>\n",
       "      <td>42.336093</td>\n",
       "      <td>3079341</td>\n",
       "      <td>POINT (-83.21931 42.33609)</td>\n",
       "      <td>12604.0</td>\n",
       "      <td>2.616355e+14</td>\n",
       "      <td>-83.218775</td>\n",
       "      <td>42.337904</td>\n",
       "    </tr>\n",
       "    <tr>\n",
       "      <th>1</th>\n",
       "      <td>2</td>\n",
       "      <td>ASSAULT AND BATTERY IP-JH</td>\n",
       "      <td>AB IP/JH</td>\n",
       "      <td>2020-06-25 10:56:22-04:04</td>\n",
       "      <td>No</td>\n",
       "      <td>261635361004010</td>\n",
       "      <td>-83.142711</td>\n",
       "      <td>42.409890</td>\n",
       "      <td>3079346</td>\n",
       "      <td>POINT (-83.14271 42.40989)</td>\n",
       "      <td>999.0</td>\n",
       "      <td>2.616354e+14</td>\n",
       "      <td>-83.143294</td>\n",
       "      <td>42.411096</td>\n",
       "    </tr>\n",
       "    <tr>\n",
       "      <th>2</th>\n",
       "      <td>4</td>\n",
       "      <td>FELONIOUS ASSAULT REPORT</td>\n",
       "      <td>FA RPT</td>\n",
       "      <td>2020-06-25 10:56:58-04:04</td>\n",
       "      <td>Yes</td>\n",
       "      <td>NaN</td>\n",
       "      <td>-84.132207</td>\n",
       "      <td>42.082976</td>\n",
       "      <td>3079351</td>\n",
       "      <td>POINT (-84.13221 42.08298)</td>\n",
       "      <td>NaN</td>\n",
       "      <td>NaN</td>\n",
       "      <td>NaN</td>\n",
       "      <td>NaN</td>\n",
       "    </tr>\n",
       "    <tr>\n",
       "      <th>3</th>\n",
       "      <td>1</td>\n",
       "      <td>FELONIOUS ASSAULT IP</td>\n",
       "      <td>FA IP</td>\n",
       "      <td>2020-06-25 11:10:09-04:04</td>\n",
       "      <td>No</td>\n",
       "      <td>261635124002004</td>\n",
       "      <td>-82.956673</td>\n",
       "      <td>42.392132</td>\n",
       "      <td>3079387</td>\n",
       "      <td>POINT (-82.95667 42.39213)</td>\n",
       "      <td>1553.0</td>\n",
       "      <td>2.616351e+14</td>\n",
       "      <td>-82.957870</td>\n",
       "      <td>42.392761</td>\n",
       "    </tr>\n",
       "    <tr>\n",
       "      <th>4</th>\n",
       "      <td>1</td>\n",
       "      <td>SHOOTING/CUTTING/PENT WOUND</td>\n",
       "      <td>GSWCUT</td>\n",
       "      <td>2020-06-25 11:12:11-04:04</td>\n",
       "      <td>No</td>\n",
       "      <td>261635384003001</td>\n",
       "      <td>-83.133122</td>\n",
       "      <td>42.422717</td>\n",
       "      <td>3079399</td>\n",
       "      <td>POINT (-83.13312 42.42272)</td>\n",
       "      <td>5136.0</td>\n",
       "      <td>2.616354e+14</td>\n",
       "      <td>-83.132549</td>\n",
       "      <td>42.423618</td>\n",
       "    </tr>\n",
       "    <tr>\n",
       "      <th>...</th>\n",
       "      <td>...</td>\n",
       "      <td>...</td>\n",
       "      <td>...</td>\n",
       "      <td>...</td>\n",
       "      <td>...</td>\n",
       "      <td>...</td>\n",
       "      <td>...</td>\n",
       "      <td>...</td>\n",
       "      <td>...</td>\n",
       "      <td>...</td>\n",
       "      <td>...</td>\n",
       "      <td>...</td>\n",
       "      <td>...</td>\n",
       "      <td>...</td>\n",
       "    </tr>\n",
       "    <tr>\n",
       "      <th>768</th>\n",
       "      <td>1</td>\n",
       "      <td>FELONIOUS ASSAULT IP</td>\n",
       "      <td>FA IP</td>\n",
       "      <td>2020-06-28 23:43:23-04:04</td>\n",
       "      <td>No</td>\n",
       "      <td>261635219002012</td>\n",
       "      <td>-83.076429</td>\n",
       "      <td>42.348090</td>\n",
       "      <td>3089246</td>\n",
       "      <td>POINT (-83.07643 42.34809)</td>\n",
       "      <td>1506.0</td>\n",
       "      <td>2.616352e+14</td>\n",
       "      <td>-83.077257</td>\n",
       "      <td>42.348272</td>\n",
       "    </tr>\n",
       "    <tr>\n",
       "      <th>769</th>\n",
       "      <td>2</td>\n",
       "      <td>FELONIOUS ASSAULT JH</td>\n",
       "      <td>FA JH</td>\n",
       "      <td>2020-06-28 23:50:34-04:04</td>\n",
       "      <td>No</td>\n",
       "      <td>261635080002004</td>\n",
       "      <td>-83.122495</td>\n",
       "      <td>42.443234</td>\n",
       "      <td>3089262</td>\n",
       "      <td>POINT (-83.12249 42.44323)</td>\n",
       "      <td>1821.0</td>\n",
       "      <td>2.616351e+14</td>\n",
       "      <td>-83.115070</td>\n",
       "      <td>42.442397</td>\n",
       "    </tr>\n",
       "    <tr>\n",
       "      <th>770</th>\n",
       "      <td>2</td>\n",
       "      <td>ASSAULT AND BATTERY IP-JH</td>\n",
       "      <td>AB IP/JH</td>\n",
       "      <td>2020-06-28 23:51:59-04:04</td>\n",
       "      <td>No</td>\n",
       "      <td>261635014004002</td>\n",
       "      <td>-82.936642</td>\n",
       "      <td>42.416444</td>\n",
       "      <td>3089264</td>\n",
       "      <td>POINT (-82.93664 42.41644)</td>\n",
       "      <td>6980.0</td>\n",
       "      <td>2.616350e+14</td>\n",
       "      <td>-82.937263</td>\n",
       "      <td>42.416427</td>\n",
       "    </tr>\n",
       "    <tr>\n",
       "      <th>771</th>\n",
       "      <td>1</td>\n",
       "      <td>FELONIOUS ASSAULT IP</td>\n",
       "      <td>FA IP</td>\n",
       "      <td>2020-06-28 23:57:57-04:04</td>\n",
       "      <td>No</td>\n",
       "      <td>261635465001000</td>\n",
       "      <td>-83.236262</td>\n",
       "      <td>42.371899</td>\n",
       "      <td>3089274</td>\n",
       "      <td>POINT (-83.23626 42.37190)</td>\n",
       "      <td>6063.0</td>\n",
       "      <td>2.616355e+14</td>\n",
       "      <td>-83.236944</td>\n",
       "      <td>42.372974</td>\n",
       "    </tr>\n",
       "    <tr>\n",
       "      <th>772</th>\n",
       "      <td>1</td>\n",
       "      <td>SHOTS FIRED IP</td>\n",
       "      <td>SHOTS IP</td>\n",
       "      <td>2020-06-28 23:59:02-04:04</td>\n",
       "      <td>No</td>\n",
       "      <td>261635073003007</td>\n",
       "      <td>-83.089820</td>\n",
       "      <td>42.423589</td>\n",
       "      <td>3089275</td>\n",
       "      <td>POINT (-83.08982 42.42359)</td>\n",
       "      <td>6899.0</td>\n",
       "      <td>2.616351e+14</td>\n",
       "      <td>-83.090790</td>\n",
       "      <td>42.421687</td>\n",
       "    </tr>\n",
       "  </tbody>\n",
       "</table>\n",
       "<p>773 rows × 14 columns</p>\n",
       "</div>"
      ],
      "text/plain": [
       "    priority              calldescription  category            call_timestamp  \\\n",
       "0          1         FELONIOUS ASSAULT IP  FA IP    2020-06-25 10:53:47-04:04   \n",
       "1          2    ASSAULT AND BATTERY IP-JH  AB IP/JH 2020-06-25 10:56:22-04:04   \n",
       "2          4     FELONIOUS ASSAULT REPORT  FA RPT   2020-06-25 10:56:58-04:04   \n",
       "3          1         FELONIOUS ASSAULT IP  FA IP    2020-06-25 11:10:09-04:04   \n",
       "4          1  SHOOTING/CUTTING/PENT WOUND  GSWCUT   2020-06-25 11:12:11-04:04   \n",
       "..       ...                          ...       ...                       ...   \n",
       "768        1         FELONIOUS ASSAULT IP  FA IP    2020-06-28 23:43:23-04:04   \n",
       "769        2         FELONIOUS ASSAULT JH  FA JH    2020-06-28 23:50:34-04:04   \n",
       "770        2    ASSAULT AND BATTERY IP-JH  AB IP/JH 2020-06-28 23:51:59-04:04   \n",
       "771        1         FELONIOUS ASSAULT IP  FA IP    2020-06-28 23:57:57-04:04   \n",
       "772        1               SHOTS FIRED IP  SHOTS IP 2020-06-28 23:59:02-04:04   \n",
       "\n",
       "    officerinitiated    block_id_left  longitude_left  latitude_left      oid  \\\n",
       "0                 No  261635457002005      -83.219314      42.336093  3079341   \n",
       "1                 No  261635361004010      -83.142711      42.409890  3079346   \n",
       "2                Yes              NaN      -84.132207      42.082976  3079351   \n",
       "3                 No  261635124002004      -82.956673      42.392132  3079387   \n",
       "4                 No  261635384003001      -83.133122      42.422717  3079399   \n",
       "..               ...              ...             ...            ...      ...   \n",
       "768               No  261635219002012      -83.076429      42.348090  3089246   \n",
       "769               No  261635080002004      -83.122495      42.443234  3089262   \n",
       "770               No  261635014004002      -82.936642      42.416444  3089264   \n",
       "771               No  261635465001000      -83.236262      42.371899  3089274   \n",
       "772               No  261635073003007      -83.089820      42.423589  3089275   \n",
       "\n",
       "                       geometry  index_right  block_id_right  longitude_right  \\\n",
       "0    POINT (-83.21931 42.33609)      12604.0    2.616355e+14       -83.218775   \n",
       "1    POINT (-83.14271 42.40989)        999.0    2.616354e+14       -83.143294   \n",
       "2    POINT (-84.13221 42.08298)          NaN             NaN              NaN   \n",
       "3    POINT (-82.95667 42.39213)       1553.0    2.616351e+14       -82.957870   \n",
       "4    POINT (-83.13312 42.42272)       5136.0    2.616354e+14       -83.132549   \n",
       "..                          ...          ...             ...              ...   \n",
       "768  POINT (-83.07643 42.34809)       1506.0    2.616352e+14       -83.077257   \n",
       "769  POINT (-83.12249 42.44323)       1821.0    2.616351e+14       -83.115070   \n",
       "770  POINT (-82.93664 42.41644)       6980.0    2.616350e+14       -82.937263   \n",
       "771  POINT (-83.23626 42.37190)       6063.0    2.616355e+14       -83.236944   \n",
       "772  POINT (-83.08982 42.42359)       6899.0    2.616351e+14       -83.090790   \n",
       "\n",
       "     latitude_right  \n",
       "0         42.337904  \n",
       "1         42.411096  \n",
       "2               NaN  \n",
       "3         42.392761  \n",
       "4         42.423618  \n",
       "..              ...  \n",
       "768       42.348272  \n",
       "769       42.442397  \n",
       "770       42.416427  \n",
       "771       42.372974  \n",
       "772       42.421687  \n",
       "\n",
       "[773 rows x 14 columns]"
      ]
     },
     "execution_count": 55,
     "metadata": {},
     "output_type": "execute_result"
    }
   ],
   "source": [
    "t.drop_duplicates(subset=['oid'],keep='first')"
   ]
  },
  {
   "cell_type": "code",
   "execution_count": 52,
   "id": "223c557e",
   "metadata": {
    "ExecuteTime": {
     "end_time": "2022-02-10T23:27:06.249064Z",
     "start_time": "2022-02-10T23:27:05.949897Z"
    }
   },
   "outputs": [
    {
     "data": {
      "text/plain": [
       "<AxesSubplot:>"
      ]
     },
     "execution_count": 52,
     "metadata": {},
     "output_type": "execute_result"
    },
    {
     "data": {
      "image/png": "[encoded data removed]",
      "text/plain": [
       "<Figure size 432x288 with 1 Axes>"
      ]
     },
     "metadata": {
      "image/png": {
       "height": 278,
       "width": 197
      },
      "needs_background": "light"
     },
     "output_type": "display_data"
    }
   ],
   "source": [
    "fig, ax = plt.subplots(1,1)\n",
    "blocks.loc[[12604,15047],:].plot(ax=ax,column='block_id')\n",
    "call_feat.data.loc[lambda x: x.oid==3079341].plot(ax=ax)"
   ]
  },
  {
   "cell_type": "code",
   "execution_count": 47,
   "id": "4a73fec3",
   "metadata": {
    "ExecuteTime": {
     "end_time": "2022-02-10T23:24:37.426309Z",
     "start_time": "2022-02-10T23:24:37.337539Z"
    }
   },
   "outputs": [
    {
     "name": "stderr",
     "output_type": "stream",
     "text": [
      "/Users/ahakso/.virtualenvs/detroit/lib/python3.8/site-packages/geopandas/base.py:31: UserWarning: The indices of the two GeoSeries are different.\n",
      "  warn(\"The indices of the two GeoSeries are different.\")\n"
     ]
    },
    {
     "data": {
      "text/plain": [
       "12604    False\n",
       "15047    False\n",
       "dtype: bool"
      ]
     },
     "execution_count": 47,
     "metadata": {},
     "output_type": "execute_result"
    }
   ],
   "source": [
    "blocks.loc[[12604],:].overlaps(blocks.loc[[15047],:])"
   ]
  },
  {
   "cell_type": "code",
   "execution_count": 35,
   "id": "83e7a1ee",
   "metadata": {
    "ExecuteTime": {
     "end_time": "2022-02-10T23:22:19.465240Z",
     "start_time": "2022-02-10T23:22:19.405083Z"
    }
   },
   "outputs": [
    {
     "data": {
      "text/html": [
       "<div>\n",
       "<style scoped>\n",
       "    .dataframe tbody tr th:only-of-type {\n",
       "        vertical-align: middle;\n",
       "    }\n",
       "\n",
       "    .dataframe tbody tr th {\n",
       "        vertical-align: top;\n",
       "    }\n",
       "\n",
       "    .dataframe thead th {\n",
       "        text-align: right;\n",
       "    }\n",
       "</style>\n",
       "<table border=\"1\" class=\"dataframe\">\n",
       "  <thead>\n",
       "    <tr style=\"text-align: right;\">\n",
       "      <th></th>\n",
       "      <th>priority</th>\n",
       "      <th>calldescription</th>\n",
       "      <th>category</th>\n",
       "      <th>call_timestamp</th>\n",
       "      <th>officerinitiated</th>\n",
       "      <th>block_id</th>\n",
       "      <th>longitude</th>\n",
       "      <th>latitude</th>\n",
       "      <th>oid</th>\n",
       "      <th>geometry</th>\n",
       "    </tr>\n",
       "  </thead>\n",
       "  <tbody>\n",
       "    <tr>\n",
       "      <th>0</th>\n",
       "      <td>1</td>\n",
       "      <td>FELONIOUS ASSAULT IP</td>\n",
       "      <td>FA IP</td>\n",
       "      <td>2020-06-25 10:53:47-04:04</td>\n",
       "      <td>No</td>\n",
       "      <td>261635457002005</td>\n",
       "      <td>-83.219314</td>\n",
       "      <td>42.336093</td>\n",
       "      <td>3079341</td>\n",
       "      <td>POINT (-83.21931 42.33609)</td>\n",
       "    </tr>\n",
       "  </tbody>\n",
       "</table>\n",
       "</div>"
      ],
      "text/plain": [
       "  priority       calldescription  category            call_timestamp  \\\n",
       "0        1  FELONIOUS ASSAULT IP  FA IP    2020-06-25 10:53:47-04:04   \n",
       "\n",
       "  officerinitiated         block_id  longitude   latitude      oid  \\\n",
       "0               No  261635457002005 -83.219314  42.336093  3079341   \n",
       "\n",
       "                     geometry  \n",
       "0  POINT (-83.21931 42.33609)  "
      ]
     },
     "execution_count": 35,
     "metadata": {},
     "output_type": "execute_result"
    }
   ],
   "source": [
    "call_feat.data.loc[lambda x: x.oid==3079341]"
   ]
  },
  {
   "cell_type": "code",
   "execution_count": 24,
   "id": "5621591d",
   "metadata": {
    "ExecuteTime": {
     "end_time": "2022-02-10T23:19:05.848274Z",
     "start_time": "2022-02-10T23:19:05.698276Z"
    }
   },
   "outputs": [
    {
     "data": {
      "text/html": [
       "<div>\n",
       "<style scoped>\n",
       "    .dataframe tbody tr th:only-of-type {\n",
       "        vertical-align: middle;\n",
       "    }\n",
       "\n",
       "    .dataframe tbody tr th {\n",
       "        vertical-align: top;\n",
       "    }\n",
       "\n",
       "    .dataframe thead th {\n",
       "        text-align: right;\n",
       "    }\n",
       "</style>\n",
       "<table border=\"1\" class=\"dataframe\">\n",
       "  <thead>\n",
       "    <tr style=\"text-align: right;\">\n",
       "      <th></th>\n",
       "      <th>priority</th>\n",
       "      <th>calldescription</th>\n",
       "      <th>category</th>\n",
       "      <th>call_timestamp</th>\n",
       "      <th>officerinitiated</th>\n",
       "      <th>block_id</th>\n",
       "      <th>longitude</th>\n",
       "      <th>latitude</th>\n",
       "      <th>oid</th>\n",
       "      <th>geometry</th>\n",
       "    </tr>\n",
       "  </thead>\n",
       "  <tbody>\n",
       "    <tr>\n",
       "      <th>0</th>\n",
       "      <td>1</td>\n",
       "      <td>FELONIOUS ASSAULT IP</td>\n",
       "      <td>FA IP</td>\n",
       "      <td>2020-06-25 10:53:47-04:04</td>\n",
       "      <td>No</td>\n",
       "      <td>261635457002005</td>\n",
       "      <td>-83.219314</td>\n",
       "      <td>42.336093</td>\n",
       "      <td>3079341</td>\n",
       "      <td>POINT (-83.21931 42.33609)</td>\n",
       "    </tr>\n",
       "    <tr>\n",
       "      <th>1</th>\n",
       "      <td>2</td>\n",
       "      <td>ASSAULT AND BATTERY IP-JH</td>\n",
       "      <td>AB IP/JH</td>\n",
       "      <td>2020-06-25 10:56:22-04:04</td>\n",
       "      <td>No</td>\n",
       "      <td>261635361004010</td>\n",
       "      <td>-83.142711</td>\n",
       "      <td>42.409890</td>\n",
       "      <td>3079346</td>\n",
       "      <td>POINT (-83.14271 42.40989)</td>\n",
       "    </tr>\n",
       "    <tr>\n",
       "      <th>2</th>\n",
       "      <td>4</td>\n",
       "      <td>FELONIOUS ASSAULT REPORT</td>\n",
       "      <td>FA RPT</td>\n",
       "      <td>2020-06-25 10:56:58-04:04</td>\n",
       "      <td>Yes</td>\n",
       "      <td>NaN</td>\n",
       "      <td>-84.132207</td>\n",
       "      <td>42.082976</td>\n",
       "      <td>3079351</td>\n",
       "      <td>POINT (-84.13221 42.08298)</td>\n",
       "    </tr>\n",
       "    <tr>\n",
       "      <th>3</th>\n",
       "      <td>1</td>\n",
       "      <td>FELONIOUS ASSAULT IP</td>\n",
       "      <td>FA IP</td>\n",
       "      <td>2020-06-25 11:10:09-04:04</td>\n",
       "      <td>No</td>\n",
       "      <td>261635124002004</td>\n",
       "      <td>-82.956673</td>\n",
       "      <td>42.392132</td>\n",
       "      <td>3079387</td>\n",
       "      <td>POINT (-82.95667 42.39213)</td>\n",
       "    </tr>\n",
       "    <tr>\n",
       "      <th>4</th>\n",
       "      <td>1</td>\n",
       "      <td>SHOOTING/CUTTING/PENT WOUND</td>\n",
       "      <td>GSWCUT</td>\n",
       "      <td>2020-06-25 11:12:11-04:04</td>\n",
       "      <td>No</td>\n",
       "      <td>261635384003001</td>\n",
       "      <td>-83.133122</td>\n",
       "      <td>42.422717</td>\n",
       "      <td>3079399</td>\n",
       "      <td>POINT (-83.13312 42.42272)</td>\n",
       "    </tr>\n",
       "    <tr>\n",
       "      <th>...</th>\n",
       "      <td>...</td>\n",
       "      <td>...</td>\n",
       "      <td>...</td>\n",
       "      <td>...</td>\n",
       "      <td>...</td>\n",
       "      <td>...</td>\n",
       "      <td>...</td>\n",
       "      <td>...</td>\n",
       "      <td>...</td>\n",
       "      <td>...</td>\n",
       "    </tr>\n",
       "    <tr>\n",
       "      <th>768</th>\n",
       "      <td>1</td>\n",
       "      <td>FELONIOUS ASSAULT IP</td>\n",
       "      <td>FA IP</td>\n",
       "      <td>2020-06-28 23:43:23-04:04</td>\n",
       "      <td>No</td>\n",
       "      <td>261635219002012</td>\n",
       "      <td>-83.076429</td>\n",
       "      <td>42.348090</td>\n",
       "      <td>3089246</td>\n",
       "      <td>POINT (-83.07643 42.34809)</td>\n",
       "    </tr>\n",
       "    <tr>\n",
       "      <th>769</th>\n",
       "      <td>2</td>\n",
       "      <td>FELONIOUS ASSAULT JH</td>\n",
       "      <td>FA JH</td>\n",
       "      <td>2020-06-28 23:50:34-04:04</td>\n",
       "      <td>No</td>\n",
       "      <td>261635080002004</td>\n",
       "      <td>-83.122495</td>\n",
       "      <td>42.443234</td>\n",
       "      <td>3089262</td>\n",
       "      <td>POINT (-83.12249 42.44323)</td>\n",
       "    </tr>\n",
       "    <tr>\n",
       "      <th>770</th>\n",
       "      <td>2</td>\n",
       "      <td>ASSAULT AND BATTERY IP-JH</td>\n",
       "      <td>AB IP/JH</td>\n",
       "      <td>2020-06-28 23:51:59-04:04</td>\n",
       "      <td>No</td>\n",
       "      <td>261635014004002</td>\n",
       "      <td>-82.936642</td>\n",
       "      <td>42.416444</td>\n",
       "      <td>3089264</td>\n",
       "      <td>POINT (-82.93664 42.41644)</td>\n",
       "    </tr>\n",
       "    <tr>\n",
       "      <th>771</th>\n",
       "      <td>1</td>\n",
       "      <td>FELONIOUS ASSAULT IP</td>\n",
       "      <td>FA IP</td>\n",
       "      <td>2020-06-28 23:57:57-04:04</td>\n",
       "      <td>No</td>\n",
       "      <td>261635465001000</td>\n",
       "      <td>-83.236262</td>\n",
       "      <td>42.371899</td>\n",
       "      <td>3089274</td>\n",
       "      <td>POINT (-83.23626 42.37190)</td>\n",
       "    </tr>\n",
       "    <tr>\n",
       "      <th>772</th>\n",
       "      <td>1</td>\n",
       "      <td>SHOTS FIRED IP</td>\n",
       "      <td>SHOTS IP</td>\n",
       "      <td>2020-06-28 23:59:02-04:04</td>\n",
       "      <td>No</td>\n",
       "      <td>261635073003007</td>\n",
       "      <td>-83.089820</td>\n",
       "      <td>42.423589</td>\n",
       "      <td>3089275</td>\n",
       "      <td>POINT (-83.08982 42.42359)</td>\n",
       "    </tr>\n",
       "  </tbody>\n",
       "</table>\n",
       "<p>773 rows × 10 columns</p>\n",
       "</div>"
      ],
      "text/plain": [
       "    priority              calldescription  category            call_timestamp  \\\n",
       "0          1         FELONIOUS ASSAULT IP  FA IP    2020-06-25 10:53:47-04:04   \n",
       "1          2    ASSAULT AND BATTERY IP-JH  AB IP/JH 2020-06-25 10:56:22-04:04   \n",
       "2          4     FELONIOUS ASSAULT REPORT  FA RPT   2020-06-25 10:56:58-04:04   \n",
       "3          1         FELONIOUS ASSAULT IP  FA IP    2020-06-25 11:10:09-04:04   \n",
       "4          1  SHOOTING/CUTTING/PENT WOUND  GSWCUT   2020-06-25 11:12:11-04:04   \n",
       "..       ...                          ...       ...                       ...   \n",
       "768        1         FELONIOUS ASSAULT IP  FA IP    2020-06-28 23:43:23-04:04   \n",
       "769        2         FELONIOUS ASSAULT JH  FA JH    2020-06-28 23:50:34-04:04   \n",
       "770        2    ASSAULT AND BATTERY IP-JH  AB IP/JH 2020-06-28 23:51:59-04:04   \n",
       "771        1         FELONIOUS ASSAULT IP  FA IP    2020-06-28 23:57:57-04:04   \n",
       "772        1               SHOTS FIRED IP  SHOTS IP 2020-06-28 23:59:02-04:04   \n",
       "\n",
       "    officerinitiated         block_id  longitude   latitude      oid  \\\n",
       "0                 No  261635457002005 -83.219314  42.336093  3079341   \n",
       "1                 No  261635361004010 -83.142711  42.409890  3079346   \n",
       "2                Yes              NaN -84.132207  42.082976  3079351   \n",
       "3                 No  261635124002004 -82.956673  42.392132  3079387   \n",
       "4                 No  261635384003001 -83.133122  42.422717  3079399   \n",
       "..               ...              ...        ...        ...      ...   \n",
       "768               No  261635219002012 -83.076429  42.348090  3089246   \n",
       "769               No  261635080002004 -83.122495  42.443234  3089262   \n",
       "770               No  261635014004002 -82.936642  42.416444  3089264   \n",
       "771               No  261635465001000 -83.236262  42.371899  3089274   \n",
       "772               No  261635073003007 -83.089820  42.423589  3089275   \n",
       "\n",
       "                       geometry  \n",
       "0    POINT (-83.21931 42.33609)  \n",
       "1    POINT (-83.14271 42.40989)  \n",
       "2    POINT (-84.13221 42.08298)  \n",
       "3    POINT (-82.95667 42.39213)  \n",
       "4    POINT (-83.13312 42.42272)  \n",
       "..                          ...  \n",
       "768  POINT (-83.07643 42.34809)  \n",
       "769  POINT (-83.12249 42.44323)  \n",
       "770  POINT (-82.93664 42.41644)  \n",
       "771  POINT (-83.23626 42.37190)  \n",
       "772  POINT (-83.08982 42.42359)  \n",
       "\n",
       "[773 rows x 10 columns]"
      ]
     },
     "execution_count": 24,
     "metadata": {},
     "output_type": "execute_result"
    }
   ],
   "source": [
    "point_to_block_id(call_feat.data,2010,"
   ]
  },
  {
   "cell_type": "code",
   "execution_count": 16,
   "id": "634020f7",
   "metadata": {
    "ExecuteTime": {
     "end_time": "2022-02-10T23:13:40.627185Z",
     "start_time": "2022-02-10T23:13:40.603688Z"
    }
   },
   "outputs": [],
   "source": [
    "df = pd.DataFrame(np.random.rand(10,10))\n",
    "df.assign("
   ]
  },
  {
   "cell_type": "code",
   "execution_count": 8,
   "id": "57c49ec0",
   "metadata": {
    "ExecuteTime": {
     "end_time": "2022-02-10T23:03:37.260731Z",
     "start_time": "2022-02-10T23:03:37.237284Z"
    }
   },
   "outputs": [
    {
     "data": {
      "text/plain": [
       "Violence calls feature\n",
       "\n",
       "Function metadata:\n",
       "{'box_url': 'https://bloombergdotorg.box.com/s/pci8u0mqij9kusq1ce9wq2lzjtznap58',\n",
       " 'feature_name': 'violence_calls',\n",
       " 'filename': 'calls_for_service_from_jimmy.csv',\n",
       " 'min_geo_grain': 'lat/long',\n",
       " 'source_url': 'https://data.detroitmi.gov/datasets/911-calls-for-service/explore'}\n",
       "\n",
       "Using 2010 as reference geo\n",
       "\n",
       "773 rows\n",
       "\n",
       "No data cleaned\n",
       "\n",
       "No index generated"
      ]
     },
     "execution_count": 8,
     "metadata": {},
     "output_type": "execute_result"
    }
   ],
   "source": [
    "call_feat"
   ]
  },
  {
   "cell_type": "code",
   "execution_count": 10,
   "id": "0939ad0c",
   "metadata": {
    "ExecuteTime": {
     "end_time": "2022-02-10T22:57:16.138835Z",
     "start_time": "2022-02-10T22:57:15.356444Z"
    }
   },
   "outputs": [
    {
     "name": "stdout",
     "output_type": "stream",
     "text": [
      "Data not yet cleansed, cleaning\n",
      "clean data has 769 rows\n",
      "cleansed data validator: block_id looks good\n",
      "Generate index not run, or was run on the wrong grain. Creating index on tract grain\n"
     ]
    },
    {
     "data": {
      "text/plain": [
       "geo\n",
       "26163500100     5\n",
       "26163500200     3\n",
       "26163500300     9\n",
       "26163500600    10\n",
       "26163500700     8\n",
       "               ..\n",
       "26163573800     2\n",
       "26163985000     2\n",
       "26163985100     3\n",
       "26163985200     2\n",
       "26163985300     3\n",
       "Name: violence_calls, Length: 252, dtype: int64"
      ]
     },
     "execution_count": 10,
     "metadata": {},
     "output_type": "execute_result"
    }
   ],
   "source": [
    "# without reloading or recleaning the data, you can regenerate a new feature vector on a different grain\n",
    "call_feat.construct_feature(target_geo_grain='tract')"
   ]
  },
  {
   "cell_type": "code",
   "execution_count": null,
   "id": "e4372565",
   "metadata": {
    "ExecuteTime": {
     "end_time": "2022-02-10T22:57:11.883927Z",
     "start_time": "2022-02-10T22:57:11.883914Z"
    }
   },
   "outputs": [],
   "source": [
    "call_feat.open_data_url('source')"
   ]
  },
  {
   "cell_type": "code",
   "execution_count": null,
   "id": "e6e6a5fc",
   "metadata": {},
   "outputs": [],
   "source": []
  }
 ],
 "metadata": {
  "kernelspec": {
   "display_name": "detroit",
   "language": "python",
   "name": "detroit"
  },
  "language_info": {
   "codemirror_mode": {
    "name": "ipython",
    "version": 3
   },
   "file_extension": ".py",
   "mimetype": "text/x-python",
   "name": "python",
   "nbconvert_exporter": "python",
   "pygments_lexer": "ipython3",
   "version": "3.8.2"
  },
  "toc": {
   "base_numbering": 1,
   "nav_menu": {},
   "number_sections": true,
   "sideBar": true,
   "skip_h1_title": false,
   "title_cell": "Table of Contents",
   "title_sidebar": "Contents",
   "toc_cell": false,
   "toc_position": {},
   "toc_section_display": true,
   "toc_window_display": false
  },
  "varInspector": {
   "cols": {
    "lenName": 16,
    "lenType": 16,
    "lenVar": 40
   },
   "kernels_config": {
    "python": {
     "delete_cmd_postfix": "",
     "delete_cmd_prefix": "del ",
     "library": "var_list.py",
     "varRefreshCmd": "print(var_dic_list())"
    },
    "r": {
     "delete_cmd_postfix": ") ",
     "delete_cmd_prefix": "rm(",
     "library": "var_list.r",
     "varRefreshCmd": "cat(var_dic_list()) "
    }
   },
   "types_to_exclude": [
    "module",
    "function",
    "builtin_function_or_method",
    "instance",
    "_Feature"
   ],
   "window_display": false
  }
 },
 "nbformat": 4,
 "nbformat_minor": 5
}
