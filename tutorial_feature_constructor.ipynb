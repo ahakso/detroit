{
 "cells": [
  {
   "cell_type": "code",
   "execution_count": null,
   "id": "11b42d6a",
   "metadata": {
    "ExecuteTime": {
     "end_time": "2022-02-21T20:50:58.702416Z",
     "start_time": "2022-02-21T20:50:58.698249Z"
    }
   },
   "outputs": [],
   "source": [
    "from features.feature_constructor import Feature, GEO_GRAIN_LEN_MAP\n",
    "from features.violence_calls import ViolenceCalls\n",
    "from features.population import Population\n",
    "from detroit_geos import get_detroit_census_geos, get_detroit_boundaries\n",
    "import geopandas as gpd"
   ]
  },
  {
   "cell_type": "code",
   "execution_count": null,
   "id": "08b25650",
   "metadata": {
    "ExecuteTime": {
     "end_time": "2022-02-21T20:50:59.491231Z",
     "start_time": "2022-02-21T20:50:59.254324Z"
    }
   },
   "outputs": [],
   "source": [
    "import numpy as np\n",
    "import matplotlib.pyplot as plt"
   ]
  },
  {
   "cell_type": "markdown",
   "id": "9d854803",
   "metadata": {
    "ExecuteTime": {
     "end_time": "2022-02-10T19:04:26.134360Z",
     "start_time": "2022-02-10T19:04:26.110520Z"
    }
   },
   "source": [
    "# Framework\n",
    "`help(Feature)` gives a reasonable docstring, but may be easier to just look at the code, which contains descriptions of every method\n",
    "\n",
    "We'll concentrate on using a child class - population"
   ]
  },
  {
   "cell_type": "markdown",
   "id": "953002b4",
   "metadata": {},
   "source": [
    "## Population example"
   ]
  },
  {
   "cell_type": "code",
   "execution_count": null,
   "id": "187a41a9",
   "metadata": {
    "ExecuteTime": {
     "end_time": "2022-02-21T20:32:22.872711Z",
     "start_time": "2022-02-21T20:32:22.870992Z"
    }
   },
   "outputs": [],
   "source": [
    "# The Population class contains reference information for the data set\n",
    "# Instantiating the object does not load the data by default"
   ]
  },
  {
   "cell_type": "code",
   "execution_count": null,
   "id": "0a54aa22",
   "metadata": {
    "ExecuteTime": {
     "end_time": "2022-02-21T20:32:22.877890Z",
     "start_time": "2022-02-21T20:32:22.875295Z"
    }
   },
   "outputs": [],
   "source": [
    "population = Population(decennial_census_year=2010)"
   ]
  },
  {
   "cell_type": "code",
   "execution_count": null,
   "id": "2b48236c",
   "metadata": {
    "ExecuteTime": {
     "end_time": "2022-02-21T20:32:24.182106Z",
     "start_time": "2022-02-21T20:32:22.880005Z"
    }
   },
   "outputs": [],
   "source": [
    "# loading the data is not a raw load, it contains transforms that we well always want, like column selection and renaming\n",
    "population.load_data()\n",
    "population.data.head()\n",
    "\n",
    "# This decorated method standardizes block ids and does validation, in addition to any additional cleaning you may want to do\n",
    "population.cleanse_data()"
   ]
  },
  {
   "cell_type": "code",
   "execution_count": null,
   "id": "d7804c12",
   "metadata": {
    "ExecuteTime": {
     "end_time": "2022-02-21T20:32:25.373555Z",
     "start_time": "2022-02-21T20:32:24.184146Z"
    }
   },
   "outputs": [],
   "source": [
    "# this decorated method will automatically run the above steps and load data + set the index as necessary if it hasn't be done yet\n",
    "# It defaults to full data load, so if the data set is large, you may want to load the data with custom arguments instead of doing \n",
    "# it automatically\n",
    "\n",
    "# Outputs a series, which is the goal of this class\n",
    "block_group_population = population.construct_feature(target_geo_grain='block group')\n",
    "block_group_population "
   ]
  },
  {
   "cell_type": "code",
   "execution_count": null,
   "id": "0c9b1f54",
   "metadata": {
    "ExecuteTime": {
     "end_time": "2022-02-21T20:33:48.799144Z",
     "start_time": "2022-02-21T20:33:48.779487Z"
    },
    "scrolled": true
   },
   "outputs": [],
   "source": [
    "block_group_population.hist(bins=np.arange(0,3000,100))\n",
    "_ = plt.gca().set(title='looks like a hurdle binomial distribution',xlabel='population',ylabel='n block groups')"
   ]
  },
  {
   "cell_type": "markdown",
   "id": "5759c1a8",
   "metadata": {},
   "source": [
    "## Violent calls example\n",
    "spoiler: it works the same, but with some extra args"
   ]
  },
  {
   "cell_type": "code",
   "execution_count": null,
   "id": "bb36990e",
   "metadata": {
    "ExecuteTime": {
     "end_time": "2022-02-21T20:40:50.812845Z",
     "start_time": "2022-02-21T20:40:50.808746Z"
    }
   },
   "outputs": [],
   "source": [
    "from features.feature_constructor import Feature\n",
    "from features.violence_calls import ViolenceCalls\n",
    "from features.population import Population\n",
    "from detroit_geos import get_detroit_census_geos"
   ]
  },
  {
   "cell_type": "code",
   "execution_count": null,
   "id": "5675a82b",
   "metadata": {
    "ExecuteTime": {
     "end_time": "2022-02-21T20:40:52.995273Z",
     "start_time": "2022-02-21T20:40:52.818601Z"
    }
   },
   "outputs": [],
   "source": [
    "call_feat = ViolenceCalls(decennial_census_year=2010)\n",
    "call_feat.load_data(use_lat_long=False,sample_rows=10000)\n",
    "# # call_feat.cleanse_data()\n",
    "# call_feat.construct_feature(target_geo_grain='block')"
   ]
  },
  {
   "cell_type": "code",
   "execution_count": null,
   "id": "3653659f",
   "metadata": {
    "ExecuteTime": {
     "end_time": "2022-02-21T20:33:58.929417Z",
     "start_time": "2022-02-21T20:33:58.903817Z"
    }
   },
   "outputs": [],
   "source": [
    "call_feat.data.head()"
   ]
  },
  {
   "cell_type": "code",
   "execution_count": null,
   "id": "0939ad0c",
   "metadata": {
    "ExecuteTime": {
     "end_time": "2022-02-21T20:34:00.494119Z",
     "start_time": "2022-02-21T20:33:59.218994Z"
    }
   },
   "outputs": [],
   "source": [
    "# without reloading or recleaning the data, you can regenerate a new feature vector on a different grain\n",
    "ftr = call_feat.construct_feature(target_geo_grain='tract')\n",
    "\n",
    "ftr"
   ]
  },
  {
   "cell_type": "code",
   "execution_count": null,
   "id": "e4372565",
   "metadata": {
    "ExecuteTime": {
     "end_time": "2022-02-21T20:34:00.640792Z",
     "start_time": "2022-02-21T20:34:00.496455Z"
    }
   },
   "outputs": [],
   "source": [
    "call_feat.open_data_url('source')"
   ]
  },
  {
   "cell_type": "markdown",
   "id": "6458ad29",
   "metadata": {},
   "source": [
    "# Rental Statuses"
   ]
  },
  {
   "cell_type": "code",
   "execution_count": null,
   "id": "ef7dac5a",
   "metadata": {
    "ExecuteTime": {
     "end_time": "2022-02-21T20:34:00.654964Z",
     "start_time": "2022-02-21T20:34:00.648263Z"
    }
   },
   "outputs": [],
   "source": [
    "from detroit_geos import get_detroit_census_geos\n",
    "from util_detroit import point_to_geo_id\n",
    "import geopandas as gpd\n",
    "from features.out_of_state_rental_ownership import OutOfStateRentalOwnership"
   ]
  },
  {
   "cell_type": "code",
   "execution_count": null,
   "id": "812d211f",
   "metadata": {
    "ExecuteTime": {
     "end_time": "2022-02-21T20:34:00.684232Z",
     "start_time": "2022-02-21T20:34:00.657221Z"
    }
   },
   "outputs": [],
   "source": [
    "r = OutOfStateRentalOwnership(decennial_census_year=2010)\n",
    "f = r.construct_feature(target_geo_grain='tract')"
   ]
  },
  {
   "cell_type": "markdown",
   "id": "d2f68d33",
   "metadata": {},
   "source": [
    "# Income"
   ]
  },
  {
   "cell_type": "code",
   "execution_count": null,
   "id": "cec27eea",
   "metadata": {
    "ExecuteTime": {
     "end_time": "2022-02-21T20:34:16.504052Z",
     "start_time": "2022-02-21T20:34:16.500169Z"
    }
   },
   "outputs": [],
   "source": [
    "from features.feature_constructor import Feature\n",
    "from features.income import Income\n",
    "from detroit_geos import get_detroit_census_geos\n",
    "from features.feature_constructor import GEO_GRAIN_LEN_MAP"
   ]
  },
  {
   "cell_type": "code",
   "execution_count": null,
   "id": "1659d996",
   "metadata": {
    "ExecuteTime": {
     "end_time": "2022-02-21T20:34:16.828230Z",
     "start_time": "2022-02-21T20:34:16.813928Z"
    }
   },
   "outputs": [],
   "source": [
    "ftr = Income()\n",
    "ftr.load_data()\n",
    "ftr.cleanse_data()"
   ]
  },
  {
   "cell_type": "code",
   "execution_count": null,
   "id": "aeaf5bb2",
   "metadata": {
    "ExecuteTime": {
     "end_time": "2022-02-21T20:34:17.235687Z",
     "start_time": "2022-02-21T20:34:17.218805Z"
    }
   },
   "outputs": [],
   "source": [
    "f = ftr.construct_feature('block')"
   ]
  },
  {
   "cell_type": "code",
   "execution_count": null,
   "id": "c0183267",
   "metadata": {
    "ExecuteTime": {
     "end_time": "2022-02-21T20:34:17.780305Z",
     "start_time": "2022-02-21T20:34:17.773905Z"
    }
   },
   "outputs": [],
   "source": [
    "df.plot('per_capita_income',legend=True)"
   ]
  },
  {
   "cell_type": "markdown",
   "id": "7d27ad2b",
   "metadata": {},
   "source": [
    "# Bus Stops"
   ]
  },
  {
   "cell_type": "code",
   "execution_count": 1,
   "id": "209f37a1",
   "metadata": {
    "ExecuteTime": {
     "end_time": "2022-02-21T22:07:36.391684Z",
     "start_time": "2022-02-21T22:07:35.871721Z"
    }
   },
   "outputs": [
    {
     "name": "stderr",
     "output_type": "stream",
     "text": [
      "/Users/ktseng37/git_dev/datatoolkit/toolkit/lib/python3.7/site-packages/geopandas/_compat.py:115: UserWarning: The Shapely GEOS version (3.8.0-CAPI-1.13.1 ) is incompatible with the GEOS version PyGEOS was compiled with (3.10.1-CAPI-1.16.0). Conversions between both will be slow.\n",
      "  shapely_geos_version, geos_capi_version_string\n"
     ]
    }
   ],
   "source": [
    "from features.smart_bus_stops import smartbusstops\n",
    "from features.ddot_bus_stops import ddotbusstops\n",
    "from detroit_geos import get_detroit_census_geos\n",
    "from features.feature_constructor import GEO_GRAIN_LEN_MAP"
   ]
  },
  {
   "cell_type": "code",
   "execution_count": 2,
   "id": "b51ecb6e",
   "metadata": {
    "ExecuteTime": {
     "end_time": "2022-02-21T22:07:36.395877Z",
     "start_time": "2022-02-21T22:07:36.393656Z"
    }
   },
   "outputs": [],
   "source": [
    "smart = smartbusstops()\n",
    "ddot = ddotbusstops()"
   ]
  },
  {
   "cell_type": "code",
   "execution_count": 3,
   "id": "b192ac60",
   "metadata": {
    "ExecuteTime": {
     "end_time": "2022-02-21T22:07:36.476167Z",
     "start_time": "2022-02-21T22:07:36.398690Z"
    }
   },
   "outputs": [
    {
     "name": "stdout",
     "output_type": "stream",
     "text": [
      "Loaded 5,372 rows of data\n",
      "Loaded 5,546 rows of data\n"
     ]
    }
   ],
   "source": [
    "smart.load_data()\n",
    "ddot.load_data()\n",
    "smart.cleanse_data()\n",
    "ddot.cleanse_data()"
   ]
  },
  {
   "cell_type": "code",
   "execution_count": 4,
   "id": "21d64c06",
   "metadata": {
    "ExecuteTime": {
     "end_time": "2022-02-21T22:09:06.722482Z",
     "start_time": "2022-02-21T22:09:06.500953Z"
    }
   },
   "outputs": [
    {
     "name": "stdout",
     "output_type": "stream",
     "text": [
      "Data not yet cleansed, cleaning\n"
     ]
    },
    {
     "ename": "KeyError",
     "evalue": "['block_id']",
     "output_type": "error",
     "traceback": [
      "\u001b[0;31m---------------------------------------------------------------------------\u001b[0m",
      "\u001b[0;31mKeyError\u001b[0m                                  Traceback (most recent call last)",
      "\u001b[0;32m<ipython-input-4-e35c6bdb7e26>\u001b[0m in \u001b[0;36m<module>\u001b[0;34m\u001b[0m\n\u001b[0;32m----> 1\u001b[0;31m \u001b[0msmart_block\u001b[0m \u001b[0;34m=\u001b[0m \u001b[0msmart\u001b[0m\u001b[0;34m.\u001b[0m\u001b[0mconstruct_feature\u001b[0m\u001b[0;34m(\u001b[0m\u001b[0;34m'block'\u001b[0m\u001b[0;34m)\u001b[0m\u001b[0;34m\u001b[0m\u001b[0;34m\u001b[0m\u001b[0m\n\u001b[0m\u001b[1;32m      2\u001b[0m \u001b[0mddot_block\u001b[0m \u001b[0;34m=\u001b[0m \u001b[0mddot\u001b[0m\u001b[0;34m.\u001b[0m\u001b[0mconstruct_feature\u001b[0m\u001b[0;34m(\u001b[0m\u001b[0;34m'block'\u001b[0m\u001b[0;34m)\u001b[0m\u001b[0;34m\u001b[0m\u001b[0;34m\u001b[0m\u001b[0m\n",
      "\u001b[0;32m~/git_dev/detroit/features/feature_constructor.py\u001b[0m in \u001b[0;36mload_data\u001b[0;34m(self, target_geo_grain)\u001b[0m\n\u001b[1;32m     32\u001b[0m             \u001b[0;32mif\u001b[0m \u001b[0mself\u001b[0m\u001b[0;34m.\u001b[0m\u001b[0mverbose\u001b[0m\u001b[0;34m:\u001b[0m\u001b[0;34m\u001b[0m\u001b[0;34m\u001b[0m\u001b[0m\n\u001b[1;32m     33\u001b[0m                 \u001b[0mprint\u001b[0m\u001b[0;34m(\u001b[0m\u001b[0;34m\"Data not yet cleansed, cleaning\"\u001b[0m\u001b[0;34m)\u001b[0m\u001b[0;34m\u001b[0m\u001b[0;34m\u001b[0m\u001b[0m\n\u001b[0;32m---> 34\u001b[0;31m             \u001b[0mself\u001b[0m\u001b[0;34m.\u001b[0m\u001b[0mcleanse_data\u001b[0m\u001b[0;34m(\u001b[0m\u001b[0;34m)\u001b[0m\u001b[0;34m\u001b[0m\u001b[0;34m\u001b[0m\u001b[0m\n\u001b[0m\u001b[1;32m     35\u001b[0m \u001b[0;34m\u001b[0m\u001b[0m\n\u001b[1;32m     36\u001b[0m         \u001b[0;32mif\u001b[0m \u001b[0;34m(\u001b[0m\u001b[0mself\u001b[0m\u001b[0;34m.\u001b[0m\u001b[0mindex\u001b[0m \u001b[0;32mis\u001b[0m \u001b[0;32mNone\u001b[0m\u001b[0;34m)\u001b[0m \u001b[0;32mor\u001b[0m \u001b[0;34m(\u001b[0m\u001b[0mself\u001b[0m\u001b[0;34m.\u001b[0m\u001b[0mindex\u001b[0m\u001b[0;34m.\u001b[0m\u001b[0mname\u001b[0m \u001b[0;34m!=\u001b[0m \u001b[0mtarget_geo_grain\u001b[0m\u001b[0;34m)\u001b[0m\u001b[0;34m:\u001b[0m\u001b[0;34m\u001b[0m\u001b[0;34m\u001b[0m\u001b[0m\n",
      "\u001b[0;32m~/git_dev/detroit/features/feature_constructor.py\u001b[0m in \u001b[0;36mstandardize_and_validate\u001b[0;34m(self, *args, **kwargs)\u001b[0m\n\u001b[1;32m     12\u001b[0m \u001b[0;32mdef\u001b[0m \u001b[0mcleanse_decorator\u001b[0m\u001b[0;34m(\u001b[0m\u001b[0mfunc\u001b[0m\u001b[0;34m)\u001b[0m\u001b[0;34m:\u001b[0m\u001b[0;34m\u001b[0m\u001b[0;34m\u001b[0m\u001b[0m\n\u001b[1;32m     13\u001b[0m     \u001b[0;32mdef\u001b[0m \u001b[0mstandardize_and_validate\u001b[0m\u001b[0;34m(\u001b[0m\u001b[0mself\u001b[0m\u001b[0;34m,\u001b[0m \u001b[0;34m*\u001b[0m\u001b[0margs\u001b[0m\u001b[0;34m,\u001b[0m \u001b[0;34m**\u001b[0m\u001b[0mkwargs\u001b[0m\u001b[0;34m)\u001b[0m\u001b[0;34m:\u001b[0m\u001b[0;34m\u001b[0m\u001b[0;34m\u001b[0m\u001b[0m\n\u001b[0;32m---> 14\u001b[0;31m         \u001b[0mself\u001b[0m\u001b[0;34m.\u001b[0m\u001b[0mclean_data\u001b[0m \u001b[0;34m=\u001b[0m \u001b[0mfunc\u001b[0m\u001b[0;34m(\u001b[0m\u001b[0mself\u001b[0m\u001b[0;34m)\u001b[0m\u001b[0;34m\u001b[0m\u001b[0;34m\u001b[0m\u001b[0m\n\u001b[0m\u001b[1;32m     15\u001b[0m         \u001b[0;32mif\u001b[0m \u001b[0mself\u001b[0m\u001b[0;34m.\u001b[0m\u001b[0mverbose\u001b[0m\u001b[0;34m:\u001b[0m\u001b[0;34m\u001b[0m\u001b[0;34m\u001b[0m\u001b[0m\n\u001b[1;32m     16\u001b[0m             \u001b[0mprint\u001b[0m\u001b[0;34m(\u001b[0m\u001b[0;34mf\"clean data has {self.clean_data.shape[0]} rows\"\u001b[0m\u001b[0;34m)\u001b[0m\u001b[0;34m\u001b[0m\u001b[0;34m\u001b[0m\u001b[0m\n",
      "\u001b[0;32m~/git_dev/detroit/features/smart_bus_stops.py\u001b[0m in \u001b[0;36mcleanse_data\u001b[0;34m(self)\u001b[0m\n\u001b[1;32m     80\u001b[0m     \u001b[0;34m@\u001b[0m\u001b[0mcleanse_decorator\u001b[0m\u001b[0;34m\u001b[0m\u001b[0;34m\u001b[0m\u001b[0m\n\u001b[1;32m     81\u001b[0m     \u001b[0;32mdef\u001b[0m \u001b[0mcleanse_data\u001b[0m\u001b[0;34m(\u001b[0m\u001b[0mself\u001b[0m\u001b[0;34m)\u001b[0m \u001b[0;34m->\u001b[0m \u001b[0;32mNone\u001b[0m\u001b[0;34m:\u001b[0m\u001b[0;34m\u001b[0m\u001b[0;34m\u001b[0m\u001b[0m\n\u001b[0;32m---> 82\u001b[0;31m         \u001b[0mself\u001b[0m\u001b[0;34m.\u001b[0m\u001b[0mclean_data\u001b[0m \u001b[0;34m=\u001b[0m \u001b[0mself\u001b[0m\u001b[0;34m.\u001b[0m\u001b[0mdata\u001b[0m\u001b[0;34m.\u001b[0m\u001b[0mcopy\u001b[0m\u001b[0;34m(\u001b[0m\u001b[0;34m)\u001b[0m\u001b[0;34m.\u001b[0m\u001b[0mdropna\u001b[0m\u001b[0;34m(\u001b[0m\u001b[0msubset\u001b[0m\u001b[0;34m=\u001b[0m\u001b[0;34m[\u001b[0m\u001b[0;34m\"block_id\"\u001b[0m\u001b[0;34m]\u001b[0m\u001b[0;34m)\u001b[0m\u001b[0;34m\u001b[0m\u001b[0;34m\u001b[0m\u001b[0m\n\u001b[0m\u001b[1;32m     83\u001b[0m         \u001b[0;32mreturn\u001b[0m \u001b[0mself\u001b[0m\u001b[0;34m.\u001b[0m\u001b[0mclean_data\u001b[0m\u001b[0;34m\u001b[0m\u001b[0;34m\u001b[0m\u001b[0m\n\u001b[1;32m     84\u001b[0m \u001b[0;34m\u001b[0m\u001b[0m\n",
      "\u001b[0;32m~/git_dev/datatoolkit/toolkit/lib/python3.7/site-packages/pandas/util/_decorators.py\u001b[0m in \u001b[0;36mwrapper\u001b[0;34m(*args, **kwargs)\u001b[0m\n\u001b[1;32m    309\u001b[0m                     \u001b[0mstacklevel\u001b[0m\u001b[0;34m=\u001b[0m\u001b[0mstacklevel\u001b[0m\u001b[0;34m,\u001b[0m\u001b[0;34m\u001b[0m\u001b[0;34m\u001b[0m\u001b[0m\n\u001b[1;32m    310\u001b[0m                 )\n\u001b[0;32m--> 311\u001b[0;31m             \u001b[0;32mreturn\u001b[0m \u001b[0mfunc\u001b[0m\u001b[0;34m(\u001b[0m\u001b[0;34m*\u001b[0m\u001b[0margs\u001b[0m\u001b[0;34m,\u001b[0m \u001b[0;34m**\u001b[0m\u001b[0mkwargs\u001b[0m\u001b[0;34m)\u001b[0m\u001b[0;34m\u001b[0m\u001b[0;34m\u001b[0m\u001b[0m\n\u001b[0m\u001b[1;32m    312\u001b[0m \u001b[0;34m\u001b[0m\u001b[0m\n\u001b[1;32m    313\u001b[0m         \u001b[0;32mreturn\u001b[0m \u001b[0mwrapper\u001b[0m\u001b[0;34m\u001b[0m\u001b[0;34m\u001b[0m\u001b[0m\n",
      "\u001b[0;32m~/git_dev/datatoolkit/toolkit/lib/python3.7/site-packages/pandas/core/frame.py\u001b[0m in \u001b[0;36mdropna\u001b[0;34m(self, axis, how, thresh, subset, inplace)\u001b[0m\n\u001b[1;32m   5946\u001b[0m             \u001b[0mcheck\u001b[0m \u001b[0;34m=\u001b[0m \u001b[0mindices\u001b[0m \u001b[0;34m==\u001b[0m \u001b[0;34m-\u001b[0m\u001b[0;36m1\u001b[0m\u001b[0;34m\u001b[0m\u001b[0;34m\u001b[0m\u001b[0m\n\u001b[1;32m   5947\u001b[0m             \u001b[0;32mif\u001b[0m \u001b[0mcheck\u001b[0m\u001b[0;34m.\u001b[0m\u001b[0many\u001b[0m\u001b[0;34m(\u001b[0m\u001b[0;34m)\u001b[0m\u001b[0;34m:\u001b[0m\u001b[0;34m\u001b[0m\u001b[0;34m\u001b[0m\u001b[0m\n\u001b[0;32m-> 5948\u001b[0;31m                 \u001b[0;32mraise\u001b[0m \u001b[0mKeyError\u001b[0m\u001b[0;34m(\u001b[0m\u001b[0mlist\u001b[0m\u001b[0;34m(\u001b[0m\u001b[0mnp\u001b[0m\u001b[0;34m.\u001b[0m\u001b[0mcompress\u001b[0m\u001b[0;34m(\u001b[0m\u001b[0mcheck\u001b[0m\u001b[0;34m,\u001b[0m \u001b[0msubset\u001b[0m\u001b[0;34m)\u001b[0m\u001b[0;34m)\u001b[0m\u001b[0;34m)\u001b[0m\u001b[0;34m\u001b[0m\u001b[0;34m\u001b[0m\u001b[0m\n\u001b[0m\u001b[1;32m   5949\u001b[0m             \u001b[0magg_obj\u001b[0m \u001b[0;34m=\u001b[0m \u001b[0mself\u001b[0m\u001b[0;34m.\u001b[0m\u001b[0mtake\u001b[0m\u001b[0;34m(\u001b[0m\u001b[0mindices\u001b[0m\u001b[0;34m,\u001b[0m \u001b[0maxis\u001b[0m\u001b[0;34m=\u001b[0m\u001b[0magg_axis\u001b[0m\u001b[0;34m)\u001b[0m\u001b[0;34m\u001b[0m\u001b[0;34m\u001b[0m\u001b[0m\n\u001b[1;32m   5950\u001b[0m \u001b[0;34m\u001b[0m\u001b[0m\n",
      "\u001b[0;31mKeyError\u001b[0m: ['block_id']"
     ]
    }
   ],
   "source": [
    "smart_block = smart.construct_feature('block')\n",
    "ddot_block = ddot.construct_feature('block')"
   ]
  },
  {
   "cell_type": "code",
   "execution_count": null,
   "id": "2bc86bb8",
   "metadata": {},
   "outputs": [],
   "source": []
  }
 ],
 "metadata": {
  "kernelspec": {
   "display_name": "Python 3",
   "language": "python",
   "name": "python3"
  },
  "language_info": {
   "codemirror_mode": {
    "name": "ipython",
    "version": 3
   },
   "file_extension": ".py",
   "mimetype": "text/x-python",
   "name": "python",
   "nbconvert_exporter": "python",
   "pygments_lexer": "ipython3",
   "version": "3.7.10"
  },
  "toc": {
   "base_numbering": 1,
   "nav_menu": {},
   "number_sections": true,
   "sideBar": true,
   "skip_h1_title": false,
   "title_cell": "Table of Contents",
   "title_sidebar": "Contents",
   "toc_cell": false,
   "toc_position": {},
   "toc_section_display": true,
   "toc_window_display": false
  },
  "varInspector": {
   "cols": {
    "lenName": 16,
    "lenType": 16,
    "lenVar": 40
   },
   "kernels_config": {
    "python": {
     "delete_cmd_postfix": "",
     "delete_cmd_prefix": "del ",
     "library": "var_list.py",
     "varRefreshCmd": "print(var_dic_list())"
    },
    "r": {
     "delete_cmd_postfix": ") ",
     "delete_cmd_prefix": "rm(",
     "library": "var_list.r",
     "varRefreshCmd": "cat(var_dic_list()) "
    }
   },
   "types_to_exclude": [
    "module",
    "function",
    "builtin_function_or_method",
    "instance",
    "_Feature"
   ],
   "window_display": false
  }
 },
 "nbformat": 4,
 "nbformat_minor": 5
}
