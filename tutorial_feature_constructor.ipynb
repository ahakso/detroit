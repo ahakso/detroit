{
 "cells": [
  {
   "cell_type": "code",
   "execution_count": null,
   "id": "11b42d6a",
   "metadata": {
    "ExecuteTime": {
     "end_time": "2022-02-25T23:52:50.394996Z",
     "start_time": "2022-02-25T23:52:49.437021Z"
    }
   },
   "outputs": [],
   "source": [
    "from features.feature_constructor import Feature, GEO_GRAIN_LEN_MAP\n",
    "from features.violence_calls import ViolenceCalls\n",
    "from features.population import Population\n",
    "from detroit_geos import get_detroit_census_geos, get_detroit_boundaries\n",
    "import geopandas as gpd"
   ]
  },
  {
   "cell_type": "code",
   "execution_count": 9,
   "id": "08b25650",
   "metadata": {
    "ExecuteTime": {
     "end_time": "2022-02-26T22:07:19.600633Z",
     "start_time": "2022-02-26T22:07:19.260669Z"
    }
   },
   "outputs": [],
   "source": [
    "import numpy as np\n",
    "import matplotlib.pyplot as plt"
   ]
  },
  {
   "cell_type": "markdown",
   "id": "9d854803",
   "metadata": {
    "ExecuteTime": {
     "end_time": "2022-02-10T19:04:26.134360Z",
     "start_time": "2022-02-10T19:04:26.110520Z"
    }
   },
   "source": [
    "# Framework\n",
    "`help(Feature)` gives a reasonable docstring, but may be easier to just look at the code, which contains descriptions of every method\n",
    "\n",
    "We'll concentrate on using a child class - population"
   ]
  },
  {
   "cell_type": "markdown",
   "id": "953002b4",
   "metadata": {},
   "source": [
    "## Population example"
   ]
  },
  {
   "cell_type": "code",
   "execution_count": null,
   "id": "187a41a9",
   "metadata": {
    "ExecuteTime": {
     "end_time": "2022-02-25T22:38:15.341524Z",
     "start_time": "2022-02-25T22:38:15.339141Z"
    }
   },
   "outputs": [],
   "source": [
    "# The Population class contains reference information for the data set\n",
    "# Instantiating the object does not load the data by default"
   ]
  },
  {
   "cell_type": "code",
   "execution_count": null,
   "id": "0a54aa22",
   "metadata": {
    "ExecuteTime": {
     "end_time": "2022-02-25T22:38:15.346847Z",
     "start_time": "2022-02-25T22:38:15.344121Z"
    }
   },
   "outputs": [],
   "source": [
    "population = Population(decennial_census_year=2010)"
   ]
  },
  {
   "cell_type": "code",
   "execution_count": null,
   "id": "2b48236c",
   "metadata": {
    "ExecuteTime": {
     "end_time": "2022-02-25T22:38:16.806575Z",
     "start_time": "2022-02-25T22:38:15.349201Z"
    }
   },
   "outputs": [],
   "source": [
    "# loading the data is not a raw load, it contains transforms that we well always want, like column selection and renaming\n",
    "population.load_data()\n",
    "population.data.head()\n",
    "\n",
    "# This decorated method standardizes block ids and does validation, in addition to any additional cleaning you may want to do\n",
    "population.cleanse_data()"
   ]
  },
  {
   "cell_type": "code",
   "execution_count": null,
   "id": "3bb96c4a",
   "metadata": {
    "ExecuteTime": {
     "end_time": "2022-02-25T22:38:16.810555Z",
     "start_time": "2022-02-25T22:38:14.087Z"
    }
   },
   "outputs": [],
   "source": [
    "population.data.head()"
   ]
  },
  {
   "cell_type": "code",
   "execution_count": null,
   "id": "d7804c12",
   "metadata": {
    "ExecuteTime": {
     "end_time": "2022-02-25T22:38:16.812220Z",
     "start_time": "2022-02-25T22:38:14.088Z"
    }
   },
   "outputs": [],
   "source": [
    "# this decorated method will automatically run the above steps and load data + set the index as necessary if it hasn't be done yet\n",
    "# It defaults to full data load, so if the data set is large, you may want to load the data with custom arguments instead of doing \n",
    "# it automatically\n",
    "\n",
    "# Outputs a series, which is the goal of this class\n",
    "block_group_population = population.construct_feature(target_geo_grain='block group')\n",
    "block_group_population "
   ]
  },
  {
   "cell_type": "code",
   "execution_count": null,
   "id": "0c9b1f54",
   "metadata": {
    "ExecuteTime": {
     "end_time": "2022-02-25T22:38:16.813520Z",
     "start_time": "2022-02-25T22:38:14.089Z"
    },
    "scrolled": true
   },
   "outputs": [],
   "source": [
    "block_group_population.hist(bins=np.arange(0,3000,100))\n",
    "_ = plt.gca().set(title='looks like a hurdle binomial distribution',xlabel='population',ylabel='n block groups')"
   ]
  },
  {
   "cell_type": "markdown",
   "id": "5759c1a8",
   "metadata": {},
   "source": [
    "## Violent calls example\n",
    "spoiler: it works the same, but with some extra args"
   ]
  },
  {
   "cell_type": "code",
   "execution_count": null,
   "id": "bb36990e",
   "metadata": {
    "ExecuteTime": {
     "end_time": "2022-02-25T22:38:16.815100Z",
     "start_time": "2022-02-25T22:38:14.090Z"
    }
   },
   "outputs": [],
   "source": [
    "from features.feature_constructor import Feature\n",
    "from features.violence_calls import ViolenceCalls\n",
    "from features.population import Population\n",
    "from detroit_geos import get_detroit_census_geos"
   ]
  },
  {
   "cell_type": "code",
   "execution_count": null,
   "id": "5675a82b",
   "metadata": {
    "ExecuteTime": {
     "end_time": "2022-02-25T22:38:16.816352Z",
     "start_time": "2022-02-25T22:38:14.091Z"
    }
   },
   "outputs": [],
   "source": [
    "call_feat = ViolenceCalls(decennial_census_year=2010)\n",
    "call_feat.load_data(use_lat_long=False,sample_rows=10000)\n",
    "# # call_feat.cleanse_data()\n",
    "# call_feat.construct_feature(target_geo_grain='block')"
   ]
  },
  {
   "cell_type": "code",
   "execution_count": null,
   "id": "3653659f",
   "metadata": {
    "ExecuteTime": {
     "end_time": "2022-02-25T22:38:16.818050Z",
     "start_time": "2022-02-25T22:38:14.092Z"
    }
   },
   "outputs": [],
   "source": [
    "call_feat.data.head()"
   ]
  },
  {
   "cell_type": "code",
   "execution_count": null,
   "id": "0939ad0c",
   "metadata": {
    "ExecuteTime": {
     "end_time": "2022-02-25T22:38:16.819413Z",
     "start_time": "2022-02-25T22:38:14.093Z"
    }
   },
   "outputs": [],
   "source": [
    "# without reloading or recleaning the data, you can regenerate a new feature vector on a different grain\n",
    "ftr = call_feat.construct_feature(target_geo_grain='tract')\n",
    "\n",
    "ftr"
   ]
  },
  {
   "cell_type": "code",
   "execution_count": null,
   "id": "e4372565",
   "metadata": {
    "ExecuteTime": {
     "end_time": "2022-02-25T22:38:16.820971Z",
     "start_time": "2022-02-25T22:38:14.094Z"
    }
   },
   "outputs": [],
   "source": [
    "call_feat.open_data_url('source')"
   ]
  },
  {
   "cell_type": "markdown",
   "id": "6458ad29",
   "metadata": {},
   "source": [
    "# Rental Statuses"
   ]
  },
  {
   "cell_type": "code",
   "execution_count": null,
   "id": "ef7dac5a",
   "metadata": {
    "ExecuteTime": {
     "end_time": "2022-02-25T22:38:16.822719Z",
     "start_time": "2022-02-25T22:38:14.095Z"
    }
   },
   "outputs": [],
   "source": [
    "from detroit_geos import get_detroit_census_geos\n",
    "from util_detroit import point_to_geo_id\n",
    "import geopandas as gpd\n",
    "from features.out_of_state_rental_ownership import OutOfStateRentalOwnership"
   ]
  },
  {
   "cell_type": "code",
   "execution_count": null,
   "id": "812d211f",
   "metadata": {
    "ExecuteTime": {
     "end_time": "2022-02-25T22:38:16.824438Z",
     "start_time": "2022-02-25T22:38:14.096Z"
    }
   },
   "outputs": [],
   "source": [
    "r = OutOfStateRentalOwnership(decennial_census_year=2010)\n",
    "f = r.construct_feature(target_geo_grain='tract')"
   ]
  },
  {
   "cell_type": "markdown",
   "id": "d2f68d33",
   "metadata": {},
   "source": [
    "# Income"
   ]
  },
  {
   "cell_type": "code",
   "execution_count": null,
   "id": "cec27eea",
   "metadata": {
    "ExecuteTime": {
     "end_time": "2022-02-25T22:38:16.825726Z",
     "start_time": "2022-02-25T22:38:14.097Z"
    }
   },
   "outputs": [],
   "source": [
    "from features.feature_constructor import Feature\n",
    "from features.income import Income\n",
    "from detroit_geos import get_detroit_census_geos\n",
    "from features.feature_constructor import GEO_GRAIN_LEN_MAP"
   ]
  },
  {
   "cell_type": "code",
   "execution_count": null,
   "id": "1659d996",
   "metadata": {
    "ExecuteTime": {
     "end_time": "2022-02-25T22:38:16.826726Z",
     "start_time": "2022-02-25T22:38:14.098Z"
    }
   },
   "outputs": [],
   "source": [
    "ftr = Income()\n",
    "ftr.load_data()\n",
    "ftr.cleanse_data()"
   ]
  },
  {
   "cell_type": "code",
   "execution_count": null,
   "id": "aeaf5bb2",
   "metadata": {
    "ExecuteTime": {
     "end_time": "2022-02-25T22:38:16.828025Z",
     "start_time": "2022-02-25T22:38:14.099Z"
    }
   },
   "outputs": [],
   "source": [
    "f = ftr.construct_feature('block')"
   ]
  },
  {
   "cell_type": "code",
   "execution_count": null,
   "id": "c0183267",
   "metadata": {
    "ExecuteTime": {
     "end_time": "2022-02-25T22:38:16.829332Z",
     "start_time": "2022-02-25T22:38:14.100Z"
    }
   },
   "outputs": [],
   "source": [
    "df.plot('per_capita_income',legend=True)"
   ]
  },
  {
   "cell_type": "markdown",
   "id": "7d27ad2b",
   "metadata": {},
   "source": [
    "# Bus Stops"
   ]
  },
  {
   "cell_type": "code",
   "execution_count": null,
   "id": "209f37a1",
   "metadata": {
    "ExecuteTime": {
     "end_time": "2022-02-25T22:39:45.117313Z",
     "start_time": "2022-02-25T22:39:45.109683Z"
    }
   },
   "outputs": [],
   "source": [
    "from features.smart_bus_stops import smartbusstops\n",
    "from features.ddot_bus_stops import ddotbusstops\n",
    "from detroit_geos import get_detroit_census_geos\n",
    "from features.feature_constructor import GEO_GRAIN_LEN_MAP"
   ]
  },
  {
   "cell_type": "code",
   "execution_count": null,
   "id": "b51ecb6e",
   "metadata": {
    "ExecuteTime": {
     "end_time": "2022-02-25T22:39:45.534186Z",
     "start_time": "2022-02-25T22:39:45.531664Z"
    }
   },
   "outputs": [],
   "source": [
    "smart = smartbusstops()\n",
    "ddot = ddotbusstops()"
   ]
  },
  {
   "cell_type": "code",
   "execution_count": null,
   "id": "b192ac60",
   "metadata": {
    "ExecuteTime": {
     "end_time": "2022-02-25T22:39:48.730380Z",
     "start_time": "2022-02-25T22:39:45.845965Z"
    }
   },
   "outputs": [],
   "source": [
    "smart.load_data()\n",
    "ddot.load_data()\n",
    "smart.cleanse_data()\n",
    "ddot.cleanse_data()"
   ]
  },
  {
   "cell_type": "code",
   "execution_count": null,
   "id": "21d64c06",
   "metadata": {
    "ExecuteTime": {
     "end_time": "2022-02-25T22:39:50.903871Z",
     "start_time": "2022-02-25T22:39:48.732554Z"
    }
   },
   "outputs": [],
   "source": [
    "smart_block = smart.construct_feature('block')\n",
    "ddot_block = ddot.construct_feature('block')"
   ]
  },
  {
   "cell_type": "markdown",
   "id": "318cc5ff",
   "metadata": {},
   "source": [
    "# Greenlight"
   ]
  },
  {
   "cell_type": "code",
   "execution_count": null,
   "id": "2a47984a",
   "metadata": {
    "ExecuteTime": {
     "end_time": "2022-02-25T23:59:50.520701Z",
     "start_time": "2022-02-25T23:59:49.553322Z"
    },
    "scrolled": false
   },
   "outputs": [],
   "source": [
    "from features.project_green_light_locations import projectgreenlightlocations\n",
    "from detroit_geos import get_detroit_census_geos\n",
    "from features.feature_constructor import GEO_GRAIN_LEN_MAP"
   ]
  },
  {
   "cell_type": "code",
   "execution_count": null,
   "id": "921afc65",
   "metadata": {
    "ExecuteTime": {
     "end_time": "2022-02-25T23:59:50.526261Z",
     "start_time": "2022-02-25T23:59:50.523042Z"
    }
   },
   "outputs": [],
   "source": [
    "green = projectgreenlightlocations()"
   ]
  },
  {
   "cell_type": "code",
   "execution_count": null,
   "id": "497b0646",
   "metadata": {
    "ExecuteTime": {
     "end_time": "2022-02-25T23:59:52.042872Z",
     "start_time": "2022-02-25T23:59:50.529370Z"
    }
   },
   "outputs": [],
   "source": [
    "green.load_data()\n",
    "green.cleanse_data()"
   ]
  },
  {
   "cell_type": "code",
   "execution_count": null,
   "id": "88c6d364",
   "metadata": {
    "ExecuteTime": {
     "end_time": "2022-02-25T23:59:53.190983Z",
     "start_time": "2022-02-25T23:59:52.045151Z"
    }
   },
   "outputs": [],
   "source": [
    "green_block = green.construct_feature('block')"
   ]
  },
  {
   "cell_type": "code",
   "execution_count": null,
   "id": "5b5d978d",
   "metadata": {
    "ExecuteTime": {
     "end_time": "2022-02-25T23:59:53.229644Z",
     "start_time": "2022-02-25T23:59:53.192916Z"
    }
   },
   "outputs": [],
   "source": [
    "green.data.head()"
   ]
  },
  {
   "cell_type": "markdown",
   "id": "f28fdb89",
   "metadata": {},
   "source": [
    "# Rentals"
   ]
  },
  {
   "cell_type": "code",
   "execution_count": 1,
   "id": "c939b31d",
   "metadata": {
    "ExecuteTime": {
     "end_time": "2022-02-28T18:45:28.401724Z",
     "start_time": "2022-02-28T18:45:27.970769Z"
    }
   },
   "outputs": [],
   "source": [
    "from features.rental_statuses import rentalstatuses\n",
    "from detroit_geos import get_detroit_census_geos\n",
    "from features.feature_constructor import GEO_GRAIN_LEN_MAP"
   ]
  },
  {
   "cell_type": "code",
   "execution_count": 6,
   "id": "1c03dbda",
   "metadata": {
    "ExecuteTime": {
     "end_time": "2022-02-28T19:55:23.698746Z",
     "start_time": "2022-02-28T19:55:14.572070Z"
    }
   },
   "outputs": [
    {
     "name": "stdout",
     "output_type": "stream",
     "text": [
      "Loaded 15,884 rows of data\n",
      "clean data has 14550 rows\n",
      "cleansed data validator: geo_id looks good\n",
      "Generate index not run, or was run on the wrong grain. Creating index on block grain\n"
     ]
    }
   ],
   "source": [
    "rentals = rentalstatuses()\n",
    "rentals.load_data()\n",
    "rentals.cleanse_data()\n",
    "rentals = rentals.construct_feature('block')"
   ]
  },
  {
   "cell_type": "code",
   "execution_count": 7,
   "id": "3755ed41",
   "metadata": {
    "ExecuteTime": {
     "end_time": "2022-02-28T19:55:23.824844Z",
     "start_time": "2022-02-28T19:55:23.801342Z"
    }
   },
   "outputs": [
    {
     "data": {
      "text/plain": [
       "block\n",
       "2.616354e+14    2.0\n",
       "2.616354e+14    1.0\n",
       "2.616354e+14    3.0\n",
       "2.616354e+14    4.0\n",
       "2.616354e+14    1.0\n",
       "               ... \n",
       "2.616353e+14    2.0\n",
       "2.616353e+14    NaN\n",
       "2.616398e+14    NaN\n",
       "2.616398e+14    NaN\n",
       "2.616398e+14    NaN\n",
       "Name: oid, Length: 14691, dtype: float64"
      ]
     },
     "execution_count": 7,
     "metadata": {},
     "output_type": "execute_result"
    }
   ],
   "source": [
    "rentals"
   ]
  },
  {
   "cell_type": "markdown",
   "id": "d7a444a7",
   "metadata": {},
   "source": [
    "# DFD Fire Stations"
   ]
  },
  {
   "cell_type": "code",
   "execution_count": 8,
   "id": "9dc74e47",
   "metadata": {
    "ExecuteTime": {
     "end_time": "2022-02-28T19:55:37.021786Z",
     "start_time": "2022-02-28T19:55:36.998856Z"
    }
   },
   "outputs": [],
   "source": [
    "from features.dfd_fire_stations import dfdfirestations\n",
    "from detroit_geos import get_detroit_census_geos\n",
    "from features.feature_constructor import GEO_GRAIN_LEN_MAP"
   ]
  },
  {
   "cell_type": "code",
   "execution_count": 9,
   "id": "214da459",
   "metadata": {
    "ExecuteTime": {
     "end_time": "2022-02-28T19:55:37.300810Z",
     "start_time": "2022-02-28T19:55:37.251690Z"
    }
   },
   "outputs": [
    {
     "ename": "FileNotFoundError",
     "evalue": "[Errno 2] No such file or directory: './open_data/DFD_Fire_Station_Locations.csv'",
     "output_type": "error",
     "traceback": [
      "\u001b[0;31m---------------------------------------------------------------------------\u001b[0m",
      "\u001b[0;31mFileNotFoundError\u001b[0m                         Traceback (most recent call last)",
      "\u001b[0;32m/var/folders/28/p0bhwx8s3cj150l_wknp1wd80000gp/T/ipykernel_61712/2524450217.py\u001b[0m in \u001b[0;36m<module>\u001b[0;34m\u001b[0m\n\u001b[1;32m      1\u001b[0m \u001b[0mfire_stations\u001b[0m \u001b[0;34m=\u001b[0m \u001b[0mdfdfirestations\u001b[0m\u001b[0;34m(\u001b[0m\u001b[0;34m)\u001b[0m\u001b[0;34m\u001b[0m\u001b[0;34m\u001b[0m\u001b[0m\n\u001b[0;32m----> 2\u001b[0;31m \u001b[0mfire_stations\u001b[0m\u001b[0;34m.\u001b[0m\u001b[0mload_data\u001b[0m\u001b[0;34m(\u001b[0m\u001b[0;34m)\u001b[0m\u001b[0;34m\u001b[0m\u001b[0;34m\u001b[0m\u001b[0m\n\u001b[0m\u001b[1;32m      3\u001b[0m \u001b[0mfire_stations\u001b[0m\u001b[0;34m.\u001b[0m\u001b[0mcleanse_data\u001b[0m\u001b[0;34m(\u001b[0m\u001b[0;34m)\u001b[0m\u001b[0;34m\u001b[0m\u001b[0;34m\u001b[0m\u001b[0m\n\u001b[1;32m      4\u001b[0m \u001b[0mfire_stations\u001b[0m \u001b[0;34m=\u001b[0m \u001b[0mfire_stations\u001b[0m\u001b[0;34m.\u001b[0m\u001b[0mconstruct_feature\u001b[0m\u001b[0;34m(\u001b[0m\u001b[0;34m'block'\u001b[0m\u001b[0;34m)\u001b[0m\u001b[0;34m\u001b[0m\u001b[0;34m\u001b[0m\u001b[0m\n",
      "\u001b[0;32m~/gd/detroit/features/dfd_fire_stations.py\u001b[0m in \u001b[0;36mload_data\u001b[0;34m(self, sample_rows, use_lat_long)\u001b[0m\n\u001b[1;32m     50\u001b[0m         \u001b[0;31m# use a generator function to select rows we want in chunks rather than loading everything into memory at once\u001b[0m\u001b[0;34m\u001b[0m\u001b[0;34m\u001b[0m\u001b[0;34m\u001b[0m\u001b[0m\n\u001b[1;32m     51\u001b[0m \u001b[0;34m\u001b[0m\u001b[0m\n\u001b[0;32m---> 52\u001b[0;31m         df = pd.read_csv(\n\u001b[0m\u001b[1;32m     53\u001b[0m             \u001b[0mself\u001b[0m\u001b[0;34m.\u001b[0m\u001b[0mdata_path\u001b[0m \u001b[0;34m+\u001b[0m \u001b[0mself\u001b[0m\u001b[0;34m.\u001b[0m\u001b[0mmeta\u001b[0m\u001b[0;34m.\u001b[0m\u001b[0mget\u001b[0m\u001b[0;34m(\u001b[0m\u001b[0;34m\"filename\"\u001b[0m\u001b[0;34m)\u001b[0m\u001b[0;34m,\u001b[0m\u001b[0;34m\u001b[0m\u001b[0;34m\u001b[0m\u001b[0m\n\u001b[1;32m     54\u001b[0m             \u001b[0mnrows\u001b[0m\u001b[0;34m=\u001b[0m\u001b[0msample_rows\u001b[0m\u001b[0;34m,\u001b[0m\u001b[0;34m\u001b[0m\u001b[0;34m\u001b[0m\u001b[0m\n",
      "\u001b[0;32m~/.virtualenvs/detroit/lib/python3.8/site-packages/pandas/util/_decorators.py\u001b[0m in \u001b[0;36mwrapper\u001b[0;34m(*args, **kwargs)\u001b[0m\n\u001b[1;32m    309\u001b[0m                     \u001b[0mstacklevel\u001b[0m\u001b[0;34m=\u001b[0m\u001b[0mstacklevel\u001b[0m\u001b[0;34m,\u001b[0m\u001b[0;34m\u001b[0m\u001b[0;34m\u001b[0m\u001b[0m\n\u001b[1;32m    310\u001b[0m                 )\n\u001b[0;32m--> 311\u001b[0;31m             \u001b[0;32mreturn\u001b[0m \u001b[0mfunc\u001b[0m\u001b[0;34m(\u001b[0m\u001b[0;34m*\u001b[0m\u001b[0margs\u001b[0m\u001b[0;34m,\u001b[0m \u001b[0;34m**\u001b[0m\u001b[0mkwargs\u001b[0m\u001b[0;34m)\u001b[0m\u001b[0;34m\u001b[0m\u001b[0;34m\u001b[0m\u001b[0m\n\u001b[0m\u001b[1;32m    312\u001b[0m \u001b[0;34m\u001b[0m\u001b[0m\n\u001b[1;32m    313\u001b[0m         \u001b[0;32mreturn\u001b[0m \u001b[0mwrapper\u001b[0m\u001b[0;34m\u001b[0m\u001b[0;34m\u001b[0m\u001b[0m\n",
      "\u001b[0;32m~/.virtualenvs/detroit/lib/python3.8/site-packages/pandas/io/parsers/readers.py\u001b[0m in \u001b[0;36mread_csv\u001b[0;34m(filepath_or_buffer, sep, delimiter, header, names, index_col, usecols, squeeze, prefix, mangle_dupe_cols, dtype, engine, converters, true_values, false_values, skipinitialspace, skiprows, skipfooter, nrows, na_values, keep_default_na, na_filter, verbose, skip_blank_lines, parse_dates, infer_datetime_format, keep_date_col, date_parser, dayfirst, cache_dates, iterator, chunksize, compression, thousands, decimal, lineterminator, quotechar, quoting, doublequote, escapechar, comment, encoding, encoding_errors, dialect, error_bad_lines, warn_bad_lines, on_bad_lines, delim_whitespace, low_memory, memory_map, float_precision, storage_options)\u001b[0m\n\u001b[1;32m    584\u001b[0m     \u001b[0mkwds\u001b[0m\u001b[0;34m.\u001b[0m\u001b[0mupdate\u001b[0m\u001b[0;34m(\u001b[0m\u001b[0mkwds_defaults\u001b[0m\u001b[0;34m)\u001b[0m\u001b[0;34m\u001b[0m\u001b[0;34m\u001b[0m\u001b[0m\n\u001b[1;32m    585\u001b[0m \u001b[0;34m\u001b[0m\u001b[0m\n\u001b[0;32m--> 586\u001b[0;31m     \u001b[0;32mreturn\u001b[0m \u001b[0m_read\u001b[0m\u001b[0;34m(\u001b[0m\u001b[0mfilepath_or_buffer\u001b[0m\u001b[0;34m,\u001b[0m \u001b[0mkwds\u001b[0m\u001b[0;34m)\u001b[0m\u001b[0;34m\u001b[0m\u001b[0;34m\u001b[0m\u001b[0m\n\u001b[0m\u001b[1;32m    587\u001b[0m \u001b[0;34m\u001b[0m\u001b[0m\n\u001b[1;32m    588\u001b[0m \u001b[0;34m\u001b[0m\u001b[0m\n",
      "\u001b[0;32m~/.virtualenvs/detroit/lib/python3.8/site-packages/pandas/io/parsers/readers.py\u001b[0m in \u001b[0;36m_read\u001b[0;34m(filepath_or_buffer, kwds)\u001b[0m\n\u001b[1;32m    480\u001b[0m \u001b[0;34m\u001b[0m\u001b[0m\n\u001b[1;32m    481\u001b[0m     \u001b[0;31m# Create the parser.\u001b[0m\u001b[0;34m\u001b[0m\u001b[0;34m\u001b[0m\u001b[0;34m\u001b[0m\u001b[0m\n\u001b[0;32m--> 482\u001b[0;31m     \u001b[0mparser\u001b[0m \u001b[0;34m=\u001b[0m \u001b[0mTextFileReader\u001b[0m\u001b[0;34m(\u001b[0m\u001b[0mfilepath_or_buffer\u001b[0m\u001b[0;34m,\u001b[0m \u001b[0;34m**\u001b[0m\u001b[0mkwds\u001b[0m\u001b[0;34m)\u001b[0m\u001b[0;34m\u001b[0m\u001b[0;34m\u001b[0m\u001b[0m\n\u001b[0m\u001b[1;32m    483\u001b[0m \u001b[0;34m\u001b[0m\u001b[0m\n\u001b[1;32m    484\u001b[0m     \u001b[0;32mif\u001b[0m \u001b[0mchunksize\u001b[0m \u001b[0;32mor\u001b[0m \u001b[0miterator\u001b[0m\u001b[0;34m:\u001b[0m\u001b[0;34m\u001b[0m\u001b[0;34m\u001b[0m\u001b[0m\n",
      "\u001b[0;32m~/.virtualenvs/detroit/lib/python3.8/site-packages/pandas/io/parsers/readers.py\u001b[0m in \u001b[0;36m__init__\u001b[0;34m(self, f, engine, **kwds)\u001b[0m\n\u001b[1;32m    809\u001b[0m             \u001b[0mself\u001b[0m\u001b[0;34m.\u001b[0m\u001b[0moptions\u001b[0m\u001b[0;34m[\u001b[0m\u001b[0;34m\"has_index_names\"\u001b[0m\u001b[0;34m]\u001b[0m \u001b[0;34m=\u001b[0m \u001b[0mkwds\u001b[0m\u001b[0;34m[\u001b[0m\u001b[0;34m\"has_index_names\"\u001b[0m\u001b[0;34m]\u001b[0m\u001b[0;34m\u001b[0m\u001b[0;34m\u001b[0m\u001b[0m\n\u001b[1;32m    810\u001b[0m \u001b[0;34m\u001b[0m\u001b[0m\n\u001b[0;32m--> 811\u001b[0;31m         \u001b[0mself\u001b[0m\u001b[0;34m.\u001b[0m\u001b[0m_engine\u001b[0m \u001b[0;34m=\u001b[0m \u001b[0mself\u001b[0m\u001b[0;34m.\u001b[0m\u001b[0m_make_engine\u001b[0m\u001b[0;34m(\u001b[0m\u001b[0mself\u001b[0m\u001b[0;34m.\u001b[0m\u001b[0mengine\u001b[0m\u001b[0;34m)\u001b[0m\u001b[0;34m\u001b[0m\u001b[0;34m\u001b[0m\u001b[0m\n\u001b[0m\u001b[1;32m    812\u001b[0m \u001b[0;34m\u001b[0m\u001b[0m\n\u001b[1;32m    813\u001b[0m     \u001b[0;32mdef\u001b[0m \u001b[0mclose\u001b[0m\u001b[0;34m(\u001b[0m\u001b[0mself\u001b[0m\u001b[0;34m)\u001b[0m\u001b[0;34m:\u001b[0m\u001b[0;34m\u001b[0m\u001b[0;34m\u001b[0m\u001b[0m\n",
      "\u001b[0;32m~/.virtualenvs/detroit/lib/python3.8/site-packages/pandas/io/parsers/readers.py\u001b[0m in \u001b[0;36m_make_engine\u001b[0;34m(self, engine)\u001b[0m\n\u001b[1;32m   1038\u001b[0m             )\n\u001b[1;32m   1039\u001b[0m         \u001b[0;31m# error: Too many arguments for \"ParserBase\"\u001b[0m\u001b[0;34m\u001b[0m\u001b[0;34m\u001b[0m\u001b[0;34m\u001b[0m\u001b[0m\n\u001b[0;32m-> 1040\u001b[0;31m         \u001b[0;32mreturn\u001b[0m \u001b[0mmapping\u001b[0m\u001b[0;34m[\u001b[0m\u001b[0mengine\u001b[0m\u001b[0;34m]\u001b[0m\u001b[0;34m(\u001b[0m\u001b[0mself\u001b[0m\u001b[0;34m.\u001b[0m\u001b[0mf\u001b[0m\u001b[0;34m,\u001b[0m \u001b[0;34m**\u001b[0m\u001b[0mself\u001b[0m\u001b[0;34m.\u001b[0m\u001b[0moptions\u001b[0m\u001b[0;34m)\u001b[0m  \u001b[0;31m# type: ignore[call-arg]\u001b[0m\u001b[0;34m\u001b[0m\u001b[0;34m\u001b[0m\u001b[0m\n\u001b[0m\u001b[1;32m   1041\u001b[0m \u001b[0;34m\u001b[0m\u001b[0m\n\u001b[1;32m   1042\u001b[0m     \u001b[0;32mdef\u001b[0m \u001b[0m_failover_to_python\u001b[0m\u001b[0;34m(\u001b[0m\u001b[0mself\u001b[0m\u001b[0;34m)\u001b[0m\u001b[0;34m:\u001b[0m\u001b[0;34m\u001b[0m\u001b[0;34m\u001b[0m\u001b[0m\n",
      "\u001b[0;32m~/.virtualenvs/detroit/lib/python3.8/site-packages/pandas/io/parsers/c_parser_wrapper.py\u001b[0m in \u001b[0;36m__init__\u001b[0;34m(self, src, **kwds)\u001b[0m\n\u001b[1;32m     49\u001b[0m \u001b[0;34m\u001b[0m\u001b[0m\n\u001b[1;32m     50\u001b[0m         \u001b[0;31m# open handles\u001b[0m\u001b[0;34m\u001b[0m\u001b[0;34m\u001b[0m\u001b[0;34m\u001b[0m\u001b[0m\n\u001b[0;32m---> 51\u001b[0;31m         \u001b[0mself\u001b[0m\u001b[0;34m.\u001b[0m\u001b[0m_open_handles\u001b[0m\u001b[0;34m(\u001b[0m\u001b[0msrc\u001b[0m\u001b[0;34m,\u001b[0m \u001b[0mkwds\u001b[0m\u001b[0;34m)\u001b[0m\u001b[0;34m\u001b[0m\u001b[0;34m\u001b[0m\u001b[0m\n\u001b[0m\u001b[1;32m     52\u001b[0m         \u001b[0;32massert\u001b[0m \u001b[0mself\u001b[0m\u001b[0;34m.\u001b[0m\u001b[0mhandles\u001b[0m \u001b[0;32mis\u001b[0m \u001b[0;32mnot\u001b[0m \u001b[0;32mNone\u001b[0m\u001b[0;34m\u001b[0m\u001b[0;34m\u001b[0m\u001b[0m\n\u001b[1;32m     53\u001b[0m \u001b[0;34m\u001b[0m\u001b[0m\n",
      "\u001b[0;32m~/.virtualenvs/detroit/lib/python3.8/site-packages/pandas/io/parsers/base_parser.py\u001b[0m in \u001b[0;36m_open_handles\u001b[0;34m(self, src, kwds)\u001b[0m\n\u001b[1;32m    220\u001b[0m         \u001b[0mLet\u001b[0m \u001b[0mthe\u001b[0m \u001b[0mreaders\u001b[0m \u001b[0mopen\u001b[0m \u001b[0mIOHandles\u001b[0m \u001b[0mafter\u001b[0m \u001b[0mthey\u001b[0m \u001b[0mare\u001b[0m \u001b[0mdone\u001b[0m \u001b[0;32mwith\u001b[0m \u001b[0mtheir\u001b[0m \u001b[0mpotential\u001b[0m \u001b[0mraises\u001b[0m\u001b[0;34m.\u001b[0m\u001b[0;34m\u001b[0m\u001b[0;34m\u001b[0m\u001b[0m\n\u001b[1;32m    221\u001b[0m         \"\"\"\n\u001b[0;32m--> 222\u001b[0;31m         self.handles = get_handle(\n\u001b[0m\u001b[1;32m    223\u001b[0m             \u001b[0msrc\u001b[0m\u001b[0;34m,\u001b[0m\u001b[0;34m\u001b[0m\u001b[0;34m\u001b[0m\u001b[0m\n\u001b[1;32m    224\u001b[0m             \u001b[0;34m\"r\"\u001b[0m\u001b[0;34m,\u001b[0m\u001b[0;34m\u001b[0m\u001b[0;34m\u001b[0m\u001b[0m\n",
      "\u001b[0;32m~/.virtualenvs/detroit/lib/python3.8/site-packages/pandas/io/common.py\u001b[0m in \u001b[0;36mget_handle\u001b[0;34m(path_or_buf, mode, encoding, compression, memory_map, is_text, errors, storage_options)\u001b[0m\n\u001b[1;32m    699\u001b[0m         \u001b[0;32mif\u001b[0m \u001b[0mioargs\u001b[0m\u001b[0;34m.\u001b[0m\u001b[0mencoding\u001b[0m \u001b[0;32mand\u001b[0m \u001b[0;34m\"b\"\u001b[0m \u001b[0;32mnot\u001b[0m \u001b[0;32min\u001b[0m \u001b[0mioargs\u001b[0m\u001b[0;34m.\u001b[0m\u001b[0mmode\u001b[0m\u001b[0;34m:\u001b[0m\u001b[0;34m\u001b[0m\u001b[0;34m\u001b[0m\u001b[0m\n\u001b[1;32m    700\u001b[0m             \u001b[0;31m# Encoding\u001b[0m\u001b[0;34m\u001b[0m\u001b[0;34m\u001b[0m\u001b[0;34m\u001b[0m\u001b[0m\n\u001b[0;32m--> 701\u001b[0;31m             handle = open(\n\u001b[0m\u001b[1;32m    702\u001b[0m                 \u001b[0mhandle\u001b[0m\u001b[0;34m,\u001b[0m\u001b[0;34m\u001b[0m\u001b[0;34m\u001b[0m\u001b[0m\n\u001b[1;32m    703\u001b[0m                 \u001b[0mioargs\u001b[0m\u001b[0;34m.\u001b[0m\u001b[0mmode\u001b[0m\u001b[0;34m,\u001b[0m\u001b[0;34m\u001b[0m\u001b[0;34m\u001b[0m\u001b[0m\n",
      "\u001b[0;31mFileNotFoundError\u001b[0m: [Errno 2] No such file or directory: './open_data/DFD_Fire_Station_Locations.csv'"
     ]
    }
   ],
   "source": [
    "fire_stations = dfdfirestations()\n",
    "fire_stations.load_data()\n",
    "fire_stations.cleanse_data()\n",
    "fire_stations = fire_stations.construct_feature('block')"
   ]
  },
  {
   "cell_type": "code",
   "execution_count": 10,
   "id": "9d989f41",
   "metadata": {
    "ExecuteTime": {
     "end_time": "2022-02-28T19:55:59.115523Z",
     "start_time": "2022-02-28T19:55:58.829582Z"
    }
   },
   "outputs": [],
   "source": [
    "fire_stations.open_data_url()"
   ]
  },
  {
   "cell_type": "code",
   "execution_count": 10,
   "id": "88eaf0c2",
   "metadata": {
    "ExecuteTime": {
     "end_time": "2022-02-26T22:07:21.864044Z",
     "start_time": "2022-02-26T22:07:21.856212Z"
    }
   },
   "outputs": [
    {
     "data": {
      "text/plain": [
       "array([ 1., nan])"
      ]
     },
     "execution_count": 10,
     "metadata": {},
     "output_type": "execute_result"
    }
   ],
   "source": [
    "np.unique(fire_stations)"
   ]
  },
  {
   "cell_type": "code",
   "execution_count": null,
   "id": "47b47da3",
   "metadata": {},
   "outputs": [],
   "source": []
  }
 ],
 "metadata": {
  "kernelspec": {
   "display_name": "Python 3 (ipykernel)",
   "language": "python",
   "name": "python3"
  },
  "language_info": {
   "codemirror_mode": {
    "name": "ipython",
    "version": 3
   },
   "file_extension": ".py",
   "mimetype": "text/x-python",
   "name": "python",
   "nbconvert_exporter": "python",
   "pygments_lexer": "ipython3",
   "version": "3.8.2"
  },
  "toc": {
   "base_numbering": 1,
   "nav_menu": {},
   "number_sections": true,
   "sideBar": true,
   "skip_h1_title": false,
   "title_cell": "Table of Contents",
   "title_sidebar": "Contents",
   "toc_cell": false,
   "toc_position": {},
   "toc_section_display": true,
   "toc_window_display": false
  },
  "varInspector": {
   "cols": {
    "lenName": 16,
    "lenType": 16,
    "lenVar": 40
   },
   "kernels_config": {
    "python": {
     "delete_cmd_postfix": "",
     "delete_cmd_prefix": "del ",
     "library": "var_list.py",
     "varRefreshCmd": "print(var_dic_list())"
    },
    "r": {
     "delete_cmd_postfix": ") ",
     "delete_cmd_prefix": "rm(",
     "library": "var_list.r",
     "varRefreshCmd": "cat(var_dic_list()) "
    }
   },
   "types_to_exclude": [
    "module",
    "function",
    "builtin_function_or_method",
    "instance",
    "_Feature"
   ],
   "window_display": false
  }
 },
 "nbformat": 4,
 "nbformat_minor": 5
}
