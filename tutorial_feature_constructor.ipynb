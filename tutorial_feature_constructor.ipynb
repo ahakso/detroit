{
 "cells": [
  {
   "cell_type": "code",
   "execution_count": 60,
   "id": "11b42d6a",
   "metadata": {
    "ExecuteTime": {
     "end_time": "2022-02-14T20:17:14.531114Z",
     "start_time": "2022-02-14T20:17:14.486166Z"
    }
   },
   "outputs": [],
   "source": [
    "from features.feature_constructor import Feature\n",
    "from features.violence_calls import ViolenceCalls\n",
    "from features.population import Population\n",
    "from detroit_geos import get_detroit_census_blocks"
   ]
  },
  {
   "cell_type": "markdown",
   "id": "9d854803",
   "metadata": {
    "ExecuteTime": {
     "end_time": "2022-02-10T19:04:26.134360Z",
     "start_time": "2022-02-10T19:04:26.110520Z"
    }
   },
   "source": [
    "# Framework\n",
    "`help(Feature)` gives a reasonable docstring, but may be easier to just look at the code, which contains descriptions of every method\n",
    "\n",
    "We'll concentrate on using a child class - population"
   ]
  },
  {
   "cell_type": "markdown",
   "id": "953002b4",
   "metadata": {},
   "source": [
    "## Population example"
   ]
  },
  {
   "cell_type": "code",
   "execution_count": 61,
   "id": "187a41a9",
   "metadata": {
    "ExecuteTime": {
     "end_time": "2022-02-14T20:17:15.292117Z",
     "start_time": "2022-02-14T20:17:15.270249Z"
    }
   },
   "outputs": [],
   "source": [
    "# The Population class contains reference information for the data set\n",
    "# Instantiating the object does not load the data by default\n",
    "population = Population(year=2020, data_path = '.', population_data_path='population', verbose=True)"
   ]
  },
  {
   "cell_type": "code",
   "execution_count": 62,
   "id": "2b48236c",
   "metadata": {
    "ExecuteTime": {
     "end_time": "2022-02-14T20:17:16.369033Z",
     "start_time": "2022-02-14T20:17:16.108901Z"
    }
   },
   "outputs": [
    {
     "name": "stdout",
     "output_type": "stream",
     "text": [
      "Loaded 32022 rows\n"
     ]
    },
    {
     "data": {
      "text/html": [
       "<div>\n",
       "<style scoped>\n",
       "    .dataframe tbody tr th:only-of-type {\n",
       "        vertical-align: middle;\n",
       "    }\n",
       "\n",
       "    .dataframe tbody tr th {\n",
       "        vertical-align: top;\n",
       "    }\n",
       "\n",
       "    .dataframe thead th {\n",
       "        text-align: right;\n",
       "    }\n",
       "</style>\n",
       "<table border=\"1\" class=\"dataframe\">\n",
       "  <thead>\n",
       "    <tr style=\"text-align: right;\">\n",
       "      <th></th>\n",
       "      <th>block_id</th>\n",
       "      <th>population</th>\n",
       "    </tr>\n",
       "  </thead>\n",
       "  <tbody>\n",
       "    <tr>\n",
       "      <th>0</th>\n",
       "      <td>261635001001000</td>\n",
       "      <td>14</td>\n",
       "    </tr>\n",
       "    <tr>\n",
       "      <th>1</th>\n",
       "      <td>261635001001001</td>\n",
       "      <td>100</td>\n",
       "    </tr>\n",
       "    <tr>\n",
       "      <th>2</th>\n",
       "      <td>261635001001002</td>\n",
       "      <td>82</td>\n",
       "    </tr>\n",
       "    <tr>\n",
       "      <th>3</th>\n",
       "      <td>261635001001003</td>\n",
       "      <td>50</td>\n",
       "    </tr>\n",
       "    <tr>\n",
       "      <th>4</th>\n",
       "      <td>261635001001004</td>\n",
       "      <td>66</td>\n",
       "    </tr>\n",
       "  </tbody>\n",
       "</table>\n",
       "</div>"
      ],
      "text/plain": [
       "          block_id  population\n",
       "0  261635001001000          14\n",
       "1  261635001001001         100\n",
       "2  261635001001002          82\n",
       "3  261635001001003          50\n",
       "4  261635001001004          66"
      ]
     },
     "execution_count": 62,
     "metadata": {},
     "output_type": "execute_result"
    }
   ],
   "source": [
    "# loading the data is not a raw load, it contains transforms that we well always want, like column selection and renaming\n",
    "population.load_data()\n",
    "population.data.head()"
   ]
  },
  {
   "cell_type": "code",
   "execution_count": 63,
   "id": "5f03ce99",
   "metadata": {
    "ExecuteTime": {
     "end_time": "2022-02-14T20:17:18.239370Z",
     "start_time": "2022-02-14T20:17:18.176651Z"
    }
   },
   "outputs": [
    {
     "name": "stdout",
     "output_type": "stream",
     "text": [
      "clean data has 32022 rows\n",
      "cleansed data validator: block_id looks good\n"
     ]
    }
   ],
   "source": [
    "# This decorated method standardizes block ids and does validation, in addition to any additional cleaning you may want to do\n",
    "population.cleanse_data()"
   ]
  },
  {
   "cell_type": "code",
   "execution_count": 64,
   "id": "d7804c12",
   "metadata": {
    "ExecuteTime": {
     "end_time": "2022-02-14T20:17:20.323595Z",
     "start_time": "2022-02-14T20:17:19.616705Z"
    }
   },
   "outputs": [
    {
     "name": "stdout",
     "output_type": "stream",
     "text": [
      "Generate index not run, or was run on the wrong grain. Creating index on block group grain\n",
      "0 of 1507 block groups are unaccounted for\n"
     ]
    }
   ],
   "source": [
    "# this decorated method will automatically run the above steps and load data + set the index as necessary if it hasn't be done yet\n",
    "# It defaults to full data load, so if the data set is large, you may want to load the data with custom arguments instead of doing \n",
    "# it automatically\n",
    "\n",
    "# Outputs a series, which is the goal of this class\n",
    "block_group_population = population.construct_feature(target_geo_grain='block group')"
   ]
  },
  {
   "cell_type": "code",
   "execution_count": 65,
   "id": "0c9b1f54",
   "metadata": {
    "ExecuteTime": {
     "end_time": "2022-02-14T20:17:24.929830Z",
     "start_time": "2022-02-14T20:17:24.702578Z"
    }
   },
   "outputs": [
    {
     "data": {
      "image/png": "[encoded data removed]",
      "text/plain": [
       "<Figure size 432x288 with 1 Axes>"
      ]
     },
     "metadata": {
      "image/png": {
       "height": 288,
       "width": 407
      },
      "needs_background": "light"
     },
     "output_type": "display_data"
    }
   ],
   "source": [
    "block_group_population.hist(bins=np.arange(0,3000,100))\n",
    "_ = plt.gca().set(title='looks like a hurdle binomial distribution',xlabel='population',ylabel='n block groups')"
   ]
  },
  {
   "cell_type": "markdown",
   "id": "5759c1a8",
   "metadata": {},
   "source": [
    "## Violent calls example\n",
    "spoiler: it works the same, but with some extra args"
   ]
  },
  {
   "cell_type": "code",
   "execution_count": 57,
   "id": "e7bb6576",
   "metadata": {
    "ExecuteTime": {
     "end_time": "2022-02-14T20:06:47.938319Z",
     "start_time": "2022-02-14T20:06:47.841560Z"
    }
   },
   "outputs": [],
   "source": [
    "from features.feature_constructor import Feature\n",
    "from features.violence_calls import ViolenceCalls\n",
    "from features.population import Population\n",
    "from detroit_geos import get_detroit_census_blocks"
   ]
  },
  {
   "cell_type": "code",
   "execution_count": 58,
   "id": "5675a82b",
   "metadata": {
    "ExecuteTime": {
     "end_time": "2022-02-14T20:06:48.644288Z",
     "start_time": "2022-02-14T20:06:48.583015Z"
    }
   },
   "outputs": [
    {
     "name": "stdout",
     "output_type": "stream",
     "text": [
      "Loaded 100 rows of data\n"
     ]
    }
   ],
   "source": [
    "call_feat = ViolenceCalls(decennial_census_year=2010)\n",
    "call_feat.load_data(use_lat_long=False,sample_rows=100)\n",
    "# # call_feat.cleanse_data()\n",
    "# call_feat.construct_feature(target_geo_grain='block')"
   ]
  },
  {
   "cell_type": "code",
   "execution_count": 59,
   "id": "0939ad0c",
   "metadata": {
    "ExecuteTime": {
     "end_time": "2022-02-14T20:06:49.845333Z",
     "start_time": "2022-02-14T20:06:48.952373Z"
    }
   },
   "outputs": [
    {
     "name": "stdout",
     "output_type": "stream",
     "text": [
      "Data not yet cleansed, cleaning\n",
      "clean data has 3 rows\n",
      "cleansed data validator: block_id looks good\n",
      "Generate index not run, or was run on the wrong grain. Creating index on tract grain\n"
     ]
    },
    {
     "data": {
      "text/html": [
       "<div>\n",
       "<style scoped>\n",
       "    .dataframe tbody tr th:only-of-type {\n",
       "        vertical-align: middle;\n",
       "    }\n",
       "\n",
       "    .dataframe tbody tr th {\n",
       "        vertical-align: top;\n",
       "    }\n",
       "\n",
       "    .dataframe thead th {\n",
       "        text-align: right;\n",
       "    }\n",
       "</style>\n",
       "<table border=\"1\" class=\"dataframe\">\n",
       "  <thead>\n",
       "    <tr style=\"text-align: right;\">\n",
       "      <th></th>\n",
       "      <th>violence_calls</th>\n",
       "    </tr>\n",
       "    <tr>\n",
       "      <th>geo</th>\n",
       "      <th></th>\n",
       "    </tr>\n",
       "  </thead>\n",
       "  <tbody>\n",
       "    <tr>\n",
       "      <th>26163512400</th>\n",
       "      <td>1</td>\n",
       "    </tr>\n",
       "    <tr>\n",
       "      <th>26163536100</th>\n",
       "      <td>1</td>\n",
       "    </tr>\n",
       "    <tr>\n",
       "      <th>26163545700</th>\n",
       "      <td>1</td>\n",
       "    </tr>\n",
       "  </tbody>\n",
       "</table>\n",
       "</div>"
      ],
      "text/plain": [
       "             violence_calls\n",
       "geo                        \n",
       "26163512400               1\n",
       "26163536100               1\n",
       "26163545700               1"
      ]
     },
     "execution_count": 59,
     "metadata": {},
     "output_type": "execute_result"
    }
   ],
   "source": [
    "# without reloading or recleaning the data, you can regenerate a new feature vector on a different grain\n",
    "ftr = call_feat.construct_feature(target_geo_grain='tract')\n",
    "\n",
    "ftr"
   ]
  },
  {
   "cell_type": "code",
   "execution_count": 56,
   "id": "2eec22dc",
   "metadata": {
    "ExecuteTime": {
     "end_time": "2022-02-14T20:06:23.596877Z",
     "start_time": "2022-02-14T20:06:23.565705Z"
    }
   },
   "outputs": [],
   "source": [
    "s = pd.Series(np.random.rand((2)))\n",
    "s.to_frame("
   ]
  },
  {
   "cell_type": "code",
   "execution_count": null,
   "id": "e4372565",
   "metadata": {
    "ExecuteTime": {
     "end_time": "2022-02-11T22:01:43.869453Z",
     "start_time": "2022-02-11T22:01:43.869429Z"
    }
   },
   "outputs": [],
   "source": [
    "call_feat.open_data_url('source')"
   ]
  }
 ],
 "metadata": {
  "kernelspec": {
   "display_name": "detroit",
   "language": "python",
   "name": "detroit"
  },
  "language_info": {
   "codemirror_mode": {
    "name": "ipython",
    "version": 3
   },
   "file_extension": ".py",
   "mimetype": "text/x-python",
   "name": "python",
   "nbconvert_exporter": "python",
   "pygments_lexer": "ipython3",
   "version": "3.8.2"
  },
  "toc": {
   "base_numbering": 1,
   "nav_menu": {},
   "number_sections": true,
   "sideBar": true,
   "skip_h1_title": false,
   "title_cell": "Table of Contents",
   "title_sidebar": "Contents",
   "toc_cell": false,
   "toc_position": {},
   "toc_section_display": true,
   "toc_window_display": false
  },
  "varInspector": {
   "cols": {
    "lenName": 16,
    "lenType": 16,
    "lenVar": 40
   },
   "kernels_config": {
    "python": {
     "delete_cmd_postfix": "",
     "delete_cmd_prefix": "del ",
     "library": "var_list.py",
     "varRefreshCmd": "print(var_dic_list())"
    },
    "r": {
     "delete_cmd_postfix": ") ",
     "delete_cmd_prefix": "rm(",
     "library": "var_list.r",
     "varRefreshCmd": "cat(var_dic_list()) "
    }
   },
   "types_to_exclude": [
    "module",
    "function",
    "builtin_function_or_method",
    "instance",
    "_Feature"
   ],
   "window_display": false
  }
 },
 "nbformat": 4,
 "nbformat_minor": 5
}
