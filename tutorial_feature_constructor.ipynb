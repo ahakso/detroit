{
 "cells": [
  {
   "cell_type": "code",
   "execution_count": null,
   "id": "11b42d6a",
   "metadata": {
    "ExecuteTime": {
     "end_time": "2022-02-25T23:52:50.394996Z",
     "start_time": "2022-02-25T23:52:49.437021Z"
    }
   },
   "outputs": [],
   "source": [
    "from features.feature_constructor import Feature, GEO_GRAIN_LEN_MAP\n",
    "from features.violence_calls import ViolenceCalls\n",
    "from features.population import Population\n",
    "from detroit_geos import get_detroit_census_geos, get_detroit_boundaries\n",
    "import geopandas as gpd"
   ]
  },
  {
   "cell_type": "code",
   "execution_count": 9,
   "id": "08b25650",
   "metadata": {
    "ExecuteTime": {
     "end_time": "2022-02-26T22:07:19.600633Z",
     "start_time": "2022-02-26T22:07:19.260669Z"
    }
   },
   "outputs": [],
   "source": [
    "import numpy as np\n",
    "import matplotlib.pyplot as plt"
   ]
  },
  {
   "cell_type": "markdown",
   "id": "9d854803",
   "metadata": {
    "ExecuteTime": {
     "end_time": "2022-02-10T19:04:26.134360Z",
     "start_time": "2022-02-10T19:04:26.110520Z"
    }
   },
   "source": [
    "# Framework\n",
    "`help(Feature)` gives a reasonable docstring, but may be easier to just look at the code, which contains descriptions of every method\n",
    "\n",
    "We'll concentrate on using a child class - population"
   ]
  },
  {
   "cell_type": "markdown",
   "id": "953002b4",
   "metadata": {},
   "source": [
    "## Population example"
   ]
  },
  {
   "cell_type": "code",
   "execution_count": null,
   "id": "187a41a9",
   "metadata": {
    "ExecuteTime": {
     "end_time": "2022-02-25T22:38:15.341524Z",
     "start_time": "2022-02-25T22:38:15.339141Z"
    }
   },
   "outputs": [],
   "source": [
    "# The Population class contains reference information for the data set\n",
    "# Instantiating the object does not load the data by default"
   ]
  },
  {
   "cell_type": "code",
   "execution_count": null,
   "id": "0a54aa22",
   "metadata": {
    "ExecuteTime": {
     "end_time": "2022-02-25T22:38:15.346847Z",
     "start_time": "2022-02-25T22:38:15.344121Z"
    }
   },
   "outputs": [],
   "source": [
    "population = Population(decennial_census_year=2010)"
   ]
  },
  {
   "cell_type": "code",
   "execution_count": null,
   "id": "2b48236c",
   "metadata": {
    "ExecuteTime": {
     "end_time": "2022-02-25T22:38:16.806575Z",
     "start_time": "2022-02-25T22:38:15.349201Z"
    }
   },
   "outputs": [],
   "source": [
    "# loading the data is not a raw load, it contains transforms that we well always want, like column selection and renaming\n",
    "population.load_data()\n",
    "population.data.head()\n",
    "\n",
    "# This decorated method standardizes block ids and does validation, in addition to any additional cleaning you may want to do\n",
    "population.cleanse_data()"
   ]
  },
  {
   "cell_type": "code",
   "execution_count": null,
   "id": "3bb96c4a",
   "metadata": {
    "ExecuteTime": {
     "end_time": "2022-02-25T22:38:16.810555Z",
     "start_time": "2022-02-25T22:38:14.087Z"
    }
   },
   "outputs": [],
   "source": [
    "population.data.head()"
   ]
  },
  {
   "cell_type": "code",
   "execution_count": null,
   "id": "d7804c12",
   "metadata": {
    "ExecuteTime": {
     "end_time": "2022-02-25T22:38:16.812220Z",
     "start_time": "2022-02-25T22:38:14.088Z"
    }
   },
   "outputs": [],
   "source": [
    "# this decorated method will automatically run the above steps and load data + set the index as necessary if it hasn't be done yet\n",
    "# It defaults to full data load, so if the data set is large, you may want to load the data with custom arguments instead of doing \n",
    "# it automatically\n",
    "\n",
    "# Outputs a series, which is the goal of this class\n",
    "block_group_population = population.construct_feature(target_geo_grain='block group')\n",
    "block_group_population "
   ]
  },
  {
   "cell_type": "code",
   "execution_count": null,
   "id": "0c9b1f54",
   "metadata": {
    "ExecuteTime": {
     "end_time": "2022-02-25T22:38:16.813520Z",
     "start_time": "2022-02-25T22:38:14.089Z"
    },
    "scrolled": true
   },
   "outputs": [],
   "source": [
    "block_group_population.hist(bins=np.arange(0,3000,100))\n",
    "_ = plt.gca().set(title='looks like a hurdle binomial distribution',xlabel='population',ylabel='n block groups')"
   ]
  },
  {
   "cell_type": "markdown",
   "id": "5759c1a8",
   "metadata": {},
   "source": [
    "## Violent calls example\n",
    "spoiler: it works the same, but with some extra args"
   ]
  },
  {
   "cell_type": "code",
   "execution_count": null,
   "id": "bb36990e",
   "metadata": {
    "ExecuteTime": {
     "end_time": "2022-02-25T22:38:16.815100Z",
     "start_time": "2022-02-25T22:38:14.090Z"
    }
   },
   "outputs": [],
   "source": [
    "from features.feature_constructor import Feature\n",
    "from features.violence_calls import ViolenceCalls\n",
    "from features.population import Population\n",
    "from detroit_geos import get_detroit_census_geos"
   ]
  },
  {
   "cell_type": "code",
   "execution_count": null,
   "id": "5675a82b",
   "metadata": {
    "ExecuteTime": {
     "end_time": "2022-02-25T22:38:16.816352Z",
     "start_time": "2022-02-25T22:38:14.091Z"
    }
   },
   "outputs": [],
   "source": [
    "call_feat = ViolenceCalls(decennial_census_year=2010)\n",
    "call_feat.load_data(use_lat_long=False,sample_rows=10000)\n",
    "# # call_feat.cleanse_data()\n",
    "# call_feat.construct_feature(target_geo_grain='block')"
   ]
  },
  {
   "cell_type": "code",
   "execution_count": null,
   "id": "3653659f",
   "metadata": {
    "ExecuteTime": {
     "end_time": "2022-02-25T22:38:16.818050Z",
     "start_time": "2022-02-25T22:38:14.092Z"
    }
   },
   "outputs": [],
   "source": [
    "call_feat.data.head()"
   ]
  },
  {
   "cell_type": "code",
   "execution_count": null,
   "id": "0939ad0c",
   "metadata": {
    "ExecuteTime": {
     "end_time": "2022-02-25T22:38:16.819413Z",
     "start_time": "2022-02-25T22:38:14.093Z"
    }
   },
   "outputs": [],
   "source": [
    "# without reloading or recleaning the data, you can regenerate a new feature vector on a different grain\n",
    "ftr = call_feat.construct_feature(target_geo_grain='tract')\n",
    "\n",
    "ftr"
   ]
  },
  {
   "cell_type": "code",
   "execution_count": null,
   "id": "e4372565",
   "metadata": {
    "ExecuteTime": {
     "end_time": "2022-02-25T22:38:16.820971Z",
     "start_time": "2022-02-25T22:38:14.094Z"
    }
   },
   "outputs": [],
   "source": [
    "call_feat.open_data_url('source')"
   ]
  },
  {
   "cell_type": "markdown",
   "id": "6458ad29",
   "metadata": {},
   "source": [
    "# Rental Statuses"
   ]
  },
  {
   "cell_type": "code",
   "execution_count": null,
   "id": "ef7dac5a",
   "metadata": {
    "ExecuteTime": {
     "end_time": "2022-02-25T22:38:16.822719Z",
     "start_time": "2022-02-25T22:38:14.095Z"
    }
   },
   "outputs": [],
   "source": [
    "from detroit_geos import get_detroit_census_geos\n",
    "from util_detroit import point_to_geo_id\n",
    "import geopandas as gpd\n",
    "from features.out_of_state_rental_ownership import OutOfStateRentalOwnership"
   ]
  },
  {
   "cell_type": "code",
   "execution_count": null,
   "id": "812d211f",
   "metadata": {
    "ExecuteTime": {
     "end_time": "2022-02-25T22:38:16.824438Z",
     "start_time": "2022-02-25T22:38:14.096Z"
    }
   },
   "outputs": [],
   "source": [
    "r = OutOfStateRentalOwnership(decennial_census_year=2010)\n",
    "f = r.construct_feature(target_geo_grain='tract')"
   ]
  },
  {
   "cell_type": "markdown",
   "id": "d2f68d33",
   "metadata": {},
   "source": [
    "# Income"
   ]
  },
  {
   "cell_type": "code",
   "execution_count": null,
   "id": "cec27eea",
   "metadata": {
    "ExecuteTime": {
     "end_time": "2022-02-25T22:38:16.825726Z",
     "start_time": "2022-02-25T22:38:14.097Z"
    }
   },
   "outputs": [],
   "source": [
    "from features.feature_constructor import Feature\n",
    "from features.income import Income\n",
    "from detroit_geos import get_detroit_census_geos\n",
    "from features.feature_constructor import GEO_GRAIN_LEN_MAP"
   ]
  },
  {
   "cell_type": "code",
   "execution_count": null,
   "id": "1659d996",
   "metadata": {
    "ExecuteTime": {
     "end_time": "2022-02-25T22:38:16.826726Z",
     "start_time": "2022-02-25T22:38:14.098Z"
    }
   },
   "outputs": [],
   "source": [
    "ftr = Income()\n",
    "ftr.load_data()\n",
    "ftr.cleanse_data()"
   ]
  },
  {
   "cell_type": "code",
   "execution_count": null,
   "id": "aeaf5bb2",
   "metadata": {
    "ExecuteTime": {
     "end_time": "2022-02-25T22:38:16.828025Z",
     "start_time": "2022-02-25T22:38:14.099Z"
    }
   },
   "outputs": [],
   "source": [
    "f = ftr.construct_feature('block')"
   ]
  },
  {
   "cell_type": "code",
   "execution_count": null,
   "id": "c0183267",
   "metadata": {
    "ExecuteTime": {
     "end_time": "2022-02-25T22:38:16.829332Z",
     "start_time": "2022-02-25T22:38:14.100Z"
    }
   },
   "outputs": [],
   "source": [
    "df.plot('per_capita_income',legend=True)"
   ]
  },
  {
   "cell_type": "markdown",
   "id": "7d27ad2b",
   "metadata": {},
   "source": [
    "# Bus Stops"
   ]
  },
  {
   "cell_type": "code",
   "execution_count": null,
   "id": "209f37a1",
   "metadata": {
    "ExecuteTime": {
     "end_time": "2022-02-25T22:39:45.117313Z",
     "start_time": "2022-02-25T22:39:45.109683Z"
    }
   },
   "outputs": [],
   "source": [
    "from features.smart_bus_stops import smartbusstops\n",
    "from features.ddot_bus_stops import ddotbusstops\n",
    "from detroit_geos import get_detroit_census_geos\n",
    "from features.feature_constructor import GEO_GRAIN_LEN_MAP"
   ]
  },
  {
   "cell_type": "code",
   "execution_count": null,
   "id": "b51ecb6e",
   "metadata": {
    "ExecuteTime": {
     "end_time": "2022-02-25T22:39:45.534186Z",
     "start_time": "2022-02-25T22:39:45.531664Z"
    }
   },
   "outputs": [],
   "source": [
    "smart = smartbusstops()\n",
    "ddot = ddotbusstops()"
   ]
  },
  {
   "cell_type": "code",
   "execution_count": null,
   "id": "b192ac60",
   "metadata": {
    "ExecuteTime": {
     "end_time": "2022-02-25T22:39:48.730380Z",
     "start_time": "2022-02-25T22:39:45.845965Z"
    }
   },
   "outputs": [],
   "source": [
    "smart.load_data()\n",
    "ddot.load_data()\n",
    "smart.cleanse_data()\n",
    "ddot.cleanse_data()"
   ]
  },
  {
   "cell_type": "code",
   "execution_count": null,
   "id": "21d64c06",
   "metadata": {
    "ExecuteTime": {
     "end_time": "2022-02-25T22:39:50.903871Z",
     "start_time": "2022-02-25T22:39:48.732554Z"
    }
   },
   "outputs": [],
   "source": [
    "smart_block = smart.construct_feature('block')\n",
    "ddot_block = ddot.construct_feature('block')"
   ]
  },
  {
   "cell_type": "markdown",
   "id": "318cc5ff",
   "metadata": {},
   "source": [
    "# Greenlight"
   ]
  },
  {
   "cell_type": "code",
   "execution_count": null,
   "id": "2a47984a",
   "metadata": {
    "ExecuteTime": {
     "end_time": "2022-02-25T23:59:50.520701Z",
     "start_time": "2022-02-25T23:59:49.553322Z"
    },
    "scrolled": false
   },
   "outputs": [],
   "source": [
    "from features.project_green_light_locations import projectgreenlightlocations\n",
    "from detroit_geos import get_detroit_census_geos\n",
    "from features.feature_constructor import GEO_GRAIN_LEN_MAP"
   ]
  },
  {
   "cell_type": "code",
   "execution_count": null,
   "id": "921afc65",
   "metadata": {
    "ExecuteTime": {
     "end_time": "2022-02-25T23:59:50.526261Z",
     "start_time": "2022-02-25T23:59:50.523042Z"
    }
   },
   "outputs": [],
   "source": [
    "green = projectgreenlightlocations()"
   ]
  },
  {
   "cell_type": "code",
   "execution_count": null,
   "id": "497b0646",
   "metadata": {
    "ExecuteTime": {
     "end_time": "2022-02-25T23:59:52.042872Z",
     "start_time": "2022-02-25T23:59:50.529370Z"
    }
   },
   "outputs": [],
   "source": [
    "green.load_data()\n",
    "green.cleanse_data()"
   ]
  },
  {
   "cell_type": "code",
   "execution_count": null,
   "id": "88c6d364",
   "metadata": {
    "ExecuteTime": {
     "end_time": "2022-02-25T23:59:53.190983Z",
     "start_time": "2022-02-25T23:59:52.045151Z"
    }
   },
   "outputs": [],
   "source": [
    "green_block = green.construct_feature('block')"
   ]
  },
  {
   "cell_type": "code",
   "execution_count": null,
   "id": "5b5d978d",
   "metadata": {
    "ExecuteTime": {
     "end_time": "2022-02-25T23:59:53.229644Z",
     "start_time": "2022-02-25T23:59:53.192916Z"
    }
   },
   "outputs": [],
   "source": [
    "green.data.head()"
   ]
  },
  {
   "cell_type": "markdown",
   "id": "f28fdb89",
   "metadata": {},
   "source": [
    "# Rentals"
   ]
  },
  {
   "cell_type": "code",
   "execution_count": 1,
   "id": "c939b31d",
   "metadata": {
    "ExecuteTime": {
     "end_time": "2022-02-28T18:45:28.401724Z",
     "start_time": "2022-02-28T18:45:27.970769Z"
    }
   },
   "outputs": [],
   "source": [
    "from features.rental_statuses import rentalstatuses\n",
    "from detroit_geos import get_detroit_census_geos\n",
    "from features.feature_constructor import GEO_GRAIN_LEN_MAP"
   ]
  },
  {
   "cell_type": "code",
   "execution_count": 4,
   "id": "1c03dbda",
   "metadata": {
    "ExecuteTime": {
     "end_time": "2022-02-28T19:48:45.795149Z",
     "start_time": "2022-02-28T19:48:36.350310Z"
    }
   },
   "outputs": [
    {
     "name": "stdout",
     "output_type": "stream",
     "text": [
      "Loaded 15,884 rows of data\n",
      "clean data has 3 rows\n",
      "cleansed data validator: geo_id looks good\n",
      "Generate index not run, or was run on the wrong grain. Creating index on block grain\n"
     ]
    }
   ],
   "source": [
    "rentals = rentalstatuses()\n",
    "rentals.load_data()\n",
    "rentals.cleanse_data()\n",
    "rentals = rentals.construct_feature('block')"
   ]
  },
  {
   "cell_type": "code",
   "execution_count": 5,
   "id": "3755ed41",
   "metadata": {
    "ExecuteTime": {
     "end_time": "2022-02-28T19:48:45.918189Z",
     "start_time": "2022-02-28T19:48:45.893112Z"
    }
   },
   "outputs": [
    {
     "data": {
      "text/plain": [
       "block\n",
       "2.616354e+14    1\n",
       "2.616354e+14    2\n",
       "Name: oid, dtype: int64"
      ]
     },
     "execution_count": 5,
     "metadata": {},
     "output_type": "execute_result"
    }
   ],
   "source": [
    "rentals"
   ]
  },
  {
   "cell_type": "markdown",
   "id": "d7a444a7",
   "metadata": {},
   "source": [
    "# DFD Fire Stations"
   ]
  },
  {
   "cell_type": "code",
   "execution_count": 1,
   "id": "9dc74e47",
   "metadata": {
    "ExecuteTime": {
     "end_time": "2022-02-26T22:06:00.234929Z",
     "start_time": "2022-02-26T22:05:59.281925Z"
    }
   },
   "outputs": [
    {
     "name": "stderr",
     "output_type": "stream",
     "text": [
      "/Users/ktseng37/git_dev/datatoolkit/toolkit/lib/python3.7/site-packages/geopandas/_compat.py:115: UserWarning: The Shapely GEOS version (3.8.0-CAPI-1.13.1 ) is incompatible with the GEOS version PyGEOS was compiled with (3.10.1-CAPI-1.16.0). Conversions between both will be slow.\n",
      "  shapely_geos_version, geos_capi_version_string\n"
     ]
    }
   ],
   "source": [
    "from features.dfd_fire_stations import dfdfirestations\n",
    "from detroit_geos import get_detroit_census_geos\n",
    "from features.feature_constructor import GEO_GRAIN_LEN_MAP"
   ]
  },
  {
   "cell_type": "code",
   "execution_count": 2,
   "id": "214da459",
   "metadata": {
    "ExecuteTime": {
     "end_time": "2022-02-26T22:06:02.706194Z",
     "start_time": "2022-02-26T22:06:00.236954Z"
    }
   },
   "outputs": [
    {
     "name": "stdout",
     "output_type": "stream",
     "text": [
      "Loaded 39 rows of data\n",
      "clean data has 39 rows\n",
      "cleansed data validator: geo_id looks good\n",
      "Generate index not run, or was run on the wrong grain. Creating index on block grain\n"
     ]
    }
   ],
   "source": [
    "fire_stations = dfdfirestations()\n",
    "fire_stations.load_data()\n",
    "fire_stations.cleanse_data()\n",
    "fire_stations = fire_stations.construct_feature('block')"
   ]
  },
  {
   "cell_type": "code",
   "execution_count": 10,
   "id": "88eaf0c2",
   "metadata": {
    "ExecuteTime": {
     "end_time": "2022-02-26T22:07:21.864044Z",
     "start_time": "2022-02-26T22:07:21.856212Z"
    }
   },
   "outputs": [
    {
     "data": {
      "text/plain": [
       "array([ 1., nan])"
      ]
     },
     "execution_count": 10,
     "metadata": {},
     "output_type": "execute_result"
    }
   ],
   "source": [
    "np.unique(fire_stations)"
   ]
  },
  {
   "cell_type": "code",
   "execution_count": null,
   "id": "47b47da3",
   "metadata": {},
   "outputs": [],
   "source": []
  }
 ],
 "metadata": {
  "kernelspec": {
   "display_name": "Python 3 (ipykernel)",
   "language": "python",
   "name": "python3"
  },
  "language_info": {
   "codemirror_mode": {
    "name": "ipython",
    "version": 3
   },
   "file_extension": ".py",
   "mimetype": "text/x-python",
   "name": "python",
   "nbconvert_exporter": "python",
   "pygments_lexer": "ipython3",
   "version": "3.8.2"
  },
  "toc": {
   "base_numbering": 1,
   "nav_menu": {},
   "number_sections": true,
   "sideBar": true,
   "skip_h1_title": false,
   "title_cell": "Table of Contents",
   "title_sidebar": "Contents",
   "toc_cell": false,
   "toc_position": {},
   "toc_section_display": true,
   "toc_window_display": false
  },
  "varInspector": {
   "cols": {
    "lenName": 16,
    "lenType": 16,
    "lenVar": 40
   },
   "kernels_config": {
    "python": {
     "delete_cmd_postfix": "",
     "delete_cmd_prefix": "del ",
     "library": "var_list.py",
     "varRefreshCmd": "print(var_dic_list())"
    },
    "r": {
     "delete_cmd_postfix": ") ",
     "delete_cmd_prefix": "rm(",
     "library": "var_list.r",
     "varRefreshCmd": "cat(var_dic_list()) "
    }
   },
   "types_to_exclude": [
    "module",
    "function",
    "builtin_function_or_method",
    "instance",
    "_Feature"
   ],
   "window_display": false
  }
 },
 "nbformat": 4,
 "nbformat_minor": 5
}
